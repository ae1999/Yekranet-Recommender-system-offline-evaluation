{
 "cells": [
  {
   "cell_type": "code",
   "execution_count": 1,
   "metadata": {},
   "outputs": [],
   "source": [
    "import pandas as pd\n",
    "import numpy as np\n",
    "import matplotlib.pyplot as plt\n",
    "from matplotlib import colors\n",
    "from matplotlib.ticker import PercentFormatter\n",
    "from tqdm import tqdm\n",
    "\n",
    "import timeit\n",
    "import time\n",
    "import math\n",
    "\n",
    "# ./indexer\n",
    "from indexer import AppendIndexer\n",
    "import ALS\n",
    "\n",
    "# Annoy\n",
    "from annoy import AnnoyIndex\n",
    "\n",
    "#SKLearn \n",
    "from sklearn.neighbors import NearestNeighbors\n",
    "from sklearn.metrics import average_precision_score\n",
    "from sklearn.metrics import pairwise_distances\n",
    "\n",
    "# scipy\n",
    "from scipy.spatial import distance\n",
    "from scipy.sparse import lil_matrix"
   ]
  },
  {
   "cell_type": "code",
   "execution_count": 2,
   "metadata": {},
   "outputs": [],
   "source": [
    "def calc_acc(annoy_indices, knn_indices, k):\n",
    "    aa = []\n",
    "    for i in range(len(annoy_indices)):\n",
    "        b = []\n",
    "        for j in annoy_indices[i][1:]:\n",
    "            if j in knn_indices[i][:k]:\n",
    "                b.append(1)\n",
    "            else:\n",
    "                b.append(0)\n",
    "        aa.append(b)\n",
    "    res2 = []\n",
    "    for a in aa:\n",
    "        acc2 = 0\n",
    "        for i in range(len(a)):\n",
    "            acc2 += a[i]\n",
    "        if not len(a):\n",
    "            res2.append(0)\n",
    "        else:\n",
    "            res2.append(acc2/len(a))\n",
    "    return np.array(res2).mean()\n",
    "def calc_nDCG(annoy_indices, knn_indices, k, discount = 3):\n",
    "    aa = []\n",
    "    for i in range(len(annoy_indices)):\n",
    "        b = []\n",
    "        for j in annoy_indices[i][1:]:\n",
    "            if j in knn_indices[i][:k]:\n",
    "                b.append(1)\n",
    "            else:\n",
    "                b.append(0)\n",
    "        aa.append(b)\n",
    "    res = []\n",
    "    for a in aa:\n",
    "        acc = 0\n",
    "        for i in range(len(a)):\n",
    "            acc += a[i]/math.log(i+6, 7)\n",
    "        if not len(a):\n",
    "            res.append(0)\n",
    "        else:\n",
    "            res.append(acc/len(a))\n",
    "    return np.array(res).mean()\n"
   ]
  },
  {
   "cell_type": "markdown",
   "metadata": {},
   "source": [
    "## loading data"
   ]
  },
  {
   "cell_type": "code",
   "execution_count": 3,
   "metadata": {},
   "outputs": [
    {
     "data": {
      "text/html": [
       "<div>\n",
       "<style scoped>\n",
       "    .dataframe tbody tr th:only-of-type {\n",
       "        vertical-align: middle;\n",
       "    }\n",
       "\n",
       "    .dataframe tbody tr th {\n",
       "        vertical-align: top;\n",
       "    }\n",
       "\n",
       "    .dataframe thead th {\n",
       "        text-align: right;\n",
       "    }\n",
       "</style>\n",
       "<table border=\"1\" class=\"dataframe\">\n",
       "  <thead>\n",
       "    <tr style=\"text-align: right;\">\n",
       "      <th></th>\n",
       "      <th>id</th>\n",
       "      <th>created</th>\n",
       "      <th>content_vector</th>\n",
       "      <th>title</th>\n",
       "      <th>cleaned_url</th>\n",
       "      <th>website_id</th>\n",
       "      <th>included</th>\n",
       "      <th>is_amp</th>\n",
       "      <th>has_image_meta</th>\n",
       "      <th>has_title_meta</th>\n",
       "      <th>page_id</th>\n",
       "      <th>subdomain_id</th>\n",
       "      <th>title_vector</th>\n",
       "      <th>image_id</th>\n",
       "      <th>cats</th>\n",
       "    </tr>\n",
       "  </thead>\n",
       "  <tbody>\n",
       "    <tr>\n",
       "      <th>0</th>\n",
       "      <td>761039</td>\n",
       "      <td>2020-08-09 03:40:44.820172+04:30</td>\n",
       "      <td>{0.264251947402954,-0.644542038440704,-0.18412...</td>\n",
       "      <td>یادداشت‌های علم، شنبه ۲۴ مرداد ۱۳۴۹: ایادی ما ...</td>\n",
       "      <td>entekhab.ir/fa/news/495749/%DB%8C%D8%A7%D8%AF%...</td>\n",
       "      <td>2</td>\n",
       "      <td>t</td>\n",
       "      <td>f</td>\n",
       "      <td>f</td>\n",
       "      <td>t</td>\n",
       "      <td>28054354</td>\n",
       "      <td>73</td>\n",
       "      <td>{3.626948595047,0.779965162277222,0.8395900726...</td>\n",
       "      <td>602.0</td>\n",
       "      <td>{23}</td>\n",
       "    </tr>\n",
       "    <tr>\n",
       "      <th>1</th>\n",
       "      <td>2754181</td>\n",
       "      <td>2020-09-26 03:50:01.442172+03:30</td>\n",
       "      <td>{0.273704349994659,-0.830473184585571,-0.28864...</td>\n",
       "      <td>ايران همچنان همان امپراتوری پارس است /  عربستا...</td>\n",
       "      <td>entekhab.ir/fa/news/266708/%D8%A7%D9%8A%D8%B1%...</td>\n",
       "      <td>2</td>\n",
       "      <td>t</td>\n",
       "      <td>f</td>\n",
       "      <td>f</td>\n",
       "      <td>t</td>\n",
       "      <td>37476083</td>\n",
       "      <td>73</td>\n",
       "      <td>{1.13415098190308,-1.20623469352722,-0.6013424...</td>\n",
       "      <td>621.0</td>\n",
       "      <td>{15}</td>\n",
       "    </tr>\n",
       "    <tr>\n",
       "      <th>2</th>\n",
       "      <td>4286495</td>\n",
       "      <td>2020-10-03 10:35:21.85205+03:30</td>\n",
       "      <td>{0.853439688682556,-0.564931094646454,-0.37323...</td>\n",
       "      <td>همه آنچه برای ترامپ در شب گذشته رخ داد؛ از تنگ...</td>\n",
       "      <td>entekhab.ir/fa/news/577730/%D9%87%D9%85%D9%87-...</td>\n",
       "      <td>2</td>\n",
       "      <td>t</td>\n",
       "      <td>f</td>\n",
       "      <td>t</td>\n",
       "      <td>t</td>\n",
       "      <td>38017087</td>\n",
       "      <td>73</td>\n",
       "      <td>{2.13742733001709,-1.12283325195312,-0.3791791...</td>\n",
       "      <td>1530910.0</td>\n",
       "      <td>{15}</td>\n",
       "    </tr>\n",
       "    <tr>\n",
       "      <th>3</th>\n",
       "      <td>4875542</td>\n",
       "      <td>2020-10-10 09:40:15.864975+03:30</td>\n",
       "      <td>{1.15192973613739,-0.138078510761261,0.6881629...</td>\n",
       "      <td>پیکر ۲ جانباخته ریزش ساختمان در در خیابان ابوذ...</td>\n",
       "      <td>entekhab.ir/fa/news/578944/%D9%BE%DB%8C%DA%A9%...</td>\n",
       "      <td>2</td>\n",
       "      <td>t</td>\n",
       "      <td>f</td>\n",
       "      <td>t</td>\n",
       "      <td>t</td>\n",
       "      <td>38559541</td>\n",
       "      <td>73</td>\n",
       "      <td>{0.230344951152802,0.131352335214615,0.9686161...</td>\n",
       "      <td>1758716.0</td>\n",
       "      <td>{21}</td>\n",
       "    </tr>\n",
       "    <tr>\n",
       "      <th>4</th>\n",
       "      <td>536136</td>\n",
       "      <td>2020-08-09 03:29:13.257136+04:30</td>\n",
       "      <td>{0.704237043857574,-1.47816872596741,0.4682139...</td>\n",
       "      <td>7تن گوشت چرخ کرده با سنگدون مرغ یخ زده و چربی ...</td>\n",
       "      <td>entekhab.ir/fa/news/434541/7%D8%AA%D9%86-%DA%A...</td>\n",
       "      <td>2</td>\n",
       "      <td>t</td>\n",
       "      <td>f</td>\n",
       "      <td>t</td>\n",
       "      <td>t</td>\n",
       "      <td>29837398</td>\n",
       "      <td>73</td>\n",
       "      <td>{3.626948595047,0.779965162277222,0.8395900726...</td>\n",
       "      <td>750.0</td>\n",
       "      <td>{22}</td>\n",
       "    </tr>\n",
       "    <tr>\n",
       "      <th>5</th>\n",
       "      <td>926557</td>\n",
       "      <td>2020-08-09 03:48:27.715412+04:30</td>\n",
       "      <td>{-0.272317439317703,0.354126185178757,0.105726...</td>\n",
       "      <td>ویدیو / دری نجف آبادی: ممکن است FATF از دستور ...</td>\n",
       "      <td>entekhab.ir/fa/news/553636/%D9%88%DB%8C%D8%AF%...</td>\n",
       "      <td>2</td>\n",
       "      <td>t</td>\n",
       "      <td>f</td>\n",
       "      <td>f</td>\n",
       "      <td>t</td>\n",
       "      <td>27251139</td>\n",
       "      <td>73</td>\n",
       "      <td>{3.626948595047,0.779965162277222,0.8395900726...</td>\n",
       "      <td>NaN</td>\n",
       "      <td>{23}</td>\n",
       "    </tr>\n",
       "    <tr>\n",
       "      <th>6</th>\n",
       "      <td>2679316</td>\n",
       "      <td>2020-09-19 21:33:51.475395+04:30</td>\n",
       "      <td>{0.808205783367157,-0.969625532627106,-0.40755...</td>\n",
       "      <td>تا زمان برگزاری انتخابات آمریکا و بیان صریح مو...</td>\n",
       "      <td>entekhab.ir/fa/news/575411/%D8%AA%D8%A7-%D8%B2...</td>\n",
       "      <td>2</td>\n",
       "      <td>t</td>\n",
       "      <td>f</td>\n",
       "      <td>t</td>\n",
       "      <td>t</td>\n",
       "      <td>36975475</td>\n",
       "      <td>73</td>\n",
       "      <td>{1.24864614009857,-1.19327878952026,-0.5599737...</td>\n",
       "      <td>1324.0</td>\n",
       "      <td>{15}</td>\n",
       "    </tr>\n",
       "    <tr>\n",
       "      <th>7</th>\n",
       "      <td>4286727</td>\n",
       "      <td>2020-10-03 10:45:24.947041+03:30</td>\n",
       "      <td>{0.853987216949463,-0.202528178691864,-0.49360...</td>\n",
       "      <td>رئیس پلیس تهران: ارسال اشتباهی پیامک‌های حجاب ...</td>\n",
       "      <td>entekhab.ir/fa/news/577736/%D8%B1%D8%A6%DB%8C%...</td>\n",
       "      <td>2</td>\n",
       "      <td>t</td>\n",
       "      <td>f</td>\n",
       "      <td>t</td>\n",
       "      <td>t</td>\n",
       "      <td>38018045</td>\n",
       "      <td>73</td>\n",
       "      <td>{1.85497891902924,0.154068395495415,-0.8957029...</td>\n",
       "      <td>1531042.0</td>\n",
       "      <td>{15}</td>\n",
       "    </tr>\n",
       "    <tr>\n",
       "      <th>8</th>\n",
       "      <td>464068</td>\n",
       "      <td>2020-08-09 03:25:58.532063+04:30</td>\n",
       "      <td>{-1.08582651615143,0.0488543212413788,0.038908...</td>\n",
       "      <td>ویدیو / توضیحات رئیس دفتر رئیس جمهور درمورد سن...</td>\n",
       "      <td>entekhab.ir/fa/news/560545/%D9%88%DB%8C%D8%AF%...</td>\n",
       "      <td>2</td>\n",
       "      <td>t</td>\n",
       "      <td>f</td>\n",
       "      <td>f</td>\n",
       "      <td>t</td>\n",
       "      <td>30691160</td>\n",
       "      <td>73</td>\n",
       "      <td>{3.626948595047,0.779965162277222,0.8395900726...</td>\n",
       "      <td>NaN</td>\n",
       "      <td>{23}</td>\n",
       "    </tr>\n",
       "    <tr>\n",
       "      <th>9</th>\n",
       "      <td>502039</td>\n",
       "      <td>2020-08-09 03:27:52.377476+04:30</td>\n",
       "      <td>{0.598500967025757,-0.519518435001373,-0.30455...</td>\n",
       "      <td>دیگر در تهران تخت خالی برای بستری بیمار کرونای...</td>\n",
       "      <td>entekhab.ir/fa/news/559856/%D8%AF%DB%8C%DA%AF%...</td>\n",
       "      <td>2</td>\n",
       "      <td>t</td>\n",
       "      <td>f</td>\n",
       "      <td>t</td>\n",
       "      <td>t</td>\n",
       "      <td>30236589</td>\n",
       "      <td>73</td>\n",
       "      <td>{3.626948595047,0.779965162277222,0.8395900726...</td>\n",
       "      <td>1720.0</td>\n",
       "      <td>{-1}</td>\n",
       "    </tr>\n",
       "    <tr>\n",
       "      <th>10</th>\n",
       "      <td>2679265</td>\n",
       "      <td>2020-09-19 21:33:51.383559+04:30</td>\n",
       "      <td>{0.626656830310822,-0.833987236022949,-0.14109...</td>\n",
       "      <td>زنانگی نهفته و آزار جنسی / چرا تنها در آزار جن...</td>\n",
       "      <td>entekhab.ir/fa/news/575391/%D8%B2%D9%86%D8%A7%...</td>\n",
       "      <td>2</td>\n",
       "      <td>t</td>\n",
       "      <td>f</td>\n",
       "      <td>f</td>\n",
       "      <td>t</td>\n",
       "      <td>36964218</td>\n",
       "      <td>73</td>\n",
       "      <td>{1.34037363529205,-1.04718887805939,-0.6416489...</td>\n",
       "      <td>NaN</td>\n",
       "      <td>{37}</td>\n",
       "    </tr>\n",
       "    <tr>\n",
       "      <th>11</th>\n",
       "      <td>2679335</td>\n",
       "      <td>2020-09-19 21:33:51.495403+04:30</td>\n",
       "      <td>{1.12349617481232,-1.7834061384201,-0.52237802...</td>\n",
       "      <td>منابع عراقی: یکی از خطرناک‌ترین سرکرده‌های داع...</td>\n",
       "      <td>entekhab.ir/fa/news/575468/%D9%85%D9%86%D8%A7%...</td>\n",
       "      <td>2</td>\n",
       "      <td>t</td>\n",
       "      <td>f</td>\n",
       "      <td>t</td>\n",
       "      <td>t</td>\n",
       "      <td>36981382</td>\n",
       "      <td>73</td>\n",
       "      <td>{1.73352956771851,-1.97286546230316,-1.2237212...</td>\n",
       "      <td>1335.0</td>\n",
       "      <td>{15}</td>\n",
       "    </tr>\n",
       "    <tr>\n",
       "      <th>12</th>\n",
       "      <td>2679336</td>\n",
       "      <td>2020-09-19 21:33:51.497447+04:30</td>\n",
       "      <td>{-0.128071650862694,-1.17892694473267,-0.83446...</td>\n",
       "      <td>تلاش آمریکا برای کشاندن لبنان به روند سازش با ...</td>\n",
       "      <td>entekhab.ir/fa/news/575470/%D8%AA%D9%84%D8%A7%...</td>\n",
       "      <td>2</td>\n",
       "      <td>t</td>\n",
       "      <td>f</td>\n",
       "      <td>t</td>\n",
       "      <td>t</td>\n",
       "      <td>36981754</td>\n",
       "      <td>73</td>\n",
       "      <td>{0.268955439329147,-2.4835684299469,-1.7646369...</td>\n",
       "      <td>1336.0</td>\n",
       "      <td>{15}</td>\n",
       "    </tr>\n",
       "    <tr>\n",
       "      <th>13</th>\n",
       "      <td>444553</td>\n",
       "      <td>2020-08-09 03:24:55.313982+04:30</td>\n",
       "      <td>{-0.536924719810486,-0.707858860492706,-0.4412...</td>\n",
       "      <td>سرانجام مذاکره‌کنندگان برجام/ نمایندگان کشورما...</td>\n",
       "      <td>entekhab.ir/fa/news/469852/%D8%B3%D8%B1%D8%A7%...</td>\n",
       "      <td>2</td>\n",
       "      <td>t</td>\n",
       "      <td>f</td>\n",
       "      <td>t</td>\n",
       "      <td>t</td>\n",
       "      <td>31010062</td>\n",
       "      <td>73</td>\n",
       "      <td>{3.626948595047,0.779965162277222,0.8395900726...</td>\n",
       "      <td>1829.0</td>\n",
       "      <td>{15}</td>\n",
       "    </tr>\n",
       "    <tr>\n",
       "      <th>14</th>\n",
       "      <td>565282</td>\n",
       "      <td>2020-08-09 03:30:45.27217+04:30</td>\n",
       "      <td>{0.354604035615921,-0.947246968746185,-0.62237...</td>\n",
       "      <td>چین: تحریم تسلیحاتی علیه ایران باید برچیده شود</td>\n",
       "      <td>entekhab.ir/fa/news/558970/%DA%86%DB%8C%D9%86-...</td>\n",
       "      <td>2</td>\n",
       "      <td>t</td>\n",
       "      <td>f</td>\n",
       "      <td>t</td>\n",
       "      <td>t</td>\n",
       "      <td>29604777</td>\n",
       "      <td>73</td>\n",
       "      <td>{3.626948595047,0.779965162277222,0.8395900726...</td>\n",
       "      <td>1389.0</td>\n",
       "      <td>{15}</td>\n",
       "    </tr>\n",
       "    <tr>\n",
       "      <th>15</th>\n",
       "      <td>571912</td>\n",
       "      <td>2020-08-09 03:31:11.099022+04:30</td>\n",
       "      <td>{0.974454462528229,-0.760468006134033,-0.33737...</td>\n",
       "      <td>تخت‌های کرونایی بیمارستان‌های دانشگاه علوم پزش...</td>\n",
       "      <td>entekhab.ir/fa/news/558858/%D8%AA%D8%AE%D8%AA%...</td>\n",
       "      <td>2</td>\n",
       "      <td>t</td>\n",
       "      <td>f</td>\n",
       "      <td>t</td>\n",
       "      <td>t</td>\n",
       "      <td>29559450</td>\n",
       "      <td>73</td>\n",
       "      <td>{3.626948595047,0.779965162277222,0.8395900726...</td>\n",
       "      <td>1420.0</td>\n",
       "      <td>{14}</td>\n",
       "    </tr>\n",
       "    <tr>\n",
       "      <th>16</th>\n",
       "      <td>628389</td>\n",
       "      <td>2020-08-09 03:33:39.279101+04:30</td>\n",
       "      <td>{0.386123269796371,-1.14280593395233,-0.343138...</td>\n",
       "      <td>ترامپ: بولتون دیوانه است / او کارش را خوب انجا...</td>\n",
       "      <td>entekhab.ir/fa/news/557981/%D8%AA%D8%B1%D8%A7%...</td>\n",
       "      <td>2</td>\n",
       "      <td>t</td>\n",
       "      <td>f</td>\n",
       "      <td>t</td>\n",
       "      <td>t</td>\n",
       "      <td>29094620</td>\n",
       "      <td>73</td>\n",
       "      <td>{3.626948595047,0.779965162277222,0.8395900726...</td>\n",
       "      <td>2430.0</td>\n",
       "      <td>{15}</td>\n",
       "    </tr>\n",
       "    <tr>\n",
       "      <th>17</th>\n",
       "      <td>673569</td>\n",
       "      <td>2020-08-09 03:36:09.238384+04:30</td>\n",
       "      <td>{1.3070216178894,-0.0621618740260601,0.4277252...</td>\n",
       "      <td>مدیرعامل اسبق شرکت ملی گاز: با برنامه ریزی انج...</td>\n",
       "      <td>entekhab.ir/fa/news/557061/%D9%85%D8%AF%DB%8C%...</td>\n",
       "      <td>2</td>\n",
       "      <td>t</td>\n",
       "      <td>f</td>\n",
       "      <td>t</td>\n",
       "      <td>t</td>\n",
       "      <td>28689191</td>\n",
       "      <td>73</td>\n",
       "      <td>{3.626948595047,0.779965162277222,0.8395900726...</td>\n",
       "      <td>1521.0</td>\n",
       "      <td>{11}</td>\n",
       "    </tr>\n",
       "    <tr>\n",
       "      <th>18</th>\n",
       "      <td>400574</td>\n",
       "      <td>2020-08-09 03:22:59.303666+04:30</td>\n",
       "      <td>{1.3474588394165,-0.474584966897964,-0.6909079...</td>\n",
       "      <td>Covid-19 ممکن است برای بار دوم شدیدتر هم بشود</td>\n",
       "      <td>entekhab.ir/fa/news/561944/covid-19-%D9%85%D9%...</td>\n",
       "      <td>2</td>\n",
       "      <td>t</td>\n",
       "      <td>f</td>\n",
       "      <td>t</td>\n",
       "      <td>t</td>\n",
       "      <td>31566416</td>\n",
       "      <td>73</td>\n",
       "      <td>{3.626948595047,0.779965162277222,0.8395900726...</td>\n",
       "      <td>1675.0</td>\n",
       "      <td>{14}</td>\n",
       "    </tr>\n",
       "    <tr>\n",
       "      <th>19</th>\n",
       "      <td>530544</td>\n",
       "      <td>2020-08-09 03:29:10.86648+04:30</td>\n",
       "      <td>{0.960443079471588,-0.928422391414642,0.120606...</td>\n",
       "      <td>سردار جلالی: رعایت نکردن مسائل ایمنی،  علت حاد...</td>\n",
       "      <td>entekhab.ir/fa/news/559457/%D8%B3%D8%B1%D8%AF%...</td>\n",
       "      <td>2</td>\n",
       "      <td>t</td>\n",
       "      <td>f</td>\n",
       "      <td>t</td>\n",
       "      <td>t</td>\n",
       "      <td>29897857</td>\n",
       "      <td>73</td>\n",
       "      <td>{3.626948595047,0.779965162277222,0.8395900726...</td>\n",
       "      <td>1695.0</td>\n",
       "      <td>{15}</td>\n",
       "    </tr>\n",
       "  </tbody>\n",
       "</table>\n",
       "</div>"
      ],
      "text/plain": [
       "         id                           created  \\\n",
       "0    761039  2020-08-09 03:40:44.820172+04:30   \n",
       "1   2754181  2020-09-26 03:50:01.442172+03:30   \n",
       "2   4286495   2020-10-03 10:35:21.85205+03:30   \n",
       "3   4875542  2020-10-10 09:40:15.864975+03:30   \n",
       "4    536136  2020-08-09 03:29:13.257136+04:30   \n",
       "5    926557  2020-08-09 03:48:27.715412+04:30   \n",
       "6   2679316  2020-09-19 21:33:51.475395+04:30   \n",
       "7   4286727  2020-10-03 10:45:24.947041+03:30   \n",
       "8    464068  2020-08-09 03:25:58.532063+04:30   \n",
       "9    502039  2020-08-09 03:27:52.377476+04:30   \n",
       "10  2679265  2020-09-19 21:33:51.383559+04:30   \n",
       "11  2679335  2020-09-19 21:33:51.495403+04:30   \n",
       "12  2679336  2020-09-19 21:33:51.497447+04:30   \n",
       "13   444553  2020-08-09 03:24:55.313982+04:30   \n",
       "14   565282   2020-08-09 03:30:45.27217+04:30   \n",
       "15   571912  2020-08-09 03:31:11.099022+04:30   \n",
       "16   628389  2020-08-09 03:33:39.279101+04:30   \n",
       "17   673569  2020-08-09 03:36:09.238384+04:30   \n",
       "18   400574  2020-08-09 03:22:59.303666+04:30   \n",
       "19   530544   2020-08-09 03:29:10.86648+04:30   \n",
       "\n",
       "                                       content_vector  \\\n",
       "0   {0.264251947402954,-0.644542038440704,-0.18412...   \n",
       "1   {0.273704349994659,-0.830473184585571,-0.28864...   \n",
       "2   {0.853439688682556,-0.564931094646454,-0.37323...   \n",
       "3   {1.15192973613739,-0.138078510761261,0.6881629...   \n",
       "4   {0.704237043857574,-1.47816872596741,0.4682139...   \n",
       "5   {-0.272317439317703,0.354126185178757,0.105726...   \n",
       "6   {0.808205783367157,-0.969625532627106,-0.40755...   \n",
       "7   {0.853987216949463,-0.202528178691864,-0.49360...   \n",
       "8   {-1.08582651615143,0.0488543212413788,0.038908...   \n",
       "9   {0.598500967025757,-0.519518435001373,-0.30455...   \n",
       "10  {0.626656830310822,-0.833987236022949,-0.14109...   \n",
       "11  {1.12349617481232,-1.7834061384201,-0.52237802...   \n",
       "12  {-0.128071650862694,-1.17892694473267,-0.83446...   \n",
       "13  {-0.536924719810486,-0.707858860492706,-0.4412...   \n",
       "14  {0.354604035615921,-0.947246968746185,-0.62237...   \n",
       "15  {0.974454462528229,-0.760468006134033,-0.33737...   \n",
       "16  {0.386123269796371,-1.14280593395233,-0.343138...   \n",
       "17  {1.3070216178894,-0.0621618740260601,0.4277252...   \n",
       "18  {1.3474588394165,-0.474584966897964,-0.6909079...   \n",
       "19  {0.960443079471588,-0.928422391414642,0.120606...   \n",
       "\n",
       "                                                title  \\\n",
       "0   یادداشت‌های علم، شنبه ۲۴ مرداد ۱۳۴۹: ایادی ما ...   \n",
       "1   ايران همچنان همان امپراتوری پارس است /  عربستا...   \n",
       "2   همه آنچه برای ترامپ در شب گذشته رخ داد؛ از تنگ...   \n",
       "3   پیکر ۲ جانباخته ریزش ساختمان در در خیابان ابوذ...   \n",
       "4   7تن گوشت چرخ کرده با سنگدون مرغ یخ زده و چربی ...   \n",
       "5   ویدیو / دری نجف آبادی: ممکن است FATF از دستور ...   \n",
       "6   تا زمان برگزاری انتخابات آمریکا و بیان صریح مو...   \n",
       "7   رئیس پلیس تهران: ارسال اشتباهی پیامک‌های حجاب ...   \n",
       "8   ویدیو / توضیحات رئیس دفتر رئیس جمهور درمورد سن...   \n",
       "9   دیگر در تهران تخت خالی برای بستری بیمار کرونای...   \n",
       "10  زنانگی نهفته و آزار جنسی / چرا تنها در آزار جن...   \n",
       "11  منابع عراقی: یکی از خطرناک‌ترین سرکرده‌های داع...   \n",
       "12  تلاش آمریکا برای کشاندن لبنان به روند سازش با ...   \n",
       "13  سرانجام مذاکره‌کنندگان برجام/ نمایندگان کشورما...   \n",
       "14     چین: تحریم تسلیحاتی علیه ایران باید برچیده شود   \n",
       "15  تخت‌های کرونایی بیمارستان‌های دانشگاه علوم پزش...   \n",
       "16  ترامپ: بولتون دیوانه است / او کارش را خوب انجا...   \n",
       "17  مدیرعامل اسبق شرکت ملی گاز: با برنامه ریزی انج...   \n",
       "18      Covid-19 ممکن است برای بار دوم شدیدتر هم بشود   \n",
       "19  سردار جلالی: رعایت نکردن مسائل ایمنی،  علت حاد...   \n",
       "\n",
       "                                          cleaned_url  website_id included  \\\n",
       "0   entekhab.ir/fa/news/495749/%DB%8C%D8%A7%D8%AF%...           2        t   \n",
       "1   entekhab.ir/fa/news/266708/%D8%A7%D9%8A%D8%B1%...           2        t   \n",
       "2   entekhab.ir/fa/news/577730/%D9%87%D9%85%D9%87-...           2        t   \n",
       "3   entekhab.ir/fa/news/578944/%D9%BE%DB%8C%DA%A9%...           2        t   \n",
       "4   entekhab.ir/fa/news/434541/7%D8%AA%D9%86-%DA%A...           2        t   \n",
       "5   entekhab.ir/fa/news/553636/%D9%88%DB%8C%D8%AF%...           2        t   \n",
       "6   entekhab.ir/fa/news/575411/%D8%AA%D8%A7-%D8%B2...           2        t   \n",
       "7   entekhab.ir/fa/news/577736/%D8%B1%D8%A6%DB%8C%...           2        t   \n",
       "8   entekhab.ir/fa/news/560545/%D9%88%DB%8C%D8%AF%...           2        t   \n",
       "9   entekhab.ir/fa/news/559856/%D8%AF%DB%8C%DA%AF%...           2        t   \n",
       "10  entekhab.ir/fa/news/575391/%D8%B2%D9%86%D8%A7%...           2        t   \n",
       "11  entekhab.ir/fa/news/575468/%D9%85%D9%86%D8%A7%...           2        t   \n",
       "12  entekhab.ir/fa/news/575470/%D8%AA%D9%84%D8%A7%...           2        t   \n",
       "13  entekhab.ir/fa/news/469852/%D8%B3%D8%B1%D8%A7%...           2        t   \n",
       "14  entekhab.ir/fa/news/558970/%DA%86%DB%8C%D9%86-...           2        t   \n",
       "15  entekhab.ir/fa/news/558858/%D8%AA%D8%AE%D8%AA%...           2        t   \n",
       "16  entekhab.ir/fa/news/557981/%D8%AA%D8%B1%D8%A7%...           2        t   \n",
       "17  entekhab.ir/fa/news/557061/%D9%85%D8%AF%DB%8C%...           2        t   \n",
       "18  entekhab.ir/fa/news/561944/covid-19-%D9%85%D9%...           2        t   \n",
       "19  entekhab.ir/fa/news/559457/%D8%B3%D8%B1%D8%AF%...           2        t   \n",
       "\n",
       "   is_amp has_image_meta has_title_meta   page_id  subdomain_id  \\\n",
       "0       f              f              t  28054354            73   \n",
       "1       f              f              t  37476083            73   \n",
       "2       f              t              t  38017087            73   \n",
       "3       f              t              t  38559541            73   \n",
       "4       f              t              t  29837398            73   \n",
       "5       f              f              t  27251139            73   \n",
       "6       f              t              t  36975475            73   \n",
       "7       f              t              t  38018045            73   \n",
       "8       f              f              t  30691160            73   \n",
       "9       f              t              t  30236589            73   \n",
       "10      f              f              t  36964218            73   \n",
       "11      f              t              t  36981382            73   \n",
       "12      f              t              t  36981754            73   \n",
       "13      f              t              t  31010062            73   \n",
       "14      f              t              t  29604777            73   \n",
       "15      f              t              t  29559450            73   \n",
       "16      f              t              t  29094620            73   \n",
       "17      f              t              t  28689191            73   \n",
       "18      f              t              t  31566416            73   \n",
       "19      f              t              t  29897857            73   \n",
       "\n",
       "                                         title_vector   image_id  cats  \n",
       "0   {3.626948595047,0.779965162277222,0.8395900726...      602.0  {23}  \n",
       "1   {1.13415098190308,-1.20623469352722,-0.6013424...      621.0  {15}  \n",
       "2   {2.13742733001709,-1.12283325195312,-0.3791791...  1530910.0  {15}  \n",
       "3   {0.230344951152802,0.131352335214615,0.9686161...  1758716.0  {21}  \n",
       "4   {3.626948595047,0.779965162277222,0.8395900726...      750.0  {22}  \n",
       "5   {3.626948595047,0.779965162277222,0.8395900726...        NaN  {23}  \n",
       "6   {1.24864614009857,-1.19327878952026,-0.5599737...     1324.0  {15}  \n",
       "7   {1.85497891902924,0.154068395495415,-0.8957029...  1531042.0  {15}  \n",
       "8   {3.626948595047,0.779965162277222,0.8395900726...        NaN  {23}  \n",
       "9   {3.626948595047,0.779965162277222,0.8395900726...     1720.0  {-1}  \n",
       "10  {1.34037363529205,-1.04718887805939,-0.6416489...        NaN  {37}  \n",
       "11  {1.73352956771851,-1.97286546230316,-1.2237212...     1335.0  {15}  \n",
       "12  {0.268955439329147,-2.4835684299469,-1.7646369...     1336.0  {15}  \n",
       "13  {3.626948595047,0.779965162277222,0.8395900726...     1829.0  {15}  \n",
       "14  {3.626948595047,0.779965162277222,0.8395900726...     1389.0  {15}  \n",
       "15  {3.626948595047,0.779965162277222,0.8395900726...     1420.0  {14}  \n",
       "16  {3.626948595047,0.779965162277222,0.8395900726...     2430.0  {15}  \n",
       "17  {3.626948595047,0.779965162277222,0.8395900726...     1521.0  {11}  \n",
       "18  {3.626948595047,0.779965162277222,0.8395900726...     1675.0  {14}  \n",
       "19  {3.626948595047,0.779965162277222,0.8395900726...     1695.0  {15}  "
      ]
     },
     "execution_count": 3,
     "metadata": {},
     "output_type": "execute_result"
    }
   ],
   "source": [
    "entekhab = pd.read_csv('./pages_entekhab.csv')\n",
    "entekhab.head(20)"
   ]
  },
  {
   "cell_type": "code",
   "execution_count": 4,
   "metadata": {},
   "outputs": [
    {
     "name": "stdout",
     "output_type": "stream",
     "text": [
      "(65246, 15)\n"
     ]
    }
   ],
   "source": [
    "print(entekhab.shape)"
   ]
  },
  {
   "cell_type": "code",
   "execution_count": 5,
   "metadata": {},
   "outputs": [
    {
     "data": {
      "text/plain": [
       "(65243, 15)"
      ]
     },
     "execution_count": 5,
     "metadata": {},
     "output_type": "execute_result"
    }
   ],
   "source": [
    "entekhab = entekhab[entekhab.included == 't']\n",
    "entekhab.shape"
   ]
  },
  {
   "cell_type": "code",
   "execution_count": 6,
   "metadata": {},
   "outputs": [],
   "source": [
    "class ViewMatrix:\n",
    "    def __init__(self, path):\n",
    "        self.path = path\n",
    "        self.original = True\n",
    "        self.item_indexer = AppendIndexer.load('./entekhab.ir/view_matrix/item_indexer.indexer')\n",
    "        self.user_indexer = AppendIndexer.load('./entekhab.ir/view_matrix/user_indexer.indexer')\n",
    "        \n",
    "    def load_matrix(path):\n",
    "        \n",
    "        matrix = ViewMatrix(path)\n",
    "\n",
    "        try:\n",
    "            matrix.view_matrix = ViewMatrix \\\n",
    "                .load_sparse_lil(path)\n",
    "        except:\n",
    "            print('Error: loading', path)\n",
    "\n",
    "        return matrix\n",
    "\n",
    "    def load_sparse_lil(filename):\n",
    "        loader = np.load(filename, allow_pickle=True)\n",
    "        result = lil_matrix(tuple(loader[\"shape\"]), dtype=str(loader[\"dtype\"]))\n",
    "        result.data = loader[\"data\"]\n",
    "        result.rows = loader[\"rows\"]\n",
    "        return result\n",
    "    \n",
    "    def make_dense(self, user_min_view, item_min_view):\n",
    "        self.original = False\n",
    "        while True:\n",
    "            removed_rows_cnt = self.trim_users_with_few_views(user_min_view)\n",
    "            removed_columns_cnt = self.trim_columns_with_few_views(item_min_view)\n",
    "            if not removed_columns_cnt and not removed_rows_cnt:\n",
    "                break\n",
    "\n",
    "    def trim_users_with_few_views(self, user_min_view):\n",
    "        removing_row_indices = list(np.where(self.view_matrix.getnnz(1) < user_min_view)[0])\n",
    "        print('Number of users which should be deleted:', len(removing_row_indices))\n",
    "        self.trim_user_indices(to_remove_indices=removing_row_indices)\n",
    "        return len(removing_row_indices)\n",
    "\n",
    "    def trim_columns_with_few_views(self, column_min_view):\n",
    "        removing_column_indices = list(np.where(self.view_matrix.getnnz(0) < column_min_view)[0])\n",
    "        print('Number products which should be deleted:', len(removing_column_indices))\n",
    "        self.trim_column_indices(to_remove_indices=removing_column_indices)\n",
    "        return len(removing_column_indices)\n",
    "    \n",
    "    def trim_user_indices(self, to_remove_indices):\n",
    "        self.user_indexer.remove_indexes(to_remove_indices)\n",
    "        self.view_matrix = ViewMatrix.delete_row_lil(self.view_matrix, to_remove_indices)\n",
    "    \n",
    "    def trim_column_indices(self, to_remove_indices):\n",
    "        self.item_indexer.remove_indexes(to_remove_indices)\n",
    "        self.view_matrix = ViewMatrix.delete_column_lil(self.view_matrix, to_remove_indices)\n",
    "    \n",
    "    def delete_column_lil(mat: lil_matrix, *i) -> lil_matrix:\n",
    "        mat = mat.transpose()\n",
    "        mat = ViewMatrix.delete_row_lil(mat, *i)\n",
    "        return mat.transpose()\n",
    "    \n",
    "    def delete_row_lil(mat: lil_matrix, *i) -> lil_matrix:\n",
    "        if not isinstance(mat, lil_matrix):\n",
    "            raise ValueError(\"works only for LIL format -- use .tolil() first\")\n",
    "        mat = mat.copy()\n",
    "        mat.rows = np.delete(mat.rows, i)\n",
    "        mat.data = np.delete(mat.data, i)\n",
    "        mat._shape = (mat.rows.shape[0], mat._shape[1])\n",
    "        return mat\n",
    "    def to_csr(self):\n",
    "        train_data = self.view_matrix.astype(np.float64)\n",
    "        train_data = train_data.tocoo()\n",
    "        train_data.data = np.log10(train_data.data) + 1\n",
    "        train_data = train_data.tocsr()\n",
    "        return train_data"
   ]
  },
  {
   "cell_type": "markdown",
   "metadata": {},
   "source": [
    "## colaborative filtering train"
   ]
  },
  {
   "cell_type": "code",
   "execution_count": 7,
   "metadata": {},
   "outputs": [],
   "source": [
    "def CFTrain(path: str, _alpha = 15, factors = 20):\n",
    "    now = time.time()\n",
    "    matrix = ViewMatrix.load_matrix(path)\n",
    "    print('View matrix loaded in', time.time() - now, 'seconds.')\n",
    "\n",
    "    now = time.time()\n",
    "    sparce_matrix = matrix.to_csr()\n",
    "    matrix.make_dense(user_min_view = 2, \n",
    "                      item_min_view = 2)\n",
    "    print('matrix has been made dense in', time.time() - now, 'seconds.')\n",
    "\n",
    "    als_model = ALS.Als(num_factors = factors,\n",
    "                        iterations = 15,\n",
    "                        num_threads = 15,\n",
    "                        alpha = _alpha)\n",
    "\n",
    "    implicit_matrix = matrix.to_csr()\n",
    "\n",
    "    print()\n",
    "    now = time.time()\n",
    "    als_model.fit(implicit_matrix)\n",
    "    print('ALS model is fitted in', time.time() - now, 'seconds.')\n",
    "    \n",
    "    print('Saving Data ...')\n",
    "    matrix.item_indexer.dump('./entekhab.ir/alisResult/ali_item_indexer_factorized.indexer')\n",
    "    matrix.user_indexer.dump('./entekhab.ir/alisResult/ali_user_indexer_factorized.indexer')\n",
    "    np.save('./entekhab.ir/alisResult/ali_items_vectors.npy', als_model.item_vectors)\n",
    "    np.save('./entekhab.ir/alisResult/ali_users_vectors.npy', als_model.user_vectors)\n",
    "    \n",
    "    return sparce_matrix, implicit_matrix, als_model.item_vectors, als_model.user_vectors"
   ]
  },
  {
   "cell_type": "code",
   "execution_count": 8,
   "metadata": {},
   "outputs": [
    {
     "name": "stdout",
     "output_type": "stream",
     "text": [
      "View matrix loaded in 8.30119013786316 seconds.\n",
      "Number of users which should be deleted: 1784866\n",
      "Number products which should be deleted: 26556\n",
      "Number of users which should be deleted: 2255\n",
      "Number products which should be deleted: 155\n",
      "Number of users which should be deleted: 77\n",
      "Number products which should be deleted: 4\n",
      "Number of users which should be deleted: 2\n",
      "Number products which should be deleted: 0\n",
      "Number of users which should be deleted: 0\n",
      "Number products which should be deleted: 0\n",
      "matrix has been made dense in 31.284900426864624 seconds.\n",
      "\n",
      "ALS model is fitted in 27.0700581073761 seconds.\n",
      "Saving Data ...\n"
     ]
    }
   ],
   "source": [
    "sparce_matrix, implicit_matrix, item_vectors, user_vectors = \\\n",
    "CFTrain('./entekhab.ir/view_matrix/lil_matrix.npz', factors = 20)"
   ]
  },
  {
   "cell_type": "code",
   "execution_count": 9,
   "metadata": {},
   "outputs": [
    {
     "name": "stdout",
     "output_type": "stream",
     "text": [
      "View matrix loaded in 7.697247505187988 seconds.\n",
      "Number of users which should be deleted: 1863687\n",
      "Number products which should be deleted: 1308\n",
      "Number of users which should be deleted: 265\n",
      "Number products which should be deleted: 4\n",
      "Number of users which should be deleted: 1\n",
      "Number products which should be deleted: 1\n",
      "Number of users which should be deleted: 0\n",
      "Number products which should be deleted: 0\n",
      "matrix has been made dense in 18.039303064346313 seconds.\n",
      "\n",
      "ALS model is fitted in 151.85550355911255 seconds.\n",
      "Saving Data ...\n"
     ]
    }
   ],
   "source": [
    "sparce_matrix40, implicit_matrix40, item_vectors40, user_vectors40 = \\\n",
    "CFTrain('./chetor.com/view_matrix/lil_matrix.npz', factors = 40)"
   ]
  },
  {
   "cell_type": "code",
   "execution_count": 10,
   "metadata": {},
   "outputs": [],
   "source": [
    "# implicit_matrix = implicit_matrix.toarray()\n",
    "# sparce_matrix = sparce_matrix.toarray()"
   ]
  },
  {
   "cell_type": "code",
   "execution_count": 11,
   "metadata": {},
   "outputs": [
    {
     "data": {
      "text/plain": [
       "(2097150, 32766)"
      ]
     },
     "execution_count": 11,
     "metadata": {},
     "output_type": "execute_result"
    }
   ],
   "source": [
    "sparce_matrix.shape"
   ]
  },
  {
   "cell_type": "code",
   "execution_count": 12,
   "metadata": {},
   "outputs": [
    {
     "data": {
      "text/plain": [
       "(309950, 6051)"
      ]
     },
     "execution_count": 12,
     "metadata": {},
     "output_type": "execute_result"
    }
   ],
   "source": [
    "implicit_matrix.shape"
   ]
  },
  {
   "cell_type": "markdown",
   "metadata": {},
   "source": [
    "## KNN Models"
   ]
  },
  {
   "cell_type": "code",
   "execution_count": 13,
   "metadata": {},
   "outputs": [],
   "source": [
    "def sk_KNN(item_vectors, number_of_neighbours = 30):\n",
    "    start = time.time()\n",
    "\n",
    "    knn_distances_brute = []\n",
    "    knn_indices_brute = []\n",
    "\n",
    "    nbrs = NearestNeighbors(n_neighbors=number_of_neighbours, algorithm='ball_tree'). \\\n",
    "        fit(item_vectors)\n",
    "\n",
    "    knn_distances_brute, knn_indices_brute = nbrs.kneighbors(item_vectors)\n",
    "\n",
    "    end = time.time()\n",
    "    print('ball_tree time:', end-start)\n",
    "    \n",
    "    return knn_distances_brute, knn_indices_brute"
   ]
  },
  {
   "cell_type": "code",
   "execution_count": 14,
   "metadata": {},
   "outputs": [],
   "source": [
    "def sk_KNN_c(item_vectors, mapper, number_of_neighbours = 30):\n",
    "    start = time.time()\n",
    "\n",
    "    knn_distances_brute = []\n",
    "    knn_indices_brute = []\n",
    "\n",
    "    nbrs = NearestNeighbors(n_neighbors=number_of_neighbours, algorithm='ball_tree'). \\\n",
    "        fit(item_vectors)\n",
    "\n",
    "    knn_distances_brute, knn_indices_brute = nbrs.kneighbors(item_vectors)\n",
    "\n",
    "    end = time.time()\n",
    "    print('ball_tree time:', end-start)\n",
    "    a = [[mapper[j] for j in i]for i in knn_indices_brute]\n",
    "    \n",
    "    return knn_distances_brute, a"
   ]
  },
  {
   "cell_type": "code",
   "execution_count": 15,
   "metadata": {},
   "outputs": [],
   "source": [
    "def get_annoy_results(pages_vector, number_of_trees = 170, number_of_neighbours = 30):\n",
    "    \n",
    "    start = time.time()\n",
    "    annoy_model = annoy_model = AnnoyIndex(pages_vector.shape[1], 'angular')\n",
    "    \n",
    "    for index, vector in enumerate(pages_vector):\n",
    "        annoy_model.add_item(index, vector)\n",
    "    \n",
    "    annoy_model.build(number_of_trees)\n",
    "    \n",
    "    annoy_indices = []\n",
    "    annoy_distances = []\n",
    "\n",
    "    for i in pages_vector:\n",
    "        indices, distances = annoy_model. \\\n",
    "            get_nns_by_vector(i, number_of_neighbours, include_distances=True)\n",
    "        annoy_indices.append(indices)\n",
    "        annoy_distances.append(distances)\n",
    "    \n",
    "    duration = time.time() - start\n",
    "    print('annoy time:', duration)\n",
    "    return annoy_indices, annoy_distances, duration"
   ]
  },
  {
   "cell_type": "code",
   "execution_count": 16,
   "metadata": {},
   "outputs": [],
   "source": [
    "def get_annoy_results_c(pages_vector, number_of_trees = 170, number_of_neighbours = 30):\n",
    "    \n",
    "    start = time.time()\n",
    "    annoy_model = annoy_model = AnnoyIndex(300, 'angular')\n",
    "    \n",
    "    for index, vector in pages_vector.items():\n",
    "        annoy_model.add_item(index, vector)\n",
    "    \n",
    "    annoy_model.build(number_of_trees)\n",
    "    \n",
    "    annoy_indices = []\n",
    "    annoy_distances = []\n",
    "\n",
    "    for j, i in pages_vector.items():\n",
    "        indices, distances = annoy_model. \\\n",
    "            get_nns_by_vector(i, number_of_neighbours, include_distances=True)\n",
    "        annoy_indices.append(indices)\n",
    "        annoy_distances.append(distances)\n",
    "    \n",
    "    duration = time.time() - start\n",
    "    print('annoy time:', duration)\n",
    "    return annoy_indices, annoy_distances, duration"
   ]
  },
  {
   "cell_type": "markdown",
   "metadata": {},
   "source": [
    "## Runing KNN collaborative filtering"
   ]
  },
  {
   "cell_type": "code",
   "execution_count": 17,
   "metadata": {},
   "outputs": [
    {
     "name": "stdout",
     "output_type": "stream",
     "text": [
      "annoy time: 5.3135316371917725\n"
     ]
    },
    {
     "data": {
      "text/plain": [
       "5.3135316371917725"
      ]
     },
     "execution_count": 17,
     "metadata": {},
     "output_type": "execute_result"
    }
   ],
   "source": [
    "annoy_indices_CF, annoy_distances, duration = get_annoy_results(item_vectors)\n",
    "duration"
   ]
  },
  {
   "cell_type": "code",
   "execution_count": 18,
   "metadata": {},
   "outputs": [
    {
     "name": "stdout",
     "output_type": "stream",
     "text": [
      "ball_tree time: 1.2709918022155762\n"
     ]
    }
   ],
   "source": [
    "knn_distances_brute, knn_indices_brute = sk_KNN(item_vectors)"
   ]
  },
  {
   "cell_type": "code",
   "execution_count": 19,
   "metadata": {},
   "outputs": [
    {
     "name": "stdout",
     "output_type": "stream",
     "text": [
      "[3000, 3229, 2838, 2330, 35, 3144, 2083, 108, 1892, 2127, 949, 88, 1742, 64, 1820, 3317, 19, 3153, 2361, 3906, 738, 66, 3668, 4321, 1225, 4314, 3066, 62, 457, 113]\n",
      "[3000 3229 2838 3144 3066 1745 1582 2950 2742 2775 5603 2023 2609 3746\n",
      " 2887 3095 4501 1035  139 5743 3444 5735 1909 2465  128 1890 1711 4482\n",
      " 3415 3376]\n"
     ]
    }
   ],
   "source": [
    "print(annoy_indices_CF[3000])\n",
    "print(knn_indices_brute[3000])"
   ]
  },
  {
   "cell_type": "code",
   "execution_count": 20,
   "metadata": {},
   "outputs": [],
   "source": [
    "item_indexer1 = \\\n",
    "AppendIndexer.load('./entekhab.ir/alisResult/ali_item_indexer_factorized.indexer')\n"
   ]
  },
  {
   "cell_type": "code",
   "execution_count": 21,
   "metadata": {},
   "outputs": [
    {
     "data": {
      "text/html": [
       "<div>\n",
       "<style scoped>\n",
       "    .dataframe tbody tr th:only-of-type {\n",
       "        vertical-align: middle;\n",
       "    }\n",
       "\n",
       "    .dataframe tbody tr th {\n",
       "        vertical-align: top;\n",
       "    }\n",
       "\n",
       "    .dataframe thead th {\n",
       "        text-align: right;\n",
       "    }\n",
       "</style>\n",
       "<table border=\"1\" class=\"dataframe\">\n",
       "  <thead>\n",
       "    <tr style=\"text-align: right;\">\n",
       "      <th></th>\n",
       "      <th>id</th>\n",
       "      <th>created</th>\n",
       "      <th>content_vector</th>\n",
       "      <th>title</th>\n",
       "      <th>cleaned_url</th>\n",
       "      <th>website_id</th>\n",
       "      <th>included</th>\n",
       "      <th>is_amp</th>\n",
       "      <th>has_image_meta</th>\n",
       "      <th>has_title_meta</th>\n",
       "      <th>page_id</th>\n",
       "      <th>subdomain_id</th>\n",
       "      <th>title_vector</th>\n",
       "      <th>image_id</th>\n",
       "      <th>cats</th>\n",
       "    </tr>\n",
       "  </thead>\n",
       "  <tbody>\n",
       "    <tr>\n",
       "      <th>5437</th>\n",
       "      <td>2137581</td>\n",
       "      <td>2020-08-09 04:49:17.716399+04:30</td>\n",
       "      <td>{0.173560664057732,-0.0554969757795334,-0.1970...</td>\n",
       "      <td>استفاده از نسخه تحت وب اپلیکیشن های ایرانی؛ را...</td>\n",
       "      <td>entekhab.ir/fa/news/462086/%D8%A7%D8%B3%D8%AA%...</td>\n",
       "      <td>2</td>\n",
       "      <td>t</td>\n",
       "      <td>f</td>\n",
       "      <td>f</td>\n",
       "      <td>f</td>\n",
       "      <td>8939209</td>\n",
       "      <td>73</td>\n",
       "      <td>{0.453929245471954,0.223702922463417,-0.408268...</td>\n",
       "      <td>338759.0</td>\n",
       "      <td>{}</td>\n",
       "    </tr>\n",
       "  </tbody>\n",
       "</table>\n",
       "</div>"
      ],
      "text/plain": [
       "           id                           created  \\\n",
       "5437  2137581  2020-08-09 04:49:17.716399+04:30   \n",
       "\n",
       "                                         content_vector  \\\n",
       "5437  {0.173560664057732,-0.0554969757795334,-0.1970...   \n",
       "\n",
       "                                                  title  \\\n",
       "5437  استفاده از نسخه تحت وب اپلیکیشن های ایرانی؛ را...   \n",
       "\n",
       "                                            cleaned_url  website_id included  \\\n",
       "5437  entekhab.ir/fa/news/462086/%D8%A7%D8%B3%D8%AA%...           2        t   \n",
       "\n",
       "     is_amp has_image_meta has_title_meta  page_id  subdomain_id  \\\n",
       "5437      f              f              f  8939209            73   \n",
       "\n",
       "                                           title_vector  image_id cats  \n",
       "5437  {0.453929245471954,0.223702922463417,-0.408268...  338759.0   {}  "
      ]
     },
     "execution_count": 21,
     "metadata": {},
     "output_type": "execute_result"
    }
   ],
   "source": [
    "entekhab[entekhab['id'] == int(item_indexer1.reverse_get(2838))]\n",
    "# chetor_content[chetor_content['id'] == int(item_indexer1.reverse_get(3357))]\n",
    "# chetor_content[chetor_content['id'] == int(item_indexer1.reverse_get(1364))]\n",
    "# chetor_content[chetor_content['id'] == int(item_indexer1.reverse_get(800))]"
   ]
  },
  {
   "cell_type": "markdown",
   "metadata": {},
   "source": [
    "## train content based"
   ]
  },
  {
   "cell_type": "code",
   "execution_count": 22,
   "metadata": {},
   "outputs": [],
   "source": [
    "items = []\n",
    "nulls = []\n",
    "for i in item_indexer1.get_items():\n",
    "    temp = {}\n",
    "    try:\n",
    "        item_index = item_indexer1.get(i)\n",
    "        c_vec = np.array(entekhab[entekhab['id'] == int(i)].content_vector)[0]\n",
    "        temp['content_vec'] = np.array([float(x) for x in str(c_vec)[1:-1].split(',')])\n",
    "        temp['id'] = i\n",
    "        temp['index'] = item_index\n",
    "        items.append(temp)\n",
    "    except:\n",
    "        nulls.append(item_index)"
   ]
  },
  {
   "cell_type": "code",
   "execution_count": 23,
   "metadata": {},
   "outputs": [],
   "source": [
    "pages_vector = []\n",
    "indexer = AppendIndexer()\n",
    "\n",
    "for i, j in entekhab.iterrows():\n",
    "    try:\n",
    "        a = {}\n",
    "        a['content_vec'] = np.array([float(x) for x in str(j.content_vector)[1:-1].split(',')])\n",
    "        a['index'] = indexer.get_or_create(j.id)\n",
    "        a['id'] = j.id\n",
    "        pages_vector.append(a)\n",
    "    except:\n",
    "        continue"
   ]
  },
  {
   "cell_type": "code",
   "execution_count": 24,
   "metadata": {},
   "outputs": [],
   "source": [
    "item_content_map = {}\n",
    "for i in pages_vector:\n",
    "    item_content_map[i['index']] = i['content_vec']\n",
    "content_vec = []\n",
    "items_itex = []\n",
    "for i, j in item_content_map.items():\n",
    "    content_vec.append(j)\n",
    "    items_itex.append(i)\n",
    "# items_itex.index(1600)"
   ]
  },
  {
   "cell_type": "code",
   "execution_count": 25,
   "metadata": {},
   "outputs": [
    {
     "data": {
      "text/plain": [
       "65028"
      ]
     },
     "execution_count": 25,
     "metadata": {},
     "output_type": "execute_result"
    }
   ],
   "source": [
    "len(item_content_map)"
   ]
  },
  {
   "cell_type": "code",
   "execution_count": 26,
   "metadata": {},
   "outputs": [
    {
     "name": "stdout",
     "output_type": "stream",
     "text": [
      "annoy time: 74.62292337417603\n"
     ]
    }
   ],
   "source": [
    "annoy_indices_CB, annoy_distances_CB, duration_CB = get_annoy_results_c(item_content_map)"
   ]
  },
  {
   "cell_type": "code",
   "execution_count": 27,
   "metadata": {},
   "outputs": [
    {
     "name": "stdout",
     "output_type": "stream",
     "text": [
      "ball_tree time: 2231.5141026973724\n"
     ]
    }
   ],
   "source": [
    "knn_distances_brute_CB, knn_indices_brute_CB = sk_KNN_c(content_vec, items_itex)"
   ]
  },
  {
   "cell_type": "code",
   "execution_count": 28,
   "metadata": {},
   "outputs": [
    {
     "name": "stdout",
     "output_type": "stream",
     "text": [
      "[6300, 35190, 19857, 33089, 58324, 25402, 8173, 53222, 18482, 2262, 2978, 16903, 16102, 47302, 44238, 12171, 8502, 56252, 8934, 5847, 6469, 29543, 26468, 40673, 47978, 13485, 41630, 7592, 52532, 8736]\n",
      "[6300, 35190, 19857, 33089, 8173, 2262, 18482, 12171, 44238, 16903, 56252, 8502, 48528, 27299, 29543, 7592, 58324, 27031, 55592, 53829, 25402, 8934, 26468, 6469, 52538, 2978, 15598, 31147, 9883, 47978]\n"
     ]
    }
   ],
   "source": [
    "print(annoy_indices_CB[6300])\n",
    "print(knn_indices_brute_CB[6300])"
   ]
  },
  {
   "cell_type": "code",
   "execution_count": 29,
   "metadata": {},
   "outputs": [
    {
     "data": {
      "text/html": [
       "<div>\n",
       "<style scoped>\n",
       "    .dataframe tbody tr th:only-of-type {\n",
       "        vertical-align: middle;\n",
       "    }\n",
       "\n",
       "    .dataframe tbody tr th {\n",
       "        vertical-align: top;\n",
       "    }\n",
       "\n",
       "    .dataframe thead th {\n",
       "        text-align: right;\n",
       "    }\n",
       "</style>\n",
       "<table border=\"1\" class=\"dataframe\">\n",
       "  <thead>\n",
       "    <tr style=\"text-align: right;\">\n",
       "      <th></th>\n",
       "      <th>id</th>\n",
       "      <th>created</th>\n",
       "      <th>content_vector</th>\n",
       "      <th>title</th>\n",
       "      <th>cleaned_url</th>\n",
       "      <th>website_id</th>\n",
       "      <th>included</th>\n",
       "      <th>is_amp</th>\n",
       "      <th>has_image_meta</th>\n",
       "      <th>has_title_meta</th>\n",
       "      <th>page_id</th>\n",
       "      <th>subdomain_id</th>\n",
       "      <th>title_vector</th>\n",
       "      <th>image_id</th>\n",
       "      <th>cats</th>\n",
       "    </tr>\n",
       "  </thead>\n",
       "  <tbody>\n",
       "    <tr>\n",
       "      <th>30283</th>\n",
       "      <td>2146378</td>\n",
       "      <td>2020-08-09 04:49:42.016839+04:30</td>\n",
       "      <td>{-0.438678175210953,-0.621124267578125,0.40196...</td>\n",
       "      <td>عکس/ جرج بوش و همسرش مدال آزادی گرفتند</td>\n",
       "      <td>entekhab.ir/fa/news/440496/%D8%B9%DA%A9%D8%B3-...</td>\n",
       "      <td>2</td>\n",
       "      <td>t</td>\n",
       "      <td>f</td>\n",
       "      <td>f</td>\n",
       "      <td>f</td>\n",
       "      <td>4810874</td>\n",
       "      <td>73</td>\n",
       "      <td>{0.467156141996384,-0.378140717744827,0.702701...</td>\n",
       "      <td>NaN</td>\n",
       "      <td>{}</td>\n",
       "    </tr>\n",
       "  </tbody>\n",
       "</table>\n",
       "</div>"
      ],
      "text/plain": [
       "            id                           created  \\\n",
       "30283  2146378  2020-08-09 04:49:42.016839+04:30   \n",
       "\n",
       "                                          content_vector  \\\n",
       "30283  {-0.438678175210953,-0.621124267578125,0.40196...   \n",
       "\n",
       "                                        title  \\\n",
       "30283  عکس/ جرج بوش و همسرش مدال آزادی گرفتند   \n",
       "\n",
       "                                             cleaned_url  website_id included  \\\n",
       "30283  entekhab.ir/fa/news/440496/%D8%B9%DA%A9%D8%B3-...           2        t   \n",
       "\n",
       "      is_amp has_image_meta has_title_meta  page_id  subdomain_id  \\\n",
       "30283      f              f              f  4810874            73   \n",
       "\n",
       "                                            title_vector  image_id cats  \n",
       "30283  {0.467156141996384,-0.378140717744827,0.702701...       NaN   {}  "
      ]
     },
     "execution_count": 29,
     "metadata": {},
     "output_type": "execute_result"
    }
   ],
   "source": [
    "entekhab[entekhab['id'] == int(item_indexer1.reverse_get(6000))]"
   ]
  },
  {
   "cell_type": "markdown",
   "metadata": {},
   "source": [
    "## Annoy accuracy"
   ]
  },
  {
   "cell_type": "code",
   "execution_count": 30,
   "metadata": {},
   "outputs": [
    {
     "name": "stdout",
     "output_type": "stream",
     "text": [
      "ball_tree time: 2.14823579788208\n"
     ]
    }
   ],
   "source": [
    "Tknn_distances_brute, Tknn_indices_brute = sk_KNN(item_vectors40, number_of_neighbours = 10)"
   ]
  },
  {
   "cell_type": "code",
   "execution_count": 31,
   "metadata": {},
   "outputs": [
    {
     "name": "stdout",
     "output_type": "stream",
     "text": [
      "annoy time: 0.12083578109741211\n",
      "0.2526295380737725\n",
      "annoy time: 0.28519105911254883\n",
      "0.2730518798571729\n",
      "annoy time: 0.39673590660095215\n",
      "0.28591278496760536\n",
      "annoy time: 0.6796019077301025\n",
      "0.28823938086698014\n",
      "annoy time: 0.9081199169158936\n",
      "0.2883524792787553\n",
      "annoy time: 1.3718392848968506\n",
      "0.2888048729258559\n",
      "annoy time: 2.221330165863037\n",
      "0.28909569741327773\n",
      "annoy time: 2.8976893424987793\n",
      "0.288934128253599\n",
      "annoy time: 4.317365884780884\n",
      "0.28911185432924563\n"
     ]
    }
   ],
   "source": [
    "for i in [5, 10, 30, 50, 70, 100, 150, 200, 300]:\n",
    "    Tannoy_indices_CF, Tannoy_distances, Tduration = get_annoy_results(item_vectors40, number_of_trees = i, number_of_neighbours = 10)\n",
    "    print(calc_acc(Tannoy_indices_CF, Tknn_indices_brute, 10))"
   ]
  },
  {
   "cell_type": "code",
   "execution_count": 32,
   "metadata": {},
   "outputs": [
    {
     "name": "stdout",
     "output_type": "stream",
     "text": [
      "ball_tree time: 2673.7734825611115\n"
     ]
    }
   ],
   "source": [
    "Aknn_distances_brute_CB, Aknn_indices_brute_CB = sk_KNN_c(content_vec, items_itex, number_of_neighbours = 10)"
   ]
  },
  {
   "cell_type": "code",
   "execution_count": 36,
   "metadata": {
    "scrolled": true
   },
   "outputs": [
    {
     "name": "stdout",
     "output_type": "stream",
     "text": [
      "annoy time: 14.455398082733154\n",
      "annoy time: 15.104038000106812\n",
      "annoy time: 14.851196050643921\n",
      "annoy time: 15.751535415649414\n",
      "annoy time: 15.4863920211792\n",
      "annoy time: 16.712255239486694\n",
      "annoy time: 17.87536644935608\n",
      "annoy time: 19.44169330596924\n",
      "annoy time: 24.58332872390747\n",
      "annoy time: 28.21495008468628\n",
      "annoy time: 32.068522453308105\n",
      "annoy time: 41.80151414871216\n",
      "annoy time: 50.37809872627258\n",
      "annoy time: 41.81574773788452\n",
      "annoy time: 67.75437641143799\n",
      "annoy time: 80.07449245452881\n",
      "annoy time: 87.66035890579224\n",
      "annoy time: 105.21986651420593\n",
      "annoy time: 121.46500515937805\n",
      "annoy time: 14.425283670425415\n",
      "annoy time: 14.395758867263794\n",
      "annoy time: 15.420397758483887\n",
      "annoy time: 15.64036774635315\n",
      "annoy time: 15.951899290084839\n",
      "annoy time: 16.505470991134644\n",
      "annoy time: 17.26614236831665\n",
      "annoy time: 19.49825167655945\n",
      "annoy time: 25.0516619682312\n",
      "annoy time: 28.832855701446533\n",
      "annoy time: 33.50415658950806\n",
      "annoy time: 41.10990929603577\n",
      "annoy time: 52.57036995887756\n",
      "annoy time: 59.22698783874512\n",
      "annoy time: 73.63920331001282\n",
      "annoy time: 79.74588871002197\n",
      "annoy time: 88.58442950248718\n",
      "annoy time: 105.90046238899231\n",
      "annoy time: 122.8370292186737\n",
      "annoy time: 14.993320226669312\n",
      "annoy time: 14.141901016235352\n",
      "annoy time: 14.747208833694458\n",
      "annoy time: 15.540724039077759\n",
      "annoy time: 16.698604345321655\n",
      "annoy time: 17.509135961532593\n",
      "annoy time: 17.91399884223938\n",
      "annoy time: 20.011085748672485\n",
      "annoy time: 24.245341062545776\n",
      "annoy time: 27.499107837677002\n",
      "annoy time: 33.010011434555054\n",
      "annoy time: 41.18880915641785\n",
      "annoy time: 51.01980710029602\n",
      "annoy time: 62.31141901016235\n",
      "annoy time: 68.55644297599792\n",
      "annoy time: 80.87615299224854\n",
      "annoy time: 88.00666904449463\n",
      "annoy time: 105.3621826171875\n",
      "annoy time: 121.93790984153748\n",
      "annoy time: 14.509401559829712\n",
      "annoy time: 14.46359395980835\n",
      "annoy time: 14.98629117012024\n",
      "annoy time: 8.904376745223999\n",
      "annoy time: 8.56467318534851\n",
      "annoy time: 7.490623474121094\n",
      "annoy time: 7.922211170196533\n",
      "annoy time: 9.30213451385498\n",
      "annoy time: 12.746368885040283\n",
      "annoy time: 14.570420265197754\n",
      "annoy time: 17.127057552337646\n",
      "annoy time: 22.92075538635254\n",
      "annoy time: 28.956516981124878\n",
      "annoy time: 34.36328387260437\n",
      "annoy time: 40.74393081665039\n",
      "annoy time: 44.549981117248535\n",
      "annoy time: 48.6618378162384\n",
      "annoy time: 59.28929901123047\n",
      "annoy time: 70.21476197242737\n",
      "annoy time: 6.137181282043457\n",
      "annoy time: 6.22398042678833\n",
      "annoy time: 6.432147979736328\n",
      "annoy time: 6.7866246700286865\n",
      "annoy time: 6.929858684539795\n",
      "annoy time: 7.258551597595215\n",
      "annoy time: 7.668503046035767\n",
      "annoy time: 8.936037302017212\n",
      "annoy time: 11.964921474456787\n",
      "annoy time: 13.831959247589111\n",
      "annoy time: 16.145927906036377\n",
      "annoy time: 21.4941987991333\n",
      "annoy time: 28.595747709274292\n",
      "annoy time: 38.22144603729248\n",
      "annoy time: 43.852415800094604\n",
      "annoy time: 47.51181387901306\n",
      "annoy time: 55.72736072540283\n",
      "annoy time: 66.82019472122192\n",
      "annoy time: 79.42267775535583\n",
      "annoy time: 6.520177125930786\n",
      "annoy time: 7.0734639167785645\n",
      "annoy time: 8.178749799728394\n",
      "annoy time: 7.587379217147827\n",
      "annoy time: 7.4207305908203125\n",
      "annoy time: 7.471052646636963\n",
      "annoy time: 7.993500709533691\n",
      "annoy time: 10.882591009140015\n",
      "annoy time: 15.340193033218384\n",
      "annoy time: 16.46007776260376\n",
      "annoy time: 19.08200240135193\n",
      "annoy time: 27.432364225387573\n",
      "annoy time: 32.346245765686035\n",
      "annoy time: 34.920103311538696\n",
      "annoy time: 43.15065383911133\n",
      "annoy time: 47.33147668838501\n",
      "annoy time: 52.456480741500854\n",
      "annoy time: 80.47113704681396\n",
      "annoy time: 124.43967747688293\n",
      "annoy time: 14.222100734710693\n",
      "annoy time: 14.248568296432495\n",
      "annoy time: 15.08938193321228\n",
      "annoy time: 15.186427354812622\n",
      "annoy time: 16.095978498458862\n",
      "annoy time: 16.67607307434082\n",
      "annoy time: 17.371208906173706\n",
      "annoy time: 20.634690046310425\n",
      "annoy time: 26.05604076385498\n",
      "annoy time: 27.92921018600464\n",
      "annoy time: 31.348222970962524\n",
      "annoy time: 41.84256148338318\n",
      "annoy time: 52.88151502609253\n",
      "annoy time: 60.29947805404663\n",
      "annoy time: 70.57861852645874\n",
      "annoy time: 79.15811944007874\n",
      "annoy time: 87.90657901763916\n",
      "annoy time: 106.76384377479553\n",
      "annoy time: 126.7158145904541\n",
      "annoy time: 14.632516860961914\n",
      "annoy time: 15.361403703689575\n",
      "annoy time: 14.751954078674316\n",
      "annoy time: 15.438975095748901\n",
      "annoy time: 16.93464159965515\n",
      "annoy time: 17.35348677635193\n",
      "annoy time: 16.714231491088867\n",
      "annoy time: 20.222182035446167\n",
      "annoy time: 24.4915509223938\n",
      "annoy time: 26.995744705200195\n",
      "annoy time: 32.75527882575989\n",
      "annoy time: 44.6678204536438\n",
      "annoy time: 52.25786590576172\n",
      "annoy time: 62.67443871498108\n",
      "annoy time: 70.1832184791565\n",
      "annoy time: 80.79641246795654\n",
      "annoy time: 88.85722160339355\n",
      "annoy time: 107.1768696308136\n",
      "annoy time: 131.2654411792755\n",
      "annoy time: 15.005184412002563\n",
      "annoy time: 14.733529806137085\n",
      "annoy time: 15.083609104156494\n",
      "annoy time: 15.43411135673523\n",
      "annoy time: 15.357187032699585\n",
      "annoy time: 16.7544846534729\n",
      "annoy time: 17.83090114593506\n",
      "annoy time: 18.913150548934937\n",
      "annoy time: 24.818446159362793\n",
      "annoy time: 29.030846118927002\n",
      "annoy time: 32.925100326538086\n",
      "annoy time: 41.6247193813324\n",
      "annoy time: 58.29517483711243\n",
      "annoy time: 68.32179665565491\n",
      "annoy time: 72.43419218063354\n",
      "annoy time: 82.77483868598938\n",
      "annoy time: 90.83826661109924\n",
      "annoy time: 103.72650098800659\n",
      "annoy time: 123.5195677280426\n",
      "annoy time: 14.818475246429443\n",
      "annoy time: 15.181993246078491\n",
      "annoy time: 15.096967220306396\n",
      "annoy time: 15.460438966751099\n",
      "annoy time: 15.620955228805542\n",
      "annoy time: 16.509950637817383\n",
      "annoy time: 16.989888191223145\n",
      "annoy time: 19.077259063720703\n",
      "annoy time: 25.012151956558228\n",
      "annoy time: 28.056264638900757\n",
      "annoy time: 32.401270627975464\n",
      "annoy time: 40.79133152961731\n",
      "annoy time: 51.70085549354553\n",
      "annoy time: 60.40889525413513\n",
      "annoy time: 66.97195291519165\n",
      "annoy time: 47.17623853683472\n",
      "annoy time: 48.42043161392212\n",
      "annoy time: 58.989954233169556\n",
      "annoy time: 69.31034803390503\n",
      "annoy time: 6.171478986740112\n",
      "annoy time: 6.209253549575806\n",
      "annoy time: 6.384620428085327\n",
      "annoy time: 6.73215651512146\n",
      "annoy time: 6.853446006774902\n",
      "annoy time: 7.17535400390625\n",
      "annoy time: 7.587495803833008\n",
      "annoy time: 8.914376735687256\n",
      "annoy time: 11.895819664001465\n",
      "annoy time: 13.761049509048462\n",
      "annoy time: 16.020161151885986\n",
      "annoy time: 21.345612049102783\n",
      "annoy time: 27.071555137634277\n",
      "annoy time: 32.329121589660645\n",
      "annoy time: 37.99740409851074\n",
      "annoy time: 42.97545576095581\n",
      "annoy time: 48.484596729278564\n",
      "annoy time: 59.13467741012573\n",
      "annoy time: 69.34581899642944\n",
      "annoy time: 6.11274266242981\n",
      "annoy time: 6.198380470275879\n",
      "annoy time: 6.407461881637573\n",
      "annoy time: 6.724642276763916\n",
      "annoy time: 6.903407335281372\n",
      "annoy time: 7.162466049194336\n",
      "annoy time: 7.565094947814941\n",
      "annoy time: 8.864409685134888\n",
      "annoy time: 11.854070663452148\n",
      "annoy time: 13.734780311584473\n",
      "annoy time: 17.006482362747192\n",
      "annoy time: 25.841846466064453\n",
      "annoy time: 30.62838339805603\n",
      "annoy time: 35.65845561027527\n",
      "annoy time: 44.086915254592896\n",
      "annoy time: 50.29950666427612\n",
      "annoy time: 57.0782527923584\n",
      "annoy time: 66.17524790763855\n",
      "annoy time: 79.85445809364319\n",
      "annoy time: 7.489461898803711\n",
      "annoy time: 6.800905466079712\n",
      "annoy time: 7.633676290512085\n",
      "annoy time: 7.344587087631226\n",
      "annoy time: 8.021397352218628\n",
      "annoy time: 7.3759918212890625\n",
      "annoy time: 7.812923192977905\n",
      "annoy time: 9.115984916687012\n",
      "annoy time: 12.810701608657837\n",
      "annoy time: 16.12056875228882\n",
      "annoy time: 18.61209726333618\n",
      "annoy time: 25.59302306175232\n",
      "annoy time: 31.804495573043823\n",
      "annoy time: 37.55742859840393\n",
      "annoy time: 43.72161602973938\n",
      "annoy time: 57.21199345588684\n",
      "annoy time: 62.107166051864624\n",
      "annoy time: 71.23421931266785\n",
      "annoy time: 85.75751376152039\n",
      "annoy time: 8.43833613395691\n",
      "annoy time: 8.461825370788574\n",
      "annoy time: 8.725406646728516\n",
      "annoy time: 8.255727052688599\n",
      "annoy time: 7.026555299758911\n",
      "annoy time: 7.313832998275757\n",
      "annoy time: 7.705819368362427\n",
      "annoy time: 9.060163021087646\n",
      "annoy time: 12.847282886505127\n",
      "annoy time: 14.316471576690674\n",
      "annoy time: 17.234191417694092\n",
      "annoy time: 22.199256896972656\n",
      "annoy time: 28.302332639694214\n",
      "annoy time: 34.41179895401001\n",
      "annoy time: 40.06912684440613\n",
      "annoy time: 48.81446695327759\n",
      "annoy time: 55.16822123527527\n",
      "annoy time: 64.73288440704346\n",
      "annoy time: 79.69470834732056\n",
      "annoy time: 7.068658113479614\n",
      "annoy time: 7.182514667510986\n",
      "annoy time: 7.341135263442993\n",
      "annoy time: 7.780353784561157\n",
      "annoy time: 7.709580183029175\n"
     ]
    },
    {
     "name": "stdout",
     "output_type": "stream",
     "text": [
      "annoy time: 7.629342317581177\n",
      "annoy time: 7.345685243606567\n",
      "annoy time: 8.727514266967773\n",
      "annoy time: 11.665206909179688\n",
      "annoy time: 13.584568738937378\n",
      "annoy time: 15.87637972831726\n",
      "annoy time: 21.296730756759644\n",
      "annoy time: 29.060667991638184\n",
      "annoy time: 33.58569931983948\n",
      "annoy time: 44.999292612075806\n",
      "annoy time: 51.077986001968384\n",
      "annoy time: 52.783324003219604\n",
      "annoy time: 65.04684066772461\n",
      "annoy time: 78.25925707817078\n",
      "annoy time: 6.562215089797974\n",
      "annoy time: 6.942564249038696\n",
      "annoy time: 7.036862373352051\n",
      "annoy time: 7.238830089569092\n",
      "annoy time: 7.310265064239502\n",
      "annoy time: 7.4739460945129395\n",
      "annoy time: 8.047801494598389\n",
      "annoy time: 9.944437026977539\n",
      "annoy time: 12.944469928741455\n",
      "annoy time: 15.288249254226685\n",
      "annoy time: 17.953239917755127\n",
      "annoy time: 24.863529443740845\n",
      "annoy time: 30.296748638153076\n",
      "annoy time: 35.21902632713318\n",
      "annoy time: 39.411733865737915\n",
      "annoy time: 45.00329041481018\n",
      "annoy time: 50.31759428977966\n",
      "annoy time: 61.20713210105896\n",
      "annoy time: 72.25416254997253\n",
      "annoy time: 6.2990882396698\n",
      "annoy time: 6.453346014022827\n",
      "annoy time: 6.609215259552002\n",
      "annoy time: 7.748404502868652\n",
      "annoy time: 7.275838375091553\n",
      "annoy time: 7.20705246925354\n",
      "annoy time: 7.513094425201416\n",
      "annoy time: 8.88302493095398\n",
      "annoy time: 11.791871070861816\n",
      "annoy time: 13.626225233078003\n",
      "annoy time: 15.949045896530151\n",
      "annoy time: 21.066915273666382\n",
      "annoy time: 26.85052990913391\n",
      "annoy time: 32.13414645195007\n",
      "annoy time: 37.655720472335815\n",
      "annoy time: 42.807307958602905\n",
      "annoy time: 49.38827109336853\n",
      "annoy time: 63.43894290924072\n",
      "annoy time: 77.78118824958801\n",
      "annoy time: 6.217718124389648\n",
      "annoy time: 6.469619989395142\n",
      "annoy time: 6.532262086868286\n",
      "annoy time: 7.16698145866394\n",
      "annoy time: 7.001985311508179\n",
      "annoy time: 7.620319128036499\n",
      "annoy time: 7.962609767913818\n",
      "annoy time: 9.47650694847107\n",
      "annoy time: 12.757362842559814\n",
      "annoy time: 14.541619539260864\n",
      "annoy time: 16.71943759918213\n",
      "annoy time: 23.05631399154663\n",
      "annoy time: 28.94199562072754\n",
      "annoy time: 34.94197869300842\n",
      "annoy time: 40.673919677734375\n",
      "annoy time: 46.600183963775635\n",
      "annoy time: 53.964300870895386\n",
      "annoy time: 67.92802619934082\n",
      "annoy time: 74.54597401618958\n",
      "annoy time: 6.614971399307251\n",
      "annoy time: 6.503242015838623\n",
      "annoy time: 6.426928758621216\n",
      "annoy time: 7.214396715164185\n",
      "annoy time: 7.047726392745972\n",
      "annoy time: 7.5926690101623535\n",
      "annoy time: 7.726507663726807\n",
      "annoy time: 10.04833722114563\n",
      "annoy time: 14.908270597457886\n",
      "annoy time: 15.312138557434082\n",
      "annoy time: 19.314557552337646\n",
      "annoy time: 23.74765396118164\n",
      "annoy time: 29.75806999206543\n",
      "annoy time: 34.589258432388306\n",
      "annoy time: 42.2648389339447\n",
      "annoy time: 50.43650412559509\n",
      "annoy time: 52.57862687110901\n",
      "annoy time: 66.99833941459656\n",
      "annoy time: 75.06419157981873\n",
      "annoy time: 6.474329710006714\n",
      "annoy time: 6.552523136138916\n",
      "annoy time: 6.791825771331787\n",
      "annoy time: 7.063134431838989\n",
      "annoy time: 7.113674163818359\n",
      "annoy time: 7.494276523590088\n",
      "annoy time: 7.8949244022369385\n",
      "annoy time: 9.340461015701294\n",
      "annoy time: 12.658265829086304\n",
      "annoy time: 14.779642820358276\n",
      "annoy time: 17.001611948013306\n",
      "annoy time: 24.134591341018677\n",
      "annoy time: 30.404523134231567\n",
      "annoy time: 41.56892108917236\n",
      "annoy time: 42.89366674423218\n",
      "annoy time: 47.665504693984985\n",
      "annoy time: 56.77133750915527\n",
      "annoy time: 65.33924293518066\n",
      "annoy time: 80.22871494293213\n"
     ]
    }
   ],
   "source": [
    "alltime = []\n",
    "allndcg = []\n",
    "for i in range(20):    \n",
    "    tt = []\n",
    "    accs = []\n",
    "    ndcgs = []\n",
    "    trees = [5, 6, 7, 9, 10, 12, 15, 20, 30, 40, 50, 75, 100, 125, 150, 175, 200, 250, 300]\n",
    "    for i in trees:\n",
    "        Tannoy_indices_CB, Tannoy_distances_CB, Tduration_CB = get_annoy_results_c(item_content_map, number_of_trees = i, number_of_neighbours = 10)\n",
    "        tt.append(65243/Tduration_CB)\n",
    "        accs.append(calc_acc(Tannoy_indices_CB, Aknn_indices_brute_CB, 10))\n",
    "        ndcgs.append(calc_nDCG(Tannoy_indices_CB, Aknn_indices_brute_CB, 10))\n",
    "    alltime.append(tt)\n",
    "    allndcg.append(ndcgs)\n",
    "alltime = np.array(alltime)\n",
    "allndcg = np.array(allndcg)"
   ]
  },
  {
   "cell_type": "code",
   "execution_count": 44,
   "metadata": {},
   "outputs": [
    {
     "data": {
      "image/png": "[encoded data removed]",
      "text/plain": [
       "<Figure size 432x288 with 1 Axes>"
      ]
     },
     "metadata": {
      "needs_background": "light"
     },
     "output_type": "display_data"
    }
   ],
   "source": [
    "plt.plot(np.mean(allndcg, axis= 0), np.mean(alltime, axis = 0))\n",
    "plt.ylabel(\"Recommendations per second\")\n",
    "plt.xlabel(\"Normalized Discounted Cumulative Gain (NDCG)\")\n",
    "for i in [0,3,7,10,17]:\n",
    "    plt.annotate(\n",
    "            str(trees[i]) + \" trees\",\n",
    "            xy=(np.mean(allndcg, axis= 0)[i], np.mean(alltime, axis = 0)[i]), xytext=(30, 30),\n",
    "            textcoords='offset points', ha='left', va='top',\n",
    "            bbox=dict(boxstyle='round,pad=0.5', fc='yellow', alpha=0.5),\n",
    "            arrowprops=dict(arrowstyle = '->', connectionstyle='arc3,rad=0'))"
   ]
  },
  {
   "cell_type": "code",
   "execution_count": 35,
   "metadata": {},
   "outputs": [
    {
     "data": {
      "image/png": "[encoded data removed]",
      "text/plain": [
       "<Figure size 432x288 with 1 Axes>"
      ]
     },
     "metadata": {
      "needs_background": "light"
     },
     "output_type": "display_data"
    }
   ],
   "source": [
    "plt.plot(accs, tt)\n",
    "plt.ylabel(\"Recommendations per second\")\n",
    "plt.xlabel(\"accuracy\")\n",
    "for i in [0,3,5,10,14]:\n",
    "    plt.annotate(\n",
    "            str(trees[i]) + \" trees\",\n",
    "            xy=(accs[i], tt[i]), xytext=(30, 30),\n",
    "            textcoords='offset points', ha='left', va='top',\n",
    "            bbox=dict(boxstyle='round,pad=0.5', fc='yellow', alpha=0.5),\n",
    "            arrowprops=dict(arrowstyle = '->', connectionstyle='arc3,rad=0'))"
   ]
  },
  {
   "cell_type": "code",
   "execution_count": 63,
   "metadata": {},
   "outputs": [
    {
     "ename": "NameError",
     "evalue": "name 'tt' is not defined",
     "output_type": "error",
     "traceback": [
      "\u001b[0;31m---------------------------------------------------------------------------\u001b[0m",
      "\u001b[0;31mNameError\u001b[0m                                 Traceback (most recent call last)",
      "\u001b[0;32m<ipython-input-63-272a9d1c39d9>\u001b[0m in \u001b[0;36m<module>\u001b[0;34m\u001b[0m\n\u001b[0;32m----> 1\u001b[0;31m \u001b[0mprint\u001b[0m\u001b[0;34m(\u001b[0m\u001b[0mtt\u001b[0m\u001b[0;34m)\u001b[0m\u001b[0;34m\u001b[0m\u001b[0;34m\u001b[0m\u001b[0m\n\u001b[0m\u001b[1;32m      2\u001b[0m \u001b[0mprint\u001b[0m\u001b[0;34m(\u001b[0m\u001b[0maccs\u001b[0m\u001b[0;34m)\u001b[0m\u001b[0;34m\u001b[0m\u001b[0;34m\u001b[0m\u001b[0m\n\u001b[1;32m      3\u001b[0m \u001b[0mprint\u001b[0m\u001b[0;34m(\u001b[0m\u001b[0mndcgs\u001b[0m\u001b[0;34m)\u001b[0m\u001b[0;34m\u001b[0m\u001b[0;34m\u001b[0m\u001b[0m\n",
      "\u001b[0;31mNameError\u001b[0m: name 'tt' is not defined"
     ]
    }
   ],
   "source": [
    "print(tt)\n",
    "print(accs)\n",
    "print(ndcgs)"
   ]
  },
  {
   "cell_type": "markdown",
   "metadata": {},
   "source": [
    "## Precision Recall @k and MAE"
   ]
  },
  {
   "cell_type": "code",
   "execution_count": null,
   "metadata": {},
   "outputs": [],
   "source": []
  },
  {
   "cell_type": "code",
   "execution_count": 28,
   "metadata": {},
   "outputs": [
    {
     "data": {
      "text/plain": [
       "19.879060983657837"
      ]
     },
     "execution_count": 28,
     "metadata": {},
     "output_type": "execute_result"
    }
   ],
   "source": [
    "now = time.time()\n",
    "aproximated_matrix = np.matmul(user_vectors, np.transpose(item_vectors))\n",
    "time.time() - now"
   ]
  },
  {
   "cell_type": "code",
   "execution_count": 30,
   "metadata": {},
   "outputs": [
    {
     "data": {
      "text/plain": [
       "232.96968388557434"
      ]
     },
     "execution_count": 30,
     "metadata": {},
     "output_type": "execute_result"
    }
   ],
   "source": [
    "start = time.time()\n",
    "# implicit_matrix = implicit_matrix.toarray()\n",
    "absolute_error = abs(aproximated_matrix - implicit_matrix)\n",
    "time.time() - start"
   ]
  },
  {
   "cell_type": "code",
   "execution_count": 31,
   "metadata": {},
   "outputs": [
    {
     "data": {
      "text/plain": [
       "71.03863096237183"
      ]
     },
     "execution_count": 31,
     "metadata": {},
     "output_type": "execute_result"
    }
   ],
   "source": [
    "start = time.time()\n",
    "MAE = absolute_error.mean()\n",
    "time.time() - start"
   ]
  },
  {
   "cell_type": "code",
   "execution_count": 32,
   "metadata": {},
   "outputs": [
    {
     "data": {
      "text/plain": [
       "0.009043916284864414"
      ]
     },
     "execution_count": 32,
     "metadata": {},
     "output_type": "execute_result"
    }
   ],
   "source": [
    "MAE"
   ]
  },
  {
   "cell_type": "code",
   "execution_count": 27,
   "metadata": {},
   "outputs": [
    {
     "name": "stderr",
     "output_type": "stream",
     "text": [
      "100%|██████████| 233197/233197 [18:19<00:00, 212.01it/s]\n"
     ]
    }
   ],
   "source": [
    "idk = []\n",
    "for i in tqdm(range(len(implicit_matrix))):\n",
    "    temp = []\n",
    "    for j in range(len(implicit_matrix[i])):\n",
    "        if implicit_matrix[i][j] > 0:\n",
    "            temp.append((implicit_matrix[i][j], j))\n",
    "    idk.append(temp)"
   ]
  },
  {
   "cell_type": "code",
   "execution_count": 41,
   "metadata": {},
   "outputs": [
    {
     "name": "stderr",
     "output_type": "stream",
     "text": [
      "100%|██████████| 233197/233197 [15:20<00:00, 253.30it/s]\n"
     ]
    }
   ],
   "source": [
    "idk2 = []\n",
    "for i in tqdm(range(len(aproximated_matrix))):\n",
    "    temp = []\n",
    "    for j in range(len(aproximated_matrix[i])):\n",
    "        if aproximated_matrix[i][j] > 0.3:\n",
    "            temp.append((aproximated_matrix[i][j], j))\n",
    "    idk2.append(temp)"
   ]
  },
  {
   "cell_type": "code",
   "execution_count": 80,
   "metadata": {},
   "outputs": [
    {
     "name": "stderr",
     "output_type": "stream",
     "text": [
      "100%|██████████| 233197/233197 [00:00<00:00, 263142.36it/s]\n"
     ]
    }
   ],
   "source": [
    "for i in tqdm(range(len(idk2))):\n",
    "    idk2[i] = sorted(idk2[i], key=lambda x: x[0], reverse=True)"
   ]
  },
  {
   "cell_type": "code",
   "execution_count": 86,
   "metadata": {},
   "outputs": [],
   "source": [
    "def Precision_recall_at_k(idk2, idk, k):\n",
    "    users_visited_indeces = \\\n",
    "    [[i[1] for i in idk[j]] for j in range(len(idk))]\n",
    "#     print(users_visited_indeces[0:10])\n",
    "    recommended_relevant = []\n",
    "    relevants = []\n",
    "    for i in range(len(idk2)):\n",
    "        temp = 0\n",
    "        if len(idk2[i]) >= k and len(users_visited_indeces[i]) >= k:\n",
    "            for j in range(len(idk2[i][0:k+1])):\n",
    "                if idk2[i][j][1] in users_visited_indeces[i]:\n",
    "                    temp += 1\n",
    "            recommended_relevant.append(temp)\n",
    "            relevants.append(len(users_visited_indeces[i]))\n",
    "    p = (np.array(recommended_relevant) / k).mean()\n",
    "    r = []\n",
    "    for i in zip(recommended_relevant, relevants):\n",
    "        r.append(i[0]/i[1])\n",
    "    r = np.array(r).mean()\n",
    "    return p, r"
   ]
  },
  {
   "cell_type": "code",
   "execution_count": 87,
   "metadata": {},
   "outputs": [
    {
     "name": "stdout",
     "output_type": "stream",
     "text": [
      "k = 1 (0.7186354499231405, 0.3132991983320419)\n",
      "k = 2 (0.45802332358454406, 0.39563191122090663)\n",
      "k = 3 (0.3964406552864489, 0.33340775120759264)\n",
      "k = 4 (0.3518457896857373, 0.28333117710725014)\n",
      "k = 5 (0.3264939622252039, 0.2523960932844422)\n",
      "k = 6 (0.31026053776903356, 0.231139391231143)\n",
      "k = 7 (0.30018033558099416, 0.2186396367495723)\n",
      "k = 8 (0.29234575087310827, 0.20980850487899763)\n",
      "k = 9 (0.2872784150156413, 0.204103039836464)\n",
      "k = 10 (0.2821524064171123, 0.1993732143623082)\n",
      "k = 11 (0.27719190208605954, 0.1940893510669637)\n",
      "k = 12 (0.2746406570841889, 0.19230763612031124)\n",
      "k = 13 (0.2700897117770567, 0.18766172434375045)\n",
      "k = 14 (0.2647549530761209, 0.1844010920044037)\n",
      "k = 15 (0.25830429732868754, 0.17646792331281605)\n",
      "k = 16 (0.2542162698412698, 0.17401698465680013)\n",
      "k = 17 (0.24929360390444388, 0.17363907796836417)\n",
      "k = 18 (0.244718792866941, 0.17004162464521388)\n",
      "k = 19 (0.24428718855963436, 0.1696894556403601)\n"
     ]
    }
   ],
   "source": [
    "for k in range(1, 20):\n",
    "    print('k =', k, Precision_recall_at_k(idk2, idk, k))"
   ]
  },
  {
   "cell_type": "code",
   "execution_count": null,
   "metadata": {},
   "outputs": [],
   "source": []
  },
  {
   "cell_type": "code",
   "execution_count": null,
   "metadata": {},
   "outputs": [],
   "source": []
  }
 ],
 "metadata": {
  "kernelspec": {
   "display_name": "Python 3",
   "language": "python",
   "name": "python3"
  },
  "language_info": {
   "codemirror_mode": {
    "name": "ipython",
    "version": 3
   },
   "file_extension": ".py",
   "mimetype": "text/x-python",
   "name": "python",
   "nbconvert_exporter": "python",
   "pygments_lexer": "ipython3",
   "version": "3.8.5"
  }
 },
 "nbformat": 4,
 "nbformat_minor": 2
}
