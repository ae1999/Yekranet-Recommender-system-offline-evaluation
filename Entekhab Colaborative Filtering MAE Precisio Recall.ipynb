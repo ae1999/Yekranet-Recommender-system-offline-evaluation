{
 "cells": [
  {
   "cell_type": "code",
   "execution_count": 27,
   "metadata": {},
   "outputs": [],
   "source": [
    "import pandas as pd\n",
    "import numpy as np\n",
    "import matplotlib.pyplot as plt\n",
    "from matplotlib import colors\n",
    "from matplotlib.ticker import PercentFormatter\n",
    "from tqdm import tqdm\n",
    "\n",
    "import timeit\n",
    "import time\n",
    "import math\n",
    "\n",
    "# ./indexer\n",
    "from indexer import AppendIndexer\n",
    "import ALS\n",
    "\n",
    "# Annoy\n",
    "from annoy import AnnoyIndex\n",
    "\n",
    "#SKLearn \n",
    "from sklearn.neighbors import NearestNeighbors\n",
    "from sklearn.metrics import average_precision_score\n",
    "from sklearn.metrics import pairwise_distances\n",
    "\n",
    "# scipy\n",
    "from scipy.spatial import distance\n",
    "from scipy.sparse import lil_matrix"
   ]
  },
  {
   "cell_type": "markdown",
   "metadata": {},
   "source": [
    "## Utils"
   ]
  },
  {
   "cell_type": "code",
   "execution_count": 28,
   "metadata": {},
   "outputs": [],
   "source": [
    "def calc_nDCG(annoy_indices, knn_indices, k, discount = 3):\n",
    "    aa = []\n",
    "    for i in range(len(annoy_indices)):\n",
    "        b = []\n",
    "        for j in annoy_indices[i][1:]:\n",
    "            if j in knn_indices[i][:k]:\n",
    "                b.append(1)\n",
    "            else:\n",
    "                b.append(0)\n",
    "        aa.append(b)\n",
    "    res = []\n",
    "    for a in aa:\n",
    "        acc = 0\n",
    "        for i in range(len(a)):\n",
    "            acc += a[i]/math.log(i+7, 7)\n",
    "        if not len(a):\n",
    "            res.append(0)\n",
    "        else:\n",
    "            res.append(acc/len(a))\n",
    "    return np.array(res).mean()\n",
    "\n",
    "def calc_acc(annoy_indices, knn_indices, k):\n",
    "    aa = []\n",
    "    for i in range(len(annoy_indices)):\n",
    "        b = []\n",
    "        for j in annoy_indices[i][1:]:\n",
    "            if j in knn_indices[i][:k]:\n",
    "                b.append(1)\n",
    "            else:\n",
    "                b.append(0)\n",
    "        aa.append(b)\n",
    "    res2 = []\n",
    "    for a in aa:\n",
    "        acc2 = 0\n",
    "        for i in range(len(a)):\n",
    "            acc2 += a[i]\n",
    "        if not len(a):\n",
    "            res2.append(0)\n",
    "        else:\n",
    "            res2.append(acc2/len(a))\n",
    "    return np.array(res2).mean()"
   ]
  },
  {
   "cell_type": "code",
   "execution_count": 29,
   "metadata": {},
   "outputs": [
    {
     "data": {
      "text/html": [
       "<div>\n",
       "<style scoped>\n",
       "    .dataframe tbody tr th:only-of-type {\n",
       "        vertical-align: middle;\n",
       "    }\n",
       "\n",
       "    .dataframe tbody tr th {\n",
       "        vertical-align: top;\n",
       "    }\n",
       "\n",
       "    .dataframe thead th {\n",
       "        text-align: right;\n",
       "    }\n",
       "</style>\n",
       "<table border=\"1\" class=\"dataframe\">\n",
       "  <thead>\n",
       "    <tr style=\"text-align: right;\">\n",
       "      <th></th>\n",
       "      <th>id</th>\n",
       "      <th>created</th>\n",
       "      <th>content_vector</th>\n",
       "      <th>title</th>\n",
       "      <th>cleaned_url</th>\n",
       "      <th>website_id</th>\n",
       "      <th>included</th>\n",
       "      <th>is_amp</th>\n",
       "      <th>has_image_meta</th>\n",
       "      <th>has_title_meta</th>\n",
       "      <th>page_id</th>\n",
       "      <th>subdomain_id</th>\n",
       "      <th>title_vector</th>\n",
       "      <th>image_id</th>\n",
       "      <th>cats</th>\n",
       "    </tr>\n",
       "  </thead>\n",
       "  <tbody>\n",
       "    <tr>\n",
       "      <th>0</th>\n",
       "      <td>761039</td>\n",
       "      <td>2020-08-09 03:40:44.820172+04:30</td>\n",
       "      <td>{0.264251947402954,-0.644542038440704,-0.18412...</td>\n",
       "      <td>یادداشت‌های علم، شنبه ۲۴ مرداد ۱۳۴۹: ایادی ما ...</td>\n",
       "      <td>entekhab.ir/fa/news/495749/%DB%8C%D8%A7%D8%AF%...</td>\n",
       "      <td>2</td>\n",
       "      <td>t</td>\n",
       "      <td>f</td>\n",
       "      <td>f</td>\n",
       "      <td>t</td>\n",
       "      <td>28054354</td>\n",
       "      <td>73</td>\n",
       "      <td>{3.626948595047,0.779965162277222,0.8395900726...</td>\n",
       "      <td>602.0</td>\n",
       "      <td>{23}</td>\n",
       "    </tr>\n",
       "    <tr>\n",
       "      <th>1</th>\n",
       "      <td>2754181</td>\n",
       "      <td>2020-09-26 03:50:01.442172+03:30</td>\n",
       "      <td>{0.273704349994659,-0.830473184585571,-0.28864...</td>\n",
       "      <td>ايران همچنان همان امپراتوری پارس است /  عربستا...</td>\n",
       "      <td>entekhab.ir/fa/news/266708/%D8%A7%D9%8A%D8%B1%...</td>\n",
       "      <td>2</td>\n",
       "      <td>t</td>\n",
       "      <td>f</td>\n",
       "      <td>f</td>\n",
       "      <td>t</td>\n",
       "      <td>37476083</td>\n",
       "      <td>73</td>\n",
       "      <td>{1.13415098190308,-1.20623469352722,-0.6013424...</td>\n",
       "      <td>621.0</td>\n",
       "      <td>{15}</td>\n",
       "    </tr>\n",
       "    <tr>\n",
       "      <th>2</th>\n",
       "      <td>4286495</td>\n",
       "      <td>2020-10-03 10:35:21.85205+03:30</td>\n",
       "      <td>{0.853439688682556,-0.564931094646454,-0.37323...</td>\n",
       "      <td>همه آنچه برای ترامپ در شب گذشته رخ داد؛ از تنگ...</td>\n",
       "      <td>entekhab.ir/fa/news/577730/%D9%87%D9%85%D9%87-...</td>\n",
       "      <td>2</td>\n",
       "      <td>t</td>\n",
       "      <td>f</td>\n",
       "      <td>t</td>\n",
       "      <td>t</td>\n",
       "      <td>38017087</td>\n",
       "      <td>73</td>\n",
       "      <td>{2.13742733001709,-1.12283325195312,-0.3791791...</td>\n",
       "      <td>1530910.0</td>\n",
       "      <td>{15}</td>\n",
       "    </tr>\n",
       "    <tr>\n",
       "      <th>3</th>\n",
       "      <td>4875542</td>\n",
       "      <td>2020-10-10 09:40:15.864975+03:30</td>\n",
       "      <td>{1.15192973613739,-0.138078510761261,0.6881629...</td>\n",
       "      <td>پیکر ۲ جانباخته ریزش ساختمان در در خیابان ابوذ...</td>\n",
       "      <td>entekhab.ir/fa/news/578944/%D9%BE%DB%8C%DA%A9%...</td>\n",
       "      <td>2</td>\n",
       "      <td>t</td>\n",
       "      <td>f</td>\n",
       "      <td>t</td>\n",
       "      <td>t</td>\n",
       "      <td>38559541</td>\n",
       "      <td>73</td>\n",
       "      <td>{0.230344951152802,0.131352335214615,0.9686161...</td>\n",
       "      <td>1758716.0</td>\n",
       "      <td>{21}</td>\n",
       "    </tr>\n",
       "    <tr>\n",
       "      <th>4</th>\n",
       "      <td>536136</td>\n",
       "      <td>2020-08-09 03:29:13.257136+04:30</td>\n",
       "      <td>{0.704237043857574,-1.47816872596741,0.4682139...</td>\n",
       "      <td>7تن گوشت چرخ کرده با سنگدون مرغ یخ زده و چربی ...</td>\n",
       "      <td>entekhab.ir/fa/news/434541/7%D8%AA%D9%86-%DA%A...</td>\n",
       "      <td>2</td>\n",
       "      <td>t</td>\n",
       "      <td>f</td>\n",
       "      <td>t</td>\n",
       "      <td>t</td>\n",
       "      <td>29837398</td>\n",
       "      <td>73</td>\n",
       "      <td>{3.626948595047,0.779965162277222,0.8395900726...</td>\n",
       "      <td>750.0</td>\n",
       "      <td>{22}</td>\n",
       "    </tr>\n",
       "    <tr>\n",
       "      <th>5</th>\n",
       "      <td>926557</td>\n",
       "      <td>2020-08-09 03:48:27.715412+04:30</td>\n",
       "      <td>{-0.272317439317703,0.354126185178757,0.105726...</td>\n",
       "      <td>ویدیو / دری نجف آبادی: ممکن است FATF از دستور ...</td>\n",
       "      <td>entekhab.ir/fa/news/553636/%D9%88%DB%8C%D8%AF%...</td>\n",
       "      <td>2</td>\n",
       "      <td>t</td>\n",
       "      <td>f</td>\n",
       "      <td>f</td>\n",
       "      <td>t</td>\n",
       "      <td>27251139</td>\n",
       "      <td>73</td>\n",
       "      <td>{3.626948595047,0.779965162277222,0.8395900726...</td>\n",
       "      <td>NaN</td>\n",
       "      <td>{23}</td>\n",
       "    </tr>\n",
       "    <tr>\n",
       "      <th>6</th>\n",
       "      <td>2679316</td>\n",
       "      <td>2020-09-19 21:33:51.475395+04:30</td>\n",
       "      <td>{0.808205783367157,-0.969625532627106,-0.40755...</td>\n",
       "      <td>تا زمان برگزاری انتخابات آمریکا و بیان صریح مو...</td>\n",
       "      <td>entekhab.ir/fa/news/575411/%D8%AA%D8%A7-%D8%B2...</td>\n",
       "      <td>2</td>\n",
       "      <td>t</td>\n",
       "      <td>f</td>\n",
       "      <td>t</td>\n",
       "      <td>t</td>\n",
       "      <td>36975475</td>\n",
       "      <td>73</td>\n",
       "      <td>{1.24864614009857,-1.19327878952026,-0.5599737...</td>\n",
       "      <td>1324.0</td>\n",
       "      <td>{15}</td>\n",
       "    </tr>\n",
       "    <tr>\n",
       "      <th>7</th>\n",
       "      <td>4286727</td>\n",
       "      <td>2020-10-03 10:45:24.947041+03:30</td>\n",
       "      <td>{0.853987216949463,-0.202528178691864,-0.49360...</td>\n",
       "      <td>رئیس پلیس تهران: ارسال اشتباهی پیامک‌های حجاب ...</td>\n",
       "      <td>entekhab.ir/fa/news/577736/%D8%B1%D8%A6%DB%8C%...</td>\n",
       "      <td>2</td>\n",
       "      <td>t</td>\n",
       "      <td>f</td>\n",
       "      <td>t</td>\n",
       "      <td>t</td>\n",
       "      <td>38018045</td>\n",
       "      <td>73</td>\n",
       "      <td>{1.85497891902924,0.154068395495415,-0.8957029...</td>\n",
       "      <td>1531042.0</td>\n",
       "      <td>{15}</td>\n",
       "    </tr>\n",
       "    <tr>\n",
       "      <th>8</th>\n",
       "      <td>464068</td>\n",
       "      <td>2020-08-09 03:25:58.532063+04:30</td>\n",
       "      <td>{-1.08582651615143,0.0488543212413788,0.038908...</td>\n",
       "      <td>ویدیو / توضیحات رئیس دفتر رئیس جمهور درمورد سن...</td>\n",
       "      <td>entekhab.ir/fa/news/560545/%D9%88%DB%8C%D8%AF%...</td>\n",
       "      <td>2</td>\n",
       "      <td>t</td>\n",
       "      <td>f</td>\n",
       "      <td>f</td>\n",
       "      <td>t</td>\n",
       "      <td>30691160</td>\n",
       "      <td>73</td>\n",
       "      <td>{3.626948595047,0.779965162277222,0.8395900726...</td>\n",
       "      <td>NaN</td>\n",
       "      <td>{23}</td>\n",
       "    </tr>\n",
       "    <tr>\n",
       "      <th>9</th>\n",
       "      <td>502039</td>\n",
       "      <td>2020-08-09 03:27:52.377476+04:30</td>\n",
       "      <td>{0.598500967025757,-0.519518435001373,-0.30455...</td>\n",
       "      <td>دیگر در تهران تخت خالی برای بستری بیمار کرونای...</td>\n",
       "      <td>entekhab.ir/fa/news/559856/%D8%AF%DB%8C%DA%AF%...</td>\n",
       "      <td>2</td>\n",
       "      <td>t</td>\n",
       "      <td>f</td>\n",
       "      <td>t</td>\n",
       "      <td>t</td>\n",
       "      <td>30236589</td>\n",
       "      <td>73</td>\n",
       "      <td>{3.626948595047,0.779965162277222,0.8395900726...</td>\n",
       "      <td>1720.0</td>\n",
       "      <td>{-1}</td>\n",
       "    </tr>\n",
       "    <tr>\n",
       "      <th>10</th>\n",
       "      <td>2679265</td>\n",
       "      <td>2020-09-19 21:33:51.383559+04:30</td>\n",
       "      <td>{0.626656830310822,-0.833987236022949,-0.14109...</td>\n",
       "      <td>زنانگی نهفته و آزار جنسی / چرا تنها در آزار جن...</td>\n",
       "      <td>entekhab.ir/fa/news/575391/%D8%B2%D9%86%D8%A7%...</td>\n",
       "      <td>2</td>\n",
       "      <td>t</td>\n",
       "      <td>f</td>\n",
       "      <td>f</td>\n",
       "      <td>t</td>\n",
       "      <td>36964218</td>\n",
       "      <td>73</td>\n",
       "      <td>{1.34037363529205,-1.04718887805939,-0.6416489...</td>\n",
       "      <td>NaN</td>\n",
       "      <td>{37}</td>\n",
       "    </tr>\n",
       "    <tr>\n",
       "      <th>11</th>\n",
       "      <td>2679335</td>\n",
       "      <td>2020-09-19 21:33:51.495403+04:30</td>\n",
       "      <td>{1.12349617481232,-1.7834061384201,-0.52237802...</td>\n",
       "      <td>منابع عراقی: یکی از خطرناک‌ترین سرکرده‌های داع...</td>\n",
       "      <td>entekhab.ir/fa/news/575468/%D9%85%D9%86%D8%A7%...</td>\n",
       "      <td>2</td>\n",
       "      <td>t</td>\n",
       "      <td>f</td>\n",
       "      <td>t</td>\n",
       "      <td>t</td>\n",
       "      <td>36981382</td>\n",
       "      <td>73</td>\n",
       "      <td>{1.73352956771851,-1.97286546230316,-1.2237212...</td>\n",
       "      <td>1335.0</td>\n",
       "      <td>{15}</td>\n",
       "    </tr>\n",
       "    <tr>\n",
       "      <th>12</th>\n",
       "      <td>2679336</td>\n",
       "      <td>2020-09-19 21:33:51.497447+04:30</td>\n",
       "      <td>{-0.128071650862694,-1.17892694473267,-0.83446...</td>\n",
       "      <td>تلاش آمریکا برای کشاندن لبنان به روند سازش با ...</td>\n",
       "      <td>entekhab.ir/fa/news/575470/%D8%AA%D9%84%D8%A7%...</td>\n",
       "      <td>2</td>\n",
       "      <td>t</td>\n",
       "      <td>f</td>\n",
       "      <td>t</td>\n",
       "      <td>t</td>\n",
       "      <td>36981754</td>\n",
       "      <td>73</td>\n",
       "      <td>{0.268955439329147,-2.4835684299469,-1.7646369...</td>\n",
       "      <td>1336.0</td>\n",
       "      <td>{15}</td>\n",
       "    </tr>\n",
       "    <tr>\n",
       "      <th>13</th>\n",
       "      <td>444553</td>\n",
       "      <td>2020-08-09 03:24:55.313982+04:30</td>\n",
       "      <td>{-0.536924719810486,-0.707858860492706,-0.4412...</td>\n",
       "      <td>سرانجام مذاکره‌کنندگان برجام/ نمایندگان کشورما...</td>\n",
       "      <td>entekhab.ir/fa/news/469852/%D8%B3%D8%B1%D8%A7%...</td>\n",
       "      <td>2</td>\n",
       "      <td>t</td>\n",
       "      <td>f</td>\n",
       "      <td>t</td>\n",
       "      <td>t</td>\n",
       "      <td>31010062</td>\n",
       "      <td>73</td>\n",
       "      <td>{3.626948595047,0.779965162277222,0.8395900726...</td>\n",
       "      <td>1829.0</td>\n",
       "      <td>{15}</td>\n",
       "    </tr>\n",
       "    <tr>\n",
       "      <th>14</th>\n",
       "      <td>565282</td>\n",
       "      <td>2020-08-09 03:30:45.27217+04:30</td>\n",
       "      <td>{0.354604035615921,-0.947246968746185,-0.62237...</td>\n",
       "      <td>چین: تحریم تسلیحاتی علیه ایران باید برچیده شود</td>\n",
       "      <td>entekhab.ir/fa/news/558970/%DA%86%DB%8C%D9%86-...</td>\n",
       "      <td>2</td>\n",
       "      <td>t</td>\n",
       "      <td>f</td>\n",
       "      <td>t</td>\n",
       "      <td>t</td>\n",
       "      <td>29604777</td>\n",
       "      <td>73</td>\n",
       "      <td>{3.626948595047,0.779965162277222,0.8395900726...</td>\n",
       "      <td>1389.0</td>\n",
       "      <td>{15}</td>\n",
       "    </tr>\n",
       "    <tr>\n",
       "      <th>15</th>\n",
       "      <td>571912</td>\n",
       "      <td>2020-08-09 03:31:11.099022+04:30</td>\n",
       "      <td>{0.974454462528229,-0.760468006134033,-0.33737...</td>\n",
       "      <td>تخت‌های کرونایی بیمارستان‌های دانشگاه علوم پزش...</td>\n",
       "      <td>entekhab.ir/fa/news/558858/%D8%AA%D8%AE%D8%AA%...</td>\n",
       "      <td>2</td>\n",
       "      <td>t</td>\n",
       "      <td>f</td>\n",
       "      <td>t</td>\n",
       "      <td>t</td>\n",
       "      <td>29559450</td>\n",
       "      <td>73</td>\n",
       "      <td>{3.626948595047,0.779965162277222,0.8395900726...</td>\n",
       "      <td>1420.0</td>\n",
       "      <td>{14}</td>\n",
       "    </tr>\n",
       "    <tr>\n",
       "      <th>16</th>\n",
       "      <td>628389</td>\n",
       "      <td>2020-08-09 03:33:39.279101+04:30</td>\n",
       "      <td>{0.386123269796371,-1.14280593395233,-0.343138...</td>\n",
       "      <td>ترامپ: بولتون دیوانه است / او کارش را خوب انجا...</td>\n",
       "      <td>entekhab.ir/fa/news/557981/%D8%AA%D8%B1%D8%A7%...</td>\n",
       "      <td>2</td>\n",
       "      <td>t</td>\n",
       "      <td>f</td>\n",
       "      <td>t</td>\n",
       "      <td>t</td>\n",
       "      <td>29094620</td>\n",
       "      <td>73</td>\n",
       "      <td>{3.626948595047,0.779965162277222,0.8395900726...</td>\n",
       "      <td>2430.0</td>\n",
       "      <td>{15}</td>\n",
       "    </tr>\n",
       "    <tr>\n",
       "      <th>17</th>\n",
       "      <td>673569</td>\n",
       "      <td>2020-08-09 03:36:09.238384+04:30</td>\n",
       "      <td>{1.3070216178894,-0.0621618740260601,0.4277252...</td>\n",
       "      <td>مدیرعامل اسبق شرکت ملی گاز: با برنامه ریزی انج...</td>\n",
       "      <td>entekhab.ir/fa/news/557061/%D9%85%D8%AF%DB%8C%...</td>\n",
       "      <td>2</td>\n",
       "      <td>t</td>\n",
       "      <td>f</td>\n",
       "      <td>t</td>\n",
       "      <td>t</td>\n",
       "      <td>28689191</td>\n",
       "      <td>73</td>\n",
       "      <td>{3.626948595047,0.779965162277222,0.8395900726...</td>\n",
       "      <td>1521.0</td>\n",
       "      <td>{11}</td>\n",
       "    </tr>\n",
       "    <tr>\n",
       "      <th>18</th>\n",
       "      <td>400574</td>\n",
       "      <td>2020-08-09 03:22:59.303666+04:30</td>\n",
       "      <td>{1.3474588394165,-0.474584966897964,-0.6909079...</td>\n",
       "      <td>Covid-19 ممکن است برای بار دوم شدیدتر هم بشود</td>\n",
       "      <td>entekhab.ir/fa/news/561944/covid-19-%D9%85%D9%...</td>\n",
       "      <td>2</td>\n",
       "      <td>t</td>\n",
       "      <td>f</td>\n",
       "      <td>t</td>\n",
       "      <td>t</td>\n",
       "      <td>31566416</td>\n",
       "      <td>73</td>\n",
       "      <td>{3.626948595047,0.779965162277222,0.8395900726...</td>\n",
       "      <td>1675.0</td>\n",
       "      <td>{14}</td>\n",
       "    </tr>\n",
       "    <tr>\n",
       "      <th>19</th>\n",
       "      <td>530544</td>\n",
       "      <td>2020-08-09 03:29:10.86648+04:30</td>\n",
       "      <td>{0.960443079471588,-0.928422391414642,0.120606...</td>\n",
       "      <td>سردار جلالی: رعایت نکردن مسائل ایمنی،  علت حاد...</td>\n",
       "      <td>entekhab.ir/fa/news/559457/%D8%B3%D8%B1%D8%AF%...</td>\n",
       "      <td>2</td>\n",
       "      <td>t</td>\n",
       "      <td>f</td>\n",
       "      <td>t</td>\n",
       "      <td>t</td>\n",
       "      <td>29897857</td>\n",
       "      <td>73</td>\n",
       "      <td>{3.626948595047,0.779965162277222,0.8395900726...</td>\n",
       "      <td>1695.0</td>\n",
       "      <td>{15}</td>\n",
       "    </tr>\n",
       "  </tbody>\n",
       "</table>\n",
       "</div>"
      ],
      "text/plain": [
       "         id                           created  \\\n",
       "0    761039  2020-08-09 03:40:44.820172+04:30   \n",
       "1   2754181  2020-09-26 03:50:01.442172+03:30   \n",
       "2   4286495   2020-10-03 10:35:21.85205+03:30   \n",
       "3   4875542  2020-10-10 09:40:15.864975+03:30   \n",
       "4    536136  2020-08-09 03:29:13.257136+04:30   \n",
       "5    926557  2020-08-09 03:48:27.715412+04:30   \n",
       "6   2679316  2020-09-19 21:33:51.475395+04:30   \n",
       "7   4286727  2020-10-03 10:45:24.947041+03:30   \n",
       "8    464068  2020-08-09 03:25:58.532063+04:30   \n",
       "9    502039  2020-08-09 03:27:52.377476+04:30   \n",
       "10  2679265  2020-09-19 21:33:51.383559+04:30   \n",
       "11  2679335  2020-09-19 21:33:51.495403+04:30   \n",
       "12  2679336  2020-09-19 21:33:51.497447+04:30   \n",
       "13   444553  2020-08-09 03:24:55.313982+04:30   \n",
       "14   565282   2020-08-09 03:30:45.27217+04:30   \n",
       "15   571912  2020-08-09 03:31:11.099022+04:30   \n",
       "16   628389  2020-08-09 03:33:39.279101+04:30   \n",
       "17   673569  2020-08-09 03:36:09.238384+04:30   \n",
       "18   400574  2020-08-09 03:22:59.303666+04:30   \n",
       "19   530544   2020-08-09 03:29:10.86648+04:30   \n",
       "\n",
       "                                       content_vector  \\\n",
       "0   {0.264251947402954,-0.644542038440704,-0.18412...   \n",
       "1   {0.273704349994659,-0.830473184585571,-0.28864...   \n",
       "2   {0.853439688682556,-0.564931094646454,-0.37323...   \n",
       "3   {1.15192973613739,-0.138078510761261,0.6881629...   \n",
       "4   {0.704237043857574,-1.47816872596741,0.4682139...   \n",
       "5   {-0.272317439317703,0.354126185178757,0.105726...   \n",
       "6   {0.808205783367157,-0.969625532627106,-0.40755...   \n",
       "7   {0.853987216949463,-0.202528178691864,-0.49360...   \n",
       "8   {-1.08582651615143,0.0488543212413788,0.038908...   \n",
       "9   {0.598500967025757,-0.519518435001373,-0.30455...   \n",
       "10  {0.626656830310822,-0.833987236022949,-0.14109...   \n",
       "11  {1.12349617481232,-1.7834061384201,-0.52237802...   \n",
       "12  {-0.128071650862694,-1.17892694473267,-0.83446...   \n",
       "13  {-0.536924719810486,-0.707858860492706,-0.4412...   \n",
       "14  {0.354604035615921,-0.947246968746185,-0.62237...   \n",
       "15  {0.974454462528229,-0.760468006134033,-0.33737...   \n",
       "16  {0.386123269796371,-1.14280593395233,-0.343138...   \n",
       "17  {1.3070216178894,-0.0621618740260601,0.4277252...   \n",
       "18  {1.3474588394165,-0.474584966897964,-0.6909079...   \n",
       "19  {0.960443079471588,-0.928422391414642,0.120606...   \n",
       "\n",
       "                                                title  \\\n",
       "0   یادداشت‌های علم، شنبه ۲۴ مرداد ۱۳۴۹: ایادی ما ...   \n",
       "1   ايران همچنان همان امپراتوری پارس است /  عربستا...   \n",
       "2   همه آنچه برای ترامپ در شب گذشته رخ داد؛ از تنگ...   \n",
       "3   پیکر ۲ جانباخته ریزش ساختمان در در خیابان ابوذ...   \n",
       "4   7تن گوشت چرخ کرده با سنگدون مرغ یخ زده و چربی ...   \n",
       "5   ویدیو / دری نجف آبادی: ممکن است FATF از دستور ...   \n",
       "6   تا زمان برگزاری انتخابات آمریکا و بیان صریح مو...   \n",
       "7   رئیس پلیس تهران: ارسال اشتباهی پیامک‌های حجاب ...   \n",
       "8   ویدیو / توضیحات رئیس دفتر رئیس جمهور درمورد سن...   \n",
       "9   دیگر در تهران تخت خالی برای بستری بیمار کرونای...   \n",
       "10  زنانگی نهفته و آزار جنسی / چرا تنها در آزار جن...   \n",
       "11  منابع عراقی: یکی از خطرناک‌ترین سرکرده‌های داع...   \n",
       "12  تلاش آمریکا برای کشاندن لبنان به روند سازش با ...   \n",
       "13  سرانجام مذاکره‌کنندگان برجام/ نمایندگان کشورما...   \n",
       "14     چین: تحریم تسلیحاتی علیه ایران باید برچیده شود   \n",
       "15  تخت‌های کرونایی بیمارستان‌های دانشگاه علوم پزش...   \n",
       "16  ترامپ: بولتون دیوانه است / او کارش را خوب انجا...   \n",
       "17  مدیرعامل اسبق شرکت ملی گاز: با برنامه ریزی انج...   \n",
       "18      Covid-19 ممکن است برای بار دوم شدیدتر هم بشود   \n",
       "19  سردار جلالی: رعایت نکردن مسائل ایمنی،  علت حاد...   \n",
       "\n",
       "                                          cleaned_url  website_id included  \\\n",
       "0   entekhab.ir/fa/news/495749/%DB%8C%D8%A7%D8%AF%...           2        t   \n",
       "1   entekhab.ir/fa/news/266708/%D8%A7%D9%8A%D8%B1%...           2        t   \n",
       "2   entekhab.ir/fa/news/577730/%D9%87%D9%85%D9%87-...           2        t   \n",
       "3   entekhab.ir/fa/news/578944/%D9%BE%DB%8C%DA%A9%...           2        t   \n",
       "4   entekhab.ir/fa/news/434541/7%D8%AA%D9%86-%DA%A...           2        t   \n",
       "5   entekhab.ir/fa/news/553636/%D9%88%DB%8C%D8%AF%...           2        t   \n",
       "6   entekhab.ir/fa/news/575411/%D8%AA%D8%A7-%D8%B2...           2        t   \n",
       "7   entekhab.ir/fa/news/577736/%D8%B1%D8%A6%DB%8C%...           2        t   \n",
       "8   entekhab.ir/fa/news/560545/%D9%88%DB%8C%D8%AF%...           2        t   \n",
       "9   entekhab.ir/fa/news/559856/%D8%AF%DB%8C%DA%AF%...           2        t   \n",
       "10  entekhab.ir/fa/news/575391/%D8%B2%D9%86%D8%A7%...           2        t   \n",
       "11  entekhab.ir/fa/news/575468/%D9%85%D9%86%D8%A7%...           2        t   \n",
       "12  entekhab.ir/fa/news/575470/%D8%AA%D9%84%D8%A7%...           2        t   \n",
       "13  entekhab.ir/fa/news/469852/%D8%B3%D8%B1%D8%A7%...           2        t   \n",
       "14  entekhab.ir/fa/news/558970/%DA%86%DB%8C%D9%86-...           2        t   \n",
       "15  entekhab.ir/fa/news/558858/%D8%AA%D8%AE%D8%AA%...           2        t   \n",
       "16  entekhab.ir/fa/news/557981/%D8%AA%D8%B1%D8%A7%...           2        t   \n",
       "17  entekhab.ir/fa/news/557061/%D9%85%D8%AF%DB%8C%...           2        t   \n",
       "18  entekhab.ir/fa/news/561944/covid-19-%D9%85%D9%...           2        t   \n",
       "19  entekhab.ir/fa/news/559457/%D8%B3%D8%B1%D8%AF%...           2        t   \n",
       "\n",
       "   is_amp has_image_meta has_title_meta   page_id  subdomain_id  \\\n",
       "0       f              f              t  28054354            73   \n",
       "1       f              f              t  37476083            73   \n",
       "2       f              t              t  38017087            73   \n",
       "3       f              t              t  38559541            73   \n",
       "4       f              t              t  29837398            73   \n",
       "5       f              f              t  27251139            73   \n",
       "6       f              t              t  36975475            73   \n",
       "7       f              t              t  38018045            73   \n",
       "8       f              f              t  30691160            73   \n",
       "9       f              t              t  30236589            73   \n",
       "10      f              f              t  36964218            73   \n",
       "11      f              t              t  36981382            73   \n",
       "12      f              t              t  36981754            73   \n",
       "13      f              t              t  31010062            73   \n",
       "14      f              t              t  29604777            73   \n",
       "15      f              t              t  29559450            73   \n",
       "16      f              t              t  29094620            73   \n",
       "17      f              t              t  28689191            73   \n",
       "18      f              t              t  31566416            73   \n",
       "19      f              t              t  29897857            73   \n",
       "\n",
       "                                         title_vector   image_id  cats  \n",
       "0   {3.626948595047,0.779965162277222,0.8395900726...      602.0  {23}  \n",
       "1   {1.13415098190308,-1.20623469352722,-0.6013424...      621.0  {15}  \n",
       "2   {2.13742733001709,-1.12283325195312,-0.3791791...  1530910.0  {15}  \n",
       "3   {0.230344951152802,0.131352335214615,0.9686161...  1758716.0  {21}  \n",
       "4   {3.626948595047,0.779965162277222,0.8395900726...      750.0  {22}  \n",
       "5   {3.626948595047,0.779965162277222,0.8395900726...        NaN  {23}  \n",
       "6   {1.24864614009857,-1.19327878952026,-0.5599737...     1324.0  {15}  \n",
       "7   {1.85497891902924,0.154068395495415,-0.8957029...  1531042.0  {15}  \n",
       "8   {3.626948595047,0.779965162277222,0.8395900726...        NaN  {23}  \n",
       "9   {3.626948595047,0.779965162277222,0.8395900726...     1720.0  {-1}  \n",
       "10  {1.34037363529205,-1.04718887805939,-0.6416489...        NaN  {37}  \n",
       "11  {1.73352956771851,-1.97286546230316,-1.2237212...     1335.0  {15}  \n",
       "12  {0.268955439329147,-2.4835684299469,-1.7646369...     1336.0  {15}  \n",
       "13  {3.626948595047,0.779965162277222,0.8395900726...     1829.0  {15}  \n",
       "14  {3.626948595047,0.779965162277222,0.8395900726...     1389.0  {15}  \n",
       "15  {3.626948595047,0.779965162277222,0.8395900726...     1420.0  {14}  \n",
       "16  {3.626948595047,0.779965162277222,0.8395900726...     2430.0  {15}  \n",
       "17  {3.626948595047,0.779965162277222,0.8395900726...     1521.0  {11}  \n",
       "18  {3.626948595047,0.779965162277222,0.8395900726...     1675.0  {14}  \n",
       "19  {3.626948595047,0.779965162277222,0.8395900726...     1695.0  {15}  "
      ]
     },
     "execution_count": 29,
     "metadata": {},
     "output_type": "execute_result"
    }
   ],
   "source": [
    "entekhab_content = pd.read_csv('./pages_entekhab.csv')\n",
    "entekhab_content.head(20)"
   ]
  },
  {
   "cell_type": "code",
   "execution_count": 30,
   "metadata": {},
   "outputs": [
    {
     "data": {
      "text/plain": [
       "(65246, 15)"
      ]
     },
     "execution_count": 30,
     "metadata": {},
     "output_type": "execute_result"
    }
   ],
   "source": [
    "entekhab_content.shape"
   ]
  },
  {
   "cell_type": "code",
   "execution_count": 31,
   "metadata": {},
   "outputs": [
    {
     "data": {
      "text/plain": [
       "(65243, 15)"
      ]
     },
     "execution_count": 31,
     "metadata": {},
     "output_type": "execute_result"
    }
   ],
   "source": [
    "entekhab_content = entekhab_content[entekhab_content.included == 't']\n",
    "entekhab_content.shape"
   ]
  },
  {
   "cell_type": "markdown",
   "metadata": {},
   "source": [
    "## CF"
   ]
  },
  {
   "cell_type": "code",
   "execution_count": 32,
   "metadata": {},
   "outputs": [],
   "source": [
    "class ViewMatrix:\n",
    "    def __init__(self, path):\n",
    "        self.path = path\n",
    "        self.original = True\n",
    "        self.item_indexer = AppendIndexer.load('./entekhab.ir/cf/alisssss/item_indexer.indexer')\n",
    "        self.user_indexer = AppendIndexer.load('./entekhab.ir/cf/alisssss/user_indexer.indexer')\n",
    "        \n",
    "    def load_matrix(path):\n",
    "        \n",
    "        matrix = ViewMatrix(path)\n",
    "\n",
    "        try:\n",
    "            matrix.view_matrix = ViewMatrix \\\n",
    "                .load_sparse_lil(path)\n",
    "        except:\n",
    "            print('Error: loading', path)\n",
    "\n",
    "        return matrix\n",
    "\n",
    "    def load_sparse_lil(filename):\n",
    "        loader = np.load(filename, allow_pickle=True)\n",
    "        result = lil_matrix(tuple(loader[\"shape\"]), dtype=str(loader[\"dtype\"]))\n",
    "        result.data = loader[\"data\"]\n",
    "        result.rows = loader[\"rows\"]\n",
    "        return result\n",
    "    \n",
    "    def make_dense(self, user_min_view, item_min_view):\n",
    "        self.original = False\n",
    "        while True:\n",
    "            removed_rows_cnt = self.trim_users_with_few_views(user_min_view)\n",
    "            removed_columns_cnt = self.trim_columns_with_few_views(item_min_view)\n",
    "            if not removed_columns_cnt and not removed_rows_cnt:\n",
    "                break\n",
    "\n",
    "    def trim_users_with_few_views(self, user_min_view):\n",
    "        removing_row_indices = list(np.where(self.view_matrix.getnnz(1) < user_min_view)[0])\n",
    "        print('Number of users which should be deleted:', len(removing_row_indices))\n",
    "        self.trim_user_indices(to_remove_indices=removing_row_indices)\n",
    "        return len(removing_row_indices)\n",
    "\n",
    "    def trim_columns_with_few_views(self, column_min_view):\n",
    "        removing_column_indices = list(np.where(self.view_matrix.getnnz(0) < column_min_view)[0])\n",
    "        print('Number products which should be deleted:', len(removing_column_indices))\n",
    "        self.trim_column_indices(to_remove_indices=removing_column_indices)\n",
    "        return len(removing_column_indices)\n",
    "    \n",
    "    def trim_user_indices(self, to_remove_indices):\n",
    "        self.user_indexer.remove_indexes(to_remove_indices)\n",
    "        self.view_matrix = ViewMatrix.delete_row_lil(self.view_matrix, to_remove_indices)\n",
    "    \n",
    "    def trim_column_indices(self, to_remove_indices):\n",
    "        self.item_indexer.remove_indexes(to_remove_indices)\n",
    "        self.view_matrix = ViewMatrix.delete_column_lil(self.view_matrix, to_remove_indices)\n",
    "    \n",
    "    def delete_column_lil(mat: lil_matrix, *i) -> lil_matrix:\n",
    "        mat = mat.transpose()\n",
    "        mat = ViewMatrix.delete_row_lil(mat, *i)\n",
    "        return mat.transpose()\n",
    "    \n",
    "    def delete_row_lil(mat: lil_matrix, *i) -> lil_matrix:\n",
    "        if not isinstance(mat, lil_matrix):\n",
    "            raise ValueError(\"works only for LIL format -- use .tolil() first\")\n",
    "        mat = mat.copy()\n",
    "        mat.rows = np.delete(mat.rows, i)\n",
    "        mat.data = np.delete(mat.data, i)\n",
    "        mat._shape = (mat.rows.shape[0], mat._shape[1])\n",
    "        return mat\n",
    "    def to_csr(self):\n",
    "        train_data = self.view_matrix.astype(np.float64)\n",
    "        train_data = train_data.tocoo()\n",
    "        train_data.data = np.log10(train_data.data) + 1\n",
    "        train_data = train_data.tocsr()\n",
    "        return train_data"
   ]
  },
  {
   "cell_type": "markdown",
   "metadata": {},
   "source": [
    "### Training CF"
   ]
  },
  {
   "cell_type": "code",
   "execution_count": 33,
   "metadata": {},
   "outputs": [],
   "source": [
    "def CFTrain(path: str, _alpha = 15, factors = 20):\n",
    "    now = time.time()\n",
    "    matrix = ViewMatrix.load_matrix(path)\n",
    "    print('View matrix loaded in', time.time() - now, 'seconds.')\n",
    "\n",
    "    now = time.time()\n",
    "    sparce_matrix = matrix.to_csr()\n",
    "    matrix.make_dense(user_min_view = 2, \n",
    "                      item_min_view = 2)\n",
    "    print('matrix has been made dense in', time.time() - now, 'seconds.')\n",
    "\n",
    "    als_model = ALS.Als(num_factors = factors,\n",
    "                        iterations = 15,\n",
    "                        num_threads = 15,\n",
    "                        alpha = _alpha)\n",
    "\n",
    "    implicit_matrix = matrix.to_csr()\n",
    "\n",
    "    print()\n",
    "    now = time.time()\n",
    "    als_model.fit(implicit_matrix)\n",
    "    print('ALS model is fitted in', time.time() - now, 'seconds.')\n",
    "    \n",
    "    print('Saving Data ...')\n",
    "    matrix.item_indexer.dump('./ali_item_indexer_factorized.indexer')\n",
    "    matrix.user_indexer.dump('./ali_user_indexer_factorized.indexer')\n",
    "    np.save('./ali_items_vectors.npy', als_model.item_vectors)\n",
    "    np.save('./ali_users_vectors.npy', als_model.user_vectors)\n",
    "    \n",
    "    return sparce_matrix, implicit_matrix, als_model.item_vectors, als_model.user_vectors"
   ]
  },
  {
   "cell_type": "markdown",
   "metadata": {},
   "source": [
    "creating item_vectors"
   ]
  },
  {
   "cell_type": "code",
   "execution_count": 8,
   "metadata": {},
   "outputs": [
    {
     "name": "stdout",
     "output_type": "stream",
     "text": [
      "View matrix loaded in 10.40421199798584 seconds.\n",
      "Number of users which should be deleted: 1784866\n",
      "Number products which should be deleted: 26556\n",
      "Number of users which should be deleted: 2255\n",
      "Number products which should be deleted: 155\n",
      "Number of users which should be deleted: 77\n",
      "Number products which should be deleted: 4\n",
      "Number of users which should be deleted: 2\n",
      "Number products which should be deleted: 0\n",
      "Number of users which should be deleted: 0\n",
      "Number products which should be deleted: 0\n",
      "matrix has been made dense in 37.77670502662659 seconds.\n",
      "\n",
      "ALS model is fitted in 29.936022996902466 seconds.\n",
      "Saving Data ...\n"
     ]
    }
   ],
   "source": [
    "sparce_matrix, implicit_matrix, item_vectors, user_vectors = \\\n",
    "CFTrain('./entekhab.ir/cf/alisssss/lil_matrix.npz', factors = 20)"
   ]
  },
  {
   "cell_type": "code",
   "execution_count": 9,
   "metadata": {},
   "outputs": [
    {
     "data": {
      "text/plain": [
       "(309950, 6051)"
      ]
     },
     "execution_count": 9,
     "metadata": {},
     "output_type": "execute_result"
    }
   ],
   "source": [
    "implicit_matrix.shape"
   ]
  },
  {
   "cell_type": "markdown",
   "metadata": {},
   "source": [
    "## Building KNN model"
   ]
  },
  {
   "cell_type": "markdown",
   "metadata": {},
   "source": [
    "### SK-Learn"
   ]
  },
  {
   "cell_type": "code",
   "execution_count": 38,
   "metadata": {},
   "outputs": [],
   "source": [
    "def sk_KNN(item_vectors, number_of_neighbours = 10):\n",
    "    start = time.time()\n",
    "\n",
    "    knn_distances_brute = []\n",
    "    knn_indices_brute = []\n",
    "\n",
    "    nbrs = NearestNeighbors(n_neighbors=number_of_neighbours, algorithm='ball_tree'). \\\n",
    "        fit(item_vectors)\n",
    "\n",
    "    knn_distances_brute, knn_indices_brute = nbrs.kneighbors(item_vectors)\n",
    "\n",
    "    end = time.time()\n",
    "    print('ball_tree time:', end-start)\n",
    "    \n",
    "    return knn_distances_brute, knn_indices_brute"
   ]
  },
  {
   "cell_type": "markdown",
   "metadata": {},
   "source": [
    "### Annoy"
   ]
  },
  {
   "cell_type": "code",
   "execution_count": 40,
   "metadata": {},
   "outputs": [],
   "source": [
    "def get_annoy_results(pages_vector, number_of_trees = 170, number_of_neighbours = 10):\n",
    "    \n",
    "    start = time.time()\n",
    "    annoy_model = annoy_model = AnnoyIndex(pages_vector.shape[1], 'angular')\n",
    "    \n",
    "    for index, vector in enumerate(pages_vector):\n",
    "        annoy_model.add_item(index, vector)\n",
    "    \n",
    "    annoy_model.build(number_of_trees)\n",
    "    \n",
    "    annoy_indices = []\n",
    "    annoy_distances = []\n",
    "\n",
    "    for i in pages_vector:\n",
    "        indices, distances = annoy_model. \\\n",
    "            get_nns_by_vector(i, number_of_neighbours, include_distances=True)\n",
    "        annoy_indices.append(indices)\n",
    "        annoy_distances.append(distances)\n",
    "    \n",
    "    duration = time.time() - start\n",
    "    print('annoy time:', duration)\n",
    "    return annoy_indices, annoy_distances, duration"
   ]
  },
  {
   "cell_type": "markdown",
   "metadata": {},
   "source": [
    "## Accuracy and Diversity measures"
   ]
  },
  {
   "cell_type": "markdown",
   "metadata": {},
   "source": [
    "### Calculating Mean Absolute Error"
   ]
  },
  {
   "cell_type": "code",
   "execution_count": 13,
   "metadata": {},
   "outputs": [
    {
     "data": {
      "text/plain": [
       "23.206481218338013"
      ]
     },
     "execution_count": 13,
     "metadata": {},
     "output_type": "execute_result"
    }
   ],
   "source": [
    "now = time.time()\n",
    "aproximated_matrix = np.matmul(user_vectors, np.transpose(item_vectors))\n",
    "time.time() - now"
   ]
  },
  {
   "cell_type": "code",
   "execution_count": 68,
   "metadata": {},
   "outputs": [
    {
     "data": {
      "text/plain": [
       "243.35003805160522"
      ]
     },
     "execution_count": 68,
     "metadata": {},
     "output_type": "execute_result"
    }
   ],
   "source": [
    "start = time.time()\n",
    "implicit_matrix = implicit_matrix.toarray()\n",
    "absolute_error = abs(aproximated_matrix - implicit_matrix)\n",
    "time.time() - start"
   ]
  },
  {
   "cell_type": "code",
   "execution_count": 69,
   "metadata": {},
   "outputs": [
    {
     "data": {
      "text/plain": [
       "77.50116991996765"
      ]
     },
     "execution_count": 69,
     "metadata": {},
     "output_type": "execute_result"
    }
   ],
   "source": [
    "start = time.time()\n",
    "MAE = absolute_error.mean()\n",
    "time.time() - start"
   ]
  },
  {
   "cell_type": "code",
   "execution_count": 70,
   "metadata": {},
   "outputs": [
    {
     "data": {
      "text/plain": [
       "0.011707617631696317"
      ]
     },
     "execution_count": 70,
     "metadata": {},
     "output_type": "execute_result"
    }
   ],
   "source": [
    "MAE"
   ]
  },
  {
   "cell_type": "markdown",
   "metadata": {},
   "source": [
    "### Accuracy measure"
   ]
  },
  {
   "cell_type": "code",
   "execution_count": 41,
   "metadata": {},
   "outputs": [
    {
     "name": "stdout",
     "output_type": "stream",
     "text": [
      "annoy time: 2.4457099437713623\n"
     ]
    }
   ],
   "source": [
    "annoy_indices, annoy_distances, duration = get_annoy_results(item_vectors)"
   ]
  },
  {
   "cell_type": "code",
   "execution_count": 42,
   "metadata": {},
   "outputs": [
    {
     "name": "stdout",
     "output_type": "stream",
     "text": [
      "ball_tree time: 0.907707929611206\n"
     ]
    }
   ],
   "source": [
    "knn_distances_brute, knn_indices_brute = sk_KNN(item_vectors)"
   ]
  },
  {
   "cell_type": "code",
   "execution_count": 15,
   "metadata": {},
   "outputs": [
    {
     "name": "stdout",
     "output_type": "stream",
     "text": [
      "annoy time: 1.8875911235809326\n",
      "annoy time: 2.064847946166992\n",
      "annoy time: 2.1709229946136475\n",
      "annoy time: 2.436220169067383\n",
      "annoy time: 2.5594890117645264\n",
      "annoy time: 2.5522642135620117\n",
      "annoy time: 2.9029910564422607\n",
      "annoy time: 2.8531131744384766\n",
      "annoy time: 3.0907740592956543\n",
      "annoy time: 3.239093065261841\n",
      "annoy time: 3.2458598613739014\n",
      "annoy time: 3.4362070560455322\n",
      "annoy time: 3.4143049716949463\n",
      "annoy time: 3.1991989612579346\n",
      "annoy time: 3.641252040863037\n",
      "annoy time: 3.4402010440826416\n",
      "annoy time: 3.463758945465088\n",
      "annoy time: 3.467146873474121\n",
      "annoy time: 4.107266902923584\n",
      "annoy time: 4.303592920303345\n",
      "annoy time: 4.217787265777588\n",
      "annoy time: 3.944735050201416\n",
      "annoy time: 4.375971078872681\n",
      "annoy time: 4.522526264190674\n",
      "annoy time: 4.097538948059082\n",
      "annoy time: 4.172906875610352\n"
     ]
    }
   ],
   "source": [
    "accs = []\n",
    "times = []\n",
    "for k in range(4,30):\n",
    "    annoy_indices, annoy_distances, duration = \\\n",
    "    get_annoy_results(item_vectors, number_of_neighbours = k)\n",
    "    times.append(duration)\n",
    "    accs.append(calc_acc(annoy_indices, knn_indices_brute, k))"
   ]
  },
  {
   "cell_type": "code",
   "execution_count": 16,
   "metadata": {},
   "outputs": [
    {
     "data": {
      "text/plain": [
       "Text(0, 0.5, 'Accuracy')"
      ]
     },
     "execution_count": 16,
     "metadata": {},
     "output_type": "execute_result"
    },
    {
     "data": {
      "image/png": "[encoded data removed]",
      "text/plain": [
       "<Figure size 432x288 with 1 Axes>"
      ]
     },
     "metadata": {},
     "output_type": "display_data"
    }
   ],
   "source": [
    "plt.plot(range(4, 30), accs)\n",
    "plt.xlabel('Number of neighbours')\n",
    "plt.ylabel('Accuracy')"
   ]
  },
  {
   "cell_type": "code",
   "execution_count": 117,
   "metadata": {},
   "outputs": [
    {
     "data": {
      "text/plain": [
       "Text(0, 0.5, 'Time')"
      ]
     },
     "execution_count": 117,
     "metadata": {},
     "output_type": "execute_result"
    },
    {
     "data": {
      "image/png": "[encoded data removed]",
      "text/plain": [
       "<Figure size 432x288 with 1 Axes>"
      ]
     },
     "metadata": {},
     "output_type": "display_data"
    }
   ],
   "source": [
    "plt.plot(range(4, 30), times)\n",
    "plt.xlabel('Number of neighbours')\n",
    "plt.ylabel('Time')"
   ]
  },
  {
   "cell_type": "code",
   "execution_count": null,
   "metadata": {},
   "outputs": [],
   "source": [
    "_times = []\n",
    "_accs = []\n",
    "_nDCGs = []\n",
    "\n",
    "for i in [5, 10, 15, 30, 50, 60, 100, 150, 200, 250]:\n",
    "    start = time.time()\n",
    "    annoy_indices, annoy_distances, duration = \\\n",
    "    get_annoy_results(item_vectors, number_of_neighbours = 10, number_of_trees = i)\n",
    "    _nDCGs.append(calc_nDCG(annoy_indices, indices, 10))\n",
    "    _accs.append(calc_acc(annoy_indices, indices, 10))\n",
    "    _times.append(time.time() - start)\n",
    "    print(_nDCGs[-1], _accs[-1], _times[-1])"
   ]
  },
  {
   "cell_type": "markdown",
   "metadata": {},
   "source": [
    "### Precision and recall at k"
   ]
  },
  {
   "cell_type": "markdown",
   "metadata": {},
   "source": [
    "Precision@k = # recommended @k and relevant / # recommended (k) <br>\n",
    "Recall@k    = # recommended @k and relevant / # relevant ion top k"
   ]
  },
  {
   "cell_type": "code",
   "execution_count": 10,
   "metadata": {},
   "outputs": [],
   "source": [
    "implicit_matrix = implicit_matrix.toarray()"
   ]
  },
  {
   "cell_type": "code",
   "execution_count": 11,
   "metadata": {},
   "outputs": [
    {
     "name": "stderr",
     "output_type": "stream",
     "text": [
      "100%|██████████| 309950/309950 [21:52<00:00, 236.11it/s]\n"
     ]
    }
   ],
   "source": [
    "from tqdm import tqdm\n",
    "idk = []\n",
    "for i in tqdm(range(len(implicit_matrix))):\n",
    "    temp = []\n",
    "    for j in range(len(implicit_matrix[i])):\n",
    "        if implicit_matrix[i][j] > 0:\n",
    "            temp.append((implicit_matrix[i][j], j))\n",
    "    idk.append(temp)"
   ]
  },
  {
   "cell_type": "code",
   "execution_count": 14,
   "metadata": {},
   "outputs": [
    {
     "name": "stderr",
     "output_type": "stream",
     "text": [
      "100%|██████████| 309950/309950 [18:35<00:00, 277.83it/s]\n"
     ]
    }
   ],
   "source": [
    "idk2 = []\n",
    "for i in tqdm(range(len(aproximated_matrix))):\n",
    "    temp = []\n",
    "    for j in range(len(aproximated_matrix[i])):\n",
    "        if aproximated_matrix[i][j] > 0.5:\n",
    "            temp.append((aproximated_matrix[i][j], j))\n",
    "    idk2.append(temp)"
   ]
  },
  {
   "cell_type": "code",
   "execution_count": 15,
   "metadata": {},
   "outputs": [
    {
     "name": "stderr",
     "output_type": "stream",
     "text": [
      "100%|██████████| 309950/309950 [00:02<00:00, 109920.83it/s]\n"
     ]
    }
   ],
   "source": [
    "for i in tqdm(range(len(idk2))):\n",
    "    idk2[i] = sorted(idk2[i], key=lambda x: x[1], reverse=True)"
   ]
  },
  {
   "cell_type": "code",
   "execution_count": 20,
   "metadata": {},
   "outputs": [],
   "source": [
    "def Precision_recall_at_k(idk2, idk, k):\n",
    "    users_visited_indeces = \\\n",
    "    [[i[1] for i in idk[j]] for j in range(len(idk))]\n",
    "    recommended_relevant = []\n",
    "    relevants = []\n",
    "    for i in range(len(idk2)):\n",
    "        temp = 0\n",
    "        if len(idk2[i]) >= k and len(users_visited_indeces[i]) >= k:\n",
    "            for j in range(len(idk2[i][0:k])):\n",
    "                if idk2[i][j][1] in users_visited_indeces[i]:\n",
    "                    temp += 1\n",
    "            recommended_relevant.append(temp)\n",
    "            relevants.append(len(users_visited_indeces[i]))\n",
    "    p = (np.array(recommended_relevant) / k).mean()\n",
    "    r = []\n",
    "    for i in zip(recommended_relevant, relevants):\n",
    "        r.append(i[0]/i[1])\n",
    "    r = np.array(r).mean()\n",
    "    return p, r"
   ]
  },
  {
   "cell_type": "markdown",
   "metadata": {},
   "source": [
    "Precision and recall at k"
   ]
  },
  {
   "cell_type": "code",
   "execution_count": 21,
   "metadata": {},
   "outputs": [
    {
     "name": "stdout",
     "output_type": "stream",
     "text": [
      "k = 1 (0.4843991913947089, 0.19579688397067174)\n",
      "k = 2 (0.43686101354741597, 0.3298199375034461)\n",
      "k = 3 (0.3443067013934359, 0.2381223673910578)\n",
      "k = 4 (0.293185382685069, 0.18851703972475659)\n",
      "k = 5 (0.2664661855118952, 0.16373089151841064)\n",
      "k = 6 (0.2504320447598371, 0.14891967188973396)\n",
      "k = 7 (0.24137652497718085, 0.14186289441354596)\n",
      "k = 8 (0.23579764867416117, 0.1383974815713413)\n",
      "k = 9 (0.23190402526668602, 0.13623040516546278)\n",
      "k = 10 (0.22922149565404593, 0.13530742459465825)\n",
      "k = 11 (0.2267427157039468, 0.13511678184481596)\n",
      "k = 12 (0.22498753306448113, 0.1349868437331841)\n",
      "k = 13 (0.22402379013700574, 0.13596648555641794)\n",
      "k = 14 (0.22322840938528274, 0.1361866985649078)\n",
      "k = 15 (0.22313728775692585, 0.1372402003565847)\n",
      "k = 16 (0.22292600643028573, 0.13814572181485593)\n",
      "k = 17 (0.22319128249661724, 0.1390321935576112)\n",
      "k = 18 (0.22362635429857883, 0.14046450101109068)\n",
      "k = 19 (0.22349083285300012, 0.14125817495751067)\n"
     ]
    }
   ],
   "source": [
    "for k in range(1, 20):\n",
    "    print('k =', k, Precision_recall_at_k(idk2, idk, k))"
   ]
  },
  {
   "cell_type": "markdown",
   "metadata": {},
   "source": [
    "## Calculating site trends list"
   ]
  },
  {
   "cell_type": "code",
   "execution_count": 100,
   "metadata": {},
   "outputs": [
    {
     "name": "stderr",
     "output_type": "stream",
     "text": [
      "100%|██████████| 6051/6051 [23:26<00:00,  4.30it/s]  \n"
     ]
    }
   ],
   "source": [
    "visit = {}\n",
    "for i in tqdm(range(len(implicit_matrix.T))):\n",
    "    visit[i] = len([i for i in implicit_matrix.T[i] if i > 0])"
   ]
  },
  {
   "cell_type": "code",
   "execution_count": 110,
   "metadata": {},
   "outputs": [],
   "source": [
    "site_trend = {k: v for k, v in sorted(visit.items(), key=lambda item: item[1], reverse = True)}"
   ]
  },
  {
   "cell_type": "markdown",
   "metadata": {},
   "source": [
    "## calculating coverage at k"
   ]
  },
  {
   "cell_type": "code",
   "execution_count": 149,
   "metadata": {},
   "outputs": [],
   "source": [
    "def coverage(item_vectors, k):\n",
    "    annoy_indices, annoy_distances, duration = \\\n",
    "    get_annoy_results(item_vectors, number_of_neighbours = k)\n",
    "    for i in range(len(annoy_indices)):\n",
    "        annoy_indices[i].pop(0)\n",
    "    unique_recommendations = \\\n",
    "    len(np.unique(np.array(annoy_indices).reshape(len(annoy_indices) * (k - 1) )))\n",
    "    return unique_recommendations / 32766"
   ]
  },
  {
   "cell_type": "code",
   "execution_count": 150,
   "metadata": {},
   "outputs": [
    {
     "data": {
      "text/plain": [
       "(2097150, 32766)"
      ]
     },
     "execution_count": 150,
     "metadata": {},
     "output_type": "execute_result"
    }
   ],
   "source": [
    "sparce_matrix.shape"
   ]
  },
  {
   "cell_type": "code",
   "execution_count": 151,
   "metadata": {},
   "outputs": [
    {
     "name": "stdout",
     "output_type": "stream",
     "text": [
      "annoy time: 1.4707262516021729\n",
      "0.11109076481718855\n",
      "annoy time: 1.5604019165039062\n",
      "0.1455472135750473\n",
      "annoy time: 1.6639819145202637\n",
      "0.16153940059818103\n",
      "annoy time: 1.7697930335998535\n",
      "0.1695965329915156\n",
      "annoy time: 1.8955638408660889\n",
      "0.17365561862906673\n",
      "annoy time: 1.976144790649414\n",
      "0.1762802905450772\n",
      "annoy time: 2.1110599040985107\n",
      "0.17838613196606237\n",
      "annoy time: 2.2378549575805664\n",
      "0.18021729841909295\n",
      "annoy time: 2.2751922607421875\n",
      "0.18128547885002746\n",
      "annoy time: 2.618272066116333\n",
      "0.1821705426356589\n",
      "annoy time: 2.508976936340332\n",
      "0.18262833424891656\n",
      "annoy time: 2.5846078395843506\n",
      "0.1830861258621742\n",
      "annoy time: 2.9849469661712646\n",
      "0.1833608008301288\n",
      "annoy time: 2.855180025100708\n",
      "0.18360495635719953\n",
      "annoy time: 2.8943309783935547\n",
      "0.18375755356161874\n",
      "annoy time: 2.95340895652771\n",
      "0.1838796313251541\n",
      "annoy time: 3.051942825317383\n",
      "0.1839406702069218\n",
      "annoy time: 3.1495020389556885\n",
      "0.18400170908868949\n"
     ]
    }
   ],
   "source": [
    "for i in range(2, 20):\n",
    "    print(coverage(item_vectors, i))"
   ]
  },
  {
   "cell_type": "markdown",
   "metadata": {},
   "source": [
    "## Diversity"
   ]
  },
  {
   "cell_type": "code",
   "execution_count": 6,
   "metadata": {},
   "outputs": [],
   "source": [
    "from sklearn.metrics.pairwise import cosine_similarity\n",
    "def my_cosine_similarity(item1, item2):\n",
    "    return cosine_similarity([item1, item2])[0][1]"
   ]
  },
  {
   "cell_type": "code",
   "execution_count": 152,
   "metadata": {},
   "outputs": [],
   "source": [
    "item_indexer = \\\n",
    "AppendIndexer.load('./ali_item_indexer_factorized.indexer')"
   ]
  },
  {
   "cell_type": "code",
   "execution_count": 153,
   "metadata": {},
   "outputs": [
    {
     "name": "stdout",
     "output_type": "stream",
     "text": [
      "annoy time: 4.211301803588867\n"
     ]
    }
   ],
   "source": [
    "annoy_indices, annoy_distances, duration = get_annoy_results(item_vectors)"
   ]
  },
  {
   "cell_type": "code",
   "execution_count": 154,
   "metadata": {},
   "outputs": [],
   "source": [
    "items = []\n",
    "nulls = []\n",
    "for i in item_indexer.get_items():\n",
    "    temp = {}\n",
    "    try:\n",
    "        item_index = item_indexer.get(i)\n",
    "        c_vec = np.array(entekhab_content[entekhab_content['id'] == int(i)].content_vector)[0]\n",
    "        temp['content_vec'] = np.array([float(x) for x in str(c_vec)[1:-1].split(',')])\n",
    "        temp['id'] = i\n",
    "        temp['index'] = item_index\n",
    "        temp['recommendations'] = annoy_indices[item_index]\n",
    "        items.append(temp)\n",
    "    except:\n",
    "        nulls.append(item_index)"
   ]
  },
  {
   "cell_type": "code",
   "execution_count": 156,
   "metadata": {},
   "outputs": [
    {
     "data": {
      "text/plain": [
       "5879"
      ]
     },
     "execution_count": 156,
     "metadata": {},
     "output_type": "execute_result"
    }
   ],
   "source": []
  },
  {
   "cell_type": "code",
   "execution_count": 12,
   "metadata": {},
   "outputs": [],
   "source": [
    "item_content_map = {}\n",
    "for i in items:\n",
    "    item_content_map[i['index']] = i['content_vec']"
   ]
  },
  {
   "cell_type": "code",
   "execution_count": 148,
   "metadata": {},
   "outputs": [
    {
     "data": {
      "text/html": [
       "<div>\n",
       "<style scoped>\n",
       "    .dataframe tbody tr th:only-of-type {\n",
       "        vertical-align: middle;\n",
       "    }\n",
       "\n",
       "    .dataframe tbody tr th {\n",
       "        vertical-align: top;\n",
       "    }\n",
       "\n",
       "    .dataframe thead th {\n",
       "        text-align: right;\n",
       "    }\n",
       "</style>\n",
       "<table border=\"1\" class=\"dataframe\">\n",
       "  <thead>\n",
       "    <tr style=\"text-align: right;\">\n",
       "      <th></th>\n",
       "      <th>id</th>\n",
       "      <th>created</th>\n",
       "      <th>content_vector</th>\n",
       "      <th>title</th>\n",
       "      <th>cleaned_url</th>\n",
       "      <th>website_id</th>\n",
       "      <th>included</th>\n",
       "      <th>is_amp</th>\n",
       "      <th>has_image_meta</th>\n",
       "      <th>has_title_meta</th>\n",
       "      <th>page_id</th>\n",
       "      <th>subdomain_id</th>\n",
       "      <th>title_vector</th>\n",
       "      <th>image_id</th>\n",
       "      <th>cats</th>\n",
       "    </tr>\n",
       "  </thead>\n",
       "  <tbody>\n",
       "    <tr>\n",
       "      <th>35289</th>\n",
       "      <td>6191581</td>\n",
       "      <td>2020-10-16 16:00:02.728632+03:30</td>\n",
       "      <td>{1.37319898605347,-0.337699979543686,-0.527072...</td>\n",
       "      <td>مصباحی مقدم: آمریکا، رژیم صهیونیستی و عربستان ...</td>\n",
       "      <td>entekhab.ir/fa/news/580032/%D9%85%D8%B5%D8%A8%...</td>\n",
       "      <td>2</td>\n",
       "      <td>t</td>\n",
       "      <td>f</td>\n",
       "      <td>t</td>\n",
       "      <td>t</td>\n",
       "      <td>39360276</td>\n",
       "      <td>73</td>\n",
       "      <td>{1.77412080764771,-1.28127646446228,-0.0060007...</td>\n",
       "      <td>2302131.0</td>\n",
       "      <td>{11,15}</td>\n",
       "    </tr>\n",
       "  </tbody>\n",
       "</table>\n",
       "</div>"
      ],
      "text/plain": [
       "            id                           created  \\\n",
       "35289  6191581  2020-10-16 16:00:02.728632+03:30   \n",
       "\n",
       "                                          content_vector  \\\n",
       "35289  {1.37319898605347,-0.337699979543686,-0.527072...   \n",
       "\n",
       "                                                   title  \\\n",
       "35289  مصباحی مقدم: آمریکا، رژیم صهیونیستی و عربستان ...   \n",
       "\n",
       "                                             cleaned_url  website_id included  \\\n",
       "35289  entekhab.ir/fa/news/580032/%D9%85%D8%B5%D8%A8%...           2        t   \n",
       "\n",
       "      is_amp has_image_meta has_title_meta   page_id  subdomain_id  \\\n",
       "35289      f              t              t  39360276            73   \n",
       "\n",
       "                                            title_vector   image_id     cats  \n",
       "35289  {1.77412080764771,-1.28127646446228,-0.0060007...  2302131.0  {11,15}  "
      ]
     },
     "execution_count": 148,
     "metadata": {},
     "output_type": "execute_result"
    }
   ],
   "source": [
    "entekhab_content[entekhab_content['id'] == int(item_indexer.reverse_get(42))]"
   ]
  },
  {
   "cell_type": "markdown",
   "metadata": {},
   "source": [
    "### Context similarity w.r.t Approximated KNN rank using CF"
   ]
  },
  {
   "cell_type": "code",
   "execution_count": 25,
   "metadata": {
    "scrolled": false
   },
   "outputs": [],
   "source": [
    "similarities = []\n",
    "for i in items:\n",
    "    temp = []\n",
    "    for j in i['recommendations']:\n",
    "        try:\n",
    "            temp.append(my_cosine_similarity(i['content_vec'], item_content_map[j]))\n",
    "        except:\n",
    "            continue\n",
    "    similarities.append(temp)"
   ]
  },
  {
   "cell_type": "code",
   "execution_count": 26,
   "metadata": {},
   "outputs": [],
   "source": [
    "similarities = np.array(similarities)"
   ]
  },
  {
   "cell_type": "code",
   "execution_count": 27,
   "metadata": {},
   "outputs": [],
   "source": [
    "rank_similarity = []\n",
    "for i in range(30):\n",
    "    temp = []\n",
    "    for j in similarities:\n",
    "        if len(j) > i:\n",
    "            temp.append(j[i])\n",
    "    rank_similarity.append(np.array(temp))"
   ]
  },
  {
   "cell_type": "code",
   "execution_count": 29,
   "metadata": {},
   "outputs": [
    {
     "name": "stdout",
     "output_type": "stream",
     "text": [
      "rank 0\n"
     ]
    },
    {
     "data": {
      "image/png": "[encoded data removed]",
      "text/plain": [
       "<Figure size 432x288 with 1 Axes>"
      ]
     },
     "metadata": {},
     "output_type": "display_data"
    },
    {
     "name": "stdout",
     "output_type": "stream",
     "text": [
      "rank 2\n"
     ]
    },
    {
     "data": {
      "image/png": "[encoded data removed]",
      "text/plain": [
       "<Figure size 432x288 with 1 Axes>"
      ]
     },
     "metadata": {},
     "output_type": "display_data"
    },
    {
     "name": "stdout",
     "output_type": "stream",
     "text": [
      "rank 4\n"
     ]
    },
    {
     "data": {
      "image/png": "[encoded data removed]",
      "text/plain": [
       "<Figure size 432x288 with 1 Axes>"
      ]
     },
     "metadata": {},
     "output_type": "display_data"
    },
    {
     "name": "stdout",
     "output_type": "stream",
     "text": [
      "rank 6\n"
     ]
    },
    {
     "data": {
      "image/png": "[encoded data removed]",
      "text/plain": [
       "<Figure size 432x288 with 1 Axes>"
      ]
     },
     "metadata": {},
     "output_type": "display_data"
    },
    {
     "name": "stdout",
     "output_type": "stream",
     "text": [
      "rank 8\n"
     ]
    },
    {
     "data": {
      "image/png": "[encoded data removed]",
      "text/plain": [
       "<Figure size 432x288 with 1 Axes>"
      ]
     },
     "metadata": {},
     "output_type": "display_data"
    },
    {
     "name": "stdout",
     "output_type": "stream",
     "text": [
      "rank 10\n"
     ]
    },
    {
     "data": {
      "image/png": "[encoded data removed]",
      "text/plain": [
       "<Figure size 432x288 with 1 Axes>"
      ]
     },
     "metadata": {},
     "output_type": "display_data"
    },
    {
     "name": "stdout",
     "output_type": "stream",
     "text": [
      "rank 12\n"
     ]
    },
    {
     "data": {
      "image/png": "[encoded data removed]",
      "text/plain": [
       "<Figure size 432x288 with 1 Axes>"
      ]
     },
     "metadata": {},
     "output_type": "display_data"
    },
    {
     "name": "stdout",
     "output_type": "stream",
     "text": [
      "rank 14\n"
     ]
    },
    {
     "data": {
      "image/png": "[encoded data removed]",
      "text/plain": [
       "<Figure size 432x288 with 1 Axes>"
      ]
     },
     "metadata": {},
     "output_type": "display_data"
    },
    {
     "name": "stdout",
     "output_type": "stream",
     "text": [
      "rank 16\n"
     ]
    },
    {
     "data": {
      "image/png": "[encoded data removed]",
      "text/plain": [
       "<Figure size 432x288 with 1 Axes>"
      ]
     },
     "metadata": {},
     "output_type": "display_data"
    },
    {
     "name": "stdout",
     "output_type": "stream",
     "text": [
      "rank 18\n"
     ]
    },
    {
     "data": {
      "image/png": "[encoded data removed]",
      "text/plain": [
       "<Figure size 432x288 with 1 Axes>"
      ]
     },
     "metadata": {},
     "output_type": "display_data"
    },
    {
     "name": "stdout",
     "output_type": "stream",
     "text": [
      "rank 20\n"
     ]
    },
    {
     "data": {
      "image/png": "[encoded data removed]",
      "text/plain": [
       "<Figure size 432x288 with 1 Axes>"
      ]
     },
     "metadata": {},
     "output_type": "display_data"
    },
    {
     "name": "stdout",
     "output_type": "stream",
     "text": [
      "rank 22\n"
     ]
    },
    {
     "data": {
      "image/png": "[encoded data removed]",
      "text/plain": [
       "<Figure size 432x288 with 1 Axes>"
      ]
     },
     "metadata": {},
     "output_type": "display_data"
    },
    {
     "name": "stdout",
     "output_type": "stream",
     "text": [
      "rank 24\n"
     ]
    },
    {
     "data": {
      "image/png": "[encoded data removed]",
      "text/plain": [
       "<Figure size 432x288 with 1 Axes>"
      ]
     },
     "metadata": {},
     "output_type": "display_data"
    },
    {
     "name": "stdout",
     "output_type": "stream",
     "text": [
      "rank 26\n"
     ]
    },
    {
     "data": {
      "image/png": "[encoded data removed]",
      "text/plain": [
       "<Figure size 432x288 with 1 Axes>"
      ]
     },
     "metadata": {},
     "output_type": "display_data"
    },
    {
     "name": "stdout",
     "output_type": "stream",
     "text": [
      "rank 28\n"
     ]
    },
    {
     "data": {
      "image/png": "[encoded data removed]",
      "text/plain": [
       "<Figure size 432x288 with 1 Axes>"
      ]
     },
     "metadata": {},
     "output_type": "display_data"
    }
   ],
   "source": [
    "for i in range(0,30, 2):\n",
    "    print('rank', i)\n",
    "    n_bins = [25]\n",
    "    for n_bin in n_bins:\n",
    "        N, bins, patches = plt.hist(rank_similarity[i], bins=n_bin)\n",
    "        fracs = N / N.max()\n",
    "        plt.title('cosine similarity')\n",
    "        plt.ylabel('Similarity')\n",
    "        norm = colors.Normalize(fracs.min(), fracs.max())\n",
    "        for thisfrac, thispatch in zip(fracs, patches):\n",
    "            color = plt.cm.viridis(norm(thisfrac))\n",
    "            thispatch.set_facecolor(color)\n",
    "        plt.show()\n",
    "        "
   ]
  },
  {
   "cell_type": "code",
   "execution_count": 197,
   "metadata": {},
   "outputs": [],
   "source": [
    "similarities = []\n",
    "for i in items:\n",
    "    temp = []\n",
    "    for j in i['recommendations']:\n",
    "        try:\n",
    "            temp.append(distance.cosine(i['content_vec'], item_content_map[j]))\n",
    "        except:\n",
    "            continue\n",
    "    similarities.append(temp)"
   ]
  },
  {
   "cell_type": "code",
   "execution_count": 199,
   "metadata": {},
   "outputs": [],
   "source": [
    "similarities = np.array(similarities)"
   ]
  },
  {
   "cell_type": "code",
   "execution_count": 203,
   "metadata": {
    "scrolled": true
   },
   "outputs": [
    {
     "name": "stdout",
     "output_type": "stream",
     "text": [
      "0.008539624502582778 0.007027227351839991\n",
      "0.6259168286966322 0.07998672503278023\n",
      "0.6478660033402074 0.07393930741503331\n",
      "0.6622044041844896 0.07177205336503872\n",
      "0.6649969083901005 0.07017652222386957\n",
      "0.6736997613715769 0.07000878759613777\n",
      "0.6756954426390044 0.0673452075667449\n",
      "0.6771071617069113 0.06806792736744265\n",
      "0.6834369410384913 0.06736753722009467\n",
      "0.6819132929421676 0.06510733827403359\n",
      "0.687991075263597 0.06491626240588902\n",
      "0.6887669138300861 0.06519415852099199\n",
      "0.6886744634303242 0.06558271841555574\n",
      "0.6949147375315826 0.06420589078754477\n",
      "0.6966581978431913 0.06318749872792398\n",
      "0.6971057097597587 0.06197735129994406\n",
      "0.6937738981984748 0.06322684261200082\n",
      "0.6958189395900938 0.06391650719476011\n",
      "0.6992037674884497 0.06240416713193003\n",
      "0.6991694438122312 0.0642918841036826\n",
      "0.6991790315508247 0.0629005970755876\n",
      "0.7008802907941385 0.06316506402705116\n",
      "0.7040817081484477 0.060626719140053686\n",
      "0.704107345364156 0.06070946221202152\n",
      "0.7067053659683086 0.061775365238409576\n",
      "0.705428196750622 0.06166527292295525\n",
      "0.7011139927934816 0.06082349763640527\n",
      "0.7118714532361027 0.0609417769146754\n",
      "0.7152493382028637 0.059786761468750414\n",
      "0.7130706591388052 0.060803511425638536\n"
     ]
    }
   ],
   "source": [
    "rank_similarity = []\n",
    "for i in range(30):\n",
    "    temp = []\n",
    "    for j in similarities:\n",
    "        if len(j) > i:\n",
    "            temp.append(j[i])\n",
    "    rank_similarity.append(np.array(temp))"
   ]
  },
  {
   "cell_type": "code",
   "execution_count": 1,
   "metadata": {},
   "outputs": [
    {
     "name": "stdout",
     "output_type": "stream",
     "text": [
      "rank 0\n"
     ]
    },
    {
     "ename": "NameError",
     "evalue": "name 'plt' is not defined",
     "output_type": "error",
     "traceback": [
      "\u001b[0;31m---------------------------------------------------------------------------\u001b[0m",
      "\u001b[0;31mNameError\u001b[0m                                 Traceback (most recent call last)",
      "\u001b[0;32m<ipython-input-1-583e44a3da35>\u001b[0m in \u001b[0;36m<module>\u001b[0;34m()\u001b[0m\n\u001b[1;32m      3\u001b[0m     \u001b[0mn_bins\u001b[0m \u001b[0;34m=\u001b[0m \u001b[0;34m[\u001b[0m\u001b[0;36m25\u001b[0m\u001b[0;34m]\u001b[0m\u001b[0;34m\u001b[0m\u001b[0;34m\u001b[0m\u001b[0m\n\u001b[1;32m      4\u001b[0m     \u001b[0;32mfor\u001b[0m \u001b[0mn_bin\u001b[0m \u001b[0;32min\u001b[0m \u001b[0mn_bins\u001b[0m\u001b[0;34m:\u001b[0m\u001b[0;34m\u001b[0m\u001b[0;34m\u001b[0m\u001b[0m\n\u001b[0;32m----> 5\u001b[0;31m         \u001b[0mN\u001b[0m\u001b[0;34m,\u001b[0m \u001b[0mbins\u001b[0m\u001b[0;34m,\u001b[0m \u001b[0mpatches\u001b[0m \u001b[0;34m=\u001b[0m \u001b[0mplt\u001b[0m\u001b[0;34m.\u001b[0m\u001b[0mhist\u001b[0m\u001b[0;34m(\u001b[0m\u001b[0mrank_similarity\u001b[0m\u001b[0;34m[\u001b[0m\u001b[0mi\u001b[0m\u001b[0;34m]\u001b[0m\u001b[0;34m,\u001b[0m \u001b[0mbins\u001b[0m\u001b[0;34m=\u001b[0m\u001b[0mn_bin\u001b[0m\u001b[0;34m)\u001b[0m\u001b[0;34m\u001b[0m\u001b[0;34m\u001b[0m\u001b[0m\n\u001b[0m\u001b[1;32m      6\u001b[0m         \u001b[0mfracs\u001b[0m \u001b[0;34m=\u001b[0m \u001b[0mN\u001b[0m \u001b[0;34m/\u001b[0m \u001b[0mN\u001b[0m\u001b[0;34m.\u001b[0m\u001b[0mmax\u001b[0m\u001b[0;34m(\u001b[0m\u001b[0;34m)\u001b[0m\u001b[0;34m\u001b[0m\u001b[0;34m\u001b[0m\u001b[0m\n\u001b[1;32m      7\u001b[0m         \u001b[0mplt\u001b[0m\u001b[0;34m.\u001b[0m\u001b[0mtitle\u001b[0m\u001b[0;34m(\u001b[0m\u001b[0;34m'cosine similarity'\u001b[0m\u001b[0;34m)\u001b[0m\u001b[0;34m\u001b[0m\u001b[0;34m\u001b[0m\u001b[0m\n",
      "\u001b[0;31mNameError\u001b[0m: name 'plt' is not defined"
     ]
    }
   ],
   "source": [
    "for i in range(0,30, 2):\n",
    "    print('rank', i)\n",
    "    n_bins = [25]\n",
    "    for n_bin in n_bins:\n",
    "        N, bins, patches = plt.hist(rank_similarity[i], bins=n_bin)\n",
    "        fracs = N / N.max()\n",
    "        plt.title('cosine similarity')\n",
    "        plt.ylabel('Similarity')\n",
    "        norm = colors.Normalize(fracs.min(), fracs.max())\n",
    "        for thisfrac, thispatch in zip(fracs, patches):\n",
    "            color = plt.cm.viridis(norm(thisfrac))\n",
    "            thispatch.set_facecolor(color)\n",
    "        plt.show()"
   ]
  },
  {
   "cell_type": "code",
   "execution_count": null,
   "metadata": {},
   "outputs": [],
   "source": []
  }
 ],
 "metadata": {
  "kernelspec": {
   "display_name": "Python 3",
   "language": "python",
   "name": "python3"
  },
  "language_info": {
   "codemirror_mode": {
    "name": "ipython",
    "version": 3
   },
   "file_extension": ".py",
   "mimetype": "text/x-python",
   "name": "python",
   "nbconvert_exporter": "python",
   "pygments_lexer": "ipython3",
   "version": "3.7.6"
  }
 },
 "nbformat": 4,
 "nbformat_minor": 2
}
