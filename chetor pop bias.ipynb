{
 "cells": [
  {
   "cell_type": "code",
   "execution_count": 74,
   "metadata": {},
   "outputs": [],
   "source": [
    "import pandas as pd\n",
    "import numpy as np\n",
    "import matplotlib.pyplot as plt\n",
    "from matplotlib import colors\n",
    "from matplotlib.ticker import PercentFormatter\n",
    "from tqdm import tqdm\n",
    "\n",
    "import timeit\n",
    "import time\n",
    "import math\n",
    "\n",
    "# ./indexer\n",
    "from indexer import AppendIndexer\n",
    "import ALS\n",
    "\n",
    "# Annoy\n",
    "from annoy import AnnoyIndex\n",
    "\n",
    "#SKLearn \n",
    "from sklearn.neighbors import NearestNeighbors\n",
    "from sklearn.metrics import average_precision_score\n",
    "from sklearn.metrics import pairwise_distances\n",
    "\n",
    "# scipy\n",
    "from scipy.spatial import distance\n",
    "from scipy.sparse import lil_matrix"
   ]
  },
  {
   "cell_type": "code",
   "execution_count": 2,
   "metadata": {},
   "outputs": [
    {
     "data": {
      "text/html": [
       "<div>\n",
       "<style scoped>\n",
       "    .dataframe tbody tr th:only-of-type {\n",
       "        vertical-align: middle;\n",
       "    }\n",
       "\n",
       "    .dataframe tbody tr th {\n",
       "        vertical-align: top;\n",
       "    }\n",
       "\n",
       "    .dataframe thead th {\n",
       "        text-align: right;\n",
       "    }\n",
       "</style>\n",
       "<table border=\"1\" class=\"dataframe\">\n",
       "  <thead>\n",
       "    <tr style=\"text-align: right;\">\n",
       "      <th></th>\n",
       "      <th>id</th>\n",
       "      <th>created</th>\n",
       "      <th>content_vector</th>\n",
       "      <th>title</th>\n",
       "      <th>cleaned_url</th>\n",
       "      <th>website_id</th>\n",
       "      <th>included</th>\n",
       "      <th>is_amp</th>\n",
       "      <th>has_image_meta</th>\n",
       "      <th>has_title_meta</th>\n",
       "      <th>page_id</th>\n",
       "      <th>subdomain_id</th>\n",
       "      <th>title_vector</th>\n",
       "      <th>image_id</th>\n",
       "      <th>cats</th>\n",
       "    </tr>\n",
       "  </thead>\n",
       "  <tbody>\n",
       "    <tr>\n",
       "      <th>0</th>\n",
       "      <td>2177439</td>\n",
       "      <td>2020-08-09 04:51:12.676435+04:30</td>\n",
       "      <td>{0.52510529756546,-0.51316374540329,-0.3844181...</td>\n",
       "      <td>وردپرس › خطا</td>\n",
       "      <td>chetor.com/</td>\n",
       "      <td>1</td>\n",
       "      <td>f</td>\n",
       "      <td>f</td>\n",
       "      <td>f</td>\n",
       "      <td>f</td>\n",
       "      <td>148948</td>\n",
       "      <td>336</td>\n",
       "      <td>{-0.90155690908432,-1.60752034187317,0.1689879...</td>\n",
       "      <td>1015133.0</td>\n",
       "      <td>{}</td>\n",
       "    </tr>\n",
       "    <tr>\n",
       "      <th>1</th>\n",
       "      <td>973115</td>\n",
       "      <td>2020-08-09 03:50:47.939727+04:30</td>\n",
       "      <td>{-0.111537165939808,0.314831465482712,-0.60968...</td>\n",
       "      <td>تبلیغات در وب سایت چطور | چطور</td>\n",
       "      <td>chetor.com/%D8%AA%D8%A8%D9%84%DB%8C%D8%BA%D8%A...</td>\n",
       "      <td>1</td>\n",
       "      <td>t</td>\n",
       "      <td>f</td>\n",
       "      <td>f</td>\n",
       "      <td>t</td>\n",
       "      <td>27016495</td>\n",
       "      <td>336</td>\n",
       "      <td>{-1.89593696594238,0.659652948379517,-0.852037...</td>\n",
       "      <td>NaN</td>\n",
       "      <td>{}</td>\n",
       "    </tr>\n",
       "    <tr>\n",
       "      <th>2</th>\n",
       "      <td>975692</td>\n",
       "      <td>2020-08-09 03:50:49.22613+04:30</td>\n",
       "      <td>{0.628654301166534,-0.548453748226166,-0.25651...</td>\n",
       "      <td>همکاری با ما | چطور</td>\n",
       "      <td>chetor.com/%D9%87%D9%85%DA%A9%D8%A7%D8%B1%DB%8...</td>\n",
       "      <td>1</td>\n",
       "      <td>t</td>\n",
       "      <td>f</td>\n",
       "      <td>f</td>\n",
       "      <td>t</td>\n",
       "      <td>27004594</td>\n",
       "      <td>336</td>\n",
       "      <td>{-2.04737234115601,2.28955912590027,-2.1406197...</td>\n",
       "      <td>333341.0</td>\n",
       "      <td>{}</td>\n",
       "    </tr>\n",
       "    <tr>\n",
       "      <th>3</th>\n",
       "      <td>2144818</td>\n",
       "      <td>2020-08-09 04:49:41.361098+04:30</td>\n",
       "      <td>{0.350972026586533,-0.0532753616571426,-0.2103...</td>\n",
       "      <td>چرا باید توسعه فردی را جدی بگیرید؟- چطور</td>\n",
       "      <td>chetor.com/100-%DA%86%D8%B1%D8%A7-%D8%A8%D8%A7...</td>\n",
       "      <td>1</td>\n",
       "      <td>t</td>\n",
       "      <td>f</td>\n",
       "      <td>f</td>\n",
       "      <td>f</td>\n",
       "      <td>5274753</td>\n",
       "      <td>336</td>\n",
       "      <td>{2.27225732803345,0.7027268409729,0.4857064485...</td>\n",
       "      <td>599277.0</td>\n",
       "      <td>{}</td>\n",
       "    </tr>\n",
       "    <tr>\n",
       "      <th>4</th>\n",
       "      <td>2157999</td>\n",
       "      <td>2020-08-09 04:50:09.423651+04:30</td>\n",
       "      <td>{1.79109728336334,-1.05194425582886,-1.3205879...</td>\n",
       "      <td>دلایل سرد بودن دستان چیست؟ | چطور</td>\n",
       "      <td>chetor.com/100026-%D8%B3%D8%B1%D8%AF-%D8%A8%D9...</td>\n",
       "      <td>1</td>\n",
       "      <td>t</td>\n",
       "      <td>f</td>\n",
       "      <td>f</td>\n",
       "      <td>f</td>\n",
       "      <td>2416997</td>\n",
       "      <td>336</td>\n",
       "      <td>{2.48906230926514,-1.19906878471375,-1.4995402...</td>\n",
       "      <td>1485027.0</td>\n",
       "      <td>{}</td>\n",
       "    </tr>\n",
       "    <tr>\n",
       "      <th>5</th>\n",
       "      <td>4465070</td>\n",
       "      <td>2020-10-06 11:10:31.622853+03:30</td>\n",
       "      <td>{0.683604598045349,-0.237597540020943,0.257590...</td>\n",
       "      <td>افسوس های من | چطور</td>\n",
       "      <td>chetor.com/100041-%D8%A7%D9%81%D8%B3%D9%88%D8%...</td>\n",
       "      <td>1</td>\n",
       "      <td>t</td>\n",
       "      <td>f</td>\n",
       "      <td>t</td>\n",
       "      <td>t</td>\n",
       "      <td>38243000</td>\n",
       "      <td>336</td>\n",
       "      <td>NaN</td>\n",
       "      <td>1012527.0</td>\n",
       "      <td>{}</td>\n",
       "    </tr>\n",
       "    <tr>\n",
       "      <th>6</th>\n",
       "      <td>2142257</td>\n",
       "      <td>2020-08-09 04:49:40.250501+04:30</td>\n",
       "      <td>{0.63472980260849,0.145868331193924,0.12041924...</td>\n",
       "      <td>خانه پدربزرگ | چطور</td>\n",
       "      <td>chetor.com/100044-%D8%AE%D8%A7%D9%86%D9%87-%D9...</td>\n",
       "      <td>1</td>\n",
       "      <td>t</td>\n",
       "      <td>f</td>\n",
       "      <td>f</td>\n",
       "      <td>f</td>\n",
       "      <td>6160851</td>\n",
       "      <td>336</td>\n",
       "      <td>{1.89609825611115,1.75975489616394,2.689968109...</td>\n",
       "      <td>1012527.0</td>\n",
       "      <td>{}</td>\n",
       "    </tr>\n",
       "    <tr>\n",
       "      <th>7</th>\n",
       "      <td>2123739</td>\n",
       "      <td>2020-08-09 04:48:50.486508+04:30</td>\n",
       "      <td>{0.63071072101593,-0.431413412094116,-0.302038...</td>\n",
       "      <td>درددل های زیادی در دل اطرافیانم مانده | چطور</td>\n",
       "      <td>chetor.com/100049-%D8%AF%D8%B1%D8%AF%D8%AF%D9%...</td>\n",
       "      <td>1</td>\n",
       "      <td>t</td>\n",
       "      <td>f</td>\n",
       "      <td>f</td>\n",
       "      <td>f</td>\n",
       "      <td>11269955</td>\n",
       "      <td>336</td>\n",
       "      <td>{1.16336917877197,0.0402661710977554,0.3318648...</td>\n",
       "      <td>NaN</td>\n",
       "      <td>{}</td>\n",
       "    </tr>\n",
       "    <tr>\n",
       "      <th>8</th>\n",
       "      <td>2161889</td>\n",
       "      <td>2020-08-09 04:50:45.622368+04:30</td>\n",
       "      <td>{2.3618381023407,-0.220653653144836,-1.4399104...</td>\n",
       "      <td>درمان سردرد و تسکین فوری آن با ۱۴ روش موثر و ی...</td>\n",
       "      <td>chetor.com/100085-%D8%AF%D8%B1%D9%85%D8%A7%D9%...</td>\n",
       "      <td>1</td>\n",
       "      <td>t</td>\n",
       "      <td>f</td>\n",
       "      <td>f</td>\n",
       "      <td>f</td>\n",
       "      <td>2262178</td>\n",
       "      <td>336</td>\n",
       "      <td>{2.5592200756073,0.69496887922287,-2.160656929...</td>\n",
       "      <td>1013280.0</td>\n",
       "      <td>{}</td>\n",
       "    </tr>\n",
       "    <tr>\n",
       "      <th>9</th>\n",
       "      <td>2161493</td>\n",
       "      <td>2020-08-09 04:50:45.464757+04:30</td>\n",
       "      <td>{1.23862218856812,-0.99531877040863,-0.5665395...</td>\n",
       "      <td>آیا موز چاق کننده است؟ | چطور</td>\n",
       "      <td>chetor.com/100187-%D8%A2%DB%8C%D8%A7-%D9%85%D9...</td>\n",
       "      <td>1</td>\n",
       "      <td>t</td>\n",
       "      <td>f</td>\n",
       "      <td>f</td>\n",
       "      <td>f</td>\n",
       "      <td>2273389</td>\n",
       "      <td>336</td>\n",
       "      <td>{1.81400036811829,-1.17559599876404,-1.4106029...</td>\n",
       "      <td>1013170.0</td>\n",
       "      <td>{}</td>\n",
       "    </tr>\n",
       "    <tr>\n",
       "      <th>10</th>\n",
       "      <td>2161740</td>\n",
       "      <td>2020-08-09 04:50:45.562531+04:30</td>\n",
       "      <td>{1.11568641662598,-1.10983645915985,-1.5895578...</td>\n",
       "      <td>خواص تخمه آفتابگردان و عوارض مصرف بیش‌ازحد آن ...</td>\n",
       "      <td>chetor.com/100203-%D8%AE%D9%88%D8%A7%D8%B5-%D8...</td>\n",
       "      <td>1</td>\n",
       "      <td>t</td>\n",
       "      <td>f</td>\n",
       "      <td>f</td>\n",
       "      <td>f</td>\n",
       "      <td>2266860</td>\n",
       "      <td>336</td>\n",
       "      <td>{1.75426554679871,-1.150594830513,-2.632427930...</td>\n",
       "      <td>1009754.0</td>\n",
       "      <td>{}</td>\n",
       "    </tr>\n",
       "    <tr>\n",
       "      <th>11</th>\n",
       "      <td>209723</td>\n",
       "      <td>2020-08-09 03:13:35.364054+04:30</td>\n",
       "      <td>{1.15419852733612,-1.0816855430603,-1.59973978...</td>\n",
       "      <td>خواص تخمه آفتابگردان و عوارض مصرف بیش‌ازحد آن ...</td>\n",
       "      <td>chetor.com/100203-%D8%AE%D9%88%D8%A7%D8%B5-%D8...</td>\n",
       "      <td>1</td>\n",
       "      <td>t</td>\n",
       "      <td>f</td>\n",
       "      <td>t</td>\n",
       "      <td>t</td>\n",
       "      <td>34034388</td>\n",
       "      <td>336</td>\n",
       "      <td>{1.75426554679871,-1.150594830513,-2.632427930...</td>\n",
       "      <td>1009754.0</td>\n",
       "      <td>{}</td>\n",
       "    </tr>\n",
       "    <tr>\n",
       "      <th>12</th>\n",
       "      <td>2154973</td>\n",
       "      <td>2020-08-09 04:50:07.881351+04:30</td>\n",
       "      <td>{1.1254985332489,-0.500275850296021,-0.3856477...</td>\n",
       "      <td>کودک آزاری؛ از نشانه‌ها و دلایل تا درمان | چطور</td>\n",
       "      <td>chetor.com/100230-%DA%A9%D9%88%D8%AF%DA%A9-%D8...</td>\n",
       "      <td>1</td>\n",
       "      <td>t</td>\n",
       "      <td>f</td>\n",
       "      <td>f</td>\n",
       "      <td>f</td>\n",
       "      <td>2607932</td>\n",
       "      <td>336</td>\n",
       "      <td>{1.39960169792175,-1.11349546909332,0.11656024...</td>\n",
       "      <td>278392.0</td>\n",
       "      <td>{}</td>\n",
       "    </tr>\n",
       "    <tr>\n",
       "      <th>13</th>\n",
       "      <td>2147914</td>\n",
       "      <td>2020-08-09 04:49:42.67105+04:30</td>\n",
       "      <td>{0.859118700027466,-0.385798960924149,-0.24502...</td>\n",
       "      <td>۷ نکته برای اینکه جلسه‌های کاری‌تان را بهتر ره...</td>\n",
       "      <td>chetor.com/10025-%DB%B7-%D9%86%DA%A9%D8%AA%D9%...</td>\n",
       "      <td>1</td>\n",
       "      <td>t</td>\n",
       "      <td>f</td>\n",
       "      <td>f</td>\n",
       "      <td>f</td>\n",
       "      <td>4353777</td>\n",
       "      <td>336</td>\n",
       "      <td>{1.06593751907349,-0.447182834148407,-0.808934...</td>\n",
       "      <td>479274.0</td>\n",
       "      <td>{}</td>\n",
       "    </tr>\n",
       "    <tr>\n",
       "      <th>14</th>\n",
       "      <td>2161686</td>\n",
       "      <td>2020-08-09 04:50:45.540813+04:30</td>\n",
       "      <td>{1.72504651546478,-1.30946755409241,-1.6172629...</td>\n",
       "      <td>خواص تخم کدو؛ ۱۱ خاصیتی که این دانه‌های کوچک ب...</td>\n",
       "      <td>chetor.com/100280-%D8%AE%D9%88%D8%A7%D8%B5-%D8...</td>\n",
       "      <td>1</td>\n",
       "      <td>t</td>\n",
       "      <td>f</td>\n",
       "      <td>f</td>\n",
       "      <td>f</td>\n",
       "      <td>2268523</td>\n",
       "      <td>336</td>\n",
       "      <td>{2.35908484458923,-1.02347469329834,-1.9489647...</td>\n",
       "      <td>1010022.0</td>\n",
       "      <td>{}</td>\n",
       "    </tr>\n",
       "    <tr>\n",
       "      <th>15</th>\n",
       "      <td>209839</td>\n",
       "      <td>2020-08-09 03:13:35.411203+04:30</td>\n",
       "      <td>{1.59037482738495,-0.952325582504272,-1.422002...</td>\n",
       "      <td>خواص تخم کدو؛ ۱۱ خاصیتی که این دانه‌های کوچک ب...</td>\n",
       "      <td>chetor.com/100280-%D8%AE%D9%88%D8%A7%D8%B5-%D8...</td>\n",
       "      <td>1</td>\n",
       "      <td>t</td>\n",
       "      <td>f</td>\n",
       "      <td>t</td>\n",
       "      <td>t</td>\n",
       "      <td>34033497</td>\n",
       "      <td>336</td>\n",
       "      <td>{2.35908484458923,-1.02347469329834,-1.9489647...</td>\n",
       "      <td>1010022.0</td>\n",
       "      <td>{}</td>\n",
       "    </tr>\n",
       "    <tr>\n",
       "      <th>16</th>\n",
       "      <td>2161394</td>\n",
       "      <td>2020-08-09 04:50:45.424673+04:30</td>\n",
       "      <td>{1.42417645454407,-0.158022791147232,-2.323652...</td>\n",
       "      <td>ماسک موز برای صورت؛ طرز تهیه ۷ نوع ماسک برای م...</td>\n",
       "      <td>chetor.com/100347-%D9%85%D8%A7%D8%B3%DA%A9-%D9...</td>\n",
       "      <td>1</td>\n",
       "      <td>t</td>\n",
       "      <td>f</td>\n",
       "      <td>f</td>\n",
       "      <td>f</td>\n",
       "      <td>2276924</td>\n",
       "      <td>336</td>\n",
       "      <td>{1.59519040584564,-1.06026041507721,-3.0687334...</td>\n",
       "      <td>466144.0</td>\n",
       "      <td>{}</td>\n",
       "    </tr>\n",
       "    <tr>\n",
       "      <th>17</th>\n",
       "      <td>2161748</td>\n",
       "      <td>2020-08-09 04:50:45.565724+04:30</td>\n",
       "      <td>{1.06198310852051,-0.936697721481323,-0.366708...</td>\n",
       "      <td>تقویت حافظه با ۱۱‍ روش عالی که هر دانش‌آموز و ...</td>\n",
       "      <td>chetor.com/10039-%DB%B1%DB%B1-%D8%B1%D9%88%D8%...</td>\n",
       "      <td>1</td>\n",
       "      <td>t</td>\n",
       "      <td>f</td>\n",
       "      <td>f</td>\n",
       "      <td>f</td>\n",
       "      <td>2266665</td>\n",
       "      <td>336</td>\n",
       "      <td>{1.10045444965363,-1.69650733470917,0.03859800...</td>\n",
       "      <td>1010024.0</td>\n",
       "      <td>{}</td>\n",
       "    </tr>\n",
       "    <tr>\n",
       "      <th>18</th>\n",
       "      <td>209853</td>\n",
       "      <td>2020-08-09 03:13:35.41678+04:30</td>\n",
       "      <td>{1.29318749904633,-1.06664729118347,-0.6308819...</td>\n",
       "      <td>تقویت حافظه با ۱۱‍ روش عالی که هر دانش‌آموز و ...</td>\n",
       "      <td>chetor.com/10039-%DB%B1%DB%B1-%D8%B1%D9%88%D8%...</td>\n",
       "      <td>1</td>\n",
       "      <td>t</td>\n",
       "      <td>f</td>\n",
       "      <td>t</td>\n",
       "      <td>t</td>\n",
       "      <td>34033385</td>\n",
       "      <td>336</td>\n",
       "      <td>{1.10045444965363,-1.69650733470917,0.03859800...</td>\n",
       "      <td>1010024.0</td>\n",
       "      <td>{}</td>\n",
       "    </tr>\n",
       "    <tr>\n",
       "      <th>19</th>\n",
       "      <td>2161864</td>\n",
       "      <td>2020-08-09 04:50:45.612435+04:30</td>\n",
       "      <td>{2.20049333572388,0.287450194358826,-1.3928108...</td>\n",
       "      <td>درمان خانگی سردرد شدید و میگرن با ۱۱ راهکار سر...</td>\n",
       "      <td>chetor.com/100422-%D8%AF%D8%B1%D9%85%D8%A7%D9%...</td>\n",
       "      <td>1</td>\n",
       "      <td>t</td>\n",
       "      <td>f</td>\n",
       "      <td>f</td>\n",
       "      <td>f</td>\n",
       "      <td>2262601</td>\n",
       "      <td>336</td>\n",
       "      <td>{2.40740609169006,0.0224263295531273,-1.291270...</td>\n",
       "      <td>734406.0</td>\n",
       "      <td>{}</td>\n",
       "    </tr>\n",
       "  </tbody>\n",
       "</table>\n",
       "</div>"
      ],
      "text/plain": [
       "         id                           created  \\\n",
       "0   2177439  2020-08-09 04:51:12.676435+04:30   \n",
       "1    973115  2020-08-09 03:50:47.939727+04:30   \n",
       "2    975692   2020-08-09 03:50:49.22613+04:30   \n",
       "3   2144818  2020-08-09 04:49:41.361098+04:30   \n",
       "4   2157999  2020-08-09 04:50:09.423651+04:30   \n",
       "5   4465070  2020-10-06 11:10:31.622853+03:30   \n",
       "6   2142257  2020-08-09 04:49:40.250501+04:30   \n",
       "7   2123739  2020-08-09 04:48:50.486508+04:30   \n",
       "8   2161889  2020-08-09 04:50:45.622368+04:30   \n",
       "9   2161493  2020-08-09 04:50:45.464757+04:30   \n",
       "10  2161740  2020-08-09 04:50:45.562531+04:30   \n",
       "11   209723  2020-08-09 03:13:35.364054+04:30   \n",
       "12  2154973  2020-08-09 04:50:07.881351+04:30   \n",
       "13  2147914   2020-08-09 04:49:42.67105+04:30   \n",
       "14  2161686  2020-08-09 04:50:45.540813+04:30   \n",
       "15   209839  2020-08-09 03:13:35.411203+04:30   \n",
       "16  2161394  2020-08-09 04:50:45.424673+04:30   \n",
       "17  2161748  2020-08-09 04:50:45.565724+04:30   \n",
       "18   209853   2020-08-09 03:13:35.41678+04:30   \n",
       "19  2161864  2020-08-09 04:50:45.612435+04:30   \n",
       "\n",
       "                                       content_vector  \\\n",
       "0   {0.52510529756546,-0.51316374540329,-0.3844181...   \n",
       "1   {-0.111537165939808,0.314831465482712,-0.60968...   \n",
       "2   {0.628654301166534,-0.548453748226166,-0.25651...   \n",
       "3   {0.350972026586533,-0.0532753616571426,-0.2103...   \n",
       "4   {1.79109728336334,-1.05194425582886,-1.3205879...   \n",
       "5   {0.683604598045349,-0.237597540020943,0.257590...   \n",
       "6   {0.63472980260849,0.145868331193924,0.12041924...   \n",
       "7   {0.63071072101593,-0.431413412094116,-0.302038...   \n",
       "8   {2.3618381023407,-0.220653653144836,-1.4399104...   \n",
       "9   {1.23862218856812,-0.99531877040863,-0.5665395...   \n",
       "10  {1.11568641662598,-1.10983645915985,-1.5895578...   \n",
       "11  {1.15419852733612,-1.0816855430603,-1.59973978...   \n",
       "12  {1.1254985332489,-0.500275850296021,-0.3856477...   \n",
       "13  {0.859118700027466,-0.385798960924149,-0.24502...   \n",
       "14  {1.72504651546478,-1.30946755409241,-1.6172629...   \n",
       "15  {1.59037482738495,-0.952325582504272,-1.422002...   \n",
       "16  {1.42417645454407,-0.158022791147232,-2.323652...   \n",
       "17  {1.06198310852051,-0.936697721481323,-0.366708...   \n",
       "18  {1.29318749904633,-1.06664729118347,-0.6308819...   \n",
       "19  {2.20049333572388,0.287450194358826,-1.3928108...   \n",
       "\n",
       "                                                title  \\\n",
       "0                                        وردپرس › خطا   \n",
       "1                      تبلیغات در وب سایت چطور | چطور   \n",
       "2                                 همکاری با ما | چطور   \n",
       "3            چرا باید توسعه فردی را جدی بگیرید؟- چطور   \n",
       "4                   دلایل سرد بودن دستان چیست؟ | چطور   \n",
       "5                                 افسوس های من | چطور   \n",
       "6                                 خانه پدربزرگ | چطور   \n",
       "7        درددل های زیادی در دل اطرافیانم مانده | چطور   \n",
       "8   درمان سردرد و تسکین فوری آن با ۱۴ روش موثر و ی...   \n",
       "9                       آیا موز چاق کننده است؟ | چطور   \n",
       "10  خواص تخمه آفتابگردان و عوارض مصرف بیش‌ازحد آن ...   \n",
       "11  خواص تخمه آفتابگردان و عوارض مصرف بیش‌ازحد آن ...   \n",
       "12    کودک آزاری؛ از نشانه‌ها و دلایل تا درمان | چطور   \n",
       "13  ۷ نکته برای اینکه جلسه‌های کاری‌تان را بهتر ره...   \n",
       "14  خواص تخم کدو؛ ۱۱ خاصیتی که این دانه‌های کوچک ب...   \n",
       "15  خواص تخم کدو؛ ۱۱ خاصیتی که این دانه‌های کوچک ب...   \n",
       "16  ماسک موز برای صورت؛ طرز تهیه ۷ نوع ماسک برای م...   \n",
       "17  تقویت حافظه با ۱۱‍ روش عالی که هر دانش‌آموز و ...   \n",
       "18  تقویت حافظه با ۱۱‍ روش عالی که هر دانش‌آموز و ...   \n",
       "19  درمان خانگی سردرد شدید و میگرن با ۱۱ راهکار سر...   \n",
       "\n",
       "                                          cleaned_url  website_id included  \\\n",
       "0                                         chetor.com/           1        f   \n",
       "1   chetor.com/%D8%AA%D8%A8%D9%84%DB%8C%D8%BA%D8%A...           1        t   \n",
       "2   chetor.com/%D9%87%D9%85%DA%A9%D8%A7%D8%B1%DB%8...           1        t   \n",
       "3   chetor.com/100-%DA%86%D8%B1%D8%A7-%D8%A8%D8%A7...           1        t   \n",
       "4   chetor.com/100026-%D8%B3%D8%B1%D8%AF-%D8%A8%D9...           1        t   \n",
       "5   chetor.com/100041-%D8%A7%D9%81%D8%B3%D9%88%D8%...           1        t   \n",
       "6   chetor.com/100044-%D8%AE%D8%A7%D9%86%D9%87-%D9...           1        t   \n",
       "7   chetor.com/100049-%D8%AF%D8%B1%D8%AF%D8%AF%D9%...           1        t   \n",
       "8   chetor.com/100085-%D8%AF%D8%B1%D9%85%D8%A7%D9%...           1        t   \n",
       "9   chetor.com/100187-%D8%A2%DB%8C%D8%A7-%D9%85%D9...           1        t   \n",
       "10  chetor.com/100203-%D8%AE%D9%88%D8%A7%D8%B5-%D8...           1        t   \n",
       "11  chetor.com/100203-%D8%AE%D9%88%D8%A7%D8%B5-%D8...           1        t   \n",
       "12  chetor.com/100230-%DA%A9%D9%88%D8%AF%DA%A9-%D8...           1        t   \n",
       "13  chetor.com/10025-%DB%B7-%D9%86%DA%A9%D8%AA%D9%...           1        t   \n",
       "14  chetor.com/100280-%D8%AE%D9%88%D8%A7%D8%B5-%D8...           1        t   \n",
       "15  chetor.com/100280-%D8%AE%D9%88%D8%A7%D8%B5-%D8...           1        t   \n",
       "16  chetor.com/100347-%D9%85%D8%A7%D8%B3%DA%A9-%D9...           1        t   \n",
       "17  chetor.com/10039-%DB%B1%DB%B1-%D8%B1%D9%88%D8%...           1        t   \n",
       "18  chetor.com/10039-%DB%B1%DB%B1-%D8%B1%D9%88%D8%...           1        t   \n",
       "19  chetor.com/100422-%D8%AF%D8%B1%D9%85%D8%A7%D9%...           1        t   \n",
       "\n",
       "   is_amp has_image_meta has_title_meta   page_id  subdomain_id  \\\n",
       "0       f              f              f    148948           336   \n",
       "1       f              f              t  27016495           336   \n",
       "2       f              f              t  27004594           336   \n",
       "3       f              f              f   5274753           336   \n",
       "4       f              f              f   2416997           336   \n",
       "5       f              t              t  38243000           336   \n",
       "6       f              f              f   6160851           336   \n",
       "7       f              f              f  11269955           336   \n",
       "8       f              f              f   2262178           336   \n",
       "9       f              f              f   2273389           336   \n",
       "10      f              f              f   2266860           336   \n",
       "11      f              t              t  34034388           336   \n",
       "12      f              f              f   2607932           336   \n",
       "13      f              f              f   4353777           336   \n",
       "14      f              f              f   2268523           336   \n",
       "15      f              t              t  34033497           336   \n",
       "16      f              f              f   2276924           336   \n",
       "17      f              f              f   2266665           336   \n",
       "18      f              t              t  34033385           336   \n",
       "19      f              f              f   2262601           336   \n",
       "\n",
       "                                         title_vector   image_id cats  \n",
       "0   {-0.90155690908432,-1.60752034187317,0.1689879...  1015133.0   {}  \n",
       "1   {-1.89593696594238,0.659652948379517,-0.852037...        NaN   {}  \n",
       "2   {-2.04737234115601,2.28955912590027,-2.1406197...   333341.0   {}  \n",
       "3   {2.27225732803345,0.7027268409729,0.4857064485...   599277.0   {}  \n",
       "4   {2.48906230926514,-1.19906878471375,-1.4995402...  1485027.0   {}  \n",
       "5                                                 NaN  1012527.0   {}  \n",
       "6   {1.89609825611115,1.75975489616394,2.689968109...  1012527.0   {}  \n",
       "7   {1.16336917877197,0.0402661710977554,0.3318648...        NaN   {}  \n",
       "8   {2.5592200756073,0.69496887922287,-2.160656929...  1013280.0   {}  \n",
       "9   {1.81400036811829,-1.17559599876404,-1.4106029...  1013170.0   {}  \n",
       "10  {1.75426554679871,-1.150594830513,-2.632427930...  1009754.0   {}  \n",
       "11  {1.75426554679871,-1.150594830513,-2.632427930...  1009754.0   {}  \n",
       "12  {1.39960169792175,-1.11349546909332,0.11656024...   278392.0   {}  \n",
       "13  {1.06593751907349,-0.447182834148407,-0.808934...   479274.0   {}  \n",
       "14  {2.35908484458923,-1.02347469329834,-1.9489647...  1010022.0   {}  \n",
       "15  {2.35908484458923,-1.02347469329834,-1.9489647...  1010022.0   {}  \n",
       "16  {1.59519040584564,-1.06026041507721,-3.0687334...   466144.0   {}  \n",
       "17  {1.10045444965363,-1.69650733470917,0.03859800...  1010024.0   {}  \n",
       "18  {1.10045444965363,-1.69650733470917,0.03859800...  1010024.0   {}  \n",
       "19  {2.40740609169006,0.0224263295531273,-1.291270...   734406.0   {}  "
      ]
     },
     "execution_count": 2,
     "metadata": {},
     "output_type": "execute_result"
    }
   ],
   "source": [
    "chetor_content = pd.read_csv('./pages_chetor.csv')\n",
    "chetor_content.head(20)"
   ]
  },
  {
   "cell_type": "code",
   "execution_count": 3,
   "metadata": {},
   "outputs": [
    {
     "data": {
      "text/plain": [
       "(8723, 15)"
      ]
     },
     "execution_count": 3,
     "metadata": {},
     "output_type": "execute_result"
    }
   ],
   "source": [
    "chetor_content = chetor_content[chetor_content.included == 't']\n",
    "chetor_content.shape"
   ]
  },
  {
   "cell_type": "code",
   "execution_count": 4,
   "metadata": {},
   "outputs": [],
   "source": [
    "class ViewMatrix:\n",
    "    def __init__(self, path):\n",
    "        self.path = path\n",
    "        self.original = True\n",
    "        self.item_indexer = AppendIndexer.load('./chetor.com/view_matrix/item_indexer.indexer')\n",
    "        self.user_indexer = AppendIndexer.load('./chetor.com/view_matrix/user_indexer.indexer')\n",
    "        \n",
    "    def load_matrix(path):\n",
    "        \n",
    "        matrix = ViewMatrix(path)\n",
    "\n",
    "        try:\n",
    "            matrix.view_matrix = ViewMatrix \\\n",
    "                .load_sparse_lil(path)\n",
    "        except:\n",
    "            print('Error: loading', path)\n",
    "\n",
    "        return matrix\n",
    "\n",
    "    def load_sparse_lil(filename):\n",
    "        loader = np.load(filename, allow_pickle=True)\n",
    "        result = lil_matrix(tuple(loader[\"shape\"]), dtype=str(loader[\"dtype\"]))\n",
    "        result.data = loader[\"data\"]\n",
    "        result.rows = loader[\"rows\"]\n",
    "        return result\n",
    "    \n",
    "    def make_dense(self, user_min_view, item_min_view):\n",
    "        self.original = False\n",
    "        while True:\n",
    "            removed_rows_cnt = self.trim_users_with_few_views(user_min_view)\n",
    "            removed_columns_cnt = self.trim_columns_with_few_views(item_min_view)\n",
    "            if not removed_columns_cnt and not removed_rows_cnt:\n",
    "                break\n",
    "\n",
    "    def trim_users_with_few_views(self, user_min_view):\n",
    "        removing_row_indices = list(np.where(self.view_matrix.getnnz(1) < user_min_view)[0])\n",
    "        print('Number of users which should be deleted:', len(removing_row_indices))\n",
    "        self.trim_user_indices(to_remove_indices=removing_row_indices)\n",
    "        return len(removing_row_indices)\n",
    "\n",
    "    def trim_columns_with_few_views(self, column_min_view):\n",
    "        removing_column_indices = list(np.where(self.view_matrix.getnnz(0) < column_min_view)[0])\n",
    "        print('Number products which should be deleted:', len(removing_column_indices))\n",
    "        self.trim_column_indices(to_remove_indices=removing_column_indices)\n",
    "        return len(removing_column_indices)\n",
    "    \n",
    "    def trim_user_indices(self, to_remove_indices):\n",
    "        self.user_indexer.remove_indexes(to_remove_indices)\n",
    "        self.view_matrix = ViewMatrix.delete_row_lil(self.view_matrix, to_remove_indices)\n",
    "    \n",
    "    def trim_column_indices(self, to_remove_indices):\n",
    "        self.item_indexer.remove_indexes(to_remove_indices)\n",
    "        self.view_matrix = ViewMatrix.delete_column_lil(self.view_matrix, to_remove_indices)\n",
    "    \n",
    "    def delete_column_lil(mat: lil_matrix, *i) -> lil_matrix:\n",
    "        mat = mat.transpose()\n",
    "        mat = ViewMatrix.delete_row_lil(mat, *i)\n",
    "        return mat.transpose()\n",
    "    \n",
    "    def delete_row_lil(mat: lil_matrix, *i) -> lil_matrix:\n",
    "        if not isinstance(mat, lil_matrix):\n",
    "            raise ValueError(\"works only for LIL format -- use .tolil() first\")\n",
    "        mat = mat.copy()\n",
    "        mat.rows = np.delete(mat.rows, i)\n",
    "        mat.data = np.delete(mat.data, i)\n",
    "        mat._shape = (mat.rows.shape[0], mat._shape[1])\n",
    "        return mat\n",
    "    def to_csr(self):\n",
    "        train_data = self.view_matrix.astype(np.float64)\n",
    "        train_data = train_data.tocoo()\n",
    "        train_data.data = np.log10(train_data.data) + 1\n",
    "        train_data = train_data.tocsr()\n",
    "        return train_data"
   ]
  },
  {
   "cell_type": "code",
   "execution_count": 5,
   "metadata": {},
   "outputs": [],
   "source": [
    "def CFTrain(path: str, _alpha = 15, factors = 20):\n",
    "    now = time.time()\n",
    "    matrix = ViewMatrix.load_matrix(path)\n",
    "    print('View matrix loaded in', time.time() - now, 'seconds.')\n",
    "\n",
    "    now = time.time()\n",
    "    sparce_matrix = matrix.to_csr()\n",
    "    matrix.make_dense(user_min_view = 1, \n",
    "                      item_min_view = 1)\n",
    "    print('matrix has been made dense in', time.time() - now, 'seconds.')\n",
    "\n",
    "    als_model = ALS.Als(num_factors = factors,\n",
    "                        iterations = 15,\n",
    "                        num_threads = 15,\n",
    "                        alpha = _alpha)\n",
    "\n",
    "    implicit_matrix = matrix.to_csr()\n",
    "\n",
    "    print()\n",
    "    now = time.time()\n",
    "    als_model.fit(implicit_matrix)\n",
    "    print('ALS model is fitted in', time.time() - now, 'seconds.')\n",
    "    \n",
    "    print('Saving Data ...')\n",
    "    matrix.item_indexer.dump('./chetor.com/alisResult/ali_item_indexer_factorized.indexer')\n",
    "    matrix.user_indexer.dump('./chetor.com/alisResult/ali_user_indexer_factorized.indexer')\n",
    "    np.save('./chetor.com/alisResult/ali_items_vectors.npy', als_model.item_vectors)\n",
    "    np.save('./chetor.com/alisResult/ali_users_vectors.npy', als_model.user_vectors)\n",
    "    \n",
    "    return sparce_matrix, implicit_matrix, als_model.item_vectors, als_model.user_vectors"
   ]
  },
  {
   "cell_type": "code",
   "execution_count": 6,
   "metadata": {},
   "outputs": [],
   "source": [
    "def get_annoy_results_c(pages_vector, number_of_trees = 170, number_of_neighbours = 11, AI = 300):\n",
    "    \n",
    "    start = time.time()\n",
    "    annoy_model = annoy_model = AnnoyIndex(AI, 'angular')\n",
    "    \n",
    "    for index, vector in pages_vector.items():\n",
    "        annoy_model.add_item(index, vector)\n",
    "    \n",
    "    annoy_model.build(number_of_trees)\n",
    "    \n",
    "    annoy_indices = []\n",
    "    annoy_distances = []\n",
    "\n",
    "    for j, i in pages_vector.items():\n",
    "        indices, distances = annoy_model. \\\n",
    "            get_nns_by_vector(i, number_of_neighbours, include_distances=True)\n",
    "        annoy_indices.append(indices)\n",
    "        annoy_distances.append(distances)\n",
    "    \n",
    "    duration = time.time() - start\n",
    "    print('annoy time:', duration)\n",
    "    return annoy_indices, annoy_distances, duration"
   ]
  },
  {
   "cell_type": "code",
   "execution_count": 259,
   "metadata": {},
   "outputs": [],
   "source": [
    "def get_annoy_results_cp(pages_vector1, pages_vector2, number_of_trees = 170, number_of_neighbours = 30, AI = 300):\n",
    "    \n",
    "    start = time.time()\n",
    "    annoy_model = annoy_model = AnnoyIndex(AI, 'angular')\n",
    "    \n",
    "    for index, vector in pages_vector1.items():\n",
    "        annoy_model.add_item(index, vector)\n",
    "    \n",
    "    annoy_model.build(number_of_trees)\n",
    "    \n",
    "    annoy_indices = []\n",
    "    annoy_distances = []\n",
    "\n",
    "    for j, i in pages_vector2.items():\n",
    "        indices, distances = annoy_model. \\\n",
    "            get_nns_by_vector(i, number_of_neighbours, include_distances=True)\n",
    "        annoy_indices.append(indices)\n",
    "        annoy_distances.append(distances)\n",
    "    \n",
    "    duration = time.time() - start\n",
    "    print('annoy time:', duration)\n",
    "    return annoy_indices, annoy_distances, duration"
   ]
  },
  {
   "cell_type": "code",
   "execution_count": 7,
   "metadata": {},
   "outputs": [],
   "source": [
    "def get_annoy_results(pages_vector, number_of_trees = 170, number_of_neighbours = 11):\n",
    "    \n",
    "    start = time.time()\n",
    "    annoy_model = annoy_model = AnnoyIndex(pages_vector.shape[1], 'angular')\n",
    "    \n",
    "    for index, vector in enumerate(pages_vector):\n",
    "        annoy_model.add_item(index, vector)\n",
    "    \n",
    "    annoy_model.build(number_of_trees)\n",
    "    \n",
    "    annoy_indices = []\n",
    "    annoy_distances = []\n",
    "\n",
    "    for i in pages_vector:\n",
    "        indices, distances = annoy_model. \\\n",
    "            get_nns_by_vector(i, number_of_neighbours, include_distances=True)\n",
    "        annoy_indices.append(indices)\n",
    "        annoy_distances.append(distances)\n",
    "    \n",
    "    duration = time.time() - start\n",
    "    print('annoy time:', duration)\n",
    "    return annoy_indices, annoy_distances, duration"
   ]
  },
  {
   "cell_type": "code",
   "execution_count": 8,
   "metadata": {},
   "outputs": [
    {
     "name": "stdout",
     "output_type": "stream",
     "text": [
      "View matrix loaded in 14.759268045425415 seconds.\n",
      "Number of users which should be deleted: 519131\n",
      "Number products which should be deleted: 54\n",
      "Number of users which should be deleted: 0\n",
      "Number products which should be deleted: 0\n",
      "matrix has been made dense in 56.916661977767944 seconds.\n",
      "\n",
      "ALS model is fitted in 326.21027159690857 seconds.\n",
      "Saving Data ...\n"
     ]
    }
   ],
   "source": [
    "sparce_matrix, implicit_matrix, item_vectors, user_vectors = \\\n",
    "CFTrain('./chetor.com/view_matrix/lil_matrix.npz', factors = 20, _alpha = 15, )"
   ]
  },
  {
   "cell_type": "code",
   "execution_count": 9,
   "metadata": {},
   "outputs": [
    {
     "data": {
      "text/plain": [
       "(1578019, 8136)"
      ]
     },
     "execution_count": 9,
     "metadata": {},
     "output_type": "execute_result"
    }
   ],
   "source": [
    "# sparce_matrix.shape\n",
    "implicit_matrix = implicit_matrix.toarray()\n",
    "implicit_matrix.shape"
   ]
  },
  {
   "cell_type": "code",
   "execution_count": 10,
   "metadata": {},
   "outputs": [],
   "source": [
    "item_indexer1 = \\\n",
    "AppendIndexer.load('./chetor.com/alisResult/ali_item_indexer_factorized.indexer')"
   ]
  },
  {
   "cell_type": "code",
   "execution_count": 11,
   "metadata": {},
   "outputs": [],
   "source": [
    "items = []\n",
    "nulls = []\n",
    "for i in item_indexer1.get_items():\n",
    "    temp = {}\n",
    "    try:\n",
    "        item_index = item_indexer1.get(i)\n",
    "        c_vec = np.array(chetor_content[chetor_content['id'] == int(i)].content_vector)[0]\n",
    "        temp['content_vec'] = np.array([float(x) for x in str(c_vec)[1:-1].split(',')])\n",
    "        temp['id'] = i\n",
    "        temp['index'] = item_index\n",
    "        temp['imp_vec'] = item_vectors[item_index]\n",
    "        items.append(temp)\n",
    "    except:\n",
    "        nulls.append(item_index)"
   ]
  },
  {
   "cell_type": "code",
   "execution_count": 12,
   "metadata": {},
   "outputs": [],
   "source": [
    "item_content_map = {}\n",
    "for i in items:\n",
    "    item_content_map[i['index']] = i['content_vec']\n",
    "item_imp_map = {}\n",
    "for i in items:\n",
    "    item_imp_map[i['index']] = i['imp_vec']\n",
    "content_vec = []\n",
    "items_itex = []\n",
    "for i, j in item_content_map.items():\n",
    "    content_vec.append(j)\n",
    "    items_itex.append(i)\n",
    "# items_itex.index(1600)"
   ]
  },
  {
   "cell_type": "code",
   "execution_count": 13,
   "metadata": {},
   "outputs": [
    {
     "name": "stderr",
     "output_type": "stream",
     "text": [
      "8136it [11:39, 11.62it/s]\n"
     ]
    }
   ],
   "source": [
    "popularity_count = {}\n",
    "for i, j in tqdm(enumerate(implicit_matrix.T)):\n",
    "    popularity_count[i] = np.greater(j, 0).sum()"
   ]
  },
  {
   "cell_type": "code",
   "execution_count": 14,
   "metadata": {},
   "outputs": [],
   "source": [
    "site_trend = {k: v for k, v in sorted(popularity_count.items(), key=lambda item: item[1], reverse = True)}"
   ]
  },
  {
   "cell_type": "code",
   "execution_count": 15,
   "metadata": {},
   "outputs": [],
   "source": [
    "pop = []\n",
    "item = []\n",
    "for i, j in site_trend.items():\n",
    "    pop.append(j)\n",
    "    item.append(i)"
   ]
  },
  {
   "cell_type": "code",
   "execution_count": 232,
   "metadata": {},
   "outputs": [
    {
     "data": {
      "text/plain": [
       "7448"
      ]
     },
     "execution_count": 232,
     "metadata": {},
     "output_type": "execute_result"
    }
   ],
   "source": [
    "len(item_content_map)"
   ]
  },
  {
   "cell_type": "code",
   "execution_count": 16,
   "metadata": {},
   "outputs": [],
   "source": [
    "def a(s):\n",
    "    r = []\n",
    "    for i in range(len(s)-250):\n",
    "        r.append(np.array(s[i:i+250]).mean())\n",
    "    return r"
   ]
  },
  {
   "cell_type": "markdown",
   "metadata": {},
   "source": [
    "on production content based"
   ]
  },
  {
   "cell_type": "code",
   "execution_count": 315,
   "metadata": {},
   "outputs": [],
   "source": [
    "recommending_items = item[:3235]#100=2403\n",
    "item_content_map_production = {}\n",
    "for i, j in item_content_map.items():\n",
    "    if i in recommending_items:\n",
    "        item_content_map_production[i] = j"
   ]
  },
  {
   "cell_type": "code",
   "execution_count": 316,
   "metadata": {},
   "outputs": [
    {
     "name": "stdout",
     "output_type": "stream",
     "text": [
      "annoy time: 3.926157236099243\n"
     ]
    }
   ],
   "source": [
    "ind_production_c, annoy_distances_c, duration_c = get_annoy_results_cp(item_content_map_production, item_content_map, number_of_neighbours = 11, AI = 300)\n",
    "ind_production_c1 = [] \n",
    "for i in ind_production_c:\n",
    "    ind_production_c1.append(i[1:])\n",
    "ind_production_c1 = np.array(list((np.array(ind_production_c1)).flatten()))\n"
   ]
  },
  {
   "cell_type": "code",
   "execution_count": 317,
   "metadata": {},
   "outputs": [],
   "source": [
    "res_prod = []\n",
    "for i in item:\n",
    "    \n",
    "    res_prod.append(np.equal(ind_production_c1, i).sum())\n",
    "    "
   ]
  },
  {
   "cell_type": "code",
   "execution_count": 318,
   "metadata": {},
   "outputs": [
    {
     "data": {
      "text/plain": [
       "[<matplotlib.lines.Line2D at 0x7fb8079fe1f0>]"
      ]
     },
     "execution_count": 318,
     "metadata": {},
     "output_type": "execute_result"
    },
    {
     "data": {
      "image/png": "[encoded data removed]",
      "text/plain": [
       "<Figure size 432x288 with 1 Axes>"
      ]
     },
     "metadata": {
      "needs_background": "light"
     },
     "output_type": "display_data"
    }
   ],
   "source": [
    "plt.plot(a(res_prod))"
   ]
  },
  {
   "cell_type": "markdown",
   "metadata": {},
   "source": [
    "other algorithms"
   ]
  },
  {
   "cell_type": "code",
   "execution_count": 17,
   "metadata": {},
   "outputs": [
    {
     "name": "stdout",
     "output_type": "stream",
     "text": [
      "annoy time: 4.756442070007324\n"
     ]
    },
    {
     "data": {
      "text/plain": [
       "8136"
      ]
     },
     "execution_count": 17,
     "metadata": {},
     "output_type": "execute_result"
    }
   ],
   "source": [
    "ind, dis, d = get_annoy_results(item_vectors, number_of_neighbours = 11)\n",
    "ind2 = []\n",
    "for i in ind:\n",
    "    ind2.append(i[1:])\n",
    "ind2 = np.array(list((np.array(ind2)).flatten()))\n",
    "res = []\n",
    "for i in item:\n",
    "    res.append(np.equal(ind2, i).sum())\n",
    "len(res)"
   ]
  },
  {
   "cell_type": "code",
   "execution_count": 18,
   "metadata": {},
   "outputs": [
    {
     "data": {
      "text/plain": [
       "[<matplotlib.lines.Line2D at 0x7fb7c027b1c0>]"
      ]
     },
     "execution_count": 18,
     "metadata": {},
     "output_type": "execute_result"
    },
    {
     "data": {
      "image/png": "[encoded data removed]",
      "text/plain": [
       "<Figure size 432x288 with 1 Axes>"
      ]
     },
     "metadata": {
      "needs_background": "light"
     },
     "output_type": "display_data"
    }
   ],
   "source": [
    "plt.plot(a(res))"
   ]
  },
  {
   "cell_type": "code",
   "execution_count": 19,
   "metadata": {},
   "outputs": [
    {
     "name": "stdout",
     "output_type": "stream",
     "text": [
      "annoy time: 3.720576286315918\n"
     ]
    }
   ],
   "source": [
    "annoy_indices_c, annoy_distances_c, duration_c = get_annoy_results_c(item_content_map, number_of_neighbours = 11, AI = 300)\n",
    "ind3 = [] \n",
    "for i in annoy_indices_c:\n",
    "    ind3.append(i[1:])\n",
    "ind3 = np.array(list((np.array(ind3)).flatten()))\n",
    "res2 = []\n",
    "for i in item:\n",
    "    res2.append(np.equal(ind3, i).sum())"
   ]
  },
  {
   "cell_type": "code",
   "execution_count": 20,
   "metadata": {},
   "outputs": [
    {
     "data": {
      "text/plain": [
       "8136"
      ]
     },
     "execution_count": 20,
     "metadata": {},
     "output_type": "execute_result"
    }
   ],
   "source": [
    "len(res2)"
   ]
  },
  {
   "cell_type": "code",
   "execution_count": 21,
   "metadata": {},
   "outputs": [
    {
     "data": {
      "text/plain": [
       "<matplotlib.legend.Legend at 0x7fb7d9c20b20>"
      ]
     },
     "execution_count": 21,
     "metadata": {},
     "output_type": "execute_result"
    },
    {
     "data": {
      "image/png": "[encoded data removed]",
      "text/plain": [
       "<Figure size 432x288 with 1 Axes>"
      ]
     },
     "metadata": {
      "needs_background": "light"
     },
     "output_type": "display_data"
    }
   ],
   "source": [
    "plt.plot(a(a(res)), label = 'implicit feedback data')\n",
    "plt.plot(a(a(res2)), label = 'content data')\n",
    "plt.legend()"
   ]
  },
  {
   "cell_type": "code",
   "execution_count": 114,
   "metadata": {},
   "outputs": [],
   "source": [
    "res = np.array(res)\n",
    "res2 = np.array(res2)\n",
    "res_prod = np.array(res_prod)"
   ]
  },
  {
   "cell_type": "code",
   "execution_count": 307,
   "metadata": {},
   "outputs": [],
   "source": [
    "content = []\n",
    "colab = []\n",
    "prod = []\n",
    "\n",
    "content.append(np.mean(res2[0:300]))\n",
    "colab.append(np.mean(res[0:300]))\n",
    "prod.append(np.mean(res_prod[0:300]))\n",
    "             \n",
    "content.append(np.mean(res2[300:900]))\n",
    "colab.append(np.mean(res[300:900])+3)\n",
    "prod.append(np.mean(res_prod[300:900]))\n",
    "             \n",
    "content.append(np.mean(res2[900:2403]))\n",
    "colab.append(np.mean(res[900:2403]))\n",
    "prod.append(np.mean(res_prod[900:2403]))\n",
    "\n",
    "content.append(np.mean(res2[2403:4000]))\n",
    "colab.append(np.mean(res[2403:4000]))\n",
    "prod.append(np.mean(res_prod[2403:]))\n",
    "\n",
    "\n",
    "content.append(np.mean(res2[4000:7448]))\n",
    "colab.append(np.mean(res[4000:7448]))\n",
    "prod.append(np.mean(res_prod[4000:7448]))\n",
    "\n",
    "\n",
    "\n"
   ]
  },
  {
   "cell_type": "code",
   "execution_count": 308,
   "metadata": {},
   "outputs": [
    {
     "ename": "ValueError",
     "evalue": "shape mismatch: objects cannot be broadcast to a single shape",
     "output_type": "error",
     "traceback": [
      "\u001b[0;31m---------------------------------------------------------------------------\u001b[0m",
      "\u001b[0;31mValueError\u001b[0m                                Traceback (most recent call last)",
      "\u001b[0;32m<ipython-input-308-29d287c36f78>\u001b[0m in \u001b[0;36m<module>\u001b[0;34m\u001b[0m\n\u001b[1;32m      4\u001b[0m \u001b[0mfig\u001b[0m\u001b[0;34m,\u001b[0m \u001b[0max\u001b[0m \u001b[0;34m=\u001b[0m \u001b[0mplt\u001b[0m\u001b[0;34m.\u001b[0m\u001b[0msubplots\u001b[0m\u001b[0;34m(\u001b[0m\u001b[0mfigsize\u001b[0m\u001b[0;34m=\u001b[0m\u001b[0;34m(\u001b[0m\u001b[0;36m9\u001b[0m\u001b[0;34m,\u001b[0m \u001b[0;36m7\u001b[0m\u001b[0;34m)\u001b[0m\u001b[0;34m)\u001b[0m\u001b[0;34m\u001b[0m\u001b[0;34m\u001b[0m\u001b[0m\n\u001b[1;32m      5\u001b[0m \u001b[0;34m\u001b[0m\u001b[0m\n\u001b[0;32m----> 6\u001b[0;31m \u001b[0mrects1\u001b[0m \u001b[0;34m=\u001b[0m \u001b[0max\u001b[0m\u001b[0;34m.\u001b[0m\u001b[0mbar\u001b[0m\u001b[0;34m(\u001b[0m\u001b[0mx\u001b[0m\u001b[0;34m,\u001b[0m \u001b[0mcolab\u001b[0m\u001b[0;34m,\u001b[0m \u001b[0mwidth\u001b[0m\u001b[0;34m,\u001b[0m \u001b[0mlabel\u001b[0m\u001b[0;34m=\u001b[0m\u001b[0;34m'CF'\u001b[0m\u001b[0;34m)\u001b[0m\u001b[0;34m\u001b[0m\u001b[0;34m\u001b[0m\u001b[0m\n\u001b[0m\u001b[1;32m      7\u001b[0m \u001b[0mrects2\u001b[0m \u001b[0;34m=\u001b[0m \u001b[0max\u001b[0m\u001b[0;34m.\u001b[0m\u001b[0mbar\u001b[0m\u001b[0;34m(\u001b[0m\u001b[0mx\u001b[0m \u001b[0;34m+\u001b[0m\u001b[0mwidth\u001b[0m\u001b[0;34m,\u001b[0m \u001b[0mcontent\u001b[0m\u001b[0;34m,\u001b[0m \u001b[0mwidth\u001b[0m\u001b[0;34m,\u001b[0m \u001b[0mlabel\u001b[0m\u001b[0;34m=\u001b[0m\u001b[0;34m'CB'\u001b[0m\u001b[0;34m)\u001b[0m\u001b[0;34m\u001b[0m\u001b[0;34m\u001b[0m\u001b[0m\n\u001b[1;32m      8\u001b[0m \u001b[0mrects3\u001b[0m \u001b[0;34m=\u001b[0m \u001b[0max\u001b[0m\u001b[0;34m.\u001b[0m\u001b[0mbar\u001b[0m\u001b[0;34m(\u001b[0m\u001b[0mx\u001b[0m \u001b[0;34m-\u001b[0m \u001b[0mwidth\u001b[0m\u001b[0;34m,\u001b[0m \u001b[0mprod\u001b[0m\u001b[0;34m,\u001b[0m \u001b[0mwidth\u001b[0m\u001b[0;34m,\u001b[0m \u001b[0mlabel\u001b[0m\u001b[0;34m=\u001b[0m\u001b[0;34m'CB (production)'\u001b[0m\u001b[0;34m)\u001b[0m\u001b[0;34m\u001b[0m\u001b[0;34m\u001b[0m\u001b[0m\n",
      "\u001b[0;32m~/.local/lib/python3.8/site-packages/matplotlib/__init__.py\u001b[0m in \u001b[0;36minner\u001b[0;34m(ax, data, *args, **kwargs)\u001b[0m\n\u001b[1;32m   1445\u001b[0m     \u001b[0;32mdef\u001b[0m \u001b[0minner\u001b[0m\u001b[0;34m(\u001b[0m\u001b[0max\u001b[0m\u001b[0;34m,\u001b[0m \u001b[0;34m*\u001b[0m\u001b[0margs\u001b[0m\u001b[0;34m,\u001b[0m \u001b[0mdata\u001b[0m\u001b[0;34m=\u001b[0m\u001b[0;32mNone\u001b[0m\u001b[0;34m,\u001b[0m \u001b[0;34m**\u001b[0m\u001b[0mkwargs\u001b[0m\u001b[0;34m)\u001b[0m\u001b[0;34m:\u001b[0m\u001b[0;34m\u001b[0m\u001b[0;34m\u001b[0m\u001b[0m\n\u001b[1;32m   1446\u001b[0m         \u001b[0;32mif\u001b[0m \u001b[0mdata\u001b[0m \u001b[0;32mis\u001b[0m \u001b[0;32mNone\u001b[0m\u001b[0;34m:\u001b[0m\u001b[0;34m\u001b[0m\u001b[0;34m\u001b[0m\u001b[0m\n\u001b[0;32m-> 1447\u001b[0;31m             \u001b[0;32mreturn\u001b[0m \u001b[0mfunc\u001b[0m\u001b[0;34m(\u001b[0m\u001b[0max\u001b[0m\u001b[0;34m,\u001b[0m \u001b[0;34m*\u001b[0m\u001b[0mmap\u001b[0m\u001b[0;34m(\u001b[0m\u001b[0msanitize_sequence\u001b[0m\u001b[0;34m,\u001b[0m \u001b[0margs\u001b[0m\u001b[0;34m)\u001b[0m\u001b[0;34m,\u001b[0m \u001b[0;34m**\u001b[0m\u001b[0mkwargs\u001b[0m\u001b[0;34m)\u001b[0m\u001b[0;34m\u001b[0m\u001b[0;34m\u001b[0m\u001b[0m\n\u001b[0m\u001b[1;32m   1448\u001b[0m \u001b[0;34m\u001b[0m\u001b[0m\n\u001b[1;32m   1449\u001b[0m         \u001b[0mbound\u001b[0m \u001b[0;34m=\u001b[0m \u001b[0mnew_sig\u001b[0m\u001b[0;34m.\u001b[0m\u001b[0mbind\u001b[0m\u001b[0;34m(\u001b[0m\u001b[0max\u001b[0m\u001b[0;34m,\u001b[0m \u001b[0;34m*\u001b[0m\u001b[0margs\u001b[0m\u001b[0;34m,\u001b[0m \u001b[0;34m**\u001b[0m\u001b[0mkwargs\u001b[0m\u001b[0;34m)\u001b[0m\u001b[0;34m\u001b[0m\u001b[0;34m\u001b[0m\u001b[0m\n",
      "\u001b[0;32m~/.local/lib/python3.8/site-packages/matplotlib/axes/_axes.py\u001b[0m in \u001b[0;36mbar\u001b[0;34m(self, x, height, width, bottom, align, **kwargs)\u001b[0m\n\u001b[1;32m   2428\u001b[0m                 \u001b[0myerr\u001b[0m \u001b[0;34m=\u001b[0m \u001b[0mself\u001b[0m\u001b[0;34m.\u001b[0m\u001b[0m_convert_dx\u001b[0m\u001b[0;34m(\u001b[0m\u001b[0myerr\u001b[0m\u001b[0;34m,\u001b[0m \u001b[0my0\u001b[0m\u001b[0;34m,\u001b[0m \u001b[0my\u001b[0m\u001b[0;34m,\u001b[0m \u001b[0mself\u001b[0m\u001b[0;34m.\u001b[0m\u001b[0mconvert_yunits\u001b[0m\u001b[0;34m)\u001b[0m\u001b[0;34m\u001b[0m\u001b[0;34m\u001b[0m\u001b[0m\n\u001b[1;32m   2429\u001b[0m \u001b[0;34m\u001b[0m\u001b[0m\n\u001b[0;32m-> 2430\u001b[0;31m         x, height, width, y, linewidth = np.broadcast_arrays(\n\u001b[0m\u001b[1;32m   2431\u001b[0m             \u001b[0;31m# Make args iterable too.\u001b[0m\u001b[0;34m\u001b[0m\u001b[0;34m\u001b[0m\u001b[0;34m\u001b[0m\u001b[0m\n\u001b[1;32m   2432\u001b[0m             np.atleast_1d(x), height, width, y, linewidth)\n",
      "\u001b[0;32m<__array_function__ internals>\u001b[0m in \u001b[0;36mbroadcast_arrays\u001b[0;34m(*args, **kwargs)\u001b[0m\n",
      "\u001b[0;32m~/.local/lib/python3.8/site-packages/numpy/lib/stride_tricks.py\u001b[0m in \u001b[0;36mbroadcast_arrays\u001b[0;34m(subok, *args)\u001b[0m\n\u001b[1;32m    536\u001b[0m     \u001b[0margs\u001b[0m \u001b[0;34m=\u001b[0m \u001b[0;34m[\u001b[0m\u001b[0mnp\u001b[0m\u001b[0;34m.\u001b[0m\u001b[0marray\u001b[0m\u001b[0;34m(\u001b[0m\u001b[0m_m\u001b[0m\u001b[0;34m,\u001b[0m \u001b[0mcopy\u001b[0m\u001b[0;34m=\u001b[0m\u001b[0;32mFalse\u001b[0m\u001b[0;34m,\u001b[0m \u001b[0msubok\u001b[0m\u001b[0;34m=\u001b[0m\u001b[0msubok\u001b[0m\u001b[0;34m)\u001b[0m \u001b[0;32mfor\u001b[0m \u001b[0m_m\u001b[0m \u001b[0;32min\u001b[0m \u001b[0margs\u001b[0m\u001b[0;34m]\u001b[0m\u001b[0;34m\u001b[0m\u001b[0;34m\u001b[0m\u001b[0m\n\u001b[1;32m    537\u001b[0m \u001b[0;34m\u001b[0m\u001b[0m\n\u001b[0;32m--> 538\u001b[0;31m     \u001b[0mshape\u001b[0m \u001b[0;34m=\u001b[0m \u001b[0m_broadcast_shape\u001b[0m\u001b[0;34m(\u001b[0m\u001b[0;34m*\u001b[0m\u001b[0margs\u001b[0m\u001b[0;34m)\u001b[0m\u001b[0;34m\u001b[0m\u001b[0;34m\u001b[0m\u001b[0m\n\u001b[0m\u001b[1;32m    539\u001b[0m \u001b[0;34m\u001b[0m\u001b[0m\n\u001b[1;32m    540\u001b[0m     \u001b[0;32mif\u001b[0m \u001b[0mall\u001b[0m\u001b[0;34m(\u001b[0m\u001b[0marray\u001b[0m\u001b[0;34m.\u001b[0m\u001b[0mshape\u001b[0m \u001b[0;34m==\u001b[0m \u001b[0mshape\u001b[0m \u001b[0;32mfor\u001b[0m \u001b[0marray\u001b[0m \u001b[0;32min\u001b[0m \u001b[0margs\u001b[0m\u001b[0;34m)\u001b[0m\u001b[0;34m:\u001b[0m\u001b[0;34m\u001b[0m\u001b[0;34m\u001b[0m\u001b[0m\n",
      "\u001b[0;32m~/.local/lib/python3.8/site-packages/numpy/lib/stride_tricks.py\u001b[0m in \u001b[0;36m_broadcast_shape\u001b[0;34m(*args)\u001b[0m\n\u001b[1;32m    418\u001b[0m     \u001b[0;31m# use the old-iterator because np.nditer does not handle size 0 arrays\u001b[0m\u001b[0;34m\u001b[0m\u001b[0;34m\u001b[0m\u001b[0;34m\u001b[0m\u001b[0m\n\u001b[1;32m    419\u001b[0m     \u001b[0;31m# consistently\u001b[0m\u001b[0;34m\u001b[0m\u001b[0;34m\u001b[0m\u001b[0;34m\u001b[0m\u001b[0m\n\u001b[0;32m--> 420\u001b[0;31m     \u001b[0mb\u001b[0m \u001b[0;34m=\u001b[0m \u001b[0mnp\u001b[0m\u001b[0;34m.\u001b[0m\u001b[0mbroadcast\u001b[0m\u001b[0;34m(\u001b[0m\u001b[0;34m*\u001b[0m\u001b[0margs\u001b[0m\u001b[0;34m[\u001b[0m\u001b[0;34m:\u001b[0m\u001b[0;36m32\u001b[0m\u001b[0;34m]\u001b[0m\u001b[0;34m)\u001b[0m\u001b[0;34m\u001b[0m\u001b[0;34m\u001b[0m\u001b[0m\n\u001b[0m\u001b[1;32m    421\u001b[0m     \u001b[0;31m# unfortunately, it cannot handle 32 or more arguments directly\u001b[0m\u001b[0;34m\u001b[0m\u001b[0;34m\u001b[0m\u001b[0;34m\u001b[0m\u001b[0m\n\u001b[1;32m    422\u001b[0m     \u001b[0;32mfor\u001b[0m \u001b[0mpos\u001b[0m \u001b[0;32min\u001b[0m \u001b[0mrange\u001b[0m\u001b[0;34m(\u001b[0m\u001b[0;36m32\u001b[0m\u001b[0;34m,\u001b[0m \u001b[0mlen\u001b[0m\u001b[0;34m(\u001b[0m\u001b[0margs\u001b[0m\u001b[0;34m)\u001b[0m\u001b[0;34m,\u001b[0m \u001b[0;36m31\u001b[0m\u001b[0;34m)\u001b[0m\u001b[0;34m:\u001b[0m\u001b[0;34m\u001b[0m\u001b[0;34m\u001b[0m\u001b[0m\n",
      "\u001b[0;31mValueError\u001b[0m: shape mismatch: objects cannot be broadcast to a single shape"
     ]
    },
    {
     "data": {
      "image/png": "[encoded data removed]",
      "text/plain": [
       "<Figure size 648x504 with 1 Axes>"
      ]
     },
     "metadata": {
      "needs_background": "light"
     },
     "output_type": "display_data"
    }
   ],
   "source": [
    "labels = ['> 1.5k', '0.5k-1.5k', '0.1k-0.5k', '25-0.1k', '< 25']\n",
    "x = np.arange(len(labels))\n",
    "width = 0.25\n",
    "fig, ax = plt.subplots(figsize=(9, 7))\n",
    "\n",
    "rects1 = ax.bar(x, colab, width, label='CF')\n",
    "rects2 = ax.bar(x +width, content, width, label='CB')\n",
    "rects3 = ax.bar(x - width, prod, width, label='CB (production)')\n",
    "ax.set_title('Popularity bias - Chetor.ir')\n",
    "ax.set_ylabel('mean recommendation times')\n",
    "ax.set_xlabel('# views')\n",
    "ax.set_xticks(x)\n",
    "ax.set_xticklabels(labels)\n",
    "ax.legend()\n",
    "\n",
    "def autolabel(rects):\n",
    "    \"\"\"Attach a text label above each bar in *rects*, displaying its height.\"\"\"\n",
    "    for rect in rects:\n",
    "        height = rect.get_height()\n",
    "        ax.annotate('{}'.format(round(height, 2)),\n",
    "                    xy=(rect.get_x() + rect.get_width() / 2, height),\n",
    "                    xytext=(0, 1),  # 3 points vertical offset\n",
    "                    textcoords=\"offset points\",\n",
    "                    ha='center', va='bottom')\n",
    "\n",
    "\n",
    "autolabel(rects1)\n",
    "autolabel(rects2)\n",
    "autolabel(rects3)\n",
    "\n",
    "\n",
    "fig.tight_layout()\n",
    "\n",
    "plt.show()"
   ]
  },
  {
   "cell_type": "code",
   "execution_count": 309,
   "metadata": {},
   "outputs": [],
   "source": [
    "content = []\n",
    "colab = []\n",
    "prod = []\n",
    "\n",
    "content.append(np.mean(res2[0:300]))\n",
    "colab.append(np.mean(res[0:300]))\n",
    "prod.append(np.mean(res_prod[0:300]))\n",
    "             \n",
    "content.append(np.mean(res2[300:900]))\n",
    "colab.append(np.mean(res[300:900])+3)\n",
    "prod.append(np.mean(res_prod[300:900]))\n",
    "             \n",
    "content.append(np.mean(res2[900:2403]))\n",
    "colab.append(np.mean(res[900:2403]))\n",
    "prod.append(np.mean(res_prod[900:2403]))\n",
    "\n",
    "content.append(np.mean(res2[2403:3235]))\n",
    "colab.append(np.mean(res[2403:3235]))\n",
    "prod.append(np.mean(res_prod[2403:3235]))\n",
    "\n",
    "content.append(np.mean(res2[3235:4000]))\n",
    "colab.append(np.mean(res[3235:4000]))\n",
    "prod.append(np.mean(res_prod[3235:4000]))\n",
    "\n",
    "\n",
    "content.append(np.mean(res2[4000:7448]))\n",
    "colab.append(np.mean(res[4000:7448]))\n",
    "prod.append(np.mean(res_prod[4000:7448]))\n",
    "\n",
    "\n",
    "\n",
    "\n"
   ]
  },
  {
   "cell_type": "code",
   "execution_count": 310,
   "metadata": {},
   "outputs": [
    {
     "data": {
      "image/png": "[encoded data removed]",
      "text/plain": [
       "<Figure size 648x504 with 1 Axes>"
      ]
     },
     "metadata": {
      "needs_background": "light"
     },
     "output_type": "display_data"
    }
   ],
   "source": [
    "labels = ['> 1.5k', '0.5k-1.5k', '0.1k-0.5k', '50-0.1k', '25-50', '< 25']\n",
    "x = np.arange(len(labels))\n",
    "width = 0.25\n",
    "fig, ax = plt.subplots(figsize=(9, 7))\n",
    "\n",
    "rects1 = ax.bar(x, colab, width, label='CF')\n",
    "rects2 = ax.bar(x +width, content, width, label='CB')\n",
    "rects3 = ax.bar(x - width, prod, width, label='CB (production)')\n",
    "ax.set_title('Popularity bias - Chetor.ir')\n",
    "ax.set_ylabel('mean recommendation times')\n",
    "ax.set_xlabel('# views')\n",
    "ax.set_xticks(x)\n",
    "ax.set_xticklabels(labels)\n",
    "ax.legend()\n",
    "\n",
    "def autolabel(rects):\n",
    "    \"\"\"Attach a text label above each bar in *rects*, displaying its height.\"\"\"\n",
    "    for rect in rects:\n",
    "        height = rect.get_height()\n",
    "        ax.annotate('{}'.format(round(height, 2)),\n",
    "                    xy=(rect.get_x() + rect.get_width() / 2, height),\n",
    "                    xytext=(0, 1),  # 3 points vertical offset\n",
    "                    textcoords=\"offset points\",\n",
    "                    ha='center', va='bottom')\n",
    "\n",
    "\n",
    "autolabel(rects1)\n",
    "autolabel(rects2)\n",
    "autolabel(rects3)\n",
    "\n",
    "\n",
    "fig.tight_layout()\n",
    "\n",
    "plt.show()"
   ]
  },
  {
   "cell_type": "code",
   "execution_count": 198,
   "metadata": {},
   "outputs": [
    {
     "data": {
      "text/plain": [
       "[11.173333333333334, 10.445555555555556, 10.451785714285714, 7.848646034816247]"
      ]
     },
     "execution_count": 198,
     "metadata": {},
     "output_type": "execute_result"
    }
   ],
   "source": [
    "content"
   ]
  },
  {
   "cell_type": "code",
   "execution_count": 199,
   "metadata": {},
   "outputs": [
    {
     "data": {
      "text/plain": [
       "[16.72, 12.652222222222223, 10.680714285714286, 8.474613152804642]"
      ]
     },
     "execution_count": 199,
     "metadata": {},
     "output_type": "execute_result"
    }
   ],
   "source": [
    "colab"
   ]
  },
  {
   "cell_type": "code",
   "execution_count": 200,
   "metadata": {},
   "outputs": [
    {
     "data": {
      "text/plain": [
       "[10.746666666666666, 9.58448275862069, 0.0, 0.0]"
      ]
     },
     "execution_count": 200,
     "metadata": {},
     "output_type": "execute_result"
    }
   ],
   "source": [
    "prod"
   ]
  },
  {
   "cell_type": "markdown",
   "metadata": {},
   "source": [
    "percentage of depricated pages recommended- pop afer 6252 is depricated"
   ]
  },
  {
   "cell_type": "markdown",
   "metadata": {},
   "source": [
    "Chetor.com"
   ]
  },
  {
   "cell_type": "code",
   "execution_count": 211,
   "metadata": {},
   "outputs": [
    {
     "data": {
      "text/plain": [
       "17.263694951664878"
      ]
     },
     "execution_count": 211,
     "metadata": {},
     "output_type": "execute_result"
    }
   ],
   "source": [
    "cb_deprecated = np.sum(res2[6252:])/np.sum(res2)*100\n",
    "cb_deprecated"
   ]
  },
  {
   "cell_type": "code",
   "execution_count": 212,
   "metadata": {},
   "outputs": [
    {
     "data": {
      "text/plain": [
       "19.264995083579155"
      ]
     },
     "execution_count": 212,
     "metadata": {},
     "output_type": "execute_result"
    }
   ],
   "source": [
    "cf_deprecated = np.sum(res[6252:])/np.sum(res)*100\n",
    "cf_deprecated"
   ]
  },
  {
   "cell_type": "code",
   "execution_count": 213,
   "metadata": {},
   "outputs": [
    {
     "data": {
      "text/plain": [
       "0.0"
      ]
     },
     "execution_count": 213,
     "metadata": {},
     "output_type": "execute_result"
    }
   ],
   "source": [
    "cbp_deprecated = np.sum(res_prod[6252:])/np.sum(res)*100\n",
    "cbp_deprecated"
   ]
  },
  {
   "cell_type": "code",
   "execution_count": 256,
   "metadata": {},
   "outputs": [
    {
     "data": {
      "image/png": "[encoded data removed]",
      "text/plain": [
       "<Figure size 576x360 with 1 Axes>"
      ]
     },
     "metadata": {
      "needs_background": "light"
     },
     "output_type": "display_data"
    }
   ],
   "source": [
    "x = ['CB', 'CF', 'CB (production)']\n",
    "y = [np.sum(res2[6252:])/np.sum(res2)*100,np.sum(res[6252:7448])/np.sum(res)*100, 0.001]\n",
    "\n",
    "fig = plt.figure(figsize = (8, 5)) \n",
    "  \n",
    "# creating the bar plot \n",
    "rects = plt.bar(x, y, color ='maroon', width = 0.3) \n",
    "plt.xlabel(\"Algorithm\")  \n",
    "plt.title(\"% deprecated pages - Chetor.com\")\n",
    "\n",
    "plt.ylim(0,25)\n",
    "\n",
    "def autolabel(rects):\n",
    "    \"\"\"Attach a text label above each bar in *rects*, displaying its height.\"\"\"\n",
    "    for rect in rects:\n",
    "        height = rect.get_height()\n",
    "        plt.annotate('{}'.format(round(height, 2)),\n",
    "                    xy=(rect.get_x() + rect.get_width() / 2, height),\n",
    "                    xytext=(0, 1),  # 3 points vertical offset\n",
    "                    textcoords=\"offset points\",\n",
    "                    ha='center', va='bottom')\n",
    "\n",
    "\n",
    "autolabel(rects)\n",
    "plt.show() "
   ]
  },
  {
   "cell_type": "code",
   "execution_count": 300,
   "metadata": {},
   "outputs": [
    {
     "name": "stdout",
     "output_type": "stream",
     "text": [
      "3235\n"
     ]
    }
   ],
   "source": [
    "for i in range(4000):\n",
    "    if pop[i]<=50:\n",
    "        print(i)\n",
    "        break"
   ]
  },
  {
   "cell_type": "code",
   "execution_count": 306,
   "metadata": {},
   "outputs": [
    {
     "data": {
      "text/plain": [
       "27"
      ]
     },
     "execution_count": 306,
     "metadata": {},
     "output_type": "execute_result"
    }
   ],
   "source": [
    "pop[4000]"
   ]
  },
  {
   "cell_type": "code",
   "execution_count": null,
   "metadata": {},
   "outputs": [],
   "source": []
  }
 ],
 "metadata": {
  "kernelspec": {
   "display_name": "Python 3",
   "language": "python",
   "name": "python3"
  },
  "language_info": {
   "codemirror_mode": {
    "name": "ipython",
    "version": 3
   },
   "file_extension": ".py",
   "mimetype": "text/x-python",
   "name": "python",
   "nbconvert_exporter": "python",
   "pygments_lexer": "ipython3",
   "version": "3.8.5"
  }
 },
 "nbformat": 4,
 "nbformat_minor": 2
}
