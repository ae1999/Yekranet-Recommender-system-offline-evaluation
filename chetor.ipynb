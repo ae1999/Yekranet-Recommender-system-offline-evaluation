{
 "cells": [
  {
   "cell_type": "code",
   "execution_count": 1,
   "metadata": {},
   "outputs": [],
   "source": [
    "import pandas as pd\n",
    "import numpy as np\n",
    "import matplotlib.pyplot as plt\n",
    "from matplotlib import colors\n",
    "from matplotlib.ticker import PercentFormatter\n",
    "from tqdm import tqdm\n",
    "\n",
    "import timeit\n",
    "import time\n",
    "import math\n",
    "\n",
    "# ./indexer\n",
    "from indexer import AppendIndexer\n",
    "import ALS\n",
    "\n",
    "# Annoy\n",
    "from annoy import AnnoyIndex\n",
    "\n",
    "#SKLearn \n",
    "from sklearn.neighbors import NearestNeighbors\n",
    "from sklearn.metrics import average_precision_score\n",
    "from sklearn.metrics import pairwise_distances\n",
    "\n",
    "# scipy\n",
    "from scipy.spatial import distance\n",
    "from scipy.sparse import lil_matrix"
   ]
  },
  {
   "cell_type": "code",
   "execution_count": 2,
   "metadata": {},
   "outputs": [],
   "source": [
    "def calc_acc(annoy_indices, knn_indices, k):\n",
    "    aa = []\n",
    "    for i in range(len(annoy_indices)):\n",
    "        b = []\n",
    "        for j in annoy_indices[i][1:]:\n",
    "            if j in knn_indices[i][:k]:\n",
    "                b.append(1)\n",
    "            else:\n",
    "                b.append(0)\n",
    "        aa.append(b)\n",
    "    res2 = []\n",
    "    for a in aa:\n",
    "        acc2 = 0\n",
    "        for i in range(len(a)):\n",
    "            acc2 += a[i]\n",
    "        if not len(a):\n",
    "            res2.append(0)\n",
    "        else:\n",
    "            res2.append(acc2/len(a))\n",
    "    return np.array(res2).mean()\n",
    "def calc_nDCG(annoy_indices, knn_indices, k, discount = 3):\n",
    "    aa = []\n",
    "    for i in range(len(annoy_indices)):\n",
    "        b = []\n",
    "        for j in annoy_indices[i][1:]:\n",
    "            if j in knn_indices[i][:k]:\n",
    "                b.append(1)\n",
    "            else:\n",
    "                b.append(0)\n",
    "        aa.append(b)\n",
    "    res = []\n",
    "    for a in aa:\n",
    "        acc = 0\n",
    "        for i in range(len(a)):\n",
    "            acc += a[i]/math.log(i+7, 7)\n",
    "        if not len(a):\n",
    "            res.append(0)\n",
    "        else:\n",
    "            res.append(acc/len(a))\n",
    "    return np.array(res).mean()\n"
   ]
  },
  {
   "cell_type": "markdown",
   "metadata": {},
   "source": [
    "## loading data"
   ]
  },
  {
   "cell_type": "code",
   "execution_count": 3,
   "metadata": {},
   "outputs": [
    {
     "data": {
      "text/html": [
       "<div>\n",
       "<style scoped>\n",
       "    .dataframe tbody tr th:only-of-type {\n",
       "        vertical-align: middle;\n",
       "    }\n",
       "\n",
       "    .dataframe tbody tr th {\n",
       "        vertical-align: top;\n",
       "    }\n",
       "\n",
       "    .dataframe thead th {\n",
       "        text-align: right;\n",
       "    }\n",
       "</style>\n",
       "<table border=\"1\" class=\"dataframe\">\n",
       "  <thead>\n",
       "    <tr style=\"text-align: right;\">\n",
       "      <th></th>\n",
       "      <th>id</th>\n",
       "      <th>created</th>\n",
       "      <th>content_vector</th>\n",
       "      <th>title</th>\n",
       "      <th>cleaned_url</th>\n",
       "      <th>website_id</th>\n",
       "      <th>included</th>\n",
       "      <th>is_amp</th>\n",
       "      <th>has_image_meta</th>\n",
       "      <th>has_title_meta</th>\n",
       "      <th>page_id</th>\n",
       "      <th>subdomain_id</th>\n",
       "      <th>title_vector</th>\n",
       "      <th>image_id</th>\n",
       "      <th>cats</th>\n",
       "    </tr>\n",
       "  </thead>\n",
       "  <tbody>\n",
       "    <tr>\n",
       "      <th>0</th>\n",
       "      <td>2177439</td>\n",
       "      <td>2020-08-09 04:51:12.676435+04:30</td>\n",
       "      <td>{0.52510529756546,-0.51316374540329,-0.3844181...</td>\n",
       "      <td>وردپرس › خطا</td>\n",
       "      <td>chetor.com/</td>\n",
       "      <td>1</td>\n",
       "      <td>f</td>\n",
       "      <td>f</td>\n",
       "      <td>f</td>\n",
       "      <td>f</td>\n",
       "      <td>148948</td>\n",
       "      <td>336</td>\n",
       "      <td>{-0.90155690908432,-1.60752034187317,0.1689879...</td>\n",
       "      <td>1015133.0</td>\n",
       "      <td>{}</td>\n",
       "    </tr>\n",
       "    <tr>\n",
       "      <th>1</th>\n",
       "      <td>973115</td>\n",
       "      <td>2020-08-09 03:50:47.939727+04:30</td>\n",
       "      <td>{-0.111537165939808,0.314831465482712,-0.60968...</td>\n",
       "      <td>تبلیغات در وب سایت چطور | چطور</td>\n",
       "      <td>chetor.com/%D8%AA%D8%A8%D9%84%DB%8C%D8%BA%D8%A...</td>\n",
       "      <td>1</td>\n",
       "      <td>t</td>\n",
       "      <td>f</td>\n",
       "      <td>f</td>\n",
       "      <td>t</td>\n",
       "      <td>27016495</td>\n",
       "      <td>336</td>\n",
       "      <td>{-1.89593696594238,0.659652948379517,-0.852037...</td>\n",
       "      <td>NaN</td>\n",
       "      <td>{}</td>\n",
       "    </tr>\n",
       "    <tr>\n",
       "      <th>2</th>\n",
       "      <td>975692</td>\n",
       "      <td>2020-08-09 03:50:49.22613+04:30</td>\n",
       "      <td>{0.628654301166534,-0.548453748226166,-0.25651...</td>\n",
       "      <td>همکاری با ما | چطور</td>\n",
       "      <td>chetor.com/%D9%87%D9%85%DA%A9%D8%A7%D8%B1%DB%8...</td>\n",
       "      <td>1</td>\n",
       "      <td>t</td>\n",
       "      <td>f</td>\n",
       "      <td>f</td>\n",
       "      <td>t</td>\n",
       "      <td>27004594</td>\n",
       "      <td>336</td>\n",
       "      <td>{-2.04737234115601,2.28955912590027,-2.1406197...</td>\n",
       "      <td>333341.0</td>\n",
       "      <td>{}</td>\n",
       "    </tr>\n",
       "    <tr>\n",
       "      <th>3</th>\n",
       "      <td>2144818</td>\n",
       "      <td>2020-08-09 04:49:41.361098+04:30</td>\n",
       "      <td>{0.350972026586533,-0.0532753616571426,-0.2103...</td>\n",
       "      <td>چرا باید توسعه فردی را جدی بگیرید؟- چطور</td>\n",
       "      <td>chetor.com/100-%DA%86%D8%B1%D8%A7-%D8%A8%D8%A7...</td>\n",
       "      <td>1</td>\n",
       "      <td>t</td>\n",
       "      <td>f</td>\n",
       "      <td>f</td>\n",
       "      <td>f</td>\n",
       "      <td>5274753</td>\n",
       "      <td>336</td>\n",
       "      <td>{2.27225732803345,0.7027268409729,0.4857064485...</td>\n",
       "      <td>599277.0</td>\n",
       "      <td>{}</td>\n",
       "    </tr>\n",
       "    <tr>\n",
       "      <th>4</th>\n",
       "      <td>2157999</td>\n",
       "      <td>2020-08-09 04:50:09.423651+04:30</td>\n",
       "      <td>{1.79109728336334,-1.05194425582886,-1.3205879...</td>\n",
       "      <td>دلایل سرد بودن دستان چیست؟ | چطور</td>\n",
       "      <td>chetor.com/100026-%D8%B3%D8%B1%D8%AF-%D8%A8%D9...</td>\n",
       "      <td>1</td>\n",
       "      <td>t</td>\n",
       "      <td>f</td>\n",
       "      <td>f</td>\n",
       "      <td>f</td>\n",
       "      <td>2416997</td>\n",
       "      <td>336</td>\n",
       "      <td>{2.48906230926514,-1.19906878471375,-1.4995402...</td>\n",
       "      <td>1485027.0</td>\n",
       "      <td>{}</td>\n",
       "    </tr>\n",
       "    <tr>\n",
       "      <th>5</th>\n",
       "      <td>4465070</td>\n",
       "      <td>2020-10-06 11:10:31.622853+03:30</td>\n",
       "      <td>{0.683604598045349,-0.237597540020943,0.257590...</td>\n",
       "      <td>افسوس های من | چطور</td>\n",
       "      <td>chetor.com/100041-%D8%A7%D9%81%D8%B3%D9%88%D8%...</td>\n",
       "      <td>1</td>\n",
       "      <td>t</td>\n",
       "      <td>f</td>\n",
       "      <td>t</td>\n",
       "      <td>t</td>\n",
       "      <td>38243000</td>\n",
       "      <td>336</td>\n",
       "      <td>NaN</td>\n",
       "      <td>1012527.0</td>\n",
       "      <td>{}</td>\n",
       "    </tr>\n",
       "    <tr>\n",
       "      <th>6</th>\n",
       "      <td>2142257</td>\n",
       "      <td>2020-08-09 04:49:40.250501+04:30</td>\n",
       "      <td>{0.63472980260849,0.145868331193924,0.12041924...</td>\n",
       "      <td>خانه پدربزرگ | چطور</td>\n",
       "      <td>chetor.com/100044-%D8%AE%D8%A7%D9%86%D9%87-%D9...</td>\n",
       "      <td>1</td>\n",
       "      <td>t</td>\n",
       "      <td>f</td>\n",
       "      <td>f</td>\n",
       "      <td>f</td>\n",
       "      <td>6160851</td>\n",
       "      <td>336</td>\n",
       "      <td>{1.89609825611115,1.75975489616394,2.689968109...</td>\n",
       "      <td>1012527.0</td>\n",
       "      <td>{}</td>\n",
       "    </tr>\n",
       "    <tr>\n",
       "      <th>7</th>\n",
       "      <td>2123739</td>\n",
       "      <td>2020-08-09 04:48:50.486508+04:30</td>\n",
       "      <td>{0.63071072101593,-0.431413412094116,-0.302038...</td>\n",
       "      <td>درددل های زیادی در دل اطرافیانم مانده | چطور</td>\n",
       "      <td>chetor.com/100049-%D8%AF%D8%B1%D8%AF%D8%AF%D9%...</td>\n",
       "      <td>1</td>\n",
       "      <td>t</td>\n",
       "      <td>f</td>\n",
       "      <td>f</td>\n",
       "      <td>f</td>\n",
       "      <td>11269955</td>\n",
       "      <td>336</td>\n",
       "      <td>{1.16336917877197,0.0402661710977554,0.3318648...</td>\n",
       "      <td>NaN</td>\n",
       "      <td>{}</td>\n",
       "    </tr>\n",
       "    <tr>\n",
       "      <th>8</th>\n",
       "      <td>2161889</td>\n",
       "      <td>2020-08-09 04:50:45.622368+04:30</td>\n",
       "      <td>{2.3618381023407,-0.220653653144836,-1.4399104...</td>\n",
       "      <td>درمان سردرد و تسکین فوری آن با ۱۴ روش موثر و ی...</td>\n",
       "      <td>chetor.com/100085-%D8%AF%D8%B1%D9%85%D8%A7%D9%...</td>\n",
       "      <td>1</td>\n",
       "      <td>t</td>\n",
       "      <td>f</td>\n",
       "      <td>f</td>\n",
       "      <td>f</td>\n",
       "      <td>2262178</td>\n",
       "      <td>336</td>\n",
       "      <td>{2.5592200756073,0.69496887922287,-2.160656929...</td>\n",
       "      <td>1013280.0</td>\n",
       "      <td>{}</td>\n",
       "    </tr>\n",
       "    <tr>\n",
       "      <th>9</th>\n",
       "      <td>2161493</td>\n",
       "      <td>2020-08-09 04:50:45.464757+04:30</td>\n",
       "      <td>{1.23862218856812,-0.99531877040863,-0.5665395...</td>\n",
       "      <td>آیا موز چاق کننده است؟ | چطور</td>\n",
       "      <td>chetor.com/100187-%D8%A2%DB%8C%D8%A7-%D9%85%D9...</td>\n",
       "      <td>1</td>\n",
       "      <td>t</td>\n",
       "      <td>f</td>\n",
       "      <td>f</td>\n",
       "      <td>f</td>\n",
       "      <td>2273389</td>\n",
       "      <td>336</td>\n",
       "      <td>{1.81400036811829,-1.17559599876404,-1.4106029...</td>\n",
       "      <td>1013170.0</td>\n",
       "      <td>{}</td>\n",
       "    </tr>\n",
       "    <tr>\n",
       "      <th>10</th>\n",
       "      <td>2161740</td>\n",
       "      <td>2020-08-09 04:50:45.562531+04:30</td>\n",
       "      <td>{1.11568641662598,-1.10983645915985,-1.5895578...</td>\n",
       "      <td>خواص تخمه آفتابگردان و عوارض مصرف بیش‌ازحد آن ...</td>\n",
       "      <td>chetor.com/100203-%D8%AE%D9%88%D8%A7%D8%B5-%D8...</td>\n",
       "      <td>1</td>\n",
       "      <td>t</td>\n",
       "      <td>f</td>\n",
       "      <td>f</td>\n",
       "      <td>f</td>\n",
       "      <td>2266860</td>\n",
       "      <td>336</td>\n",
       "      <td>{1.75426554679871,-1.150594830513,-2.632427930...</td>\n",
       "      <td>1009754.0</td>\n",
       "      <td>{}</td>\n",
       "    </tr>\n",
       "    <tr>\n",
       "      <th>11</th>\n",
       "      <td>209723</td>\n",
       "      <td>2020-08-09 03:13:35.364054+04:30</td>\n",
       "      <td>{1.15419852733612,-1.0816855430603,-1.59973978...</td>\n",
       "      <td>خواص تخمه آفتابگردان و عوارض مصرف بیش‌ازحد آن ...</td>\n",
       "      <td>chetor.com/100203-%D8%AE%D9%88%D8%A7%D8%B5-%D8...</td>\n",
       "      <td>1</td>\n",
       "      <td>t</td>\n",
       "      <td>f</td>\n",
       "      <td>t</td>\n",
       "      <td>t</td>\n",
       "      <td>34034388</td>\n",
       "      <td>336</td>\n",
       "      <td>{1.75426554679871,-1.150594830513,-2.632427930...</td>\n",
       "      <td>1009754.0</td>\n",
       "      <td>{}</td>\n",
       "    </tr>\n",
       "    <tr>\n",
       "      <th>12</th>\n",
       "      <td>2154973</td>\n",
       "      <td>2020-08-09 04:50:07.881351+04:30</td>\n",
       "      <td>{1.1254985332489,-0.500275850296021,-0.3856477...</td>\n",
       "      <td>کودک آزاری؛ از نشانه‌ها و دلایل تا درمان | چطور</td>\n",
       "      <td>chetor.com/100230-%DA%A9%D9%88%D8%AF%DA%A9-%D8...</td>\n",
       "      <td>1</td>\n",
       "      <td>t</td>\n",
       "      <td>f</td>\n",
       "      <td>f</td>\n",
       "      <td>f</td>\n",
       "      <td>2607932</td>\n",
       "      <td>336</td>\n",
       "      <td>{1.39960169792175,-1.11349546909332,0.11656024...</td>\n",
       "      <td>278392.0</td>\n",
       "      <td>{}</td>\n",
       "    </tr>\n",
       "    <tr>\n",
       "      <th>13</th>\n",
       "      <td>2147914</td>\n",
       "      <td>2020-08-09 04:49:42.67105+04:30</td>\n",
       "      <td>{0.859118700027466,-0.385798960924149,-0.24502...</td>\n",
       "      <td>۷ نکته برای اینکه جلسه‌های کاری‌تان را بهتر ره...</td>\n",
       "      <td>chetor.com/10025-%DB%B7-%D9%86%DA%A9%D8%AA%D9%...</td>\n",
       "      <td>1</td>\n",
       "      <td>t</td>\n",
       "      <td>f</td>\n",
       "      <td>f</td>\n",
       "      <td>f</td>\n",
       "      <td>4353777</td>\n",
       "      <td>336</td>\n",
       "      <td>{1.06593751907349,-0.447182834148407,-0.808934...</td>\n",
       "      <td>479274.0</td>\n",
       "      <td>{}</td>\n",
       "    </tr>\n",
       "    <tr>\n",
       "      <th>14</th>\n",
       "      <td>2161686</td>\n",
       "      <td>2020-08-09 04:50:45.540813+04:30</td>\n",
       "      <td>{1.72504651546478,-1.30946755409241,-1.6172629...</td>\n",
       "      <td>خواص تخم کدو؛ ۱۱ خاصیتی که این دانه‌های کوچک ب...</td>\n",
       "      <td>chetor.com/100280-%D8%AE%D9%88%D8%A7%D8%B5-%D8...</td>\n",
       "      <td>1</td>\n",
       "      <td>t</td>\n",
       "      <td>f</td>\n",
       "      <td>f</td>\n",
       "      <td>f</td>\n",
       "      <td>2268523</td>\n",
       "      <td>336</td>\n",
       "      <td>{2.35908484458923,-1.02347469329834,-1.9489647...</td>\n",
       "      <td>1010022.0</td>\n",
       "      <td>{}</td>\n",
       "    </tr>\n",
       "    <tr>\n",
       "      <th>15</th>\n",
       "      <td>209839</td>\n",
       "      <td>2020-08-09 03:13:35.411203+04:30</td>\n",
       "      <td>{1.59037482738495,-0.952325582504272,-1.422002...</td>\n",
       "      <td>خواص تخم کدو؛ ۱۱ خاصیتی که این دانه‌های کوچک ب...</td>\n",
       "      <td>chetor.com/100280-%D8%AE%D9%88%D8%A7%D8%B5-%D8...</td>\n",
       "      <td>1</td>\n",
       "      <td>t</td>\n",
       "      <td>f</td>\n",
       "      <td>t</td>\n",
       "      <td>t</td>\n",
       "      <td>34033497</td>\n",
       "      <td>336</td>\n",
       "      <td>{2.35908484458923,-1.02347469329834,-1.9489647...</td>\n",
       "      <td>1010022.0</td>\n",
       "      <td>{}</td>\n",
       "    </tr>\n",
       "    <tr>\n",
       "      <th>16</th>\n",
       "      <td>2161394</td>\n",
       "      <td>2020-08-09 04:50:45.424673+04:30</td>\n",
       "      <td>{1.42417645454407,-0.158022791147232,-2.323652...</td>\n",
       "      <td>ماسک موز برای صورت؛ طرز تهیه ۷ نوع ماسک برای م...</td>\n",
       "      <td>chetor.com/100347-%D9%85%D8%A7%D8%B3%DA%A9-%D9...</td>\n",
       "      <td>1</td>\n",
       "      <td>t</td>\n",
       "      <td>f</td>\n",
       "      <td>f</td>\n",
       "      <td>f</td>\n",
       "      <td>2276924</td>\n",
       "      <td>336</td>\n",
       "      <td>{1.59519040584564,-1.06026041507721,-3.0687334...</td>\n",
       "      <td>466144.0</td>\n",
       "      <td>{}</td>\n",
       "    </tr>\n",
       "    <tr>\n",
       "      <th>17</th>\n",
       "      <td>2161748</td>\n",
       "      <td>2020-08-09 04:50:45.565724+04:30</td>\n",
       "      <td>{1.06198310852051,-0.936697721481323,-0.366708...</td>\n",
       "      <td>تقویت حافظه با ۱۱‍ روش عالی که هر دانش‌آموز و ...</td>\n",
       "      <td>chetor.com/10039-%DB%B1%DB%B1-%D8%B1%D9%88%D8%...</td>\n",
       "      <td>1</td>\n",
       "      <td>t</td>\n",
       "      <td>f</td>\n",
       "      <td>f</td>\n",
       "      <td>f</td>\n",
       "      <td>2266665</td>\n",
       "      <td>336</td>\n",
       "      <td>{1.10045444965363,-1.69650733470917,0.03859800...</td>\n",
       "      <td>1010024.0</td>\n",
       "      <td>{}</td>\n",
       "    </tr>\n",
       "    <tr>\n",
       "      <th>18</th>\n",
       "      <td>209853</td>\n",
       "      <td>2020-08-09 03:13:35.41678+04:30</td>\n",
       "      <td>{1.29318749904633,-1.06664729118347,-0.6308819...</td>\n",
       "      <td>تقویت حافظه با ۱۱‍ روش عالی که هر دانش‌آموز و ...</td>\n",
       "      <td>chetor.com/10039-%DB%B1%DB%B1-%D8%B1%D9%88%D8%...</td>\n",
       "      <td>1</td>\n",
       "      <td>t</td>\n",
       "      <td>f</td>\n",
       "      <td>t</td>\n",
       "      <td>t</td>\n",
       "      <td>34033385</td>\n",
       "      <td>336</td>\n",
       "      <td>{1.10045444965363,-1.69650733470917,0.03859800...</td>\n",
       "      <td>1010024.0</td>\n",
       "      <td>{}</td>\n",
       "    </tr>\n",
       "    <tr>\n",
       "      <th>19</th>\n",
       "      <td>2161864</td>\n",
       "      <td>2020-08-09 04:50:45.612435+04:30</td>\n",
       "      <td>{2.20049333572388,0.287450194358826,-1.3928108...</td>\n",
       "      <td>درمان خانگی سردرد شدید و میگرن با ۱۱ راهکار سر...</td>\n",
       "      <td>chetor.com/100422-%D8%AF%D8%B1%D9%85%D8%A7%D9%...</td>\n",
       "      <td>1</td>\n",
       "      <td>t</td>\n",
       "      <td>f</td>\n",
       "      <td>f</td>\n",
       "      <td>f</td>\n",
       "      <td>2262601</td>\n",
       "      <td>336</td>\n",
       "      <td>{2.40740609169006,0.0224263295531273,-1.291270...</td>\n",
       "      <td>734406.0</td>\n",
       "      <td>{}</td>\n",
       "    </tr>\n",
       "  </tbody>\n",
       "</table>\n",
       "</div>"
      ],
      "text/plain": [
       "         id                           created  \\\n",
       "0   2177439  2020-08-09 04:51:12.676435+04:30   \n",
       "1    973115  2020-08-09 03:50:47.939727+04:30   \n",
       "2    975692   2020-08-09 03:50:49.22613+04:30   \n",
       "3   2144818  2020-08-09 04:49:41.361098+04:30   \n",
       "4   2157999  2020-08-09 04:50:09.423651+04:30   \n",
       "5   4465070  2020-10-06 11:10:31.622853+03:30   \n",
       "6   2142257  2020-08-09 04:49:40.250501+04:30   \n",
       "7   2123739  2020-08-09 04:48:50.486508+04:30   \n",
       "8   2161889  2020-08-09 04:50:45.622368+04:30   \n",
       "9   2161493  2020-08-09 04:50:45.464757+04:30   \n",
       "10  2161740  2020-08-09 04:50:45.562531+04:30   \n",
       "11   209723  2020-08-09 03:13:35.364054+04:30   \n",
       "12  2154973  2020-08-09 04:50:07.881351+04:30   \n",
       "13  2147914   2020-08-09 04:49:42.67105+04:30   \n",
       "14  2161686  2020-08-09 04:50:45.540813+04:30   \n",
       "15   209839  2020-08-09 03:13:35.411203+04:30   \n",
       "16  2161394  2020-08-09 04:50:45.424673+04:30   \n",
       "17  2161748  2020-08-09 04:50:45.565724+04:30   \n",
       "18   209853   2020-08-09 03:13:35.41678+04:30   \n",
       "19  2161864  2020-08-09 04:50:45.612435+04:30   \n",
       "\n",
       "                                       content_vector  \\\n",
       "0   {0.52510529756546,-0.51316374540329,-0.3844181...   \n",
       "1   {-0.111537165939808,0.314831465482712,-0.60968...   \n",
       "2   {0.628654301166534,-0.548453748226166,-0.25651...   \n",
       "3   {0.350972026586533,-0.0532753616571426,-0.2103...   \n",
       "4   {1.79109728336334,-1.05194425582886,-1.3205879...   \n",
       "5   {0.683604598045349,-0.237597540020943,0.257590...   \n",
       "6   {0.63472980260849,0.145868331193924,0.12041924...   \n",
       "7   {0.63071072101593,-0.431413412094116,-0.302038...   \n",
       "8   {2.3618381023407,-0.220653653144836,-1.4399104...   \n",
       "9   {1.23862218856812,-0.99531877040863,-0.5665395...   \n",
       "10  {1.11568641662598,-1.10983645915985,-1.5895578...   \n",
       "11  {1.15419852733612,-1.0816855430603,-1.59973978...   \n",
       "12  {1.1254985332489,-0.500275850296021,-0.3856477...   \n",
       "13  {0.859118700027466,-0.385798960924149,-0.24502...   \n",
       "14  {1.72504651546478,-1.30946755409241,-1.6172629...   \n",
       "15  {1.59037482738495,-0.952325582504272,-1.422002...   \n",
       "16  {1.42417645454407,-0.158022791147232,-2.323652...   \n",
       "17  {1.06198310852051,-0.936697721481323,-0.366708...   \n",
       "18  {1.29318749904633,-1.06664729118347,-0.6308819...   \n",
       "19  {2.20049333572388,0.287450194358826,-1.3928108...   \n",
       "\n",
       "                                                title  \\\n",
       "0                                        وردپرس › خطا   \n",
       "1                      تبلیغات در وب سایت چطور | چطور   \n",
       "2                                 همکاری با ما | چطور   \n",
       "3            چرا باید توسعه فردی را جدی بگیرید؟- چطور   \n",
       "4                   دلایل سرد بودن دستان چیست؟ | چطور   \n",
       "5                                 افسوس های من | چطور   \n",
       "6                                 خانه پدربزرگ | چطور   \n",
       "7        درددل های زیادی در دل اطرافیانم مانده | چطور   \n",
       "8   درمان سردرد و تسکین فوری آن با ۱۴ روش موثر و ی...   \n",
       "9                       آیا موز چاق کننده است؟ | چطور   \n",
       "10  خواص تخمه آفتابگردان و عوارض مصرف بیش‌ازحد آن ...   \n",
       "11  خواص تخمه آفتابگردان و عوارض مصرف بیش‌ازحد آن ...   \n",
       "12    کودک آزاری؛ از نشانه‌ها و دلایل تا درمان | چطور   \n",
       "13  ۷ نکته برای اینکه جلسه‌های کاری‌تان را بهتر ره...   \n",
       "14  خواص تخم کدو؛ ۱۱ خاصیتی که این دانه‌های کوچک ب...   \n",
       "15  خواص تخم کدو؛ ۱۱ خاصیتی که این دانه‌های کوچک ب...   \n",
       "16  ماسک موز برای صورت؛ طرز تهیه ۷ نوع ماسک برای م...   \n",
       "17  تقویت حافظه با ۱۱‍ روش عالی که هر دانش‌آموز و ...   \n",
       "18  تقویت حافظه با ۱۱‍ روش عالی که هر دانش‌آموز و ...   \n",
       "19  درمان خانگی سردرد شدید و میگرن با ۱۱ راهکار سر...   \n",
       "\n",
       "                                          cleaned_url  website_id included  \\\n",
       "0                                         chetor.com/           1        f   \n",
       "1   chetor.com/%D8%AA%D8%A8%D9%84%DB%8C%D8%BA%D8%A...           1        t   \n",
       "2   chetor.com/%D9%87%D9%85%DA%A9%D8%A7%D8%B1%DB%8...           1        t   \n",
       "3   chetor.com/100-%DA%86%D8%B1%D8%A7-%D8%A8%D8%A7...           1        t   \n",
       "4   chetor.com/100026-%D8%B3%D8%B1%D8%AF-%D8%A8%D9...           1        t   \n",
       "5   chetor.com/100041-%D8%A7%D9%81%D8%B3%D9%88%D8%...           1        t   \n",
       "6   chetor.com/100044-%D8%AE%D8%A7%D9%86%D9%87-%D9...           1        t   \n",
       "7   chetor.com/100049-%D8%AF%D8%B1%D8%AF%D8%AF%D9%...           1        t   \n",
       "8   chetor.com/100085-%D8%AF%D8%B1%D9%85%D8%A7%D9%...           1        t   \n",
       "9   chetor.com/100187-%D8%A2%DB%8C%D8%A7-%D9%85%D9...           1        t   \n",
       "10  chetor.com/100203-%D8%AE%D9%88%D8%A7%D8%B5-%D8...           1        t   \n",
       "11  chetor.com/100203-%D8%AE%D9%88%D8%A7%D8%B5-%D8...           1        t   \n",
       "12  chetor.com/100230-%DA%A9%D9%88%D8%AF%DA%A9-%D8...           1        t   \n",
       "13  chetor.com/10025-%DB%B7-%D9%86%DA%A9%D8%AA%D9%...           1        t   \n",
       "14  chetor.com/100280-%D8%AE%D9%88%D8%A7%D8%B5-%D8...           1        t   \n",
       "15  chetor.com/100280-%D8%AE%D9%88%D8%A7%D8%B5-%D8...           1        t   \n",
       "16  chetor.com/100347-%D9%85%D8%A7%D8%B3%DA%A9-%D9...           1        t   \n",
       "17  chetor.com/10039-%DB%B1%DB%B1-%D8%B1%D9%88%D8%...           1        t   \n",
       "18  chetor.com/10039-%DB%B1%DB%B1-%D8%B1%D9%88%D8%...           1        t   \n",
       "19  chetor.com/100422-%D8%AF%D8%B1%D9%85%D8%A7%D9%...           1        t   \n",
       "\n",
       "   is_amp has_image_meta has_title_meta   page_id  subdomain_id  \\\n",
       "0       f              f              f    148948           336   \n",
       "1       f              f              t  27016495           336   \n",
       "2       f              f              t  27004594           336   \n",
       "3       f              f              f   5274753           336   \n",
       "4       f              f              f   2416997           336   \n",
       "5       f              t              t  38243000           336   \n",
       "6       f              f              f   6160851           336   \n",
       "7       f              f              f  11269955           336   \n",
       "8       f              f              f   2262178           336   \n",
       "9       f              f              f   2273389           336   \n",
       "10      f              f              f   2266860           336   \n",
       "11      f              t              t  34034388           336   \n",
       "12      f              f              f   2607932           336   \n",
       "13      f              f              f   4353777           336   \n",
       "14      f              f              f   2268523           336   \n",
       "15      f              t              t  34033497           336   \n",
       "16      f              f              f   2276924           336   \n",
       "17      f              f              f   2266665           336   \n",
       "18      f              t              t  34033385           336   \n",
       "19      f              f              f   2262601           336   \n",
       "\n",
       "                                         title_vector   image_id cats  \n",
       "0   {-0.90155690908432,-1.60752034187317,0.1689879...  1015133.0   {}  \n",
       "1   {-1.89593696594238,0.659652948379517,-0.852037...        NaN   {}  \n",
       "2   {-2.04737234115601,2.28955912590027,-2.1406197...   333341.0   {}  \n",
       "3   {2.27225732803345,0.7027268409729,0.4857064485...   599277.0   {}  \n",
       "4   {2.48906230926514,-1.19906878471375,-1.4995402...  1485027.0   {}  \n",
       "5                                                 NaN  1012527.0   {}  \n",
       "6   {1.89609825611115,1.75975489616394,2.689968109...  1012527.0   {}  \n",
       "7   {1.16336917877197,0.0402661710977554,0.3318648...        NaN   {}  \n",
       "8   {2.5592200756073,0.69496887922287,-2.160656929...  1013280.0   {}  \n",
       "9   {1.81400036811829,-1.17559599876404,-1.4106029...  1013170.0   {}  \n",
       "10  {1.75426554679871,-1.150594830513,-2.632427930...  1009754.0   {}  \n",
       "11  {1.75426554679871,-1.150594830513,-2.632427930...  1009754.0   {}  \n",
       "12  {1.39960169792175,-1.11349546909332,0.11656024...   278392.0   {}  \n",
       "13  {1.06593751907349,-0.447182834148407,-0.808934...   479274.0   {}  \n",
       "14  {2.35908484458923,-1.02347469329834,-1.9489647...  1010022.0   {}  \n",
       "15  {2.35908484458923,-1.02347469329834,-1.9489647...  1010022.0   {}  \n",
       "16  {1.59519040584564,-1.06026041507721,-3.0687334...   466144.0   {}  \n",
       "17  {1.10045444965363,-1.69650733470917,0.03859800...  1010024.0   {}  \n",
       "18  {1.10045444965363,-1.69650733470917,0.03859800...  1010024.0   {}  \n",
       "19  {2.40740609169006,0.0224263295531273,-1.291270...   734406.0   {}  "
      ]
     },
     "execution_count": 3,
     "metadata": {},
     "output_type": "execute_result"
    }
   ],
   "source": [
    "chetor_content = pd.read_csv('./pages_chetor.csv')\n",
    "chetor_content.head(20)"
   ]
  },
  {
   "cell_type": "code",
   "execution_count": 4,
   "metadata": {},
   "outputs": [
    {
     "name": "stdout",
     "output_type": "stream",
     "text": [
      "(9640, 15)\n"
     ]
    }
   ],
   "source": [
    "print(chetor_content.shape)"
   ]
  },
  {
   "cell_type": "code",
   "execution_count": 5,
   "metadata": {},
   "outputs": [
    {
     "data": {
      "text/plain": [
       "(8723, 15)"
      ]
     },
     "execution_count": 5,
     "metadata": {},
     "output_type": "execute_result"
    }
   ],
   "source": [
    "chetor_content = chetor_content[chetor_content.included == 't']\n",
    "chetor_content.shape"
   ]
  },
  {
   "cell_type": "code",
   "execution_count": 6,
   "metadata": {},
   "outputs": [],
   "source": [
    "class ViewMatrix:\n",
    "    def __init__(self, path):\n",
    "        self.path = path\n",
    "        self.original = True\n",
    "        self.item_indexer = AppendIndexer.load('./chetor.com/view_matrix/item_indexer.indexer')\n",
    "        self.user_indexer = AppendIndexer.load('./chetor.com/view_matrix/user_indexer.indexer')\n",
    "        \n",
    "    def load_matrix(path):\n",
    "        \n",
    "        matrix = ViewMatrix(path)\n",
    "\n",
    "        try:\n",
    "            matrix.view_matrix = ViewMatrix \\\n",
    "                .load_sparse_lil(path)\n",
    "        except:\n",
    "            print('Error: loading', path)\n",
    "\n",
    "        return matrix\n",
    "\n",
    "    def load_sparse_lil(filename):\n",
    "        loader = np.load(filename, allow_pickle=True)\n",
    "        result = lil_matrix(tuple(loader[\"shape\"]), dtype=str(loader[\"dtype\"]))\n",
    "        result.data = loader[\"data\"]\n",
    "        result.rows = loader[\"rows\"]\n",
    "        return result\n",
    "    \n",
    "    def make_dense(self, user_min_view, item_min_view):\n",
    "        self.original = False\n",
    "        while True:\n",
    "            removed_rows_cnt = self.trim_users_with_few_views(user_min_view)\n",
    "            removed_columns_cnt = self.trim_columns_with_few_views(item_min_view)\n",
    "            if not removed_columns_cnt and not removed_rows_cnt:\n",
    "                break\n",
    "\n",
    "    def trim_users_with_few_views(self, user_min_view):\n",
    "        removing_row_indices = list(np.where(self.view_matrix.getnnz(1) < user_min_view)[0])\n",
    "        print('Number of users which should be deleted:', len(removing_row_indices))\n",
    "        self.trim_user_indices(to_remove_indices=removing_row_indices)\n",
    "        return len(removing_row_indices)\n",
    "\n",
    "    def trim_columns_with_few_views(self, column_min_view):\n",
    "        removing_column_indices = list(np.where(self.view_matrix.getnnz(0) < column_min_view)[0])\n",
    "        print('Number products which should be deleted:', len(removing_column_indices))\n",
    "        self.trim_column_indices(to_remove_indices=removing_column_indices)\n",
    "        return len(removing_column_indices)\n",
    "    \n",
    "    def trim_user_indices(self, to_remove_indices):\n",
    "        self.user_indexer.remove_indexes(to_remove_indices)\n",
    "        self.view_matrix = ViewMatrix.delete_row_lil(self.view_matrix, to_remove_indices)\n",
    "    \n",
    "    def trim_column_indices(self, to_remove_indices):\n",
    "        self.item_indexer.remove_indexes(to_remove_indices)\n",
    "        self.view_matrix = ViewMatrix.delete_column_lil(self.view_matrix, to_remove_indices)\n",
    "    \n",
    "    def delete_column_lil(mat: lil_matrix, *i) -> lil_matrix:\n",
    "        mat = mat.transpose()\n",
    "        mat = ViewMatrix.delete_row_lil(mat, *i)\n",
    "        return mat.transpose()\n",
    "    \n",
    "    def delete_row_lil(mat: lil_matrix, *i) -> lil_matrix:\n",
    "        if not isinstance(mat, lil_matrix):\n",
    "            raise ValueError(\"works only for LIL format -- use .tolil() first\")\n",
    "        mat = mat.copy()\n",
    "        mat.rows = np.delete(mat.rows, i)\n",
    "        mat.data = np.delete(mat.data, i)\n",
    "        mat._shape = (mat.rows.shape[0], mat._shape[1])\n",
    "        return mat\n",
    "    def to_csr(self):\n",
    "        train_data = self.view_matrix.astype(np.float64)\n",
    "        train_data = train_data.tocoo()\n",
    "        train_data.data = np.log10(train_data.data) + 1\n",
    "        train_data = train_data.tocsr()\n",
    "        return train_data"
   ]
  },
  {
   "cell_type": "markdown",
   "metadata": {},
   "source": [
    "## colaborative filtering train"
   ]
  },
  {
   "cell_type": "code",
   "execution_count": 7,
   "metadata": {},
   "outputs": [],
   "source": [
    "def CFTrain(path: str, _alpha = 15, factors = 20):\n",
    "    now = time.time()\n",
    "    matrix = ViewMatrix.load_matrix(path)\n",
    "    print('View matrix loaded in', time.time() - now, 'seconds.')\n",
    "\n",
    "    now = time.time()\n",
    "    sparce_matrix = matrix.to_csr()\n",
    "    matrix.make_dense(user_min_view = 2, \n",
    "                      item_min_view = 2)\n",
    "    print('matrix has been made dense in', time.time() - now, 'seconds.')\n",
    "\n",
    "    als_model = ALS.Als(num_factors = factors,\n",
    "                        iterations = 15,\n",
    "                        num_threads = 15,\n",
    "                        alpha = _alpha)\n",
    "\n",
    "    implicit_matrix = matrix.to_csr()\n",
    "\n",
    "    print()\n",
    "    now = time.time()\n",
    "    als_model.fit(implicit_matrix)\n",
    "    alsTime = time.time() - now\n",
    "    print('ALS model is fitted in', time.time() - now, 'seconds.')\n",
    "    \n",
    "    print('Saving Data ...')\n",
    "    matrix.item_indexer.dump('./chetor.com/alisResult/ali_item_indexer_factorized.indexer')\n",
    "    matrix.user_indexer.dump('./chetor.com/alisResult/ali_user_indexer_factorized.indexer')\n",
    "    np.save('./chetor.com/alisResult/ali_items_vectors.npy', als_model.item_vectors)\n",
    "    np.save('./chetor.com/alisResult/ali_users_vectors.npy', als_model.user_vectors)\n",
    "    \n",
    "    return sparce_matrix, implicit_matrix, als_model.item_vectors, als_model.user_vectors, alsTime"
   ]
  },
  {
   "cell_type": "code",
   "execution_count": 13,
   "metadata": {},
   "outputs": [
    {
     "name": "stdout",
     "output_type": "stream",
     "text": [
      "View matrix loaded in 11.137641906738281 seconds.\n",
      "Number of users which should be deleted: 1863687\n",
      "Number products which should be deleted: 1308\n",
      "Number of users which should be deleted: 265\n",
      "Number products which should be deleted: 4\n",
      "Number of users which should be deleted: 1\n",
      "Number products which should be deleted: 1\n",
      "Number of users which should be deleted: 0\n",
      "Number products which should be deleted: 0\n",
      "matrix has been made dense in 25.40851068496704 seconds.\n",
      "\n",
      "ALS model is fitted in 20.37936520576477 seconds.\n",
      "Saving Data ...\n"
     ]
    }
   ],
   "source": [
    "sparce_matrix, implicit_matrix, item_vectors, user_vectors, alsTime = \\\n",
    "CFTrain('./chetor.com/view_matrix/lil_matrix.npz', factors = 20)"
   ]
  },
  {
   "cell_type": "code",
   "execution_count": 9,
   "metadata": {},
   "outputs": [
    {
     "name": "stdout",
     "output_type": "stream",
     "text": [
      "View matrix loaded in 7.548845529556274 seconds.\n",
      "Number of users which should be deleted: 1863687\n",
      "Number products which should be deleted: 1308\n",
      "Number of users which should be deleted: 265\n",
      "Number products which should be deleted: 4\n",
      "Number of users which should be deleted: 1\n",
      "Number products which should be deleted: 1\n",
      "Number of users which should be deleted: 0\n",
      "Number products which should be deleted: 0\n",
      "matrix has been made dense in 17.722225427627563 seconds.\n",
      "\n",
      "ALS model is fitted in 127.33969187736511 seconds.\n",
      "Saving Data ...\n"
     ]
    }
   ],
   "source": [
    "sparce_matrix40, implicit_matrix40, item_vectors40, user_vectors40, alsTime40 = \\\n",
    "CFTrain('./chetor.com/view_matrix/lil_matrix.npz', factors = 40)"
   ]
  },
  {
   "cell_type": "code",
   "execution_count": 10,
   "metadata": {},
   "outputs": [],
   "source": [
    "# implicit_matrix = implicit_matrix.toarray()\n",
    "# sparce_matrix = sparce_matrix.toarray()"
   ]
  },
  {
   "cell_type": "code",
   "execution_count": 11,
   "metadata": {},
   "outputs": [
    {
     "data": {
      "text/plain": [
       "(2097150, 8190)"
      ]
     },
     "execution_count": 11,
     "metadata": {},
     "output_type": "execute_result"
    }
   ],
   "source": [
    "sparce_matrix.shape"
   ]
  },
  {
   "cell_type": "code",
   "execution_count": 12,
   "metadata": {},
   "outputs": [
    {
     "data": {
      "text/plain": [
       "(233197, 6877)"
      ]
     },
     "execution_count": 12,
     "metadata": {},
     "output_type": "execute_result"
    }
   ],
   "source": [
    "implicit_matrix.shape"
   ]
  },
  {
   "cell_type": "markdown",
   "metadata": {},
   "source": [
    "## KNN Models"
   ]
  },
  {
   "cell_type": "code",
   "execution_count": 8,
   "metadata": {},
   "outputs": [],
   "source": [
    "def sk_KNN(item_vectors, number_of_neighbours = 30):\n",
    "    start = time.time()\n",
    "\n",
    "    knn_distances_brute = []\n",
    "    knn_indices_brute = []\n",
    "\n",
    "    nbrs = NearestNeighbors(n_neighbors=number_of_neighbours, algorithm='ball_tree'). \\\n",
    "        fit(item_vectors)\n",
    "\n",
    "    knn_distances_brute, knn_indices_brute = nbrs.kneighbors(item_vectors)\n",
    "\n",
    "    end = time.time()\n",
    "    print('ball_tree time:', end-start)\n",
    "    \n",
    "    return knn_distances_brute, knn_indices_brute"
   ]
  },
  {
   "cell_type": "code",
   "execution_count": 9,
   "metadata": {},
   "outputs": [],
   "source": [
    "def sk_KNN_c(item_vectors, mapper, number_of_neighbours = 30):\n",
    "    start = time.time()\n",
    "\n",
    "    knn_distances_brute = []\n",
    "    knn_indices_brute = []\n",
    "\n",
    "    nbrs = NearestNeighbors(n_neighbors=number_of_neighbours, algorithm='ball_tree'). \\\n",
    "        fit(item_vectors)\n",
    "\n",
    "    knn_distances_brute, knn_indices_brute = nbrs.kneighbors(item_vectors)\n",
    "\n",
    "    end = time.time()\n",
    "    print('ball_tree time:', end-start)\n",
    "    a = [[mapper[j] for j in i]for i in knn_indices_brute]\n",
    "    \n",
    "    return knn_distances_brute, a"
   ]
  },
  {
   "cell_type": "code",
   "execution_count": 13,
   "metadata": {},
   "outputs": [],
   "source": [
    "def get_annoy_results(pages_vector, number_of_trees = 20, number_of_neighbours = 30):\n",
    "    \n",
    "    start = time.time()\n",
    "    annoy_model = annoy_model = AnnoyIndex(pages_vector.shape[1], 'angular')\n",
    "    \n",
    "    for index, vector in enumerate(pages_vector):\n",
    "        annoy_model.add_item(index, vector)\n",
    "    \n",
    "    annoy_model.build(number_of_trees)\n",
    "    \n",
    "    annoy_indices = []\n",
    "    annoy_distances = []\n",
    "\n",
    "    for i in pages_vector:\n",
    "        indices, distances = annoy_model. \\\n",
    "            get_nns_by_vector(i, number_of_neighbours, include_distances=True)\n",
    "        annoy_indices.append(indices)\n",
    "        annoy_distances.append(distances)\n",
    "    \n",
    "    duration = time.time() - start\n",
    "#     print('annoy time:', duration)\n",
    "    return annoy_indices, annoy_distances, duration"
   ]
  },
  {
   "cell_type": "code",
   "execution_count": 11,
   "metadata": {},
   "outputs": [],
   "source": [
    "def get_annoy_results_c(pages_vector, number_of_trees = 170, number_of_neighbours = 30):\n",
    "    \n",
    "    start = time.time()\n",
    "    annoy_model = annoy_model = AnnoyIndex(300, 'angular')\n",
    "    \n",
    "    for index, vector in pages_vector.items():\n",
    "        annoy_model.add_item(index, vector)\n",
    "    \n",
    "    annoy_model.build(number_of_trees)\n",
    "    \n",
    "    annoy_indices = []\n",
    "    annoy_distances = []\n",
    "\n",
    "    for j, i in pages_vector.items():\n",
    "        indices, distances = annoy_model. \\\n",
    "            get_nns_by_vector(i, number_of_neighbours, include_distances=True)\n",
    "        annoy_indices.append(indices)\n",
    "        annoy_distances.append(distances)\n",
    "    \n",
    "    duration = time.time() - start\n",
    "#     print('annoy time:', duration)\n",
    "    return annoy_indices, annoy_distances, duration"
   ]
  },
  {
   "cell_type": "markdown",
   "metadata": {},
   "source": [
    "## Runing KNN collaborative filtering"
   ]
  },
  {
   "cell_type": "code",
   "execution_count": 17,
   "metadata": {},
   "outputs": [
    {
     "name": "stdout",
     "output_type": "stream",
     "text": [
      "annoy time: 6.241101503372192\n"
     ]
    }
   ],
   "source": [
    "annoy_indices_CF, annoy_distances, duration = get_annoy_results(item_vectors)"
   ]
  },
  {
   "cell_type": "code",
   "execution_count": 18,
   "metadata": {},
   "outputs": [
    {
     "name": "stdout",
     "output_type": "stream",
     "text": [
      "ball_tree time: 1.4761583805084229\n"
     ]
    }
   ],
   "source": [
    "knn_distances_brute, knn_indices_brute = sk_KNN(item_vectors)"
   ]
  },
  {
   "cell_type": "code",
   "execution_count": 19,
   "metadata": {},
   "outputs": [
    {
     "name": "stdout",
     "output_type": "stream",
     "text": [
      "[5744, 4041, 4886, 5025, 1284, 1057, 5772, 1427, 5510, 2189, 6161, 5674, 4774, 2647, 6048, 4556, 5548, 3276, 2554, 3043, 5484, 2543, 3530, 3042, 3226, 2606, 2642, 2492, 6677, 5107]\n",
      "[5744 5772 2798 4758 6639 5346 5360 5337 3792 2642 3584 4041 2081 5836\n",
      " 4780 6527 5008 4867 4712 5910 4726 5034 4472 5630 4794 4846 6168 5759\n",
      "  594 4941]\n"
     ]
    }
   ],
   "source": [
    "print(annoy_indices_CF[5744])\n",
    "print(knn_indices_brute[5744])"
   ]
  },
  {
   "cell_type": "code",
   "execution_count": 16,
   "metadata": {},
   "outputs": [],
   "source": [
    "item_indexer1 = \\\n",
    "AppendIndexer.load('./chetor.com/alisResult/ali_item_indexer_factorized.indexer')"
   ]
  },
  {
   "cell_type": "code",
   "execution_count": 21,
   "metadata": {},
   "outputs": [
    {
     "data": {
      "text/html": [
       "<div>\n",
       "<style scoped>\n",
       "    .dataframe tbody tr th:only-of-type {\n",
       "        vertical-align: middle;\n",
       "    }\n",
       "\n",
       "    .dataframe tbody tr th {\n",
       "        vertical-align: top;\n",
       "    }\n",
       "\n",
       "    .dataframe thead th {\n",
       "        text-align: right;\n",
       "    }\n",
       "</style>\n",
       "<table border=\"1\" class=\"dataframe\">\n",
       "  <thead>\n",
       "    <tr style=\"text-align: right;\">\n",
       "      <th></th>\n",
       "      <th>id</th>\n",
       "      <th>created</th>\n",
       "      <th>content_vector</th>\n",
       "      <th>title</th>\n",
       "      <th>cleaned_url</th>\n",
       "      <th>website_id</th>\n",
       "      <th>included</th>\n",
       "      <th>is_amp</th>\n",
       "      <th>has_image_meta</th>\n",
       "      <th>has_title_meta</th>\n",
       "      <th>page_id</th>\n",
       "      <th>subdomain_id</th>\n",
       "      <th>title_vector</th>\n",
       "      <th>image_id</th>\n",
       "      <th>cats</th>\n",
       "    </tr>\n",
       "  </thead>\n",
       "  <tbody>\n",
       "    <tr>\n",
       "      <th>5059</th>\n",
       "      <td>2156702</td>\n",
       "      <td>2020-08-09 04:50:08.834911+04:30</td>\n",
       "      <td>{0.509120881557465,-1.08496379852295,-0.249915...</td>\n",
       "      <td>ارزیابی ۳۶۰ درجه چیست و چه مزایا و معایبی دارد...</td>\n",
       "      <td>chetor.com/23451-%D8%A7%D8%B1%D8%B2%DB%8C%D8%A...</td>\n",
       "      <td>1</td>\n",
       "      <td>t</td>\n",
       "      <td>f</td>\n",
       "      <td>f</td>\n",
       "      <td>f</td>\n",
       "      <td>2490645</td>\n",
       "      <td>336</td>\n",
       "      <td>{1.02428507804871,-0.387193650007248,0.2601181...</td>\n",
       "      <td>139097.0</td>\n",
       "      <td>{}</td>\n",
       "    </tr>\n",
       "  </tbody>\n",
       "</table>\n",
       "</div>"
      ],
      "text/plain": [
       "           id                           created  \\\n",
       "5059  2156702  2020-08-09 04:50:08.834911+04:30   \n",
       "\n",
       "                                         content_vector  \\\n",
       "5059  {0.509120881557465,-1.08496379852295,-0.249915...   \n",
       "\n",
       "                                                  title  \\\n",
       "5059  ارزیابی ۳۶۰ درجه چیست و چه مزایا و معایبی دارد...   \n",
       "\n",
       "                                            cleaned_url  website_id included  \\\n",
       "5059  chetor.com/23451-%D8%A7%D8%B1%D8%B2%DB%8C%D8%A...           1        t   \n",
       "\n",
       "     is_amp has_image_meta has_title_meta  page_id  subdomain_id  \\\n",
       "5059      f              f              f  2490645           336   \n",
       "\n",
       "                                           title_vector  image_id cats  \n",
       "5059  {1.02428507804871,-0.387193650007248,0.2601181...  139097.0   {}  "
      ]
     },
     "execution_count": 21,
     "metadata": {},
     "output_type": "execute_result"
    }
   ],
   "source": [
    "chetor_content[chetor_content['id'] == int(item_indexer1.reverse_get(4539))]\n",
    "# chetor_content[chetor_content['id'] == int(item_indexer1.reverse_get(3357))]\n",
    "# chetor_content[chetor_content['id'] == int(item_indexer1.reverse_get(1364))]\n",
    "# chetor_content[chetor_content['id'] == int(item_indexer1.reverse_get(800))]"
   ]
  },
  {
   "cell_type": "markdown",
   "metadata": {},
   "source": [
    "## train content based"
   ]
  },
  {
   "cell_type": "code",
   "execution_count": 17,
   "metadata": {},
   "outputs": [],
   "source": [
    "items = []\n",
    "nulls = []\n",
    "for i in item_indexer1.get_items():\n",
    "    temp = {}\n",
    "    try:\n",
    "        item_index = item_indexer1.get(i)\n",
    "        c_vec = np.array(chetor_content[chetor_content['id'] == int(i)].content_vector)[0]\n",
    "        temp['content_vec'] = np.array([float(x) for x in str(c_vec)[1:-1].split(',')])\n",
    "        temp['id'] = i\n",
    "        temp['index'] = item_index\n",
    "        items.append(temp)\n",
    "    except:\n",
    "        nulls.append(item_index)"
   ]
  },
  {
   "cell_type": "code",
   "execution_count": 18,
   "metadata": {},
   "outputs": [],
   "source": [
    "item_content_map = {}\n",
    "for i in items:\n",
    "    item_content_map[i['index']] = i['content_vec']\n",
    "content_vec = []\n",
    "items_itex = []\n",
    "for i, j in item_content_map.items():\n",
    "    content_vec.append(j)\n",
    "    items_itex.append(i)\n",
    "# items_itex.index(1600)"
   ]
  },
  {
   "cell_type": "code",
   "execution_count": 24,
   "metadata": {},
   "outputs": [
    {
     "name": "stdout",
     "output_type": "stream",
     "text": [
      "annoy time: 4.994776010513306\n"
     ]
    }
   ],
   "source": [
    "annoy_indices_CB, annoy_distances_CB, duration_CB = get_annoy_results_c(item_content_map)"
   ]
  },
  {
   "cell_type": "code",
   "execution_count": 25,
   "metadata": {},
   "outputs": [
    {
     "name": "stdout",
     "output_type": "stream",
     "text": [
      "ball_tree time: 24.46805715560913\n"
     ]
    }
   ],
   "source": [
    "knn_distances_brute_CB, knn_indices_brute_CB = sk_KNN_c(content_vec, items_itex)"
   ]
  },
  {
   "cell_type": "code",
   "execution_count": 26,
   "metadata": {},
   "outputs": [
    {
     "name": "stdout",
     "output_type": "stream",
     "text": [
      "[6758, 3219, 3027, 2311, 4787, 4424, 1790, 1977, 6037, 5307, 5496, 3386, 2232, 1234, 6199, 3688, 2008, 5286, 1027, 3956, 4937, 2930, 6081, 3259, 6115, 4099, 618, 40, 5497, 5894]\n",
      "[6758, 3027, 1790, 1977, 4424, 6037, 2311, 6081, 1027, 3956, 6199, 1390, 4787, 40, 5286, 4491, 5307, 1234, 2647, 5496, 3219, 5113, 3123, 5790, 1437, 5370, 4720, 2523, 4345, 5020]\n"
     ]
    }
   ],
   "source": [
    "print(annoy_indices_CB[6300])\n",
    "print(knn_indices_brute_CB[6300])"
   ]
  },
  {
   "cell_type": "code",
   "execution_count": 27,
   "metadata": {},
   "outputs": [
    {
     "data": {
      "text/html": [
       "<div>\n",
       "<style scoped>\n",
       "    .dataframe tbody tr th:only-of-type {\n",
       "        vertical-align: middle;\n",
       "    }\n",
       "\n",
       "    .dataframe tbody tr th {\n",
       "        vertical-align: top;\n",
       "    }\n",
       "\n",
       "    .dataframe thead th {\n",
       "        text-align: right;\n",
       "    }\n",
       "</style>\n",
       "<table border=\"1\" class=\"dataframe\">\n",
       "  <thead>\n",
       "    <tr style=\"text-align: right;\">\n",
       "      <th></th>\n",
       "      <th>id</th>\n",
       "      <th>created</th>\n",
       "      <th>content_vector</th>\n",
       "      <th>title</th>\n",
       "      <th>cleaned_url</th>\n",
       "      <th>website_id</th>\n",
       "      <th>included</th>\n",
       "      <th>is_amp</th>\n",
       "      <th>has_image_meta</th>\n",
       "      <th>has_title_meta</th>\n",
       "      <th>page_id</th>\n",
       "      <th>subdomain_id</th>\n",
       "      <th>title_vector</th>\n",
       "      <th>image_id</th>\n",
       "      <th>cats</th>\n",
       "    </tr>\n",
       "  </thead>\n",
       "  <tbody>\n",
       "    <tr>\n",
       "      <th>2365</th>\n",
       "      <td>2138598</td>\n",
       "      <td>2020-08-09 04:49:18.183412+04:30</td>\n",
       "      <td>{0.675059735774994,-0.17669515311718,-0.160999...</td>\n",
       "      <td>تکنیک اتاق رومی؛ چطور هر فهرستی را به‌راحتی به...</td>\n",
       "      <td>chetor.com/158064-%D8%AA%DA%A9%D9%86%DB%8C%DA%...</td>\n",
       "      <td>1</td>\n",
       "      <td>t</td>\n",
       "      <td>f</td>\n",
       "      <td>f</td>\n",
       "      <td>f</td>\n",
       "      <td>7857591</td>\n",
       "      <td>336</td>\n",
       "      <td>{0.926600635051727,0.212246716022491,0.1147326...</td>\n",
       "      <td>1012473.0</td>\n",
       "      <td>{}</td>\n",
       "    </tr>\n",
       "  </tbody>\n",
       "</table>\n",
       "</div>"
      ],
      "text/plain": [
       "           id                           created  \\\n",
       "2365  2138598  2020-08-09 04:49:18.183412+04:30   \n",
       "\n",
       "                                         content_vector  \\\n",
       "2365  {0.675059735774994,-0.17669515311718,-0.160999...   \n",
       "\n",
       "                                                  title  \\\n",
       "2365  تکنیک اتاق رومی؛ چطور هر فهرستی را به‌راحتی به...   \n",
       "\n",
       "                                            cleaned_url  website_id included  \\\n",
       "2365  chetor.com/158064-%D8%AA%DA%A9%D9%86%DB%8C%DA%...           1        t   \n",
       "\n",
       "     is_amp has_image_meta has_title_meta  page_id  subdomain_id  \\\n",
       "2365      f              f              f  7857591           336   \n",
       "\n",
       "                                           title_vector   image_id cats  \n",
       "2365  {0.926600635051727,0.212246716022491,0.1147326...  1012473.0   {}  "
      ]
     },
     "execution_count": 27,
     "metadata": {},
     "output_type": "execute_result"
    }
   ],
   "source": [
    "chetor_content[chetor_content['id'] == int(item_indexer1.reverse_get(3123))]"
   ]
  },
  {
   "cell_type": "markdown",
   "metadata": {},
   "source": [
    "## Annoy accuracy"
   ]
  },
  {
   "cell_type": "markdown",
   "metadata": {},
   "source": [
    "collab"
   ]
  },
  {
   "cell_type": "code",
   "execution_count": 53,
   "metadata": {},
   "outputs": [
    {
     "name": "stdout",
     "output_type": "stream",
     "text": [
      "ball_tree time: 1.118959665298462\n"
     ]
    }
   ],
   "source": [
    "Tknn_distances_brute, Tknn_indices_brute = sk_KNN(item_vectors, number_of_neighbours = 30)"
   ]
  },
  {
   "cell_type": "code",
   "execution_count": 84,
   "metadata": {
    "scrolled": true
   },
   "outputs": [
    {
     "name": "stderr",
     "output_type": "stream",
     "text": [
      "100%|██████████| 30/30 [22:57<00:00, 45.92s/it]\n"
     ]
    }
   ],
   "source": [
    "allt2 = []\n",
    "allndcgs2 = []\n",
    "for i in tqdm(range(30)):\n",
    "    tt = []\n",
    "    accs = []\n",
    "    ndcgs = []\n",
    "    trees = [3, 5,6,7,8,9, 10, 12,13,14, 15, 20, 30, 35, 40, 45, 50, 60, 75, 100, 125, 150, 175, 200, 250,  300]\n",
    "    for i in trees:\n",
    "        Tannoy_indices_CF, Tannoy_distances, Tduration = get_annoy_results(item_vectors, number_of_trees = i, number_of_neighbours = 10)\n",
    "        tt.append(6877/Tduration)\n",
    "        accs.append(calc_acc(Tannoy_indices_CF, Tknn_indices_brute, 11))\n",
    "        ndcgs.append(calc_nDCG(Tannoy_indices_CF, Tknn_indices_brute, 11))\n",
    "    allt2.append(tt)\n",
    "    allndcgs2.append(ndcgs)\n",
    "allt2 = np.array(allt2)\n",
    "allndcgs2 = np.array(allndcgs2)"
   ]
  },
  {
   "cell_type": "code",
   "execution_count": 85,
   "metadata": {},
   "outputs": [],
   "source": [
    "allt3 = np.mean(allt2, axis = 0)\n",
    "allndcgs3 = np.mean(allndcgs2, axis = 0)"
   ]
  },
  {
   "cell_type": "code",
   "execution_count": 86,
   "metadata": {},
   "outputs": [
    {
     "data": {
      "text/plain": [
       "array([0.17989626, 0.1971923 , 0.20107075, 0.20364993, 0.20523201,\n",
       "       0.20611203, 0.20745645, 0.20874514, 0.20918197, 0.20956556,\n",
       "       0.20989382, 0.21156381, 0.21305667, 0.2130742 , 0.21290128,\n",
       "       0.21290505, 0.21296602, 0.2129954 , 0.2129602 , 0.21287672,\n",
       "       0.21288217, 0.2128651 , 0.21276684, 0.21281115, 0.21288474,\n",
       "       0.21290095])"
      ]
     },
     "execution_count": 86,
     "metadata": {},
     "output_type": "execute_result"
    }
   ],
   "source": [
    "allndcgs3"
   ]
  },
  {
   "cell_type": "code",
   "execution_count": 87,
   "metadata": {},
   "outputs": [
    {
     "data": {
      "image/png": "[encoded data removed]",
      "text/plain": [
       "<Figure size 432x288 with 1 Axes>"
      ]
     },
     "metadata": {
      "needs_background": "light"
     },
     "output_type": "display_data"
    }
   ],
   "source": [
    "plt.plot(allndcgs3, allt3)\n",
    "plt.ylabel(\"Recommendations per second\")\n",
    "plt.xlabel(\"Normalized Discounted Cumulative Gain (NDCG)\")\n",
    "for i in [0,3,8,16, 25]:\n",
    "    plt.annotate(\n",
    "            str(trees[i]) + \" trees\",\n",
    "            xy=(allndcgs3[i], allt3[i]), xytext=(30, 30),\n",
    "            textcoords='offset points', ha='left', va='top',\n",
    "            bbox=dict(boxstyle='round,pad=0.5', fc='yellow', alpha=0.5),\n",
    "            arrowprops=dict(arrowstyle = '->', connectionstyle='arc3,rad=0'))"
   ]
  },
  {
   "cell_type": "markdown",
   "metadata": {},
   "source": [
    "content"
   ]
  },
  {
   "cell_type": "code",
   "execution_count": 22,
   "metadata": {},
   "outputs": [
    {
     "name": "stdout",
     "output_type": "stream",
     "text": [
      "ball_tree time: 21.21881628036499\n"
     ]
    }
   ],
   "source": [
    "Aknn_distances_brute_CB, Aknn_indices_brute_CB = sk_KNN_c(content_vec, items_itex, number_of_neighbours = 15)"
   ]
  },
  {
   "cell_type": "code",
   "execution_count": 23,
   "metadata": {},
   "outputs": [
    {
     "data": {
      "text/plain": [
       "384.99691662906696"
      ]
     },
     "execution_count": 23,
     "metadata": {},
     "output_type": "execute_result"
    }
   ],
   "source": [
    "8723/22.65732431411743"
   ]
  },
  {
   "cell_type": "code",
   "execution_count": 24,
   "metadata": {
    "scrolled": true
   },
   "outputs": [
    {
     "name": "stderr",
     "output_type": "stream",
     "text": [
      "100%|██████████| 30/30 [20:36<00:00, 41.23s/it]\n"
     ]
    }
   ],
   "source": [
    "allt = []\n",
    "allndcgs = []\n",
    "for i in tqdm(range(30)):\n",
    "    tt = []\n",
    "    accs = []\n",
    "    ndcgs = []\n",
    "    trees = [3, 5,6,7,8,9, 10,11,13, 15, 20, 30, 35, 40, 45, 50, 60, 75, 100, 125, 150, 175, 200, 250,  300]\n",
    "    for i in trees:\n",
    "        Tannoy_indices_CB, Tannoy_distances_CB, Tduration_CB = get_annoy_results_c(item_content_map, number_of_trees = i, number_of_neighbours = 10)\n",
    "        tt.append(8723/Tduration_CB)\n",
    "        accs.append(calc_acc(Tannoy_indices_CB, Aknn_indices_brute_CB, 10))\n",
    "        ndcgs.append(calc_nDCG(Tannoy_indices_CB, Aknn_indices_brute_CB, 13))\n",
    "    allt.append(tt)\n",
    "    allndcgs.append(ndcgs)\n",
    "allt = np.array(allt)\n",
    "allndcgs = np.array(allndcgs)\n"
   ]
  },
  {
   "cell_type": "code",
   "execution_count": 25,
   "metadata": {},
   "outputs": [],
   "source": [
    "allt1 = np.mean(allt, axis = 0)\n",
    "allndcgs1 = np.mean(allndcgs, axis = 0)"
   ]
  },
  {
   "cell_type": "code",
   "execution_count": 45,
   "metadata": {},
   "outputs": [
    {
     "data": {
      "text/plain": [
       "array([13062.22513926, 13144.43132901, 13090.        , 13000.        ,\n",
       "       13021.48350311, 12856.22609051, 12643.43700066, 12338.53301243,\n",
       "       11857.15919264, 11781.57680775, 10787.29231   ,  8574.00410787,\n",
       "        8198.34145654,  7814.45774902,  7389.62952005,  6830.67919979,\n",
       "        6322.09581393,  5437.72738056,  4547.77427534,  3829.98377821,\n",
       "        3353.02676277,  2966.75804392,  2685.62571284,  2250.57507919,\n",
       "        1855.94169423])"
      ]
     },
     "execution_count": 45,
     "metadata": {},
     "output_type": "execute_result"
    }
   ],
   "source": [
    "allt1"
   ]
  },
  {
   "cell_type": "code",
   "execution_count": 46,
   "metadata": {},
   "outputs": [
    {
     "data": {
      "text/plain": [
       "array([0.47478308, 0.49533032, 0.50411199, 0.50976604, 0.51436786,\n",
       "       0.51690037, 0.5211133 , 0.52603394, 0.53218338, 0.53620954,\n",
       "       0.54939816, 0.57338015, 0.57612011, 0.57806205, 0.58064416,\n",
       "       0.58363287, 0.587284  , 0.59003156, 0.59316942, 0.59452721,\n",
       "       0.59593304, 0.59649455, 0.5974536 , 0.59840549, 0.59885689])"
      ]
     },
     "execution_count": 46,
     "metadata": {},
     "output_type": "execute_result"
    }
   ],
   "source": [
    "allndcgs1"
   ]
  },
  {
   "cell_type": "code",
   "execution_count": 81,
   "metadata": {},
   "outputs": [
    {
     "data": {
      "image/png": "[encoded data removed]",
      "text/plain": [
       "<Figure size 432x288 with 1 Axes>"
      ]
     },
     "metadata": {
      "needs_background": "light"
     },
     "output_type": "display_data"
    }
   ],
   "source": [
    "from brokenaxes import brokenaxes\n",
    "plt.plot(allndcgs1, allt1)\n",
    "plt.ylabel(\"Recommendations per second\")\n",
    "plt.xlabel(\"Normalized Discounted Cumulative Gain (NDCG)\")\n",
    "for i in [0,5,10,15,20, 24]:\n",
    "    plt.annotate(\n",
    "            str(trees[i]) + \" trees\",\n",
    "            xy=(allndcgs1[i], allt1[i]), xytext=(30, 30),\n",
    "            textcoords='offset points', ha='left', va='top',\n",
    "            bbox=dict(boxstyle='round,pad=0.5', fc='yellow', alpha=0.5),\n",
    "            arrowprops=dict(arrowstyle = '->', connectionstyle='arc3,rad=0'))"
   ]
  },
  {
   "cell_type": "markdown",
   "metadata": {},
   "source": [
    "## time - #features"
   ]
  },
  {
   "cell_type": "code",
   "execution_count": 12,
   "metadata": {},
   "outputs": [],
   "source": [
    "alst = []\n",
    "annoyt = []\n",
    "knnt = []\n",
    "accs = []\n",
    "ndcgs = []\n",
    "features = [5, 10, 20, 30, 40, 60, 80, 100, 120]\n",
    "# matrix = ViewMatrix.load_matrix('./chetor.com/view_matrix/lil_matrix.npz')\n",
    "# print('hi')\n",
    "# sparce_matrix = matrix.to_csr()\n",
    "# matrix.make_dense(user_min_view = 2, \n",
    "#                   item_min_view = 2)\n",
    "# implicit_matrix = matrix.to_csr()\n",
    "# print('hi')"
   ]
  },
  {
   "cell_type": "code",
   "execution_count": 42,
   "metadata": {},
   "outputs": [],
   "source": [
    "for i in features:\n",
    "    als_model = ALS.Als(num_factors = i,\n",
    "                    iterations = 15,\n",
    "                    num_threads = 15,\n",
    "                    alpha = 15)\n",
    "    now = time.time()\n",
    "    als_model.fit(implicit_matrix)\n",
    "    alst.append(time.time() - now)\n",
    "    print(alst[-1])\n",
    "    \n",
    "    now = time.time()\n",
    "    annoy_indices_CFi, annoy_distancesi, durationi = get_annoy_results(als_model.item_vectors, number_of_neighbours = 10)\n",
    "    annoyt.append(time.time() - now)\n",
    "    \n",
    "    now = time.time()\n",
    "    knn_distances_brutei, knn_indices_brutei = sk_KNN(als_model.item_vectors, number_of_neighbours = 10)\n",
    "    knnt.append(time.time() - now)\n",
    "    \n",
    "    accs.append(calc_acc(annoy_indices_CFi, knn_indices_brutei, 10))\n",
    "    ndcgs.append(calc_nDCG(annoy_indices_CFi, knn_indices_brutei, 10))\n",
    "    \n",
    "    print(accs[-1], ndcgs[-1])\n",
    "    "
   ]
  },
  {
   "cell_type": "code",
   "execution_count": 14,
   "metadata": {},
   "outputs": [
    {
     "name": "stdout",
     "output_type": "stream",
     "text": [
      "View matrix loaded in 6.3962953090667725 seconds.\n",
      "Number of users which should be deleted: 1863687\n",
      "Number products which should be deleted: 1308\n",
      "Number of users which should be deleted: 265\n",
      "Number products which should be deleted: 4\n",
      "Number of users which should be deleted: 1\n",
      "Number products which should be deleted: 1\n",
      "Number of users which should be deleted: 0\n",
      "Number products which should be deleted: 0\n",
      "matrix has been made dense in 15.183908224105835 seconds.\n",
      "\n",
      "ALS model is fitted in 5.996797323226929 seconds.\n",
      "Saving Data ...\n",
      "ball_tree time: 0.293595552444458\n"
     ]
    }
   ],
   "source": [
    "sparce_matrix5, implicit_matrix5, item_vectors5, user_vectors5, ALS_Time = \\\n",
    "CFTrain('./chetor.com/view_matrix/lil_matrix.npz', factors = 5)\n",
    "alst.append(ALS_Time)\n",
    "\n",
    "now = time.time()\n",
    "annoy_indices_CFi, annoy_distancesi, durationi = get_annoy_results(item_vectors5, number_of_neighbours = 10)\n",
    "annoyt.append(time.time() - now)\n",
    "\n",
    "now = time.time()\n",
    "knn_distances_brutei, knn_indices_brutei = sk_KNN(item_vectors5, number_of_neighbours = 10)\n",
    "knnt.append(time.time() - now)\n",
    "\n",
    "accs.append(calc_acc(annoy_indices_CFi, knn_indices_brutei, 10))\n",
    "ndcgs.append(calc_nDCG(annoy_indices_CFi, knn_indices_brutei, 10))"
   ]
  },
  {
   "cell_type": "code",
   "execution_count": 15,
   "metadata": {},
   "outputs": [
    {
     "name": "stdout",
     "output_type": "stream",
     "text": [
      "View matrix loaded in 6.193766832351685 seconds.\n",
      "Number of users which should be deleted: 1863687\n",
      "Number products which should be deleted: 1308\n",
      "Number of users which should be deleted: 265\n",
      "Number products which should be deleted: 4\n",
      "Number of users which should be deleted: 1\n",
      "Number products which should be deleted: 1\n",
      "Number of users which should be deleted: 0\n",
      "Number products which should be deleted: 0\n",
      "matrix has been made dense in 15.730817556381226 seconds.\n",
      "\n",
      "ALS model is fitted in 7.9667723178863525 seconds.\n",
      "Saving Data ...\n",
      "ball_tree time: 0.5714569091796875\n"
     ]
    }
   ],
   "source": [
    "sparce_matrix10, implicit_matrix10, item_vectors10, user_vectors10, ALS_Time = \\\n",
    "CFTrain('./chetor.com/view_matrix/lil_matrix.npz', factors = 10)\n",
    "alst.append(ALS_Time)\n",
    "\n",
    "now = time.time()\n",
    "annoy_indices_CFi, annoy_distancesi, durationi = get_annoy_results(item_vectors10, number_of_neighbours = 10)\n",
    "annoyt.append(time.time() - now)\n",
    "\n",
    "now = time.time()\n",
    "knn_distances_brutei, knn_indices_brutei = sk_KNN(item_vectors10, number_of_neighbours = 10)\n",
    "knnt.append(time.time() - now)\n",
    "\n",
    "accs.append(calc_acc(annoy_indices_CFi, knn_indices_brutei, 10))\n",
    "ndcgs.append(calc_nDCG(annoy_indices_CFi, knn_indices_brutei, 10))"
   ]
  },
  {
   "cell_type": "code",
   "execution_count": 16,
   "metadata": {},
   "outputs": [
    {
     "name": "stdout",
     "output_type": "stream",
     "text": [
      "View matrix loaded in 6.017201662063599 seconds.\n",
      "Number of users which should be deleted: 1863687\n",
      "Number products which should be deleted: 1308\n",
      "Number of users which should be deleted: 265\n",
      "Number products which should be deleted: 4\n",
      "Number of users which should be deleted: 1\n",
      "Number products which should be deleted: 1\n",
      "Number of users which should be deleted: 0\n",
      "Number products which should be deleted: 0\n",
      "matrix has been made dense in 15.214616775512695 seconds.\n",
      "\n",
      "ALS model is fitted in 9.851269960403442 seconds.\n",
      "Saving Data ...\n",
      "ball_tree time: 0.7856690883636475\n"
     ]
    }
   ],
   "source": [
    "sparce_matrix15, implicit_matrix15, item_vectors15, user_vectors15, ALS_Time = \\\n",
    "CFTrain('./chetor.com/view_matrix/lil_matrix.npz', factors = 15)\n",
    "alst.append(ALS_Time)\n",
    "\n",
    "now = time.time()\n",
    "annoy_indices_CFi, annoy_distancesi, durationi = get_annoy_results(item_vectors15, number_of_neighbours = 10)\n",
    "annoyt.append(time.time() - now)\n",
    "\n",
    "now = time.time()\n",
    "knn_distances_brutei, knn_indices_brutei = sk_KNN(item_vectors15, number_of_neighbours = 10)\n",
    "knnt.append(time.time() - now)\n",
    "\n",
    "accs.append(calc_acc(annoy_indices_CFi, knn_indices_brutei, 10))\n",
    "ndcgs.append(calc_nDCG(annoy_indices_CFi, knn_indices_brutei, 10))"
   ]
  },
  {
   "cell_type": "code",
   "execution_count": 17,
   "metadata": {},
   "outputs": [
    {
     "name": "stdout",
     "output_type": "stream",
     "text": [
      "View matrix loaded in 5.967483758926392 seconds.\n",
      "Number of users which should be deleted: 1863687\n",
      "Number products which should be deleted: 1308\n",
      "Number of users which should be deleted: 265\n",
      "Number products which should be deleted: 4\n",
      "Number of users which should be deleted: 1\n",
      "Number products which should be deleted: 1\n",
      "Number of users which should be deleted: 0\n",
      "Number products which should be deleted: 0\n",
      "matrix has been made dense in 14.976257085800171 seconds.\n",
      "\n",
      "ALS model is fitted in 10.88638186454773 seconds.\n",
      "Saving Data ...\n",
      "ball_tree time: 1.0011837482452393\n"
     ]
    }
   ],
   "source": [
    "sparce_matrix20, implicit_matrix20, item_vectors20, user_vectors20, ALS_Time = \\\n",
    "CFTrain('./chetor.com/view_matrix/lil_matrix.npz', factors = 20)\n",
    "\n",
    "alst.append(ALS_Time)\n",
    "\n",
    "now = time.time()\n",
    "annoy_indices_CFi, annoy_distancesi, durationi = get_annoy_results(item_vectors20, number_of_neighbours = 10)\n",
    "annoyt.append(time.time() - now)\n",
    "\n",
    "now = time.time()\n",
    "knn_distances_brutei, knn_indices_brutei = sk_KNN(item_vectors20, number_of_neighbours = 10)\n",
    "knnt.append(time.time() - now)\n",
    "\n",
    "accs.append(calc_acc(annoy_indices_CFi, knn_indices_brutei, 10))\n",
    "ndcgs.append(calc_nDCG(annoy_indices_CFi, knn_indices_brutei, 10))"
   ]
  },
  {
   "cell_type": "code",
   "execution_count": 18,
   "metadata": {},
   "outputs": [
    {
     "name": "stdout",
     "output_type": "stream",
     "text": [
      "View matrix loaded in 5.951243162155151 seconds.\n",
      "Number of users which should be deleted: 1863687\n",
      "Number products which should be deleted: 1308\n",
      "Number of users which should be deleted: 265\n",
      "Number products which should be deleted: 4\n",
      "Number of users which should be deleted: 1\n",
      "Number products which should be deleted: 1\n",
      "Number of users which should be deleted: 0\n",
      "Number products which should be deleted: 0\n",
      "matrix has been made dense in 15.388915777206421 seconds.\n",
      "\n",
      "ALS model is fitted in 14.326810359954834 seconds.\n",
      "Saving Data ...\n",
      "ball_tree time: 1.3874289989471436\n"
     ]
    }
   ],
   "source": [
    "sparce_matrix25, implicit_matrix25, item_vectors25, user_vectors25, ALS_Time = \\\n",
    "CFTrain('./chetor.com/view_matrix/lil_matrix.npz', factors = 25)\n",
    "\n",
    "alst.append(ALS_Time)\n",
    "\n",
    "now = time.time()\n",
    "annoy_indices_CFi, annoy_distancesi, durationi = get_annoy_results(item_vectors25, number_of_neighbours = 10)\n",
    "annoyt.append(time.time() - now)\n",
    "\n",
    "now = time.time()\n",
    "knn_distances_brutei, knn_indices_brutei = sk_KNN(item_vectors25, number_of_neighbours = 10)\n",
    "knnt.append(time.time() - now)\n",
    "\n",
    "accs.append(calc_acc(annoy_indices_CFi, knn_indices_brutei, 10))\n",
    "ndcgs.append(calc_nDCG(annoy_indices_CFi, knn_indices_brutei, 10))"
   ]
  },
  {
   "cell_type": "code",
   "execution_count": 19,
   "metadata": {},
   "outputs": [
    {
     "name": "stdout",
     "output_type": "stream",
     "text": [
      "View matrix loaded in 5.958970308303833 seconds.\n",
      "Number of users which should be deleted: 1863687\n",
      "Number products which should be deleted: 1308\n",
      "Number of users which should be deleted: 265\n",
      "Number products which should be deleted: 4\n",
      "Number of users which should be deleted: 1\n",
      "Number products which should be deleted: 1\n",
      "Number of users which should be deleted: 0\n",
      "Number products which should be deleted: 0\n",
      "matrix has been made dense in 15.35277533531189 seconds.\n",
      "\n",
      "ALS model is fitted in 19.01391100883484 seconds.\n",
      "Saving Data ...\n",
      "ball_tree time: 1.4627258777618408\n"
     ]
    }
   ],
   "source": [
    "sparce_matrix30, implicit_matrix30, item_vectors30, user_vectors30, ALS_Time = \\\n",
    "CFTrain('./chetor.com/view_matrix/lil_matrix.npz', factors = 30)\n",
    "\n",
    "alst.append(ALS_Time)\n",
    "\n",
    "now = time.time()\n",
    "annoy_indices_CFi, annoy_distancesi, durationi = get_annoy_results(item_vectors30, number_of_neighbours = 10)\n",
    "annoyt.append(time.time() - now)\n",
    "\n",
    "now = time.time()\n",
    "knn_distances_brutei, knn_indices_brutei = sk_KNN(item_vectors30, number_of_neighbours = 10)\n",
    "knnt.append(time.time() - now)\n",
    "\n",
    "accs.append(calc_acc(annoy_indices_CFi, knn_indices_brutei, 10))\n",
    "ndcgs.append(calc_nDCG(annoy_indices_CFi, knn_indices_brutei, 10))"
   ]
  },
  {
   "cell_type": "code",
   "execution_count": 20,
   "metadata": {},
   "outputs": [
    {
     "name": "stdout",
     "output_type": "stream",
     "text": [
      "View matrix loaded in 5.9334876537323 seconds.\n",
      "Number of users which should be deleted: 1863687\n",
      "Number products which should be deleted: 1308\n",
      "Number of users which should be deleted: 265\n",
      "Number products which should be deleted: 4\n",
      "Number of users which should be deleted: 1\n",
      "Number products which should be deleted: 1\n",
      "Number of users which should be deleted: 0\n",
      "Number products which should be deleted: 0\n",
      "matrix has been made dense in 15.15571904182434 seconds.\n",
      "\n",
      "ALS model is fitted in 87.13678884506226 seconds.\n",
      "Saving Data ...\n",
      "ball_tree time: 1.7800700664520264\n"
     ]
    }
   ],
   "source": [
    "sparce_matrix35, implicit_matrix35, item_vectors35, user_vectors35, ALS_Time = \\\n",
    "CFTrain('./chetor.com/view_matrix/lil_matrix.npz', factors = 35)\n",
    "\n",
    "alst.append(ALS_Time)\n",
    "\n",
    "now = time.time()\n",
    "annoy_indices_CFi, annoy_distancesi, durationi = get_annoy_results(item_vectors35, number_of_neighbours = 10)\n",
    "annoyt.append(time.time() - now)\n",
    "\n",
    "now = time.time()\n",
    "knn_distances_brutei, knn_indices_brutei = sk_KNN(item_vectors35, number_of_neighbours = 10)\n",
    "knnt.append(time.time() - now)\n",
    "\n",
    "accs.append(calc_acc(annoy_indices_CFi, knn_indices_brutei, 10))\n",
    "ndcgs.append(calc_nDCG(annoy_indices_CFi, knn_indices_brutei, 10))"
   ]
  },
  {
   "cell_type": "code",
   "execution_count": 21,
   "metadata": {},
   "outputs": [
    {
     "name": "stdout",
     "output_type": "stream",
     "text": [
      "View matrix loaded in 5.9728782176971436 seconds.\n",
      "Number of users which should be deleted: 1863687\n",
      "Number products which should be deleted: 1308\n",
      "Number of users which should be deleted: 265\n",
      "Number products which should be deleted: 4\n",
      "Number of users which should be deleted: 1\n",
      "Number products which should be deleted: 1\n",
      "Number of users which should be deleted: 0\n",
      "Number products which should be deleted: 0\n",
      "matrix has been made dense in 15.430633068084717 seconds.\n",
      "\n",
      "ALS model is fitted in 89.21655130386353 seconds.\n",
      "Saving Data ...\n",
      "ball_tree time: 1.8687613010406494\n"
     ]
    }
   ],
   "source": [
    "sparce_matrix40, implicit_matrix40, item_vectors40, user_vectors40, ALS_Time = \\\n",
    "CFTrain('./chetor.com/view_matrix/lil_matrix.npz', factors = 40)\n",
    "\n",
    "alst.append(ALS_Time)\n",
    "\n",
    "now = time.time()\n",
    "annoy_indices_CFi, annoy_distancesi, durationi = get_annoy_results(item_vectors40, number_of_neighbours = 10)\n",
    "annoyt.append(time.time() - now)\n",
    "\n",
    "now = time.time()\n",
    "knn_distances_brutei, knn_indices_brutei = sk_KNN(item_vectors40, number_of_neighbours = 10)\n",
    "knnt.append(time.time() - now)\n",
    "\n",
    "accs.append(calc_acc(annoy_indices_CFi, knn_indices_brutei, 10))\n",
    "ndcgs.append(calc_nDCG(annoy_indices_CFi, knn_indices_brutei, 10))"
   ]
  },
  {
   "cell_type": "code",
   "execution_count": 22,
   "metadata": {},
   "outputs": [
    {
     "name": "stdout",
     "output_type": "stream",
     "text": [
      "View matrix loaded in 5.94551944732666 seconds.\n",
      "Number of users which should be deleted: 1863687\n",
      "Number products which should be deleted: 1308\n",
      "Number of users which should be deleted: 265\n",
      "Number products which should be deleted: 4\n",
      "Number of users which should be deleted: 1\n",
      "Number products which should be deleted: 1\n",
      "Number of users which should be deleted: 0\n",
      "Number products which should be deleted: 0\n",
      "matrix has been made dense in 15.378552675247192 seconds.\n",
      "\n",
      "ALS model is fitted in 111.91834902763367 seconds.\n",
      "Saving Data ...\n",
      "ball_tree time: 2.3547425270080566\n"
     ]
    }
   ],
   "source": [
    "sparce_matrix50, implicit_matrix50, item_vectors50, user_vectors50, ALS_Time = \\\n",
    "CFTrain('./chetor.com/view_matrix/lil_matrix.npz', factors = 50)\n",
    "\n",
    "alst.append(ALS_Time)\n",
    "\n",
    "now = time.time()\n",
    "annoy_indices_CFi, annoy_distancesi, durationi = get_annoy_results(item_vectors50, number_of_neighbours = 10)\n",
    "annoyt.append(time.time() - now)\n",
    "\n",
    "now = time.time()\n",
    "knn_distances_brutei, knn_indices_brutei = sk_KNN(item_vectors50, number_of_neighbours = 10)\n",
    "knnt.append(time.time() - now)\n",
    "\n",
    "accs.append(calc_acc(annoy_indices_CFi, knn_indices_brutei, 10))\n",
    "ndcgs.append(calc_nDCG(annoy_indices_CFi, knn_indices_brutei, 10))"
   ]
  },
  {
   "cell_type": "code",
   "execution_count": 23,
   "metadata": {},
   "outputs": [
    {
     "name": "stdout",
     "output_type": "stream",
     "text": [
      "View matrix loaded in 5.947584390640259 seconds.\n",
      "Number of users which should be deleted: 1863687\n",
      "Number products which should be deleted: 1308\n",
      "Number of users which should be deleted: 265\n",
      "Number products which should be deleted: 4\n",
      "Number of users which should be deleted: 1\n",
      "Number products which should be deleted: 1\n",
      "Number of users which should be deleted: 0\n",
      "Number products which should be deleted: 0\n",
      "matrix has been made dense in 15.027578353881836 seconds.\n",
      "\n",
      "ALS model is fitted in 145.3013882637024 seconds.\n",
      "Saving Data ...\n",
      "ball_tree time: 2.8356781005859375\n"
     ]
    }
   ],
   "source": [
    "sparce_matrix60, implicit_matrix60, item_vectors60, user_vectors60, ALS_Time = \\\n",
    "CFTrain('./chetor.com/view_matrix/lil_matrix.npz', factors = 60)\n",
    "\n",
    "alst.append(ALS_Time)\n",
    "\n",
    "now = time.time()\n",
    "annoy_indices_CFi, annoy_distancesi, durationi = get_annoy_results(item_vectors60, number_of_neighbours = 10)\n",
    "annoyt.append(time.time() - now)\n",
    "\n",
    "now = time.time()\n",
    "knn_distances_brutei, knn_indices_brutei = sk_KNN(item_vectors60, number_of_neighbours = 10)\n",
    "knnt.append(time.time() - now)\n",
    "\n",
    "accs.append(calc_acc(annoy_indices_CFi, knn_indices_brutei, 10))\n",
    "ndcgs.append(calc_nDCG(annoy_indices_CFi, knn_indices_brutei, 10))"
   ]
  },
  {
   "cell_type": "code",
   "execution_count": 24,
   "metadata": {},
   "outputs": [
    {
     "name": "stdout",
     "output_type": "stream",
     "text": [
      "View matrix loaded in 5.989086866378784 seconds.\n",
      "Number of users which should be deleted: 1863687\n",
      "Number products which should be deleted: 1308\n",
      "Number of users which should be deleted: 265\n",
      "Number products which should be deleted: 4\n",
      "Number of users which should be deleted: 1\n",
      "Number products which should be deleted: 1\n",
      "Number of users which should be deleted: 0\n",
      "Number products which should be deleted: 0\n",
      "matrix has been made dense in 14.854389190673828 seconds.\n",
      "\n",
      "ALS model is fitted in 316.5426483154297 seconds.\n",
      "Saving Data ...\n",
      "ball_tree time: 4.83540153503418\n"
     ]
    }
   ],
   "source": [
    "sparce_matrix80, implicit_matrix80, item_vectors80, user_vectors80, ALS_Time = \\\n",
    "CFTrain('./chetor.com/view_matrix/lil_matrix.npz', factors = 80)\n",
    "\n",
    "\n",
    "alst.append(ALS_Time)\n",
    "\n",
    "now = time.time()\n",
    "annoy_indices_CFi, annoy_distancesi, durationi = get_annoy_results(item_vectors80, number_of_neighbours = 10)\n",
    "annoyt.append(time.time() - now)\n",
    "\n",
    "now = time.time()\n",
    "knn_distances_brutei, knn_indices_brutei = sk_KNN(item_vectors80, number_of_neighbours = 10)\n",
    "knnt.append(time.time() - now)\n",
    "\n",
    "accs.append(calc_acc(annoy_indices_CFi, knn_indices_brutei, 10))\n",
    "ndcgs.append(calc_nDCG(annoy_indices_CFi, knn_indices_brutei, 10))"
   ]
  },
  {
   "cell_type": "code",
   "execution_count": 25,
   "metadata": {},
   "outputs": [
    {
     "name": "stdout",
     "output_type": "stream",
     "text": [
      "View matrix loaded in 5.91612982749939 seconds.\n",
      "Number of users which should be deleted: 1863687\n",
      "Number products which should be deleted: 1308\n",
      "Number of users which should be deleted: 265\n",
      "Number products which should be deleted: 4\n",
      "Number of users which should be deleted: 1\n",
      "Number products which should be deleted: 1\n",
      "Number of users which should be deleted: 0\n",
      "Number products which should be deleted: 0\n",
      "matrix has been made dense in 15.28990364074707 seconds.\n",
      "\n",
      "ALS model is fitted in 462.81884026527405 seconds.\n",
      "Saving Data ...\n",
      "ball_tree time: 6.870043754577637\n"
     ]
    }
   ],
   "source": [
    "sparce_matrix100, implicit_matrix100, item_vectors100, user_vectors100, ALS_Time = \\\n",
    "CFTrain('./chetor.com/view_matrix/lil_matrix.npz', factors = 100)\n",
    "\n",
    "\n",
    "alst.append(ALS_Time)\n",
    "\n",
    "now = time.time()\n",
    "annoy_indices_CFi, annoy_distancesi, durationi = get_annoy_results(item_vectors100, number_of_neighbours = 10)\n",
    "annoyt.append(time.time() - now)\n",
    "\n",
    "now = time.time()\n",
    "knn_distances_brutei, knn_indices_brutei = sk_KNN(item_vectors100, number_of_neighbours = 10)\n",
    "knnt.append(time.time() - now)\n",
    "\n",
    "accs.append(calc_acc(annoy_indices_CFi, knn_indices_brutei, 10))\n",
    "ndcgs.append(calc_nDCG(annoy_indices_CFi, knn_indices_brutei, 10))"
   ]
  },
  {
   "cell_type": "code",
   "execution_count": 26,
   "metadata": {},
   "outputs": [
    {
     "name": "stdout",
     "output_type": "stream",
     "text": [
      "View matrix loaded in 5.918943166732788 seconds.\n",
      "Number of users which should be deleted: 1863687\n",
      "Number products which should be deleted: 1308\n",
      "Number of users which should be deleted: 265\n",
      "Number products which should be deleted: 4\n",
      "Number of users which should be deleted: 1\n",
      "Number products which should be deleted: 1\n",
      "Number of users which should be deleted: 0\n",
      "Number products which should be deleted: 0\n",
      "matrix has been made dense in 15.120127201080322 seconds.\n",
      "\n",
      "ALS model is fitted in 605.1361429691315 seconds.\n",
      "Saving Data ...\n",
      "ball_tree time: 8.484991788864136\n"
     ]
    }
   ],
   "source": [
    "sparce_matrix120, implicit_matrix120, item_vectors120, user_vectors120, ALS_Time = \\\n",
    "CFTrain('./chetor.com/view_matrix/lil_matrix.npz', factors = 120)\n",
    "\n",
    "alst.append(ALS_Time)\n",
    "\n",
    "now = time.time()\n",
    "annoy_indices_CFi, annoy_distancesi, durationi = get_annoy_results(item_vectors120, number_of_neighbours = 10)\n",
    "annoyt.append(time.time() - now)\n",
    "\n",
    "now = time.time()\n",
    "knn_distances_brutei, knn_indices_brutei = sk_KNN(item_vectors120, number_of_neighbours = 10)\n",
    "knnt.append(time.time() - now)\n",
    "\n",
    "accs.append(calc_acc(annoy_indices_CFi, knn_indices_brutei, 10))\n",
    "ndcgs.append(calc_nDCG(annoy_indices_CFi, knn_indices_brutei, 10))"
   ]
  },
  {
   "cell_type": "code",
   "execution_count": 27,
   "metadata": {},
   "outputs": [
    {
     "name": "stdout",
     "output_type": "stream",
     "text": [
      "View matrix loaded in 5.9740118980407715 seconds.\n",
      "Number of users which should be deleted: 1863687\n",
      "Number products which should be deleted: 1308\n",
      "Number of users which should be deleted: 265\n",
      "Number products which should be deleted: 4\n",
      "Number of users which should be deleted: 1\n",
      "Number products which should be deleted: 1\n",
      "Number of users which should be deleted: 0\n",
      "Number products which should be deleted: 0\n",
      "matrix has been made dense in 14.921702861785889 seconds.\n",
      "\n",
      "ALS model is fitted in 925.0773742198944 seconds.\n",
      "Saving Data ...\n",
      "ball_tree time: 10.247362852096558\n"
     ]
    }
   ],
   "source": [
    "sparce_matrix140, implicit_matrix140, item_vectors140, user_vectors140, ALS_Time = \\\n",
    "CFTrain('./chetor.com/view_matrix/lil_matrix.npz', factors = 140)\n",
    "\n",
    "alst.append(ALS_Time)\n",
    "\n",
    "now = time.time()\n",
    "annoy_indices_CFi, annoy_distancesi, durationi = get_annoy_results(item_vectors140, number_of_neighbours = 10)\n",
    "annoyt.append(time.time() - now)\n",
    "\n",
    "now = time.time()\n",
    "knn_distances_brutei, knn_indices_brutei = sk_KNN(item_vectors140, number_of_neighbours = 10)\n",
    "knnt.append(time.time() - now)\n",
    "\n",
    "accs.append(calc_acc(annoy_indices_CFi, knn_indices_brutei, 10))\n",
    "ndcgs.append(calc_nDCG(annoy_indices_CFi, knn_indices_brutei, 10))"
   ]
  },
  {
   "cell_type": "code",
   "execution_count": 28,
   "metadata": {},
   "outputs": [
    {
     "name": "stdout",
     "output_type": "stream",
     "text": [
      "View matrix loaded in 5.900796175003052 seconds.\n",
      "Number of users which should be deleted: 1863687\n",
      "Number products which should be deleted: 1308\n",
      "Number of users which should be deleted: 265\n",
      "Number products which should be deleted: 4\n",
      "Number of users which should be deleted: 1\n",
      "Number products which should be deleted: 1\n",
      "Number of users which should be deleted: 0\n",
      "Number products which should be deleted: 0\n",
      "matrix has been made dense in 15.255890369415283 seconds.\n",
      "\n",
      "ALS model is fitted in 1268.7510783672333 seconds.\n",
      "Saving Data ...\n",
      "ball_tree time: 11.631413221359253\n"
     ]
    }
   ],
   "source": [
    "sparce_matrix160, implicit_matrix160, item_vectors160, user_vectors160, ALS_Time = \\\n",
    "CFTrain('./chetor.com/view_matrix/lil_matrix.npz', factors = 160)\n",
    "\n",
    "alst.append(ALS_Time)\n",
    "\n",
    "now = time.time()\n",
    "annoy_indices_CFi, annoy_distancesi, durationi = get_annoy_results(item_vectors160, number_of_neighbours = 10)\n",
    "annoyt.append(time.time() - now)\n",
    "\n",
    "now = time.time()\n",
    "knn_distances_brutei, knn_indices_brutei = sk_KNN(item_vectors160, number_of_neighbours = 10)\n",
    "knnt.append(time.time() - now)\n",
    "\n",
    "accs.append(calc_acc(annoy_indices_CFi, knn_indices_brutei, 10))\n",
    "ndcgs.append(calc_nDCG(annoy_indices_CFi, knn_indices_brutei, 10))"
   ]
  },
  {
   "cell_type": "code",
   "execution_count": 29,
   "metadata": {},
   "outputs": [
    {
     "name": "stdout",
     "output_type": "stream",
     "text": [
      "View matrix loaded in 5.911494493484497 seconds.\n",
      "Number of users which should be deleted: 1863687\n",
      "Number products which should be deleted: 1308\n",
      "Number of users which should be deleted: 265\n",
      "Number products which should be deleted: 4\n",
      "Number of users which should be deleted: 1\n",
      "Number products which should be deleted: 1\n",
      "Number of users which should be deleted: 0\n",
      "Number products which should be deleted: 0\n",
      "matrix has been made dense in 15.121493816375732 seconds.\n",
      "\n",
      "ALS model is fitted in 1632.2262499332428 seconds.\n",
      "Saving Data ...\n",
      "ball_tree time: 12.792319059371948\n"
     ]
    }
   ],
   "source": [
    "sparce_matrix180, implicit_matrix180, item_vectors180, user_vectors180, ALS_Time = \\\n",
    "CFTrain('./chetor.com/view_matrix/lil_matrix.npz', factors = 180)\n",
    "\n",
    "alst.append(ALS_Time)\n",
    "\n",
    "now = time.time()\n",
    "annoy_indices_CFi, annoy_distancesi, durationi = get_annoy_results(item_vectors180, number_of_neighbours = 10)\n",
    "annoyt.append(time.time() - now)\n",
    "\n",
    "now = time.time()\n",
    "knn_distances_brutei, knn_indices_brutei = sk_KNN(item_vectors180, number_of_neighbours = 10)\n",
    "knnt.append(time.time() - now)\n",
    "\n",
    "accs.append(calc_acc(annoy_indices_CFi, knn_indices_brutei, 10))\n",
    "ndcgs.append(calc_nDCG(annoy_indices_CFi, knn_indices_brutei, 10))"
   ]
  },
  {
   "cell_type": "code",
   "execution_count": 30,
   "metadata": {},
   "outputs": [
    {
     "name": "stdout",
     "output_type": "stream",
     "text": [
      "View matrix loaded in 5.999379634857178 seconds.\n",
      "Number of users which should be deleted: 1863687\n",
      "Number products which should be deleted: 1308\n",
      "Number of users which should be deleted: 265\n",
      "Number products which should be deleted: 4\n",
      "Number of users which should be deleted: 1\n",
      "Number products which should be deleted: 1\n",
      "Number of users which should be deleted: 0\n",
      "Number products which should be deleted: 0\n",
      "matrix has been made dense in 14.933590650558472 seconds.\n",
      "\n",
      "ALS model is fitted in 2792.90002989769 seconds.\n",
      "Saving Data ...\n",
      "ball_tree time: 14.305928230285645\n"
     ]
    }
   ],
   "source": [
    "sparce_matrix200, implicit_matrix200, item_vectors200, user_vectors200, ALS_Time = \\\n",
    "CFTrain('./chetor.com/view_matrix/lil_matrix.npz', factors = 200)\n",
    "\n",
    "alst.append(ALS_Time)\n",
    "\n",
    "now = time.time()\n",
    "annoy_indices_CFi, annoy_distancesi, durationi = get_annoy_results(item_vectors200, number_of_neighbours = 10)\n",
    "annoyt.append(time.time() - now)\n",
    "\n",
    "now = time.time()\n",
    "knn_distances_brutei, knn_indices_brutei = sk_KNN(item_vectors200, number_of_neighbours = 10)\n",
    "knnt.append(time.time() - now)\n",
    "\n",
    "accs.append(calc_acc(annoy_indices_CFi, knn_indices_brutei, 10))\n",
    "ndcgs.append(calc_nDCG(annoy_indices_CFi, knn_indices_brutei, 10))"
   ]
  },
  {
   "cell_type": "code",
   "execution_count": 31,
   "metadata": {},
   "outputs": [
    {
     "name": "stdout",
     "output_type": "stream",
     "text": [
      "View matrix loaded in 5.90336799621582 seconds.\n",
      "Number of users which should be deleted: 1863687\n",
      "Number products which should be deleted: 1308\n",
      "Number of users which should be deleted: 265\n",
      "Number products which should be deleted: 4\n",
      "Number of users which should be deleted: 1\n",
      "Number products which should be deleted: 1\n",
      "Number of users which should be deleted: 0\n",
      "Number products which should be deleted: 0\n",
      "matrix has been made dense in 15.308510065078735 seconds.\n",
      "\n",
      "ALS model is fitted in 3443.1665573120117 seconds.\n",
      "Saving Data ...\n",
      "ball_tree time: 15.572222232818604\n"
     ]
    }
   ],
   "source": [
    "sparce_matrix220, implicit_matrix220, item_vectors220, user_vectors220, ALS_Time = \\\n",
    "CFTrain('./chetor.com/view_matrix/lil_matrix.npz', factors = 220)\n",
    "\n",
    "alst.append(ALS_Time)\n",
    "\n",
    "now = time.time()\n",
    "annoy_indices_CFi, annoy_distancesi, durationi = get_annoy_results(item_vectors220, number_of_neighbours = 10)\n",
    "annoyt.append(time.time() - now)\n",
    "\n",
    "now = time.time()\n",
    "knn_distances_brutei, knn_indices_brutei = sk_KNN(item_vectors220, number_of_neighbours = 10)\n",
    "knnt.append(time.time() - now)\n",
    "\n",
    "accs.append(calc_acc(annoy_indices_CFi, knn_indices_brutei, 10))\n",
    "ndcgs.append(calc_nDCG(annoy_indices_CFi, knn_indices_brutei, 10))"
   ]
  },
  {
   "cell_type": "code",
   "execution_count": 32,
   "metadata": {},
   "outputs": [
    {
     "name": "stdout",
     "output_type": "stream",
     "text": [
      "View matrix loaded in 5.900949716567993 seconds.\n",
      "Number of users which should be deleted: 1863687\n",
      "Number products which should be deleted: 1308\n",
      "Number of users which should be deleted: 265\n",
      "Number products which should be deleted: 4\n",
      "Number of users which should be deleted: 1\n",
      "Number products which should be deleted: 1\n",
      "Number of users which should be deleted: 0\n",
      "Number products which should be deleted: 0\n",
      "matrix has been made dense in 15.164297342300415 seconds.\n",
      "\n",
      "ALS model is fitted in 3938.202852010727 seconds.\n",
      "Saving Data ...\n",
      "ball_tree time: 16.91199517250061\n"
     ]
    }
   ],
   "source": [
    "sparce_matrix240, implicit_matrix240, item_vectors240, user_vectors240, ALS_Time = \\\n",
    "CFTrain('./chetor.com/view_matrix/lil_matrix.npz', factors = 240)\n",
    "\n",
    "alst.append(ALS_Time)\n",
    "\n",
    "now = time.time()\n",
    "annoy_indices_CFi, annoy_distancesi, durationi = get_annoy_results(item_vectors240, number_of_neighbours = 10)\n",
    "annoyt.append(time.time() - now)\n",
    "\n",
    "now = time.time()\n",
    "knn_distances_brutei, knn_indices_brutei = sk_KNN(item_vectors240, number_of_neighbours = 10)\n",
    "knnt.append(time.time() - now)\n",
    "\n",
    "accs.append(calc_acc(annoy_indices_CFi, knn_indices_brutei, 10))\n",
    "ndcgs.append(calc_nDCG(annoy_indices_CFi, knn_indices_brutei, 10))"
   ]
  },
  {
   "cell_type": "code",
   "execution_count": 33,
   "metadata": {},
   "outputs": [
    {
     "name": "stdout",
     "output_type": "stream",
     "text": [
      "View matrix loaded in 5.862349987030029 seconds.\n",
      "Number of users which should be deleted: 1863687\n",
      "Number products which should be deleted: 1308\n",
      "Number of users which should be deleted: 265\n",
      "Number products which should be deleted: 4\n",
      "Number of users which should be deleted: 1\n",
      "Number products which should be deleted: 1\n",
      "Number of users which should be deleted: 0\n",
      "Number products which should be deleted: 0\n",
      "matrix has been made dense in 14.86496877670288 seconds.\n",
      "\n",
      "ALS model is fitted in 5775.3356420993805 seconds.\n",
      "Saving Data ...\n",
      "ball_tree time: 18.200908660888672\n"
     ]
    }
   ],
   "source": [
    "sparce_matrix260, implicit_matrix260, item_vectors260, user_vectors260, ALS_Time = \\\n",
    "CFTrain('./chetor.com/view_matrix/lil_matrix.npz', factors = 260)\n",
    "\n",
    "alst.append(ALS_Time)\n",
    "\n",
    "now = time.time()\n",
    "annoy_indices_CFi, annoy_distancesi, durationi = get_annoy_results(item_vectors260, number_of_neighbours = 10)\n",
    "annoyt.append(time.time() - now)\n",
    "\n",
    "now = time.time()\n",
    "knn_distances_brutei, knn_indices_brutei = sk_KNN(item_vectors260, number_of_neighbours = 10)\n",
    "knnt.append(time.time() - now)\n",
    "\n",
    "accs.append(calc_acc(annoy_indices_CFi, knn_indices_brutei, 10))\n",
    "ndcgs.append(calc_nDCG(annoy_indices_CFi, knn_indices_brutei, 10))"
   ]
  },
  {
   "cell_type": "code",
   "execution_count": 34,
   "metadata": {},
   "outputs": [
    {
     "name": "stdout",
     "output_type": "stream",
     "text": [
      "View matrix loaded in 5.851789951324463 seconds.\n",
      "Number of users which should be deleted: 1863687\n",
      "Number products which should be deleted: 1308\n",
      "Number of users which should be deleted: 265\n",
      "Number products which should be deleted: 4\n",
      "Number of users which should be deleted: 1\n",
      "Number products which should be deleted: 1\n",
      "Number of users which should be deleted: 0\n",
      "Number products which should be deleted: 0\n",
      "matrix has been made dense in 15.314847469329834 seconds.\n",
      "\n",
      "ALS model is fitted in 6518.397986412048 seconds.\n",
      "Saving Data ...\n",
      "ball_tree time: 19.272705554962158\n"
     ]
    }
   ],
   "source": [
    "sparce_matrix280, implicit_matrix280, item_vectors280, user_vectors280, ALS_Time = \\\n",
    "CFTrain('./chetor.com/view_matrix/lil_matrix.npz', factors = 280)\n",
    "\n",
    "alst.append(ALS_Time)\n",
    "\n",
    "now = time.time()\n",
    "annoy_indices_CFi, annoy_distancesi, durationi = get_annoy_results(item_vectors280, number_of_neighbours = 10)\n",
    "annoyt.append(time.time() - now)\n",
    "\n",
    "now = time.time()\n",
    "knn_distances_brutei, knn_indices_brutei = sk_KNN(item_vectors280, number_of_neighbours = 10)\n",
    "knnt.append(time.time() - now)\n",
    "\n",
    "accs.append(calc_acc(annoy_indices_CFi, knn_indices_brutei, 10))\n",
    "ndcgs.append(calc_nDCG(annoy_indices_CFi, knn_indices_brutei, 10))"
   ]
  },
  {
   "cell_type": "code",
   "execution_count": 35,
   "metadata": {},
   "outputs": [
    {
     "name": "stdout",
     "output_type": "stream",
     "text": [
      "[5.996794939041138, 7.966770648956299, 9.85126805305481, 10.886379718780518, 14.326808214187622, 19.013908624649048, 87.1367871761322, 89.216548204422, 111.91834664344788, 145.30138635635376, 316.54264545440674, 462.8188376426697, 605.1361405849457, 925.0773725509644, 1268.7510752677917, 1632.2262470722198, 2792.900027990341, 3443.16655421257, 3938.202849149704, 5775.33563876152, 6518.397983074188]\n",
      "[0.43730664253234863, 0.39748311042785645, 0.42919206619262695, 0.39527463912963867, 0.36992383003234863, 0.38253331184387207, 0.3278474807739258, 0.31162357330322266, 0.3213789463043213, 0.34222912788391113, 0.3293783664703369, 0.36707448959350586, 0.3823685646057129, 0.4134972095489502, 0.4327254295349121, 0.47090649604797363, 0.5074958801269531, 0.5322380065917969, 0.5534987449645996, 0.5882666110992432, 0.5951831340789795]\n",
      "[0.29407739639282227, 0.5717000961303711, 0.7858848571777344, 1.0015788078308105, 1.3876926898956299, 1.4629156589508057, 1.780263900756836, 1.8689532279968262, 2.3549396991729736, 2.835893392562866, 4.83559250831604, 6.870241641998291, 8.485183954238892, 10.247577667236328, 11.631800174713135, 12.792507886886597, 14.306119441986084, 15.57241940498352, 16.912192821502686, 18.201318979263306, 19.272898197174072]\n",
      "[0.12899681708755434, 0.1914917680513144, 0.2232724217601344, 0.24897807506503158, 0.2592700305365712, 0.26972355516778956, 0.27848060362238053, 0.2828429709337082, 0.29437900893477453, 0.30013087101933983, 0.3119900473397638, 0.32291212253405077, 0.329197162845556, 0.3388428416783804, 0.3399091981322605, 0.3464850629311877, 0.3538687735285089, 0.3483754220994297, 0.34769683162877874, 0.34890860032636967, 0.35031425201557526]\n",
      "[0.10859496420945756, 0.16189970455395755, 0.18886945829354101, 0.2106171221455655, 0.21939814024442525, 0.22790707341218874, 0.23549941048010084, 0.2392476705154324, 0.24885918852088768, 0.2537515924630652, 0.26402601200440023, 0.27350886608362435, 0.2788857047901908, 0.28768331832165983, 0.2891417914222795, 0.2948559556045356, 0.30118217608899234, 0.2972223986509708, 0.29711104969739355, 0.29831149245917316, 0.2997347033869963]\n"
     ]
    }
   ],
   "source": [
    "print(alst)\n",
    "print(annoyt)\n",
    "print(knnt)\n",
    "print(accs)\n",
    "print(ndcgs)"
   ]
  },
  {
   "cell_type": "code",
   "execution_count": null,
   "metadata": {},
   "outputs": [],
   "source": []
  },
  {
   "cell_type": "code",
   "execution_count": null,
   "metadata": {},
   "outputs": [],
   "source": [
    "alst = [7.289317607879639, 9.750426769256592, 14.307723760604858, 25.630435466766357, 141.31052207946777, 245.95699858665466, 531.0659351348877, 1182.7597563266754, 889.0909335613251, 2246.1444799900055]\n",
    "annoyt = [4.7668375968933105, 3.9713222980499268, 3.6236677169799805, 3.494922161102295, 2.913334369659424, 3.168506622314453, 2.6421518325805664, 2.6659493446350098, 3.134293794631958, 3.1395812034606934]\n",
    "knnt = [0.3691706657409668, 0.6302402019500732, 1.2295241355895996, 1.8892674446105957, 2.3320982456207275, 5.420377492904663, 6.786769866943359, 7.923229217529297, 17.07801127433777, 14.070316791534424]\n",
    "accs = [0.12670253502011536, 0.19889163556460343, 0.24400174494692453, 0.2736335288320165, 0.2908244874218409, 0.31389656342397365, 0.3343996897872134, 0.34385148562842327, 0.3570032152262776, 0.36887854846266943]\n",
    "ndcgs = [0.10664456717637862, 0.16809047723368792, 0.206169213939166, 0.23102143279005524, 0.24551619649065584, 0.26460049649718315, 0.2816905352556345, 0.2899726504051018, 0.3008974967463259, 0.3109966588301528]"
   ]
  },
  {
   "cell_type": "code",
   "execution_count": 42,
   "metadata": {},
   "outputs": [
    {
     "data": {
      "text/plain": [
       "<matplotlib.legend.Legend at 0x7faa25caa3a0>"
      ]
     },
     "execution_count": 42,
     "metadata": {},
     "output_type": "execute_result"
    },
    {
     "data": {
      "image/png": "[encoded data removed]",
      "text/plain": [
       "<Figure size 432x288 with 1 Axes>"
      ]
     },
     "metadata": {
      "needs_background": "light"
     },
     "output_type": "display_data"
    }
   ],
   "source": [
    "features = [5, 10, 15, 20, 25, 30, 35, 40, 50, 60, 80, 100, 120, 140, 160, 180, 200, 220, 240, 260, 280]\n",
    "plt.plot(features, knnt, label = 'SK-learn KNN')\n",
    "plt.plot(features, annoyt, label = 'Annoy')\n",
    "plt.xlabel('# features')\n",
    "plt.ylabel('Time (seconds)')\n",
    "plt.legend(loc=\"upper left\")"
   ]
  },
  {
   "cell_type": "code",
   "execution_count": 43,
   "metadata": {},
   "outputs": [
    {
     "data": {
      "text/plain": [
       "<matplotlib.legend.Legend at 0x7fa9f3fbbdf0>"
      ]
     },
     "execution_count": 43,
     "metadata": {},
     "output_type": "execute_result"
    },
    {
     "data": {
      "image/png": "[encoded data removed]",
      "text/plain": [
       "<Figure size 432x288 with 1 Axes>"
      ]
     },
     "metadata": {
      "needs_background": "light"
     },
     "output_type": "display_data"
    }
   ],
   "source": [
    "features = [5, 10, 15, 20, 25, 30, 35, 40, 50, 60, 80, 100, 120, 140, 160, 180, 200, 220, 240, 260, 280]\n",
    "plt.plot(features, 6378/np.array(knnt), label = 'SK-learn KNN')\n",
    "plt.plot(features, 6378/np.array(annoyt), label = 'Annoy')\n",
    "plt.xlabel('# features')\n",
    "plt.ylabel('Recommendations per second')\n",
    "plt.legend(loc=\"upper right\")"
   ]
  },
  {
   "cell_type": "markdown",
   "metadata": {},
   "source": [
    "## acc-time-#features"
   ]
  },
  {
   "cell_type": "code",
   "execution_count": 84,
   "metadata": {},
   "outputs": [
    {
     "data": {
      "image/png": "[encoded data removed]",
      "text/plain": [
       "<Figure size 432x288 with 1 Axes>"
      ]
     },
     "metadata": {
      "needs_background": "light"
     },
     "output_type": "display_data"
    }
   ],
   "source": [
    "att = 6378/np.array(annoyt)\n",
    "plt.plot(accs, att)\n",
    "plt.ylabel(\"Recommendations per second\")\n",
    "plt.xlabel(\"accuracy\")\n",
    "for i in [0,2,4,8]:\n",
    "    plt.annotate(\n",
    "            str(features[i]) + \" features\",\n",
    "            xy=(accs[i], att[i]), xytext=(-20, 30),\n",
    "            textcoords='offset points', ha='left', va='top',\n",
    "            bbox=dict(boxstyle='round,pad=0.5', fc='yellow', alpha=0.4),\n",
    "            arrowprops=dict(arrowstyle = '->', connectionstyle='arc3,rad=0'))"
   ]
  },
  {
   "cell_type": "code",
   "execution_count": 85,
   "metadata": {},
   "outputs": [
    {
     "data": {
      "image/png": "[encoded data removed]",
      "text/plain": [
       "<Figure size 432x288 with 1 Axes>"
      ]
     },
     "metadata": {
      "needs_background": "light"
     },
     "output_type": "display_data"
    }
   ],
   "source": [
    "att = 6378/np.array(annoyt)\n",
    "plt.plot(ndcgs, att)\n",
    "plt.ylabel(\"Recommendations per second\")\n",
    "plt.xlabel(\"NDCG\")\n",
    "for i in [0,2,4,8]:\n",
    "    plt.annotate(\n",
    "            str(features[i]) + \" features\",\n",
    "            xy=(ndcgs[i], att[i]), xytext=(-20, 30),\n",
    "            textcoords='offset points', ha='left', va='top',\n",
    "            bbox=dict(boxstyle='round,pad=0.5', fc='yellow', alpha=0.4),\n",
    "            arrowprops=dict(arrowstyle = '->', connectionstyle='arc3,rad=0'))"
   ]
  },
  {
   "cell_type": "markdown",
   "metadata": {},
   "source": [
    "## Precision Recall @k and MAE"
   ]
  },
  {
   "cell_type": "code",
   "execution_count": 28,
   "metadata": {},
   "outputs": [
    {
     "data": {
      "text/plain": [
       "19.879060983657837"
      ]
     },
     "execution_count": 28,
     "metadata": {},
     "output_type": "execute_result"
    }
   ],
   "source": [
    "now = time.time()\n",
    "aproximated_matrix = np.matmul(user_vectors, np.transpose(item_vectors))\n",
    "time.time() - now"
   ]
  },
  {
   "cell_type": "code",
   "execution_count": 30,
   "metadata": {},
   "outputs": [
    {
     "data": {
      "text/plain": [
       "232.96968388557434"
      ]
     },
     "execution_count": 30,
     "metadata": {},
     "output_type": "execute_result"
    }
   ],
   "source": [
    "start = time.time()\n",
    "# implicit_matrix = implicit_matrix.toarray()\n",
    "absolute_error = abs(aproximated_matrix - implicit_matrix)\n",
    "time.time() - start"
   ]
  },
  {
   "cell_type": "code",
   "execution_count": 31,
   "metadata": {},
   "outputs": [
    {
     "data": {
      "text/plain": [
       "71.03863096237183"
      ]
     },
     "execution_count": 31,
     "metadata": {},
     "output_type": "execute_result"
    }
   ],
   "source": [
    "start = time.time()\n",
    "MAE = absolute_error.mean()\n",
    "time.time() - start"
   ]
  },
  {
   "cell_type": "code",
   "execution_count": 32,
   "metadata": {},
   "outputs": [
    {
     "data": {
      "text/plain": [
       "0.009043916284864414"
      ]
     },
     "execution_count": 32,
     "metadata": {},
     "output_type": "execute_result"
    }
   ],
   "source": [
    "MAE"
   ]
  },
  {
   "cell_type": "code",
   "execution_count": 27,
   "metadata": {},
   "outputs": [
    {
     "name": "stderr",
     "output_type": "stream",
     "text": [
      "100%|██████████| 233197/233197 [18:19<00:00, 212.01it/s]\n"
     ]
    }
   ],
   "source": [
    "idk = []\n",
    "for i in tqdm(range(len(implicit_matrix))):\n",
    "    temp = []\n",
    "    for j in range(len(implicit_matrix[i])):\n",
    "        if implicit_matrix[i][j] > 0:\n",
    "            temp.append((implicit_matrix[i][j], j))\n",
    "    idk.append(temp)"
   ]
  },
  {
   "cell_type": "code",
   "execution_count": 41,
   "metadata": {},
   "outputs": [
    {
     "name": "stderr",
     "output_type": "stream",
     "text": [
      "100%|██████████| 233197/233197 [15:20<00:00, 253.30it/s]\n"
     ]
    }
   ],
   "source": [
    "idk2 = []\n",
    "for i in tqdm(range(len(aproximated_matrix))):\n",
    "    temp = []\n",
    "    for j in range(len(aproximated_matrix[i])):\n",
    "        if aproximated_matrix[i][j] > 0.3:\n",
    "            temp.append((aproximated_matrix[i][j], j))\n",
    "    idk2.append(temp)"
   ]
  },
  {
   "cell_type": "code",
   "execution_count": 80,
   "metadata": {},
   "outputs": [
    {
     "name": "stderr",
     "output_type": "stream",
     "text": [
      "100%|██████████| 233197/233197 [00:00<00:00, 263142.36it/s]\n"
     ]
    }
   ],
   "source": [
    "for i in tqdm(range(len(idk2))):\n",
    "    idk2[i] = sorted(idk2[i], key=lambda x: x[0], reverse=True)"
   ]
  },
  {
   "cell_type": "code",
   "execution_count": 86,
   "metadata": {},
   "outputs": [],
   "source": [
    "def Precision_recall_at_k(idk2, idk, k):\n",
    "    users_visited_indeces = \\\n",
    "    [[i[1] for i in idk[j]] for j in range(len(idk))]\n",
    "#     print(users_visited_indeces[0:10])\n",
    "    recommended_relevant = []\n",
    "    relevants = []\n",
    "    for i in range(len(idk2)):\n",
    "        temp = 0\n",
    "        if len(idk2[i]) >= k and len(users_visited_indeces[i]) >= k:\n",
    "            for j in range(len(idk2[i][0:k+1])):\n",
    "                if idk2[i][j][1] in users_visited_indeces[i]:\n",
    "                    temp += 1\n",
    "            recommended_relevant.append(temp)\n",
    "            relevants.append(len(users_visited_indeces[i]))\n",
    "    p = (np.array(recommended_relevant) / k).mean()\n",
    "    r = []\n",
    "    for i in zip(recommended_relevant, relevants):\n",
    "        r.append(i[0]/i[1])\n",
    "    r = np.array(r).mean()\n",
    "    return p, r"
   ]
  },
  {
   "cell_type": "code",
   "execution_count": 87,
   "metadata": {},
   "outputs": [
    {
     "name": "stdout",
     "output_type": "stream",
     "text": [
      "k = 1 (0.7186354499231405, 0.3132991983320419)\n",
      "k = 2 (0.45802332358454406, 0.39563191122090663)\n",
      "k = 3 (0.3964406552864489, 0.33340775120759264)\n",
      "k = 4 (0.3518457896857373, 0.28333117710725014)\n",
      "k = 5 (0.3264939622252039, 0.2523960932844422)\n",
      "k = 6 (0.31026053776903356, 0.231139391231143)\n",
      "k = 7 (0.30018033558099416, 0.2186396367495723)\n",
      "k = 8 (0.29234575087310827, 0.20980850487899763)\n",
      "k = 9 (0.2872784150156413, 0.204103039836464)\n",
      "k = 10 (0.2821524064171123, 0.1993732143623082)\n",
      "k = 11 (0.27719190208605954, 0.1940893510669637)\n",
      "k = 12 (0.2746406570841889, 0.19230763612031124)\n",
      "k = 13 (0.2700897117770567, 0.18766172434375045)\n",
      "k = 14 (0.2647549530761209, 0.1844010920044037)\n",
      "k = 15 (0.25830429732868754, 0.17646792331281605)\n",
      "k = 16 (0.2542162698412698, 0.17401698465680013)\n",
      "k = 17 (0.24929360390444388, 0.17363907796836417)\n",
      "k = 18 (0.244718792866941, 0.17004162464521388)\n",
      "k = 19 (0.24428718855963436, 0.1696894556403601)\n"
     ]
    }
   ],
   "source": [
    "for k in range(1, 20):\n",
    "    print('k =', k, Precision_recall_at_k(idk2, idk, k))"
   ]
  },
  {
   "cell_type": "markdown",
   "metadata": {},
   "source": [
    "## popularity bias wrt alg"
   ]
  },
  {
   "cell_type": "code",
   "execution_count": 178,
   "metadata": {},
   "outputs": [],
   "source": [
    "def CFTrain2(path: str, _alpha = 15, factors = 20):\n",
    "    now = time.time()\n",
    "    matrix = ViewMatrix.load_matrix(path)\n",
    "    print('View matrix loaded in', time.time() - now, 'seconds.')\n",
    "\n",
    "    now = time.time()\n",
    "    sparce_matrix = matrix.to_csr()\n",
    "    matrix.make_dense(user_min_view = 1, \n",
    "                      item_min_view = 1)\n",
    "    print('matrix has been made dense in', time.time() - now, 'seconds.')\n",
    "\n",
    "    als_model = ALS.Als(num_factors = factors,\n",
    "                        iterations = 15,\n",
    "                        num_threads = 15,\n",
    "                        alpha = _alpha)\n",
    "\n",
    "    implicit_matrix = matrix.to_csr()\n",
    "\n",
    "    print()\n",
    "    now = time.time()\n",
    "    als_model.fit(implicit_matrix)\n",
    "    alsTime = time.time() - now\n",
    "    print('ALS model is fitted in', time.time() - now, 'seconds.')\n",
    "    \n",
    "    print('Saving Data ...')\n",
    "    matrix.item_indexer.dump('./chetor.com/alisResult/ali_item_indexer_factorized.indexer')\n",
    "    matrix.user_indexer.dump('./chetor.com/alisResult/ali_user_indexer_factorized.indexer')\n",
    "    np.save('./chetor.com/alisResult/ali_items_vectors.npy', als_model.item_vectors)\n",
    "    np.save('./chetor.com/alisResult/ali_users_vectors.npy', als_model.user_vectors)\n",
    "    \n",
    "    return sparce_matrix, implicit_matrix, als_model.item_vectors, als_model.user_vectors, alsTime"
   ]
  },
  {
   "cell_type": "code",
   "execution_count": 132,
   "metadata": {},
   "outputs": [
    {
     "name": "stdout",
     "output_type": "stream",
     "text": [
      "View matrix loaded in 8.806686878204346 seconds.\n",
      "Number of users which should be deleted: 1863687\n",
      "Number products which should be deleted: 1308\n",
      "Number of users which should be deleted: 265\n",
      "Number products which should be deleted: 4\n",
      "Number of users which should be deleted: 1\n",
      "Number products which should be deleted: 1\n",
      "Number of users which should be deleted: 0\n",
      "Number products which should be deleted: 0\n",
      "matrix has been made dense in 26.60288381576538 seconds.\n",
      "\n",
      "ALS model is fitted in 17.589404106140137 seconds.\n",
      "Saving Data ...\n"
     ]
    }
   ],
   "source": [
    "sparce_matrix, implicit_matrix, item_vectors, user_vectors, alsTime = \\\n",
    "CFTrain2('./chetor.com/view_matrix/lil_matrix.npz', factors = 20, _alpha = 1)"
   ]
  },
  {
   "cell_type": "code",
   "execution_count": 166,
   "metadata": {},
   "outputs": [],
   "source": [
    "implicit_matrix = implicit_matrix.toarray()"
   ]
  },
  {
   "cell_type": "code",
   "execution_count": 167,
   "metadata": {},
   "outputs": [
    {
     "name": "stderr",
     "output_type": "stream",
     "text": [
      "6877it [00:57, 118.72it/s]\n"
     ]
    }
   ],
   "source": [
    "popularity_count = {}\n",
    "for i, j in tqdm(enumerate(implicit_matrix.T)):\n",
    "    popularity_count[i] = np.greater(j, 0).sum()"
   ]
  },
  {
   "cell_type": "code",
   "execution_count": 168,
   "metadata": {},
   "outputs": [],
   "source": [
    "site_trend = {k: v for k, v in sorted(popularity_count.items(), key=lambda item: item[1], reverse = True)}"
   ]
  },
  {
   "cell_type": "code",
   "execution_count": 169,
   "metadata": {},
   "outputs": [
    {
     "data": {
      "text/plain": [
       "6877"
      ]
     },
     "execution_count": 169,
     "metadata": {},
     "output_type": "execute_result"
    }
   ],
   "source": [
    "len(site_trend)"
   ]
  },
  {
   "cell_type": "code",
   "execution_count": 170,
   "metadata": {},
   "outputs": [],
   "source": [
    "pop = []\n",
    "item = []\n",
    "for i, j in site_trend.items():\n",
    "    pop.append(j)\n",
    "    item.append(i)"
   ]
  },
  {
   "cell_type": "code",
   "execution_count": 171,
   "metadata": {},
   "outputs": [
    {
     "data": {
      "text/plain": [
       "[<matplotlib.lines.Line2D at 0x18e1d3b50>]"
      ]
     },
     "execution_count": 171,
     "metadata": {},
     "output_type": "execute_result"
    },
    {
     "data": {
      "image/png": "[encoded data removed]",
      "text/plain": [
       "<Figure size 432x288 with 1 Axes>"
      ]
     },
     "metadata": {},
     "output_type": "display_data"
    }
   ],
   "source": [
    "plt.plot(pop[3:])"
   ]
  },
  {
   "cell_type": "code",
   "execution_count": 172,
   "metadata": {},
   "outputs": [
    {
     "name": "stdout",
     "output_type": "stream",
     "text": [
      "annoy time: 5.80443811416626\n"
     ]
    }
   ],
   "source": [
    "ind, dis, d = get_annoy_results(item_vectors, number_of_neighbours = 30)\n",
    "ind2 = []\n",
    "for i in ind:\n",
    "    ind2.append(i[1:])"
   ]
  },
  {
   "cell_type": "code",
   "execution_count": 173,
   "metadata": {},
   "outputs": [],
   "source": [
    "ind2 = np.array(list((np.array(ind2)).flatten()))"
   ]
  },
  {
   "cell_type": "code",
   "execution_count": 157,
   "metadata": {},
   "outputs": [],
   "source": [
    "knn_indices_brutei_st = np.array(list((np.array(knn_indices_brutei_st)).flatten()))"
   ]
  },
  {
   "cell_type": "code",
   "execution_count": 174,
   "metadata": {},
   "outputs": [],
   "source": [
    "res = []\n",
    "for i in item:\n",
    "    res.append(np.equal(ind2, i).sum())"
   ]
  },
  {
   "cell_type": "code",
   "execution_count": 159,
   "metadata": {},
   "outputs": [],
   "source": [
    "def a(s):\n",
    "    r = []\n",
    "    for i in range(len(s)-500):\n",
    "        r.append(np.array(s[i:i+500]).mean())\n",
    "    return r"
   ]
  },
  {
   "cell_type": "code",
   "execution_count": 177,
   "metadata": {},
   "outputs": [
    {
     "data": {
      "text/plain": [
       "[<matplotlib.lines.Line2D at 0x18608c690>]"
      ]
     },
     "execution_count": 177,
     "metadata": {},
     "output_type": "execute_result"
    },
    {
     "data": {
      "image/png": "[encoded data removed]",
      "text/plain": [
       "<Figure size 432x288 with 1 Axes>"
      ]
     },
     "metadata": {},
     "output_type": "display_data"
    }
   ],
   "source": [
    "res = a(res)\n",
    "plt.plot(res)"
   ]
  },
  {
   "cell_type": "code",
   "execution_count": null,
   "metadata": {},
   "outputs": [],
   "source": []
  }
 ],
 "metadata": {
  "kernelspec": {
   "display_name": "Python 3",
   "language": "python",
   "name": "python3"
  },
  "language_info": {
   "codemirror_mode": {
    "name": "ipython",
    "version": 3
   },
   "file_extension": ".py",
   "mimetype": "text/x-python",
   "name": "python",
   "nbconvert_exporter": "python",
   "pygments_lexer": "ipython3",
   "version": "3.8.5"
  }
 },
 "nbformat": 4,
 "nbformat_minor": 2
}
