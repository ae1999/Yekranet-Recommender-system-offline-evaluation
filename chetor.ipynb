{
 "cells": [
  {
   "cell_type": "code",
   "execution_count": 1,
   "metadata": {},
   "outputs": [],
   "source": [
    "import pandas as pd\n",
    "import numpy as np\n",
    "import matplotlib.pyplot as plt\n",
    "from matplotlib import colors\n",
    "from matplotlib.ticker import PercentFormatter\n",
    "from tqdm import tqdm\n",
    "\n",
    "import timeit\n",
    "import time\n",
    "import math\n",
    "\n",
    "# ./indexer\n",
    "from indexer import AppendIndexer\n",
    "import ALS\n",
    "\n",
    "# Annoy\n",
    "from annoy import AnnoyIndex\n",
    "\n",
    "#SKLearn \n",
    "from sklearn.neighbors import NearestNeighbors\n",
    "from sklearn.metrics import average_precision_score\n",
    "from sklearn.metrics import pairwise_distances\n",
    "\n",
    "# scipy\n",
    "from scipy.spatial import distance\n",
    "from scipy.sparse import lil_matrix"
   ]
  },
  {
   "cell_type": "code",
   "execution_count": 2,
   "metadata": {},
   "outputs": [],
   "source": [
    "def calc_acc(annoy_indices, knn_indices, k):\n",
    "    aa = []\n",
    "    for i in range(len(annoy_indices)):\n",
    "        b = []\n",
    "        for j in annoy_indices[i][1:]:\n",
    "            if j in knn_indices[i][:k]:\n",
    "                b.append(1)\n",
    "            else:\n",
    "                b.append(0)\n",
    "        aa.append(b)\n",
    "    res2 = []\n",
    "    for a in aa:\n",
    "        acc2 = 0\n",
    "        for i in range(len(a)):\n",
    "            acc2 += a[i]\n",
    "        if not len(a):\n",
    "            res2.append(0)\n",
    "        else:\n",
    "            res2.append(acc2/len(a))\n",
    "    return np.array(res2).mean()\n",
    "def calc_nDCG(annoy_indices, knn_indices, k, discount = 3):\n",
    "    aa = []\n",
    "    for i in range(len(annoy_indices)):\n",
    "        b = []\n",
    "        for j in annoy_indices[i][1:]:\n",
    "            if j in knn_indices[i][:k]:\n",
    "                b.append(1)\n",
    "            else:\n",
    "                b.append(0)\n",
    "        aa.append(b)\n",
    "    res = []\n",
    "    for a in aa:\n",
    "        acc = 0\n",
    "        for i in range(len(a)):\n",
    "            acc += a[i]/math.log(i+7, 7)\n",
    "        if not len(a):\n",
    "            res.append(0)\n",
    "        else:\n",
    "            res.append(acc/len(a))\n",
    "    return np.array(res).mean()\n"
   ]
  },
  {
   "cell_type": "markdown",
   "metadata": {},
   "source": [
    "## loading data"
   ]
  },
  {
   "cell_type": "code",
   "execution_count": 3,
   "metadata": {},
   "outputs": [
    {
     "data": {
      "text/html": [
       "<div>\n",
       "<style scoped>\n",
       "    .dataframe tbody tr th:only-of-type {\n",
       "        vertical-align: middle;\n",
       "    }\n",
       "\n",
       "    .dataframe tbody tr th {\n",
       "        vertical-align: top;\n",
       "    }\n",
       "\n",
       "    .dataframe thead th {\n",
       "        text-align: right;\n",
       "    }\n",
       "</style>\n",
       "<table border=\"1\" class=\"dataframe\">\n",
       "  <thead>\n",
       "    <tr style=\"text-align: right;\">\n",
       "      <th></th>\n",
       "      <th>id</th>\n",
       "      <th>created</th>\n",
       "      <th>content_vector</th>\n",
       "      <th>title</th>\n",
       "      <th>cleaned_url</th>\n",
       "      <th>website_id</th>\n",
       "      <th>included</th>\n",
       "      <th>is_amp</th>\n",
       "      <th>has_image_meta</th>\n",
       "      <th>has_title_meta</th>\n",
       "      <th>page_id</th>\n",
       "      <th>subdomain_id</th>\n",
       "      <th>title_vector</th>\n",
       "      <th>image_id</th>\n",
       "      <th>cats</th>\n",
       "    </tr>\n",
       "  </thead>\n",
       "  <tbody>\n",
       "    <tr>\n",
       "      <th>0</th>\n",
       "      <td>2177439</td>\n",
       "      <td>2020-08-09 04:51:12.676435+04:30</td>\n",
       "      <td>{0.52510529756546,-0.51316374540329,-0.3844181...</td>\n",
       "      <td>وردپرس › خطا</td>\n",
       "      <td>chetor.com/</td>\n",
       "      <td>1</td>\n",
       "      <td>f</td>\n",
       "      <td>f</td>\n",
       "      <td>f</td>\n",
       "      <td>f</td>\n",
       "      <td>148948</td>\n",
       "      <td>336</td>\n",
       "      <td>{-0.90155690908432,-1.60752034187317,0.1689879...</td>\n",
       "      <td>1015133.0</td>\n",
       "      <td>{}</td>\n",
       "    </tr>\n",
       "    <tr>\n",
       "      <th>1</th>\n",
       "      <td>973115</td>\n",
       "      <td>2020-08-09 03:50:47.939727+04:30</td>\n",
       "      <td>{-0.111537165939808,0.314831465482712,-0.60968...</td>\n",
       "      <td>تبلیغات در وب سایت چطور | چطور</td>\n",
       "      <td>chetor.com/%D8%AA%D8%A8%D9%84%DB%8C%D8%BA%D8%A...</td>\n",
       "      <td>1</td>\n",
       "      <td>t</td>\n",
       "      <td>f</td>\n",
       "      <td>f</td>\n",
       "      <td>t</td>\n",
       "      <td>27016495</td>\n",
       "      <td>336</td>\n",
       "      <td>{-1.89593696594238,0.659652948379517,-0.852037...</td>\n",
       "      <td>NaN</td>\n",
       "      <td>{}</td>\n",
       "    </tr>\n",
       "    <tr>\n",
       "      <th>2</th>\n",
       "      <td>975692</td>\n",
       "      <td>2020-08-09 03:50:49.22613+04:30</td>\n",
       "      <td>{0.628654301166534,-0.548453748226166,-0.25651...</td>\n",
       "      <td>همکاری با ما | چطور</td>\n",
       "      <td>chetor.com/%D9%87%D9%85%DA%A9%D8%A7%D8%B1%DB%8...</td>\n",
       "      <td>1</td>\n",
       "      <td>t</td>\n",
       "      <td>f</td>\n",
       "      <td>f</td>\n",
       "      <td>t</td>\n",
       "      <td>27004594</td>\n",
       "      <td>336</td>\n",
       "      <td>{-2.04737234115601,2.28955912590027,-2.1406197...</td>\n",
       "      <td>333341.0</td>\n",
       "      <td>{}</td>\n",
       "    </tr>\n",
       "    <tr>\n",
       "      <th>3</th>\n",
       "      <td>2144818</td>\n",
       "      <td>2020-08-09 04:49:41.361098+04:30</td>\n",
       "      <td>{0.350972026586533,-0.0532753616571426,-0.2103...</td>\n",
       "      <td>چرا باید توسعه فردی را جدی بگیرید؟- چطور</td>\n",
       "      <td>chetor.com/100-%DA%86%D8%B1%D8%A7-%D8%A8%D8%A7...</td>\n",
       "      <td>1</td>\n",
       "      <td>t</td>\n",
       "      <td>f</td>\n",
       "      <td>f</td>\n",
       "      <td>f</td>\n",
       "      <td>5274753</td>\n",
       "      <td>336</td>\n",
       "      <td>{2.27225732803345,0.7027268409729,0.4857064485...</td>\n",
       "      <td>599277.0</td>\n",
       "      <td>{}</td>\n",
       "    </tr>\n",
       "    <tr>\n",
       "      <th>4</th>\n",
       "      <td>2157999</td>\n",
       "      <td>2020-08-09 04:50:09.423651+04:30</td>\n",
       "      <td>{1.79109728336334,-1.05194425582886,-1.3205879...</td>\n",
       "      <td>دلایل سرد بودن دستان چیست؟ | چطور</td>\n",
       "      <td>chetor.com/100026-%D8%B3%D8%B1%D8%AF-%D8%A8%D9...</td>\n",
       "      <td>1</td>\n",
       "      <td>t</td>\n",
       "      <td>f</td>\n",
       "      <td>f</td>\n",
       "      <td>f</td>\n",
       "      <td>2416997</td>\n",
       "      <td>336</td>\n",
       "      <td>{2.48906230926514,-1.19906878471375,-1.4995402...</td>\n",
       "      <td>1485027.0</td>\n",
       "      <td>{}</td>\n",
       "    </tr>\n",
       "    <tr>\n",
       "      <th>5</th>\n",
       "      <td>4465070</td>\n",
       "      <td>2020-10-06 11:10:31.622853+03:30</td>\n",
       "      <td>{0.683604598045349,-0.237597540020943,0.257590...</td>\n",
       "      <td>افسوس های من | چطور</td>\n",
       "      <td>chetor.com/100041-%D8%A7%D9%81%D8%B3%D9%88%D8%...</td>\n",
       "      <td>1</td>\n",
       "      <td>t</td>\n",
       "      <td>f</td>\n",
       "      <td>t</td>\n",
       "      <td>t</td>\n",
       "      <td>38243000</td>\n",
       "      <td>336</td>\n",
       "      <td>NaN</td>\n",
       "      <td>1012527.0</td>\n",
       "      <td>{}</td>\n",
       "    </tr>\n",
       "    <tr>\n",
       "      <th>6</th>\n",
       "      <td>2142257</td>\n",
       "      <td>2020-08-09 04:49:40.250501+04:30</td>\n",
       "      <td>{0.63472980260849,0.145868331193924,0.12041924...</td>\n",
       "      <td>خانه پدربزرگ | چطور</td>\n",
       "      <td>chetor.com/100044-%D8%AE%D8%A7%D9%86%D9%87-%D9...</td>\n",
       "      <td>1</td>\n",
       "      <td>t</td>\n",
       "      <td>f</td>\n",
       "      <td>f</td>\n",
       "      <td>f</td>\n",
       "      <td>6160851</td>\n",
       "      <td>336</td>\n",
       "      <td>{1.89609825611115,1.75975489616394,2.689968109...</td>\n",
       "      <td>1012527.0</td>\n",
       "      <td>{}</td>\n",
       "    </tr>\n",
       "    <tr>\n",
       "      <th>7</th>\n",
       "      <td>2123739</td>\n",
       "      <td>2020-08-09 04:48:50.486508+04:30</td>\n",
       "      <td>{0.63071072101593,-0.431413412094116,-0.302038...</td>\n",
       "      <td>درددل های زیادی در دل اطرافیانم مانده | چطور</td>\n",
       "      <td>chetor.com/100049-%D8%AF%D8%B1%D8%AF%D8%AF%D9%...</td>\n",
       "      <td>1</td>\n",
       "      <td>t</td>\n",
       "      <td>f</td>\n",
       "      <td>f</td>\n",
       "      <td>f</td>\n",
       "      <td>11269955</td>\n",
       "      <td>336</td>\n",
       "      <td>{1.16336917877197,0.0402661710977554,0.3318648...</td>\n",
       "      <td>NaN</td>\n",
       "      <td>{}</td>\n",
       "    </tr>\n",
       "    <tr>\n",
       "      <th>8</th>\n",
       "      <td>2161889</td>\n",
       "      <td>2020-08-09 04:50:45.622368+04:30</td>\n",
       "      <td>{2.3618381023407,-0.220653653144836,-1.4399104...</td>\n",
       "      <td>درمان سردرد و تسکین فوری آن با ۱۴ روش موثر و ی...</td>\n",
       "      <td>chetor.com/100085-%D8%AF%D8%B1%D9%85%D8%A7%D9%...</td>\n",
       "      <td>1</td>\n",
       "      <td>t</td>\n",
       "      <td>f</td>\n",
       "      <td>f</td>\n",
       "      <td>f</td>\n",
       "      <td>2262178</td>\n",
       "      <td>336</td>\n",
       "      <td>{2.5592200756073,0.69496887922287,-2.160656929...</td>\n",
       "      <td>1013280.0</td>\n",
       "      <td>{}</td>\n",
       "    </tr>\n",
       "    <tr>\n",
       "      <th>9</th>\n",
       "      <td>2161493</td>\n",
       "      <td>2020-08-09 04:50:45.464757+04:30</td>\n",
       "      <td>{1.23862218856812,-0.99531877040863,-0.5665395...</td>\n",
       "      <td>آیا موز چاق کننده است؟ | چطور</td>\n",
       "      <td>chetor.com/100187-%D8%A2%DB%8C%D8%A7-%D9%85%D9...</td>\n",
       "      <td>1</td>\n",
       "      <td>t</td>\n",
       "      <td>f</td>\n",
       "      <td>f</td>\n",
       "      <td>f</td>\n",
       "      <td>2273389</td>\n",
       "      <td>336</td>\n",
       "      <td>{1.81400036811829,-1.17559599876404,-1.4106029...</td>\n",
       "      <td>1013170.0</td>\n",
       "      <td>{}</td>\n",
       "    </tr>\n",
       "    <tr>\n",
       "      <th>10</th>\n",
       "      <td>2161740</td>\n",
       "      <td>2020-08-09 04:50:45.562531+04:30</td>\n",
       "      <td>{1.11568641662598,-1.10983645915985,-1.5895578...</td>\n",
       "      <td>خواص تخمه آفتابگردان و عوارض مصرف بیش‌ازحد آن ...</td>\n",
       "      <td>chetor.com/100203-%D8%AE%D9%88%D8%A7%D8%B5-%D8...</td>\n",
       "      <td>1</td>\n",
       "      <td>t</td>\n",
       "      <td>f</td>\n",
       "      <td>f</td>\n",
       "      <td>f</td>\n",
       "      <td>2266860</td>\n",
       "      <td>336</td>\n",
       "      <td>{1.75426554679871,-1.150594830513,-2.632427930...</td>\n",
       "      <td>1009754.0</td>\n",
       "      <td>{}</td>\n",
       "    </tr>\n",
       "    <tr>\n",
       "      <th>11</th>\n",
       "      <td>209723</td>\n",
       "      <td>2020-08-09 03:13:35.364054+04:30</td>\n",
       "      <td>{1.15419852733612,-1.0816855430603,-1.59973978...</td>\n",
       "      <td>خواص تخمه آفتابگردان و عوارض مصرف بیش‌ازحد آن ...</td>\n",
       "      <td>chetor.com/100203-%D8%AE%D9%88%D8%A7%D8%B5-%D8...</td>\n",
       "      <td>1</td>\n",
       "      <td>t</td>\n",
       "      <td>f</td>\n",
       "      <td>t</td>\n",
       "      <td>t</td>\n",
       "      <td>34034388</td>\n",
       "      <td>336</td>\n",
       "      <td>{1.75426554679871,-1.150594830513,-2.632427930...</td>\n",
       "      <td>1009754.0</td>\n",
       "      <td>{}</td>\n",
       "    </tr>\n",
       "    <tr>\n",
       "      <th>12</th>\n",
       "      <td>2154973</td>\n",
       "      <td>2020-08-09 04:50:07.881351+04:30</td>\n",
       "      <td>{1.1254985332489,-0.500275850296021,-0.3856477...</td>\n",
       "      <td>کودک آزاری؛ از نشانه‌ها و دلایل تا درمان | چطور</td>\n",
       "      <td>chetor.com/100230-%DA%A9%D9%88%D8%AF%DA%A9-%D8...</td>\n",
       "      <td>1</td>\n",
       "      <td>t</td>\n",
       "      <td>f</td>\n",
       "      <td>f</td>\n",
       "      <td>f</td>\n",
       "      <td>2607932</td>\n",
       "      <td>336</td>\n",
       "      <td>{1.39960169792175,-1.11349546909332,0.11656024...</td>\n",
       "      <td>278392.0</td>\n",
       "      <td>{}</td>\n",
       "    </tr>\n",
       "    <tr>\n",
       "      <th>13</th>\n",
       "      <td>2147914</td>\n",
       "      <td>2020-08-09 04:49:42.67105+04:30</td>\n",
       "      <td>{0.859118700027466,-0.385798960924149,-0.24502...</td>\n",
       "      <td>۷ نکته برای اینکه جلسه‌های کاری‌تان را بهتر ره...</td>\n",
       "      <td>chetor.com/10025-%DB%B7-%D9%86%DA%A9%D8%AA%D9%...</td>\n",
       "      <td>1</td>\n",
       "      <td>t</td>\n",
       "      <td>f</td>\n",
       "      <td>f</td>\n",
       "      <td>f</td>\n",
       "      <td>4353777</td>\n",
       "      <td>336</td>\n",
       "      <td>{1.06593751907349,-0.447182834148407,-0.808934...</td>\n",
       "      <td>479274.0</td>\n",
       "      <td>{}</td>\n",
       "    </tr>\n",
       "    <tr>\n",
       "      <th>14</th>\n",
       "      <td>2161686</td>\n",
       "      <td>2020-08-09 04:50:45.540813+04:30</td>\n",
       "      <td>{1.72504651546478,-1.30946755409241,-1.6172629...</td>\n",
       "      <td>خواص تخم کدو؛ ۱۱ خاصیتی که این دانه‌های کوچک ب...</td>\n",
       "      <td>chetor.com/100280-%D8%AE%D9%88%D8%A7%D8%B5-%D8...</td>\n",
       "      <td>1</td>\n",
       "      <td>t</td>\n",
       "      <td>f</td>\n",
       "      <td>f</td>\n",
       "      <td>f</td>\n",
       "      <td>2268523</td>\n",
       "      <td>336</td>\n",
       "      <td>{2.35908484458923,-1.02347469329834,-1.9489647...</td>\n",
       "      <td>1010022.0</td>\n",
       "      <td>{}</td>\n",
       "    </tr>\n",
       "    <tr>\n",
       "      <th>15</th>\n",
       "      <td>209839</td>\n",
       "      <td>2020-08-09 03:13:35.411203+04:30</td>\n",
       "      <td>{1.59037482738495,-0.952325582504272,-1.422002...</td>\n",
       "      <td>خواص تخم کدو؛ ۱۱ خاصیتی که این دانه‌های کوچک ب...</td>\n",
       "      <td>chetor.com/100280-%D8%AE%D9%88%D8%A7%D8%B5-%D8...</td>\n",
       "      <td>1</td>\n",
       "      <td>t</td>\n",
       "      <td>f</td>\n",
       "      <td>t</td>\n",
       "      <td>t</td>\n",
       "      <td>34033497</td>\n",
       "      <td>336</td>\n",
       "      <td>{2.35908484458923,-1.02347469329834,-1.9489647...</td>\n",
       "      <td>1010022.0</td>\n",
       "      <td>{}</td>\n",
       "    </tr>\n",
       "    <tr>\n",
       "      <th>16</th>\n",
       "      <td>2161394</td>\n",
       "      <td>2020-08-09 04:50:45.424673+04:30</td>\n",
       "      <td>{1.42417645454407,-0.158022791147232,-2.323652...</td>\n",
       "      <td>ماسک موز برای صورت؛ طرز تهیه ۷ نوع ماسک برای م...</td>\n",
       "      <td>chetor.com/100347-%D9%85%D8%A7%D8%B3%DA%A9-%D9...</td>\n",
       "      <td>1</td>\n",
       "      <td>t</td>\n",
       "      <td>f</td>\n",
       "      <td>f</td>\n",
       "      <td>f</td>\n",
       "      <td>2276924</td>\n",
       "      <td>336</td>\n",
       "      <td>{1.59519040584564,-1.06026041507721,-3.0687334...</td>\n",
       "      <td>466144.0</td>\n",
       "      <td>{}</td>\n",
       "    </tr>\n",
       "    <tr>\n",
       "      <th>17</th>\n",
       "      <td>2161748</td>\n",
       "      <td>2020-08-09 04:50:45.565724+04:30</td>\n",
       "      <td>{1.06198310852051,-0.936697721481323,-0.366708...</td>\n",
       "      <td>تقویت حافظه با ۱۱‍ روش عالی که هر دانش‌آموز و ...</td>\n",
       "      <td>chetor.com/10039-%DB%B1%DB%B1-%D8%B1%D9%88%D8%...</td>\n",
       "      <td>1</td>\n",
       "      <td>t</td>\n",
       "      <td>f</td>\n",
       "      <td>f</td>\n",
       "      <td>f</td>\n",
       "      <td>2266665</td>\n",
       "      <td>336</td>\n",
       "      <td>{1.10045444965363,-1.69650733470917,0.03859800...</td>\n",
       "      <td>1010024.0</td>\n",
       "      <td>{}</td>\n",
       "    </tr>\n",
       "    <tr>\n",
       "      <th>18</th>\n",
       "      <td>209853</td>\n",
       "      <td>2020-08-09 03:13:35.41678+04:30</td>\n",
       "      <td>{1.29318749904633,-1.06664729118347,-0.6308819...</td>\n",
       "      <td>تقویت حافظه با ۱۱‍ روش عالی که هر دانش‌آموز و ...</td>\n",
       "      <td>chetor.com/10039-%DB%B1%DB%B1-%D8%B1%D9%88%D8%...</td>\n",
       "      <td>1</td>\n",
       "      <td>t</td>\n",
       "      <td>f</td>\n",
       "      <td>t</td>\n",
       "      <td>t</td>\n",
       "      <td>34033385</td>\n",
       "      <td>336</td>\n",
       "      <td>{1.10045444965363,-1.69650733470917,0.03859800...</td>\n",
       "      <td>1010024.0</td>\n",
       "      <td>{}</td>\n",
       "    </tr>\n",
       "    <tr>\n",
       "      <th>19</th>\n",
       "      <td>2161864</td>\n",
       "      <td>2020-08-09 04:50:45.612435+04:30</td>\n",
       "      <td>{2.20049333572388,0.287450194358826,-1.3928108...</td>\n",
       "      <td>درمان خانگی سردرد شدید و میگرن با ۱۱ راهکار سر...</td>\n",
       "      <td>chetor.com/100422-%D8%AF%D8%B1%D9%85%D8%A7%D9%...</td>\n",
       "      <td>1</td>\n",
       "      <td>t</td>\n",
       "      <td>f</td>\n",
       "      <td>f</td>\n",
       "      <td>f</td>\n",
       "      <td>2262601</td>\n",
       "      <td>336</td>\n",
       "      <td>{2.40740609169006,0.0224263295531273,-1.291270...</td>\n",
       "      <td>734406.0</td>\n",
       "      <td>{}</td>\n",
       "    </tr>\n",
       "  </tbody>\n",
       "</table>\n",
       "</div>"
      ],
      "text/plain": [
       "         id                           created  \\\n",
       "0   2177439  2020-08-09 04:51:12.676435+04:30   \n",
       "1    973115  2020-08-09 03:50:47.939727+04:30   \n",
       "2    975692   2020-08-09 03:50:49.22613+04:30   \n",
       "3   2144818  2020-08-09 04:49:41.361098+04:30   \n",
       "4   2157999  2020-08-09 04:50:09.423651+04:30   \n",
       "5   4465070  2020-10-06 11:10:31.622853+03:30   \n",
       "6   2142257  2020-08-09 04:49:40.250501+04:30   \n",
       "7   2123739  2020-08-09 04:48:50.486508+04:30   \n",
       "8   2161889  2020-08-09 04:50:45.622368+04:30   \n",
       "9   2161493  2020-08-09 04:50:45.464757+04:30   \n",
       "10  2161740  2020-08-09 04:50:45.562531+04:30   \n",
       "11   209723  2020-08-09 03:13:35.364054+04:30   \n",
       "12  2154973  2020-08-09 04:50:07.881351+04:30   \n",
       "13  2147914   2020-08-09 04:49:42.67105+04:30   \n",
       "14  2161686  2020-08-09 04:50:45.540813+04:30   \n",
       "15   209839  2020-08-09 03:13:35.411203+04:30   \n",
       "16  2161394  2020-08-09 04:50:45.424673+04:30   \n",
       "17  2161748  2020-08-09 04:50:45.565724+04:30   \n",
       "18   209853   2020-08-09 03:13:35.41678+04:30   \n",
       "19  2161864  2020-08-09 04:50:45.612435+04:30   \n",
       "\n",
       "                                       content_vector  \\\n",
       "0   {0.52510529756546,-0.51316374540329,-0.3844181...   \n",
       "1   {-0.111537165939808,0.314831465482712,-0.60968...   \n",
       "2   {0.628654301166534,-0.548453748226166,-0.25651...   \n",
       "3   {0.350972026586533,-0.0532753616571426,-0.2103...   \n",
       "4   {1.79109728336334,-1.05194425582886,-1.3205879...   \n",
       "5   {0.683604598045349,-0.237597540020943,0.257590...   \n",
       "6   {0.63472980260849,0.145868331193924,0.12041924...   \n",
       "7   {0.63071072101593,-0.431413412094116,-0.302038...   \n",
       "8   {2.3618381023407,-0.220653653144836,-1.4399104...   \n",
       "9   {1.23862218856812,-0.99531877040863,-0.5665395...   \n",
       "10  {1.11568641662598,-1.10983645915985,-1.5895578...   \n",
       "11  {1.15419852733612,-1.0816855430603,-1.59973978...   \n",
       "12  {1.1254985332489,-0.500275850296021,-0.3856477...   \n",
       "13  {0.859118700027466,-0.385798960924149,-0.24502...   \n",
       "14  {1.72504651546478,-1.30946755409241,-1.6172629...   \n",
       "15  {1.59037482738495,-0.952325582504272,-1.422002...   \n",
       "16  {1.42417645454407,-0.158022791147232,-2.323652...   \n",
       "17  {1.06198310852051,-0.936697721481323,-0.366708...   \n",
       "18  {1.29318749904633,-1.06664729118347,-0.6308819...   \n",
       "19  {2.20049333572388,0.287450194358826,-1.3928108...   \n",
       "\n",
       "                                                title  \\\n",
       "0                                        وردپرس › خطا   \n",
       "1                      تبلیغات در وب سایت چطور | چطور   \n",
       "2                                 همکاری با ما | چطور   \n",
       "3            چرا باید توسعه فردی را جدی بگیرید؟- چطور   \n",
       "4                   دلایل سرد بودن دستان چیست؟ | چطور   \n",
       "5                                 افسوس های من | چطور   \n",
       "6                                 خانه پدربزرگ | چطور   \n",
       "7        درددل های زیادی در دل اطرافیانم مانده | چطور   \n",
       "8   درمان سردرد و تسکین فوری آن با ۱۴ روش موثر و ی...   \n",
       "9                       آیا موز چاق کننده است؟ | چطور   \n",
       "10  خواص تخمه آفتابگردان و عوارض مصرف بیش‌ازحد آن ...   \n",
       "11  خواص تخمه آفتابگردان و عوارض مصرف بیش‌ازحد آن ...   \n",
       "12    کودک آزاری؛ از نشانه‌ها و دلایل تا درمان | چطور   \n",
       "13  ۷ نکته برای اینکه جلسه‌های کاری‌تان را بهتر ره...   \n",
       "14  خواص تخم کدو؛ ۱۱ خاصیتی که این دانه‌های کوچک ب...   \n",
       "15  خواص تخم کدو؛ ۱۱ خاصیتی که این دانه‌های کوچک ب...   \n",
       "16  ماسک موز برای صورت؛ طرز تهیه ۷ نوع ماسک برای م...   \n",
       "17  تقویت حافظه با ۱۱‍ روش عالی که هر دانش‌آموز و ...   \n",
       "18  تقویت حافظه با ۱۱‍ روش عالی که هر دانش‌آموز و ...   \n",
       "19  درمان خانگی سردرد شدید و میگرن با ۱۱ راهکار سر...   \n",
       "\n",
       "                                          cleaned_url  website_id included  \\\n",
       "0                                         chetor.com/           1        f   \n",
       "1   chetor.com/%D8%AA%D8%A8%D9%84%DB%8C%D8%BA%D8%A...           1        t   \n",
       "2   chetor.com/%D9%87%D9%85%DA%A9%D8%A7%D8%B1%DB%8...           1        t   \n",
       "3   chetor.com/100-%DA%86%D8%B1%D8%A7-%D8%A8%D8%A7...           1        t   \n",
       "4   chetor.com/100026-%D8%B3%D8%B1%D8%AF-%D8%A8%D9...           1        t   \n",
       "5   chetor.com/100041-%D8%A7%D9%81%D8%B3%D9%88%D8%...           1        t   \n",
       "6   chetor.com/100044-%D8%AE%D8%A7%D9%86%D9%87-%D9...           1        t   \n",
       "7   chetor.com/100049-%D8%AF%D8%B1%D8%AF%D8%AF%D9%...           1        t   \n",
       "8   chetor.com/100085-%D8%AF%D8%B1%D9%85%D8%A7%D9%...           1        t   \n",
       "9   chetor.com/100187-%D8%A2%DB%8C%D8%A7-%D9%85%D9...           1        t   \n",
       "10  chetor.com/100203-%D8%AE%D9%88%D8%A7%D8%B5-%D8...           1        t   \n",
       "11  chetor.com/100203-%D8%AE%D9%88%D8%A7%D8%B5-%D8...           1        t   \n",
       "12  chetor.com/100230-%DA%A9%D9%88%D8%AF%DA%A9-%D8...           1        t   \n",
       "13  chetor.com/10025-%DB%B7-%D9%86%DA%A9%D8%AA%D9%...           1        t   \n",
       "14  chetor.com/100280-%D8%AE%D9%88%D8%A7%D8%B5-%D8...           1        t   \n",
       "15  chetor.com/100280-%D8%AE%D9%88%D8%A7%D8%B5-%D8...           1        t   \n",
       "16  chetor.com/100347-%D9%85%D8%A7%D8%B3%DA%A9-%D9...           1        t   \n",
       "17  chetor.com/10039-%DB%B1%DB%B1-%D8%B1%D9%88%D8%...           1        t   \n",
       "18  chetor.com/10039-%DB%B1%DB%B1-%D8%B1%D9%88%D8%...           1        t   \n",
       "19  chetor.com/100422-%D8%AF%D8%B1%D9%85%D8%A7%D9%...           1        t   \n",
       "\n",
       "   is_amp has_image_meta has_title_meta   page_id  subdomain_id  \\\n",
       "0       f              f              f    148948           336   \n",
       "1       f              f              t  27016495           336   \n",
       "2       f              f              t  27004594           336   \n",
       "3       f              f              f   5274753           336   \n",
       "4       f              f              f   2416997           336   \n",
       "5       f              t              t  38243000           336   \n",
       "6       f              f              f   6160851           336   \n",
       "7       f              f              f  11269955           336   \n",
       "8       f              f              f   2262178           336   \n",
       "9       f              f              f   2273389           336   \n",
       "10      f              f              f   2266860           336   \n",
       "11      f              t              t  34034388           336   \n",
       "12      f              f              f   2607932           336   \n",
       "13      f              f              f   4353777           336   \n",
       "14      f              f              f   2268523           336   \n",
       "15      f              t              t  34033497           336   \n",
       "16      f              f              f   2276924           336   \n",
       "17      f              f              f   2266665           336   \n",
       "18      f              t              t  34033385           336   \n",
       "19      f              f              f   2262601           336   \n",
       "\n",
       "                                         title_vector   image_id cats  \n",
       "0   {-0.90155690908432,-1.60752034187317,0.1689879...  1015133.0   {}  \n",
       "1   {-1.89593696594238,0.659652948379517,-0.852037...        NaN   {}  \n",
       "2   {-2.04737234115601,2.28955912590027,-2.1406197...   333341.0   {}  \n",
       "3   {2.27225732803345,0.7027268409729,0.4857064485...   599277.0   {}  \n",
       "4   {2.48906230926514,-1.19906878471375,-1.4995402...  1485027.0   {}  \n",
       "5                                                 NaN  1012527.0   {}  \n",
       "6   {1.89609825611115,1.75975489616394,2.689968109...  1012527.0   {}  \n",
       "7   {1.16336917877197,0.0402661710977554,0.3318648...        NaN   {}  \n",
       "8   {2.5592200756073,0.69496887922287,-2.160656929...  1013280.0   {}  \n",
       "9   {1.81400036811829,-1.17559599876404,-1.4106029...  1013170.0   {}  \n",
       "10  {1.75426554679871,-1.150594830513,-2.632427930...  1009754.0   {}  \n",
       "11  {1.75426554679871,-1.150594830513,-2.632427930...  1009754.0   {}  \n",
       "12  {1.39960169792175,-1.11349546909332,0.11656024...   278392.0   {}  \n",
       "13  {1.06593751907349,-0.447182834148407,-0.808934...   479274.0   {}  \n",
       "14  {2.35908484458923,-1.02347469329834,-1.9489647...  1010022.0   {}  \n",
       "15  {2.35908484458923,-1.02347469329834,-1.9489647...  1010022.0   {}  \n",
       "16  {1.59519040584564,-1.06026041507721,-3.0687334...   466144.0   {}  \n",
       "17  {1.10045444965363,-1.69650733470917,0.03859800...  1010024.0   {}  \n",
       "18  {1.10045444965363,-1.69650733470917,0.03859800...  1010024.0   {}  \n",
       "19  {2.40740609169006,0.0224263295531273,-1.291270...   734406.0   {}  "
      ]
     },
     "execution_count": 3,
     "metadata": {},
     "output_type": "execute_result"
    }
   ],
   "source": [
    "chetor_content = pd.read_csv('./pages_chetor.csv')\n",
    "chetor_content.head(20)"
   ]
  },
  {
   "cell_type": "code",
   "execution_count": 4,
   "metadata": {},
   "outputs": [
    {
     "name": "stdout",
     "output_type": "stream",
     "text": [
      "(9640, 15)\n"
     ]
    }
   ],
   "source": [
    "print(chetor_content.shape)"
   ]
  },
  {
   "cell_type": "code",
   "execution_count": 5,
   "metadata": {},
   "outputs": [
    {
     "data": {
      "text/plain": [
       "(8723, 15)"
      ]
     },
     "execution_count": 5,
     "metadata": {},
     "output_type": "execute_result"
    }
   ],
   "source": [
    "chetor_content = chetor_content[chetor_content.included == 't']\n",
    "chetor_content.shape"
   ]
  },
  {
   "cell_type": "code",
   "execution_count": 6,
   "metadata": {},
   "outputs": [],
   "source": [
    "class ViewMatrix:\n",
    "    def __init__(self, path):\n",
    "        self.path = path\n",
    "        self.original = True\n",
    "        self.item_indexer = AppendIndexer.load('./chetor.com/view_matrix/item_indexer.indexer')\n",
    "        self.user_indexer = AppendIndexer.load('./chetor.com/view_matrix/user_indexer.indexer')\n",
    "        \n",
    "    def load_matrix(path):\n",
    "        \n",
    "        matrix = ViewMatrix(path)\n",
    "\n",
    "        try:\n",
    "            matrix.view_matrix = ViewMatrix \\\n",
    "                .load_sparse_lil(path)\n",
    "        except:\n",
    "            print('Error: loading', path)\n",
    "\n",
    "        return matrix\n",
    "\n",
    "    def load_sparse_lil(filename):\n",
    "        loader = np.load(filename, allow_pickle=True)\n",
    "        result = lil_matrix(tuple(loader[\"shape\"]), dtype=str(loader[\"dtype\"]))\n",
    "        result.data = loader[\"data\"]\n",
    "        result.rows = loader[\"rows\"]\n",
    "        return result\n",
    "    \n",
    "    def make_dense(self, user_min_view, item_min_view):\n",
    "        self.original = False\n",
    "        while True:\n",
    "            removed_rows_cnt = self.trim_users_with_few_views(user_min_view)\n",
    "            removed_columns_cnt = self.trim_columns_with_few_views(item_min_view)\n",
    "            if not removed_columns_cnt and not removed_rows_cnt:\n",
    "                break\n",
    "\n",
    "    def trim_users_with_few_views(self, user_min_view):\n",
    "        removing_row_indices = list(np.where(self.view_matrix.getnnz(1) < user_min_view)[0])\n",
    "        print('Number of users which should be deleted:', len(removing_row_indices))\n",
    "        self.trim_user_indices(to_remove_indices=removing_row_indices)\n",
    "        return len(removing_row_indices)\n",
    "\n",
    "    def trim_columns_with_few_views(self, column_min_view):\n",
    "        removing_column_indices = list(np.where(self.view_matrix.getnnz(0) < column_min_view)[0])\n",
    "        print('Number products which should be deleted:', len(removing_column_indices))\n",
    "        self.trim_column_indices(to_remove_indices=removing_column_indices)\n",
    "        return len(removing_column_indices)\n",
    "    \n",
    "    def trim_user_indices(self, to_remove_indices):\n",
    "        self.user_indexer.remove_indexes(to_remove_indices)\n",
    "        self.view_matrix = ViewMatrix.delete_row_lil(self.view_matrix, to_remove_indices)\n",
    "    \n",
    "    def trim_column_indices(self, to_remove_indices):\n",
    "        self.item_indexer.remove_indexes(to_remove_indices)\n",
    "        self.view_matrix = ViewMatrix.delete_column_lil(self.view_matrix, to_remove_indices)\n",
    "    \n",
    "    def delete_column_lil(mat: lil_matrix, *i) -> lil_matrix:\n",
    "        mat = mat.transpose()\n",
    "        mat = ViewMatrix.delete_row_lil(mat, *i)\n",
    "        return mat.transpose()\n",
    "    \n",
    "    def delete_row_lil(mat: lil_matrix, *i) -> lil_matrix:\n",
    "        if not isinstance(mat, lil_matrix):\n",
    "            raise ValueError(\"works only for LIL format -- use .tolil() first\")\n",
    "        mat = mat.copy()\n",
    "        mat.rows = np.delete(mat.rows, i)\n",
    "        mat.data = np.delete(mat.data, i)\n",
    "        mat._shape = (mat.rows.shape[0], mat._shape[1])\n",
    "        return mat\n",
    "    def to_csr(self):\n",
    "        train_data = self.view_matrix.astype(np.float64)\n",
    "        train_data = train_data.tocoo()\n",
    "        train_data.data = np.log10(train_data.data) + 1\n",
    "        train_data = train_data.tocsr()\n",
    "        return train_data"
   ]
  },
  {
   "cell_type": "markdown",
   "metadata": {},
   "source": [
    "## colaborative filtering train"
   ]
  },
  {
   "cell_type": "code",
   "execution_count": 7,
   "metadata": {},
   "outputs": [],
   "source": [
    "def CFTrain(path: str, _alpha = 15, factors = 20):\n",
    "    now = time.time()\n",
    "    matrix = ViewMatrix.load_matrix(path)\n",
    "    print('View matrix loaded in', time.time() - now, 'seconds.')\n",
    "\n",
    "    now = time.time()\n",
    "    sparce_matrix = matrix.to_csr()\n",
    "    matrix.make_dense(user_min_view = 2, \n",
    "                      item_min_view = 2)\n",
    "    print('matrix has been made dense in', time.time() - now, 'seconds.')\n",
    "\n",
    "    als_model = ALS.Als(num_factors = factors,\n",
    "                        iterations = 15,\n",
    "                        num_threads = 15,\n",
    "                        alpha = _alpha)\n",
    "\n",
    "    implicit_matrix = matrix.to_csr()\n",
    "\n",
    "    print()\n",
    "    now = time.time()\n",
    "    als_model.fit(implicit_matrix)\n",
    "    alsTime = time.time() - now\n",
    "    print('ALS model is fitted in', time.time() - now, 'seconds.')\n",
    "    \n",
    "    print('Saving Data ...')\n",
    "    matrix.item_indexer.dump('./chetor.com/alisResult/ali_item_indexer_factorized.indexer')\n",
    "    matrix.user_indexer.dump('./chetor.com/alisResult/ali_user_indexer_factorized.indexer')\n",
    "    np.save('./chetor.com/alisResult/ali_items_vectors.npy', als_model.item_vectors)\n",
    "    np.save('./chetor.com/alisResult/ali_users_vectors.npy', als_model.user_vectors)\n",
    "    \n",
    "    return sparce_matrix, implicit_matrix, als_model.item_vectors, als_model.user_vectors, alsTime"
   ]
  },
  {
   "cell_type": "code",
   "execution_count": 8,
   "metadata": {},
   "outputs": [
    {
     "name": "stdout",
     "output_type": "stream",
     "text": [
      "View matrix loaded in 7.968033313751221 seconds.\n",
      "Number of users which should be deleted: 1863687\n",
      "Number products which should be deleted: 1308\n",
      "Number of users which should be deleted: 265\n",
      "Number products which should be deleted: 4\n",
      "Number of users which should be deleted: 1\n",
      "Number products which should be deleted: 1\n",
      "Number of users which should be deleted: 0\n",
      "Number products which should be deleted: 0\n",
      "matrix has been made dense in 19.1260769367218 seconds.\n",
      "\n",
      "ALS model is fitted in 13.905150175094604 seconds.\n",
      "Saving Data ...\n"
     ]
    }
   ],
   "source": [
    "sparce_matrix, implicit_matrix, item_vectors, user_vectors, alsTime = \\\n",
    "CFTrain('./chetor.com/view_matrix/lil_matrix.npz', factors = 20)"
   ]
  },
  {
   "cell_type": "code",
   "execution_count": 9,
   "metadata": {},
   "outputs": [
    {
     "name": "stdout",
     "output_type": "stream",
     "text": [
      "View matrix loaded in 7.137897968292236 seconds.\n",
      "Number of users which should be deleted: 1863687\n",
      "Number products which should be deleted: 1308\n",
      "Number of users which should be deleted: 265\n",
      "Number products which should be deleted: 4\n",
      "Number of users which should be deleted: 1\n",
      "Number products which should be deleted: 1\n",
      "Number of users which should be deleted: 0\n",
      "Number products which should be deleted: 0\n",
      "matrix has been made dense in 17.802146196365356 seconds.\n",
      "\n",
      "ALS model is fitted in 204.27747440338135 seconds.\n",
      "Saving Data ...\n"
     ]
    }
   ],
   "source": [
    "sparce_matrix40, implicit_matrix40, item_vectors40, user_vectors40, alsTime40 = \\\n",
    "CFTrain('./chetor.com/view_matrix/lil_matrix.npz', factors = 40)"
   ]
  },
  {
   "cell_type": "code",
   "execution_count": 10,
   "metadata": {},
   "outputs": [],
   "source": [
    "# implicit_matrix = implicit_matrix.toarray()\n",
    "# sparce_matrix = sparce_matrix.toarray()"
   ]
  },
  {
   "cell_type": "code",
   "execution_count": 11,
   "metadata": {},
   "outputs": [
    {
     "data": {
      "text/plain": [
       "(2097150, 8190)"
      ]
     },
     "execution_count": 11,
     "metadata": {},
     "output_type": "execute_result"
    }
   ],
   "source": [
    "sparce_matrix.shape"
   ]
  },
  {
   "cell_type": "code",
   "execution_count": 12,
   "metadata": {},
   "outputs": [
    {
     "data": {
      "text/plain": [
       "(233197, 6877)"
      ]
     },
     "execution_count": 12,
     "metadata": {},
     "output_type": "execute_result"
    }
   ],
   "source": [
    "implicit_matrix.shape"
   ]
  },
  {
   "cell_type": "markdown",
   "metadata": {},
   "source": [
    "## KNN Models"
   ]
  },
  {
   "cell_type": "code",
   "execution_count": 13,
   "metadata": {},
   "outputs": [],
   "source": [
    "def sk_KNN(item_vectors, number_of_neighbours = 30):\n",
    "    start = time.time()\n",
    "\n",
    "    knn_distances_brute = []\n",
    "    knn_indices_brute = []\n",
    "\n",
    "    nbrs = NearestNeighbors(n_neighbors=number_of_neighbours, algorithm='ball_tree'). \\\n",
    "        fit(item_vectors)\n",
    "\n",
    "    knn_distances_brute, knn_indices_brute = nbrs.kneighbors(item_vectors)\n",
    "\n",
    "    end = time.time()\n",
    "    print('ball_tree time:', end-start)\n",
    "    \n",
    "    return knn_distances_brute, knn_indices_brute"
   ]
  },
  {
   "cell_type": "code",
   "execution_count": 14,
   "metadata": {},
   "outputs": [],
   "source": [
    "def sk_KNN_c(item_vectors, mapper, number_of_neighbours = 30):\n",
    "    start = time.time()\n",
    "\n",
    "    knn_distances_brute = []\n",
    "    knn_indices_brute = []\n",
    "\n",
    "    nbrs = NearestNeighbors(n_neighbors=number_of_neighbours, algorithm='ball_tree'). \\\n",
    "        fit(item_vectors)\n",
    "\n",
    "    knn_distances_brute, knn_indices_brute = nbrs.kneighbors(item_vectors)\n",
    "\n",
    "    end = time.time()\n",
    "    print('ball_tree time:', end-start)\n",
    "    a = [[mapper[j] for j in i]for i in knn_indices_brute]\n",
    "    \n",
    "    return knn_distances_brute, a"
   ]
  },
  {
   "cell_type": "code",
   "execution_count": 15,
   "metadata": {},
   "outputs": [],
   "source": [
    "def get_annoy_results(pages_vector, number_of_trees = 170, number_of_neighbours = 30):\n",
    "    \n",
    "    start = time.time()\n",
    "    annoy_model = annoy_model = AnnoyIndex(pages_vector.shape[1], 'angular')\n",
    "    \n",
    "    for index, vector in enumerate(pages_vector):\n",
    "        annoy_model.add_item(index, vector)\n",
    "    \n",
    "    annoy_model.build(number_of_trees)\n",
    "    \n",
    "    annoy_indices = []\n",
    "    annoy_distances = []\n",
    "\n",
    "    for i in pages_vector:\n",
    "        indices, distances = annoy_model. \\\n",
    "            get_nns_by_vector(i, number_of_neighbours, include_distances=True)\n",
    "        annoy_indices.append(indices)\n",
    "        annoy_distances.append(distances)\n",
    "    \n",
    "    duration = time.time() - start\n",
    "    print('annoy time:', duration)\n",
    "    return annoy_indices, annoy_distances, duration"
   ]
  },
  {
   "cell_type": "code",
   "execution_count": 16,
   "metadata": {},
   "outputs": [],
   "source": [
    "def get_annoy_results_c(pages_vector, number_of_trees = 170, number_of_neighbours = 30):\n",
    "    \n",
    "    start = time.time()\n",
    "    annoy_model = annoy_model = AnnoyIndex(300, 'angular')\n",
    "    \n",
    "    for index, vector in pages_vector.items():\n",
    "        annoy_model.add_item(index, vector)\n",
    "    \n",
    "    annoy_model.build(number_of_trees)\n",
    "    \n",
    "    annoy_indices = []\n",
    "    annoy_distances = []\n",
    "\n",
    "    for j, i in pages_vector.items():\n",
    "        indices, distances = annoy_model. \\\n",
    "            get_nns_by_vector(i, number_of_neighbours, include_distances=True)\n",
    "        annoy_indices.append(indices)\n",
    "        annoy_distances.append(distances)\n",
    "    \n",
    "    duration = time.time() - start\n",
    "    print('annoy time:', duration)\n",
    "    return annoy_indices, annoy_distances, duration"
   ]
  },
  {
   "cell_type": "markdown",
   "metadata": {},
   "source": [
    "## Runing KNN collaborative filtering"
   ]
  },
  {
   "cell_type": "code",
   "execution_count": 17,
   "metadata": {},
   "outputs": [
    {
     "name": "stdout",
     "output_type": "stream",
     "text": [
      "annoy time: 6.241101503372192\n"
     ]
    }
   ],
   "source": [
    "annoy_indices_CF, annoy_distances, duration = get_annoy_results(item_vectors)"
   ]
  },
  {
   "cell_type": "code",
   "execution_count": 18,
   "metadata": {},
   "outputs": [
    {
     "name": "stdout",
     "output_type": "stream",
     "text": [
      "ball_tree time: 1.4761583805084229\n"
     ]
    }
   ],
   "source": [
    "knn_distances_brute, knn_indices_brute = sk_KNN(item_vectors)"
   ]
  },
  {
   "cell_type": "code",
   "execution_count": 19,
   "metadata": {},
   "outputs": [
    {
     "name": "stdout",
     "output_type": "stream",
     "text": [
      "[5744, 4041, 4886, 5025, 1284, 1057, 5772, 1427, 5510, 2189, 6161, 5674, 4774, 2647, 6048, 4556, 5548, 3276, 2554, 3043, 5484, 2543, 3530, 3042, 3226, 2606, 2642, 2492, 6677, 5107]\n",
      "[5744 5772 2798 4758 6639 5346 5360 5337 3792 2642 3584 4041 2081 5836\n",
      " 4780 6527 5008 4867 4712 5910 4726 5034 4472 5630 4794 4846 6168 5759\n",
      "  594 4941]\n"
     ]
    }
   ],
   "source": [
    "print(annoy_indices_CF[5744])\n",
    "print(knn_indices_brute[5744])"
   ]
  },
  {
   "cell_type": "code",
   "execution_count": 20,
   "metadata": {},
   "outputs": [],
   "source": [
    "item_indexer1 = \\\n",
    "AppendIndexer.load('./chetor.com/alisResult/ali_item_indexer_factorized.indexer')"
   ]
  },
  {
   "cell_type": "code",
   "execution_count": 21,
   "metadata": {},
   "outputs": [
    {
     "data": {
      "text/html": [
       "<div>\n",
       "<style scoped>\n",
       "    .dataframe tbody tr th:only-of-type {\n",
       "        vertical-align: middle;\n",
       "    }\n",
       "\n",
       "    .dataframe tbody tr th {\n",
       "        vertical-align: top;\n",
       "    }\n",
       "\n",
       "    .dataframe thead th {\n",
       "        text-align: right;\n",
       "    }\n",
       "</style>\n",
       "<table border=\"1\" class=\"dataframe\">\n",
       "  <thead>\n",
       "    <tr style=\"text-align: right;\">\n",
       "      <th></th>\n",
       "      <th>id</th>\n",
       "      <th>created</th>\n",
       "      <th>content_vector</th>\n",
       "      <th>title</th>\n",
       "      <th>cleaned_url</th>\n",
       "      <th>website_id</th>\n",
       "      <th>included</th>\n",
       "      <th>is_amp</th>\n",
       "      <th>has_image_meta</th>\n",
       "      <th>has_title_meta</th>\n",
       "      <th>page_id</th>\n",
       "      <th>subdomain_id</th>\n",
       "      <th>title_vector</th>\n",
       "      <th>image_id</th>\n",
       "      <th>cats</th>\n",
       "    </tr>\n",
       "  </thead>\n",
       "  <tbody>\n",
       "    <tr>\n",
       "      <th>5059</th>\n",
       "      <td>2156702</td>\n",
       "      <td>2020-08-09 04:50:08.834911+04:30</td>\n",
       "      <td>{0.509120881557465,-1.08496379852295,-0.249915...</td>\n",
       "      <td>ارزیابی ۳۶۰ درجه چیست و چه مزایا و معایبی دارد...</td>\n",
       "      <td>chetor.com/23451-%D8%A7%D8%B1%D8%B2%DB%8C%D8%A...</td>\n",
       "      <td>1</td>\n",
       "      <td>t</td>\n",
       "      <td>f</td>\n",
       "      <td>f</td>\n",
       "      <td>f</td>\n",
       "      <td>2490645</td>\n",
       "      <td>336</td>\n",
       "      <td>{1.02428507804871,-0.387193650007248,0.2601181...</td>\n",
       "      <td>139097.0</td>\n",
       "      <td>{}</td>\n",
       "    </tr>\n",
       "  </tbody>\n",
       "</table>\n",
       "</div>"
      ],
      "text/plain": [
       "           id                           created  \\\n",
       "5059  2156702  2020-08-09 04:50:08.834911+04:30   \n",
       "\n",
       "                                         content_vector  \\\n",
       "5059  {0.509120881557465,-1.08496379852295,-0.249915...   \n",
       "\n",
       "                                                  title  \\\n",
       "5059  ارزیابی ۳۶۰ درجه چیست و چه مزایا و معایبی دارد...   \n",
       "\n",
       "                                            cleaned_url  website_id included  \\\n",
       "5059  chetor.com/23451-%D8%A7%D8%B1%D8%B2%DB%8C%D8%A...           1        t   \n",
       "\n",
       "     is_amp has_image_meta has_title_meta  page_id  subdomain_id  \\\n",
       "5059      f              f              f  2490645           336   \n",
       "\n",
       "                                           title_vector  image_id cats  \n",
       "5059  {1.02428507804871,-0.387193650007248,0.2601181...  139097.0   {}  "
      ]
     },
     "execution_count": 21,
     "metadata": {},
     "output_type": "execute_result"
    }
   ],
   "source": [
    "chetor_content[chetor_content['id'] == int(item_indexer1.reverse_get(4539))]\n",
    "# chetor_content[chetor_content['id'] == int(item_indexer1.reverse_get(3357))]\n",
    "# chetor_content[chetor_content['id'] == int(item_indexer1.reverse_get(1364))]\n",
    "# chetor_content[chetor_content['id'] == int(item_indexer1.reverse_get(800))]"
   ]
  },
  {
   "cell_type": "markdown",
   "metadata": {},
   "source": [
    "## train content based"
   ]
  },
  {
   "cell_type": "code",
   "execution_count": 22,
   "metadata": {},
   "outputs": [],
   "source": [
    "items = []\n",
    "nulls = []\n",
    "for i in item_indexer1.get_items():\n",
    "    temp = {}\n",
    "    try:\n",
    "        item_index = item_indexer1.get(i)\n",
    "        c_vec = np.array(chetor_content[chetor_content['id'] == int(i)].content_vector)[0]\n",
    "        temp['content_vec'] = np.array([float(x) for x in str(c_vec)[1:-1].split(',')])\n",
    "        temp['id'] = i\n",
    "        temp['index'] = item_index\n",
    "        items.append(temp)\n",
    "    except:\n",
    "        nulls.append(item_index)"
   ]
  },
  {
   "cell_type": "code",
   "execution_count": 23,
   "metadata": {},
   "outputs": [],
   "source": [
    "item_content_map = {}\n",
    "for i in items:\n",
    "    item_content_map[i['index']] = i['content_vec']\n",
    "content_vec = []\n",
    "items_itex = []\n",
    "for i, j in item_content_map.items():\n",
    "    content_vec.append(j)\n",
    "    items_itex.append(i)\n",
    "# items_itex.index(1600)"
   ]
  },
  {
   "cell_type": "code",
   "execution_count": 24,
   "metadata": {},
   "outputs": [
    {
     "name": "stdout",
     "output_type": "stream",
     "text": [
      "annoy time: 4.994776010513306\n"
     ]
    }
   ],
   "source": [
    "annoy_indices_CB, annoy_distances_CB, duration_CB = get_annoy_results_c(item_content_map)"
   ]
  },
  {
   "cell_type": "code",
   "execution_count": 25,
   "metadata": {},
   "outputs": [
    {
     "name": "stdout",
     "output_type": "stream",
     "text": [
      "ball_tree time: 24.46805715560913\n"
     ]
    }
   ],
   "source": [
    "knn_distances_brute_CB, knn_indices_brute_CB = sk_KNN_c(content_vec, items_itex)"
   ]
  },
  {
   "cell_type": "code",
   "execution_count": 26,
   "metadata": {},
   "outputs": [
    {
     "name": "stdout",
     "output_type": "stream",
     "text": [
      "[6758, 3219, 3027, 2311, 4787, 4424, 1790, 1977, 6037, 5307, 5496, 3386, 2232, 1234, 6199, 3688, 2008, 5286, 1027, 3956, 4937, 2930, 6081, 3259, 6115, 4099, 618, 40, 5497, 5894]\n",
      "[6758, 3027, 1790, 1977, 4424, 6037, 2311, 6081, 1027, 3956, 6199, 1390, 4787, 40, 5286, 4491, 5307, 1234, 2647, 5496, 3219, 5113, 3123, 5790, 1437, 5370, 4720, 2523, 4345, 5020]\n"
     ]
    }
   ],
   "source": [
    "print(annoy_indices_CB[6300])\n",
    "print(knn_indices_brute_CB[6300])"
   ]
  },
  {
   "cell_type": "code",
   "execution_count": 27,
   "metadata": {},
   "outputs": [
    {
     "data": {
      "text/html": [
       "<div>\n",
       "<style scoped>\n",
       "    .dataframe tbody tr th:only-of-type {\n",
       "        vertical-align: middle;\n",
       "    }\n",
       "\n",
       "    .dataframe tbody tr th {\n",
       "        vertical-align: top;\n",
       "    }\n",
       "\n",
       "    .dataframe thead th {\n",
       "        text-align: right;\n",
       "    }\n",
       "</style>\n",
       "<table border=\"1\" class=\"dataframe\">\n",
       "  <thead>\n",
       "    <tr style=\"text-align: right;\">\n",
       "      <th></th>\n",
       "      <th>id</th>\n",
       "      <th>created</th>\n",
       "      <th>content_vector</th>\n",
       "      <th>title</th>\n",
       "      <th>cleaned_url</th>\n",
       "      <th>website_id</th>\n",
       "      <th>included</th>\n",
       "      <th>is_amp</th>\n",
       "      <th>has_image_meta</th>\n",
       "      <th>has_title_meta</th>\n",
       "      <th>page_id</th>\n",
       "      <th>subdomain_id</th>\n",
       "      <th>title_vector</th>\n",
       "      <th>image_id</th>\n",
       "      <th>cats</th>\n",
       "    </tr>\n",
       "  </thead>\n",
       "  <tbody>\n",
       "    <tr>\n",
       "      <th>2365</th>\n",
       "      <td>2138598</td>\n",
       "      <td>2020-08-09 04:49:18.183412+04:30</td>\n",
       "      <td>{0.675059735774994,-0.17669515311718,-0.160999...</td>\n",
       "      <td>تکنیک اتاق رومی؛ چطور هر فهرستی را به‌راحتی به...</td>\n",
       "      <td>chetor.com/158064-%D8%AA%DA%A9%D9%86%DB%8C%DA%...</td>\n",
       "      <td>1</td>\n",
       "      <td>t</td>\n",
       "      <td>f</td>\n",
       "      <td>f</td>\n",
       "      <td>f</td>\n",
       "      <td>7857591</td>\n",
       "      <td>336</td>\n",
       "      <td>{0.926600635051727,0.212246716022491,0.1147326...</td>\n",
       "      <td>1012473.0</td>\n",
       "      <td>{}</td>\n",
       "    </tr>\n",
       "  </tbody>\n",
       "</table>\n",
       "</div>"
      ],
      "text/plain": [
       "           id                           created  \\\n",
       "2365  2138598  2020-08-09 04:49:18.183412+04:30   \n",
       "\n",
       "                                         content_vector  \\\n",
       "2365  {0.675059735774994,-0.17669515311718,-0.160999...   \n",
       "\n",
       "                                                  title  \\\n",
       "2365  تکنیک اتاق رومی؛ چطور هر فهرستی را به‌راحتی به...   \n",
       "\n",
       "                                            cleaned_url  website_id included  \\\n",
       "2365  chetor.com/158064-%D8%AA%DA%A9%D9%86%DB%8C%DA%...           1        t   \n",
       "\n",
       "     is_amp has_image_meta has_title_meta  page_id  subdomain_id  \\\n",
       "2365      f              f              f  7857591           336   \n",
       "\n",
       "                                           title_vector   image_id cats  \n",
       "2365  {0.926600635051727,0.212246716022491,0.1147326...  1012473.0   {}  "
      ]
     },
     "execution_count": 27,
     "metadata": {},
     "output_type": "execute_result"
    }
   ],
   "source": [
    "chetor_content[chetor_content['id'] == int(item_indexer1.reverse_get(3123))]"
   ]
  },
  {
   "cell_type": "markdown",
   "metadata": {},
   "source": [
    "## Annoy accuracy"
   ]
  },
  {
   "cell_type": "markdown",
   "metadata": {},
   "source": [
    "collab"
   ]
  },
  {
   "cell_type": "code",
   "execution_count": 28,
   "metadata": {},
   "outputs": [
    {
     "name": "stdout",
     "output_type": "stream",
     "text": [
      "ball_tree time: 3.330843210220337\n"
     ]
    }
   ],
   "source": [
    "Tknn_distances_brute, Tknn_indices_brute = sk_KNN(item_vectors40, number_of_neighbours = 10)"
   ]
  },
  {
   "cell_type": "code",
   "execution_count": 30,
   "metadata": {
    "scrolled": true
   },
   "outputs": [
    {
     "name": "stderr",
     "output_type": "stream",
     "text": [
      "\r",
      "  0%|          | 0/20 [00:00<?, ?it/s]"
     ]
    },
    {
     "name": "stdout",
     "output_type": "stream",
     "text": [
      "annoy time: 0.18284177780151367\n",
      "annoy time: 0.22900772094726562\n",
      "annoy time: 0.2614631652832031\n",
      "annoy time: 0.31166648864746094\n",
      "annoy time: 0.5290541648864746\n",
      "annoy time: 0.6226654052734375\n",
      "annoy time: 0.7087018489837646\n",
      "annoy time: 0.7778868675231934\n",
      "annoy time: 0.8737668991088867\n",
      "annoy time: 1.009667158126831\n",
      "annoy time: 1.2648205757141113\n",
      "annoy time: 2.1602585315704346\n",
      "annoy time: 2.449180841445923\n",
      "annoy time: 2.797687530517578\n",
      "annoy time: 3.122211456298828\n",
      "annoy time: 3.824042558670044\n",
      "annoy time: 4.549891948699951\n",
      "annoy time: 5.1327431201934814\n"
     ]
    },
    {
     "name": "stderr",
     "output_type": "stream",
     "text": [
      "\r",
      "  5%|▌         | 1/20 [00:39<12:24, 39.20s/it]"
     ]
    },
    {
     "name": "stdout",
     "output_type": "stream",
     "text": [
      "annoy time: 0.22255444526672363\n",
      "annoy time: 0.21938586235046387\n",
      "annoy time: 0.2878761291503906\n",
      "annoy time: 0.3652036190032959\n",
      "annoy time: 0.5358033180236816\n",
      "annoy time: 0.6115453243255615\n",
      "annoy time: 0.6880407333374023\n",
      "annoy time: 0.7699174880981445\n",
      "annoy time: 0.8617837429046631\n",
      "annoy time: 1.1228363513946533\n",
      "annoy time: 1.3161487579345703\n",
      "annoy time: 1.716904878616333\n",
      "annoy time: 2.155979871749878\n",
      "annoy time: 2.517794132232666\n",
      "annoy time: 2.990234851837158\n",
      "annoy time: 3.292833089828491\n",
      "annoy time: 4.098059892654419\n",
      "annoy time: 5.285878658294678\n"
     ]
    },
    {
     "name": "stderr",
     "output_type": "stream",
     "text": [
      "\r",
      " 10%|█         | 2/20 [01:16<11:22, 37.94s/it]"
     ]
    },
    {
     "name": "stdout",
     "output_type": "stream",
     "text": [
      "annoy time: 0.21378564834594727\n",
      "annoy time: 0.20888662338256836\n",
      "annoy time: 0.28513574600219727\n",
      "annoy time: 0.36742067337036133\n",
      "annoy time: 0.5244927406311035\n",
      "annoy time: 0.5905632972717285\n",
      "annoy time: 0.6697416305541992\n",
      "annoy time: 0.8068346977233887\n",
      "annoy time: 0.8260617256164551\n",
      "annoy time: 1.004054069519043\n",
      "annoy time: 1.2371666431427002\n",
      "annoy time: 1.6906828880310059\n",
      "annoy time: 2.1799135208129883\n",
      "annoy time: 2.43021559715271\n",
      "annoy time: 2.8703694343566895\n",
      "annoy time: 3.3661999702453613\n",
      "annoy time: 4.3259172439575195\n",
      "annoy time: 5.246567249298096\n"
     ]
    },
    {
     "name": "stderr",
     "output_type": "stream",
     "text": [
      "\r",
      " 15%|█▌        | 3/20 [01:53<10:37, 37.48s/it]"
     ]
    },
    {
     "name": "stdout",
     "output_type": "stream",
     "text": [
      "annoy time: 0.21930623054504395\n",
      "annoy time: 0.23122859001159668\n",
      "annoy time: 0.28313517570495605\n",
      "annoy time: 0.36470723152160645\n",
      "annoy time: 0.5309875011444092\n",
      "annoy time: 0.5950548648834229\n",
      "annoy time: 0.6852908134460449\n",
      "annoy time: 0.8173444271087646\n",
      "annoy time: 0.8592123985290527\n",
      "annoy time: 1.004518747329712\n",
      "annoy time: 1.2391266822814941\n",
      "annoy time: 1.6870903968811035\n",
      "annoy time: 2.1081957817077637\n",
      "annoy time: 2.5811994075775146\n",
      "annoy time: 3.2556841373443604\n",
      "annoy time: 3.3751256465911865\n",
      "annoy time: 4.255038022994995\n",
      "annoy time: 5.053329706192017\n"
     ]
    },
    {
     "name": "stderr",
     "output_type": "stream",
     "text": [
      "\r",
      " 20%|██        | 4/20 [02:30<10:00, 37.56s/it]"
     ]
    },
    {
     "name": "stdout",
     "output_type": "stream",
     "text": [
      "annoy time: 0.2132258415222168\n",
      "annoy time: 0.27137327194213867\n",
      "annoy time: 0.28661012649536133\n",
      "annoy time: 0.36870336532592773\n",
      "annoy time: 0.5268843173980713\n",
      "annoy time: 0.6746971607208252\n",
      "annoy time: 0.6801481246948242\n",
      "annoy time: 0.8411071300506592\n",
      "annoy time: 0.8643276691436768\n",
      "annoy time: 1.0039491653442383\n",
      "annoy time: 1.2461233139038086\n",
      "annoy time: 1.7321126461029053\n",
      "annoy time: 2.0407629013061523\n",
      "annoy time: 2.4868085384368896\n",
      "annoy time: 2.8511338233947754\n",
      "annoy time: 3.235593318939209\n",
      "annoy time: 4.260563135147095\n",
      "annoy time: 5.040127515792847\n"
     ]
    },
    {
     "name": "stderr",
     "output_type": "stream",
     "text": [
      "\r",
      " 25%|██▌       | 5/20 [03:07<09:19, 37.28s/it]"
     ]
    },
    {
     "name": "stdout",
     "output_type": "stream",
     "text": [
      "annoy time: 0.2384204864501953\n",
      "annoy time: 0.21152925491333008\n",
      "annoy time: 0.371077299118042\n",
      "annoy time: 0.3667316436767578\n",
      "annoy time: 0.5202465057373047\n",
      "annoy time: 0.6192805767059326\n",
      "annoy time: 0.6708178520202637\n",
      "annoy time: 0.9265670776367188\n",
      "annoy time: 1.0469446182250977\n",
      "annoy time: 1.1421208381652832\n",
      "annoy time: 1.3451166152954102\n",
      "annoy time: 1.9440088272094727\n",
      "annoy time: 2.1990129947662354\n",
      "annoy time: 2.719916343688965\n",
      "annoy time: 3.3528079986572266\n",
      "annoy time: 3.670894145965576\n",
      "annoy time: 4.125470876693726\n",
      "annoy time: 5.323908567428589\n"
     ]
    },
    {
     "name": "stderr",
     "output_type": "stream",
     "text": [
      "\r",
      " 30%|███       | 6/20 [03:47<08:51, 37.98s/it]"
     ]
    },
    {
     "name": "stdout",
     "output_type": "stream",
     "text": [
      "annoy time: 0.25150179862976074\n",
      "annoy time: 0.2532486915588379\n",
      "annoy time: 0.30330610275268555\n",
      "annoy time: 0.7047326564788818\n",
      "annoy time: 0.9775645732879639\n",
      "annoy time: 0.741692304611206\n",
      "annoy time: 0.771111011505127\n",
      "annoy time: 0.8340785503387451\n",
      "annoy time: 0.9535441398620605\n",
      "annoy time: 1.269247055053711\n",
      "annoy time: 1.2903177738189697\n",
      "annoy time: 1.7296273708343506\n",
      "annoy time: 2.2191476821899414\n",
      "annoy time: 2.8806841373443604\n",
      "annoy time: 3.4408113956451416\n",
      "annoy time: 3.3530619144439697\n",
      "annoy time: 4.29582667350769\n",
      "annoy time: 5.180568218231201\n"
     ]
    },
    {
     "name": "stderr",
     "output_type": "stream",
     "text": [
      "\r",
      " 35%|███▌      | 7/20 [04:28<08:28, 39.09s/it]"
     ]
    },
    {
     "name": "stdout",
     "output_type": "stream",
     "text": [
      "annoy time: 0.22859740257263184\n",
      "annoy time: 0.2156383991241455\n",
      "annoy time: 0.3288247585296631\n",
      "annoy time: 0.4120042324066162\n",
      "annoy time: 0.561225175857544\n",
      "annoy time: 0.786306619644165\n",
      "annoy time: 1.0874288082122803\n",
      "annoy time: 0.872185468673706\n",
      "annoy time: 0.8588383197784424\n",
      "annoy time: 1.044142484664917\n",
      "annoy time: 1.2761423587799072\n",
      "annoy time: 1.7188901901245117\n",
      "annoy time: 2.059530258178711\n",
      "annoy time: 2.531813144683838\n",
      "annoy time: 3.133200168609619\n",
      "annoy time: 3.8530185222625732\n",
      "annoy time: 5.403870344161987\n",
      "annoy time: 5.3718273639678955\n"
     ]
    },
    {
     "name": "stderr",
     "output_type": "stream",
     "text": [
      "\r",
      " 40%|████      | 8/20 [05:08<07:54, 39.51s/it]"
     ]
    },
    {
     "name": "stdout",
     "output_type": "stream",
     "text": [
      "annoy time: 0.21518564224243164\n",
      "annoy time: 0.24132132530212402\n",
      "annoy time: 0.300001859664917\n",
      "annoy time: 0.3884568214416504\n",
      "annoy time: 0.5836524963378906\n",
      "annoy time: 0.6149117946624756\n",
      "annoy time: 0.6800966262817383\n",
      "annoy time: 0.8356008529663086\n",
      "annoy time: 0.9003942012786865\n",
      "annoy time: 1.1123931407928467\n",
      "annoy time: 1.3648567199707031\n",
      "annoy time: 2.195667266845703\n",
      "annoy time: 2.4343206882476807\n",
      "annoy time: 2.741856336593628\n",
      "annoy time: 3.686063289642334\n",
      "annoy time: 3.6639156341552734\n",
      "annoy time: 4.3112640380859375\n",
      "annoy time: 5.26878547668457\n"
     ]
    },
    {
     "name": "stderr",
     "output_type": "stream",
     "text": [
      "\r",
      " 45%|████▌     | 9/20 [05:49<07:17, 39.75s/it]"
     ]
    },
    {
     "name": "stdout",
     "output_type": "stream",
     "text": [
      "annoy time: 0.218034029006958\n",
      "annoy time: 0.22382235527038574\n",
      "annoy time: 0.3167386054992676\n",
      "annoy time: 0.4381065368652344\n",
      "annoy time: 0.8371315002441406\n",
      "annoy time: 0.6282970905303955\n",
      "annoy time: 0.8500092029571533\n",
      "annoy time: 1.0355041027069092\n",
      "annoy time: 1.0493903160095215\n",
      "annoy time: 1.0348389148712158\n",
      "annoy time: 1.2541136741638184\n",
      "annoy time: 1.683572769165039\n",
      "annoy time: 2.054774761199951\n",
      "annoy time: 2.8725779056549072\n",
      "annoy time: 2.9881842136383057\n",
      "annoy time: 3.292524814605713\n",
      "annoy time: 4.655806303024292\n",
      "annoy time: 5.655008316040039\n"
     ]
    },
    {
     "name": "stderr",
     "output_type": "stream",
     "text": [
      "\r",
      " 50%|█████     | 10/20 [06:28<06:37, 39.78s/it]"
     ]
    },
    {
     "name": "stdout",
     "output_type": "stream",
     "text": [
      "annoy time: 0.22550010681152344\n",
      "annoy time: 0.26134371757507324\n",
      "annoy time: 0.32949018478393555\n",
      "annoy time: 0.4032480716705322\n",
      "annoy time: 0.5792174339294434\n",
      "annoy time: 0.677753210067749\n",
      "annoy time: 0.7803294658660889\n",
      "annoy time: 0.977241039276123\n",
      "annoy time: 1.003300428390503\n",
      "annoy time: 1.1232283115386963\n",
      "annoy time: 1.6451048851013184\n",
      "annoy time: 1.9391083717346191\n",
      "annoy time: 2.5900402069091797\n",
      "annoy time: 3.1006062030792236\n",
      "annoy time: 3.2764015197753906\n",
      "annoy time: 3.5932226181030273\n",
      "annoy time: 4.22122597694397\n",
      "annoy time: 5.711242914199829\n"
     ]
    },
    {
     "name": "stderr",
     "output_type": "stream",
     "text": [
      "\r",
      " 55%|█████▌    | 11/20 [07:10<06:03, 40.35s/it]"
     ]
    },
    {
     "name": "stdout",
     "output_type": "stream",
     "text": [
      "annoy time: 0.278839111328125\n",
      "annoy time: 0.21596741676330566\n",
      "annoy time: 0.4053678512573242\n",
      "annoy time: 0.3724477291107178\n",
      "annoy time: 0.5389692783355713\n",
      "annoy time: 0.6923801898956299\n",
      "annoy time: 0.6914470195770264\n",
      "annoy time: 0.81740403175354\n",
      "annoy time: 0.9656314849853516\n",
      "annoy time: 1.0258545875549316\n",
      "annoy time: 1.3258285522460938\n",
      "annoy time: 1.9398999214172363\n",
      "annoy time: 2.507283926010132\n",
      "annoy time: 2.7454655170440674\n",
      "annoy time: 3.0270538330078125\n",
      "annoy time: 3.744694709777832\n",
      "annoy time: 4.564915895462036\n",
      "annoy time: 5.143012762069702\n"
     ]
    },
    {
     "name": "stderr",
     "output_type": "stream",
     "text": [
      "\r",
      " 60%|██████    | 12/20 [07:50<05:21, 40.25s/it]"
     ]
    },
    {
     "name": "stdout",
     "output_type": "stream",
     "text": [
      "annoy time: 0.3019857406616211\n",
      "annoy time: 0.27507948875427246\n",
      "annoy time: 0.366147518157959\n",
      "annoy time: 0.38332104682922363\n",
      "annoy time: 0.586968183517456\n",
      "annoy time: 0.7036240100860596\n",
      "annoy time: 0.7198405265808105\n",
      "annoy time: 0.8466291427612305\n",
      "annoy time: 0.8631081581115723\n",
      "annoy time: 1.1760451793670654\n",
      "annoy time: 1.3952934741973877\n",
      "annoy time: 2.1201372146606445\n",
      "annoy time: 2.3475711345672607\n",
      "annoy time: 3.0050342082977295\n",
      "annoy time: 3.26010799407959\n",
      "annoy time: 3.3231990337371826\n",
      "annoy time: 4.439939975738525\n",
      "annoy time: 5.56151556968689\n"
     ]
    },
    {
     "name": "stderr",
     "output_type": "stream",
     "text": [
      "\r",
      " 65%|██████▌   | 13/20 [08:31<04:42, 40.33s/it]"
     ]
    },
    {
     "name": "stdout",
     "output_type": "stream",
     "text": [
      "annoy time: 0.3587207794189453\n",
      "annoy time: 0.25042104721069336\n",
      "annoy time: 0.3285079002380371\n",
      "annoy time: 0.43140673637390137\n",
      "annoy time: 0.5494728088378906\n",
      "annoy time: 0.8911516666412354\n",
      "annoy time: 0.7477431297302246\n",
      "annoy time: 0.89235520362854\n",
      "annoy time: 0.9703776836395264\n",
      "annoy time: 1.2008042335510254\n",
      "annoy time: 1.308380126953125\n",
      "annoy time: 1.9831764698028564\n",
      "annoy time: 2.086578845977783\n",
      "annoy time: 2.6194419860839844\n",
      "annoy time: 3.017777442932129\n",
      "annoy time: 3.8016390800476074\n",
      "annoy time: 4.502047061920166\n",
      "annoy time: 5.244422674179077\n"
     ]
    },
    {
     "name": "stderr",
     "output_type": "stream",
     "text": [
      "\r",
      " 70%|███████   | 14/20 [09:11<04:02, 40.36s/it]"
     ]
    },
    {
     "name": "stdout",
     "output_type": "stream",
     "text": [
      "annoy time: 0.2050931453704834\n",
      "annoy time: 0.3863503932952881\n",
      "annoy time: 0.297074556350708\n",
      "annoy time: 0.43464207649230957\n",
      "annoy time: 0.6268649101257324\n",
      "annoy time: 0.7359344959259033\n",
      "annoy time: 0.856597900390625\n",
      "annoy time: 1.08107328414917\n",
      "annoy time: 1.1364374160766602\n",
      "annoy time: 1.1683757305145264\n",
      "annoy time: 1.3409364223480225\n",
      "annoy time: 1.7983903884887695\n",
      "annoy time: 2.2384557723999023\n",
      "annoy time: 2.832693338394165\n",
      "annoy time: 3.555959463119507\n",
      "annoy time: 3.9012537002563477\n",
      "annoy time: 4.5189127922058105\n",
      "annoy time: 5.737923622131348\n"
     ]
    },
    {
     "name": "stderr",
     "output_type": "stream",
     "text": [
      "\r",
      " 75%|███████▌  | 15/20 [09:53<03:24, 40.82s/it]"
     ]
    },
    {
     "name": "stdout",
     "output_type": "stream",
     "text": [
      "annoy time: 0.22100186347961426\n",
      "annoy time: 0.27272987365722656\n",
      "annoy time: 0.306795597076416\n",
      "annoy time: 0.41736674308776855\n",
      "annoy time: 0.8387377262115479\n",
      "annoy time: 0.6319506168365479\n",
      "annoy time: 0.7014026641845703\n",
      "annoy time: 0.9194808006286621\n",
      "annoy time: 1.0584816932678223\n",
      "annoy time: 1.3817992210388184\n",
      "annoy time: 1.432483196258545\n",
      "annoy time: 1.9130825996398926\n",
      "annoy time: 2.3257648944854736\n",
      "annoy time: 2.666541814804077\n",
      "annoy time: 3.2369956970214844\n",
      "annoy time: 3.5547540187835693\n",
      "annoy time: 4.835507392883301\n",
      "annoy time: 5.846299886703491\n"
     ]
    },
    {
     "name": "stderr",
     "output_type": "stream",
     "text": [
      "\r",
      " 80%|████████  | 16/20 [10:35<02:44, 41.08s/it]"
     ]
    },
    {
     "name": "stdout",
     "output_type": "stream",
     "text": [
      "annoy time: 0.17681336402893066\n",
      "annoy time: 0.32684826850891113\n",
      "annoy time: 0.42803144454956055\n",
      "annoy time: 0.46106934547424316\n",
      "annoy time: 0.6878457069396973\n",
      "annoy time: 0.7689306735992432\n",
      "annoy time: 0.8281738758087158\n",
      "annoy time: 1.005582332611084\n",
      "annoy time: 0.9248218536376953\n",
      "annoy time: 1.1270644664764404\n",
      "annoy time: 1.303964614868164\n",
      "annoy time: 1.7065472602844238\n",
      "annoy time: 2.078641891479492\n",
      "annoy time: 2.5037689208984375\n",
      "annoy time: 3.0757992267608643\n",
      "annoy time: 3.2814254760742188\n",
      "annoy time: 4.249178886413574\n",
      "annoy time: 5.047966480255127\n"
     ]
    },
    {
     "name": "stderr",
     "output_type": "stream",
     "text": [
      "\r",
      " 85%|████████▌ | 17/20 [11:14<02:01, 40.56s/it]"
     ]
    },
    {
     "name": "stdout",
     "output_type": "stream",
     "text": [
      "annoy time: 0.15548014640808105\n",
      "annoy time: 0.28290796279907227\n",
      "annoy time: 0.32621216773986816\n",
      "annoy time: 0.46874308586120605\n",
      "annoy time: 0.6658554077148438\n",
      "annoy time: 0.800013542175293\n",
      "annoy time: 0.8263890743255615\n",
      "annoy time: 1.074378490447998\n",
      "annoy time: 0.9207804203033447\n",
      "annoy time: 1.1417267322540283\n",
      "annoy time: 1.2840678691864014\n",
      "annoy time: 2.049194097518921\n",
      "annoy time: 2.1266844272613525\n",
      "annoy time: 2.776704788208008\n",
      "annoy time: 2.9771125316619873\n",
      "annoy time: 3.3459701538085938\n",
      "annoy time: 4.218277454376221\n",
      "annoy time: 5.011158227920532\n"
     ]
    },
    {
     "name": "stderr",
     "output_type": "stream",
     "text": [
      "\r",
      " 90%|█████████ | 18/20 [11:53<01:20, 40.22s/it]"
     ]
    },
    {
     "name": "stdout",
     "output_type": "stream",
     "text": [
      "annoy time: 0.20600128173828125\n",
      "annoy time: 0.21720528602600098\n",
      "annoy time: 0.29134607315063477\n",
      "annoy time: 0.4336233139038086\n",
      "annoy time: 0.53206467628479\n",
      "annoy time: 0.6447534561157227\n",
      "annoy time: 0.7160215377807617\n",
      "annoy time: 0.9107282161712646\n",
      "annoy time: 0.963623046875\n",
      "annoy time: 1.0231127738952637\n",
      "annoy time: 1.254037857055664\n",
      "annoy time: 1.6747219562530518\n",
      "annoy time: 2.340898036956787\n",
      "annoy time: 2.628777265548706\n",
      "annoy time: 3.525779962539673\n",
      "annoy time: 4.041113376617432\n",
      "annoy time: 5.008286952972412\n",
      "annoy time: 5.412813425064087\n"
     ]
    },
    {
     "name": "stderr",
     "output_type": "stream",
     "text": [
      "\r",
      " 95%|█████████▌| 19/20 [12:33<00:40, 40.18s/it]"
     ]
    },
    {
     "name": "stdout",
     "output_type": "stream",
     "text": [
      "annoy time: 0.15653324127197266\n",
      "annoy time: 0.3214247226715088\n",
      "annoy time: 0.36476993560791016\n",
      "annoy time: 0.4846343994140625\n",
      "annoy time: 0.5867345333099365\n",
      "annoy time: 0.6816184520721436\n",
      "annoy time: 0.797844648361206\n",
      "annoy time: 0.8912594318389893\n",
      "annoy time: 0.8868732452392578\n",
      "annoy time: 1.02189040184021\n",
      "annoy time: 1.4740064144134521\n",
      "annoy time: 1.6676256656646729\n",
      "annoy time: 2.3003857135772705\n",
      "annoy time: 3.4942688941955566\n",
      "annoy time: 3.6397745609283447\n",
      "annoy time: 3.67313551902771\n",
      "annoy time: 4.889196395874023\n",
      "annoy time: 5.8777148723602295\n"
     ]
    },
    {
     "name": "stderr",
     "output_type": "stream",
     "text": [
      "100%|██████████| 20/20 [13:16<00:00, 39.81s/it]\n"
     ]
    }
   ],
   "source": [
    "allt2 = []\n",
    "allndcgs2 = []\n",
    "for i in tqdm(range(20)):\n",
    "    tt = []\n",
    "    accs = []\n",
    "    ndcgs = []\n",
    "    trees = [5,6,7,8, 10,12, 15, 20, 30, 35, 40, 45, 50, 60, 75, 100, 125, 150, 175, 200, 250,  300]\n",
    "    for i in trees:\n",
    "        Tannoy_indices_CF, Tannoy_distances, Tduration = get_annoy_results(item_vectors40, number_of_trees = i, number_of_neighbours = 10)\n",
    "        tt.append(6877/Tduration)\n",
    "        accs.append(calc_acc(Tannoy_indices_CF, Tknn_indices_brute, 10))\n",
    "        ndcgs.append(calc_nDCG(Tannoy_indices_CF, Tknn_indices_brute, 10))\n",
    "    allt2.append(tt)\n",
    "    allndcgs2.append(ndcgs)\n",
    "allt2 = np.array(allt2)\n",
    "allndcgs2 = np.array(allndcgs2)"
   ]
  },
  {
   "cell_type": "code",
   "execution_count": 31,
   "metadata": {},
   "outputs": [],
   "source": [
    "allt3 = np.mean(allt2, axis = 0)\n",
    "allndcgs3 = np.mean(allndcgs2, axis = 0)"
   ]
  },
  {
   "cell_type": "code",
   "execution_count": 32,
   "metadata": {},
   "outputs": [
    {
     "data": {
      "text/plain": [
       "array([31812.67323281, 27609.99841028, 21603.47155278, 16852.92253511,\n",
       "       11522.97088274, 10151.38903653,  9200.05282361,  7746.81575279,\n",
       "        7374.48232406,  6258.71620878,  5195.15480251,  3743.58315709,\n",
       "        3082.15159485,  2521.69175878,  2151.87658469,  1940.93344429,\n",
       "        1540.33585039,  1286.83723566])"
      ]
     },
     "execution_count": 32,
     "metadata": {},
     "output_type": "execute_result"
    }
   ],
   "source": [
    "allt3"
   ]
  },
  {
   "cell_type": "code",
   "execution_count": 33,
   "metadata": {},
   "outputs": [
    {
     "data": {
      "image/png": "[encoded data removed]",
      "text/plain": [
       "<Figure size 432x288 with 1 Axes>"
      ]
     },
     "metadata": {
      "needs_background": "light"
     },
     "output_type": "display_data"
    }
   ],
   "source": [
    "plt.plot(allndcgs3, allt3)\n",
    "plt.ylabel(\"Recommendations per second\")\n",
    "plt.xlabel(\"Normalized Discounted Cumulative Gain (NDCG)\")\n",
    "for i in [0,7,9,14,18, 21]:\n",
    "    plt.annotate(\n",
    "            str(trees[i]) + \" trees\",\n",
    "            xy=(allndcgs3[i], allt3[i]), xytext=(30, 30),\n",
    "            textcoords='offset points', ha='left', va='top',\n",
    "            bbox=dict(boxstyle='round,pad=0.5', fc='yellow', alpha=0.5),\n",
    "            arrowprops=dict(arrowstyle = '->', connectionstyle='arc3,rad=0'))"
   ]
  },
  {
   "cell_type": "markdown",
   "metadata": {},
   "source": [
    "content"
   ]
  },
  {
   "cell_type": "code",
   "execution_count": 34,
   "metadata": {},
   "outputs": [
    {
     "name": "stdout",
     "output_type": "stream",
     "text": [
      "ball_tree time: 22.65732431411743\n"
     ]
    }
   ],
   "source": [
    "Aknn_distances_brute_CB, Aknn_indices_brute_CB = sk_KNN_c(content_vec, items_itex, number_of_neighbours = 10)"
   ]
  },
  {
   "cell_type": "code",
   "execution_count": 58,
   "metadata": {},
   "outputs": [
    {
     "data": {
      "text/plain": [
       "384.99691662906696"
      ]
     },
     "execution_count": 58,
     "metadata": {},
     "output_type": "execute_result"
    }
   ],
   "source": [
    "8723/22.65732431411743"
   ]
  },
  {
   "cell_type": "code",
   "execution_count": 35,
   "metadata": {
    "scrolled": true
   },
   "outputs": [
    {
     "name": "stderr",
     "output_type": "stream",
     "text": [
      "\r",
      "  0%|          | 0/20 [00:00<?, ?it/s]"
     ]
    },
    {
     "name": "stdout",
     "output_type": "stream",
     "text": [
      "annoy time: 0.7424495220184326\n",
      "annoy time: 0.6951406002044678\n",
      "annoy time: 0.615203857421875\n",
      "annoy time: 0.6364014148712158\n",
      "annoy time: 0.6670629978179932\n",
      "annoy time: 0.7139875888824463\n",
      "annoy time: 0.6931097507476807\n",
      "annoy time: 0.7077956199645996\n",
      "annoy time: 0.760897159576416\n",
      "annoy time: 1.3466041088104248\n",
      "annoy time: 1.4057104587554932\n",
      "annoy time: 1.4868378639221191\n",
      "annoy time: 1.4024522304534912\n",
      "annoy time: 1.3393299579620361\n",
      "annoy time: 1.8173439502716064\n",
      "annoy time: 1.7379875183105469\n",
      "annoy time: 2.3821990489959717\n",
      "annoy time: 2.8255615234375\n",
      "annoy time: 2.937631607055664\n",
      "annoy time: 3.5020101070404053\n",
      "annoy time: 3.4327187538146973\n",
      "annoy time: 5.123732089996338\n"
     ]
    },
    {
     "name": "stderr",
     "output_type": "stream",
     "text": [
      "\r",
      "  5%|▌         | 1/20 [00:44<14:10, 44.76s/it]"
     ]
    },
    {
     "name": "stdout",
     "output_type": "stream",
     "text": [
      "annoy time: 5.6050331592559814\n",
      "annoy time: 0.7193396091461182\n",
      "annoy time: 0.6713745594024658\n",
      "annoy time: 0.626859188079834\n",
      "annoy time: 0.8200607299804688\n",
      "annoy time: 1.0569238662719727\n",
      "annoy time: 0.8650186061859131\n",
      "annoy time: 1.1759541034698486\n",
      "annoy time: 0.732464075088501\n",
      "annoy time: 0.9416768550872803\n",
      "annoy time: 1.1612930297851562\n",
      "annoy time: 1.5139212608337402\n",
      "annoy time: 1.219956398010254\n",
      "annoy time: 1.2811901569366455\n",
      "annoy time: 1.4202251434326172\n",
      "annoy time: 1.8670554161071777\n",
      "annoy time: 1.8358287811279297\n",
      "annoy time: 2.2501842975616455\n",
      "annoy time: 2.566058874130249\n",
      "annoy time: 3.2422397136688232\n",
      "annoy time: 3.1382851600646973\n",
      "annoy time: 3.497328042984009\n",
      "annoy time: 4.708150625228882\n"
     ]
    },
    {
     "name": "stderr",
     "output_type": "stream",
     "text": [
      "\r",
      " 10%|█         | 2/20 [01:28<13:19, 44.44s/it]"
     ]
    },
    {
     "name": "stdout",
     "output_type": "stream",
     "text": [
      "annoy time: 4.867059230804443\n",
      "annoy time: 0.5953576564788818\n",
      "annoy time: 0.5954799652099609\n",
      "annoy time: 0.5949375629425049\n",
      "annoy time: 0.6022951602935791\n",
      "annoy time: 0.6271777153015137\n",
      "annoy time: 0.6403679847717285\n",
      "annoy time: 0.663135290145874\n",
      "annoy time: 0.7554161548614502\n",
      "annoy time: 0.7484652996063232\n",
      "annoy time: 0.9642713069915771\n",
      "annoy time: 1.0090968608856201\n",
      "annoy time: 1.418318510055542\n",
      "annoy time: 1.132584571838379\n",
      "annoy time: 1.1899333000183105\n",
      "annoy time: 1.4825444221496582\n",
      "annoy time: 1.9200630187988281\n",
      "annoy time: 2.4891998767852783\n",
      "annoy time: 3.2922868728637695\n",
      "annoy time: 4.160708904266357\n",
      "annoy time: 3.7114295959472656\n",
      "annoy time: 3.775503635406494\n",
      "annoy time: 5.158283472061157\n"
     ]
    },
    {
     "name": "stderr",
     "output_type": "stream",
     "text": [
      "\r",
      " 15%|█▌        | 3/20 [02:13<12:34, 44.38s/it]"
     ]
    },
    {
     "name": "stdout",
     "output_type": "stream",
     "text": [
      "annoy time: 4.830116033554077\n",
      "annoy time: 0.755476713180542\n",
      "annoy time: 0.5994467735290527\n",
      "annoy time: 0.628476619720459\n",
      "annoy time: 0.6687400341033936\n",
      "annoy time: 0.6328539848327637\n",
      "annoy time: 0.6651585102081299\n",
      "annoy time: 0.7168257236480713\n",
      "annoy time: 0.7202634811401367\n",
      "annoy time: 0.8357250690460205\n",
      "annoy time: 0.9833881855010986\n",
      "annoy time: 1.092635154724121\n",
      "annoy time: 1.300163984298706\n",
      "annoy time: 1.1783077716827393\n",
      "annoy time: 1.2282726764678955\n",
      "annoy time: 1.358266830444336\n",
      "annoy time: 1.5414588451385498\n",
      "annoy time: 1.9165763854980469\n",
      "annoy time: 2.213995933532715\n",
      "annoy time: 3.0162136554718018\n",
      "annoy time: 3.519498109817505\n",
      "annoy time: 3.513902187347412\n",
      "annoy time: 4.325608491897583\n"
     ]
    },
    {
     "name": "stderr",
     "output_type": "stream",
     "text": [
      "\r",
      " 20%|██        | 4/20 [02:55<11:35, 43.49s/it]"
     ]
    },
    {
     "name": "stdout",
     "output_type": "stream",
     "text": [
      "annoy time: 6.73054051399231\n",
      "annoy time: 1.1753382682800293\n",
      "annoy time: 1.28375244140625\n",
      "annoy time: 1.1167690753936768\n",
      "annoy time: 0.9450092315673828\n",
      "annoy time: 1.323641061782837\n",
      "annoy time: 0.9318985939025879\n",
      "annoy time: 1.103841781616211\n",
      "annoy time: 0.8329257965087891\n",
      "annoy time: 0.9885504245758057\n",
      "annoy time: 1.1992535591125488\n",
      "annoy time: 1.3332221508026123\n",
      "annoy time: 1.3695716857910156\n",
      "annoy time: 1.81492280960083\n",
      "annoy time: 1.8569858074188232\n",
      "annoy time: 1.9441730976104736\n",
      "annoy time: 2.207810163497925\n",
      "annoy time: 3.0873310565948486\n",
      "annoy time: 4.287561655044556\n",
      "annoy time: 3.7091500759124756\n",
      "annoy time: 4.562887191772461\n",
      "annoy time: 4.538695573806763\n",
      "annoy time: 6.316741466522217\n"
     ]
    },
    {
     "name": "stderr",
     "output_type": "stream",
     "text": [
      "\r",
      " 25%|██▌       | 5/20 [03:53<12:10, 48.73s/it]"
     ]
    },
    {
     "name": "stdout",
     "output_type": "stream",
     "text": [
      "annoy time: 7.198062181472778\n",
      "annoy time: 1.030409574508667\n",
      "annoy time: 0.9099807739257812\n",
      "annoy time: 0.9171576499938965\n",
      "annoy time: 1.0466372966766357\n",
      "annoy time: 0.9371387958526611\n",
      "annoy time: 1.1149959564208984\n",
      "annoy time: 0.9641926288604736\n",
      "annoy time: 1.1595134735107422\n",
      "annoy time: 1.1480932235717773\n",
      "annoy time: 1.5280604362487793\n",
      "annoy time: 1.4525115489959717\n",
      "annoy time: 1.8258166313171387\n",
      "annoy time: 1.471966028213501\n",
      "annoy time: 1.5042309761047363\n",
      "annoy time: 2.6091151237487793\n",
      "annoy time: 2.343616485595703\n",
      "annoy time: 2.27284574508667\n",
      "annoy time: 2.5648467540740967\n",
      "annoy time: 2.8643553256988525\n",
      "annoy time: 3.0281200408935547\n",
      "annoy time: 3.4703688621520996\n",
      "annoy time: 5.0604448318481445\n"
     ]
    },
    {
     "name": "stderr",
     "output_type": "stream",
     "text": [
      "\r",
      " 30%|███       | 6/20 [04:43<11:26, 49.04s/it]"
     ]
    },
    {
     "name": "stdout",
     "output_type": "stream",
     "text": [
      "annoy time: 5.607493877410889\n",
      "annoy time: 0.7079329490661621\n",
      "annoy time: 0.6829676628112793\n",
      "annoy time: 0.7089884281158447\n",
      "annoy time: 0.8653304576873779\n",
      "annoy time: 0.8601741790771484\n",
      "annoy time: 0.7589714527130127\n",
      "annoy time: 0.8229751586914062\n",
      "annoy time: 0.8039462566375732\n",
      "annoy time: 1.0222864151000977\n",
      "annoy time: 1.1562283039093018\n",
      "annoy time: 1.1842248439788818\n",
      "annoy time: 1.2723267078399658\n",
      "annoy time: 1.4263191223144531\n",
      "annoy time: 1.2990741729736328\n",
      "annoy time: 1.6229298114776611\n",
      "annoy time: 1.9333148002624512\n",
      "annoy time: 2.4167447090148926\n",
      "annoy time: 2.4896793365478516\n",
      "annoy time: 3.1318182945251465\n",
      "annoy time: 4.209501028060913\n",
      "annoy time: 3.5032241344451904\n",
      "annoy time: 4.379434823989868\n"
     ]
    },
    {
     "name": "stderr",
     "output_type": "stream",
     "text": [
      "\r",
      " 35%|███▌      | 7/20 [05:28<10:23, 48.00s/it]"
     ]
    },
    {
     "name": "stdout",
     "output_type": "stream",
     "text": [
      "annoy time: 6.530695676803589\n",
      "annoy time: 0.8166906833648682\n",
      "annoy time: 0.6183133125305176\n",
      "annoy time: 0.6341674327850342\n",
      "annoy time: 0.7853283882141113\n",
      "annoy time: 0.696885347366333\n",
      "annoy time: 0.7760462760925293\n",
      "annoy time: 1.2022724151611328\n",
      "annoy time: 1.1895532608032227\n",
      "annoy time: 0.9489500522613525\n",
      "annoy time: 1.0486176013946533\n",
      "annoy time: 1.091416597366333\n",
      "annoy time: 1.2800800800323486\n",
      "annoy time: 1.2023663520812988\n",
      "annoy time: 1.2923176288604736\n",
      "annoy time: 1.6799497604370117\n",
      "annoy time: 2.3883981704711914\n",
      "annoy time: 1.938260555267334\n",
      "annoy time: 2.907000780105591\n",
      "annoy time: 3.26253342628479\n",
      "annoy time: 3.7478675842285156\n",
      "annoy time: 4.706857204437256\n",
      "annoy time: 4.510461807250977\n"
     ]
    },
    {
     "name": "stderr",
     "output_type": "stream",
     "text": [
      "\r",
      " 40%|████      | 8/20 [06:16<09:32, 47.71s/it]"
     ]
    },
    {
     "name": "stdout",
     "output_type": "stream",
     "text": [
      "annoy time: 6.37331748008728\n",
      "annoy time: 0.7044708728790283\n",
      "annoy time: 0.693317174911499\n",
      "annoy time: 0.9226870536804199\n",
      "annoy time: 0.9742107391357422\n",
      "annoy time: 0.8974483013153076\n",
      "annoy time: 0.8552885055541992\n",
      "annoy time: 1.3969590663909912\n",
      "annoy time: 0.919849157333374\n",
      "annoy time: 0.8513436317443848\n",
      "annoy time: 1.232208013534546\n",
      "annoy time: 1.1213512420654297\n",
      "annoy time: 1.3517389297485352\n",
      "annoy time: 1.4257681369781494\n",
      "annoy time: 1.4686355590820312\n",
      "annoy time: 2.028391122817993\n",
      "annoy time: 1.787048101425171\n",
      "annoy time: 2.451700210571289\n",
      "annoy time: 2.3968775272369385\n",
      "annoy time: 2.7897512912750244\n",
      "annoy time: 3.2526140213012695\n",
      "annoy time: 3.927546262741089\n",
      "annoy time: 4.904734373092651\n"
     ]
    },
    {
     "name": "stderr",
     "output_type": "stream",
     "text": [
      "\r",
      " 45%|████▌     | 9/20 [07:03<08:43, 47.64s/it]"
     ]
    },
    {
     "name": "stdout",
     "output_type": "stream",
     "text": [
      "annoy time: 6.711952447891235\n",
      "annoy time: 0.9215126037597656\n",
      "annoy time: 0.8624813556671143\n",
      "annoy time: 0.8487639427185059\n",
      "annoy time: 0.7911379337310791\n",
      "annoy time: 0.8595578670501709\n",
      "annoy time: 0.8124239444732666\n",
      "annoy time: 0.8731045722961426\n",
      "annoy time: 0.8351387977600098\n",
      "annoy time: 0.9976639747619629\n",
      "annoy time: 1.8286330699920654\n",
      "annoy time: 2.175236225128174\n",
      "annoy time: 2.1962716579437256\n",
      "annoy time: 2.421752452850342\n",
      "annoy time: 2.321439266204834\n",
      "annoy time: 2.7887017726898193\n",
      "annoy time: 2.2687814235687256\n",
      "annoy time: 2.3451600074768066\n",
      "annoy time: 2.9488730430603027\n",
      "annoy time: 3.3168513774871826\n",
      "annoy time: 4.153924226760864\n",
      "annoy time: 3.7391016483306885\n",
      "annoy time: 5.1922876834869385\n"
     ]
    },
    {
     "name": "stderr",
     "output_type": "stream",
     "text": [
      "\r",
      " 50%|█████     | 10/20 [07:57<08:15, 49.53s/it]"
     ]
    },
    {
     "name": "stdout",
     "output_type": "stream",
     "text": [
      "annoy time: 5.64694356918335\n",
      "annoy time: 0.9217784404754639\n",
      "annoy time: 0.9638831615447998\n",
      "annoy time: 0.8782620429992676\n",
      "annoy time: 0.9136695861816406\n",
      "annoy time: 1.0900535583496094\n",
      "annoy time: 0.9137134552001953\n",
      "annoy time: 1.6958589553833008\n",
      "annoy time: 1.290172815322876\n",
      "annoy time: 1.313025951385498\n",
      "annoy time: 1.6423864364624023\n",
      "annoy time: 1.5129342079162598\n",
      "annoy time: 1.6043879985809326\n",
      "annoy time: 1.9207415580749512\n",
      "annoy time: 1.6647045612335205\n",
      "annoy time: 2.06319522857666\n",
      "annoy time: 2.4981746673583984\n",
      "annoy time: 4.090469598770142\n",
      "annoy time: 3.3138177394866943\n",
      "annoy time: 3.6807215213775635\n",
      "annoy time: 3.868231773376465\n",
      "annoy time: 3.7696824073791504\n",
      "annoy time: 4.869924545288086\n",
      "annoy time: 7.277925491333008\n"
     ]
    },
    {
     "name": "stderr",
     "output_type": "stream",
     "text": [
      "\r",
      " 55%|█████▌    | 11/20 [08:53<07:45, 51.69s/it]"
     ]
    },
    {
     "name": "stdout",
     "output_type": "stream",
     "text": [
      "annoy time: 0.6799206733703613\n",
      "annoy time: 0.6923246383666992\n",
      "annoy time: 1.0617525577545166\n",
      "annoy time: 0.8482074737548828\n",
      "annoy time: 0.8605821132659912\n",
      "annoy time: 0.7556056976318359\n",
      "annoy time: 0.7773442268371582\n",
      "annoy time: 0.8775639533996582\n",
      "annoy time: 0.8800933361053467\n",
      "annoy time: 1.2484462261199951\n",
      "annoy time: 1.27860689163208\n",
      "annoy time: 1.3141303062438965\n",
      "annoy time: 1.9149305820465088\n",
      "annoy time: 1.5797715187072754\n",
      "annoy time: 1.3973946571350098\n",
      "annoy time: 1.8455257415771484\n",
      "annoy time: 2.1367595195770264\n",
      "annoy time: 2.6309921741485596\n",
      "annoy time: 3.0261952877044678\n",
      "annoy time: 3.107654094696045\n",
      "annoy time: 3.911008358001709\n",
      "annoy time: 4.2051169872283936\n"
     ]
    },
    {
     "name": "stderr",
     "output_type": "stream",
     "text": [
      "\r",
      " 60%|██████    | 12/20 [09:38<06:35, 49.40s/it]"
     ]
    },
    {
     "name": "stdout",
     "output_type": "stream",
     "text": [
      "annoy time: 5.206525087356567\n",
      "annoy time: 0.708350419998169\n",
      "annoy time: 0.6639049053192139\n",
      "annoy time: 0.667140007019043\n",
      "annoy time: 0.7151927947998047\n",
      "annoy time: 1.110931634902954\n",
      "annoy time: 1.1272492408752441\n",
      "annoy time: 0.999683141708374\n",
      "annoy time: 0.9163229465484619\n",
      "annoy time: 1.2082562446594238\n",
      "annoy time: 1.2613489627838135\n",
      "annoy time: 1.3747987747192383\n",
      "annoy time: 1.5324137210845947\n",
      "annoy time: 1.3676815032958984\n",
      "annoy time: 1.4301369190216064\n",
      "annoy time: 1.8986165523529053\n",
      "annoy time: 2.1282994747161865\n",
      "annoy time: 2.778740167617798\n",
      "annoy time: 3.238734722137451\n",
      "annoy time: 3.1017305850982666\n",
      "annoy time: 3.8249762058258057\n",
      "annoy time: 4.665234565734863\n",
      "annoy time: 4.838927507400513\n"
     ]
    },
    {
     "name": "stderr",
     "output_type": "stream",
     "text": [
      "\r",
      " 65%|██████▌   | 13/20 [10:28<05:47, 49.62s/it]"
     ]
    },
    {
     "name": "stdout",
     "output_type": "stream",
     "text": [
      "annoy time: 6.2231597900390625\n",
      "annoy time: 0.7022297382354736\n",
      "annoy time: 0.6707193851470947\n",
      "annoy time: 0.6686244010925293\n",
      "annoy time: 0.6666824817657471\n",
      "annoy time: 0.753868818283081\n",
      "annoy time: 0.7387070655822754\n",
      "annoy time: 0.7940270900726318\n",
      "annoy time: 0.9234621524810791\n",
      "annoy time: 0.97141432762146\n",
      "annoy time: 1.0449986457824707\n",
      "annoy time: 1.3806662559509277\n",
      "annoy time: 1.4208486080169678\n",
      "annoy time: 1.2079176902770996\n",
      "annoy time: 1.3719325065612793\n",
      "annoy time: 1.4725151062011719\n",
      "annoy time: 1.7331278324127197\n",
      "annoy time: 2.0729482173919678\n",
      "annoy time: 2.9777963161468506\n",
      "annoy time: 3.2863149642944336\n",
      "annoy time: 3.673849582672119\n",
      "annoy time: 4.5421507358551025\n",
      "annoy time: 4.365871906280518\n"
     ]
    },
    {
     "name": "stderr",
     "output_type": "stream",
     "text": [
      "\r",
      " 70%|███████   | 14/20 [11:13<04:49, 48.27s/it]"
     ]
    },
    {
     "name": "stdout",
     "output_type": "stream",
     "text": [
      "annoy time: 5.662717819213867\n",
      "annoy time: 0.6578919887542725\n",
      "annoy time: 0.6888518333435059\n",
      "annoy time: 1.100799798965454\n",
      "annoy time: 1.0134680271148682\n",
      "annoy time: 0.8932409286499023\n",
      "annoy time: 0.6634776592254639\n",
      "annoy time: 0.7378964424133301\n",
      "annoy time: 0.7983558177947998\n",
      "annoy time: 1.131324291229248\n",
      "annoy time: 1.1332216262817383\n",
      "annoy time: 1.1098546981811523\n",
      "annoy time: 1.1399328708648682\n",
      "annoy time: 1.299560546875\n",
      "annoy time: 1.4860072135925293\n",
      "annoy time: 1.9690487384796143\n",
      "annoy time: 1.801490306854248\n",
      "annoy time: 1.9227287769317627\n",
      "annoy time: 2.248488664627075\n",
      "annoy time: 2.7697484493255615\n",
      "annoy time: 3.4752485752105713\n",
      "annoy time: 3.695064067840576\n",
      "annoy time: 4.085050344467163\n"
     ]
    },
    {
     "name": "stderr",
     "output_type": "stream",
     "text": [
      "\r",
      " 75%|███████▌  | 15/20 [11:56<03:53, 46.66s/it]"
     ]
    },
    {
     "name": "stdout",
     "output_type": "stream",
     "text": [
      "annoy time: 4.877049922943115\n",
      "annoy time: 0.6148526668548584\n",
      "annoy time: 0.6899209022521973\n",
      "annoy time: 0.6399807929992676\n",
      "annoy time: 0.6897809505462646\n",
      "annoy time: 0.7009944915771484\n",
      "annoy time: 0.6484286785125732\n",
      "annoy time: 0.6910305023193359\n",
      "annoy time: 0.7033696174621582\n",
      "annoy time: 0.7696473598480225\n",
      "annoy time: 1.0936427116394043\n",
      "annoy time: 1.0477502346038818\n",
      "annoy time: 1.0833468437194824\n",
      "annoy time: 1.2403159141540527\n",
      "annoy time: 1.314814805984497\n",
      "annoy time: 1.3923444747924805\n",
      "annoy time: 1.574535608291626\n",
      "annoy time: 1.9380125999450684\n",
      "annoy time: 2.237147569656372\n",
      "annoy time: 2.615571975708008\n",
      "annoy time: 2.9214694499969482\n",
      "annoy time: 3.2501394748687744\n",
      "annoy time: 3.996260643005371\n"
     ]
    },
    {
     "name": "stderr",
     "output_type": "stream",
     "text": [
      "\r",
      " 80%|████████  | 16/20 [12:34<02:56, 44.16s/it]"
     ]
    },
    {
     "name": "stdout",
     "output_type": "stream",
     "text": [
      "annoy time: 4.739866018295288\n",
      "annoy time: 0.5979185104370117\n",
      "annoy time: 0.603668212890625\n",
      "annoy time: 0.8390462398529053\n",
      "annoy time: 0.6162500381469727\n",
      "annoy time: 0.8740489482879639\n",
      "annoy time: 0.6340644359588623\n",
      "annoy time: 0.6983330249786377\n",
      "annoy time: 0.7053442001342773\n",
      "annoy time: 0.762420654296875\n",
      "annoy time: 0.9894289970397949\n",
      "annoy time: 1.1075406074523926\n",
      "annoy time: 1.0868942737579346\n",
      "annoy time: 1.1597177982330322\n",
      "annoy time: 1.2271959781646729\n",
      "annoy time: 1.4660918712615967\n",
      "annoy time: 1.56978178024292\n",
      "annoy time: 1.9332695007324219\n",
      "annoy time: 2.6525566577911377\n",
      "annoy time: 2.8389852046966553\n",
      "annoy time: 2.9962761402130127\n",
      "annoy time: 3.235726833343506\n",
      "annoy time: 3.9136126041412354\n"
     ]
    },
    {
     "name": "stderr",
     "output_type": "stream",
     "text": [
      "\r",
      " 85%|████████▌ | 17/20 [13:13<02:08, 42.67s/it]"
     ]
    },
    {
     "name": "stdout",
     "output_type": "stream",
     "text": [
      "annoy time: 4.849316358566284\n",
      "annoy time: 0.6183364391326904\n",
      "annoy time: 0.6498653888702393\n",
      "annoy time: 0.7720236778259277\n",
      "annoy time: 0.628791332244873\n",
      "annoy time: 0.6418130397796631\n",
      "annoy time: 0.6615560054779053\n",
      "annoy time: 0.6774907112121582\n",
      "annoy time: 0.6980056762695312\n",
      "annoy time: 0.7901208400726318\n",
      "annoy time: 1.265803337097168\n",
      "annoy time: 1.253943920135498\n",
      "annoy time: 1.0858674049377441\n",
      "annoy time: 1.169504165649414\n",
      "annoy time: 1.229992151260376\n",
      "annoy time: 1.4541504383087158\n",
      "annoy time: 1.5661766529083252\n",
      "annoy time: 1.8970527648925781\n",
      "annoy time: 2.2408738136291504\n",
      "annoy time: 2.684934377670288\n",
      "annoy time: 2.9081244468688965\n",
      "annoy time: 3.2457988262176514\n",
      "annoy time: 3.877141237258911\n"
     ]
    },
    {
     "name": "stderr",
     "output_type": "stream",
     "text": [
      "\r",
      " 90%|█████████ | 18/20 [13:52<01:22, 41.41s/it]"
     ]
    },
    {
     "name": "stdout",
     "output_type": "stream",
     "text": [
      "annoy time: 4.747134208679199\n",
      "annoy time: 0.6598124504089355\n",
      "annoy time: 0.6152956485748291\n",
      "annoy time: 0.6194758415222168\n",
      "annoy time: 0.7065966129302979\n",
      "annoy time: 0.6555039882659912\n",
      "annoy time: 0.6604592800140381\n",
      "annoy time: 0.6840357780456543\n",
      "annoy time: 0.898409366607666\n",
      "annoy time: 0.7731161117553711\n",
      "annoy time: 1.0036885738372803\n",
      "annoy time: 1.058246374130249\n",
      "annoy time: 1.1083650588989258\n",
      "annoy time: 1.1734111309051514\n",
      "annoy time: 1.2459328174591064\n",
      "annoy time: 1.3772547245025635\n",
      "annoy time: 1.6423864364624023\n",
      "annoy time: 1.911203384399414\n",
      "annoy time: 2.259571075439453\n",
      "annoy time: 2.5675711631774902\n",
      "annoy time: 3.059580087661743\n",
      "annoy time: 3.2878568172454834\n",
      "annoy time: 3.893432140350342\n"
     ]
    },
    {
     "name": "stderr",
     "output_type": "stream",
     "text": [
      "\r",
      " 95%|█████████▌| 19/20 [14:30<00:40, 40.46s/it]"
     ]
    },
    {
     "name": "stdout",
     "output_type": "stream",
     "text": [
      "annoy time: 4.713721752166748\n",
      "annoy time: 0.6698105335235596\n",
      "annoy time: 0.6077766418457031\n",
      "annoy time: 0.6241669654846191\n",
      "annoy time: 0.6780576705932617\n",
      "annoy time: 0.7230162620544434\n",
      "annoy time: 0.6540861129760742\n",
      "annoy time: 0.678107500076294\n",
      "annoy time: 0.7058045864105225\n",
      "annoy time: 0.8889892101287842\n",
      "annoy time: 0.987621545791626\n",
      "annoy time: 1.036325216293335\n",
      "annoy time: 1.0929558277130127\n",
      "annoy time: 1.166663408279419\n",
      "annoy time: 1.2281630039215088\n",
      "annoy time: 1.4039263725280762\n",
      "annoy time: 1.6783249378204346\n",
      "annoy time: 2.1386969089508057\n",
      "annoy time: 2.6534276008605957\n",
      "annoy time: 3.0557448863983154\n",
      "annoy time: 3.07568359375\n",
      "annoy time: 3.383948802947998\n",
      "annoy time: 3.8927509784698486\n"
     ]
    },
    {
     "name": "stderr",
     "output_type": "stream",
     "text": [
      "100%|██████████| 20/20 [15:10<00:00, 45.51s/it]"
     ]
    },
    {
     "name": "stdout",
     "output_type": "stream",
     "text": [
      "annoy time: 4.934077262878418\n"
     ]
    },
    {
     "name": "stderr",
     "output_type": "stream",
     "text": [
      "\n"
     ]
    }
   ],
   "source": [
    "allt = []\n",
    "allndcgs = []\n",
    "for i in tqdm(range(20)):\n",
    "    tt = []\n",
    "    accs = []\n",
    "    ndcgs = []\n",
    "    trees = [5,6,7,8, 10,11,13, 15, 20, 30, 35, 40, 45, 50, 60, 75, 100, 125, 150, 175, 200, 250,  300]\n",
    "    for i in trees:\n",
    "        Tannoy_indices_CB, Tannoy_distances_CB, Tduration_CB = get_annoy_results_c(item_content_map, number_of_trees = i, number_of_neighbours = 10)\n",
    "        tt.append(8723/Tduration_CB)\n",
    "        accs.append(calc_acc(Tannoy_indices_CB, Aknn_indices_brute_CB, 10))\n",
    "        ndcgs.append(calc_nDCG(Tannoy_indices_CB, Aknn_indices_brute_CB, 10))\n",
    "    allt.append(tt)\n",
    "    allndcgs.append(ndcgs)\n",
    "allt = np.array(allt)\n",
    "allndcgs = np.array(allndcgs)\n"
   ]
  },
  {
   "cell_type": "code",
   "execution_count": 36,
   "metadata": {},
   "outputs": [],
   "source": [
    "allt1 = np.mean(allt, axis = 0)\n",
    "allndcgs1 = np.mean(allndcgs, axis = 0)"
   ]
  },
  {
   "cell_type": "code",
   "execution_count": 37,
   "metadata": {},
   "outputs": [
    {
     "data": {
      "text/plain": [
       "array([12011.32616064, 12510.01369968, 11766.15081606, 11510.30121294,\n",
       "       10808.01243553, 11530.75127368, 10393.4717485 , 10496.26905345,\n",
       "        9566.53798462,  7453.2981951 ,  7060.9626355 ,  6631.95400776,\n",
       "        6414.43296233,  6238.64948543,  5189.12852877,  4695.14807739,\n",
       "        3899.87805763,  3264.5739718 ,  2851.90382425,  2544.18656172,\n",
       "        2357.70819081,  1934.81002915,  1573.32534962])"
      ]
     },
     "execution_count": 37,
     "metadata": {},
     "output_type": "execute_result"
    }
   ],
   "source": [
    "allt1"
   ]
  },
  {
   "cell_type": "code",
   "execution_count": 39,
   "metadata": {},
   "outputs": [
    {
     "data": {
      "image/png": "[encoded data removed]",
      "text/plain": [
       "<Figure size 432x288 with 1 Axes>"
      ]
     },
     "metadata": {
      "needs_background": "light"
     },
     "output_type": "display_data"
    }
   ],
   "source": [
    "plt.plot(allndcgs1, allt1)\n",
    "plt.ylabel(\"Recommendations per second\")\n",
    "plt.xlabel(\"Normalized Discounted Cumulative Gain (NDCG)\")\n",
    "for i in [0,5,10,15,20, 22]:\n",
    "    plt.annotate(\n",
    "            str(trees[i]) + \" trees\",\n",
    "            xy=(allndcgs1[i], allt1[i]), xytext=(30, 30),\n",
    "            textcoords='offset points', ha='left', va='top',\n",
    "            bbox=dict(boxstyle='round,pad=0.5', fc='yellow', alpha=0.5),\n",
    "            arrowprops=dict(arrowstyle = '->', connectionstyle='arc3,rad=0'))"
   ]
  },
  {
   "cell_type": "markdown",
   "metadata": {},
   "source": [
    "## time - #features"
   ]
  },
  {
   "cell_type": "code",
   "execution_count": 65,
   "metadata": {},
   "outputs": [],
   "source": [
    "alst = []\n",
    "annoyt = []\n",
    "knnt = []\n",
    "accs = []\n",
    "ndcgs = []\n",
    "features = [5, 10, 20, 30, 40, 60, 80, 100, 120]\n",
    "# matrix = ViewMatrix.load_matrix('./chetor.com/view_matrix/lil_matrix.npz')\n",
    "# print('hi')\n",
    "# sparce_matrix = matrix.to_csr()\n",
    "# matrix.make_dense(user_min_view = 2, \n",
    "#                   item_min_view = 2)\n",
    "# implicit_matrix = matrix.to_csr()\n",
    "# print('hi')"
   ]
  },
  {
   "cell_type": "code",
   "execution_count": 42,
   "metadata": {},
   "outputs": [],
   "source": [
    "for i in features:\n",
    "    als_model = ALS.Als(num_factors = i,\n",
    "                    iterations = 15,\n",
    "                    num_threads = 15,\n",
    "                    alpha = 15)\n",
    "    now = time.time()\n",
    "    als_model.fit(implicit_matrix)\n",
    "    alst.append(time.time() - now)\n",
    "    print(alst[-1])\n",
    "    \n",
    "    now = time.time()\n",
    "    annoy_indices_CFi, annoy_distancesi, durationi = get_annoy_results(als_model.item_vectors, number_of_neighbours = 10)\n",
    "    annoyt.append(time.time() - now)\n",
    "    \n",
    "    now = time.time()\n",
    "    knn_distances_brutei, knn_indices_brutei = sk_KNN(als_model.item_vectors, number_of_neighbours = 10)\n",
    "    knnt.append(time.time() - now)\n",
    "    \n",
    "    accs.append(calc_acc(annoy_indices_CFi, knn_indices_brutei, 10))\n",
    "    ndcgs.append(calc_nDCG(annoy_indices_CFi, knn_indices_brutei, 10))\n",
    "    \n",
    "    print(accs[-1], ndcgs[-1])\n",
    "    "
   ]
  },
  {
   "cell_type": "code",
   "execution_count": 66,
   "metadata": {},
   "outputs": [
    {
     "name": "stdout",
     "output_type": "stream",
     "text": [
      "View matrix loaded in 7.092654705047607 seconds.\n",
      "Number of users which should be deleted: 1863687\n",
      "Number products which should be deleted: 1308\n",
      "Number of users which should be deleted: 265\n",
      "Number products which should be deleted: 4\n",
      "Number of users which should be deleted: 1\n",
      "Number products which should be deleted: 1\n",
      "Number of users which should be deleted: 0\n",
      "Number products which should be deleted: 0\n",
      "matrix has been made dense in 16.765505075454712 seconds.\n",
      "\n",
      "ALS model is fitted in 6.020764112472534 seconds.\n",
      "Saving Data ...\n",
      "annoy time: 3.9449942111968994\n",
      "ball_tree time: 0.2891530990600586\n"
     ]
    }
   ],
   "source": [
    "sparce_matrix5, implicit_matrix5, item_vectors5, user_vectors5, ALS_Time = \\\n",
    "CFTrain('./chetor.com/view_matrix/lil_matrix.npz', factors = 5)\n",
    "alst.append(ALS_Time)\n",
    "\n",
    "now = time.time()\n",
    "annoy_indices_CFi, annoy_distancesi, durationi = get_annoy_results(item_vectors5, number_of_neighbours = 10)\n",
    "annoyt.append(time.time() - now)\n",
    "\n",
    "now = time.time()\n",
    "knn_distances_brutei, knn_indices_brutei = sk_KNN(item_vectors5, number_of_neighbours = 10)\n",
    "knnt.append(time.time() - now)\n",
    "\n",
    "accs.append(calc_acc(annoy_indices_CFi, knn_indices_brutei, 10))\n",
    "ndcgs.append(calc_nDCG(annoy_indices_CFi, knn_indices_brutei, 10))"
   ]
  },
  {
   "cell_type": "code",
   "execution_count": 67,
   "metadata": {},
   "outputs": [
    {
     "name": "stdout",
     "output_type": "stream",
     "text": [
      "View matrix loaded in 6.591866731643677 seconds.\n",
      "Number of users which should be deleted: 1863687\n",
      "Number products which should be deleted: 1308\n",
      "Number of users which should be deleted: 265\n",
      "Number products which should be deleted: 4\n",
      "Number of users which should be deleted: 1\n",
      "Number products which should be deleted: 1\n",
      "Number of users which should be deleted: 0\n",
      "Number products which should be deleted: 0\n",
      "matrix has been made dense in 16.21094799041748 seconds.\n",
      "\n",
      "ALS model is fitted in 7.890841007232666 seconds.\n",
      "Saving Data ...\n",
      "annoy time: 3.0883729457855225\n",
      "ball_tree time: 0.5360774993896484\n"
     ]
    }
   ],
   "source": [
    "sparce_matrix10, implicit_matrix10, item_vectors10, user_vectors10, ALS_Time = \\\n",
    "CFTrain('./chetor.com/view_matrix/lil_matrix.npz', factors = 10)\n",
    "alst.append(ALS_Time)\n",
    "\n",
    "now = time.time()\n",
    "annoy_indices_CFi, annoy_distancesi, durationi = get_annoy_results(item_vectors10, number_of_neighbours = 10)\n",
    "annoyt.append(time.time() - now)\n",
    "\n",
    "now = time.time()\n",
    "knn_distances_brutei, knn_indices_brutei = sk_KNN(item_vectors10, number_of_neighbours = 10)\n",
    "knnt.append(time.time() - now)\n",
    "\n",
    "accs.append(calc_acc(annoy_indices_CFi, knn_indices_brutei, 10))\n",
    "ndcgs.append(calc_nDCG(annoy_indices_CFi, knn_indices_brutei, 10))"
   ]
  },
  {
   "cell_type": "code",
   "execution_count": 68,
   "metadata": {},
   "outputs": [
    {
     "name": "stdout",
     "output_type": "stream",
     "text": [
      "View matrix loaded in 6.4131927490234375 seconds.\n",
      "Number of users which should be deleted: 1863687\n",
      "Number products which should be deleted: 1308\n",
      "Number of users which should be deleted: 265\n",
      "Number products which should be deleted: 4\n",
      "Number of users which should be deleted: 1\n",
      "Number products which should be deleted: 1\n",
      "Number of users which should be deleted: 0\n",
      "Number products which should be deleted: 0\n",
      "matrix has been made dense in 16.15778350830078 seconds.\n",
      "\n",
      "ALS model is fitted in 11.246320009231567 seconds.\n",
      "Saving Data ...\n",
      "annoy time: 2.852264165878296\n",
      "ball_tree time: 1.0006787776947021\n"
     ]
    }
   ],
   "source": [
    "sparce_matrix20, implicit_matrix20, item_vectors20, user_vectors20, ALS_Time = \\\n",
    "CFTrain('./chetor.com/view_matrix/lil_matrix.npz', factors = 20)\n",
    "\n",
    "alst.append(ALS_Time)\n",
    "\n",
    "now = time.time()\n",
    "annoy_indices_CFi, annoy_distancesi, durationi = get_annoy_results(item_vectors20, number_of_neighbours = 10)\n",
    "annoyt.append(time.time() - now)\n",
    "\n",
    "now = time.time()\n",
    "knn_distances_brutei, knn_indices_brutei = sk_KNN(item_vectors20, number_of_neighbours = 10)\n",
    "knnt.append(time.time() - now)\n",
    "\n",
    "accs.append(calc_acc(annoy_indices_CFi, knn_indices_brutei, 10))\n",
    "ndcgs.append(calc_nDCG(annoy_indices_CFi, knn_indices_brutei, 10))"
   ]
  },
  {
   "cell_type": "code",
   "execution_count": 69,
   "metadata": {},
   "outputs": [
    {
     "name": "stdout",
     "output_type": "stream",
     "text": [
      "View matrix loaded in 7.175655126571655 seconds.\n",
      "Number of users which should be deleted: 1863687\n",
      "Number products which should be deleted: 1308\n",
      "Number of users which should be deleted: 265\n",
      "Number products which should be deleted: 4\n",
      "Number of users which should be deleted: 1\n",
      "Number products which should be deleted: 1\n",
      "Number of users which should be deleted: 0\n",
      "Number products which should be deleted: 0\n",
      "matrix has been made dense in 15.782491683959961 seconds.\n",
      "\n",
      "ALS model is fitted in 19.233181953430176 seconds.\n",
      "Saving Data ...\n",
      "annoy time: 2.63493013381958\n",
      "ball_tree time: 1.4874475002288818\n"
     ]
    }
   ],
   "source": [
    "sparce_matrix30, implicit_matrix30, item_vectors30, user_vectors30, ALS_Time = \\\n",
    "CFTrain('./chetor.com/view_matrix/lil_matrix.npz', factors = 30)\n",
    "\n",
    "alst.append(ALS_Time)\n",
    "\n",
    "now = time.time()\n",
    "annoy_indices_CFi, annoy_distancesi, durationi = get_annoy_results(item_vectors30, number_of_neighbours = 10)\n",
    "annoyt.append(time.time() - now)\n",
    "\n",
    "now = time.time()\n",
    "knn_distances_brutei, knn_indices_brutei = sk_KNN(item_vectors30, number_of_neighbours = 10)\n",
    "knnt.append(time.time() - now)\n",
    "\n",
    "accs.append(calc_acc(annoy_indices_CFi, knn_indices_brutei, 10))\n",
    "ndcgs.append(calc_nDCG(annoy_indices_CFi, knn_indices_brutei, 10))"
   ]
  },
  {
   "cell_type": "code",
   "execution_count": 70,
   "metadata": {},
   "outputs": [
    {
     "name": "stdout",
     "output_type": "stream",
     "text": [
      "View matrix loaded in 6.30347204208374 seconds.\n",
      "Number of users which should be deleted: 1863687\n",
      "Number products which should be deleted: 1308\n",
      "Number of users which should be deleted: 265\n",
      "Number products which should be deleted: 4\n",
      "Number of users which should be deleted: 1\n",
      "Number products which should be deleted: 1\n",
      "Number of users which should be deleted: 0\n",
      "Number products which should be deleted: 0\n",
      "matrix has been made dense in 15.506009817123413 seconds.\n",
      "\n",
      "ALS model is fitted in 93.17535543441772 seconds.\n",
      "Saving Data ...\n",
      "annoy time: 2.251936435699463\n",
      "ball_tree time: 1.894446611404419\n"
     ]
    }
   ],
   "source": [
    "sparce_matrix40, implicit_matrix40, item_vectors40, user_vectors40, ALS_Time = \\\n",
    "CFTrain('./chetor.com/view_matrix/lil_matrix.npz', factors = 40)\n",
    "\n",
    "alst.append(ALS_Time)\n",
    "\n",
    "now = time.time()\n",
    "annoy_indices_CFi, annoy_distancesi, durationi = get_annoy_results(item_vectors40, number_of_neighbours = 10)\n",
    "annoyt.append(time.time() - now)\n",
    "\n",
    "now = time.time()\n",
    "knn_distances_brutei, knn_indices_brutei = sk_KNN(item_vectors40, number_of_neighbours = 10)\n",
    "knnt.append(time.time() - now)\n",
    "\n",
    "accs.append(calc_acc(annoy_indices_CFi, knn_indices_brutei, 10))\n",
    "ndcgs.append(calc_nDCG(annoy_indices_CFi, knn_indices_brutei, 10))"
   ]
  },
  {
   "cell_type": "code",
   "execution_count": 71,
   "metadata": {},
   "outputs": [
    {
     "name": "stdout",
     "output_type": "stream",
     "text": [
      "View matrix loaded in 6.31538462638855 seconds.\n",
      "Number of users which should be deleted: 1863687\n",
      "Number products which should be deleted: 1308\n",
      "Number of users which should be deleted: 265\n",
      "Number products which should be deleted: 4\n",
      "Number of users which should be deleted: 1\n",
      "Number products which should be deleted: 1\n",
      "Number of users which should be deleted: 0\n",
      "Number products which should be deleted: 0\n",
      "matrix has been made dense in 15.348956108093262 seconds.\n",
      "\n",
      "ALS model is fitted in 154.69891571998596 seconds.\n",
      "Saving Data ...\n",
      "annoy time: 2.499905824661255\n",
      "ball_tree time: 3.271883487701416\n"
     ]
    }
   ],
   "source": [
    "sparce_matrix60, implicit_matrix60, item_vectors60, user_vectors60, ALS_Time = \\\n",
    "CFTrain('./chetor.com/view_matrix/lil_matrix.npz', factors = 60)\n",
    "\n",
    "alst.append(ALS_Time)\n",
    "\n",
    "now = time.time()\n",
    "annoy_indices_CFi, annoy_distancesi, durationi = get_annoy_results(item_vectors60, number_of_neighbours = 10)\n",
    "annoyt.append(time.time() - now)\n",
    "\n",
    "now = time.time()\n",
    "knn_distances_brutei, knn_indices_brutei = sk_KNN(item_vectors60, number_of_neighbours = 10)\n",
    "knnt.append(time.time() - now)\n",
    "\n",
    "accs.append(calc_acc(annoy_indices_CFi, knn_indices_brutei, 10))\n",
    "ndcgs.append(calc_nDCG(annoy_indices_CFi, knn_indices_brutei, 10))"
   ]
  },
  {
   "cell_type": "code",
   "execution_count": 72,
   "metadata": {},
   "outputs": [
    {
     "name": "stdout",
     "output_type": "stream",
     "text": [
      "View matrix loaded in 6.149060010910034 seconds.\n",
      "Number of users which should be deleted: 1863687\n",
      "Number products which should be deleted: 1308\n",
      "Number of users which should be deleted: 265\n",
      "Number products which should be deleted: 4\n",
      "Number of users which should be deleted: 1\n",
      "Number products which should be deleted: 1\n",
      "Number of users which should be deleted: 0\n",
      "Number products which should be deleted: 0\n",
      "matrix has been made dense in 15.384785175323486 seconds.\n",
      "\n",
      "ALS model is fitted in 342.1699721813202 seconds.\n",
      "Saving Data ...\n",
      "annoy time: 2.122102737426758\n",
      "ball_tree time: 5.009122133255005\n"
     ]
    }
   ],
   "source": [
    "sparce_matrix80, implicit_matrix80, item_vectors80, user_vectors80, ALS_Time = \\\n",
    "CFTrain('./chetor.com/view_matrix/lil_matrix.npz', factors = 80)\n",
    "\n",
    "\n",
    "alst.append(ALS_Time)\n",
    "\n",
    "now = time.time()\n",
    "annoy_indices_CFi, annoy_distancesi, durationi = get_annoy_results(item_vectors80, number_of_neighbours = 10)\n",
    "annoyt.append(time.time() - now)\n",
    "\n",
    "now = time.time()\n",
    "knn_distances_brutei, knn_indices_brutei = sk_KNN(item_vectors80, number_of_neighbours = 10)\n",
    "knnt.append(time.time() - now)\n",
    "\n",
    "accs.append(calc_acc(annoy_indices_CFi, knn_indices_brutei, 10))\n",
    "ndcgs.append(calc_nDCG(annoy_indices_CFi, knn_indices_brutei, 10))"
   ]
  },
  {
   "cell_type": "code",
   "execution_count": 73,
   "metadata": {},
   "outputs": [
    {
     "name": "stdout",
     "output_type": "stream",
     "text": [
      "View matrix loaded in 6.200195550918579 seconds.\n",
      "Number of users which should be deleted: 1863687\n",
      "Number products which should be deleted: 1308\n",
      "Number of users which should be deleted: 265\n",
      "Number products which should be deleted: 4\n",
      "Number of users which should be deleted: 1\n",
      "Number products which should be deleted: 1\n",
      "Number of users which should be deleted: 0\n",
      "Number products which should be deleted: 0\n",
      "matrix has been made dense in 15.818086385726929 seconds.\n",
      "\n",
      "ALS model is fitted in 525.96914935112 seconds.\n",
      "Saving Data ...\n",
      "annoy time: 2.1418638229370117\n",
      "ball_tree time: 7.082402944564819\n"
     ]
    }
   ],
   "source": [
    "sparce_matrix100, implicit_matrix100, item_vectors100, user_vectors100, ALS_Time = \\\n",
    "CFTrain('./chetor.com/view_matrix/lil_matrix.npz', factors = 100)\n",
    "\n",
    "\n",
    "alst.append(ALS_Time)\n",
    "\n",
    "now = time.time()\n",
    "annoy_indices_CFi, annoy_distancesi, durationi = get_annoy_results(item_vectors100, number_of_neighbours = 10)\n",
    "annoyt.append(time.time() - now)\n",
    "\n",
    "now = time.time()\n",
    "knn_distances_brutei, knn_indices_brutei = sk_KNN(item_vectors100, number_of_neighbours = 10)\n",
    "knnt.append(time.time() - now)\n",
    "\n",
    "accs.append(calc_acc(annoy_indices_CFi, knn_indices_brutei, 10))\n",
    "ndcgs.append(calc_nDCG(annoy_indices_CFi, knn_indices_brutei, 10))"
   ]
  },
  {
   "cell_type": "code",
   "execution_count": 74,
   "metadata": {},
   "outputs": [
    {
     "name": "stdout",
     "output_type": "stream",
     "text": [
      "View matrix loaded in 6.4216225147247314 seconds.\n",
      "Number of users which should be deleted: 1863687\n",
      "Number products which should be deleted: 1308\n",
      "Number of users which should be deleted: 265\n",
      "Number products which should be deleted: 4\n",
      "Number of users which should be deleted: 1\n",
      "Number products which should be deleted: 1\n",
      "Number of users which should be deleted: 0\n",
      "Number products which should be deleted: 0\n",
      "matrix has been made dense in 15.928790092468262 seconds.\n",
      "\n",
      "ALS model is fitted in 660.3781657218933 seconds.\n",
      "Saving Data ...\n",
      "annoy time: 2.0306851863861084\n",
      "ball_tree time: 8.393351554870605\n"
     ]
    }
   ],
   "source": [
    "sparce_matrix120, implicit_matrix120, item_vectors120, user_vectors120, ALS_Time = \\\n",
    "CFTrain('./chetor.com/view_matrix/lil_matrix.npz', factors = 120)\n",
    "\n",
    "alst.append(ALS_Time)\n",
    "\n",
    "now = time.time()\n",
    "annoy_indices_CFi, annoy_distancesi, durationi = get_annoy_results(item_vectors120, number_of_neighbours = 10)\n",
    "annoyt.append(time.time() - now)\n",
    "\n",
    "now = time.time()\n",
    "knn_distances_brutei, knn_indices_brutei = sk_KNN(item_vectors120, number_of_neighbours = 10)\n",
    "knnt.append(time.time() - now)\n",
    "\n",
    "accs.append(calc_acc(annoy_indices_CFi, knn_indices_brutei, 10))\n",
    "ndcgs.append(calc_nDCG(annoy_indices_CFi, knn_indices_brutei, 10))"
   ]
  },
  {
   "cell_type": "code",
   "execution_count": 75,
   "metadata": {},
   "outputs": [
    {
     "name": "stdout",
     "output_type": "stream",
     "text": [
      "View matrix loaded in 6.098363399505615 seconds.\n",
      "Number of users which should be deleted: 1863687\n",
      "Number products which should be deleted: 1308\n",
      "Number of users which should be deleted: 265\n",
      "Number products which should be deleted: 4\n",
      "Number of users which should be deleted: 1\n",
      "Number products which should be deleted: 1\n",
      "Number of users which should be deleted: 0\n",
      "Number products which should be deleted: 0\n",
      "matrix has been made dense in 15.618395328521729 seconds.\n",
      "\n",
      "ALS model is fitted in 959.8455216884613 seconds.\n",
      "Saving Data ...\n",
      "annoy time: 2.091752052307129\n",
      "ball_tree time: 10.081011533737183\n"
     ]
    }
   ],
   "source": [
    "sparce_matrix140, implicit_matrix140, item_vectors140, user_vectors140, ALS_Time = \\\n",
    "CFTrain('./chetor.com/view_matrix/lil_matrix.npz', factors = 140)\n",
    "\n",
    "alst.append(ALS_Time)\n",
    "\n",
    "now = time.time()\n",
    "annoy_indices_CFi, annoy_distancesi, durationi = get_annoy_results(item_vectors140, number_of_neighbours = 10)\n",
    "annoyt.append(time.time() - now)\n",
    "\n",
    "now = time.time()\n",
    "knn_distances_brutei, knn_indices_brutei = sk_KNN(item_vectors140, number_of_neighbours = 10)\n",
    "knnt.append(time.time() - now)\n",
    "\n",
    "accs.append(calc_acc(annoy_indices_CFi, knn_indices_brutei, 10))\n",
    "ndcgs.append(calc_nDCG(annoy_indices_CFi, knn_indices_brutei, 10))"
   ]
  },
  {
   "cell_type": "code",
   "execution_count": 76,
   "metadata": {},
   "outputs": [
    {
     "name": "stdout",
     "output_type": "stream",
     "text": [
      "View matrix loaded in 6.512907981872559 seconds.\n",
      "Number of users which should be deleted: 1863687\n",
      "Number products which should be deleted: 1308\n",
      "Number of users which should be deleted: 265\n",
      "Number products which should be deleted: 4\n",
      "Number of users which should be deleted: 1\n",
      "Number products which should be deleted: 1\n",
      "Number of users which should be deleted: 0\n",
      "Number products which should be deleted: 0\n",
      "matrix has been made dense in 15.364351749420166 seconds.\n",
      "\n",
      "ALS model is fitted in 1300.0534677505493 seconds.\n",
      "Saving Data ...\n",
      "annoy time: 1.9733662605285645\n",
      "ball_tree time: 11.466623783111572\n"
     ]
    }
   ],
   "source": [
    "sparce_matrix160, implicit_matrix160, item_vectors160, user_vectors160, ALS_Time = \\\n",
    "CFTrain('./chetor.com/view_matrix/lil_matrix.npz', factors = 160)\n",
    "\n",
    "alst.append(ALS_Time)\n",
    "\n",
    "now = time.time()\n",
    "annoy_indices_CFi, annoy_distancesi, durationi = get_annoy_results(item_vectors160, number_of_neighbours = 10)\n",
    "annoyt.append(time.time() - now)\n",
    "\n",
    "now = time.time()\n",
    "knn_distances_brutei, knn_indices_brutei = sk_KNN(item_vectors160, number_of_neighbours = 10)\n",
    "knnt.append(time.time() - now)\n",
    "\n",
    "accs.append(calc_acc(annoy_indices_CFi, knn_indices_brutei, 10))\n",
    "ndcgs.append(calc_nDCG(annoy_indices_CFi, knn_indices_brutei, 10))"
   ]
  },
  {
   "cell_type": "code",
   "execution_count": 77,
   "metadata": {},
   "outputs": [
    {
     "name": "stdout",
     "output_type": "stream",
     "text": [
      "View matrix loaded in 6.210923671722412 seconds.\n",
      "Number of users which should be deleted: 1863687\n",
      "Number products which should be deleted: 1308\n",
      "Number of users which should be deleted: 265\n",
      "Number products which should be deleted: 4\n",
      "Number of users which should be deleted: 1\n",
      "Number products which should be deleted: 1\n",
      "Number of users which should be deleted: 0\n",
      "Number products which should be deleted: 0\n",
      "matrix has been made dense in 15.411906242370605 seconds.\n",
      "\n",
      "ALS model is fitted in 1716.3959829807281 seconds.\n",
      "Saving Data ...\n",
      "annoy time: 2.047321319580078\n",
      "ball_tree time: 12.8496994972229\n"
     ]
    }
   ],
   "source": [
    "sparce_matrix180, implicit_matrix180, item_vectors180, user_vectors180, ALS_Time = \\\n",
    "CFTrain('./chetor.com/view_matrix/lil_matrix.npz', factors = 180)\n",
    "\n",
    "alst.append(ALS_Time)\n",
    "\n",
    "now = time.time()\n",
    "annoy_indices_CFi, annoy_distancesi, durationi = get_annoy_results(item_vectors180, number_of_neighbours = 10)\n",
    "annoyt.append(time.time() - now)\n",
    "\n",
    "now = time.time()\n",
    "knn_distances_brutei, knn_indices_brutei = sk_KNN(item_vectors180, number_of_neighbours = 10)\n",
    "knnt.append(time.time() - now)\n",
    "\n",
    "accs.append(calc_acc(annoy_indices_CFi, knn_indices_brutei, 10))\n",
    "ndcgs.append(calc_nDCG(annoy_indices_CFi, knn_indices_brutei, 10))"
   ]
  },
  {
   "cell_type": "code",
   "execution_count": 78,
   "metadata": {},
   "outputs": [
    {
     "name": "stdout",
     "output_type": "stream",
     "text": [
      "View matrix loaded in 6.234421253204346 seconds.\n",
      "Number of users which should be deleted: 1863687\n",
      "Number products which should be deleted: 1308\n",
      "Number of users which should be deleted: 265\n",
      "Number products which should be deleted: 4\n",
      "Number of users which should be deleted: 1\n",
      "Number products which should be deleted: 1\n",
      "Number of users which should be deleted: 0\n",
      "Number products which should be deleted: 0\n",
      "matrix has been made dense in 15.300568342208862 seconds.\n",
      "\n",
      "ALS model is fitted in 2775.904586315155 seconds.\n",
      "Saving Data ...\n",
      "annoy time: 2.0843958854675293\n",
      "ball_tree time: 14.180020809173584\n"
     ]
    }
   ],
   "source": [
    "sparce_matrix200, implicit_matrix200, item_vectors200, user_vectors200, ALS_Time = \\\n",
    "CFTrain('./chetor.com/view_matrix/lil_matrix.npz', factors = 200)\n",
    "\n",
    "alst.append(ALS_Time)\n",
    "\n",
    "now = time.time()\n",
    "annoy_indices_CFi, annoy_distancesi, durationi = get_annoy_results(item_vectors200, number_of_neighbours = 10)\n",
    "annoyt.append(time.time() - now)\n",
    "\n",
    "now = time.time()\n",
    "knn_distances_brutei, knn_indices_brutei = sk_KNN(item_vectors200, number_of_neighbours = 10)\n",
    "knnt.append(time.time() - now)\n",
    "\n",
    "accs.append(calc_acc(annoy_indices_CFi, knn_indices_brutei, 10))\n",
    "ndcgs.append(calc_nDCG(annoy_indices_CFi, knn_indices_brutei, 10))"
   ]
  },
  {
   "cell_type": "code",
   "execution_count": 79,
   "metadata": {},
   "outputs": [
    {
     "name": "stdout",
     "output_type": "stream",
     "text": [
      "View matrix loaded in 6.222670555114746 seconds.\n",
      "Number of users which should be deleted: 1863687\n",
      "Number products which should be deleted: 1308\n",
      "Number of users which should be deleted: 265\n",
      "Number products which should be deleted: 4\n",
      "Number of users which should be deleted: 1\n",
      "Number products which should be deleted: 1\n",
      "Number of users which should be deleted: 0\n",
      "Number products which should be deleted: 0\n",
      "matrix has been made dense in 15.583549737930298 seconds.\n",
      "\n",
      "ALS model is fitted in 3462.4760234355927 seconds.\n",
      "Saving Data ...\n",
      "annoy time: 2.2141895294189453\n",
      "ball_tree time: 15.363259553909302\n"
     ]
    }
   ],
   "source": [
    "sparce_matrix220, implicit_matrix220, item_vectors220, user_vectors220, ALS_Time = \\\n",
    "CFTrain('./chetor.com/view_matrix/lil_matrix.npz', factors = 220)\n",
    "\n",
    "alst.append(ALS_Time)\n",
    "\n",
    "now = time.time()\n",
    "annoy_indices_CFi, annoy_distancesi, durationi = get_annoy_results(item_vectors220, number_of_neighbours = 10)\n",
    "annoyt.append(time.time() - now)\n",
    "\n",
    "now = time.time()\n",
    "knn_distances_brutei, knn_indices_brutei = sk_KNN(item_vectors220, number_of_neighbours = 10)\n",
    "knnt.append(time.time() - now)\n",
    "\n",
    "accs.append(calc_acc(annoy_indices_CFi, knn_indices_brutei, 10))\n",
    "ndcgs.append(calc_nDCG(annoy_indices_CFi, knn_indices_brutei, 10))"
   ]
  },
  {
   "cell_type": "code",
   "execution_count": null,
   "metadata": {},
   "outputs": [],
   "source": [
    "sparce_matrix240, implicit_matrix240, item_vectors240, user_vectors240, ALS_Time = \\\n",
    "CFTrain('./chetor.com/view_matrix/lil_matrix.npz', factors = 240)\n",
    "\n",
    "alst.append(ALS_Time)\n",
    "\n",
    "now = time.time()\n",
    "annoy_indices_CFi, annoy_distancesi, durationi = get_annoy_results(item_vectors240, number_of_neighbours = 10)\n",
    "annoyt.append(time.time() - now)\n",
    "\n",
    "now = time.time()\n",
    "knn_distances_brutei, knn_indices_brutei = sk_KNN(item_vectors240, number_of_neighbours = 10)\n",
    "knnt.append(time.time() - now)\n",
    "\n",
    "accs.append(calc_acc(annoy_indices_CFi, knn_indices_brutei, 10))\n",
    "ndcgs.append(calc_nDCG(annoy_indices_CFi, knn_indices_brutei, 10))"
   ]
  },
  {
   "cell_type": "code",
   "execution_count": null,
   "metadata": {},
   "outputs": [],
   "source": [
    "sparce_matrix260, implicit_matrix260, item_vectors260, user_vectors260, ALS_Time = \\\n",
    "CFTrain('./chetor.com/view_matrix/lil_matrix.npz', factors = 260)\n",
    "\n",
    "alst.append(ALS_Time)\n",
    "\n",
    "now = time.time()\n",
    "annoy_indices_CFi, annoy_distancesi, durationi = get_annoy_results(item_vectors260, number_of_neighbours = 10)\n",
    "annoyt.append(time.time() - now)\n",
    "\n",
    "now = time.time()\n",
    "knn_distances_brutei, knn_indices_brutei = sk_KNN(item_vectors260, number_of_neighbours = 10)\n",
    "knnt.append(time.time() - now)\n",
    "\n",
    "accs.append(calc_acc(annoy_indices_CFi, knn_indices_brutei, 10))\n",
    "ndcgs.append(calc_nDCG(annoy_indices_CFi, knn_indices_brutei, 10))"
   ]
  },
  {
   "cell_type": "code",
   "execution_count": null,
   "metadata": {},
   "outputs": [],
   "source": [
    "sparce_matrix280, implicit_matrix280, item_vectors280, user_vectors280, ALS_Time = \\\n",
    "CFTrain('./chetor.com/view_matrix/lil_matrix.npz', factors = 280)\n",
    "\n",
    "alst.append(ALS_Time)\n",
    "\n",
    "now = time.time()\n",
    "annoy_indices_CFi, annoy_distancesi, durationi = get_annoy_results(item_vectors280, number_of_neighbours = 10)\n",
    "annoyt.append(time.time() - now)\n",
    "\n",
    "now = time.time()\n",
    "knn_distances_brutei, knn_indices_brutei = sk_KNN(item_vectors280, number_of_neighbours = 10)\n",
    "knnt.append(time.time() - now)\n",
    "\n",
    "accs.append(calc_acc(annoy_indices_CFi, knn_indices_brutei, 10))\n",
    "ndcgs.append(calc_nDCG(annoy_indices_CFi, knn_indices_brutei, 10))"
   ]
  },
  {
   "cell_type": "code",
   "execution_count": 60,
   "metadata": {},
   "outputs": [
    {
     "name": "stdout",
     "output_type": "stream",
     "text": [
      "[7.289317607879639, 9.750426769256592, 14.307723760604858, 25.630435466766357, 141.31052207946777, 245.95699858665466, 531.0659351348877, 1182.7597563266754, 889.0909335613251, 2246.1444799900055, 3257.2178950309753]\n",
      "[4.7668375968933105, 3.9713222980499268, 3.6236677169799805, 3.494922161102295, 2.913334369659424, 3.168506622314453, 2.6421518325805664, 2.6659493446350098, 3.134293794631958, 3.1395812034606934, 3.0914783477783203]\n",
      "[0.3691706657409668, 0.6302402019500732, 1.2295241355895996, 1.8892674446105957, 2.3320982456207275, 5.420377492904663, 6.786769866943359, 7.923229217529297, 17.07801127433777, 14.070316791534424, 20.977322578430176]\n",
      "[0.12670253502011536, 0.19889163556460343, 0.24400174494692453, 0.2736335288320165, 0.2908244874218409, 0.31389656342397365, 0.3343996897872134, 0.34385148562842327, 0.3570032152262776, 0.36887854846266943, 0.38015607580824967]\n",
      "[0.10664456717637862, 0.16809047723368792, 0.206169213939166, 0.23102143279005524, 0.24551619649065584, 0.26460049649718315, 0.2816905352556345, 0.2899726504051018, 0.3008974967463259, 0.3109966588301528, 0.3205541136886125]\n"
     ]
    }
   ],
   "source": [
    "print(alst)\n",
    "print(annoyt)\n",
    "print(knnt)\n",
    "print(accs)\n",
    "print(ndcgs)"
   ]
  },
  {
   "cell_type": "code",
   "execution_count": null,
   "metadata": {},
   "outputs": [],
   "source": [
    "alst = [7.289317607879639, 9.750426769256592, 14.307723760604858, 25.630435466766357, 141.31052207946777, 245.95699858665466, 531.0659351348877, 1182.7597563266754, 889.0909335613251, 2246.1444799900055]\n",
    "annoyt = [4.7668375968933105, 3.9713222980499268, 3.6236677169799805, 3.494922161102295, 2.913334369659424, 3.168506622314453, 2.6421518325805664, 2.6659493446350098, 3.134293794631958, 3.1395812034606934]\n",
    "knnt = [0.3691706657409668, 0.6302402019500732, 1.2295241355895996, 1.8892674446105957, 2.3320982456207275, 5.420377492904663, 6.786769866943359, 7.923229217529297, 17.07801127433777, 14.070316791534424]\n",
    "accs = [0.12670253502011536, 0.19889163556460343, 0.24400174494692453, 0.2736335288320165, 0.2908244874218409, 0.31389656342397365, 0.3343996897872134, 0.34385148562842327, 0.3570032152262776, 0.36887854846266943]\n",
    "ndcgs = [0.10664456717637862, 0.16809047723368792, 0.206169213939166, 0.23102143279005524, 0.24551619649065584, 0.26460049649718315, 0.2816905352556345, 0.2899726504051018, 0.3008974967463259, 0.3109966588301528]"
   ]
  },
  {
   "cell_type": "code",
   "execution_count": 82,
   "metadata": {},
   "outputs": [
    {
     "data": {
      "text/plain": [
       "<matplotlib.legend.Legend at 0x7f85983b09d0>"
      ]
     },
     "execution_count": 82,
     "metadata": {},
     "output_type": "execute_result"
    },
    {
     "data": {
      "image/png": "[encoded data removed]",
      "text/plain": [
       "<Figure size 432x288 with 1 Axes>"
      ]
     },
     "metadata": {
      "needs_background": "light"
     },
     "output_type": "display_data"
    }
   ],
   "source": [
    "features = [5, 10, 20, 30, 40, 60, 80, 100, 120, 140, 160, 180, 200, 220]\n",
    "plt.plot(features, knnt, label = 'SK-learn KNN')\n",
    "plt.plot(features, annoyt, label = 'Annoy')\n",
    "plt.xlabel('# features')\n",
    "plt.ylabel('Time (seconds)')\n",
    "plt.legend(loc=\"upper left\")"
   ]
  },
  {
   "cell_type": "code",
   "execution_count": 86,
   "metadata": {},
   "outputs": [
    {
     "data": {
      "text/plain": [
       "<matplotlib.legend.Legend at 0x7f855c2fa910>"
      ]
     },
     "execution_count": 86,
     "metadata": {},
     "output_type": "execute_result"
    },
    {
     "data": {
      "image/png": "[encoded data removed]",
      "text/plain": [
       "<Figure size 432x288 with 1 Axes>"
      ]
     },
     "metadata": {
      "needs_background": "light"
     },
     "output_type": "display_data"
    }
   ],
   "source": [
    "features = [5, 10, 20, 30, 40, 60, 80, 100, 120, 140, 160, 180, 200, 220]\n",
    "plt.plot(features, 6378/np.array(knnt), label = 'SK-learn KNN')\n",
    "plt.plot(features, 6378/np.array(annoyt), label = 'Annoy')\n",
    "plt.xlabel('# features')\n",
    "plt.ylabel('Recommendations per second')\n",
    "plt.legend(loc=\"upper right\")"
   ]
  },
  {
   "cell_type": "markdown",
   "metadata": {},
   "source": [
    "## acc-time-#features"
   ]
  },
  {
   "cell_type": "code",
   "execution_count": 84,
   "metadata": {},
   "outputs": [
    {
     "data": {
      "image/png": "[encoded data removed]",
      "text/plain": [
       "<Figure size 432x288 with 1 Axes>"
      ]
     },
     "metadata": {
      "needs_background": "light"
     },
     "output_type": "display_data"
    }
   ],
   "source": [
    "att = 6378/np.array(annoyt)\n",
    "plt.plot(accs, att)\n",
    "plt.ylabel(\"Recommendations per second\")\n",
    "plt.xlabel(\"accuracy\")\n",
    "for i in [0,2,4,8]:\n",
    "    plt.annotate(\n",
    "            str(features[i]) + \" features\",\n",
    "            xy=(accs[i], att[i]), xytext=(-20, 30),\n",
    "            textcoords='offset points', ha='left', va='top',\n",
    "            bbox=dict(boxstyle='round,pad=0.5', fc='yellow', alpha=0.4),\n",
    "            arrowprops=dict(arrowstyle = '->', connectionstyle='arc3,rad=0'))"
   ]
  },
  {
   "cell_type": "code",
   "execution_count": 85,
   "metadata": {},
   "outputs": [
    {
     "data": {
      "image/png": "[encoded data removed]",
      "text/plain": [
       "<Figure size 432x288 with 1 Axes>"
      ]
     },
     "metadata": {
      "needs_background": "light"
     },
     "output_type": "display_data"
    }
   ],
   "source": [
    "att = 6378/np.array(annoyt)\n",
    "plt.plot(ndcgs, att)\n",
    "plt.ylabel(\"Recommendations per second\")\n",
    "plt.xlabel(\"NDCG\")\n",
    "for i in [0,2,4,8]:\n",
    "    plt.annotate(\n",
    "            str(features[i]) + \" features\",\n",
    "            xy=(ndcgs[i], att[i]), xytext=(-20, 30),\n",
    "            textcoords='offset points', ha='left', va='top',\n",
    "            bbox=dict(boxstyle='round,pad=0.5', fc='yellow', alpha=0.4),\n",
    "            arrowprops=dict(arrowstyle = '->', connectionstyle='arc3,rad=0'))"
   ]
  },
  {
   "cell_type": "markdown",
   "metadata": {},
   "source": [
    "## Precision Recall @k and MAE"
   ]
  },
  {
   "cell_type": "code",
   "execution_count": 28,
   "metadata": {},
   "outputs": [
    {
     "data": {
      "text/plain": [
       "19.879060983657837"
      ]
     },
     "execution_count": 28,
     "metadata": {},
     "output_type": "execute_result"
    }
   ],
   "source": [
    "now = time.time()\n",
    "aproximated_matrix = np.matmul(user_vectors, np.transpose(item_vectors))\n",
    "time.time() - now"
   ]
  },
  {
   "cell_type": "code",
   "execution_count": 30,
   "metadata": {},
   "outputs": [
    {
     "data": {
      "text/plain": [
       "232.96968388557434"
      ]
     },
     "execution_count": 30,
     "metadata": {},
     "output_type": "execute_result"
    }
   ],
   "source": [
    "start = time.time()\n",
    "# implicit_matrix = implicit_matrix.toarray()\n",
    "absolute_error = abs(aproximated_matrix - implicit_matrix)\n",
    "time.time() - start"
   ]
  },
  {
   "cell_type": "code",
   "execution_count": 31,
   "metadata": {},
   "outputs": [
    {
     "data": {
      "text/plain": [
       "71.03863096237183"
      ]
     },
     "execution_count": 31,
     "metadata": {},
     "output_type": "execute_result"
    }
   ],
   "source": [
    "start = time.time()\n",
    "MAE = absolute_error.mean()\n",
    "time.time() - start"
   ]
  },
  {
   "cell_type": "code",
   "execution_count": 32,
   "metadata": {},
   "outputs": [
    {
     "data": {
      "text/plain": [
       "0.009043916284864414"
      ]
     },
     "execution_count": 32,
     "metadata": {},
     "output_type": "execute_result"
    }
   ],
   "source": [
    "MAE"
   ]
  },
  {
   "cell_type": "code",
   "execution_count": 27,
   "metadata": {},
   "outputs": [
    {
     "name": "stderr",
     "output_type": "stream",
     "text": [
      "100%|██████████| 233197/233197 [18:19<00:00, 212.01it/s]\n"
     ]
    }
   ],
   "source": [
    "idk = []\n",
    "for i in tqdm(range(len(implicit_matrix))):\n",
    "    temp = []\n",
    "    for j in range(len(implicit_matrix[i])):\n",
    "        if implicit_matrix[i][j] > 0:\n",
    "            temp.append((implicit_matrix[i][j], j))\n",
    "    idk.append(temp)"
   ]
  },
  {
   "cell_type": "code",
   "execution_count": 41,
   "metadata": {},
   "outputs": [
    {
     "name": "stderr",
     "output_type": "stream",
     "text": [
      "100%|██████████| 233197/233197 [15:20<00:00, 253.30it/s]\n"
     ]
    }
   ],
   "source": [
    "idk2 = []\n",
    "for i in tqdm(range(len(aproximated_matrix))):\n",
    "    temp = []\n",
    "    for j in range(len(aproximated_matrix[i])):\n",
    "        if aproximated_matrix[i][j] > 0.3:\n",
    "            temp.append((aproximated_matrix[i][j], j))\n",
    "    idk2.append(temp)"
   ]
  },
  {
   "cell_type": "code",
   "execution_count": 80,
   "metadata": {},
   "outputs": [
    {
     "name": "stderr",
     "output_type": "stream",
     "text": [
      "100%|██████████| 233197/233197 [00:00<00:00, 263142.36it/s]\n"
     ]
    }
   ],
   "source": [
    "for i in tqdm(range(len(idk2))):\n",
    "    idk2[i] = sorted(idk2[i], key=lambda x: x[0], reverse=True)"
   ]
  },
  {
   "cell_type": "code",
   "execution_count": 86,
   "metadata": {},
   "outputs": [],
   "source": [
    "def Precision_recall_at_k(idk2, idk, k):\n",
    "    users_visited_indeces = \\\n",
    "    [[i[1] for i in idk[j]] for j in range(len(idk))]\n",
    "#     print(users_visited_indeces[0:10])\n",
    "    recommended_relevant = []\n",
    "    relevants = []\n",
    "    for i in range(len(idk2)):\n",
    "        temp = 0\n",
    "        if len(idk2[i]) >= k and len(users_visited_indeces[i]) >= k:\n",
    "            for j in range(len(idk2[i][0:k+1])):\n",
    "                if idk2[i][j][1] in users_visited_indeces[i]:\n",
    "                    temp += 1\n",
    "            recommended_relevant.append(temp)\n",
    "            relevants.append(len(users_visited_indeces[i]))\n",
    "    p = (np.array(recommended_relevant) / k).mean()\n",
    "    r = []\n",
    "    for i in zip(recommended_relevant, relevants):\n",
    "        r.append(i[0]/i[1])\n",
    "    r = np.array(r).mean()\n",
    "    return p, r"
   ]
  },
  {
   "cell_type": "code",
   "execution_count": 87,
   "metadata": {},
   "outputs": [
    {
     "name": "stdout",
     "output_type": "stream",
     "text": [
      "k = 1 (0.7186354499231405, 0.3132991983320419)\n",
      "k = 2 (0.45802332358454406, 0.39563191122090663)\n",
      "k = 3 (0.3964406552864489, 0.33340775120759264)\n",
      "k = 4 (0.3518457896857373, 0.28333117710725014)\n",
      "k = 5 (0.3264939622252039, 0.2523960932844422)\n",
      "k = 6 (0.31026053776903356, 0.231139391231143)\n",
      "k = 7 (0.30018033558099416, 0.2186396367495723)\n",
      "k = 8 (0.29234575087310827, 0.20980850487899763)\n",
      "k = 9 (0.2872784150156413, 0.204103039836464)\n",
      "k = 10 (0.2821524064171123, 0.1993732143623082)\n",
      "k = 11 (0.27719190208605954, 0.1940893510669637)\n",
      "k = 12 (0.2746406570841889, 0.19230763612031124)\n",
      "k = 13 (0.2700897117770567, 0.18766172434375045)\n",
      "k = 14 (0.2647549530761209, 0.1844010920044037)\n",
      "k = 15 (0.25830429732868754, 0.17646792331281605)\n",
      "k = 16 (0.2542162698412698, 0.17401698465680013)\n",
      "k = 17 (0.24929360390444388, 0.17363907796836417)\n",
      "k = 18 (0.244718792866941, 0.17004162464521388)\n",
      "k = 19 (0.24428718855963436, 0.1696894556403601)\n"
     ]
    }
   ],
   "source": [
    "for k in range(1, 20):\n",
    "    print('k =', k, Precision_recall_at_k(idk2, idk, k))"
   ]
  },
  {
   "cell_type": "markdown",
   "metadata": {},
   "source": [
    "## popularity bias wrt alg"
   ]
  },
  {
   "cell_type": "code",
   "execution_count": 178,
   "metadata": {},
   "outputs": [],
   "source": [
    "def CFTrain2(path: str, _alpha = 15, factors = 20):\n",
    "    now = time.time()\n",
    "    matrix = ViewMatrix.load_matrix(path)\n",
    "    print('View matrix loaded in', time.time() - now, 'seconds.')\n",
    "\n",
    "    now = time.time()\n",
    "    sparce_matrix = matrix.to_csr()\n",
    "    matrix.make_dense(user_min_view = 1, \n",
    "                      item_min_view = 1)\n",
    "    print('matrix has been made dense in', time.time() - now, 'seconds.')\n",
    "\n",
    "    als_model = ALS.Als(num_factors = factors,\n",
    "                        iterations = 15,\n",
    "                        num_threads = 15,\n",
    "                        alpha = _alpha)\n",
    "\n",
    "    implicit_matrix = matrix.to_csr()\n",
    "\n",
    "    print()\n",
    "    now = time.time()\n",
    "    als_model.fit(implicit_matrix)\n",
    "    alsTime = time.time() - now\n",
    "    print('ALS model is fitted in', time.time() - now, 'seconds.')\n",
    "    \n",
    "    print('Saving Data ...')\n",
    "    matrix.item_indexer.dump('./chetor.com/alisResult/ali_item_indexer_factorized.indexer')\n",
    "    matrix.user_indexer.dump('./chetor.com/alisResult/ali_user_indexer_factorized.indexer')\n",
    "    np.save('./chetor.com/alisResult/ali_items_vectors.npy', als_model.item_vectors)\n",
    "    np.save('./chetor.com/alisResult/ali_users_vectors.npy', als_model.user_vectors)\n",
    "    \n",
    "    return sparce_matrix, implicit_matrix, als_model.item_vectors, als_model.user_vectors, alsTime"
   ]
  },
  {
   "cell_type": "code",
   "execution_count": 132,
   "metadata": {},
   "outputs": [
    {
     "name": "stdout",
     "output_type": "stream",
     "text": [
      "View matrix loaded in 8.806686878204346 seconds.\n",
      "Number of users which should be deleted: 1863687\n",
      "Number products which should be deleted: 1308\n",
      "Number of users which should be deleted: 265\n",
      "Number products which should be deleted: 4\n",
      "Number of users which should be deleted: 1\n",
      "Number products which should be deleted: 1\n",
      "Number of users which should be deleted: 0\n",
      "Number products which should be deleted: 0\n",
      "matrix has been made dense in 26.60288381576538 seconds.\n",
      "\n",
      "ALS model is fitted in 17.589404106140137 seconds.\n",
      "Saving Data ...\n"
     ]
    }
   ],
   "source": [
    "sparce_matrix, implicit_matrix, item_vectors, user_vectors, alsTime = \\\n",
    "CFTrain2('./chetor.com/view_matrix/lil_matrix.npz', factors = 20, _alpha = 1)"
   ]
  },
  {
   "cell_type": "code",
   "execution_count": 166,
   "metadata": {},
   "outputs": [],
   "source": [
    "implicit_matrix = implicit_matrix.toarray()"
   ]
  },
  {
   "cell_type": "code",
   "execution_count": 167,
   "metadata": {},
   "outputs": [
    {
     "name": "stderr",
     "output_type": "stream",
     "text": [
      "6877it [00:57, 118.72it/s]\n"
     ]
    }
   ],
   "source": [
    "popularity_count = {}\n",
    "for i, j in tqdm(enumerate(implicit_matrix.T)):\n",
    "    popularity_count[i] = np.greater(j, 0).sum()"
   ]
  },
  {
   "cell_type": "code",
   "execution_count": 168,
   "metadata": {},
   "outputs": [],
   "source": [
    "site_trend = {k: v for k, v in sorted(popularity_count.items(), key=lambda item: item[1], reverse = True)}"
   ]
  },
  {
   "cell_type": "code",
   "execution_count": 169,
   "metadata": {},
   "outputs": [
    {
     "data": {
      "text/plain": [
       "6877"
      ]
     },
     "execution_count": 169,
     "metadata": {},
     "output_type": "execute_result"
    }
   ],
   "source": [
    "len(site_trend)"
   ]
  },
  {
   "cell_type": "code",
   "execution_count": 170,
   "metadata": {},
   "outputs": [],
   "source": [
    "pop = []\n",
    "item = []\n",
    "for i, j in site_trend.items():\n",
    "    pop.append(j)\n",
    "    item.append(i)"
   ]
  },
  {
   "cell_type": "code",
   "execution_count": 171,
   "metadata": {},
   "outputs": [
    {
     "data": {
      "text/plain": [
       "[<matplotlib.lines.Line2D at 0x18e1d3b50>]"
      ]
     },
     "execution_count": 171,
     "metadata": {},
     "output_type": "execute_result"
    },
    {
     "data": {
      "image/png": "[encoded data removed]",
      "text/plain": [
       "<Figure size 432x288 with 1 Axes>"
      ]
     },
     "metadata": {},
     "output_type": "display_data"
    }
   ],
   "source": [
    "plt.plot(pop[3:])"
   ]
  },
  {
   "cell_type": "code",
   "execution_count": 172,
   "metadata": {},
   "outputs": [
    {
     "name": "stdout",
     "output_type": "stream",
     "text": [
      "annoy time: 5.80443811416626\n"
     ]
    }
   ],
   "source": [
    "ind, dis, d = get_annoy_results(item_vectors, number_of_neighbours = 30)\n",
    "ind2 = []\n",
    "for i in ind:\n",
    "    ind2.append(i[1:])"
   ]
  },
  {
   "cell_type": "code",
   "execution_count": 173,
   "metadata": {},
   "outputs": [],
   "source": [
    "ind2 = np.array(list((np.array(ind2)).flatten()))"
   ]
  },
  {
   "cell_type": "code",
   "execution_count": 157,
   "metadata": {},
   "outputs": [],
   "source": [
    "knn_indices_brutei_st = np.array(list((np.array(knn_indices_brutei_st)).flatten()))"
   ]
  },
  {
   "cell_type": "code",
   "execution_count": 174,
   "metadata": {},
   "outputs": [],
   "source": [
    "res = []\n",
    "for i in item:\n",
    "    res.append(np.equal(ind2, i).sum())"
   ]
  },
  {
   "cell_type": "code",
   "execution_count": 159,
   "metadata": {},
   "outputs": [],
   "source": [
    "def a(s):\n",
    "    r = []\n",
    "    for i in range(len(s)-500):\n",
    "        r.append(np.array(s[i:i+500]).mean())\n",
    "    return r"
   ]
  },
  {
   "cell_type": "code",
   "execution_count": 177,
   "metadata": {},
   "outputs": [
    {
     "data": {
      "text/plain": [
       "[<matplotlib.lines.Line2D at 0x18608c690>]"
      ]
     },
     "execution_count": 177,
     "metadata": {},
     "output_type": "execute_result"
    },
    {
     "data": {
      "image/png": "[encoded data removed]",
      "text/plain": [
       "<Figure size 432x288 with 1 Axes>"
      ]
     },
     "metadata": {},
     "output_type": "display_data"
    }
   ],
   "source": [
    "res = a(res)\n",
    "plt.plot(res)"
   ]
  },
  {
   "cell_type": "code",
   "execution_count": null,
   "metadata": {},
   "outputs": [],
   "source": []
  }
 ],
 "metadata": {
  "kernelspec": {
   "display_name": "Python 3",
   "language": "python",
   "name": "python3"
  },
  "language_info": {
   "codemirror_mode": {
    "name": "ipython",
    "version": 3
   },
   "file_extension": ".py",
   "mimetype": "text/x-python",
   "name": "python",
   "nbconvert_exporter": "python",
   "pygments_lexer": "ipython3",
   "version": "3.8.5"
  }
 },
 "nbformat": 4,
 "nbformat_minor": 2
}
