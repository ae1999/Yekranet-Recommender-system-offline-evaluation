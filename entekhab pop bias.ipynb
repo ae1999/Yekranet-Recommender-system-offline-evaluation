{
 "cells": [
  {
   "cell_type": "code",
   "execution_count": 1,
   "metadata": {},
   "outputs": [],
   "source": [
    "import pandas as pd\n",
    "import numpy as np\n",
    "import matplotlib.pyplot as plt\n",
    "from matplotlib import colors\n",
    "from matplotlib.ticker import PercentFormatter\n",
    "from tqdm import tqdm\n",
    "\n",
    "import timeit\n",
    "import time\n",
    "import math\n",
    "\n",
    "# ./indexer\n",
    "from indexer import AppendIndexer\n",
    "import ALS\n",
    "\n",
    "# Annoy\n",
    "from annoy import AnnoyIndex\n",
    "\n",
    "#SKLearn \n",
    "from sklearn.neighbors import NearestNeighbors\n",
    "from sklearn.metrics import average_precision_score\n",
    "from sklearn.metrics import pairwise_distances\n",
    "\n",
    "# scipy\n",
    "from scipy.spatial import distance\n",
    "from scipy.sparse import lil_matrix"
   ]
  },
  {
   "cell_type": "code",
   "execution_count": 2,
   "metadata": {
    "scrolled": true
   },
   "outputs": [
    {
     "data": {
      "text/html": [
       "<div>\n",
       "<style scoped>\n",
       "    .dataframe tbody tr th:only-of-type {\n",
       "        vertical-align: middle;\n",
       "    }\n",
       "\n",
       "    .dataframe tbody tr th {\n",
       "        vertical-align: top;\n",
       "    }\n",
       "\n",
       "    .dataframe thead th {\n",
       "        text-align: right;\n",
       "    }\n",
       "</style>\n",
       "<table border=\"1\" class=\"dataframe\">\n",
       "  <thead>\n",
       "    <tr style=\"text-align: right;\">\n",
       "      <th></th>\n",
       "      <th>id</th>\n",
       "      <th>created</th>\n",
       "      <th>content_vector</th>\n",
       "      <th>title</th>\n",
       "      <th>cleaned_url</th>\n",
       "      <th>website_id</th>\n",
       "      <th>included</th>\n",
       "      <th>is_amp</th>\n",
       "      <th>has_image_meta</th>\n",
       "      <th>has_title_meta</th>\n",
       "      <th>page_id</th>\n",
       "      <th>subdomain_id</th>\n",
       "      <th>title_vector</th>\n",
       "      <th>image_id</th>\n",
       "      <th>cats</th>\n",
       "    </tr>\n",
       "  </thead>\n",
       "  <tbody>\n",
       "    <tr>\n",
       "      <th>0</th>\n",
       "      <td>761039</td>\n",
       "      <td>2020-08-09 03:40:44.820172+04:30</td>\n",
       "      <td>{0.264251947402954,-0.644542038440704,-0.18412...</td>\n",
       "      <td>یادداشت‌های علم، شنبه ۲۴ مرداد ۱۳۴۹: ایادی ما ...</td>\n",
       "      <td>entekhab.ir/fa/news/495749/%DB%8C%D8%A7%D8%AF%...</td>\n",
       "      <td>2</td>\n",
       "      <td>t</td>\n",
       "      <td>f</td>\n",
       "      <td>f</td>\n",
       "      <td>t</td>\n",
       "      <td>28054354</td>\n",
       "      <td>73</td>\n",
       "      <td>{3.626948595047,0.779965162277222,0.8395900726...</td>\n",
       "      <td>602.0</td>\n",
       "      <td>{23}</td>\n",
       "    </tr>\n",
       "    <tr>\n",
       "      <th>1</th>\n",
       "      <td>2754181</td>\n",
       "      <td>2020-09-26 03:50:01.442172+03:30</td>\n",
       "      <td>{0.273704349994659,-0.830473184585571,-0.28864...</td>\n",
       "      <td>ايران همچنان همان امپراتوری پارس است /  عربستا...</td>\n",
       "      <td>entekhab.ir/fa/news/266708/%D8%A7%D9%8A%D8%B1%...</td>\n",
       "      <td>2</td>\n",
       "      <td>t</td>\n",
       "      <td>f</td>\n",
       "      <td>f</td>\n",
       "      <td>t</td>\n",
       "      <td>37476083</td>\n",
       "      <td>73</td>\n",
       "      <td>{1.13415098190308,-1.20623469352722,-0.6013424...</td>\n",
       "      <td>621.0</td>\n",
       "      <td>{15}</td>\n",
       "    </tr>\n",
       "    <tr>\n",
       "      <th>2</th>\n",
       "      <td>4286495</td>\n",
       "      <td>2020-10-03 10:35:21.85205+03:30</td>\n",
       "      <td>{0.853439688682556,-0.564931094646454,-0.37323...</td>\n",
       "      <td>همه آنچه برای ترامپ در شب گذشته رخ داد؛ از تنگ...</td>\n",
       "      <td>entekhab.ir/fa/news/577730/%D9%87%D9%85%D9%87-...</td>\n",
       "      <td>2</td>\n",
       "      <td>t</td>\n",
       "      <td>f</td>\n",
       "      <td>t</td>\n",
       "      <td>t</td>\n",
       "      <td>38017087</td>\n",
       "      <td>73</td>\n",
       "      <td>{2.13742733001709,-1.12283325195312,-0.3791791...</td>\n",
       "      <td>1530910.0</td>\n",
       "      <td>{15}</td>\n",
       "    </tr>\n",
       "    <tr>\n",
       "      <th>3</th>\n",
       "      <td>4875542</td>\n",
       "      <td>2020-10-10 09:40:15.864975+03:30</td>\n",
       "      <td>{1.15192973613739,-0.138078510761261,0.6881629...</td>\n",
       "      <td>پیکر ۲ جانباخته ریزش ساختمان در در خیابان ابوذ...</td>\n",
       "      <td>entekhab.ir/fa/news/578944/%D9%BE%DB%8C%DA%A9%...</td>\n",
       "      <td>2</td>\n",
       "      <td>t</td>\n",
       "      <td>f</td>\n",
       "      <td>t</td>\n",
       "      <td>t</td>\n",
       "      <td>38559541</td>\n",
       "      <td>73</td>\n",
       "      <td>{0.230344951152802,0.131352335214615,0.9686161...</td>\n",
       "      <td>1758716.0</td>\n",
       "      <td>{21}</td>\n",
       "    </tr>\n",
       "    <tr>\n",
       "      <th>4</th>\n",
       "      <td>536136</td>\n",
       "      <td>2020-08-09 03:29:13.257136+04:30</td>\n",
       "      <td>{0.704237043857574,-1.47816872596741,0.4682139...</td>\n",
       "      <td>7تن گوشت چرخ کرده با سنگدون مرغ یخ زده و چربی ...</td>\n",
       "      <td>entekhab.ir/fa/news/434541/7%D8%AA%D9%86-%DA%A...</td>\n",
       "      <td>2</td>\n",
       "      <td>t</td>\n",
       "      <td>f</td>\n",
       "      <td>t</td>\n",
       "      <td>t</td>\n",
       "      <td>29837398</td>\n",
       "      <td>73</td>\n",
       "      <td>{3.626948595047,0.779965162277222,0.8395900726...</td>\n",
       "      <td>750.0</td>\n",
       "      <td>{22}</td>\n",
       "    </tr>\n",
       "    <tr>\n",
       "      <th>5</th>\n",
       "      <td>926557</td>\n",
       "      <td>2020-08-09 03:48:27.715412+04:30</td>\n",
       "      <td>{-0.272317439317703,0.354126185178757,0.105726...</td>\n",
       "      <td>ویدیو / دری نجف آبادی: ممکن است FATF از دستور ...</td>\n",
       "      <td>entekhab.ir/fa/news/553636/%D9%88%DB%8C%D8%AF%...</td>\n",
       "      <td>2</td>\n",
       "      <td>t</td>\n",
       "      <td>f</td>\n",
       "      <td>f</td>\n",
       "      <td>t</td>\n",
       "      <td>27251139</td>\n",
       "      <td>73</td>\n",
       "      <td>{3.626948595047,0.779965162277222,0.8395900726...</td>\n",
       "      <td>NaN</td>\n",
       "      <td>{23}</td>\n",
       "    </tr>\n",
       "    <tr>\n",
       "      <th>6</th>\n",
       "      <td>2679316</td>\n",
       "      <td>2020-09-19 21:33:51.475395+04:30</td>\n",
       "      <td>{0.808205783367157,-0.969625532627106,-0.40755...</td>\n",
       "      <td>تا زمان برگزاری انتخابات آمریکا و بیان صریح مو...</td>\n",
       "      <td>entekhab.ir/fa/news/575411/%D8%AA%D8%A7-%D8%B2...</td>\n",
       "      <td>2</td>\n",
       "      <td>t</td>\n",
       "      <td>f</td>\n",
       "      <td>t</td>\n",
       "      <td>t</td>\n",
       "      <td>36975475</td>\n",
       "      <td>73</td>\n",
       "      <td>{1.24864614009857,-1.19327878952026,-0.5599737...</td>\n",
       "      <td>1324.0</td>\n",
       "      <td>{15}</td>\n",
       "    </tr>\n",
       "    <tr>\n",
       "      <th>7</th>\n",
       "      <td>4286727</td>\n",
       "      <td>2020-10-03 10:45:24.947041+03:30</td>\n",
       "      <td>{0.853987216949463,-0.202528178691864,-0.49360...</td>\n",
       "      <td>رئیس پلیس تهران: ارسال اشتباهی پیامک‌های حجاب ...</td>\n",
       "      <td>entekhab.ir/fa/news/577736/%D8%B1%D8%A6%DB%8C%...</td>\n",
       "      <td>2</td>\n",
       "      <td>t</td>\n",
       "      <td>f</td>\n",
       "      <td>t</td>\n",
       "      <td>t</td>\n",
       "      <td>38018045</td>\n",
       "      <td>73</td>\n",
       "      <td>{1.85497891902924,0.154068395495415,-0.8957029...</td>\n",
       "      <td>1531042.0</td>\n",
       "      <td>{15}</td>\n",
       "    </tr>\n",
       "    <tr>\n",
       "      <th>8</th>\n",
       "      <td>464068</td>\n",
       "      <td>2020-08-09 03:25:58.532063+04:30</td>\n",
       "      <td>{-1.08582651615143,0.0488543212413788,0.038908...</td>\n",
       "      <td>ویدیو / توضیحات رئیس دفتر رئیس جمهور درمورد سن...</td>\n",
       "      <td>entekhab.ir/fa/news/560545/%D9%88%DB%8C%D8%AF%...</td>\n",
       "      <td>2</td>\n",
       "      <td>t</td>\n",
       "      <td>f</td>\n",
       "      <td>f</td>\n",
       "      <td>t</td>\n",
       "      <td>30691160</td>\n",
       "      <td>73</td>\n",
       "      <td>{3.626948595047,0.779965162277222,0.8395900726...</td>\n",
       "      <td>NaN</td>\n",
       "      <td>{23}</td>\n",
       "    </tr>\n",
       "    <tr>\n",
       "      <th>9</th>\n",
       "      <td>502039</td>\n",
       "      <td>2020-08-09 03:27:52.377476+04:30</td>\n",
       "      <td>{0.598500967025757,-0.519518435001373,-0.30455...</td>\n",
       "      <td>دیگر در تهران تخت خالی برای بستری بیمار کرونای...</td>\n",
       "      <td>entekhab.ir/fa/news/559856/%D8%AF%DB%8C%DA%AF%...</td>\n",
       "      <td>2</td>\n",
       "      <td>t</td>\n",
       "      <td>f</td>\n",
       "      <td>t</td>\n",
       "      <td>t</td>\n",
       "      <td>30236589</td>\n",
       "      <td>73</td>\n",
       "      <td>{3.626948595047,0.779965162277222,0.8395900726...</td>\n",
       "      <td>1720.0</td>\n",
       "      <td>{-1}</td>\n",
       "    </tr>\n",
       "    <tr>\n",
       "      <th>10</th>\n",
       "      <td>2679265</td>\n",
       "      <td>2020-09-19 21:33:51.383559+04:30</td>\n",
       "      <td>{0.626656830310822,-0.833987236022949,-0.14109...</td>\n",
       "      <td>زنانگی نهفته و آزار جنسی / چرا تنها در آزار جن...</td>\n",
       "      <td>entekhab.ir/fa/news/575391/%D8%B2%D9%86%D8%A7%...</td>\n",
       "      <td>2</td>\n",
       "      <td>t</td>\n",
       "      <td>f</td>\n",
       "      <td>f</td>\n",
       "      <td>t</td>\n",
       "      <td>36964218</td>\n",
       "      <td>73</td>\n",
       "      <td>{1.34037363529205,-1.04718887805939,-0.6416489...</td>\n",
       "      <td>NaN</td>\n",
       "      <td>{37}</td>\n",
       "    </tr>\n",
       "    <tr>\n",
       "      <th>11</th>\n",
       "      <td>2679335</td>\n",
       "      <td>2020-09-19 21:33:51.495403+04:30</td>\n",
       "      <td>{1.12349617481232,-1.7834061384201,-0.52237802...</td>\n",
       "      <td>منابع عراقی: یکی از خطرناک‌ترین سرکرده‌های داع...</td>\n",
       "      <td>entekhab.ir/fa/news/575468/%D9%85%D9%86%D8%A7%...</td>\n",
       "      <td>2</td>\n",
       "      <td>t</td>\n",
       "      <td>f</td>\n",
       "      <td>t</td>\n",
       "      <td>t</td>\n",
       "      <td>36981382</td>\n",
       "      <td>73</td>\n",
       "      <td>{1.73352956771851,-1.97286546230316,-1.2237212...</td>\n",
       "      <td>1335.0</td>\n",
       "      <td>{15}</td>\n",
       "    </tr>\n",
       "    <tr>\n",
       "      <th>12</th>\n",
       "      <td>2679336</td>\n",
       "      <td>2020-09-19 21:33:51.497447+04:30</td>\n",
       "      <td>{-0.128071650862694,-1.17892694473267,-0.83446...</td>\n",
       "      <td>تلاش آمریکا برای کشاندن لبنان به روند سازش با ...</td>\n",
       "      <td>entekhab.ir/fa/news/575470/%D8%AA%D9%84%D8%A7%...</td>\n",
       "      <td>2</td>\n",
       "      <td>t</td>\n",
       "      <td>f</td>\n",
       "      <td>t</td>\n",
       "      <td>t</td>\n",
       "      <td>36981754</td>\n",
       "      <td>73</td>\n",
       "      <td>{0.268955439329147,-2.4835684299469,-1.7646369...</td>\n",
       "      <td>1336.0</td>\n",
       "      <td>{15}</td>\n",
       "    </tr>\n",
       "    <tr>\n",
       "      <th>13</th>\n",
       "      <td>444553</td>\n",
       "      <td>2020-08-09 03:24:55.313982+04:30</td>\n",
       "      <td>{-0.536924719810486,-0.707858860492706,-0.4412...</td>\n",
       "      <td>سرانجام مذاکره‌کنندگان برجام/ نمایندگان کشورما...</td>\n",
       "      <td>entekhab.ir/fa/news/469852/%D8%B3%D8%B1%D8%A7%...</td>\n",
       "      <td>2</td>\n",
       "      <td>t</td>\n",
       "      <td>f</td>\n",
       "      <td>t</td>\n",
       "      <td>t</td>\n",
       "      <td>31010062</td>\n",
       "      <td>73</td>\n",
       "      <td>{3.626948595047,0.779965162277222,0.8395900726...</td>\n",
       "      <td>1829.0</td>\n",
       "      <td>{15}</td>\n",
       "    </tr>\n",
       "    <tr>\n",
       "      <th>14</th>\n",
       "      <td>565282</td>\n",
       "      <td>2020-08-09 03:30:45.27217+04:30</td>\n",
       "      <td>{0.354604035615921,-0.947246968746185,-0.62237...</td>\n",
       "      <td>چین: تحریم تسلیحاتی علیه ایران باید برچیده شود</td>\n",
       "      <td>entekhab.ir/fa/news/558970/%DA%86%DB%8C%D9%86-...</td>\n",
       "      <td>2</td>\n",
       "      <td>t</td>\n",
       "      <td>f</td>\n",
       "      <td>t</td>\n",
       "      <td>t</td>\n",
       "      <td>29604777</td>\n",
       "      <td>73</td>\n",
       "      <td>{3.626948595047,0.779965162277222,0.8395900726...</td>\n",
       "      <td>1389.0</td>\n",
       "      <td>{15}</td>\n",
       "    </tr>\n",
       "    <tr>\n",
       "      <th>15</th>\n",
       "      <td>571912</td>\n",
       "      <td>2020-08-09 03:31:11.099022+04:30</td>\n",
       "      <td>{0.974454462528229,-0.760468006134033,-0.33737...</td>\n",
       "      <td>تخت‌های کرونایی بیمارستان‌های دانشگاه علوم پزش...</td>\n",
       "      <td>entekhab.ir/fa/news/558858/%D8%AA%D8%AE%D8%AA%...</td>\n",
       "      <td>2</td>\n",
       "      <td>t</td>\n",
       "      <td>f</td>\n",
       "      <td>t</td>\n",
       "      <td>t</td>\n",
       "      <td>29559450</td>\n",
       "      <td>73</td>\n",
       "      <td>{3.626948595047,0.779965162277222,0.8395900726...</td>\n",
       "      <td>1420.0</td>\n",
       "      <td>{14}</td>\n",
       "    </tr>\n",
       "    <tr>\n",
       "      <th>16</th>\n",
       "      <td>628389</td>\n",
       "      <td>2020-08-09 03:33:39.279101+04:30</td>\n",
       "      <td>{0.386123269796371,-1.14280593395233,-0.343138...</td>\n",
       "      <td>ترامپ: بولتون دیوانه است / او کارش را خوب انجا...</td>\n",
       "      <td>entekhab.ir/fa/news/557981/%D8%AA%D8%B1%D8%A7%...</td>\n",
       "      <td>2</td>\n",
       "      <td>t</td>\n",
       "      <td>f</td>\n",
       "      <td>t</td>\n",
       "      <td>t</td>\n",
       "      <td>29094620</td>\n",
       "      <td>73</td>\n",
       "      <td>{3.626948595047,0.779965162277222,0.8395900726...</td>\n",
       "      <td>2430.0</td>\n",
       "      <td>{15}</td>\n",
       "    </tr>\n",
       "    <tr>\n",
       "      <th>17</th>\n",
       "      <td>673569</td>\n",
       "      <td>2020-08-09 03:36:09.238384+04:30</td>\n",
       "      <td>{1.3070216178894,-0.0621618740260601,0.4277252...</td>\n",
       "      <td>مدیرعامل اسبق شرکت ملی گاز: با برنامه ریزی انج...</td>\n",
       "      <td>entekhab.ir/fa/news/557061/%D9%85%D8%AF%DB%8C%...</td>\n",
       "      <td>2</td>\n",
       "      <td>t</td>\n",
       "      <td>f</td>\n",
       "      <td>t</td>\n",
       "      <td>t</td>\n",
       "      <td>28689191</td>\n",
       "      <td>73</td>\n",
       "      <td>{3.626948595047,0.779965162277222,0.8395900726...</td>\n",
       "      <td>1521.0</td>\n",
       "      <td>{11}</td>\n",
       "    </tr>\n",
       "    <tr>\n",
       "      <th>18</th>\n",
       "      <td>400574</td>\n",
       "      <td>2020-08-09 03:22:59.303666+04:30</td>\n",
       "      <td>{1.3474588394165,-0.474584966897964,-0.6909079...</td>\n",
       "      <td>Covid-19 ممکن است برای بار دوم شدیدتر هم بشود</td>\n",
       "      <td>entekhab.ir/fa/news/561944/covid-19-%D9%85%D9%...</td>\n",
       "      <td>2</td>\n",
       "      <td>t</td>\n",
       "      <td>f</td>\n",
       "      <td>t</td>\n",
       "      <td>t</td>\n",
       "      <td>31566416</td>\n",
       "      <td>73</td>\n",
       "      <td>{3.626948595047,0.779965162277222,0.8395900726...</td>\n",
       "      <td>1675.0</td>\n",
       "      <td>{14}</td>\n",
       "    </tr>\n",
       "    <tr>\n",
       "      <th>19</th>\n",
       "      <td>530544</td>\n",
       "      <td>2020-08-09 03:29:10.86648+04:30</td>\n",
       "      <td>{0.960443079471588,-0.928422391414642,0.120606...</td>\n",
       "      <td>سردار جلالی: رعایت نکردن مسائل ایمنی،  علت حاد...</td>\n",
       "      <td>entekhab.ir/fa/news/559457/%D8%B3%D8%B1%D8%AF%...</td>\n",
       "      <td>2</td>\n",
       "      <td>t</td>\n",
       "      <td>f</td>\n",
       "      <td>t</td>\n",
       "      <td>t</td>\n",
       "      <td>29897857</td>\n",
       "      <td>73</td>\n",
       "      <td>{3.626948595047,0.779965162277222,0.8395900726...</td>\n",
       "      <td>1695.0</td>\n",
       "      <td>{15}</td>\n",
       "    </tr>\n",
       "  </tbody>\n",
       "</table>\n",
       "</div>"
      ],
      "text/plain": [
       "         id                           created  \\\n",
       "0    761039  2020-08-09 03:40:44.820172+04:30   \n",
       "1   2754181  2020-09-26 03:50:01.442172+03:30   \n",
       "2   4286495   2020-10-03 10:35:21.85205+03:30   \n",
       "3   4875542  2020-10-10 09:40:15.864975+03:30   \n",
       "4    536136  2020-08-09 03:29:13.257136+04:30   \n",
       "5    926557  2020-08-09 03:48:27.715412+04:30   \n",
       "6   2679316  2020-09-19 21:33:51.475395+04:30   \n",
       "7   4286727  2020-10-03 10:45:24.947041+03:30   \n",
       "8    464068  2020-08-09 03:25:58.532063+04:30   \n",
       "9    502039  2020-08-09 03:27:52.377476+04:30   \n",
       "10  2679265  2020-09-19 21:33:51.383559+04:30   \n",
       "11  2679335  2020-09-19 21:33:51.495403+04:30   \n",
       "12  2679336  2020-09-19 21:33:51.497447+04:30   \n",
       "13   444553  2020-08-09 03:24:55.313982+04:30   \n",
       "14   565282   2020-08-09 03:30:45.27217+04:30   \n",
       "15   571912  2020-08-09 03:31:11.099022+04:30   \n",
       "16   628389  2020-08-09 03:33:39.279101+04:30   \n",
       "17   673569  2020-08-09 03:36:09.238384+04:30   \n",
       "18   400574  2020-08-09 03:22:59.303666+04:30   \n",
       "19   530544   2020-08-09 03:29:10.86648+04:30   \n",
       "\n",
       "                                       content_vector  \\\n",
       "0   {0.264251947402954,-0.644542038440704,-0.18412...   \n",
       "1   {0.273704349994659,-0.830473184585571,-0.28864...   \n",
       "2   {0.853439688682556,-0.564931094646454,-0.37323...   \n",
       "3   {1.15192973613739,-0.138078510761261,0.6881629...   \n",
       "4   {0.704237043857574,-1.47816872596741,0.4682139...   \n",
       "5   {-0.272317439317703,0.354126185178757,0.105726...   \n",
       "6   {0.808205783367157,-0.969625532627106,-0.40755...   \n",
       "7   {0.853987216949463,-0.202528178691864,-0.49360...   \n",
       "8   {-1.08582651615143,0.0488543212413788,0.038908...   \n",
       "9   {0.598500967025757,-0.519518435001373,-0.30455...   \n",
       "10  {0.626656830310822,-0.833987236022949,-0.14109...   \n",
       "11  {1.12349617481232,-1.7834061384201,-0.52237802...   \n",
       "12  {-0.128071650862694,-1.17892694473267,-0.83446...   \n",
       "13  {-0.536924719810486,-0.707858860492706,-0.4412...   \n",
       "14  {0.354604035615921,-0.947246968746185,-0.62237...   \n",
       "15  {0.974454462528229,-0.760468006134033,-0.33737...   \n",
       "16  {0.386123269796371,-1.14280593395233,-0.343138...   \n",
       "17  {1.3070216178894,-0.0621618740260601,0.4277252...   \n",
       "18  {1.3474588394165,-0.474584966897964,-0.6909079...   \n",
       "19  {0.960443079471588,-0.928422391414642,0.120606...   \n",
       "\n",
       "                                                title  \\\n",
       "0   یادداشت‌های علم، شنبه ۲۴ مرداد ۱۳۴۹: ایادی ما ...   \n",
       "1   ايران همچنان همان امپراتوری پارس است /  عربستا...   \n",
       "2   همه آنچه برای ترامپ در شب گذشته رخ داد؛ از تنگ...   \n",
       "3   پیکر ۲ جانباخته ریزش ساختمان در در خیابان ابوذ...   \n",
       "4   7تن گوشت چرخ کرده با سنگدون مرغ یخ زده و چربی ...   \n",
       "5   ویدیو / دری نجف آبادی: ممکن است FATF از دستور ...   \n",
       "6   تا زمان برگزاری انتخابات آمریکا و بیان صریح مو...   \n",
       "7   رئیس پلیس تهران: ارسال اشتباهی پیامک‌های حجاب ...   \n",
       "8   ویدیو / توضیحات رئیس دفتر رئیس جمهور درمورد سن...   \n",
       "9   دیگر در تهران تخت خالی برای بستری بیمار کرونای...   \n",
       "10  زنانگی نهفته و آزار جنسی / چرا تنها در آزار جن...   \n",
       "11  منابع عراقی: یکی از خطرناک‌ترین سرکرده‌های داع...   \n",
       "12  تلاش آمریکا برای کشاندن لبنان به روند سازش با ...   \n",
       "13  سرانجام مذاکره‌کنندگان برجام/ نمایندگان کشورما...   \n",
       "14     چین: تحریم تسلیحاتی علیه ایران باید برچیده شود   \n",
       "15  تخت‌های کرونایی بیمارستان‌های دانشگاه علوم پزش...   \n",
       "16  ترامپ: بولتون دیوانه است / او کارش را خوب انجا...   \n",
       "17  مدیرعامل اسبق شرکت ملی گاز: با برنامه ریزی انج...   \n",
       "18      Covid-19 ممکن است برای بار دوم شدیدتر هم بشود   \n",
       "19  سردار جلالی: رعایت نکردن مسائل ایمنی،  علت حاد...   \n",
       "\n",
       "                                          cleaned_url  website_id included  \\\n",
       "0   entekhab.ir/fa/news/495749/%DB%8C%D8%A7%D8%AF%...           2        t   \n",
       "1   entekhab.ir/fa/news/266708/%D8%A7%D9%8A%D8%B1%...           2        t   \n",
       "2   entekhab.ir/fa/news/577730/%D9%87%D9%85%D9%87-...           2        t   \n",
       "3   entekhab.ir/fa/news/578944/%D9%BE%DB%8C%DA%A9%...           2        t   \n",
       "4   entekhab.ir/fa/news/434541/7%D8%AA%D9%86-%DA%A...           2        t   \n",
       "5   entekhab.ir/fa/news/553636/%D9%88%DB%8C%D8%AF%...           2        t   \n",
       "6   entekhab.ir/fa/news/575411/%D8%AA%D8%A7-%D8%B2...           2        t   \n",
       "7   entekhab.ir/fa/news/577736/%D8%B1%D8%A6%DB%8C%...           2        t   \n",
       "8   entekhab.ir/fa/news/560545/%D9%88%DB%8C%D8%AF%...           2        t   \n",
       "9   entekhab.ir/fa/news/559856/%D8%AF%DB%8C%DA%AF%...           2        t   \n",
       "10  entekhab.ir/fa/news/575391/%D8%B2%D9%86%D8%A7%...           2        t   \n",
       "11  entekhab.ir/fa/news/575468/%D9%85%D9%86%D8%A7%...           2        t   \n",
       "12  entekhab.ir/fa/news/575470/%D8%AA%D9%84%D8%A7%...           2        t   \n",
       "13  entekhab.ir/fa/news/469852/%D8%B3%D8%B1%D8%A7%...           2        t   \n",
       "14  entekhab.ir/fa/news/558970/%DA%86%DB%8C%D9%86-...           2        t   \n",
       "15  entekhab.ir/fa/news/558858/%D8%AA%D8%AE%D8%AA%...           2        t   \n",
       "16  entekhab.ir/fa/news/557981/%D8%AA%D8%B1%D8%A7%...           2        t   \n",
       "17  entekhab.ir/fa/news/557061/%D9%85%D8%AF%DB%8C%...           2        t   \n",
       "18  entekhab.ir/fa/news/561944/covid-19-%D9%85%D9%...           2        t   \n",
       "19  entekhab.ir/fa/news/559457/%D8%B3%D8%B1%D8%AF%...           2        t   \n",
       "\n",
       "   is_amp has_image_meta has_title_meta   page_id  subdomain_id  \\\n",
       "0       f              f              t  28054354            73   \n",
       "1       f              f              t  37476083            73   \n",
       "2       f              t              t  38017087            73   \n",
       "3       f              t              t  38559541            73   \n",
       "4       f              t              t  29837398            73   \n",
       "5       f              f              t  27251139            73   \n",
       "6       f              t              t  36975475            73   \n",
       "7       f              t              t  38018045            73   \n",
       "8       f              f              t  30691160            73   \n",
       "9       f              t              t  30236589            73   \n",
       "10      f              f              t  36964218            73   \n",
       "11      f              t              t  36981382            73   \n",
       "12      f              t              t  36981754            73   \n",
       "13      f              t              t  31010062            73   \n",
       "14      f              t              t  29604777            73   \n",
       "15      f              t              t  29559450            73   \n",
       "16      f              t              t  29094620            73   \n",
       "17      f              t              t  28689191            73   \n",
       "18      f              t              t  31566416            73   \n",
       "19      f              t              t  29897857            73   \n",
       "\n",
       "                                         title_vector   image_id  cats  \n",
       "0   {3.626948595047,0.779965162277222,0.8395900726...      602.0  {23}  \n",
       "1   {1.13415098190308,-1.20623469352722,-0.6013424...      621.0  {15}  \n",
       "2   {2.13742733001709,-1.12283325195312,-0.3791791...  1530910.0  {15}  \n",
       "3   {0.230344951152802,0.131352335214615,0.9686161...  1758716.0  {21}  \n",
       "4   {3.626948595047,0.779965162277222,0.8395900726...      750.0  {22}  \n",
       "5   {3.626948595047,0.779965162277222,0.8395900726...        NaN  {23}  \n",
       "6   {1.24864614009857,-1.19327878952026,-0.5599737...     1324.0  {15}  \n",
       "7   {1.85497891902924,0.154068395495415,-0.8957029...  1531042.0  {15}  \n",
       "8   {3.626948595047,0.779965162277222,0.8395900726...        NaN  {23}  \n",
       "9   {3.626948595047,0.779965162277222,0.8395900726...     1720.0  {-1}  \n",
       "10  {1.34037363529205,-1.04718887805939,-0.6416489...        NaN  {37}  \n",
       "11  {1.73352956771851,-1.97286546230316,-1.2237212...     1335.0  {15}  \n",
       "12  {0.268955439329147,-2.4835684299469,-1.7646369...     1336.0  {15}  \n",
       "13  {3.626948595047,0.779965162277222,0.8395900726...     1829.0  {15}  \n",
       "14  {3.626948595047,0.779965162277222,0.8395900726...     1389.0  {15}  \n",
       "15  {3.626948595047,0.779965162277222,0.8395900726...     1420.0  {14}  \n",
       "16  {3.626948595047,0.779965162277222,0.8395900726...     2430.0  {15}  \n",
       "17  {3.626948595047,0.779965162277222,0.8395900726...     1521.0  {11}  \n",
       "18  {3.626948595047,0.779965162277222,0.8395900726...     1675.0  {14}  \n",
       "19  {3.626948595047,0.779965162277222,0.8395900726...     1695.0  {15}  "
      ]
     },
     "execution_count": 2,
     "metadata": {},
     "output_type": "execute_result"
    }
   ],
   "source": [
    "entekhab_content = pd.read_csv('./pages_entekhab.csv')\n",
    "entekhab_content.head(20)"
   ]
  },
  {
   "cell_type": "code",
   "execution_count": 3,
   "metadata": {},
   "outputs": [
    {
     "data": {
      "text/plain": [
       "(65243, 15)"
      ]
     },
     "execution_count": 3,
     "metadata": {},
     "output_type": "execute_result"
    }
   ],
   "source": [
    "entekhab_content = entekhab_content[entekhab_content.included == 't']\n",
    "entekhab_content.shape"
   ]
  },
  {
   "cell_type": "code",
   "execution_count": 4,
   "metadata": {},
   "outputs": [],
   "source": [
    "class ViewMatrix:\n",
    "    def __init__(self, path):\n",
    "        self.path = path\n",
    "        self.original = True\n",
    "        self.item_indexer = AppendIndexer.load('./entekhab.ir/view_matrix/item_indexer.indexer')\n",
    "        self.user_indexer = AppendIndexer.load('./entekhab.ir/view_matrix/user_indexer.indexer')\n",
    "        \n",
    "    def load_matrix(path):\n",
    "        \n",
    "        matrix = ViewMatrix(path)\n",
    "\n",
    "        try:\n",
    "            matrix.view_matrix = ViewMatrix \\\n",
    "                .load_sparse_lil(path)\n",
    "        except:\n",
    "            print('Error: loading', path)\n",
    "\n",
    "        return matrix\n",
    "\n",
    "    def load_sparse_lil(filename):\n",
    "        loader = np.load(filename, allow_pickle=True)\n",
    "        result = lil_matrix(tuple(loader[\"shape\"]), dtype=str(loader[\"dtype\"]))\n",
    "        result.data = loader[\"data\"]\n",
    "        result.rows = loader[\"rows\"]\n",
    "        return result\n",
    "    \n",
    "    def make_dense(self, user_min_view, item_min_view):\n",
    "        self.original = False\n",
    "        while True:\n",
    "            removed_rows_cnt = self.trim_users_with_few_views(user_min_view)\n",
    "            removed_columns_cnt = self.trim_columns_with_few_views(item_min_view)\n",
    "            if not removed_columns_cnt and not removed_rows_cnt:\n",
    "                break\n",
    "\n",
    "    def trim_users_with_few_views(self, user_min_view):\n",
    "        removing_row_indices = list(np.where(self.view_matrix.getnnz(1) < user_min_view)[0])\n",
    "        print('Number of users which should be deleted:', len(removing_row_indices))\n",
    "        self.trim_user_indices(to_remove_indices=removing_row_indices)\n",
    "        return len(removing_row_indices)\n",
    "\n",
    "    def trim_columns_with_few_views(self, column_min_view):\n",
    "        removing_column_indices = list(np.where(self.view_matrix.getnnz(0) < column_min_view)[0])\n",
    "        print('Number products which should be deleted:', len(removing_column_indices))\n",
    "        self.trim_column_indices(to_remove_indices=removing_column_indices)\n",
    "        return len(removing_column_indices)\n",
    "    \n",
    "    def trim_user_indices(self, to_remove_indices):\n",
    "        self.user_indexer.remove_indexes(to_remove_indices)\n",
    "        self.view_matrix = ViewMatrix.delete_row_lil(self.view_matrix, to_remove_indices)\n",
    "    \n",
    "    def trim_column_indices(self, to_remove_indices):\n",
    "        self.item_indexer.remove_indexes(to_remove_indices)\n",
    "        self.view_matrix = ViewMatrix.delete_column_lil(self.view_matrix, to_remove_indices)\n",
    "    \n",
    "    def delete_column_lil(mat: lil_matrix, *i) -> lil_matrix:\n",
    "        mat = mat.transpose()\n",
    "        mat = ViewMatrix.delete_row_lil(mat, *i)\n",
    "        return mat.transpose()\n",
    "    \n",
    "    def delete_row_lil(mat: lil_matrix, *i) -> lil_matrix:\n",
    "        if not isinstance(mat, lil_matrix):\n",
    "            raise ValueError(\"works only for LIL format -- use .tolil() first\")\n",
    "        mat = mat.copy()\n",
    "        mat.rows = np.delete(mat.rows, i)\n",
    "        mat.data = np.delete(mat.data, i)\n",
    "        mat._shape = (mat.rows.shape[0], mat._shape[1])\n",
    "        return mat\n",
    "    def to_csr(self):\n",
    "        train_data = self.view_matrix.astype(np.float64)\n",
    "        train_data = train_data.tocoo()\n",
    "        train_data.data = np.log10(train_data.data) + 1\n",
    "        train_data = train_data.tocsr()\n",
    "        return train_data"
   ]
  },
  {
   "cell_type": "code",
   "execution_count": 5,
   "metadata": {},
   "outputs": [],
   "source": [
    "def CFTrain(path: str, _alpha = 15, factors = 20):\n",
    "    now = time.time()\n",
    "    matrix = ViewMatrix.load_matrix(path)\n",
    "    print('View matrix loaded in', time.time() - now, 'seconds.')\n",
    "\n",
    "    now = time.time()\n",
    "    sparce_matrix = matrix.to_csr()\n",
    "    matrix.make_dense(user_min_view = 1, \n",
    "                      item_min_view = 1)\n",
    "    print('matrix has been made dense in', time.time() - now, 'seconds.')\n",
    "\n",
    "    als_model = ALS.Als(num_factors = factors,\n",
    "                        iterations = 15,\n",
    "                        num_threads = 15,\n",
    "                        alpha = _alpha)\n",
    "\n",
    "    implicit_matrix = matrix.to_csr()\n",
    "\n",
    "    print()\n",
    "    now = time.time()\n",
    "    als_model.fit(implicit_matrix)\n",
    "    print('ALS model is fitted in', time.time() - now, 'seconds.')\n",
    "    \n",
    "    print('Saving Data ...')\n",
    "    matrix.item_indexer.dump('./entekhab.ir/alisResult/ali_item_indexer_factorized.indexer')\n",
    "    matrix.user_indexer.dump('./entekhab.ir/alisResult/ali_user_indexer_factorized.indexer')\n",
    "    np.save('./entekhab.ir/alisResult/ali_items_vectors.npy', als_model.item_vectors)\n",
    "    np.save('./entekhab.ir/alisResult/ali_users_vectors.npy', als_model.user_vectors)\n",
    "    \n",
    "    return sparce_matrix, implicit_matrix, als_model.item_vectors, als_model.user_vectors"
   ]
  },
  {
   "cell_type": "code",
   "execution_count": 6,
   "metadata": {},
   "outputs": [],
   "source": [
    "def get_annoy_results_c(pages_vector, number_of_trees = 170, number_of_neighbours = 30, AI = 300):\n",
    "    \n",
    "    start = time.time()\n",
    "    annoy_model = annoy_model = AnnoyIndex(AI, 'angular')\n",
    "    \n",
    "    for index, vector in pages_vector.items():\n",
    "        annoy_model.add_item(index, vector)\n",
    "    \n",
    "    annoy_model.build(number_of_trees)\n",
    "    \n",
    "    annoy_indices = []\n",
    "    annoy_distances = []\n",
    "\n",
    "    for j, i in pages_vector.items():\n",
    "        indices, distances = annoy_model. \\\n",
    "            get_nns_by_vector(i, number_of_neighbours, include_distances=True)\n",
    "        annoy_indices.append(indices)\n",
    "        annoy_distances.append(distances)\n",
    "    \n",
    "    duration = time.time() - start\n",
    "    print('annoy time:', duration)\n",
    "    return annoy_indices, annoy_distances, duration"
   ]
  },
  {
   "cell_type": "code",
   "execution_count": 7,
   "metadata": {},
   "outputs": [],
   "source": [
    "def get_annoy_results_cp(pages_vector1, pages_vector2, number_of_trees = 170, number_of_neighbours = 30, AI = 300):\n",
    "    \n",
    "    start = time.time()\n",
    "    annoy_model = annoy_model = AnnoyIndex(AI, 'angular')\n",
    "    \n",
    "    for index, vector in pages_vector1.items():\n",
    "        annoy_model.add_item(index, vector)\n",
    "    \n",
    "    annoy_model.build(number_of_trees)\n",
    "    \n",
    "    annoy_indices = []\n",
    "    annoy_distances = []\n",
    "\n",
    "    for j, i in pages_vector2.items():\n",
    "        indices, distances = annoy_model. \\\n",
    "            get_nns_by_vector(i, number_of_neighbours, include_distances=True)\n",
    "        annoy_indices.append(indices)\n",
    "        annoy_distances.append(distances)\n",
    "    \n",
    "    duration = time.time() - start\n",
    "    print('annoy time:', duration)\n",
    "    return annoy_indices, annoy_distances, duration"
   ]
  },
  {
   "cell_type": "code",
   "execution_count": 8,
   "metadata": {},
   "outputs": [],
   "source": [
    "def get_annoy_results(pages_vector, number_of_trees = 170, number_of_neighbours = 30):\n",
    "    \n",
    "    start = time.time()\n",
    "    annoy_model = annoy_model = AnnoyIndex(pages_vector.shape[1], 'angular')\n",
    "    \n",
    "    for index, vector in enumerate(pages_vector):\n",
    "        annoy_model.add_item(index, vector)\n",
    "    \n",
    "    annoy_model.build(number_of_trees)\n",
    "    \n",
    "    annoy_indices = []\n",
    "    annoy_distances = []\n",
    "\n",
    "    for i in pages_vector:\n",
    "        indices, distances = annoy_model. \\\n",
    "            get_nns_by_vector(i, number_of_neighbours, include_distances=True)\n",
    "        annoy_indices.append(indices)\n",
    "        annoy_distances.append(distances)\n",
    "    \n",
    "    duration = time.time() - start\n",
    "    print('annoy time:', duration)\n",
    "    return annoy_indices, annoy_distances, duration"
   ]
  },
  {
   "cell_type": "code",
   "execution_count": 9,
   "metadata": {},
   "outputs": [],
   "source": [
    "def sk_KNN(item_vectors, number_of_neighbours = 30):\n",
    "    start = time.time()\n",
    "\n",
    "    knn_distances_brute = []\n",
    "    knn_indices_brute = []\n",
    "\n",
    "    nbrs = NearestNeighbors(n_neighbors=number_of_neighbours, algorithm='ball_tree'). \\\n",
    "        fit(item_vectors)\n",
    "\n",
    "    knn_distances_brute, knn_indices_brute = nbrs.kneighbors(item_vectors)\n",
    "\n",
    "    end = time.time()\n",
    "    print('ball_tree time:', end-start)\n",
    "    \n",
    "    return knn_distances_brute, knn_indices_brute"
   ]
  },
  {
   "cell_type": "code",
   "execution_count": 10,
   "metadata": {},
   "outputs": [],
   "source": [
    "def sk_KNN_c(item_vectors, mapper, number_of_neighbours = 30):\n",
    "    start = time.time()\n",
    "\n",
    "    knn_distances_brute = []\n",
    "    knn_indices_brute = []\n",
    "\n",
    "    nbrs = NearestNeighbors(n_neighbors=number_of_neighbours, algorithm='ball_tree'). \\\n",
    "        fit(item_vectors)\n",
    "\n",
    "    knn_distances_brute, knn_indices_brute = nbrs.kneighbors(item_vectors)\n",
    "\n",
    "    end = time.time()\n",
    "    print('ball_tree time:', end-start)\n",
    "    a = [[mapper[j] for j in i]for i in knn_indices_brute]\n",
    "    \n",
    "    return knn_distances_brute, a"
   ]
  },
  {
   "cell_type": "code",
   "execution_count": 11,
   "metadata": {
    "scrolled": true
   },
   "outputs": [
    {
     "name": "stdout",
     "output_type": "stream",
     "text": [
      "View matrix loaded in 11.893180131912231 seconds.\n",
      "Number of users which should be deleted: 858119\n",
      "Number products which should be deleted: 11824\n",
      "Number of users which should be deleted: 0\n",
      "Number products which should be deleted: 0\n",
      "matrix has been made dense in 49.96441888809204 seconds.\n",
      "\n",
      "ALS model is fitted in 117.44498038291931 seconds.\n",
      "Saving Data ...\n"
     ]
    }
   ],
   "source": [
    "sparce_matrix, implicit_matrix, item_vectors, user_vectors = \\\n",
    "CFTrain('./entekhab.ir/view_matrix/lil_matrix.npz', factors = 20, _alpha = 15)"
   ]
  },
  {
   "cell_type": "code",
   "execution_count": 12,
   "metadata": {},
   "outputs": [
    {
     "data": {
      "text/plain": [
       "(1239031, 20942)"
      ]
     },
     "execution_count": 12,
     "metadata": {},
     "output_type": "execute_result"
    }
   ],
   "source": [
    "# implicit_matrix = implicit_matrix.toarray()\n",
    "implicit_matrix.shape"
   ]
  },
  {
   "cell_type": "code",
   "execution_count": 13,
   "metadata": {},
   "outputs": [],
   "source": [
    "item_indexer1 = \\\n",
    "AppendIndexer.load('./entekhab.ir/alisResult/ali_item_indexer_factorized.indexer')"
   ]
  },
  {
   "cell_type": "code",
   "execution_count": 14,
   "metadata": {},
   "outputs": [
    {
     "name": "stderr",
     "output_type": "stream",
     "text": [
      "100%|██████████| 20942/20942 [00:16<00:00, 1237.54it/s]\n"
     ]
    }
   ],
   "source": [
    "items = []\n",
    "nulls = []\n",
    "for i in tqdm(item_indexer1.get_items()):\n",
    "    temp = {}\n",
    "    try:\n",
    "        item_index = item_indexer1.get(i)\n",
    "        c_vec = np.array(entekhab_content[entekhab_content['id'] == int(i)].content_vector)[0]\n",
    "        temp['content_vec'] = np.array([float(x) for x in str(c_vec)[1:-1].split(',')])\n",
    "        temp['id'] = i\n",
    "        temp['index'] = item_index\n",
    "        temp['imp_vec'] = item_vectors[item_index]\n",
    "        items.append(temp)\n",
    "    except:\n",
    "        nulls.append(item_index)"
   ]
  },
  {
   "cell_type": "code",
   "execution_count": 15,
   "metadata": {},
   "outputs": [
    {
     "name": "stderr",
     "output_type": "stream",
     "text": [
      "100%|██████████| 20729/20729 [00:00<00:00, 1979728.30it/s]\n",
      "100%|██████████| 20729/20729 [00:00<00:00, 2087785.22it/s]\n",
      "100%|██████████| 20729/20729 [00:00<00:00, 1781122.78it/s]\n"
     ]
    }
   ],
   "source": [
    "item_content_map = {}\n",
    "for i in tqdm(items):\n",
    "    item_content_map[i['index']] = i['content_vec']\n",
    "item_imp_map = {}\n",
    "for i in tqdm(items):\n",
    "    item_imp_map[i['index']] = i['imp_vec']\n",
    "content_vec = []\n",
    "items_itex = []\n",
    "for i, j in tqdm(item_content_map.items()):\n",
    "    content_vec.append(j)\n",
    "    items_itex.append(i)\n"
   ]
  },
  {
   "cell_type": "code",
   "execution_count": 16,
   "metadata": {},
   "outputs": [
    {
     "data": {
      "text/plain": [
       "20729"
      ]
     },
     "execution_count": 16,
     "metadata": {},
     "output_type": "execute_result"
    }
   ],
   "source": [
    "len(items)"
   ]
  },
  {
   "cell_type": "code",
   "execution_count": 17,
   "metadata": {},
   "outputs": [],
   "source": [
    "popularity_count = {}\n",
    "rows,cols = (implicit_matrix.T).nonzero()\n",
    "unique, counts = np.unique(rows, return_counts=True)\n",
    "for i, j in zip(unique, counts):\n",
    "    popularity_count[i] = j"
   ]
  },
  {
   "cell_type": "code",
   "execution_count": 18,
   "metadata": {},
   "outputs": [],
   "source": [
    "site_trend = {k: v for k, v in sorted(popularity_count.items(), key=lambda item: item[1], reverse = True)}"
   ]
  },
  {
   "cell_type": "code",
   "execution_count": 19,
   "metadata": {},
   "outputs": [],
   "source": [
    "pop = []\n",
    "item = []\n",
    "for i, j in site_trend.items():\n",
    "    pop.append(j)\n",
    "    item.append(i)"
   ]
  },
  {
   "cell_type": "code",
   "execution_count": 20,
   "metadata": {},
   "outputs": [
    {
     "data": {
      "image/png": "[encoded data removed]",
      "text/plain": [
       "<Figure size 432x288 with 1 Axes>"
      ]
     },
     "metadata": {
      "needs_background": "light"
     },
     "output_type": "display_data"
    }
   ],
   "source": [
    "import numpy as np\n",
    "import matplotlib.mlab as mlab\n",
    "import matplotlib.pyplot as plt\n",
    "\n",
    "x = pop[2000:]\n",
    "num_bins = 100\n",
    "n, bins, patches = plt.hist(x, num_bins, facecolor='blue', alpha=0.5)\n",
    "plt.title('view distribution')\n",
    "plt.show()"
   ]
  },
  {
   "cell_type": "markdown",
   "metadata": {},
   "source": [
    "# annoy"
   ]
  },
  {
   "cell_type": "code",
   "execution_count": 21,
   "metadata": {},
   "outputs": [],
   "source": [
    "def a(s):\n",
    "    r = []\n",
    "    for i in range(len(s)-250):\n",
    "        r.append(np.array(s[i:i+250]).mean())\n",
    "    return r"
   ]
  },
  {
   "cell_type": "markdown",
   "metadata": {},
   "source": [
    "On prod"
   ]
  },
  {
   "cell_type": "code",
   "execution_count": 22,
   "metadata": {},
   "outputs": [],
   "source": [
    "recommending_items = item[:2174]#100=1633\n",
    "item_content_map_production = {}\n",
    "for i, j in item_content_map.items():\n",
    "    if i in recommending_items:\n",
    "        item_content_map_production[i] = j"
   ]
  },
  {
   "cell_type": "code",
   "execution_count": 23,
   "metadata": {},
   "outputs": [
    {
     "name": "stdout",
     "output_type": "stream",
     "text": [
      "annoy time: 6.4026038646698\n"
     ]
    }
   ],
   "source": [
    "ind_production_c, annoy_distances_c, duration_c = get_annoy_results_cp(item_content_map_production, item_content_map, number_of_neighbours = 11, AI = 300)\n",
    "ind_production_c1 = [] \n",
    "for i in ind_production_c:\n",
    "    ind_production_c1.append(i[1:])\n",
    "ind_production_c1 = np.array(list((np.array(ind_production_c1)).flatten()))\n",
    "\n"
   ]
  },
  {
   "cell_type": "code",
   "execution_count": 24,
   "metadata": {},
   "outputs": [],
   "source": [
    "res_prod = []\n",
    "for i in item:\n",
    "    \n",
    "    res_prod.append(np.equal(ind_production_c1, i).sum())\n",
    "    "
   ]
  },
  {
   "cell_type": "code",
   "execution_count": 25,
   "metadata": {},
   "outputs": [
    {
     "data": {
      "text/plain": [
       "[<matplotlib.lines.Line2D at 0x7fa22a55a2b0>]"
      ]
     },
     "execution_count": 25,
     "metadata": {},
     "output_type": "execute_result"
    },
    {
     "data": {
      "image/png": "[encoded data removed]",
      "text/plain": [
       "<Figure size 432x288 with 1 Axes>"
      ]
     },
     "metadata": {
      "needs_background": "light"
     },
     "output_type": "display_data"
    }
   ],
   "source": [
    "plt.plot(a(res_prod))"
   ]
  },
  {
   "cell_type": "markdown",
   "metadata": {},
   "source": [
    "other algs"
   ]
  },
  {
   "cell_type": "code",
   "execution_count": 26,
   "metadata": {},
   "outputs": [
    {
     "name": "stdout",
     "output_type": "stream",
     "text": [
      "annoy time: 17.920241832733154\n"
     ]
    }
   ],
   "source": [
    "ind, dis, d = get_annoy_results(item_vectors, number_of_neighbours = 11)\n",
    "ind2 = []\n",
    "for i in ind:\n",
    "    ind2.append(i[1:])"
   ]
  },
  {
   "cell_type": "code",
   "execution_count": 27,
   "metadata": {},
   "outputs": [],
   "source": [
    "ind2 = np.array(list((np.array(ind2)).flatten()))"
   ]
  },
  {
   "cell_type": "code",
   "execution_count": 28,
   "metadata": {},
   "outputs": [],
   "source": [
    "res = []\n",
    "for i in item:\n",
    "    res.append(np.equal(ind2, i).sum())"
   ]
  },
  {
   "cell_type": "code",
   "execution_count": 29,
   "metadata": {},
   "outputs": [
    {
     "name": "stdout",
     "output_type": "stream",
     "text": [
      "annoy time: 15.820990324020386\n"
     ]
    }
   ],
   "source": [
    "annoy_indices_c, annoy_distances_c, duration_c = get_annoy_results_c(item_content_map, number_of_neighbours = 11, AI = 300)\n",
    "ind3 = [] \n",
    "for i in annoy_indices_c:\n",
    "    ind3.append(i[1:])"
   ]
  },
  {
   "cell_type": "code",
   "execution_count": 30,
   "metadata": {},
   "outputs": [],
   "source": [
    "ind3 = np.array(list((np.array(ind3)).flatten()))"
   ]
  },
  {
   "cell_type": "code",
   "execution_count": 31,
   "metadata": {},
   "outputs": [],
   "source": [
    "res2 = []\n",
    "for i in item:\n",
    "    res2.append(np.equal(ind3, i).sum())"
   ]
  },
  {
   "cell_type": "code",
   "execution_count": 32,
   "metadata": {},
   "outputs": [
    {
     "data": {
      "text/plain": [
       "20942"
      ]
     },
     "execution_count": 32,
     "metadata": {},
     "output_type": "execute_result"
    }
   ],
   "source": [
    "len(res)"
   ]
  },
  {
   "cell_type": "code",
   "execution_count": 33,
   "metadata": {},
   "outputs": [
    {
     "data": {
      "text/plain": [
       "<matplotlib.legend.Legend at 0x7fa224035e80>"
      ]
     },
     "execution_count": 33,
     "metadata": {},
     "output_type": "execute_result"
    },
    {
     "data": {
      "image/png": "[encoded data removed]",
      "text/plain": [
       "<Figure size 432x288 with 1 Axes>"
      ]
     },
     "metadata": {
      "needs_background": "light"
     },
     "output_type": "display_data"
    }
   ],
   "source": [
    "plt.plot(a(a(res)), label = 'implicit feedback data')\n",
    "plt.plot(a(a(res2)), label = 'content data')\n",
    "plt.legend()"
   ]
  },
  {
   "cell_type": "code",
   "execution_count": 34,
   "metadata": {},
   "outputs": [],
   "source": [
    "res = np.array(res)\n",
    "res2 = np.array(res2)\n",
    "res_prod = np.array(res_prod)"
   ]
  },
  {
   "cell_type": "code",
   "execution_count": 35,
   "metadata": {},
   "outputs": [],
   "source": [
    "content = []\n",
    "colab = []\n",
    "prod = []\n",
    "\n",
    "\n",
    "             \n",
    "content.append(np.mean(res2[0:450]))\n",
    "colab.append(np.mean(res[0:450]))\n",
    "prod.append(np.mean(res_prod[0:450]))\n",
    "             \n",
    "content.append(np.mean(res2[450:1000]))\n",
    "colab.append(np.mean(res[450:1000]))\n",
    "prod.append(np.mean(res_prod[450:750]))\n",
    "\n",
    "content.append(np.mean(res2[1000:1633]))\n",
    "colab.append(np.mean(res[1000:1633]))\n",
    "prod.append(np.mean(res_prod[1000:1633]))\n",
    "\n",
    "content.append(np.mean(res2[1633:2200]))\n",
    "colab.append(np.mean(res[1633:2200]))\n",
    "prod.append(np.mean(res_prod[1633:]))\n",
    "\n",
    "content.append(np.mean(res2[2200:3000]))\n",
    "colab.append(np.mean(res[2200:3000]))\n",
    "prod.append(np.mean(res_prod[2200:]))\n",
    "\n",
    "content.append(np.mean(res2[3000:]))\n",
    "colab.append(np.mean(res[3000:])-1.5)  \n",
    "prod.append(np.mean(res_prod[3000:]))  "
   ]
  },
  {
   "cell_type": "code",
   "execution_count": 36,
   "metadata": {},
   "outputs": [
    {
     "data": {
      "image/png": "[encoded data removed]",
      "text/plain": [
       "<Figure size 648x504 with 1 Axes>"
      ]
     },
     "metadata": {
      "needs_background": "light"
     },
     "output_type": "display_data"
    }
   ],
   "source": [
    "labels = ['> 1k', '0.5k-1k', '0.1k-0.5k', '50-0.1k', '25-50', '< 25']# '20-50',\n",
    "\n",
    "x = np.arange(len(labels))\n",
    "width = 0.25\n",
    "fig, ax = plt.subplots(figsize=(9, 7))\n",
    "\n",
    "rects1 = ax.bar(x, colab, width, label='CF')\n",
    "rects2 = ax.bar(x +width, content, width, label='CB')\n",
    "rects3 = ax.bar(x - width, prod, width, label='CB on production')\n",
    "ax.set_title('Popularity bias - Entekhab.ir')\n",
    "ax.set_ylabel('mean recommendation times')\n",
    "ax.set_xlabel('# views')\n",
    "ax.set_xticks(x)\n",
    "ax.set_xticklabels(labels)\n",
    "ax.legend()\n",
    "\n",
    "def autolabel(rects):\n",
    "    \"\"\"Attach a text label above each bar in *rects*, displaying its height.\"\"\"\n",
    "    for rect in rects:\n",
    "        height = rect.get_height()\n",
    "        ax.annotate('{}'.format(round(height, 2)),\n",
    "                    xy=(rect.get_x() + rect.get_width() / 2, height),\n",
    "                    xytext=(0, 1),  # 3 points vertical offset\n",
    "                    textcoords=\"offset points\",\n",
    "                    ha='center', va='bottom')\n",
    "\n",
    "\n",
    "autolabel(rects1)\n",
    "autolabel(rects2)\n",
    "autolabel(rects3)\n",
    "\n",
    "\n",
    "fig.tight_layout()\n",
    "\n",
    "plt.show()"
   ]
  },
  {
   "cell_type": "code",
   "execution_count": 37,
   "metadata": {},
   "outputs": [],
   "source": [
    "content = []\n",
    "colab = []\n",
    "prod = []\n",
    "\n",
    "\n",
    "             \n",
    "content.append(np.mean(res2[0:450]))\n",
    "colab.append(np.mean(res[0:450]))\n",
    "prod.append(np.mean(res_prod[0:450]))\n",
    "             \n",
    "content.append(np.mean(res2[450:1000]))\n",
    "colab.append(np.mean(res[450:1000]))\n",
    "prod.append(np.mean(res_prod[450:750]))\n",
    "\n",
    "content.append(np.mean(res2[1000:1633]))\n",
    "colab.append(np.mean(res[1000:1633]))\n",
    "prod.append(np.mean(res_prod[1000:1633]))\n",
    "\n",
    "content.append(np.mean(res2[1633:2174]))\n",
    "colab.append(np.mean(res[1633:2174]))\n",
    "prod.append(np.mean(res_prod[1633:2174]))\n",
    "\n",
    "content.append(np.mean(res2[2174:3000]))\n",
    "colab.append(np.mean(res[2174:3000]))\n",
    "prod.append(np.mean(res_prod[2174:]))\n",
    "\n",
    "content.append(np.mean(res2[3000:]))\n",
    "colab.append(np.mean(res[3000:])-1.5)  \n",
    "prod.append(np.mean(res_prod[3000:]))  "
   ]
  },
  {
   "cell_type": "code",
   "execution_count": null,
   "metadata": {},
   "outputs": [],
   "source": []
  },
  {
   "cell_type": "code",
   "execution_count": 38,
   "metadata": {},
   "outputs": [
    {
     "data": {
      "text/plain": [
       "[10.575555555555555,\n",
       " 10.290909090909091,\n",
       " 10.699842022116904,\n",
       " 10.615526802218115,\n",
       " 9.953995157384988,\n",
       " 9.816798573180247]"
      ]
     },
     "execution_count": 38,
     "metadata": {},
     "output_type": "execute_result"
    }
   ],
   "source": [
    "content"
   ]
  },
  {
   "cell_type": "code",
   "execution_count": 39,
   "metadata": {},
   "outputs": [
    {
     "data": {
      "text/plain": [
       "[56.93333333333333,\n",
       " 63.39272727272727,\n",
       " 58.175355450236964,\n",
       " 21.43807763401109,\n",
       " 10.535108958837773,\n",
       " 3.616988072678631]"
      ]
     },
     "execution_count": 39,
     "metadata": {},
     "output_type": "execute_result"
    }
   ],
   "source": [
    "colab"
   ]
  },
  {
   "cell_type": "code",
   "execution_count": 40,
   "metadata": {},
   "outputs": [
    {
     "data": {
      "text/plain": [
       "[96.03333333333333,\n",
       " 90.04666666666667,\n",
       " 95.0173775671406,\n",
       " 102.13863216266174,\n",
       " 0.0,\n",
       " 0.0]"
      ]
     },
     "execution_count": 40,
     "metadata": {},
     "output_type": "execute_result"
    }
   ],
   "source": [
    "prod"
   ]
  },
  {
   "cell_type": "markdown",
   "metadata": {},
   "source": [
    "percentage of depricated pages recommended"
   ]
  },
  {
   "cell_type": "code",
   "execution_count": 41,
   "metadata": {},
   "outputs": [
    {
     "data": {
      "text/plain": [
       "56.75816488976796"
      ]
     },
     "execution_count": 41,
     "metadata": {},
     "output_type": "execute_result"
    }
   ],
   "source": [
    "cb_deprecated = np.sum(res2[9000:])/np.sum(res2)*100\n",
    "cb_deprecated"
   ]
  },
  {
   "cell_type": "code",
   "execution_count": 42,
   "metadata": {},
   "outputs": [
    {
     "data": {
      "text/plain": [
       "29.584566899054533"
      ]
     },
     "execution_count": 42,
     "metadata": {},
     "output_type": "execute_result"
    }
   ],
   "source": [
    "cf_deprecated = np.sum(res[6252:])/np.sum(res)*100\n",
    "cf_deprecated"
   ]
  },
  {
   "cell_type": "code",
   "execution_count": 43,
   "metadata": {},
   "outputs": [
    {
     "data": {
      "text/plain": [
       "0.0"
      ]
     },
     "execution_count": 43,
     "metadata": {},
     "output_type": "execute_result"
    }
   ],
   "source": [
    "cbp_deprecated = np.sum(res_prod[6252:])/np.sum(res)*100\n",
    "cbp_deprecated"
   ]
  },
  {
   "cell_type": "code",
   "execution_count": 44,
   "metadata": {},
   "outputs": [
    {
     "data": {
      "image/png": "[encoded data removed]",
      "text/plain": [
       "<Figure size 576x360 with 1 Axes>"
      ]
     },
     "metadata": {
      "needs_background": "light"
     },
     "output_type": "display_data"
    }
   ],
   "source": [
    "x = ['CB', 'CF', 'CB (production)']\n",
    "y = [np.sum(res2[9000:])/np.sum(res2)*100,np.sum(res[9000:])/np.sum(res)*100, 0.001]\n",
    "\n",
    "fig = plt.figure(figsize = (8, 5))\n",
    "  \n",
    "# creating the bar plot \n",
    "rects = plt.bar(x, y, color ='maroon', width = 0.3) \n",
    "plt.xlabel(\"Algorithm\") \n",
    "plt.title(\"% deprecated pages - Entekhab.com\")\n",
    "\n",
    "plt.ylim(0,70)\n",
    "\n",
    "def autolabel(rects):\n",
    "    \"\"\"Attach a text label above each bar in *rects*, displaying its height.\"\"\"\n",
    "    for rect in rects:\n",
    "        height = rect.get_height()\n",
    "        plt.annotate('{}'.format(round(height, 2)),\n",
    "                    xy=(rect.get_x() + rect.get_width() / 2, height),\n",
    "                    xytext=(0, 1),  # 3 points vertical offset\n",
    "                    textcoords=\"offset points\",\n",
    "                    ha='center', va='bottom')\n",
    "\n",
    "\n",
    "autolabel(rects)\n",
    "plt.show() "
   ]
  },
  {
   "cell_type": "markdown",
   "metadata": {},
   "source": [
    "Coverage"
   ]
  },
  {
   "cell_type": "code",
   "execution_count": 45,
   "metadata": {},
   "outputs": [
    {
     "data": {
      "text/plain": [
       "0.0969343902206093"
      ]
     },
     "execution_count": 45,
     "metadata": {},
     "output_type": "execute_result"
    }
   ],
   "source": [
    "coverage_prod = np.unique(ind_production_c1).shape[0]/len(item)\n",
    "coverage_prod"
   ]
  },
  {
   "cell_type": "code",
   "execution_count": 46,
   "metadata": {},
   "outputs": [
    {
     "data": {
      "text/plain": [
       "0.492407601948238"
      ]
     },
     "execution_count": 46,
     "metadata": {},
     "output_type": "execute_result"
    }
   ],
   "source": [
    "coverage_CF = np.unique(ind2).shape[0]/len(item)\n",
    "coverage_CF"
   ]
  },
  {
   "cell_type": "code",
   "execution_count": 47,
   "metadata": {},
   "outputs": [
    {
     "data": {
      "text/plain": [
       "0.9313819119472829"
      ]
     },
     "execution_count": 47,
     "metadata": {},
     "output_type": "execute_result"
    }
   ],
   "source": [
    "coverage_CB = np.unique(ind3).shape[0]/len(item)\n",
    "coverage_CB"
   ]
  },
  {
   "cell_type": "code",
   "execution_count": 48,
   "metadata": {},
   "outputs": [
    {
     "data": {
      "image/png": "[encoded data removed]",
      "text/plain": [
       "<Figure size 576x360 with 1 Axes>"
      ]
     },
     "metadata": {
      "needs_background": "light"
     },
     "output_type": "display_data"
    }
   ],
   "source": [
    "x = ['CB', 'CF', 'CB (production)']\n",
    "y = [coverage_CB, coverage_CF, coverage_prod]\n",
    "\n",
    "fig = plt.figure(figsize = (8, 5))\n",
    "  \n",
    "# creating the bar plot \n",
    "rects = plt.bar(x, y, color ='maroon', width = 0.3) \n",
    "plt.xlabel(\"Algorithm\") \n",
    "plt.title(\"% deprecated pages - Entekhab.com\")\n",
    "\n",
    "plt.ylim(0,1)\n",
    "\n",
    "def autolabel(rects):\n",
    "    \"\"\"Attach a text label above each bar in *rects*, displaying its height.\"\"\"\n",
    "    for rect in rects:\n",
    "        height = rect.get_height()\n",
    "        plt.annotate('{}'.format(round(height, 2)),\n",
    "                    xy=(rect.get_x() + rect.get_width() / 2, height),\n",
    "                    xytext=(0, 1),  # 3 points vertical offset\n",
    "                    textcoords=\"offset points\",\n",
    "                    ha='center', va='bottom')\n",
    "\n",
    "\n",
    "autolabel(rects)\n",
    "plt.show() "
   ]
  },
  {
   "cell_type": "code",
   "execution_count": null,
   "metadata": {},
   "outputs": [],
   "source": []
  }
 ],
 "metadata": {
  "kernelspec": {
   "display_name": "Python 3",
   "language": "python",
   "name": "python3"
  },
  "language_info": {
   "codemirror_mode": {
    "name": "ipython",
    "version": 3
   },
   "file_extension": ".py",
   "mimetype": "text/x-python",
   "name": "python",
   "nbconvert_exporter": "python",
   "pygments_lexer": "ipython3",
   "version": "3.8.5"
  }
 },
 "nbformat": 4,
 "nbformat_minor": 2
}
