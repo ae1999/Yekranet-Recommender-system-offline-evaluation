{
 "cells": [
  {
   "cell_type": "code",
   "execution_count": 28,
   "id": "muslim-light",
   "metadata": {},
   "outputs": [],
   "source": [
    "WEB_SITE_matrix = './chetor.com/view_matrix/lil_matrix.npz'\n",
    "WEB_SITE_itemindexer = './chetor.com/view_matrix/item_indexer.indexer'\n",
    "WEB_SITE_userindexer = './chetor.com/view_matrix/user_indexer.indexer'\n",
    "SAVING1 = './chetor.com/alisResult/ALS/ali_item_indexer_factorized.indexer'\n",
    "SAVING2 = './chetor.com/alisResult/ALS/ali_user_indexer_factorized.indexer'\n",
    "SAVING3 = './chetor.com/alisResult/ALS/ali_items_vectors.npy'\n",
    "SAVING4 = './chetor.com/alisResult/ALS/ali_users_vectors.npy'\n",
    "WEB_SITE_NAME = 'Chetor.com'\n",
    "RESULTS = '/home/yektanet/Pictures/ALSOpt/'\n",
    "TEST_SET_SIZE = 0.09 # max = 1\n",
    "TEST_SET_SIZE1 = 0.02 # max = 1"
   ]
  },
  {
   "cell_type": "code",
   "execution_count": 2,
   "id": "informational-petroleum",
   "metadata": {},
   "outputs": [],
   "source": [
    "import pandas as pd\n",
    "import numpy as np\n",
    "import matplotlib.pyplot as plt\n",
    "from matplotlib import colors\n",
    "from matplotlib.ticker import PercentFormatter\n",
    "from tqdm import tqdm\n",
    "\n",
    "import timeit\n",
    "import time\n",
    "import math\n",
    "from sklearn.model_selection import train_test_split\n",
    "# ./indexer\n",
    "from indexer import AppendIndexer\n",
    "import ALS\n",
    "\n",
    "# Annoy\n",
    "from annoy import AnnoyIndex\n",
    "\n",
    "#SKLearn \n",
    "from sklearn.neighbors import NearestNeighbors\n",
    "from sklearn.metrics import average_precision_score\n",
    "from sklearn.metrics import pairwise_distances\n",
    "\n",
    "# scipy\n",
    "from scipy.spatial import distance\n",
    "from scipy.sparse import lil_matrix\n",
    "import scipy\n",
    "import scipy.sparse\n",
    "import itertools\n",
    "import random"
   ]
  },
  {
   "cell_type": "code",
   "execution_count": 3,
   "id": "secondary-duration",
   "metadata": {},
   "outputs": [],
   "source": [
    "class ViewMatrix:\n",
    "    def __init__(self, path):\n",
    "        self.path = path\n",
    "        self.original = True\n",
    "        self.item_indexer = AppendIndexer.load(WEB_SITE_itemindexer)\n",
    "        self.user_indexer = AppendIndexer.load(WEB_SITE_userindexer)\n",
    "        \n",
    "    def load_matrix(path):\n",
    "        \n",
    "        matrix = ViewMatrix(path)\n",
    "\n",
    "        try:\n",
    "            matrix.view_matrix = ViewMatrix \\\n",
    "                .load_sparse_lil(path)\n",
    "        except:\n",
    "            print('Error: loading', path)\n",
    "\n",
    "        return matrix\n",
    "\n",
    "    def load_sparse_lil(filename):\n",
    "        loader = np.load(filename, allow_pickle=True)\n",
    "        result = lil_matrix(tuple(loader[\"shape\"]), dtype=str(loader[\"dtype\"]))\n",
    "        result.data = loader[\"data\"]\n",
    "        result.rows = loader[\"rows\"]\n",
    "        return result\n",
    "    \n",
    "    def make_dense(self, user_min_view, item_min_view):\n",
    "        self.original = False\n",
    "        while True:\n",
    "            removed_rows_cnt = self.trim_users_with_few_views(user_min_view)\n",
    "            removed_columns_cnt = self.trim_columns_with_few_views(item_min_view)\n",
    "            if not removed_columns_cnt and not removed_rows_cnt:\n",
    "                break\n",
    "\n",
    "    def trim_users_with_few_views(self, user_min_view):\n",
    "        removing_row_indices = list(np.where(self.view_matrix.getnnz(1) < user_min_view)[0])\n",
    "        print('Number of users which should be deleted:', len(removing_row_indices))\n",
    "        self.trim_user_indices(to_remove_indices=removing_row_indices)\n",
    "        return len(removing_row_indices)\n",
    "\n",
    "    def trim_columns_with_few_views(self, column_min_view):\n",
    "        removing_column_indices = list(np.where(self.view_matrix.getnnz(0) < column_min_view)[0])\n",
    "        print('Number products which should be deleted:', len(removing_column_indices))\n",
    "        self.trim_column_indices(to_remove_indices=removing_column_indices)\n",
    "        return len(removing_column_indices)\n",
    "    \n",
    "    def trim_user_indices(self, to_remove_indices):\n",
    "        self.user_indexer.remove_indexes(to_remove_indices)\n",
    "        self.view_matrix = ViewMatrix.delete_row_lil(self.view_matrix, to_remove_indices)\n",
    "    \n",
    "    def trim_column_indices(self, to_remove_indices):\n",
    "        self.item_indexer.remove_indexes(to_remove_indices)\n",
    "        self.view_matrix = ViewMatrix.delete_column_lil(self.view_matrix, to_remove_indices)\n",
    "    \n",
    "    def delete_column_lil(mat: lil_matrix, *i) -> lil_matrix:\n",
    "        mat = mat.transpose()\n",
    "        mat = ViewMatrix.delete_row_lil(mat, *i)\n",
    "        return mat.transpose()\n",
    "    \n",
    "    def delete_row_lil(mat: lil_matrix, *i) -> lil_matrix:\n",
    "        if not isinstance(mat, lil_matrix):\n",
    "            raise ValueError(\"works only for LIL format -- use .tolil() first\")\n",
    "        mat = mat.copy()\n",
    "        mat.rows = np.delete(mat.rows, i)\n",
    "        mat.data = np.delete(mat.data, i)\n",
    "        mat._shape = (mat.rows.shape[0], mat._shape[1])\n",
    "        return mat\n",
    "    def to_csr(self):\n",
    "        train_data = self.view_matrix.astype(np.float64)\n",
    "        train_data = train_data.tocoo()\n",
    "        train_data.data = np.log10(train_data.data) + 1\n",
    "        train_data = train_data.tocsr()\n",
    "        return train_data"
   ]
  },
  {
   "cell_type": "code",
   "execution_count": 4,
   "id": "incorporated-closer",
   "metadata": {},
   "outputs": [],
   "source": [
    "def ALSReady(path: str, l = 2):\n",
    "    now = time.time()\n",
    "    matrix = ViewMatrix.load_matrix(path)\n",
    "    print('View matrix loaded in', time.time() - now, 'seconds.')\n",
    "\n",
    "    now = time.time()\n",
    "    sparce_matrix = matrix.to_csr()\n",
    "    matrix.make_dense(user_min_view = l, \n",
    "                      item_min_view = l)\n",
    "    implicit_matrix = matrix.to_csr()\n",
    "    print('matrix has been made dense in', time.time() - now, 'seconds.')\n",
    "    return matrix, sparce_matrix, implicit_matrix\n",
    "\n",
    "def CFTrain(matrix, implicit_matrix, _alpha = 15, _facs = 20, _itr = 15, save = False):\n",
    "    \n",
    "    now = time.time()\n",
    "    als_model = ALS.Als(num_factors = _facs,\n",
    "                        iterations = _itr,\n",
    "                        num_threads = 10,\n",
    "                        alpha = _alpha)\n",
    "\n",
    "    \n",
    "    als_model.fit(implicit_matrix)\n",
    "    alsTime = time.time() - now\n",
    "    print('ALS model is fitted in', alsTime, 'seconds.')\n",
    "    if save:\n",
    "        print('Saving Data ...')\n",
    "        matrix.item_indexer.dump(SAVING1)\n",
    "        matrix.user_indexer.dump(SAVING2)\n",
    "        np.save(SAVING3, als_model.item_vectors)\n",
    "        np.save(SAVING4, als_model.user_vectors)\n",
    "\n",
    "    return als_model.item_vectors, als_model.user_vectors, alsTime"
   ]
  },
  {
   "cell_type": "code",
   "execution_count": 5,
   "id": "beginning-elizabeth",
   "metadata": {},
   "outputs": [],
   "source": [
    "def get_annoy_results(pages_vector, number_of_trees = 50, number_of_neighbours = 11):\n",
    "    \n",
    "    start = time.time()\n",
    "    annoy_model = annoy_model = AnnoyIndex(pages_vector.shape[1], 'angular')\n",
    "    \n",
    "    for index, vector in enumerate(pages_vector):\n",
    "        annoy_model.add_item(index, vector)\n",
    "    \n",
    "    annoy_model.build(number_of_trees)\n",
    "    \n",
    "    annoy_indices = []\n",
    "    annoy_distances = []\n",
    "\n",
    "    for i in pages_vector:\n",
    "        indices, distances = annoy_model. \\\n",
    "            get_nns_by_vector(i, number_of_neighbours, include_distances=True)\n",
    "        annoy_indices.append(indices)\n",
    "        annoy_distances.append(distances)\n",
    "    \n",
    "    duration = time.time() - start\n",
    "    print('annoy time:', duration)\n",
    "    return annoy_indices, annoy_distances, duration"
   ]
  },
  {
   "cell_type": "markdown",
   "id": "inclusive-aberdeen",
   "metadata": {},
   "source": [
    "implicit matrix ro migire va ye bakhshisho baramun test o train mikone ke ye bakhshi az cell ha sefr shodan:"
   ]
  },
  {
   "cell_type": "code",
   "execution_count": 6,
   "id": "excess-hamburg",
   "metadata": {},
   "outputs": [],
   "source": [
    "def generate_test_set_precision_recall(implicit_matrix, _test_size = 0.05, test_cells = 0.2):\n",
    "    train, test = train_test_split(implicit_matrix, shuffle=False, test_size = _test_size)\n",
    "    print('test_shape', test.shape, 'train_shape (which we cant process bc of RAM)', train.shape)\n",
    "    rows,cols = test.nonzero()\n",
    "    delete_index = [(rows[i], cols[i]) for i in random.sample(range(1, len(rows)), int(len(rows)*test_cells))]\n",
    "    print(\"total cells\", len(rows), \"number of deleted cells\", len(delete_index))\n",
    "    \n",
    "    x_train = scipy.sparse.csr_matrix(test.shape)\n",
    "    for i, j in tqdm(zip(rows, cols)):\n",
    "        if (i, j) in delete_index:\n",
    "            continue\n",
    "        x_train[i, j] = test[i, j]\n",
    "    return x_train, test, delete_index\n",
    "\n",
    "def prepare_data_for_AP(implicit_matrix, _test_size = 0.05):\n",
    "    train, test = train_test_split(implicit_matrix, shuffle=False, test_size = _test_size)\n",
    "    print('test_shape', test.shape, 'train_shape (which we cant process bc of RAM)', train.shape)\n",
    "    rows, cols = test.nonzero()\n",
    "    unique, counts = np.unique(rows, return_counts=True)\n",
    "    commulative_count = [0]\n",
    "    for i in counts:\n",
    "        commulative_count.append(commulative_count[-1] + i)\n",
    "    delete_row = []\n",
    "    for i in range(1, len(commulative_count)):\n",
    "        delete_row.append(np.random.randint(commulative_count[i-1], commulative_count[i]))\n",
    "    delete_index = [(rows[i], cols[i]) for i in delete_row]\n",
    "    # print(delete_row[:10], delete_index[:10], rows[:10], cols[:10], random.randrange(commulative_count[0], 10, 2) )\n",
    "    print(\"total cells\", len(rows), \"number of deleted cells\", len(delete_index))\n",
    "    \n",
    "    x_train = scipy.sparse.csr_matrix(test.shape)\n",
    "    for i, j in zip(rows, cols):\n",
    "        if (i, j) in delete_index:\n",
    "            continue\n",
    "        x_train[i, j] = test[i, j]\n",
    "    return x_train, test, delete_index\n",
    "\n",
    "def prepare_data_for_MAE(implicit_matrix, set_size = 0.05):\n",
    "    train, test = train_test_split(implicit_matrix, shuffle=False, test_size = set_size)\n",
    "    return test"
   ]
  },
  {
   "cell_type": "code",
   "execution_count": 7,
   "id": "enormous-shelter",
   "metadata": {},
   "outputs": [],
   "source": [
    "def hit_rate_at_k(deleted, x_train, test_approx, k = 10):\n",
    "    found = []\n",
    "    for i in tqdm(range(len(test_approx))):\n",
    "        ta = list(n_argmax(test_approx[i], 30))\n",
    "        nonz = np.nonzero(x_train[i])[0]\n",
    "        same_old = []\n",
    "        for l in range(len(ta)):\n",
    "            if ta[l] in nonz:\n",
    "                same_old.append(l)\n",
    "\n",
    "        for l in same_old[::-1]:\n",
    "            ta.pop(l)\n",
    "        ta = ta[:k]        \n",
    "        for j in ta:\n",
    "            found.append((i, j))\n",
    "    same = 0\n",
    "    a = np.array([hash(i) for i in found])\n",
    "    b = np.array([hash(i) for i in deleted])\n",
    "    same = np.sum(np.isin(b,a))\n",
    "    print(same, len(deleted), same/len(deleted))\n",
    "    return same/len(deleted)\n",
    "\n",
    "def visited_at_k(x_train, test_approx, k = 10):\n",
    "    same_old = []\n",
    "    for i in tqdm(range(len(test_approx))):\n",
    "        ta = list(n_argmax(test_approx[i], k))\n",
    "        nonz = np.nonzero(x_train[i])[0]\n",
    "        for l in range(len(ta)):\n",
    "            if ta[l] in nonz:\n",
    "                same_old.append(l)\n",
    "    rows,cols = x_train.nonzero()\n",
    "    return len(same_old)/len(rows)\n",
    "\n",
    "def n_argmax(a, n):\n",
    "    ranked = np.argsort(a)\n",
    "    largest_indices = ranked[::-1][:n]\n",
    "    return largest_indices"
   ]
  },
  {
   "cell_type": "code",
   "execution_count": 25,
   "id": "subsequent-practitioner",
   "metadata": {},
   "outputs": [],
   "source": [
    "#random search\n",
    "itrs1 = [15, 15, 15, 15, 15, 15]\n",
    "alphas1 = [0.1, 0.1, 0.1, 0.1, 0.1, 0.1]\n",
    "factors1 = [5, 10, 20, 40, 60, 100]\n",
    "\n",
    "itrs2 = [15, 15, 15, 15, 15, 15]\n",
    "alphas2 = [10, 10, 10, 10, 10, 10]\n",
    "factors2 = [5, 10, 20, 40, 60, 100]\n",
    "\n",
    "itrs3 = [15, 15, 15, 15, 15, 15]\n",
    "alphas3 = [100, 100, 100, 100, 100, 100]\n",
    "factors3 = [5, 10, 20, 40, 60, 100]\n",
    "\n",
    "itrs4 = [15, 15, 15, 15, 15, 15]\n",
    "alphas4 = [1000, 1000, 1000, 1000, 1000, 1000]\n",
    "factors4 = [5, 10, 20, 40, 60, 100]\n",
    "\n",
    "itrs = [15, 15, 15, 15, 15, 15, 15, 15, 15, 15, 15, 15, 15, 15, 15, 15, 15, 15, 15, 15, 15, 15, 15, 15]\n",
    "alphas = [0.1, 0.1, 0.1, 0.1, 0.1, 0.1, 10, 10, 10, 10, 10, 10, 100, 100, 100, 100, 100, 100, 1000, 1000, 1000, 1000, 1000, 1000]\n",
    "factors = [5, 10, 20, 40, 60, 100, 5, 10, 20, 40, 60, 100, 5, 10, 20, 40, 60, 100, 5, 10, 20, 40, 60, 100]"
   ]
  },
  {
   "cell_type": "markdown",
   "id": "aggregate-benchmark",
   "metadata": {},
   "source": [
    "### metrics"
   ]
  },
  {
   "cell_type": "markdown",
   "id": "lesbian-edwards",
   "metadata": {},
   "source": [
    "accuracy metrics:\n",
    "- recall@k, hit_rate@k\n",
    "- visited_rate@k\n",
    "- MAE on train set per iteration"
   ]
  },
  {
   "cell_type": "markdown",
   "id": "public-occasions",
   "metadata": {},
   "source": [
    "time metrics:\n",
    "- training time\n",
    "- query time"
   ]
  },
  {
   "cell_type": "code",
   "execution_count": 9,
   "id": "mighty-chemistry",
   "metadata": {},
   "outputs": [],
   "source": [
    "def calc_visited_hitRate(alphas, itrs, factors, _l = 2, data_set_size = 0.072, log = False):\n",
    "    visited3s = []\n",
    "    hitRate3s = []\n",
    "    visited6s = []\n",
    "    hitRate6s = []\n",
    "    AP3s = []\n",
    "    AP6s = []\n",
    "    trainingTime = []\n",
    "    qTime = []\n",
    "    matrix, sparce_matrix, implicit_matrix = ALSReady(WEB_SITE_matrix, l=_l)\n",
    "    x_train_AP, test_AP, delete_index_AP = prepare_data_for_AP(implicit_matrix, _test_size = data_set_size)\n",
    "    x_train, test, deleted = generate_test_set_precision_recall(implicit_matrix, _test_size = data_set_size)\n",
    "    for a,i,f in zip(alphas, itrs, factors):\n",
    "        if log: print('------alphas, itrs, factors------', a,i,f)\n",
    "        item_vectors, user_vectors, alsTime = \\\n",
    "        CFTrain(None, x_train, _alpha = a, _facs = f, _itr = i)\n",
    "        a1, a2, duration = get_annoy_results(item_vectors)\n",
    "        qTime.append(duration)\n",
    "        trainingTime.append(alsTime)\n",
    "        if log: print('training and querry time:', trainingTime[-1], qTime[-1])\n",
    "        test_approx = np.matmul(user_vectors, item_vectors.T)\n",
    "        visited3s.append(visited_at_k(x_train.toarray(), test_approx, k = 3))\n",
    "        if log: print('visited3s', visited3s[-1])\n",
    "        visited6s.append(visited_at_k(x_train.toarray(), test_approx, k = 6))\n",
    "        if log: print('visited6s', visited6s[-1])\n",
    "        hitRate3s.append(hit_rate_at_k(deleted, x_train.toarray(), test_approx, k = 3))\n",
    "        if log: print('hitRate3s', hitRate3s[-1])\n",
    "        hitRate6s.append(hit_rate_at_k(deleted, x_train.toarray(), test_approx, k = 6))\n",
    "        if log: print('hitRate6s', hitRate6s[-1])\n",
    "        item_vectors_AP, user_vectors_AP, alsTime_AP = \\\n",
    "        CFTrain(None, x_train_AP, _alpha = a, _facs = f, _itr = i)\n",
    "        test_approx_AP = np.matmul(user_vectors_AP, item_vectors_AP.T)\n",
    "        AP3s.append(hit_rate_at_k(delete_index_AP, x_train_AP, test_approx_AP, k = 3))\n",
    "        if log: print('AP3s', AP3s[-1])\n",
    "        AP6s.append(hit_rate_at_k(delete_index_AP, x_train_AP, test_approx_AP, k = 6))\n",
    "        if log: print('AP6s', AP6s[-1])\n",
    "    return visited3s, visited6s, hitRate3s, hitRate6s, AP3s, AP6s, trainingTime, qTime"
   ]
  },
  {
   "cell_type": "code",
   "execution_count": 10,
   "id": "beneficial-anaheim",
   "metadata": {},
   "outputs": [],
   "source": [
    "def calc_mse__(alphas, itrs, factors, _l = 3, data_set_size = 0.072, log = False):\n",
    "    mse = []\n",
    "    matrix, sparce_matrix, implicit_matrix = ALSReady(WEB_SITE_matrix, l=_l)\n",
    "    train, test = train_test_split(implicit_matrix, shuffle=False, train_size = 0.06)\n",
    "    for a,i,f in zip(alphas, itrs, factors):\n",
    "        if log: print('------alphas, itrs, factors:', a,i,f, '------')\n",
    "        item_vectors, user_vectors, alsTime = \\\n",
    "        CFTrain(None, train, _alpha = a, _facs = f, _itr = i)\n",
    "        test_approx = np.matmul(user_vectors, item_vectors.T)\n",
    "        mse.append(MSE(test_approx, train))\n",
    "        print('MSE', mse[-1])\n",
    "    return mse"
   ]
  },
  {
   "cell_type": "code",
   "execution_count": 11,
   "id": "coral-latino",
   "metadata": {},
   "outputs": [],
   "source": [
    "def MAE(approx, train):\n",
    "    absolute_error = np.absolute(train - approximated_matrix)\n",
    "    return np.mean(absolute_error)\n",
    "def MSE(approx, train):\n",
    "    absolute_error = np.absolute(train - approx)\n",
    "    absolute_error = np.square(absolute_error)\n",
    "    return np.mean(absolute_error)\n",
    "def MAE_calc(train, itr = 10, facs = 20):\n",
    "    item_vectors, user_vectors, alsTime = \\\n",
    "    CFTrain(None, train, _alpha = 10, _facs = 20, _itr = itr)\n",
    "    approximated_matrix = np.matmul(user_vectors, item_vectors.T)\n",
    "    absolute_error = np.absolute(train - approximated_matrix)\n",
    "    return np.mean(absolute_error)\n",
    "def MSE_calc(train, itr = 10, facs = 20):\n",
    "    item_vectors, user_vectors, alsTime = \\\n",
    "    CFTrain(None, train, _alpha = 100, _facs = 25, _itr = itr)\n",
    "    approximated_matrix = np.matmul(user_vectors, item_vectors.T)\n",
    "    return MSE(approximated_matrix, train)"
   ]
  },
  {
   "cell_type": "code",
   "execution_count": 12,
   "id": "registered-force",
   "metadata": {},
   "outputs": [
    {
     "name": "stdout",
     "output_type": "stream",
     "text": [
      "View matrix loaded in 6.4079437255859375 seconds.\n",
      "Number of users which should be deleted: 1863687\n",
      "Number products which should be deleted: 1308\n",
      "Number of users which should be deleted: 265\n",
      "Number products which should be deleted: 4\n",
      "Number of users which should be deleted: 1\n",
      "Number products which should be deleted: 1\n",
      "Number of users which should be deleted: 0\n",
      "Number products which should be deleted: 0\n",
      "matrix has been made dense in 16.56778573989868 seconds.\n",
      "ALS model is fitted in 0.01702737808227539 seconds.\n",
      "24.92693294035219\n",
      "ALS model is fitted in 0.1390831470489502 seconds.\n",
      "0.0073019077245809255\n",
      "ALS model is fitted in 0.2645854949951172 seconds.\n",
      "0.007268020173382832\n",
      "ALS model is fitted in 0.43042850494384766 seconds.\n",
      "0.0071255467318943\n",
      "ALS model is fitted in 0.5818095207214355 seconds.\n",
      "0.007033959498724515\n",
      "ALS model is fitted in 0.7199933528900146 seconds.\n",
      "0.0069771153629217325\n",
      "ALS model is fitted in 0.8959074020385742 seconds.\n",
      "0.006921257532010852\n",
      "ALS model is fitted in 1.2727890014648438 seconds.\n",
      "0.006882674634064949\n",
      "ALS model is fitted in 1.4741413593292236 seconds.\n",
      "0.0068586594063880044\n",
      "ALS model is fitted in 1.3988738059997559 seconds.\n",
      "0.0068328086675558805\n",
      "ALS model is fitted in 1.5112719535827637 seconds.\n",
      "0.00682136299415218\n",
      "ALS model is fitted in 1.7871732711791992 seconds.\n",
      "0.006799790953375461\n",
      "ALS model is fitted in 1.7433891296386719 seconds.\n",
      "0.006788768691237658\n",
      "ALS model is fitted in 1.9495964050292969 seconds.\n",
      "0.0067744836004303265\n",
      "ALS model is fitted in 2.363006353378296 seconds.\n",
      "0.0067668460278593355\n",
      "ALS model is fitted in 2.2218728065490723 seconds.\n",
      "0.006762367413210367\n",
      "ALS model is fitted in 2.4623851776123047 seconds.\n",
      "0.00675893599789614\n",
      "ALS model is fitted in 2.4756252765655518 seconds.\n",
      "0.006749149601457769\n",
      "ALS model is fitted in 2.809566020965576 seconds.\n",
      "0.006743526457200056\n",
      "ALS model is fitted in 2.8720781803131104 seconds.\n",
      "0.006739140097092439\n"
     ]
    }
   ],
   "source": [
    "matrix, sparce_matrix, implicit_matrix = ALSReady(WEB_SITE_matrix, l=2)\n",
    "MSEs = []\n",
    "train, test = train_test_split(implicit_matrix, shuffle=False, train_size = 0.08)\n",
    "for i in [i for i in range(20)]:\n",
    "    MSEs.append(MSE_calc(train, itr = i))\n",
    "    print(MSEs[-1])"
   ]
  },
  {
   "cell_type": "code",
   "execution_count": 13,
   "id": "danish-duration",
   "metadata": {},
   "outputs": [
    {
     "data": {
      "image/png": "[encoded data removed]",
      "text/plain": [
       "<Figure size 432x288 with 1 Axes>"
      ]
     },
     "metadata": {
      "needs_background": "light"
     },
     "output_type": "display_data"
    }
   ],
   "source": [
    "X = [i for i in range(20)]\n",
    "plt.plot(X, MSEs)\n",
    "plt.title(\"MSE per iterations \" + WEB_SITE_NAME)\n",
    "plt.xticks(np.arange(0, len(X)+1, 2))\n",
    "plt.savefig(RESULTS + 'MSE_per_itrs1_' + WEB_SITE_NAME + '.png', dpi=400)"
   ]
  },
  {
   "cell_type": "code",
   "execution_count": 14,
   "id": "finnish-trade",
   "metadata": {},
   "outputs": [
    {
     "data": {
      "image/png": "[encoded data removed]",
      "text/plain": [
       "<Figure size 432x288 with 1 Axes>"
      ]
     },
     "metadata": {
      "needs_background": "light"
     },
     "output_type": "display_data"
    }
   ],
   "source": [
    "X = [i for i in range(1, 20)]\n",
    "plt.plot(X, MSEs[1:])\n",
    "plt.title(\"MSE per iterations \" + WEB_SITE_NAME)\n",
    "plt.xticks(np.arange(1, len(X)+1, 2))\n",
    "plt.savefig(RESULTS + 'MSE_per_itrs2_' + WEB_SITE_NAME + '.png', dpi=400)"
   ]
  },
  {
   "cell_type": "markdown",
   "id": "quarterly-factor",
   "metadata": {},
   "source": [
    "## Run on all"
   ]
  },
  {
   "cell_type": "code",
   "execution_count": 15,
   "id": "authentic-frederick",
   "metadata": {},
   "outputs": [],
   "source": [
    "MSEs = []\n",
    "visited3s = []\n",
    "visited6s = []\n",
    "hitRate3s = []\n",
    "hitRate6s = []\n",
    "AP3s = []\n",
    "AP6s = []\n",
    "trainingTime = []\n",
    "qTime = []"
   ]
  },
  {
   "cell_type": "code",
   "execution_count": 16,
   "id": "light-victoria",
   "metadata": {
    "scrolled": true
   },
   "outputs": [
    {
     "name": "stdout",
     "output_type": "stream",
     "text": [
      "View matrix loaded in 7.1693174839019775 seconds.\n",
      "Number of users which should be deleted: 1863687\n",
      "Number products which should be deleted: 1308\n",
      "Number of users which should be deleted: 265\n",
      "Number products which should be deleted: 4\n",
      "Number of users which should be deleted: 1\n",
      "Number products which should be deleted: 1\n",
      "Number of users which should be deleted: 0\n",
      "Number products which should be deleted: 0\n",
      "matrix has been made dense in 16.69174575805664 seconds.\n",
      "test_shape (20988, 6877) train_shape (which we cant process bc of RAM) (212209, 6877)\n",
      "total cells 50559 number of deleted cells 20988\n"
     ]
    },
    {
     "name": "stderr",
     "output_type": "stream",
     "text": [
      "/home/yektanet/.local/lib/python3.8/site-packages/scipy/sparse/_index.py:82: SparseEfficiencyWarning: Changing the sparsity structure of a csr_matrix is expensive. lil_matrix is more efficient.\n",
      "  self._set_intXint(row, col, x.flat[0])\n",
      "94it [00:00, 937.87it/s]"
     ]
    },
    {
     "name": "stdout",
     "output_type": "stream",
     "text": [
      "test_shape (20988, 6877) train_shape (which we cant process bc of RAM) (212209, 6877)\n",
      "total cells 50559 number of deleted cells 10111\n"
     ]
    },
    {
     "name": "stderr",
     "output_type": "stream",
     "text": [
      "50559it [01:03, 801.93it/s] \n"
     ]
    },
    {
     "name": "stdout",
     "output_type": "stream",
     "text": [
      "------alphas, itrs, factors------ 0.1 15 5\n",
      "ALS model is fitted in 0.5658423900604248 seconds.\n",
      "annoy time: 1.3646256923675537\n",
      "training and querry time: 0.5658423900604248 1.3646256923675537\n"
     ]
    },
    {
     "name": "stderr",
     "output_type": "stream",
     "text": [
      "100%|██████████| 20988/20988 [00:07<00:00, 2645.89it/s]\n",
      "  1%|▏         | 266/20988 [00:00<00:07, 2657.30it/s]"
     ]
    },
    {
     "name": "stdout",
     "output_type": "stream",
     "text": [
      "visited3s 0.0942939082278481\n"
     ]
    },
    {
     "name": "stderr",
     "output_type": "stream",
     "text": [
      "100%|██████████| 20988/20988 [00:08<00:00, 2614.32it/s]\n",
      "  1%|          | 222/20988 [00:00<00:09, 2211.74it/s]"
     ]
    },
    {
     "name": "stdout",
     "output_type": "stream",
     "text": [
      "visited6s 0.1216376582278481\n"
     ]
    },
    {
     "name": "stderr",
     "output_type": "stream",
     "text": [
      "100%|██████████| 20988/20988 [00:10<00:00, 2095.25it/s]\n",
      "  1%|          | 220/20988 [00:00<00:09, 2189.23it/s]"
     ]
    },
    {
     "name": "stdout",
     "output_type": "stream",
     "text": [
      "677 10111 0.06695677974483236\n",
      "hitRate3s 0.06695677974483236\n"
     ]
    },
    {
     "name": "stderr",
     "output_type": "stream",
     "text": [
      "100%|██████████| 20988/20988 [00:10<00:00, 2077.73it/s]\n"
     ]
    },
    {
     "name": "stdout",
     "output_type": "stream",
     "text": [
      "851 10111 0.0841657600632974\n",
      "hitRate6s 0.0841657600632974\n",
      "ALS model is fitted in 0.651587724685669 seconds.\n"
     ]
    },
    {
     "name": "stderr",
     "output_type": "stream",
     "text": [
      "100%|██████████| 20988/20988 [00:13<00:00, 1609.57it/s]\n",
      "  1%|          | 158/20988 [00:00<00:13, 1578.58it/s]"
     ]
    },
    {
     "name": "stdout",
     "output_type": "stream",
     "text": [
      "1536 20988 0.07318467695826186\n",
      "AP3s 0.07318467695826186\n"
     ]
    },
    {
     "name": "stderr",
     "output_type": "stream",
     "text": [
      "100%|██████████| 20988/20988 [00:13<00:00, 1585.79it/s]\n"
     ]
    },
    {
     "name": "stdout",
     "output_type": "stream",
     "text": [
      "1983 20988 0.09448256146369353\n",
      "AP6s 0.09448256146369353\n",
      "------alphas, itrs, factors------ 0.1 15 10\n",
      "ALS model is fitted in 0.9211084842681885 seconds.\n",
      "annoy time: 1.1187942028045654\n",
      "training and querry time: 0.9211084842681885 1.1187942028045654\n"
     ]
    },
    {
     "name": "stderr",
     "output_type": "stream",
     "text": [
      "100%|██████████| 20988/20988 [00:08<00:00, 2499.29it/s]\n",
      "  1%|          | 254/20988 [00:00<00:08, 2534.26it/s]"
     ]
    },
    {
     "name": "stdout",
     "output_type": "stream",
     "text": [
      "visited3s 0.12386273734177215\n"
     ]
    },
    {
     "name": "stderr",
     "output_type": "stream",
     "text": [
      "100%|██████████| 20988/20988 [00:08<00:00, 2505.55it/s]\n",
      "  1%|          | 224/20988 [00:00<00:09, 2234.48it/s]"
     ]
    },
    {
     "name": "stdout",
     "output_type": "stream",
     "text": [
      "visited6s 0.16346914556962025\n"
     ]
    },
    {
     "name": "stderr",
     "output_type": "stream",
     "text": [
      "100%|██████████| 20988/20988 [00:10<00:00, 2056.32it/s]\n",
      "  0%|          | 0/20988 [00:00<?, ?it/s]"
     ]
    },
    {
     "name": "stdout",
     "output_type": "stream",
     "text": [
      "727 10111 0.0719018890317476\n",
      "hitRate3s 0.0719018890317476\n"
     ]
    },
    {
     "name": "stderr",
     "output_type": "stream",
     "text": [
      "100%|██████████| 20988/20988 [00:09<00:00, 2129.82it/s]\n"
     ]
    },
    {
     "name": "stdout",
     "output_type": "stream",
     "text": [
      "959 10111 0.09484719612303431\n",
      "hitRate6s 0.09484719612303431\n",
      "ALS model is fitted in 0.8634750843048096 seconds.\n"
     ]
    },
    {
     "name": "stderr",
     "output_type": "stream",
     "text": [
      "100%|██████████| 20988/20988 [00:12<00:00, 1661.59it/s]\n",
      "  1%|          | 175/20988 [00:00<00:11, 1745.01it/s]"
     ]
    },
    {
     "name": "stdout",
     "output_type": "stream",
     "text": [
      "1687 20988 0.08037926434152849\n",
      "AP3s 0.08037926434152849\n"
     ]
    },
    {
     "name": "stderr",
     "output_type": "stream",
     "text": [
      "100%|██████████| 20988/20988 [00:12<00:00, 1744.31it/s]\n"
     ]
    },
    {
     "name": "stdout",
     "output_type": "stream",
     "text": [
      "2341 20988 0.11153992757766343\n",
      "AP6s 0.11153992757766343\n",
      "------alphas, itrs, factors------ 0.1 15 20\n",
      "ALS model is fitted in 1.3172171115875244 seconds.\n",
      "annoy time: 0.924126386642456\n",
      "training and querry time: 1.3172171115875244 0.924126386642456\n"
     ]
    },
    {
     "name": "stderr",
     "output_type": "stream",
     "text": [
      "100%|██████████| 20988/20988 [00:07<00:00, 2718.36it/s]\n",
      "  1%|▏         | 274/20988 [00:00<00:07, 2739.68it/s]"
     ]
    },
    {
     "name": "stdout",
     "output_type": "stream",
     "text": [
      "visited3s 0.17993473101265822\n"
     ]
    },
    {
     "name": "stderr",
     "output_type": "stream",
     "text": [
      "100%|██████████| 20988/20988 [00:07<00:00, 2665.66it/s]\n",
      "  1%|          | 231/20988 [00:00<00:08, 2308.71it/s]"
     ]
    },
    {
     "name": "stdout",
     "output_type": "stream",
     "text": [
      "visited6s 0.21499208860759494\n"
     ]
    },
    {
     "name": "stderr",
     "output_type": "stream",
     "text": [
      "100%|██████████| 20988/20988 [00:09<00:00, 2229.46it/s]\n",
      "  1%|          | 230/20988 [00:00<00:09, 2295.02it/s]"
     ]
    },
    {
     "name": "stdout",
     "output_type": "stream",
     "text": [
      "995 10111 0.0984076748096133\n",
      "hitRate3s 0.0984076748096133\n"
     ]
    },
    {
     "name": "stderr",
     "output_type": "stream",
     "text": [
      "100%|██████████| 20988/20988 [00:09<00:00, 2228.92it/s]\n"
     ]
    },
    {
     "name": "stdout",
     "output_type": "stream",
     "text": [
      "1218 10111 0.12046286222925527\n",
      "hitRate6s 0.12046286222925527\n",
      "ALS model is fitted in 1.213602066040039 seconds.\n"
     ]
    },
    {
     "name": "stderr",
     "output_type": "stream",
     "text": [
      "100%|██████████| 20988/20988 [00:12<00:00, 1721.21it/s]\n",
      "  1%|          | 172/20988 [00:00<00:12, 1718.76it/s]"
     ]
    },
    {
     "name": "stdout",
     "output_type": "stream",
     "text": [
      "1640 20988 0.07813988946064418\n",
      "AP3s 0.07813988946064418\n"
     ]
    },
    {
     "name": "stderr",
     "output_type": "stream",
     "text": [
      "100%|██████████| 20988/20988 [00:12<00:00, 1742.34it/s]\n"
     ]
    },
    {
     "name": "stdout",
     "output_type": "stream",
     "text": [
      "2170 20988 0.10339241471316943\n",
      "AP6s 0.10339241471316943\n",
      "------alphas, itrs, factors------ 0.1 15 40\n",
      "ALS model is fitted in 8.213801860809326 seconds.\n",
      "annoy time: 0.7956829071044922\n",
      "training and querry time: 8.213801860809326 0.7956829071044922\n"
     ]
    },
    {
     "name": "stderr",
     "output_type": "stream",
     "text": [
      "100%|██████████| 20988/20988 [00:07<00:00, 2724.57it/s]\n",
      "  1%|▏         | 264/20988 [00:00<00:07, 2634.12it/s]"
     ]
    },
    {
     "name": "stdout",
     "output_type": "stream",
     "text": [
      "visited3s 0.24255834651898733\n"
     ]
    },
    {
     "name": "stderr",
     "output_type": "stream",
     "text": [
      "100%|██████████| 20988/20988 [00:07<00:00, 2674.14it/s]\n",
      "  1%|          | 234/20988 [00:00<00:08, 2337.19it/s]"
     ]
    },
    {
     "name": "stdout",
     "output_type": "stream",
     "text": [
      "visited6s 0.28357397151898733\n"
     ]
    },
    {
     "name": "stderr",
     "output_type": "stream",
     "text": [
      "100%|██████████| 20988/20988 [00:09<00:00, 2232.92it/s]\n",
      "  1%|          | 232/20988 [00:00<00:08, 2311.65it/s]"
     ]
    },
    {
     "name": "stdout",
     "output_type": "stream",
     "text": [
      "1024 10111 0.10127583819602413\n",
      "hitRate3s 0.10127583819602413\n"
     ]
    },
    {
     "name": "stderr",
     "output_type": "stream",
     "text": [
      "100%|██████████| 20988/20988 [00:09<00:00, 2171.30it/s]\n"
     ]
    },
    {
     "name": "stdout",
     "output_type": "stream",
     "text": [
      "1315 10111 0.13005637424587083\n",
      "hitRate6s 0.13005637424587083\n",
      "ALS model is fitted in 9.008813381195068 seconds.\n"
     ]
    },
    {
     "name": "stderr",
     "output_type": "stream",
     "text": [
      "100%|██████████| 20988/20988 [00:14<00:00, 1419.77it/s]\n",
      "  1%|          | 139/20988 [00:00<00:15, 1384.54it/s]"
     ]
    },
    {
     "name": "stdout",
     "output_type": "stream",
     "text": [
      "1602 20988 0.07632933104631218\n",
      "AP3s 0.07632933104631218\n"
     ]
    },
    {
     "name": "stderr",
     "output_type": "stream",
     "text": [
      "100%|██████████| 20988/20988 [00:13<00:00, 1527.79it/s]\n"
     ]
    },
    {
     "name": "stdout",
     "output_type": "stream",
     "text": [
      "2323 20988 0.1106822946445588\n",
      "AP6s 0.1106822946445588\n",
      "------alphas, itrs, factors------ 0.1 15 60\n",
      "ALS model is fitted in 23.750150680541992 seconds.\n",
      "annoy time: 0.8833417892456055\n",
      "training and querry time: 23.750150680541992 0.8833417892456055\n"
     ]
    },
    {
     "name": "stderr",
     "output_type": "stream",
     "text": [
      "100%|██████████| 20988/20988 [00:09<00:00, 2129.60it/s]\n",
      "  0%|          | 0/20988 [00:00<?, ?it/s]"
     ]
    },
    {
     "name": "stdout",
     "output_type": "stream",
     "text": [
      "visited3s 0.28671380537974683\n"
     ]
    },
    {
     "name": "stderr",
     "output_type": "stream",
     "text": [
      "100%|██████████| 20988/20988 [00:09<00:00, 2143.90it/s]\n",
      "  1%|          | 177/20988 [00:00<00:11, 1763.85it/s]"
     ]
    },
    {
     "name": "stdout",
     "output_type": "stream",
     "text": [
      "visited6s 0.33183346518987344\n"
     ]
    },
    {
     "name": "stderr",
     "output_type": "stream",
     "text": [
      "100%|██████████| 20988/20988 [00:09<00:00, 2101.72it/s]\n",
      "  1%|          | 210/20988 [00:00<00:09, 2097.00it/s]"
     ]
    },
    {
     "name": "stdout",
     "output_type": "stream",
     "text": [
      "1096 10111 0.10839679556918208\n",
      "hitRate3s 0.10839679556918208\n"
     ]
    },
    {
     "name": "stderr",
     "output_type": "stream",
     "text": [
      "100%|██████████| 20988/20988 [00:09<00:00, 2231.73it/s]\n"
     ]
    },
    {
     "name": "stdout",
     "output_type": "stream",
     "text": [
      "1425 10111 0.14093561467708438\n",
      "hitRate6s 0.14093561467708438\n",
      "ALS model is fitted in 22.641485452651978 seconds.\n"
     ]
    },
    {
     "name": "stderr",
     "output_type": "stream",
     "text": [
      "100%|██████████| 20988/20988 [00:14<00:00, 1436.80it/s]\n",
      "  1%|          | 180/20988 [00:00<00:11, 1793.55it/s]"
     ]
    },
    {
     "name": "stdout",
     "output_type": "stream",
     "text": [
      "1658 20988 0.07899752239374881\n",
      "AP3s 0.07899752239374881\n"
     ]
    },
    {
     "name": "stderr",
     "output_type": "stream",
     "text": [
      "100%|██████████| 20988/20988 [00:13<00:00, 1578.53it/s]\n"
     ]
    },
    {
     "name": "stdout",
     "output_type": "stream",
     "text": [
      "2345 20988 0.1117305126739089\n",
      "AP6s 0.1117305126739089\n",
      "------alphas, itrs, factors------ 0.1 15 100\n",
      "ALS model is fitted in 43.87515425682068 seconds.\n",
      "annoy time: 0.7990026473999023\n",
      "training and querry time: 43.87515425682068 0.7990026473999023\n"
     ]
    },
    {
     "name": "stderr",
     "output_type": "stream",
     "text": [
      "100%|██████████| 20988/20988 [00:08<00:00, 2367.91it/s]\n",
      "  0%|          | 0/20988 [00:00<?, ?it/s]"
     ]
    },
    {
     "name": "stdout",
     "output_type": "stream",
     "text": [
      "visited3s 0.34963409810126583\n"
     ]
    },
    {
     "name": "stderr",
     "output_type": "stream",
     "text": [
      "100%|██████████| 20988/20988 [00:08<00:00, 2353.33it/s]\n",
      "  1%|          | 219/20988 [00:00<00:09, 2187.84it/s]"
     ]
    },
    {
     "name": "stdout",
     "output_type": "stream",
     "text": [
      "visited6s 0.39668215981012656\n"
     ]
    },
    {
     "name": "stderr",
     "output_type": "stream",
     "text": [
      "100%|██████████| 20988/20988 [00:09<00:00, 2153.23it/s]\n",
      "  1%|          | 215/20988 [00:00<00:09, 2144.82it/s]"
     ]
    },
    {
     "name": "stdout",
     "output_type": "stream",
     "text": [
      "1130 10111 0.11175946988428444\n",
      "hitRate3s 0.11175946988428444\n"
     ]
    },
    {
     "name": "stderr",
     "output_type": "stream",
     "text": [
      "100%|██████████| 20988/20988 [00:09<00:00, 2156.54it/s]\n"
     ]
    },
    {
     "name": "stdout",
     "output_type": "stream",
     "text": [
      "1459 10111 0.14429828899218672\n",
      "hitRate6s 0.14429828899218672\n",
      "ALS model is fitted in 42.41578555107117 seconds.\n"
     ]
    },
    {
     "name": "stderr",
     "output_type": "stream",
     "text": [
      "100%|██████████| 20988/20988 [00:12<00:00, 1640.83it/s]\n",
      "  1%|          | 168/20988 [00:00<00:12, 1678.55it/s]"
     ]
    },
    {
     "name": "stdout",
     "output_type": "stream",
     "text": [
      "1511 20988 0.07199352010672766\n",
      "AP3s 0.07199352010672766\n"
     ]
    },
    {
     "name": "stderr",
     "output_type": "stream",
     "text": [
      "100%|██████████| 20988/20988 [00:12<00:00, 1668.92it/s]\n"
     ]
    },
    {
     "name": "stdout",
     "output_type": "stream",
     "text": [
      "2330 20988 0.11101581856298838\n",
      "AP6s 0.11101581856298838\n",
      "View matrix loaded in 6.841720342636108 seconds.\n",
      "Number of users which should be deleted: 1863687\n",
      "Number products which should be deleted: 1308\n",
      "Number of users which should be deleted: 265\n",
      "Number products which should be deleted: 4\n",
      "Number of users which should be deleted: 1\n",
      "Number products which should be deleted: 1\n",
      "Number of users which should be deleted: 0\n",
      "Number products which should be deleted: 0\n",
      "matrix has been made dense in 16.979819297790527 seconds.\n",
      "------alphas, itrs, factors: 0.1 15 5 ------\n",
      "ALS model is fitted in 0.43859338760375977 seconds.\n",
      "MSE 0.00044299005978022253\n",
      "------alphas, itrs, factors: 0.1 15 10 ------\n",
      "ALS model is fitted in 0.6699492931365967 seconds.\n",
      "MSE 0.0004317594576638441\n",
      "------alphas, itrs, factors: 0.1 15 20 ------\n",
      "ALS model is fitted in 0.9587748050689697 seconds.\n",
      "MSE 0.0004150898313080684\n",
      "------alphas, itrs, factors: 0.1 15 40 ------\n",
      "ALS model is fitted in 7.287027597427368 seconds.\n",
      "MSE 0.00039133168468261575\n",
      "------alphas, itrs, factors: 0.1 15 60 ------\n",
      "ALS model is fitted in 12.61355710029602 seconds.\n",
      "MSE 0.00037115353249129074\n",
      "------alphas, itrs, factors: 0.1 15 100 ------\n",
      "ALS model is fitted in 32.47779035568237 seconds.\n",
      "MSE 0.00033939377197201226\n"
     ]
    }
   ],
   "source": [
    "visited3s1, visited6s1, hitRate3s1, hitRate6s1, AP3s1, AP6s1, trainingTime1, qTime1 = \\\n",
    "calc_visited_hitRate(alphas1, itrs1, factors1, _l = 2, data_set_size = TEST_SET_SIZE, log = True)\n",
    "MSE1 = calc_mse__(alphas1, itrs1, factors1, _l = 2, data_set_size = TEST_SET_SIZE1, log = True)\n",
    "MSEs.append(MSE1)\n",
    "visited3s.append(visited3s1)\n",
    "visited6s.append(visited6s1)\n",
    "hitRate3s.append(hitRate3s1)\n",
    "hitRate6s.append(hitRate6s1)\n",
    "AP3s.append(AP3s1)\n",
    "AP6s.append(AP6s1)\n",
    "trainingTime.append(trainingTime1)\n",
    "qTime.append(qTime1)"
   ]
  },
  {
   "cell_type": "code",
   "execution_count": 17,
   "id": "athletic-charles",
   "metadata": {
    "scrolled": true
   },
   "outputs": [
    {
     "name": "stdout",
     "output_type": "stream",
     "text": [
      "View matrix loaded in 7.578397512435913 seconds.\n",
      "Number of users which should be deleted: 1863687\n",
      "Number products which should be deleted: 1308\n",
      "Number of users which should be deleted: 265\n",
      "Number products which should be deleted: 4\n",
      "Number of users which should be deleted: 1\n",
      "Number products which should be deleted: 1\n",
      "Number of users which should be deleted: 0\n",
      "Number products which should be deleted: 0\n",
      "matrix has been made dense in 16.639718055725098 seconds.\n",
      "test_shape (20988, 6877) train_shape (which we cant process bc of RAM) (212209, 6877)\n",
      "total cells 50559 number of deleted cells 20988\n"
     ]
    },
    {
     "name": "stderr",
     "output_type": "stream",
     "text": [
      "111it [00:00, 1106.54it/s]"
     ]
    },
    {
     "name": "stdout",
     "output_type": "stream",
     "text": [
      "test_shape (20988, 6877) train_shape (which we cant process bc of RAM) (212209, 6877)\n",
      "total cells 50559 number of deleted cells 10111\n"
     ]
    },
    {
     "name": "stderr",
     "output_type": "stream",
     "text": [
      "50559it [00:59, 851.07it/s] \n"
     ]
    },
    {
     "name": "stdout",
     "output_type": "stream",
     "text": [
      "------alphas, itrs, factors------ 10 15 5\n",
      "ALS model is fitted in 0.5703403949737549 seconds.\n",
      "annoy time: 0.9002330303192139\n",
      "training and querry time: 0.5703403949737549 0.9002330303192139\n"
     ]
    },
    {
     "name": "stderr",
     "output_type": "stream",
     "text": [
      "100%|██████████| 20988/20988 [00:08<00:00, 2550.41it/s]\n",
      "  1%|          | 252/20988 [00:00<00:08, 2511.59it/s]"
     ]
    },
    {
     "name": "stdout",
     "output_type": "stream",
     "text": [
      "visited3s 0.17627571202531644\n"
     ]
    },
    {
     "name": "stderr",
     "output_type": "stream",
     "text": [
      "100%|██████████| 20988/20988 [00:08<00:00, 2478.29it/s]\n",
      "  1%|          | 183/20988 [00:00<00:11, 1825.61it/s]"
     ]
    },
    {
     "name": "stdout",
     "output_type": "stream",
     "text": [
      "visited6s 0.22517800632911392\n"
     ]
    },
    {
     "name": "stderr",
     "output_type": "stream",
     "text": [
      "100%|██████████| 20988/20988 [00:11<00:00, 1884.53it/s]\n",
      "  1%|          | 206/20988 [00:00<00:10, 2059.38it/s]"
     ]
    },
    {
     "name": "stdout",
     "output_type": "stream",
     "text": [
      "1219 10111 0.12056176441499357\n",
      "hitRate3s 0.12056176441499357\n"
     ]
    },
    {
     "name": "stderr",
     "output_type": "stream",
     "text": [
      "100%|██████████| 20988/20988 [00:10<00:00, 1977.19it/s]\n"
     ]
    },
    {
     "name": "stdout",
     "output_type": "stream",
     "text": [
      "1605 10111 0.15873800810997923\n",
      "hitRate6s 0.15873800810997923\n",
      "ALS model is fitted in 0.6431443691253662 seconds.\n"
     ]
    },
    {
     "name": "stderr",
     "output_type": "stream",
     "text": [
      "100%|██████████| 20988/20988 [00:12<00:00, 1617.25it/s]\n",
      "  1%|          | 159/20988 [00:00<00:13, 1582.82it/s]"
     ]
    },
    {
     "name": "stdout",
     "output_type": "stream",
     "text": [
      "2095 20988 0.0998189441585668\n",
      "AP3s 0.0998189441585668\n"
     ]
    },
    {
     "name": "stderr",
     "output_type": "stream",
     "text": [
      "100%|██████████| 20988/20988 [00:12<00:00, 1638.40it/s]\n"
     ]
    },
    {
     "name": "stdout",
     "output_type": "stream",
     "text": [
      "2942 20988 0.14017533828854584\n",
      "AP6s 0.14017533828854584\n",
      "------alphas, itrs, factors------ 10 15 10\n",
      "ALS model is fitted in 0.890251636505127 seconds.\n",
      "annoy time: 0.683079719543457\n",
      "training and querry time: 0.890251636505127 0.683079719543457\n"
     ]
    },
    {
     "name": "stderr",
     "output_type": "stream",
     "text": [
      "100%|██████████| 20988/20988 [00:08<00:00, 2578.59it/s]\n",
      "  1%|          | 237/20988 [00:00<00:08, 2369.84it/s]"
     ]
    },
    {
     "name": "stdout",
     "output_type": "stream",
     "text": [
      "visited3s 0.23711926424050633\n"
     ]
    },
    {
     "name": "stderr",
     "output_type": "stream",
     "text": [
      "100%|██████████| 20988/20988 [00:08<00:00, 2562.56it/s]\n",
      "  1%|          | 214/20988 [00:00<00:09, 2134.64it/s]"
     ]
    },
    {
     "name": "stdout",
     "output_type": "stream",
     "text": [
      "visited6s 0.31395866297468356\n"
     ]
    },
    {
     "name": "stderr",
     "output_type": "stream",
     "text": [
      "100%|██████████| 20988/20988 [00:09<00:00, 2130.08it/s]\n",
      "  0%|          | 0/20988 [00:00<?, ?it/s]"
     ]
    },
    {
     "name": "stdout",
     "output_type": "stream",
     "text": [
      "1509 10111 0.14924339827910196\n",
      "hitRate3s 0.14924339827910196\n"
     ]
    },
    {
     "name": "stderr",
     "output_type": "stream",
     "text": [
      "100%|██████████| 20988/20988 [00:09<00:00, 2122.13it/s]\n"
     ]
    },
    {
     "name": "stdout",
     "output_type": "stream",
     "text": [
      "1930 10111 0.19088121847492828\n",
      "hitRate6s 0.19088121847492828\n",
      "ALS model is fitted in 0.8748421669006348 seconds.\n"
     ]
    },
    {
     "name": "stderr",
     "output_type": "stream",
     "text": [
      "100%|██████████| 20988/20988 [00:12<00:00, 1634.57it/s]\n",
      "  1%|          | 164/20988 [00:00<00:12, 1637.50it/s]"
     ]
    },
    {
     "name": "stdout",
     "output_type": "stream",
     "text": [
      "2791 20988 0.1329807509052792\n",
      "AP3s 0.1329807509052792\n"
     ]
    },
    {
     "name": "stderr",
     "output_type": "stream",
     "text": [
      "100%|██████████| 20988/20988 [00:12<00:00, 1654.56it/s]\n"
     ]
    },
    {
     "name": "stdout",
     "output_type": "stream",
     "text": [
      "3753 20988 0.17881646655231562\n",
      "AP6s 0.17881646655231562\n",
      "------alphas, itrs, factors------ 10 15 20\n",
      "ALS model is fitted in 1.3134839534759521 seconds.\n",
      "annoy time: 0.5316600799560547\n",
      "training and querry time: 1.3134839534759521 0.5316600799560547\n"
     ]
    },
    {
     "name": "stderr",
     "output_type": "stream",
     "text": [
      "100%|██████████| 20988/20988 [00:08<00:00, 2608.25it/s]\n",
      "  1%|          | 252/20988 [00:00<00:08, 2518.46it/s]"
     ]
    },
    {
     "name": "stdout",
     "output_type": "stream",
     "text": [
      "visited3s 0.3552462420886076\n"
     ]
    },
    {
     "name": "stderr",
     "output_type": "stream",
     "text": [
      "100%|██████████| 20988/20988 [00:08<00:00, 2534.93it/s]\n",
      "  1%|          | 209/20988 [00:00<00:09, 2088.32it/s]"
     ]
    },
    {
     "name": "stdout",
     "output_type": "stream",
     "text": [
      "visited6s 0.43245648734177217\n"
     ]
    },
    {
     "name": "stderr",
     "output_type": "stream",
     "text": [
      "100%|██████████| 20988/20988 [00:09<00:00, 2149.41it/s]\n",
      "  1%|          | 204/20988 [00:00<00:10, 2034.34it/s]"
     ]
    },
    {
     "name": "stdout",
     "output_type": "stream",
     "text": [
      "1865 10111 0.1844525764019385\n",
      "hitRate3s 0.1844525764019385\n"
     ]
    },
    {
     "name": "stderr",
     "output_type": "stream",
     "text": [
      "100%|██████████| 20988/20988 [00:09<00:00, 2117.71it/s]\n"
     ]
    },
    {
     "name": "stdout",
     "output_type": "stream",
     "text": [
      "2371 10111 0.23449708238552072\n",
      "hitRate6s 0.23449708238552072\n",
      "ALS model is fitted in 1.2610924243927002 seconds.\n"
     ]
    },
    {
     "name": "stderr",
     "output_type": "stream",
     "text": [
      "100%|██████████| 20988/20988 [00:14<00:00, 1465.25it/s]\n",
      "  1%|          | 133/20988 [00:00<00:15, 1329.19it/s]"
     ]
    },
    {
     "name": "stdout",
     "output_type": "stream",
     "text": [
      "3241 20988 0.154421574232895\n",
      "AP3s 0.154421574232895\n"
     ]
    },
    {
     "name": "stderr",
     "output_type": "stream",
     "text": [
      "100%|██████████| 20988/20988 [00:13<00:00, 1589.80it/s]\n"
     ]
    },
    {
     "name": "stdout",
     "output_type": "stream",
     "text": [
      "4384 20988 0.20888126548503907\n",
      "AP6s 0.20888126548503907\n",
      "------alphas, itrs, factors------ 10 15 40\n",
      "ALS model is fitted in 8.59513521194458 seconds.\n",
      "annoy time: 0.6670880317687988\n",
      "training and querry time: 8.59513521194458 0.6670880317687988\n"
     ]
    },
    {
     "name": "stderr",
     "output_type": "stream",
     "text": [
      "100%|██████████| 20988/20988 [00:08<00:00, 2494.64it/s]\n",
      "  1%|▏         | 263/20988 [00:00<00:07, 2620.99it/s]"
     ]
    },
    {
     "name": "stdout",
     "output_type": "stream",
     "text": [
      "visited3s 0.4720628955696203\n"
     ]
    },
    {
     "name": "stderr",
     "output_type": "stream",
     "text": [
      "100%|██████████| 20988/20988 [00:08<00:00, 2518.47it/s]\n",
      "  1%|          | 225/20988 [00:00<00:09, 2246.84it/s]"
     ]
    },
    {
     "name": "stdout",
     "output_type": "stream",
     "text": [
      "visited6s 0.5745401503164557\n"
     ]
    },
    {
     "name": "stderr",
     "output_type": "stream",
     "text": [
      "100%|██████████| 20988/20988 [00:10<00:00, 2033.05it/s]\n",
      "  1%|          | 218/20988 [00:00<00:09, 2174.48it/s]"
     ]
    },
    {
     "name": "stdout",
     "output_type": "stream",
     "text": [
      "2114 10111 0.2090792206507764\n",
      "hitRate3s 0.2090792206507764\n"
     ]
    },
    {
     "name": "stderr",
     "output_type": "stream",
     "text": [
      "100%|██████████| 20988/20988 [00:10<00:00, 2017.48it/s]\n"
     ]
    },
    {
     "name": "stdout",
     "output_type": "stream",
     "text": [
      "2685 10111 0.26555236870734844\n",
      "hitRate6s 0.26555236870734844\n",
      "ALS model is fitted in 14.255520582199097 seconds.\n"
     ]
    },
    {
     "name": "stderr",
     "output_type": "stream",
     "text": [
      "100%|██████████| 20988/20988 [00:16<00:00, 1274.16it/s]\n",
      "  1%|          | 163/20988 [00:00<00:12, 1621.39it/s]"
     ]
    },
    {
     "name": "stdout",
     "output_type": "stream",
     "text": [
      "3407 20988 0.16233085572708214\n",
      "AP3s 0.16233085572708214\n"
     ]
    },
    {
     "name": "stderr",
     "output_type": "stream",
     "text": [
      "100%|██████████| 20988/20988 [00:13<00:00, 1538.13it/s]\n"
     ]
    },
    {
     "name": "stdout",
     "output_type": "stream",
     "text": [
      "4757 20988 0.2266533257099295\n",
      "AP6s 0.2266533257099295\n",
      "------alphas, itrs, factors------ 10 15 60\n",
      "ALS model is fitted in 14.895954608917236 seconds.\n",
      "annoy time: 0.7620086669921875\n",
      "training and querry time: 14.895954608917236 0.7620086669921875\n"
     ]
    },
    {
     "name": "stderr",
     "output_type": "stream",
     "text": [
      "100%|██████████| 20988/20988 [00:08<00:00, 2540.20it/s]\n",
      "  1%|▏         | 265/20988 [00:00<00:07, 2641.05it/s]"
     ]
    },
    {
     "name": "stdout",
     "output_type": "stream",
     "text": [
      "visited3s 0.5524376977848101\n"
     ]
    },
    {
     "name": "stderr",
     "output_type": "stream",
     "text": [
      "100%|██████████| 20988/20988 [00:08<00:00, 2433.84it/s]\n",
      "  1%|          | 212/20988 [00:00<00:09, 2110.74it/s]"
     ]
    },
    {
     "name": "stdout",
     "output_type": "stream",
     "text": [
      "visited6s 0.6591920490506329\n"
     ]
    },
    {
     "name": "stderr",
     "output_type": "stream",
     "text": [
      "100%|██████████| 20988/20988 [00:10<00:00, 2030.80it/s]\n",
      "  0%|          | 0/20988 [00:00<?, ?it/s]"
     ]
    },
    {
     "name": "stdout",
     "output_type": "stream",
     "text": [
      "2197 10111 0.21728810206705568\n",
      "hitRate3s 0.21728810206705568\n"
     ]
    },
    {
     "name": "stderr",
     "output_type": "stream",
     "text": [
      "100%|██████████| 20988/20988 [00:10<00:00, 2051.54it/s]\n"
     ]
    },
    {
     "name": "stdout",
     "output_type": "stream",
     "text": [
      "2822 10111 0.2791019681534962\n",
      "hitRate6s 0.2791019681534962\n",
      "ALS model is fitted in 15.071038007736206 seconds.\n"
     ]
    },
    {
     "name": "stderr",
     "output_type": "stream",
     "text": [
      "100%|██████████| 20988/20988 [00:13<00:00, 1555.72it/s]\n",
      "  1%|          | 127/20988 [00:00<00:16, 1267.16it/s]"
     ]
    },
    {
     "name": "stdout",
     "output_type": "stream",
     "text": [
      "3216 20988 0.15323041738136078\n",
      "AP3s 0.15323041738136078\n"
     ]
    },
    {
     "name": "stderr",
     "output_type": "stream",
     "text": [
      "100%|██████████| 20988/20988 [00:13<00:00, 1573.82it/s]\n"
     ]
    },
    {
     "name": "stdout",
     "output_type": "stream",
     "text": [
      "4769 20988 0.2272250809986659\n",
      "AP6s 0.2272250809986659\n",
      "------alphas, itrs, factors------ 10 15 100\n",
      "ALS model is fitted in 44.270195722579956 seconds.\n",
      "annoy time: 0.723621129989624\n",
      "training and querry time: 44.270195722579956 0.723621129989624\n"
     ]
    },
    {
     "name": "stderr",
     "output_type": "stream",
     "text": [
      "100%|██████████| 20988/20988 [00:08<00:00, 2521.83it/s]\n",
      "  1%|▏         | 265/20988 [00:00<00:07, 2642.02it/s]"
     ]
    },
    {
     "name": "stdout",
     "output_type": "stream",
     "text": [
      "visited3s 0.6611204509493671\n"
     ]
    },
    {
     "name": "stderr",
     "output_type": "stream",
     "text": [
      "100%|██████████| 20988/20988 [00:08<00:00, 2489.94it/s]\n",
      "  1%|          | 227/20988 [00:00<00:09, 2264.49it/s]"
     ]
    },
    {
     "name": "stdout",
     "output_type": "stream",
     "text": [
      "visited6s 0.7658227848101266\n"
     ]
    },
    {
     "name": "stderr",
     "output_type": "stream",
     "text": [
      "100%|██████████| 20988/20988 [00:10<00:00, 1990.43it/s]\n",
      "  1%|          | 217/20988 [00:00<00:09, 2162.27it/s]"
     ]
    },
    {
     "name": "stdout",
     "output_type": "stream",
     "text": [
      "2190 10111 0.21659578676688754\n",
      "hitRate3s 0.21659578676688754\n"
     ]
    },
    {
     "name": "stderr",
     "output_type": "stream",
     "text": [
      "100%|██████████| 20988/20988 [00:11<00:00, 1883.54it/s]\n"
     ]
    },
    {
     "name": "stdout",
     "output_type": "stream",
     "text": [
      "2887 10111 0.285530610226486\n",
      "hitRate6s 0.285530610226486\n",
      "ALS model is fitted in 66.63395404815674 seconds.\n"
     ]
    },
    {
     "name": "stderr",
     "output_type": "stream",
     "text": [
      "100%|██████████| 20988/20988 [00:16<00:00, 1266.96it/s]\n",
      "  1%|          | 115/20988 [00:00<00:18, 1144.97it/s]"
     ]
    },
    {
     "name": "stdout",
     "output_type": "stream",
     "text": [
      "2781 20988 0.13250428816466553\n",
      "AP3s 0.13250428816466553\n"
     ]
    },
    {
     "name": "stderr",
     "output_type": "stream",
     "text": [
      "100%|██████████| 20988/20988 [00:15<00:00, 1318.98it/s]\n"
     ]
    },
    {
     "name": "stdout",
     "output_type": "stream",
     "text": [
      "4206 20988 0.2004002287021155\n",
      "AP6s 0.2004002287021155\n",
      "View matrix loaded in 7.762320041656494 seconds.\n",
      "Number of users which should be deleted: 1863687\n",
      "Number products which should be deleted: 1308\n",
      "Number of users which should be deleted: 265\n",
      "Number products which should be deleted: 4\n",
      "Number of users which should be deleted: 1\n",
      "Number products which should be deleted: 1\n",
      "Number of users which should be deleted: 0\n",
      "Number products which should be deleted: 0\n",
      "matrix has been made dense in 18.792057037353516 seconds.\n",
      "------alphas, itrs, factors: 10 15 5 ------\n",
      "ALS model is fitted in 0.4329049587249756 seconds.\n",
      "MSE 0.0007069327906809673\n",
      "------alphas, itrs, factors: 10 15 10 ------\n",
      "ALS model is fitted in 0.8028178215026855 seconds.\n",
      "MSE 0.0007709027931198582\n",
      "------alphas, itrs, factors: 10 15 20 ------\n",
      "ALS model is fitted in 1.1875836849212646 seconds.\n",
      "MSE 0.0008313887178644597\n",
      "------alphas, itrs, factors: 10 15 40 ------\n",
      "ALS model is fitted in 10.573253154754639 seconds.\n",
      "MSE 0.0008676184638590883\n",
      "------alphas, itrs, factors: 10 15 60 ------\n",
      "ALS model is fitted in 13.560930490493774 seconds.\n",
      "MSE 0.0008655890615124948\n",
      "------alphas, itrs, factors: 10 15 100 ------\n",
      "ALS model is fitted in 49.91829228401184 seconds.\n",
      "MSE 0.0008230836214841716\n"
     ]
    }
   ],
   "source": [
    "visited3s2, visited6s2, hitRate3s2, hitRate6s2, AP3s2, AP6s2, trainingTime2, qTime2 = \\\n",
    "calc_visited_hitRate(alphas2, itrs2, factors2, _l = 2, data_set_size = TEST_SET_SIZE, log = True)\n",
    "MSE2 = calc_mse__(alphas2, itrs2, factors2, _l = 2, data_set_size = TEST_SET_SIZE1, log = True)\n",
    "MSEs.append(MSE2)\n",
    "visited3s.append(visited3s2)\n",
    "visited6s.append(visited6s2)\n",
    "hitRate3s.append(hitRate3s2)\n",
    "hitRate6s.append(hitRate6s2)\n",
    "AP3s.append(AP3s2)\n",
    "AP6s.append(AP6s2)\n",
    "trainingTime.append(trainingTime2)\n",
    "qTime.append(qTime2)"
   ]
  },
  {
   "cell_type": "code",
   "execution_count": 18,
   "id": "defined-monkey",
   "metadata": {
    "scrolled": true
   },
   "outputs": [
    {
     "name": "stdout",
     "output_type": "stream",
     "text": [
      "View matrix loaded in 8.338136434555054 seconds.\n",
      "Number of users which should be deleted: 1863687\n",
      "Number products which should be deleted: 1308\n",
      "Number of users which should be deleted: 265\n",
      "Number products which should be deleted: 4\n",
      "Number of users which should be deleted: 1\n",
      "Number products which should be deleted: 1\n",
      "Number of users which should be deleted: 0\n",
      "Number products which should be deleted: 0\n",
      "matrix has been made dense in 18.430848360061646 seconds.\n",
      "test_shape (20988, 6877) train_shape (which we cant process bc of RAM) (212209, 6877)\n",
      "total cells 50559 number of deleted cells 20988\n"
     ]
    },
    {
     "name": "stderr",
     "output_type": "stream",
     "text": [
      "71it [00:00, 706.28it/s]"
     ]
    },
    {
     "name": "stdout",
     "output_type": "stream",
     "text": [
      "test_shape (20988, 6877) train_shape (which we cant process bc of RAM) (212209, 6877)\n",
      "total cells 50559 number of deleted cells 10111\n"
     ]
    },
    {
     "name": "stderr",
     "output_type": "stream",
     "text": [
      "50559it [01:02, 811.83it/s] \n"
     ]
    },
    {
     "name": "stdout",
     "output_type": "stream",
     "text": [
      "------alphas, itrs, factors------ 100 15 5\n",
      "ALS model is fitted in 0.5713295936584473 seconds.\n",
      "annoy time: 0.9749841690063477\n",
      "training and querry time: 0.5713295936584473 0.9749841690063477\n"
     ]
    },
    {
     "name": "stderr",
     "output_type": "stream",
     "text": [
      "100%|██████████| 20988/20988 [00:08<00:00, 2546.19it/s]\n",
      "  1%|          | 248/20988 [00:00<00:08, 2473.59it/s]"
     ]
    },
    {
     "name": "stdout",
     "output_type": "stream",
     "text": [
      "visited3s 0.1870549841772152\n"
     ]
    },
    {
     "name": "stderr",
     "output_type": "stream",
     "text": [
      "100%|██████████| 20988/20988 [00:08<00:00, 2468.79it/s]\n",
      "  1%|          | 219/20988 [00:00<00:09, 2187.57it/s]"
     ]
    },
    {
     "name": "stdout",
     "output_type": "stream",
     "text": [
      "visited6s 0.26115011867088606\n"
     ]
    },
    {
     "name": "stderr",
     "output_type": "stream",
     "text": [
      "100%|██████████| 20988/20988 [00:09<00:00, 2200.32it/s]\n",
      "  1%|          | 220/20988 [00:00<00:09, 2194.86it/s]"
     ]
    },
    {
     "name": "stdout",
     "output_type": "stream",
     "text": [
      "1169 10111 0.11561665512807832\n",
      "hitRate3s 0.11561665512807832\n"
     ]
    },
    {
     "name": "stderr",
     "output_type": "stream",
     "text": [
      "100%|██████████| 20988/20988 [00:09<00:00, 2135.30it/s]\n"
     ]
    },
    {
     "name": "stdout",
     "output_type": "stream",
     "text": [
      "1581 10111 0.15636435565225992\n",
      "hitRate6s 0.15636435565225992\n",
      "ALS model is fitted in 0.645714282989502 seconds.\n"
     ]
    },
    {
     "name": "stderr",
     "output_type": "stream",
     "text": [
      "100%|██████████| 20988/20988 [00:12<00:00, 1653.41it/s]\n",
      "  1%|          | 163/20988 [00:00<00:12, 1627.03it/s]"
     ]
    },
    {
     "name": "stdout",
     "output_type": "stream",
     "text": [
      "1297 20988 0.06179721745759482\n",
      "AP3s 0.06179721745759482\n"
     ]
    },
    {
     "name": "stderr",
     "output_type": "stream",
     "text": [
      "100%|██████████| 20988/20988 [00:13<00:00, 1600.79it/s]\n"
     ]
    },
    {
     "name": "stdout",
     "output_type": "stream",
     "text": [
      "2026 20988 0.09653135124833238\n",
      "AP6s 0.09653135124833238\n",
      "------alphas, itrs, factors------ 100 15 10\n",
      "ALS model is fitted in 0.9253954887390137 seconds.\n",
      "annoy time: 0.8797273635864258\n",
      "training and querry time: 0.9253954887390137 0.8797273635864258\n"
     ]
    },
    {
     "name": "stderr",
     "output_type": "stream",
     "text": [
      "100%|██████████| 20988/20988 [00:08<00:00, 2611.23it/s]\n",
      "  1%|          | 250/20988 [00:00<00:08, 2497.29it/s]"
     ]
    },
    {
     "name": "stdout",
     "output_type": "stream",
     "text": [
      "visited3s 0.3161590189873418\n"
     ]
    },
    {
     "name": "stderr",
     "output_type": "stream",
     "text": [
      "100%|██████████| 20988/20988 [00:08<00:00, 2409.95it/s]\n",
      "  1%|          | 207/20988 [00:00<00:10, 2064.32it/s]"
     ]
    },
    {
     "name": "stdout",
     "output_type": "stream",
     "text": [
      "visited6s 0.4189082278481013\n"
     ]
    },
    {
     "name": "stderr",
     "output_type": "stream",
     "text": [
      "100%|██████████| 20988/20988 [00:10<00:00, 2088.07it/s]\n",
      "  1%|          | 226/20988 [00:00<00:09, 2250.01it/s]"
     ]
    },
    {
     "name": "stdout",
     "output_type": "stream",
     "text": [
      "1694 10111 0.16754030264068837\n",
      "hitRate3s 0.16754030264068837\n"
     ]
    },
    {
     "name": "stderr",
     "output_type": "stream",
     "text": [
      "100%|██████████| 20988/20988 [00:10<00:00, 2074.12it/s]\n"
     ]
    },
    {
     "name": "stdout",
     "output_type": "stream",
     "text": [
      "2213 10111 0.21887053703886855\n",
      "hitRate6s 0.21887053703886855\n",
      "ALS model is fitted in 0.8732974529266357 seconds.\n"
     ]
    },
    {
     "name": "stderr",
     "output_type": "stream",
     "text": [
      "100%|██████████| 20988/20988 [00:12<00:00, 1665.04it/s]\n",
      "  1%|          | 163/20988 [00:00<00:12, 1624.73it/s]"
     ]
    },
    {
     "name": "stdout",
     "output_type": "stream",
     "text": [
      "2493 20988 0.11878216123499143\n",
      "AP3s 0.11878216123499143\n"
     ]
    },
    {
     "name": "stderr",
     "output_type": "stream",
     "text": [
      "100%|██████████| 20988/20988 [00:13<00:00, 1526.45it/s]\n"
     ]
    },
    {
     "name": "stdout",
     "output_type": "stream",
     "text": [
      "3548 20988 0.1690489803697351\n",
      "AP6s 0.1690489803697351\n",
      "------alphas, itrs, factors------ 100 15 20\n",
      "ALS model is fitted in 1.4736685752868652 seconds.\n",
      "annoy time: 0.861138105392456\n",
      "training and querry time: 1.4736685752868652 0.861138105392456\n"
     ]
    },
    {
     "name": "stderr",
     "output_type": "stream",
     "text": [
      "100%|██████████| 20988/20988 [00:08<00:00, 2479.08it/s]\n",
      "  1%|          | 253/20988 [00:00<00:08, 2529.03it/s]"
     ]
    },
    {
     "name": "stdout",
     "output_type": "stream",
     "text": [
      "visited3s 0.46269284018987344\n"
     ]
    },
    {
     "name": "stderr",
     "output_type": "stream",
     "text": [
      "100%|██████████| 20988/20988 [00:08<00:00, 2472.58it/s]\n",
      "  1%|          | 199/20988 [00:00<00:10, 1985.89it/s]"
     ]
    },
    {
     "name": "stdout",
     "output_type": "stream",
     "text": [
      "visited6s 0.6041337025316456\n"
     ]
    },
    {
     "name": "stderr",
     "output_type": "stream",
     "text": [
      "100%|██████████| 20988/20988 [00:09<00:00, 2112.53it/s]\n",
      "  1%|          | 215/20988 [00:00<00:09, 2133.81it/s]"
     ]
    },
    {
     "name": "stdout",
     "output_type": "stream",
     "text": [
      "2036 10111 0.2013648501631886\n",
      "hitRate3s 0.2013648501631886\n"
     ]
    },
    {
     "name": "stderr",
     "output_type": "stream",
     "text": [
      "100%|██████████| 20988/20988 [00:10<00:00, 2086.67it/s]\n"
     ]
    },
    {
     "name": "stdout",
     "output_type": "stream",
     "text": [
      "2630 10111 0.26011274849174165\n",
      "hitRate6s 0.26011274849174165\n",
      "ALS model is fitted in 1.3858215808868408 seconds.\n"
     ]
    },
    {
     "name": "stderr",
     "output_type": "stream",
     "text": [
      "100%|██████████| 20988/20988 [00:14<00:00, 1429.57it/s]\n",
      "  1%|          | 151/20988 [00:00<00:13, 1507.12it/s]"
     ]
    },
    {
     "name": "stdout",
     "output_type": "stream",
     "text": [
      "2691 20988 0.12821612349914235\n",
      "AP3s 0.12821612349914235\n"
     ]
    },
    {
     "name": "stderr",
     "output_type": "stream",
     "text": [
      "100%|██████████| 20988/20988 [00:13<00:00, 1567.83it/s]\n"
     ]
    },
    {
     "name": "stdout",
     "output_type": "stream",
     "text": [
      "3994 20988 0.19029921860110538\n",
      "AP6s 0.19029921860110538\n",
      "------alphas, itrs, factors------ 100 15 40\n",
      "ALS model is fitted in 9.755054950714111 seconds.\n",
      "annoy time: 0.7090508937835693\n",
      "training and querry time: 9.755054950714111 0.7090508937835693\n"
     ]
    },
    {
     "name": "stderr",
     "output_type": "stream",
     "text": [
      "100%|██████████| 20988/20988 [00:08<00:00, 2446.73it/s]\n",
      "  1%|▏         | 268/20988 [00:00<00:07, 2678.15it/s]"
     ]
    },
    {
     "name": "stdout",
     "output_type": "stream",
     "text": [
      "visited3s 0.6579558939873418\n"
     ]
    },
    {
     "name": "stderr",
     "output_type": "stream",
     "text": [
      "100%|██████████| 20988/20988 [00:08<00:00, 2447.07it/s]\n",
      "  1%|          | 196/20988 [00:00<00:10, 1958.62it/s]"
     ]
    },
    {
     "name": "stdout",
     "output_type": "stream",
     "text": [
      "visited6s 0.8103243670886076\n"
     ]
    },
    {
     "name": "stderr",
     "output_type": "stream",
     "text": [
      "100%|██████████| 20988/20988 [00:12<00:00, 1733.17it/s]\n",
      "  0%|          | 0/20988 [00:00<?, ?it/s]"
     ]
    },
    {
     "name": "stdout",
     "output_type": "stream",
     "text": [
      "2274 10111 0.22490357036890515\n",
      "hitRate3s 0.22490357036890515\n"
     ]
    },
    {
     "name": "stderr",
     "output_type": "stream",
     "text": [
      "100%|██████████| 20988/20988 [00:10<00:00, 1991.78it/s]\n"
     ]
    },
    {
     "name": "stdout",
     "output_type": "stream",
     "text": [
      "2950 10111 0.2917614479279992\n",
      "hitRate6s 0.2917614479279992\n",
      "ALS model is fitted in 11.442795038223267 seconds.\n"
     ]
    },
    {
     "name": "stderr",
     "output_type": "stream",
     "text": [
      "100%|██████████| 20988/20988 [00:13<00:00, 1573.56it/s]\n",
      "  2%|▏         | 343/20988 [00:00<00:12, 1714.41it/s]"
     ]
    },
    {
     "name": "stdout",
     "output_type": "stream",
     "text": [
      "3133 20988 0.1492757766342672\n",
      "AP3s 0.1492757766342672\n"
     ]
    },
    {
     "name": "stderr",
     "output_type": "stream",
     "text": [
      "100%|██████████| 20988/20988 [00:12<00:00, 1647.16it/s]\n"
     ]
    },
    {
     "name": "stdout",
     "output_type": "stream",
     "text": [
      "4601 20988 0.219220506956356\n",
      "AP6s 0.219220506956356\n",
      "------alphas, itrs, factors------ 100 15 60\n",
      "ALS model is fitted in 18.689983367919922 seconds.\n",
      "annoy time: 0.6860911846160889\n",
      "training and querry time: 18.689983367919922 0.6860911846160889\n"
     ]
    },
    {
     "name": "stderr",
     "output_type": "stream",
     "text": [
      "100%|██████████| 20988/20988 [00:08<00:00, 2568.36it/s]\n",
      "  1%|          | 239/20988 [00:00<00:08, 2381.46it/s]"
     ]
    },
    {
     "name": "stdout",
     "output_type": "stream",
     "text": [
      "visited3s 0.7622379351265823\n"
     ]
    },
    {
     "name": "stderr",
     "output_type": "stream",
     "text": [
      "100%|██████████| 20988/20988 [00:08<00:00, 2533.74it/s]\n",
      "  1%|          | 214/20988 [00:00<00:09, 2136.20it/s]"
     ]
    },
    {
     "name": "stdout",
     "output_type": "stream",
     "text": [
      "visited6s 0.8902788765822784\n"
     ]
    },
    {
     "name": "stderr",
     "output_type": "stream",
     "text": [
      "100%|██████████| 20988/20988 [00:10<00:00, 2064.77it/s]\n",
      "  1%|          | 193/20988 [00:00<00:10, 1920.60it/s]"
     ]
    },
    {
     "name": "stdout",
     "output_type": "stream",
     "text": [
      "2336 10111 0.23103550588468005\n",
      "hitRate3s 0.23103550588468005\n"
     ]
    },
    {
     "name": "stderr",
     "output_type": "stream",
     "text": [
      "100%|██████████| 20988/20988 [00:10<00:00, 2034.97it/s]\n"
     ]
    },
    {
     "name": "stdout",
     "output_type": "stream",
     "text": [
      "3026 10111 0.29927801404411036\n",
      "hitRate6s 0.29927801404411036\n",
      "ALS model is fitted in 17.17758321762085 seconds.\n"
     ]
    },
    {
     "name": "stderr",
     "output_type": "stream",
     "text": [
      "100%|██████████| 20988/20988 [00:13<00:00, 1600.17it/s]\n",
      "  1%|          | 168/20988 [00:00<00:12, 1676.56it/s]"
     ]
    },
    {
     "name": "stdout",
     "output_type": "stream",
     "text": [
      "3091 20988 0.14727463312368974\n",
      "AP3s 0.14727463312368974\n"
     ]
    },
    {
     "name": "stderr",
     "output_type": "stream",
     "text": [
      "100%|██████████| 20988/20988 [00:13<00:00, 1598.33it/s]\n"
     ]
    },
    {
     "name": "stdout",
     "output_type": "stream",
     "text": [
      "4737 20988 0.2257004002287021\n",
      "AP6s 0.2257004002287021\n",
      "------alphas, itrs, factors------ 100 15 100\n",
      "ALS model is fitted in 89.01523947715759 seconds.\n",
      "annoy time: 0.9631435871124268\n",
      "training and querry time: 89.01523947715759 0.9631435871124268\n"
     ]
    },
    {
     "name": "stderr",
     "output_type": "stream",
     "text": [
      "100%|██████████| 20988/20988 [00:10<00:00, 2034.67it/s]\n",
      "  0%|          | 0/20988 [00:00<?, ?it/s]"
     ]
    },
    {
     "name": "stdout",
     "output_type": "stream",
     "text": [
      "visited3s 0.8573229825949367\n"
     ]
    },
    {
     "name": "stderr",
     "output_type": "stream",
     "text": [
      "100%|██████████| 20988/20988 [00:10<00:00, 1998.13it/s]\n",
      "  0%|          | 0/20988 [00:00<?, ?it/s]"
     ]
    },
    {
     "name": "stdout",
     "output_type": "stream",
     "text": [
      "visited6s 0.9495648734177216\n"
     ]
    },
    {
     "name": "stderr",
     "output_type": "stream",
     "text": [
      "100%|██████████| 20988/20988 [00:12<00:00, 1616.32it/s]\n",
      "  0%|          | 0/20988 [00:00<?, ?it/s]"
     ]
    },
    {
     "name": "stdout",
     "output_type": "stream",
     "text": [
      "2342 10111 0.23162891899910987\n",
      "hitRate3s 0.23162891899910987\n"
     ]
    },
    {
     "name": "stderr",
     "output_type": "stream",
     "text": [
      "100%|██████████| 20988/20988 [00:12<00:00, 1632.43it/s]\n"
     ]
    },
    {
     "name": "stdout",
     "output_type": "stream",
     "text": [
      "3028 10111 0.29947581841558696\n",
      "hitRate6s 0.29947581841558696\n",
      "ALS model is fitted in 80.39102959632874 seconds.\n"
     ]
    },
    {
     "name": "stderr",
     "output_type": "stream",
     "text": [
      "100%|██████████| 20988/20988 [00:14<00:00, 1410.29it/s]\n",
      "  0%|          | 103/20988 [00:00<00:20, 1029.33it/s]"
     ]
    },
    {
     "name": "stdout",
     "output_type": "stream",
     "text": [
      "2998 20988 0.14284352963598246\n",
      "AP3s 0.14284352963598246\n"
     ]
    },
    {
     "name": "stderr",
     "output_type": "stream",
     "text": [
      "100%|██████████| 20988/20988 [00:17<00:00, 1169.00it/s]\n"
     ]
    },
    {
     "name": "stdout",
     "output_type": "stream",
     "text": [
      "4668 20988 0.2224128073184677\n",
      "AP6s 0.2224128073184677\n",
      "View matrix loaded in 7.579580307006836 seconds.\n",
      "Number of users which should be deleted: 1863687\n",
      "Number products which should be deleted: 1308\n",
      "Number of users which should be deleted: 265\n",
      "Number products which should be deleted: 4\n",
      "Number of users which should be deleted: 1\n",
      "Number products which should be deleted: 1\n",
      "Number of users which should be deleted: 0\n",
      "Number products which should be deleted: 0\n",
      "matrix has been made dense in 19.974650621414185 seconds.\n",
      "------alphas, itrs, factors: 100 15 5 ------\n",
      "ALS model is fitted in 0.4611480236053467 seconds.\n",
      "MSE 0.007495649893183082\n",
      "------alphas, itrs, factors: 100 15 10 ------\n",
      "ALS model is fitted in 0.8180780410766602 seconds.\n",
      "MSE 0.007698521621197013\n",
      "------alphas, itrs, factors: 100 15 20 ------\n",
      "ALS model is fitted in 1.2704510688781738 seconds.\n",
      "MSE 0.007056010561124149\n",
      "------alphas, itrs, factors: 100 15 40 ------\n",
      "ALS model is fitted in 17.87020468711853 seconds.\n",
      "MSE 0.0056369803808512245\n",
      "------alphas, itrs, factors: 100 15 60 ------\n",
      "ALS model is fitted in 16.772969245910645 seconds.\n",
      "MSE 0.004625308698069111\n",
      "------alphas, itrs, factors: 100 15 100 ------\n",
      "ALS model is fitted in 50.19273638725281 seconds.\n",
      "MSE 0.003380247357310418\n"
     ]
    }
   ],
   "source": [
    "visited3s3, visited6s3, hitRate3s3, hitRate6s3, AP3s3, AP6s3, trainingTime3, qTime3 = \\\n",
    "calc_visited_hitRate(alphas3, itrs3, factors3, _l = 2, data_set_size = TEST_SET_SIZE, log = True)\n",
    "MSE3 = calc_mse__(alphas3, itrs3, factors3, _l = 2, data_set_size = TEST_SET_SIZE1, log = True)\n",
    "MSEs.append(MSE3)\n",
    "visited3s.append(visited3s3)\n",
    "visited6s.append(visited6s3)\n",
    "hitRate3s.append(hitRate3s3)\n",
    "hitRate6s.append(hitRate6s3)\n",
    "AP3s.append(AP3s3)\n",
    "AP6s.append(AP6s3)\n",
    "trainingTime.append(trainingTime3)\n",
    "qTime.append(qTime3)"
   ]
  },
  {
   "cell_type": "code",
   "execution_count": 19,
   "id": "raising-heater",
   "metadata": {
    "scrolled": true
   },
   "outputs": [
    {
     "name": "stdout",
     "output_type": "stream",
     "text": [
      "View matrix loaded in 8.403518199920654 seconds.\n",
      "Number of users which should be deleted: 1863687\n",
      "Number products which should be deleted: 1308\n",
      "Number of users which should be deleted: 265\n",
      "Number products which should be deleted: 4\n",
      "Number of users which should be deleted: 1\n",
      "Number products which should be deleted: 1\n",
      "Number of users which should be deleted: 0\n",
      "Number products which should be deleted: 0\n",
      "matrix has been made dense in 17.978147983551025 seconds.\n",
      "test_shape (20988, 6877) train_shape (which we cant process bc of RAM) (212209, 6877)\n",
      "total cells 50559 number of deleted cells 20988\n"
     ]
    },
    {
     "name": "stderr",
     "output_type": "stream",
     "text": [
      "95it [00:00, 946.57it/s]"
     ]
    },
    {
     "name": "stdout",
     "output_type": "stream",
     "text": [
      "test_shape (20988, 6877) train_shape (which we cant process bc of RAM) (212209, 6877)\n",
      "total cells 50559 number of deleted cells 10111\n"
     ]
    },
    {
     "name": "stderr",
     "output_type": "stream",
     "text": [
      "50559it [01:20, 624.84it/s]\n"
     ]
    },
    {
     "name": "stdout",
     "output_type": "stream",
     "text": [
      "------alphas, itrs, factors------ 1000 15 5\n",
      "ALS model is fitted in 0.5632808208465576 seconds.\n",
      "annoy time: 0.9784626960754395\n",
      "training and querry time: 0.5632808208465576 0.9784626960754395\n"
     ]
    },
    {
     "name": "stderr",
     "output_type": "stream",
     "text": [
      "100%|██████████| 20988/20988 [00:08<00:00, 2585.61it/s]\n",
      "  1%|          | 256/20988 [00:00<00:08, 2558.40it/s]"
     ]
    },
    {
     "name": "stdout",
     "output_type": "stream",
     "text": [
      "visited3s 0.1553846914556962\n"
     ]
    },
    {
     "name": "stderr",
     "output_type": "stream",
     "text": [
      "100%|██████████| 20988/20988 [00:09<00:00, 2216.80it/s]\n",
      "  1%|          | 195/20988 [00:00<00:10, 1945.61it/s]"
     ]
    },
    {
     "name": "stdout",
     "output_type": "stream",
     "text": [
      "visited6s 0.23889932753164558\n"
     ]
    },
    {
     "name": "stderr",
     "output_type": "stream",
     "text": [
      "100%|██████████| 20988/20988 [00:10<00:00, 1908.79it/s]\n",
      "  0%|          | 0/20988 [00:00<?, ?it/s]"
     ]
    },
    {
     "name": "stdout",
     "output_type": "stream",
     "text": [
      "835 10111 0.08258332509148453\n",
      "hitRate3s 0.08258332509148453\n"
     ]
    },
    {
     "name": "stderr",
     "output_type": "stream",
     "text": [
      "100%|██████████| 20988/20988 [00:10<00:00, 1910.03it/s]\n"
     ]
    },
    {
     "name": "stdout",
     "output_type": "stream",
     "text": [
      "1189 10111 0.11759469884284443\n",
      "hitRate6s 0.11759469884284443\n",
      "ALS model is fitted in 0.6756405830383301 seconds.\n"
     ]
    },
    {
     "name": "stderr",
     "output_type": "stream",
     "text": [
      "100%|██████████| 20988/20988 [00:14<00:00, 1498.54it/s]\n",
      "  1%|          | 147/20988 [00:00<00:14, 1462.38it/s]"
     ]
    },
    {
     "name": "stdout",
     "output_type": "stream",
     "text": [
      "735 20988 0.035020011435105775\n",
      "AP3s 0.035020011435105775\n"
     ]
    },
    {
     "name": "stderr",
     "output_type": "stream",
     "text": [
      "100%|██████████| 20988/20988 [00:14<00:00, 1465.95it/s]\n"
     ]
    },
    {
     "name": "stdout",
     "output_type": "stream",
     "text": [
      "1174 20988 0.0559367257480465\n",
      "AP6s 0.0559367257480465\n",
      "------alphas, itrs, factors------ 1000 15 10\n",
      "ALS model is fitted in 1.013364553451538 seconds.\n",
      "annoy time: 0.9509046077728271\n",
      "training and querry time: 1.013364553451538 0.9509046077728271\n"
     ]
    },
    {
     "name": "stderr",
     "output_type": "stream",
     "text": [
      "100%|██████████| 20988/20988 [00:11<00:00, 1768.04it/s]\n",
      "  0%|          | 0/20988 [00:00<?, ?it/s]"
     ]
    },
    {
     "name": "stdout",
     "output_type": "stream",
     "text": [
      "visited3s 0.33324268196202533\n"
     ]
    },
    {
     "name": "stderr",
     "output_type": "stream",
     "text": [
      "100%|██████████| 20988/20988 [00:12<00:00, 1622.07it/s]\n",
      "  0%|          | 0/20988 [00:00<?, ?it/s]"
     ]
    },
    {
     "name": "stdout",
     "output_type": "stream",
     "text": [
      "visited6s 0.48066653481012656\n"
     ]
    },
    {
     "name": "stderr",
     "output_type": "stream",
     "text": [
      "100%|██████████| 20988/20988 [00:13<00:00, 1586.57it/s]\n",
      "  0%|          | 0/20988 [00:00<?, ?it/s]"
     ]
    },
    {
     "name": "stdout",
     "output_type": "stream",
     "text": [
      "1294 10111 0.12797942834536644\n",
      "hitRate3s 0.12797942834536644\n"
     ]
    },
    {
     "name": "stderr",
     "output_type": "stream",
     "text": [
      "100%|██████████| 20988/20988 [00:12<00:00, 1681.30it/s]\n"
     ]
    },
    {
     "name": "stdout",
     "output_type": "stream",
     "text": [
      "1822 10111 0.18019978241519138\n",
      "hitRate6s 0.18019978241519138\n",
      "ALS model is fitted in 1.0978548526763916 seconds.\n"
     ]
    },
    {
     "name": "stderr",
     "output_type": "stream",
     "text": [
      "100%|██████████| 20988/20988 [00:16<00:00, 1240.76it/s]\n",
      "  1%|          | 123/20988 [00:00<00:17, 1222.87it/s]"
     ]
    },
    {
     "name": "stdout",
     "output_type": "stream",
     "text": [
      "768 20988 0.03659233847913093\n",
      "AP3s 0.03659233847913093\n"
     ]
    },
    {
     "name": "stderr",
     "output_type": "stream",
     "text": [
      "100%|██████████| 20988/20988 [00:16<00:00, 1243.13it/s]\n"
     ]
    },
    {
     "name": "stdout",
     "output_type": "stream",
     "text": [
      "1480 20988 0.07051648561082523\n",
      "AP6s 0.07051648561082523\n",
      "------alphas, itrs, factors------ 1000 15 20\n",
      "ALS model is fitted in 1.6078946590423584 seconds.\n",
      "annoy time: 0.8333644866943359\n",
      "training and querry time: 1.6078946590423584 0.8333644866943359\n"
     ]
    },
    {
     "name": "stderr",
     "output_type": "stream",
     "text": [
      "100%|██████████| 20988/20988 [00:10<00:00, 2073.80it/s]\n",
      "  1%|          | 220/20988 [00:00<00:09, 2194.84it/s]"
     ]
    },
    {
     "name": "stdout",
     "output_type": "stream",
     "text": [
      "visited3s 0.6170886075949367\n"
     ]
    },
    {
     "name": "stderr",
     "output_type": "stream",
     "text": [
      "100%|██████████| 20988/20988 [00:10<00:00, 2069.92it/s]\n",
      "  1%|          | 184/20988 [00:00<00:11, 1832.31it/s]"
     ]
    },
    {
     "name": "stdout",
     "output_type": "stream",
     "text": [
      "visited6s 0.7885433148734177\n"
     ]
    },
    {
     "name": "stderr",
     "output_type": "stream",
     "text": [
      "100%|██████████| 20988/20988 [00:12<00:00, 1688.43it/s]\n",
      "  0%|          | 0/20988 [00:00<?, ?it/s]"
     ]
    },
    {
     "name": "stdout",
     "output_type": "stream",
     "text": [
      "1810 10111 0.17901295618633173\n",
      "hitRate3s 0.17901295618633173\n"
     ]
    },
    {
     "name": "stderr",
     "output_type": "stream",
     "text": [
      "100%|██████████| 20988/20988 [00:12<00:00, 1664.78it/s]\n"
     ]
    },
    {
     "name": "stdout",
     "output_type": "stream",
     "text": [
      "2428 10111 0.2401345069726041\n",
      "hitRate6s 0.2401345069726041\n",
      "ALS model is fitted in 1.4718456268310547 seconds.\n"
     ]
    },
    {
     "name": "stderr",
     "output_type": "stream",
     "text": [
      "100%|██████████| 20988/20988 [00:16<00:00, 1245.60it/s]\n",
      "  1%|          | 125/20988 [00:00<00:16, 1247.80it/s]"
     ]
    },
    {
     "name": "stdout",
     "output_type": "stream",
     "text": [
      "1405 20988 0.0669430150562226\n",
      "AP3s 0.0669430150562226\n"
     ]
    },
    {
     "name": "stderr",
     "output_type": "stream",
     "text": [
      "100%|██████████| 20988/20988 [00:17<00:00, 1217.15it/s]\n"
     ]
    },
    {
     "name": "stdout",
     "output_type": "stream",
     "text": [
      "2456 20988 0.11701924909472079\n",
      "AP6s 0.11701924909472079\n",
      "------alphas, itrs, factors------ 1000 15 40\n",
      "ALS model is fitted in 18.414348363876343 seconds.\n",
      "annoy time: 0.7935266494750977\n",
      "training and querry time: 18.414348363876343 0.7935266494750977\n"
     ]
    },
    {
     "name": "stderr",
     "output_type": "stream",
     "text": [
      "100%|██████████| 20988/20988 [00:10<00:00, 2059.49it/s]\n",
      "  0%|          | 0/20988 [00:00<?, ?it/s]"
     ]
    },
    {
     "name": "stdout",
     "output_type": "stream",
     "text": [
      "visited3s 0.8487193433544303\n"
     ]
    },
    {
     "name": "stderr",
     "output_type": "stream",
     "text": [
      "100%|██████████| 20988/20988 [00:10<00:00, 2003.42it/s]\n",
      "  0%|          | 0/20988 [00:00<?, ?it/s]"
     ]
    },
    {
     "name": "stdout",
     "output_type": "stream",
     "text": [
      "visited6s 0.9424940664556962\n"
     ]
    },
    {
     "name": "stderr",
     "output_type": "stream",
     "text": [
      "100%|██████████| 20988/20988 [00:12<00:00, 1635.39it/s]\n",
      "  0%|          | 0/20988 [00:00<?, ?it/s]"
     ]
    },
    {
     "name": "stdout",
     "output_type": "stream",
     "text": [
      "2185 10111 0.21610127583819602\n",
      "hitRate3s 0.21610127583819602\n"
     ]
    },
    {
     "name": "stderr",
     "output_type": "stream",
     "text": [
      "100%|██████████| 20988/20988 [00:12<00:00, 1675.48it/s]\n"
     ]
    },
    {
     "name": "stdout",
     "output_type": "stream",
     "text": [
      "2817 10111 0.2786074572248047\n",
      "hitRate6s 0.2786074572248047\n",
      "ALS model is fitted in 16.693392276763916 seconds.\n"
     ]
    },
    {
     "name": "stderr",
     "output_type": "stream",
     "text": [
      "100%|██████████| 20988/20988 [00:16<00:00, 1237.99it/s]\n",
      "  1%|          | 111/20988 [00:00<00:18, 1105.19it/s]"
     ]
    },
    {
     "name": "stdout",
     "output_type": "stream",
     "text": [
      "1809 20988 0.08619210977701544\n",
      "AP3s 0.08619210977701544\n"
     ]
    },
    {
     "name": "stderr",
     "output_type": "stream",
     "text": [
      "100%|██████████| 20988/20988 [00:17<00:00, 1234.21it/s]\n"
     ]
    },
    {
     "name": "stdout",
     "output_type": "stream",
     "text": [
      "2915 20988 0.1388888888888889\n",
      "AP6s 0.1388888888888889\n",
      "------alphas, itrs, factors------ 1000 15 60\n",
      "ALS model is fitted in 30.41751480102539 seconds.\n",
      "annoy time: 0.8604471683502197\n",
      "training and querry time: 30.41751480102539 0.8604471683502197\n"
     ]
    },
    {
     "name": "stderr",
     "output_type": "stream",
     "text": [
      "100%|██████████| 20988/20988 [00:09<00:00, 2118.52it/s]\n",
      "  1%|          | 211/20988 [00:00<00:09, 2105.67it/s]"
     ]
    },
    {
     "name": "stdout",
     "output_type": "stream",
     "text": [
      "visited3s 0.8954707278481012\n"
     ]
    },
    {
     "name": "stderr",
     "output_type": "stream",
     "text": [
      "100%|██████████| 20988/20988 [00:10<00:00, 2043.96it/s]\n",
      "  0%|          | 0/20988 [00:00<?, ?it/s]"
     ]
    },
    {
     "name": "stdout",
     "output_type": "stream",
     "text": [
      "visited6s 0.9623714398734177\n"
     ]
    },
    {
     "name": "stderr",
     "output_type": "stream",
     "text": [
      "100%|██████████| 20988/20988 [00:12<00:00, 1672.27it/s]\n",
      "  0%|          | 0/20988 [00:00<?, ?it/s]"
     ]
    },
    {
     "name": "stdout",
     "output_type": "stream",
     "text": [
      "2257 10111 0.22322223321135398\n",
      "hitRate3s 0.22322223321135398\n"
     ]
    },
    {
     "name": "stderr",
     "output_type": "stream",
     "text": [
      "100%|██████████| 20988/20988 [00:12<00:00, 1694.16it/s]\n"
     ]
    },
    {
     "name": "stdout",
     "output_type": "stream",
     "text": [
      "2877 10111 0.284541588369103\n",
      "hitRate6s 0.284541588369103\n",
      "ALS model is fitted in 23.00267720222473 seconds.\n"
     ]
    },
    {
     "name": "stderr",
     "output_type": "stream",
     "text": [
      "100%|██████████| 20988/20988 [00:16<00:00, 1268.48it/s]\n",
      "  0%|          | 103/20988 [00:00<00:20, 1026.92it/s]"
     ]
    },
    {
     "name": "stdout",
     "output_type": "stream",
     "text": [
      "2139 20988 0.10191538021726701\n",
      "AP3s 0.10191538021726701\n"
     ]
    },
    {
     "name": "stderr",
     "output_type": "stream",
     "text": [
      "100%|██████████| 20988/20988 [00:18<00:00, 1110.46it/s]\n"
     ]
    },
    {
     "name": "stdout",
     "output_type": "stream",
     "text": [
      "3431 20988 0.16347436630455497\n",
      "AP6s 0.16347436630455497\n",
      "------alphas, itrs, factors------ 1000 15 100\n",
      "ALS model is fitted in 59.409804821014404 seconds.\n",
      "annoy time: 0.7883932590484619\n",
      "training and querry time: 59.409804821014404 0.7883932590484619\n"
     ]
    },
    {
     "name": "stderr",
     "output_type": "stream",
     "text": [
      "100%|██████████| 20988/20988 [00:08<00:00, 2474.12it/s]\n",
      "  1%|          | 250/20988 [00:00<00:08, 2494.55it/s]"
     ]
    },
    {
     "name": "stdout",
     "output_type": "stream",
     "text": [
      "visited3s 0.916707871835443\n"
     ]
    },
    {
     "name": "stderr",
     "output_type": "stream",
     "text": [
      "100%|██████████| 20988/20988 [00:08<00:00, 2444.65it/s]\n",
      "  1%|          | 199/20988 [00:00<00:10, 1986.42it/s]"
     ]
    },
    {
     "name": "stdout",
     "output_type": "stream",
     "text": [
      "visited6s 0.9711975870253164\n"
     ]
    },
    {
     "name": "stderr",
     "output_type": "stream",
     "text": [
      "100%|██████████| 20988/20988 [00:10<00:00, 2009.62it/s]\n",
      "  1%|          | 206/20988 [00:00<00:10, 2053.54it/s]"
     ]
    },
    {
     "name": "stdout",
     "output_type": "stream",
     "text": [
      "2253 10111 0.22282662446840076\n",
      "hitRate3s 0.22282662446840076\n"
     ]
    },
    {
     "name": "stderr",
     "output_type": "stream",
     "text": [
      "100%|██████████| 20988/20988 [00:10<00:00, 2006.58it/s]\n"
     ]
    },
    {
     "name": "stdout",
     "output_type": "stream",
     "text": [
      "2900 10111 0.28681633864108397\n",
      "hitRate6s 0.28681633864108397\n",
      "ALS model is fitted in 51.50571966171265 seconds.\n"
     ]
    },
    {
     "name": "stderr",
     "output_type": "stream",
     "text": [
      "100%|██████████| 20988/20988 [00:14<00:00, 1439.79it/s]\n",
      "  1%|          | 154/20988 [00:00<00:13, 1536.63it/s]"
     ]
    },
    {
     "name": "stdout",
     "output_type": "stream",
     "text": [
      "2525 20988 0.12030684200495521\n",
      "AP3s 0.12030684200495521\n"
     ]
    },
    {
     "name": "stderr",
     "output_type": "stream",
     "text": [
      "100%|██████████| 20988/20988 [00:13<00:00, 1578.90it/s]\n"
     ]
    },
    {
     "name": "stdout",
     "output_type": "stream",
     "text": [
      "3841 20988 0.18300933866971603\n",
      "AP6s 0.18300933866971603\n",
      "View matrix loaded in 7.553820371627808 seconds.\n",
      "Number of users which should be deleted: 1863687\n",
      "Number products which should be deleted: 1308\n",
      "Number of users which should be deleted: 265\n",
      "Number products which should be deleted: 4\n",
      "Number of users which should be deleted: 1\n",
      "Number products which should be deleted: 1\n",
      "Number of users which should be deleted: 0\n",
      "Number products which should be deleted: 0\n",
      "matrix has been made dense in 18.3766930103302 seconds.\n",
      "------alphas, itrs, factors: 1000 15 5 ------\n",
      "ALS model is fitted in 0.42946791648864746 seconds.\n",
      "MSE 0.05019282782112994\n",
      "------alphas, itrs, factors: 1000 15 10 ------\n",
      "ALS model is fitted in 0.6528868675231934 seconds.\n",
      "MSE 0.034619483589082616\n",
      "------alphas, itrs, factors: 1000 15 20 ------\n",
      "ALS model is fitted in 1.16206693649292 seconds.\n",
      "MSE 0.02120167970294561\n",
      "------alphas, itrs, factors: 1000 15 40 ------\n",
      "ALS model is fitted in 9.498015403747559 seconds.\n",
      "MSE 0.011915919400714164\n",
      "------alphas, itrs, factors: 1000 15 60 ------\n",
      "ALS model is fitted in 14.45200777053833 seconds.\n",
      "MSE 0.008248202454629965\n",
      "------alphas, itrs, factors: 1000 15 100 ------\n",
      "ALS model is fitted in 41.00258207321167 seconds.\n",
      "MSE 0.005057023729040172\n"
     ]
    }
   ],
   "source": [
    "visited3s4, visited6s4, hitRate3s4, hitRate6s4, AP3s4, AP6s4, trainingTime4, qTime4 = \\\n",
    "calc_visited_hitRate(alphas4, itrs4, factors4, _l = 2, data_set_size = TEST_SET_SIZE, log = True)\n",
    "MSE4 = calc_mse__(alphas4, itrs4, factors4, _l = 2, data_set_size = TEST_SET_SIZE1, log = True)\n",
    "MSEs.append(MSE4)\n",
    "visited3s.append(visited3s4)\n",
    "visited6s.append(visited6s4)\n",
    "hitRate3s.append(hitRate3s4)\n",
    "hitRate6s.append(hitRate6s4)\n",
    "AP3s.append(AP3s4)\n",
    "AP6s.append(AP6s4)\n",
    "trainingTime.append(trainingTime4)\n",
    "qTime.append(qTime4)"
   ]
  },
  {
   "cell_type": "code",
   "execution_count": 22,
   "id": "agreed-front",
   "metadata": {},
   "outputs": [],
   "source": [
    "MSEs = np.array(MSEs).reshape(24)\n",
    "visited3s = np.array(visited3s).reshape(24)\n",
    "visited6s = np.array(visited6s).reshape(24)\n",
    "hitRate3s = np.array(hitRate3s).reshape(24)\n",
    "hitRate6s = np.array(hitRate6s).reshape(24)\n",
    "AP3s = np.array(AP3s).reshape(24)\n",
    "AP6s = np.array(AP6s).reshape(24)\n",
    "trainingTime = np.array(trainingTime).reshape(24)\n",
    "qTime = np.array(qTime).reshape(24)"
   ]
  },
  {
   "cell_type": "code",
   "execution_count": 24,
   "id": "honest-leonard",
   "metadata": {},
   "outputs": [
    {
     "data": {
      "text/plain": [
       "24"
      ]
     },
     "execution_count": 24,
     "metadata": {},
     "output_type": "execute_result"
    }
   ],
   "source": [
    "len(trainingTime)"
   ]
  },
  {
   "cell_type": "code",
   "execution_count": 26,
   "id": "virgin-penalty",
   "metadata": {},
   "outputs": [],
   "source": [
    "import prettytable\n",
    "x = prettytable.PrettyTable([\"Hyperparameters\", \"MSE\", \"Visited@6\", \"Visited@3\", \"HitRate@6\", \"HitRate@3\", \"AP@6\", \"AP@3\"])\n",
    "for i in range(24):\n",
    "    x.add_row([str('alpha:' + str(alphas[i]) + ', factors:' + str(factors[i])), round(MSEs[i], 7), round(visited6s[i], 4), round(visited3s[i], 4), round(hitRate6s[i], 4), round(hitRate3s[i], 4), round(AP6s[i], 4), round(AP3s[i], 4)])\n",
    "y = prettytable.PrettyTable([\"Hyperparameters\", \"MSE\", \"Query time\", 'Training Time'])\n",
    "for i in range(24):\n",
    "    y.add_row([str('alpha:' + str(alphas[i]) + ', factors:' + str(factors[i])), round(MSEs[i], 7), round(qTime[i], 4), round(trainingTime[i], 4)])"
   ]
  },
  {
   "cell_type": "code",
   "execution_count": 30,
   "id": "distinct-attempt",
   "metadata": {},
   "outputs": [
    {
     "name": "stdout",
     "output_type": "stream",
     "text": [
      "iterations: 15\n",
      "+-------------------------+-----------+-----------+-----------+-----------+-----------+--------+--------+\n",
      "|     Hyperparameters     |    MSE    | Visited@6 | Visited@3 | HitRate@6 | HitRate@3 |  AP@6  |  AP@3  |\n",
      "+-------------------------+-----------+-----------+-----------+-----------+-----------+--------+--------+\n",
      "|   alpha:0.1, factors:5  |  0.000443 |   0.1216  |   0.0943  |   0.0842  |   0.067   | 0.0945 | 0.0732 |\n",
      "|  alpha:0.1, factors:10  | 0.0004318 |   0.1635  |   0.1239  |   0.0948  |   0.0719  | 0.1115 | 0.0804 |\n",
      "|  alpha:0.1, factors:20  | 0.0004151 |   0.215   |   0.1799  |   0.1205  |   0.0984  | 0.1034 | 0.0781 |\n",
      "|  alpha:0.1, factors:40  | 0.0003913 |   0.2836  |   0.2426  |   0.1301  |   0.1013  | 0.1107 | 0.0763 |\n",
      "|  alpha:0.1, factors:60  | 0.0003712 |   0.3318  |   0.2867  |   0.1409  |   0.1084  | 0.1117 | 0.079  |\n",
      "|  alpha:0.1, factors:100 | 0.0003394 |   0.3967  |   0.3496  |   0.1443  |   0.1118  | 0.111  | 0.072  |\n",
      "|   alpha:10, factors:5   | 0.0007069 |   0.2252  |   0.1763  |   0.1587  |   0.1206  | 0.1402 | 0.0998 |\n",
      "|   alpha:10, factors:10  | 0.0007709 |   0.314   |   0.2371  |   0.1909  |   0.1492  | 0.1788 | 0.133  |\n",
      "|   alpha:10, factors:20  | 0.0008314 |   0.4325  |   0.3552  |   0.2345  |   0.1845  | 0.2089 | 0.1544 |\n",
      "|   alpha:10, factors:40  | 0.0008676 |   0.5745  |   0.4721  |   0.2656  |   0.2091  | 0.2267 | 0.1623 |\n",
      "|   alpha:10, factors:60  | 0.0008656 |   0.6592  |   0.5524  |   0.2791  |   0.2173  | 0.2272 | 0.1532 |\n",
      "|  alpha:10, factors:100  | 0.0008231 |   0.7658  |   0.6611  |   0.2855  |   0.2166  | 0.2004 | 0.1325 |\n",
      "|   alpha:100, factors:5  | 0.0074956 |   0.2612  |   0.1871  |   0.1564  |   0.1156  | 0.0965 | 0.0618 |\n",
      "|  alpha:100, factors:10  | 0.0076985 |   0.4189  |   0.3162  |   0.2189  |   0.1675  | 0.169  | 0.1188 |\n",
      "|  alpha:100, factors:20  |  0.007056 |   0.6041  |   0.4627  |   0.2601  |   0.2014  | 0.1903 | 0.1282 |\n",
      "|  alpha:100, factors:40  |  0.005637 |   0.8103  |   0.658   |   0.2918  |   0.2249  | 0.2192 | 0.1493 |\n",
      "|  alpha:100, factors:60  | 0.0046253 |   0.8903  |   0.7622  |   0.2993  |   0.231   | 0.2257 | 0.1473 |\n",
      "|  alpha:100, factors:100 | 0.0033802 |   0.9496  |   0.8573  |   0.2995  |   0.2316  | 0.2224 | 0.1428 |\n",
      "|  alpha:1000, factors:5  | 0.0501928 |   0.2389  |   0.1554  |   0.1176  |   0.0826  | 0.0559 | 0.035  |\n",
      "|  alpha:1000, factors:10 | 0.0346195 |   0.4807  |   0.3332  |   0.1802  |   0.128   | 0.0705 | 0.0366 |\n",
      "|  alpha:1000, factors:20 | 0.0212017 |   0.7885  |   0.6171  |   0.2401  |   0.179   | 0.117  | 0.0669 |\n",
      "|  alpha:1000, factors:40 | 0.0119159 |   0.9425  |   0.8487  |   0.2786  |   0.2161  | 0.1389 | 0.0862 |\n",
      "|  alpha:1000, factors:60 | 0.0082482 |   0.9624  |   0.8955  |   0.2845  |   0.2232  | 0.1635 | 0.1019 |\n",
      "| alpha:1000, factors:100 |  0.005057 |   0.9712  |   0.9167  |   0.2868  |   0.2228  | 0.183  | 0.1203 |\n",
      "+-------------------------+-----------+-----------+-----------+-----------+-----------+--------+--------+\n",
      "+-------------------------+-----------+------------+---------------+\n",
      "|     Hyperparameters     |    MSE    | Query time | Training Time |\n",
      "+-------------------------+-----------+------------+---------------+\n",
      "|   alpha:0.1, factors:5  |  0.000443 |   1.3646   |     0.5658    |\n",
      "|  alpha:0.1, factors:10  | 0.0004318 |   1.1188   |     0.9211    |\n",
      "|  alpha:0.1, factors:20  | 0.0004151 |   0.9241   |     1.3172    |\n",
      "|  alpha:0.1, factors:40  | 0.0003913 |   0.7957   |     8.2138    |\n",
      "|  alpha:0.1, factors:60  | 0.0003712 |   0.8833   |    23.7502    |\n",
      "|  alpha:0.1, factors:100 | 0.0003394 |   0.799    |    43.8752    |\n",
      "|   alpha:10, factors:5   | 0.0007069 |   0.9002   |     0.5703    |\n",
      "|   alpha:10, factors:10  | 0.0007709 |   0.6831   |     0.8903    |\n",
      "|   alpha:10, factors:20  | 0.0008314 |   0.5317   |     1.3135    |\n",
      "|   alpha:10, factors:40  | 0.0008676 |   0.6671   |     8.5951    |\n",
      "|   alpha:10, factors:60  | 0.0008656 |   0.762    |     14.896    |\n",
      "|  alpha:10, factors:100  | 0.0008231 |   0.7236   |    44.2702    |\n",
      "|   alpha:100, factors:5  | 0.0074956 |   0.975    |     0.5713    |\n",
      "|  alpha:100, factors:10  | 0.0076985 |   0.8797   |     0.9254    |\n",
      "|  alpha:100, factors:20  |  0.007056 |   0.8611   |     1.4737    |\n",
      "|  alpha:100, factors:40  |  0.005637 |   0.7091   |     9.7551    |\n",
      "|  alpha:100, factors:60  | 0.0046253 |   0.6861   |     18.69     |\n",
      "|  alpha:100, factors:100 | 0.0033802 |   0.9631   |    89.0152    |\n",
      "|  alpha:1000, factors:5  | 0.0501928 |   0.9785   |     0.5633    |\n",
      "|  alpha:1000, factors:10 | 0.0346195 |   0.9509   |     1.0134    |\n",
      "|  alpha:1000, factors:20 | 0.0212017 |   0.8334   |     1.6079    |\n",
      "|  alpha:1000, factors:40 | 0.0119159 |   0.7935   |    18.4143    |\n",
      "|  alpha:1000, factors:60 | 0.0082482 |   0.8604   |    30.4175    |\n",
      "| alpha:1000, factors:100 |  0.005057 |   0.7884   |    59.4098    |\n",
      "+-------------------------+-----------+------------+---------------+\n"
     ]
    }
   ],
   "source": [
    "print(\"iterations: 15\")\n",
    "print(x)\n",
    "print(y)\n",
    "data = x.get_string()\n",
    "with open(RESULTS + 'ALSacc_hyperparameters_' + WEB_SITE_NAME + '.txt', 'w') as f:\n",
    "    f.write(data)\n",
    "data = y.get_string()\n",
    "with open(RESULTS + 'ALStime_hyperparameters_' + WEB_SITE_NAME + '.txt', 'w') as f:\n",
    "    f.write(data)"
   ]
  },
  {
   "cell_type": "code",
   "execution_count": 32,
   "id": "preliminary-snake",
   "metadata": {},
   "outputs": [
    {
     "data": {
      "image/png": "[encoded data removed]",
      "text/plain": [
       "<Figure size 432x288 with 1 Axes>"
      ]
     },
     "metadata": {
      "needs_background": "light"
     },
     "output_type": "display_data"
    }
   ],
   "source": [
    "plt.plot(factors[:6], visited6s[:6], label='alpha = 10')\n",
    "plt.plot(factors[6:12], visited6s[6:12], label='alpha = 10')\n",
    "plt.plot(factors[12:18], visited6s[12:18], label='alpha = 100')\n",
    "plt.plot(factors[18:24], visited6s[18:24], label='alpha = 1000')\n",
    "plt.title(\"Visited@6 w.r.t hyperparameters \" + WEB_SITE_NAME)\n",
    "plt.xlabel('#features')\n",
    "plt.xticks([5,10,15,20,25,30,35,40,50,60,70,80,90,100])\n",
    "plt.legend()\n",
    "plt.savefig(RESULTS + 'visited@6_hyperparameters_' + WEB_SITE_NAME + '.png', dpi=400)"
   ]
  },
  {
   "cell_type": "code",
   "execution_count": 34,
   "id": "resident-billion",
   "metadata": {},
   "outputs": [
    {
     "data": {
      "image/png": "[encoded data removed]",
      "text/plain": [
       "<Figure size 432x288 with 1 Axes>"
      ]
     },
     "metadata": {
      "needs_background": "light"
     },
     "output_type": "display_data"
    }
   ],
   "source": [
    "plt.plot(factors[:6], hitRate6s[:6], label='alpha = 0.1')\n",
    "plt.plot(factors[6:12], hitRate6s[6:12], label='alpha = 10')\n",
    "plt.plot(factors[12:18], hitRate6s[12:18], label='alpha = 100')\n",
    "plt.plot(factors[18:24], hitRate6s[18:24], label='alpha = 1000')\n",
    "plt.title(\"Hitrate@6 w.r.t hyperparameters \" + WEB_SITE_NAME)\n",
    "plt.xlabel('#features')\n",
    "plt.xticks([5,10,15,20,25,30,35,40,50,60,70,80,90,100])\n",
    "plt.legend()\n",
    "plt.savefig(RESULTS + 'hitrate@6_hyperparameters_' + WEB_SITE_NAME + '.png', dpi=400)"
   ]
  },
  {
   "cell_type": "code",
   "execution_count": 35,
   "id": "crazy-collectible",
   "metadata": {},
   "outputs": [
    {
     "data": {
      "image/png": "[encoded data removed]",
      "text/plain": [
       "<Figure size 432x288 with 1 Axes>"
      ]
     },
     "metadata": {
      "needs_background": "light"
     },
     "output_type": "display_data"
    }
   ],
   "source": [
    "plt.plot(factors[:6], MSEs[:6], label='alpha = 0.1')\n",
    "plt.plot(factors[6:12], MSEs[6:12], label='alpha = 10')\n",
    "plt.plot(factors[12:18], MSEs[12:18], label='alpha = 100')\n",
    "plt.plot(factors[18:24], MSEs[18:24], label='alpha = 1000')\n",
    "plt.title(\"MSE w.r.t hyperparameters \" + WEB_SITE_NAME)\n",
    "plt.xlabel('#features')\n",
    "plt.xticks([5,10,15,20,25,30,35,40,50,60,70,80,90,100])\n",
    "plt.legend()\n",
    "plt.savefig(RESULTS + 'MSE_hyperparameters_' + WEB_SITE_NAME + '.png', dpi=400)"
   ]
  },
  {
   "cell_type": "code",
   "execution_count": 36,
   "id": "enhanced-heavy",
   "metadata": {},
   "outputs": [
    {
     "data": {
      "image/png": "[encoded data removed]",
      "text/plain": [
       "<Figure size 432x288 with 1 Axes>"
      ]
     },
     "metadata": {
      "needs_background": "light"
     },
     "output_type": "display_data"
    }
   ],
   "source": [
    "plt.plot(factors[:6], qTime[:6], label='alpha = 0.1')\n",
    "plt.plot(factors[6:12], qTime[6:12], label='alpha = 10')\n",
    "plt.plot(factors[12:18], qTime[12:18], label='alpha = 100')\n",
    "plt.plot(factors[18:24], qTime[18:24], label='alpha = 1000')\n",
    "plt.title(\"Query time w.r.t hyperparameters \" + WEB_SITE_NAME)\n",
    "plt.xlabel('#features')\n",
    "plt.xticks([5,10,15,20,25,30,35,40,50,60,70,80,90,100])\n",
    "plt.legend()\n",
    "plt.savefig(RESULTS + 'querytime_hyperparameters_' + WEB_SITE_NAME + '.png', dpi=400)"
   ]
  },
  {
   "cell_type": "code",
   "execution_count": 38,
   "id": "weighted-tracy",
   "metadata": {},
   "outputs": [
    {
     "data": {
      "image/png": "[encoded data removed]",
      "text/plain": [
       "<Figure size 432x288 with 1 Axes>"
      ]
     },
     "metadata": {
      "needs_background": "light"
     },
     "output_type": "display_data"
    }
   ],
   "source": [
    "plt.plot(factors[:6], trainingTime[:6], label='alpha = 0.1')\n",
    "plt.plot(factors[6:12], trainingTime[6:12], label='alpha = 10')\n",
    "plt.plot(factors[12:18], trainingTime[12:18], label='alpha = 100')\n",
    "plt.plot(factors[18:24], trainingTime[18:24], label='alpha = 1000')\n",
    "plt.title(\"Training time w.r.t hyperparameters \" + WEB_SITE_NAME)\n",
    "plt.xlabel('#features')\n",
    "plt.xticks([5,10,15,20,25,30,35,40,50,60,70,80,90,100])\n",
    "plt.legend()\n",
    "plt.savefig(RESULTS + 'trainingtime_hyperparameters_' + WEB_SITE_NAME + '.png', dpi=400)"
   ]
  }
 ],
 "metadata": {
  "kernelspec": {
   "display_name": "Python 3",
   "language": "python",
   "name": "python3"
  },
  "language_info": {
   "codemirror_mode": {
    "name": "ipython",
    "version": 3
   },
   "file_extension": ".py",
   "mimetype": "text/x-python",
   "name": "python",
   "nbconvert_exporter": "python",
   "pygments_lexer": "ipython3",
   "version": "3.8.5"
  }
 },
 "nbformat": 4,
 "nbformat_minor": 5
}
