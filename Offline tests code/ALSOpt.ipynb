{
 "cells": [
  {
   "cell_type": "code",
   "execution_count": 1,
   "id": "attractive-weight",
   "metadata": {},
   "outputs": [],
   "source": [
    "WEB_SITE_NAME = 'Academicfiles.ir'\n",
    "TEST_SET_SIZE = 0.99 # max = 0.999\n",
    "TEST_SET_SIZE1 = 0.99 # max = 0.999"
   ]
  },
  {
   "cell_type": "code",
   "execution_count": 2,
   "id": "liberal-opera",
   "metadata": {},
   "outputs": [],
   "source": [
    "WEB_SITE_matrix = '../../models/' + WEB_SITE_NAME + '/view_matrix/lil_matrix.npz'\n",
    "WEB_SITE_itemindexer = '../../models/' + WEB_SITE_NAME + '/view_matrix/item_indexer.indexer'\n",
    "WEB_SITE_userindexer = '../../models/' + WEB_SITE_NAME + '/view_matrix/user_indexer.indexer'\n",
    "SAVING1 = './alisResult/' + WEB_SITE_NAME + '/ALS/ali_item_indexer_factorized.indexer'\n",
    "SAVING2 = './alisResult/' + WEB_SITE_NAME + '/ALS/ali_user_indexer_factorized.indexer'\n",
    "SAVING3 = './alisResult/' + WEB_SITE_NAME + '/ALS/ali_items_vectors.npy'\n",
    "SAVING4 = './alisResult/' + WEB_SITE_NAME + '/ALS/ali_users_vectors.npy'\n",
    "RESULTS = '../results/ALSOpt/' + WEB_SITE_NAME + '/'"
   ]
  },
  {
   "cell_type": "code",
   "execution_count": 3,
   "id": "informational-petroleum",
   "metadata": {},
   "outputs": [],
   "source": [
    "import pandas as pd\n",
    "import numpy as np\n",
    "import matplotlib.pyplot as plt\n",
    "from matplotlib import colors\n",
    "from matplotlib.ticker import PercentFormatter\n",
    "from tqdm import tqdm\n",
    "\n",
    "import timeit\n",
    "import time\n",
    "import math\n",
    "from sklearn.model_selection import train_test_split\n",
    "# ./indexer\n",
    "from indexer import AppendIndexer\n",
    "import ALS\n",
    "\n",
    "# Annoy\n",
    "from annoy import AnnoyIndex\n",
    "\n",
    "#SKLearn \n",
    "from sklearn.neighbors import NearestNeighbors\n",
    "from sklearn.metrics import average_precision_score\n",
    "from sklearn.metrics import pairwise_distances\n",
    "\n",
    "# scipy\n",
    "from scipy.spatial import distance\n",
    "from scipy.sparse import lil_matrix\n",
    "import scipy\n",
    "import scipy.sparse\n",
    "import itertools\n",
    "import random"
   ]
  },
  {
   "cell_type": "code",
   "execution_count": 4,
   "id": "secondary-duration",
   "metadata": {},
   "outputs": [],
   "source": [
    "class ViewMatrix:\n",
    "    def __init__(self, path):\n",
    "        self.path = path\n",
    "        self.original = True\n",
    "        self.item_indexer = AppendIndexer.load(WEB_SITE_itemindexer)\n",
    "        self.user_indexer = AppendIndexer.load(WEB_SITE_userindexer)\n",
    "        \n",
    "    def load_matrix(path):\n",
    "        \n",
    "        matrix = ViewMatrix(path)\n",
    "\n",
    "        try:\n",
    "            matrix.view_matrix = ViewMatrix \\\n",
    "                .load_sparse_lil(path)\n",
    "        except:\n",
    "            print('Error: loading', path)\n",
    "\n",
    "        return matrix\n",
    "\n",
    "    def load_sparse_lil(filename):\n",
    "        loader = np.load(filename, allow_pickle=True)\n",
    "        result = lil_matrix(tuple(loader[\"shape\"]), dtype=str(loader[\"dtype\"]))\n",
    "        result.data = loader[\"data\"]\n",
    "        result.rows = loader[\"rows\"]\n",
    "        return result\n",
    "    \n",
    "    def make_dense(self, user_min_view, item_min_view):\n",
    "        self.original = False\n",
    "        while True:\n",
    "            removed_rows_cnt = self.trim_users_with_few_views(user_min_view)\n",
    "            removed_columns_cnt = self.trim_columns_with_few_views(item_min_view)\n",
    "            if not removed_columns_cnt and not removed_rows_cnt:\n",
    "                break\n",
    "\n",
    "    def trim_users_with_few_views(self, user_min_view):\n",
    "        removing_row_indices = list(np.where(self.view_matrix.getnnz(1) < user_min_view)[0])\n",
    "        print('Number of users which should be deleted:', len(removing_row_indices))\n",
    "        self.trim_user_indices(to_remove_indices=removing_row_indices)\n",
    "        return len(removing_row_indices)\n",
    "\n",
    "    def trim_columns_with_few_views(self, column_min_view):\n",
    "        removing_column_indices = list(np.where(self.view_matrix.getnnz(0) < column_min_view)[0])\n",
    "        print('Number products which should be deleted:', len(removing_column_indices))\n",
    "        self.trim_column_indices(to_remove_indices=removing_column_indices)\n",
    "        return len(removing_column_indices)\n",
    "    \n",
    "    def trim_user_indices(self, to_remove_indices):\n",
    "        self.user_indexer.remove_indexes(to_remove_indices)\n",
    "        self.view_matrix = ViewMatrix.delete_row_lil(self.view_matrix, to_remove_indices)\n",
    "    \n",
    "    def trim_column_indices(self, to_remove_indices):\n",
    "        self.item_indexer.remove_indexes(to_remove_indices)\n",
    "        self.view_matrix = ViewMatrix.delete_column_lil(self.view_matrix, to_remove_indices)\n",
    "    \n",
    "    def delete_column_lil(mat: lil_matrix, *i) -> lil_matrix:\n",
    "        mat = mat.transpose()\n",
    "        mat = ViewMatrix.delete_row_lil(mat, *i)\n",
    "        return mat.transpose()\n",
    "    \n",
    "    def delete_row_lil(mat: lil_matrix, *i) -> lil_matrix:\n",
    "        if not isinstance(mat, lil_matrix):\n",
    "            raise ValueError(\"works only for LIL format -- use .tolil() first\")\n",
    "        mat = mat.copy()\n",
    "        mat.rows = np.delete(mat.rows, i)\n",
    "        mat.data = np.delete(mat.data, i)\n",
    "        mat._shape = (mat.rows.shape[0], mat._shape[1])\n",
    "        return mat\n",
    "    def to_csr(self):\n",
    "        train_data = self.view_matrix.astype(np.float64)\n",
    "        train_data = train_data.tocoo()\n",
    "        train_data.data = np.log10(train_data.data) + 1\n",
    "        train_data = train_data.tocsr()\n",
    "        return train_data"
   ]
  },
  {
   "cell_type": "code",
   "execution_count": 5,
   "id": "incorporated-closer",
   "metadata": {},
   "outputs": [],
   "source": [
    "def ALSReady(path: str, l = 2):\n",
    "    now = time.time()\n",
    "    matrix = ViewMatrix.load_matrix(path)\n",
    "    print('View matrix loaded in', time.time() - now, 'seconds.')\n",
    "\n",
    "    now = time.time()\n",
    "    sparce_matrix = matrix.to_csr()\n",
    "    matrix.make_dense(user_min_view = l, \n",
    "                      item_min_view = l)\n",
    "    implicit_matrix = matrix.to_csr()\n",
    "    print('matrix has been made dense in', time.time() - now, 'seconds.')\n",
    "    return matrix, sparce_matrix, implicit_matrix\n",
    "\n",
    "def CFTrain(matrix, implicit_matrix, _alpha = 15, _facs = 20, _itr = 15, save = False):\n",
    "    \n",
    "    now = time.time()\n",
    "    als_model = ALS.Als(num_factors = _facs,\n",
    "                        iterations = _itr,\n",
    "                        num_threads = 10,\n",
    "                        alpha = _alpha)\n",
    "\n",
    "    \n",
    "    als_model.fit(implicit_matrix)\n",
    "    alsTime = time.time() - now\n",
    "    print('ALS model is fitted in', alsTime, 'seconds.')\n",
    "    if save:\n",
    "        print('Saving Data ...')\n",
    "        matrix.item_indexer.dump(SAVING1)\n",
    "        matrix.user_indexer.dump(SAVING2)\n",
    "        np.save(SAVING3, als_model.item_vectors)\n",
    "        np.save(SAVING4, als_model.user_vectors)\n",
    "\n",
    "    return als_model.item_vectors, als_model.user_vectors, alsTime"
   ]
  },
  {
   "cell_type": "code",
   "execution_count": 6,
   "id": "beginning-elizabeth",
   "metadata": {},
   "outputs": [],
   "source": [
    "def get_annoy_results(pages_vector, number_of_trees = 50, number_of_neighbours = 11):\n",
    "    \n",
    "    start = time.time()\n",
    "    annoy_model = annoy_model = AnnoyIndex(pages_vector.shape[1], 'angular')\n",
    "    \n",
    "    for index, vector in enumerate(pages_vector):\n",
    "        annoy_model.add_item(index, vector)\n",
    "    \n",
    "    annoy_model.build(number_of_trees)\n",
    "    \n",
    "    annoy_indices = []\n",
    "    annoy_distances = []\n",
    "\n",
    "    for i in pages_vector:\n",
    "        indices, distances = annoy_model. \\\n",
    "            get_nns_by_vector(i, number_of_neighbours, include_distances=True)\n",
    "        annoy_indices.append(indices)\n",
    "        annoy_distances.append(distances)\n",
    "    \n",
    "    duration = time.time() - start\n",
    "    print('annoy time:', duration)\n",
    "    return annoy_indices, annoy_distances, duration"
   ]
  },
  {
   "cell_type": "markdown",
   "id": "inclusive-aberdeen",
   "metadata": {},
   "source": [
    "implicit matrix ro migire va ye bakhshisho baramun test o train mikone ke ye bakhshi az cell ha sefr shodan:"
   ]
  },
  {
   "cell_type": "code",
   "execution_count": 7,
   "id": "excess-hamburg",
   "metadata": {},
   "outputs": [],
   "source": [
    "def generate_test_set_precision_recall(implicit_matrix, _test_size = 0.05, test_cells = 0.2):\n",
    "    train, test = train_test_split(implicit_matrix, shuffle=False, test_size = _test_size)\n",
    "    print('test_shape', test.shape, 'train_shape (which we cant process bc of RAM)', train.shape)\n",
    "    rows,cols = test.nonzero()\n",
    "    delete_index = [(rows[i], cols[i]) for i in random.sample(range(1, len(rows)), int(len(rows)*test_cells))]\n",
    "    print(\"total cells\", len(rows), \"number of deleted cells\", len(delete_index))\n",
    "    \n",
    "    x_train = scipy.sparse.csr_matrix(test.shape)\n",
    "    for i, j in tqdm(zip(rows, cols)):\n",
    "        if (i, j) in delete_index:\n",
    "            continue\n",
    "        x_train[i, j] = test[i, j]\n",
    "    return x_train, test, delete_index\n",
    "\n",
    "def prepare_data_for_AP(implicit_matrix, _test_size = 0.05):\n",
    "    train, test = train_test_split(implicit_matrix, shuffle=False, test_size = _test_size)\n",
    "    print('test_shape', test.shape, 'train_shape (which we cant process bc of RAM)', train.shape)\n",
    "    rows, cols = test.nonzero()\n",
    "    unique, counts = np.unique(rows, return_counts=True)\n",
    "    commulative_count = [0]\n",
    "    for i in counts:\n",
    "        commulative_count.append(commulative_count[-1] + i)\n",
    "    delete_row = []\n",
    "    for i in range(1, len(commulative_count)):\n",
    "        delete_row.append(np.random.randint(commulative_count[i-1], commulative_count[i]))\n",
    "    delete_index = [(rows[i], cols[i]) for i in delete_row]\n",
    "    # print(delete_row[:10], delete_index[:10], rows[:10], cols[:10], random.randrange(commulative_count[0], 10, 2) )\n",
    "    print(\"total cells\", len(rows), \"number of deleted cells\", len(delete_index))\n",
    "    \n",
    "    x_train = scipy.sparse.csr_matrix(test.shape)\n",
    "    for i, j in zip(rows, cols):\n",
    "        if (i, j) in delete_index:\n",
    "            continue\n",
    "        x_train[i, j] = test[i, j]\n",
    "    return x_train, test, delete_index\n",
    "\n",
    "def prepare_data_for_MAE(implicit_matrix, set_size = 0.05):\n",
    "    train, test = train_test_split(implicit_matrix, shuffle=False, test_size = set_size)\n",
    "    return test"
   ]
  },
  {
   "cell_type": "code",
   "execution_count": 8,
   "id": "enormous-shelter",
   "metadata": {},
   "outputs": [],
   "source": [
    "def hit_rate_at_k(deleted, x_train, test_approx, k = 10):\n",
    "    found = []\n",
    "    for i in tqdm(range(len(test_approx))):\n",
    "        ta = list(n_argmax(test_approx[i], 30))\n",
    "        nonz = np.nonzero(x_train[i])[0]\n",
    "        same_old = []\n",
    "        for l in range(len(ta)):\n",
    "            if ta[l] in nonz:\n",
    "                same_old.append(l)\n",
    "\n",
    "        for l in same_old[::-1]:\n",
    "            ta.pop(l)\n",
    "        ta = ta[:k]        \n",
    "        for j in ta:\n",
    "            found.append((i, j))\n",
    "    same = 0\n",
    "    a = np.array([hash(i) for i in found])\n",
    "    b = np.array([hash(i) for i in deleted])\n",
    "    same = np.sum(np.isin(b,a))\n",
    "    print(same, len(deleted), same/len(deleted))\n",
    "    return same/len(deleted)\n",
    "\n",
    "def visited_at_k(x_train, test_approx, k = 10):\n",
    "    same_old = []\n",
    "    for i in tqdm(range(len(test_approx))):\n",
    "        ta = list(n_argmax(test_approx[i], k))\n",
    "        nonz = np.nonzero(x_train[i])[0]\n",
    "        for l in range(len(ta)):\n",
    "            if ta[l] in nonz:\n",
    "                same_old.append(l)\n",
    "    rows,cols = x_train.nonzero()\n",
    "    return len(same_old)/len(rows)\n",
    "\n",
    "def n_argmax(a, n):\n",
    "    ranked = np.argsort(a)\n",
    "    largest_indices = ranked[::-1][:n]\n",
    "    return largest_indices"
   ]
  },
  {
   "cell_type": "code",
   "execution_count": 9,
   "id": "subsequent-practitioner",
   "metadata": {},
   "outputs": [],
   "source": [
    "#random search\n",
    "itrs1 = [15, 15, 15, 15, 15, 15]\n",
    "alphas1 = [0.1, 0.1, 0.1, 0.1, 0.1, 0.1]\n",
    "factors1 = [5, 10, 20, 40, 60, 100]\n",
    "\n",
    "itrs2 = [15, 15, 15, 15, 15, 15]\n",
    "alphas2 = [10, 10, 10, 10, 10, 10]\n",
    "factors2 = [5, 10, 20, 40, 60, 100]\n",
    "\n",
    "itrs3 = [15, 15, 15, 15, 15, 15]\n",
    "alphas3 = [100, 100, 100, 100, 100, 100]\n",
    "factors3 = [5, 10, 20, 40, 60, 100]\n",
    "\n",
    "itrs4 = [15, 15, 15, 15, 15, 15]\n",
    "alphas4 = [1000, 1000, 1000, 1000, 1000, 1000]\n",
    "factors4 = [5, 10, 20, 40, 60, 100]\n",
    "\n",
    "itrs = [15, 15, 15, 15, 15, 15, 15, 15, 15, 15, 15, 15, 15, 15, 15, 15, 15, 15, 15, 15, 15, 15, 15, 15]\n",
    "alphas = [0.1, 0.1, 0.1, 0.1, 0.1, 0.1, 10, 10, 10, 10, 10, 10, 100, 100, 100, 100, 100, 100, 1000, 1000, 1000, 1000, 1000, 1000]\n",
    "factors = [5, 10, 20, 40, 60, 100, 5, 10, 20, 40, 60, 100, 5, 10, 20, 40, 60, 100, 5, 10, 20, 40, 60, 100]"
   ]
  },
  {
   "cell_type": "markdown",
   "id": "aggregate-benchmark",
   "metadata": {},
   "source": [
    "### metrics"
   ]
  },
  {
   "cell_type": "markdown",
   "id": "lesbian-edwards",
   "metadata": {},
   "source": [
    "accuracy metrics:\n",
    "- recall@k, hit_rate@k\n",
    "- visited_rate@k\n",
    "- MAE on train set per iteration"
   ]
  },
  {
   "cell_type": "markdown",
   "id": "public-occasions",
   "metadata": {},
   "source": [
    "time metrics:\n",
    "- training time\n",
    "- query time"
   ]
  },
  {
   "cell_type": "code",
   "execution_count": 10,
   "id": "mighty-chemistry",
   "metadata": {},
   "outputs": [],
   "source": [
    "def calc_visited_hitRate(alphas, itrs, factors, _l = 2, data_set_size = 0.072, log = False):\n",
    "    visited3s = []\n",
    "    hitRate3s = []\n",
    "    visited6s = []\n",
    "    hitRate6s = []\n",
    "    AP3s = []\n",
    "    AP6s = []\n",
    "    trainingTime = []\n",
    "    qTime = []\n",
    "    matrix, sparce_matrix, implicit_matrix = ALSReady(WEB_SITE_matrix, l=_l)\n",
    "    x_train_AP, test_AP, delete_index_AP = prepare_data_for_AP(implicit_matrix, _test_size = data_set_size)\n",
    "    x_train, test, deleted = generate_test_set_precision_recall(implicit_matrix, _test_size = data_set_size)\n",
    "    for a,i,f in zip(alphas, itrs, factors):\n",
    "        if log: print('------alphas, itrs, factors------', a,i,f)\n",
    "        item_vectors, user_vectors, alsTime = \\\n",
    "        CFTrain(None, x_train, _alpha = a, _facs = f, _itr = i)\n",
    "        a1, a2, duration = get_annoy_results(item_vectors)\n",
    "        qTime.append(duration)\n",
    "        trainingTime.append(alsTime)\n",
    "        if log: print('training and querry time:', trainingTime[-1], qTime[-1])\n",
    "        test_approx = np.matmul(user_vectors, item_vectors.T)\n",
    "        visited3s.append(visited_at_k(x_train.toarray(), test_approx, k = 3))\n",
    "        if log: print('visited3s', visited3s[-1])\n",
    "        visited6s.append(visited_at_k(x_train.toarray(), test_approx, k = 6))\n",
    "        if log: print('visited6s', visited6s[-1])\n",
    "        hitRate3s.append(hit_rate_at_k(deleted, x_train.toarray(), test_approx, k = 3))\n",
    "        if log: print('hitRate3s', hitRate3s[-1])\n",
    "        hitRate6s.append(hit_rate_at_k(deleted, x_train.toarray(), test_approx, k = 6))\n",
    "        if log: print('hitRate6s', hitRate6s[-1])\n",
    "        item_vectors_AP, user_vectors_AP, alsTime_AP = \\\n",
    "        CFTrain(None, x_train_AP, _alpha = a, _facs = f, _itr = i)\n",
    "        test_approx_AP = np.matmul(user_vectors_AP, item_vectors_AP.T)\n",
    "        AP3s.append(hit_rate_at_k(delete_index_AP, x_train_AP, test_approx_AP, k = 3))\n",
    "        if log: print('AP3s', AP3s[-1])\n",
    "        AP6s.append(hit_rate_at_k(delete_index_AP, x_train_AP, test_approx_AP, k = 6))\n",
    "        if log: print('AP6s', AP6s[-1])\n",
    "    return visited3s, visited6s, hitRate3s, hitRate6s, AP3s, AP6s, trainingTime, qTime"
   ]
  },
  {
   "cell_type": "code",
   "execution_count": 11,
   "id": "beneficial-anaheim",
   "metadata": {},
   "outputs": [],
   "source": [
    "def calc_mse__(alphas, itrs, factors, _l = 3, data_set_size = 0.072, log = False):\n",
    "    mse = []\n",
    "    matrix, sparce_matrix, implicit_matrix = ALSReady(WEB_SITE_matrix, l=_l)\n",
    "    train, test = train_test_split(implicit_matrix, shuffle=False, train_size = 0.06)\n",
    "    for a,i,f in zip(alphas, itrs, factors):\n",
    "        if log: print('------alphas, itrs, factors:', a,i,f, '------')\n",
    "        item_vectors, user_vectors, alsTime = \\\n",
    "        CFTrain(None, train, _alpha = a, _facs = f, _itr = i)\n",
    "        test_approx = np.matmul(user_vectors, item_vectors.T)\n",
    "        mse.append(MSE(test_approx, train))\n",
    "        print('MSE', mse[-1])\n",
    "    return mse"
   ]
  },
  {
   "cell_type": "code",
   "execution_count": 12,
   "id": "coral-latino",
   "metadata": {},
   "outputs": [],
   "source": [
    "def MAE(approx, train):\n",
    "    absolute_error = np.absolute(train - approximated_matrix)\n",
    "    return np.mean(absolute_error)\n",
    "def MSE(approx, train):\n",
    "    absolute_error = np.absolute(train - approx)\n",
    "    absolute_error = np.square(absolute_error)\n",
    "    return np.mean(absolute_error)\n",
    "def MAE_calc(train, itr = 10, facs = 20):\n",
    "    item_vectors, user_vectors, alsTime = \\\n",
    "    CFTrain(None, train, _alpha = 100, _facs = 20, _itr = itr)\n",
    "    approximated_matrix = np.matmul(user_vectors, item_vectors.T)\n",
    "    absolute_error = np.absolute(train - approximated_matrix)\n",
    "    return np.mean(absolute_error)\n",
    "def MSE_calc(train, itr = 10, facs = 20):\n",
    "    item_vectors, user_vectors, alsTime = \\\n",
    "    CFTrain(None, train, _alpha = 100, _facs = 25, _itr = itr)\n",
    "    approximated_matrix = np.matmul(user_vectors, item_vectors.T)\n",
    "    return MSE(approximated_matrix, train)"
   ]
  },
  {
   "cell_type": "code",
   "execution_count": 13,
   "id": "registered-force",
   "metadata": {
    "scrolled": true
   },
   "outputs": [
    {
     "name": "stdout",
     "output_type": "stream",
     "text": [
      "View matrix loaded in 0.11256742477416992 seconds.\n",
      "Number of users which should be deleted: 7879\n",
      "Number products which should be deleted: 75\n",
      "Number of users which should be deleted: 4\n",
      "Number products which should be deleted: 0\n",
      "Number of users which should be deleted: 0\n",
      "Number products which should be deleted: 0\n",
      "matrix has been made dense in 0.3143651485443115 seconds.\n",
      "(849, 435) (7650, 435)\n",
      "ALS model is fitted in 0.0012693405151367188 seconds.\n",
      "25.446239910527495\n",
      "ALS model is fitted in 0.021869421005249023 seconds.\n",
      "0.021115185970075046\n",
      "ALS model is fitted in 0.03753924369812012 seconds.\n",
      "0.015810083807418492\n",
      "ALS model is fitted in 0.04134774208068848 seconds.\n",
      "0.0143450905025935\n",
      "ALS model is fitted in 0.04952526092529297 seconds.\n",
      "0.013459973869760628\n",
      "ALS model is fitted in 0.05810999870300293 seconds.\n",
      "0.013081990393437585\n",
      "ALS model is fitted in 0.07551956176757812 seconds.\n",
      "0.012861522345011814\n",
      "ALS model is fitted in 0.08485102653503418 seconds.\n",
      "0.012524510127983475\n",
      "ALS model is fitted in 0.08983683586120605 seconds.\n",
      "0.012408198576516552\n",
      "ALS model is fitted in 0.1025843620300293 seconds.\n",
      "0.012229933754910846\n",
      "ALS model is fitted in 0.12231087684631348 seconds.\n",
      "0.01195144630974807\n",
      "ALS model is fitted in 0.12288165092468262 seconds.\n",
      "0.011942157847839986\n",
      "ALS model is fitted in 0.14066720008850098 seconds.\n",
      "0.01188563023465672\n",
      "ALS model is fitted in 0.16715288162231445 seconds.\n",
      "0.011809859067729262\n",
      "ALS model is fitted in 0.1854550838470459 seconds.\n",
      "0.01171885475691939\n",
      "ALS model is fitted in 0.19587087631225586 seconds.\n",
      "0.011704738322093126\n",
      "ALS model is fitted in 0.14844179153442383 seconds.\n",
      "0.011632441668921573\n",
      "ALS model is fitted in 0.19433093070983887 seconds.\n",
      "0.011609051511908747\n",
      "ALS model is fitted in 0.22009491920471191 seconds.\n",
      "0.011544659729717542\n",
      "ALS model is fitted in 0.22698116302490234 seconds.\n",
      "0.011489958063119836\n"
     ]
    }
   ],
   "source": [
    "matrix, sparce_matrix, implicit_matrix = ALSReady(WEB_SITE_matrix, l=2)\n",
    "MSEs = []\n",
    "train, test = train_test_split(implicit_matrix, shuffle=False, train_size = 0.1)\n",
    "print(train.shape, test.shape)\n",
    "for i in [i for i in range(20)]:\n",
    "    MSEs.append(MSE_calc(train, itr = i))\n",
    "    print(MSEs[-1])"
   ]
  },
  {
   "cell_type": "code",
   "execution_count": 14,
   "id": "danish-duration",
   "metadata": {},
   "outputs": [
    {
     "data": {
      "image/png": "[encoded data removed]",
      "text/plain": [
       "<Figure size 432x288 with 1 Axes>"
      ]
     },
     "metadata": {
      "needs_background": "light"
     },
     "output_type": "display_data"
    }
   ],
   "source": [
    "X = [i for i in range(20)]\n",
    "plt.plot(X, MSEs)\n",
    "plt.title(\"MSE per iterations \" + WEB_SITE_NAME)\n",
    "plt.xticks(np.arange(0, len(X)+1, 2))\n",
    "plt.savefig(RESULTS + 'MSE_per_itrs1_' + WEB_SITE_NAME + '.png', dpi=400)"
   ]
  },
  {
   "cell_type": "code",
   "execution_count": 15,
   "id": "finnish-trade",
   "metadata": {},
   "outputs": [
    {
     "data": {
      "image/png": "[encoded data removed]",
      "text/plain": [
       "<Figure size 432x288 with 1 Axes>"
      ]
     },
     "metadata": {
      "needs_background": "light"
     },
     "output_type": "display_data"
    }
   ],
   "source": [
    "X = [i for i in range(1, 20)]\n",
    "plt.plot(X, MSEs[1:])\n",
    "plt.title(\"MSE per iterations \" + WEB_SITE_NAME)\n",
    "plt.xticks(np.arange(1, len(X)+1, 2))\n",
    "plt.savefig(RESULTS + 'MSE_per_itrs2_' + WEB_SITE_NAME + '.png', dpi=400)"
   ]
  },
  {
   "cell_type": "markdown",
   "id": "quarterly-factor",
   "metadata": {},
   "source": [
    "## Run on all"
   ]
  },
  {
   "cell_type": "code",
   "execution_count": 16,
   "id": "authentic-frederick",
   "metadata": {},
   "outputs": [],
   "source": [
    "MSEs = []\n",
    "visited3s = []\n",
    "visited6s = []\n",
    "hitRate3s = []\n",
    "hitRate6s = []\n",
    "AP3s = []\n",
    "AP6s = []\n",
    "trainingTime = []\n",
    "qTime = []"
   ]
  },
  {
   "cell_type": "code",
   "execution_count": 17,
   "id": "light-victoria",
   "metadata": {
    "scrolled": true
   },
   "outputs": [
    {
     "name": "stdout",
     "output_type": "stream",
     "text": [
      "View matrix loaded in 0.10150504112243652 seconds.\n",
      "Number of users which should be deleted: 7879\n",
      "Number products which should be deleted: 75\n",
      "Number of users which should be deleted: 4\n",
      "Number products which should be deleted: 0\n",
      "Number of users which should be deleted: 0\n",
      "Number products which should be deleted: 0\n",
      "matrix has been made dense in 0.32939648628234863 seconds.\n",
      "test_shape (8415, 435) train_shape (which we cant process bc of RAM) (84, 435)\n",
      "total cells 35156 number of deleted cells 8415\n"
     ]
    },
    {
     "name": "stderr",
     "output_type": "stream",
     "text": [
      "/home/yektanet/.local/lib/python3.8/site-packages/scipy/sparse/_index.py:82: SparseEfficiencyWarning: Changing the sparsity structure of a csr_matrix is expensive. lil_matrix is more efficient.\n",
      "  self._set_intXint(row, col, x.flat[0])\n",
      "264it [00:00, 2629.51it/s]"
     ]
    },
    {
     "name": "stdout",
     "output_type": "stream",
     "text": [
      "test_shape (8415, 435) train_shape (which we cant process bc of RAM) (84, 435)\n",
      "total cells 35156 number of deleted cells 7031\n"
     ]
    },
    {
     "name": "stderr",
     "output_type": "stream",
     "text": [
      "35156it [00:18, 1946.29it/s]\n"
     ]
    },
    {
     "name": "stdout",
     "output_type": "stream",
     "text": [
      "------alphas, itrs, factors------ 0.1 15 5\n"
     ]
    },
    {
     "name": "stderr",
     "output_type": "stream",
     "text": [
      "\r",
      "  0%|          | 0/8415 [00:00<?, ?it/s]"
     ]
    },
    {
     "name": "stdout",
     "output_type": "stream",
     "text": [
      "ALS model is fitted in 0.22468137741088867 seconds.\n",
      "annoy time: 0.051375389099121094\n",
      "training and querry time: 0.22468137741088867 0.051375389099121094\n"
     ]
    },
    {
     "name": "stderr",
     "output_type": "stream",
     "text": [
      "100%|██████████| 8415/8415 [00:00<00:00, 25430.65it/s]\n",
      " 28%|██▊       | 2383/8415 [00:00<00:00, 23826.78it/s]"
     ]
    },
    {
     "name": "stdout",
     "output_type": "stream",
     "text": [
      "visited3s 0.2656\n"
     ]
    },
    {
     "name": "stderr",
     "output_type": "stream",
     "text": [
      "100%|██████████| 8415/8415 [00:00<00:00, 23722.35it/s]\n",
      " 12%|█▏        | 969/8415 [00:00<00:00, 9689.34it/s]"
     ]
    },
    {
     "name": "stdout",
     "output_type": "stream",
     "text": [
      "visited6s 0.35776\n"
     ]
    },
    {
     "name": "stderr",
     "output_type": "stream",
     "text": [
      "100%|██████████| 8415/8415 [00:00<00:00, 9534.80it/s]\n",
      " 11%|█▏        | 963/8415 [00:00<00:00, 9620.15it/s]"
     ]
    },
    {
     "name": "stdout",
     "output_type": "stream",
     "text": [
      "1128 7031 0.16043237092874413\n",
      "hitRate3s 0.16043237092874413\n"
     ]
    },
    {
     "name": "stderr",
     "output_type": "stream",
     "text": [
      "100%|██████████| 8415/8415 [00:00<00:00, 8864.00it/s]\n"
     ]
    },
    {
     "name": "stdout",
     "output_type": "stream",
     "text": [
      "2061 7031 0.2931304224150192\n",
      "hitRate6s 0.2931304224150192\n"
     ]
    },
    {
     "name": "stderr",
     "output_type": "stream",
     "text": [
      "  2%|▏         | 204/8415 [00:00<00:04, 2036.74it/s]"
     ]
    },
    {
     "name": "stdout",
     "output_type": "stream",
     "text": [
      "ALS model is fitted in 0.2235255241394043 seconds.\n"
     ]
    },
    {
     "name": "stderr",
     "output_type": "stream",
     "text": [
      "100%|██████████| 8415/8415 [00:02<00:00, 3755.55it/s]\n",
      "  4%|▍         | 368/8415 [00:00<00:02, 3671.26it/s]"
     ]
    },
    {
     "name": "stdout",
     "output_type": "stream",
     "text": [
      "1086 8415 0.12905525846702318\n",
      "AP3s 0.12905525846702318\n"
     ]
    },
    {
     "name": "stderr",
     "output_type": "stream",
     "text": [
      "100%|██████████| 8415/8415 [00:02<00:00, 3868.51it/s]\n"
     ]
    },
    {
     "name": "stdout",
     "output_type": "stream",
     "text": [
      "2215 8415 0.26322043969102793\n",
      "AP6s 0.26322043969102793\n",
      "------alphas, itrs, factors------ 0.1 15 10\n"
     ]
    },
    {
     "name": "stderr",
     "output_type": "stream",
     "text": [
      "\r",
      "  0%|          | 0/8415 [00:00<?, ?it/s]"
     ]
    },
    {
     "name": "stdout",
     "output_type": "stream",
     "text": [
      "ALS model is fitted in 0.362781286239624 seconds.\n",
      "annoy time: 0.04450535774230957\n",
      "training and querry time: 0.362781286239624 0.04450535774230957\n"
     ]
    },
    {
     "name": "stderr",
     "output_type": "stream",
     "text": [
      "100%|██████████| 8415/8415 [00:00<00:00, 24902.47it/s]\n",
      " 27%|██▋       | 2311/8415 [00:00<00:00, 23102.92it/s]"
     ]
    },
    {
     "name": "stdout",
     "output_type": "stream",
     "text": [
      "visited3s 0.43790222222222225\n"
     ]
    },
    {
     "name": "stderr",
     "output_type": "stream",
     "text": [
      "100%|██████████| 8415/8415 [00:00<00:00, 22770.38it/s]\n",
      " 11%|█         | 933/8415 [00:00<00:00, 9326.52it/s]"
     ]
    },
    {
     "name": "stdout",
     "output_type": "stream",
     "text": [
      "visited6s 0.5137066666666666\n"
     ]
    },
    {
     "name": "stderr",
     "output_type": "stream",
     "text": [
      "100%|██████████| 8415/8415 [00:00<00:00, 9251.33it/s]\n",
      " 11%|█▏        | 958/8415 [00:00<00:00, 9575.53it/s]"
     ]
    },
    {
     "name": "stdout",
     "output_type": "stream",
     "text": [
      "854 7031 0.1214620964300953\n",
      "hitRate3s 0.1214620964300953\n"
     ]
    },
    {
     "name": "stderr",
     "output_type": "stream",
     "text": [
      "100%|██████████| 8415/8415 [00:00<00:00, 9468.14it/s]\n"
     ]
    },
    {
     "name": "stdout",
     "output_type": "stream",
     "text": [
      "1329 7031 0.1890200540463661\n",
      "hitRate6s 0.1890200540463661\n"
     ]
    },
    {
     "name": "stderr",
     "output_type": "stream",
     "text": [
      "  2%|▏         | 209/8415 [00:00<00:03, 2084.92it/s]"
     ]
    },
    {
     "name": "stdout",
     "output_type": "stream",
     "text": [
      "ALS model is fitted in 0.3595397472381592 seconds.\n"
     ]
    },
    {
     "name": "stderr",
     "output_type": "stream",
     "text": [
      "100%|██████████| 8415/8415 [00:02<00:00, 3807.15it/s]\n",
      "  5%|▍         | 391/8415 [00:00<00:02, 3902.26it/s]"
     ]
    },
    {
     "name": "stdout",
     "output_type": "stream",
     "text": [
      "917 8415 0.10897207367795603\n",
      "AP3s 0.10897207367795603\n"
     ]
    },
    {
     "name": "stderr",
     "output_type": "stream",
     "text": [
      "100%|██████████| 8415/8415 [00:02<00:00, 3858.02it/s]\n"
     ]
    },
    {
     "name": "stdout",
     "output_type": "stream",
     "text": [
      "1772 8415 0.21057635175282233\n",
      "AP6s 0.21057635175282233\n",
      "------alphas, itrs, factors------ 0.1 15 20\n"
     ]
    },
    {
     "name": "stderr",
     "output_type": "stream",
     "text": [
      " 16%|█▌        | 1365/8415 [00:00<00:00, 13644.58it/s]"
     ]
    },
    {
     "name": "stdout",
     "output_type": "stream",
     "text": [
      "ALS model is fitted in 0.5687518119812012 seconds.\n",
      "annoy time: 0.04803323745727539\n",
      "training and querry time: 0.5687518119812012 0.04803323745727539\n"
     ]
    },
    {
     "name": "stderr",
     "output_type": "stream",
     "text": [
      "100%|██████████| 8415/8415 [00:00<00:00, 22191.74it/s]\n",
      " 26%|██▌       | 2198/8415 [00:00<00:00, 21979.29it/s]"
     ]
    },
    {
     "name": "stdout",
     "output_type": "stream",
     "text": [
      "visited3s 0.5356088888888889\n"
     ]
    },
    {
     "name": "stderr",
     "output_type": "stream",
     "text": [
      "100%|██████████| 8415/8415 [00:00<00:00, 21882.32it/s]\n",
      " 11%|█         | 930/8415 [00:00<00:00, 9297.59it/s]"
     ]
    },
    {
     "name": "stdout",
     "output_type": "stream",
     "text": [
      "visited6s 0.6353777777777778\n"
     ]
    },
    {
     "name": "stderr",
     "output_type": "stream",
     "text": [
      "100%|██████████| 8415/8415 [00:00<00:00, 8945.33it/s]\n",
      " 11%|█         | 898/8415 [00:00<00:00, 8973.59it/s]"
     ]
    },
    {
     "name": "stdout",
     "output_type": "stream",
     "text": [
      "413 7031 0.05873986630635756\n",
      "hitRate3s 0.05873986630635756\n"
     ]
    },
    {
     "name": "stderr",
     "output_type": "stream",
     "text": [
      "100%|██████████| 8415/8415 [00:00<00:00, 9018.25it/s]\n"
     ]
    },
    {
     "name": "stdout",
     "output_type": "stream",
     "text": [
      "745 7031 0.10595932299815104\n",
      "hitRate6s 0.10595932299815104\n"
     ]
    },
    {
     "name": "stderr",
     "output_type": "stream",
     "text": [
      "  2%|▏         | 178/8415 [00:00<00:04, 1776.97it/s]"
     ]
    },
    {
     "name": "stdout",
     "output_type": "stream",
     "text": [
      "ALS model is fitted in 0.5923547744750977 seconds.\n"
     ]
    },
    {
     "name": "stderr",
     "output_type": "stream",
     "text": [
      "100%|██████████| 8415/8415 [00:02<00:00, 3571.53it/s]\n",
      "  5%|▍         | 387/8415 [00:00<00:02, 3869.27it/s]"
     ]
    },
    {
     "name": "stdout",
     "output_type": "stream",
     "text": [
      "534 8415 0.06345811051693405\n",
      "AP3s 0.06345811051693405\n"
     ]
    },
    {
     "name": "stderr",
     "output_type": "stream",
     "text": [
      "100%|██████████| 8415/8415 [00:02<00:00, 3781.41it/s]\n"
     ]
    },
    {
     "name": "stdout",
     "output_type": "stream",
     "text": [
      "972 8415 0.11550802139037433\n",
      "AP6s 0.11550802139037433\n",
      "------alphas, itrs, factors------ 0.1 15 40\n"
     ]
    },
    {
     "name": "stderr",
     "output_type": "stream",
     "text": [
      " 17%|█▋        | 1463/8415 [00:00<00:00, 14624.09it/s]"
     ]
    },
    {
     "name": "stdout",
     "output_type": "stream",
     "text": [
      "ALS model is fitted in 3.8977158069610596 seconds.\n",
      "annoy time: 0.04873156547546387\n",
      "training and querry time: 3.8977158069610596 0.04873156547546387\n"
     ]
    },
    {
     "name": "stderr",
     "output_type": "stream",
     "text": [
      "100%|██████████| 8415/8415 [00:00<00:00, 21827.58it/s]\n",
      " 26%|██▌       | 2154/8415 [00:00<00:00, 21532.63it/s]"
     ]
    },
    {
     "name": "stdout",
     "output_type": "stream",
     "text": [
      "visited3s 0.6250666666666667\n"
     ]
    },
    {
     "name": "stderr",
     "output_type": "stream",
     "text": [
      "100%|██████████| 8415/8415 [00:00<00:00, 21661.58it/s]\n",
      " 11%|█         | 893/8415 [00:00<00:00, 8927.58it/s]"
     ]
    },
    {
     "name": "stdout",
     "output_type": "stream",
     "text": [
      "visited6s 0.7715911111111111\n"
     ]
    },
    {
     "name": "stderr",
     "output_type": "stream",
     "text": [
      "100%|██████████| 8415/8415 [00:00<00:00, 9055.37it/s]\n",
      " 11%|█         | 904/8415 [00:00<00:00, 9035.55it/s]"
     ]
    },
    {
     "name": "stdout",
     "output_type": "stream",
     "text": [
      "206 7031 0.029298819513582704\n",
      "hitRate3s 0.029298819513582704\n"
     ]
    },
    {
     "name": "stderr",
     "output_type": "stream",
     "text": [
      "100%|██████████| 8415/8415 [00:00<00:00, 8904.87it/s]\n"
     ]
    },
    {
     "name": "stdout",
     "output_type": "stream",
     "text": [
      "322 7031 0.045797183899871995\n",
      "hitRate6s 0.045797183899871995\n"
     ]
    },
    {
     "name": "stderr",
     "output_type": "stream",
     "text": [
      "  2%|▏         | 202/8415 [00:00<00:04, 2014.43it/s]"
     ]
    },
    {
     "name": "stdout",
     "output_type": "stream",
     "text": [
      "ALS model is fitted in 3.6268422603607178 seconds.\n"
     ]
    },
    {
     "name": "stderr",
     "output_type": "stream",
     "text": [
      "100%|██████████| 8415/8415 [00:02<00:00, 3571.86it/s]\n",
      "  4%|▍         | 366/8415 [00:00<00:02, 3650.11it/s]"
     ]
    },
    {
     "name": "stdout",
     "output_type": "stream",
     "text": [
      "191 8415 0.022697563874034463\n",
      "AP3s 0.022697563874034463\n"
     ]
    },
    {
     "name": "stderr",
     "output_type": "stream",
     "text": [
      "100%|██████████| 8415/8415 [00:02<00:00, 3717.82it/s]\n"
     ]
    },
    {
     "name": "stdout",
     "output_type": "stream",
     "text": [
      "358 8415 0.042543077837195485\n",
      "AP6s 0.042543077837195485\n",
      "------alphas, itrs, factors------ 0.1 15 60\n"
     ]
    },
    {
     "name": "stderr",
     "output_type": "stream",
     "text": [
      "\r",
      "  0%|          | 0/8415 [00:00<?, ?it/s]"
     ]
    },
    {
     "name": "stdout",
     "output_type": "stream",
     "text": [
      "ALS model is fitted in 7.4930126667022705 seconds.\n",
      "annoy time: 0.08044886589050293\n",
      "training and querry time: 7.4930126667022705 0.08044886589050293\n"
     ]
    },
    {
     "name": "stderr",
     "output_type": "stream",
     "text": [
      "100%|██████████| 8415/8415 [00:00<00:00, 16737.44it/s]\n",
      " 23%|██▎       | 1961/8415 [00:00<00:00, 19602.26it/s]"
     ]
    },
    {
     "name": "stdout",
     "output_type": "stream",
     "text": [
      "visited3s 0.6473955555555555\n"
     ]
    },
    {
     "name": "stderr",
     "output_type": "stream",
     "text": [
      "100%|██████████| 8415/8415 [00:00<00:00, 17424.31it/s]\n",
      "  7%|▋         | 599/8415 [00:00<00:01, 5985.68it/s]"
     ]
    },
    {
     "name": "stdout",
     "output_type": "stream",
     "text": [
      "visited6s 0.81408\n"
     ]
    },
    {
     "name": "stderr",
     "output_type": "stream",
     "text": [
      "100%|██████████| 8415/8415 [00:01<00:00, 6409.16it/s]\n",
      " 10%|▉         | 802/8415 [00:00<00:00, 8010.71it/s]"
     ]
    },
    {
     "name": "stdout",
     "output_type": "stream",
     "text": [
      "145 7031 0.020622955482861614\n",
      "hitRate3s 0.020622955482861614\n"
     ]
    },
    {
     "name": "stderr",
     "output_type": "stream",
     "text": [
      "100%|██████████| 8415/8415 [00:01<00:00, 8147.34it/s]\n"
     ]
    },
    {
     "name": "stdout",
     "output_type": "stream",
     "text": [
      "238 7031 0.033850092447731475\n",
      "hitRate6s 0.033850092447731475\n"
     ]
    },
    {
     "name": "stderr",
     "output_type": "stream",
     "text": [
      "  1%|▏         | 106/8415 [00:00<00:07, 1057.78it/s]"
     ]
    },
    {
     "name": "stdout",
     "output_type": "stream",
     "text": [
      "ALS model is fitted in 7.81542444229126 seconds.\n"
     ]
    },
    {
     "name": "stderr",
     "output_type": "stream",
     "text": [
      "100%|██████████| 8415/8415 [00:02<00:00, 3403.75it/s]\n",
      "  4%|▍         | 357/8415 [00:00<00:02, 3563.45it/s]"
     ]
    },
    {
     "name": "stdout",
     "output_type": "stream",
     "text": [
      "105 8415 0.012477718360071301\n",
      "AP3s 0.012477718360071301\n"
     ]
    },
    {
     "name": "stderr",
     "output_type": "stream",
     "text": [
      "100%|██████████| 8415/8415 [00:02<00:00, 3513.05it/s]\n"
     ]
    },
    {
     "name": "stdout",
     "output_type": "stream",
     "text": [
      "242 8415 0.02875816993464052\n",
      "AP6s 0.02875816993464052\n",
      "------alphas, itrs, factors------ 0.1 15 100\n"
     ]
    },
    {
     "name": "stderr",
     "output_type": "stream",
     "text": [
      "  8%|▊         | 714/8415 [00:00<00:01, 7137.30it/s]"
     ]
    },
    {
     "name": "stdout",
     "output_type": "stream",
     "text": [
      "ALS model is fitted in 14.851090431213379 seconds.\n",
      "annoy time: 0.07024121284484863\n",
      "training and querry time: 14.851090431213379 0.07024121284484863\n"
     ]
    },
    {
     "name": "stderr",
     "output_type": "stream",
     "text": [
      "100%|██████████| 8415/8415 [00:00<00:00, 18435.23it/s]\n",
      " 24%|██▍       | 2035/8415 [00:00<00:00, 20347.35it/s]"
     ]
    },
    {
     "name": "stdout",
     "output_type": "stream",
     "text": [
      "visited3s 0.6779022222222222\n"
     ]
    },
    {
     "name": "stderr",
     "output_type": "stream",
     "text": [
      "100%|██████████| 8415/8415 [00:00<00:00, 19726.58it/s]\n",
      " 10%|█         | 850/8415 [00:00<00:00, 8494.30it/s]"
     ]
    },
    {
     "name": "stdout",
     "output_type": "stream",
     "text": [
      "visited6s 0.8644977777777778\n"
     ]
    },
    {
     "name": "stderr",
     "output_type": "stream",
     "text": [
      "100%|██████████| 8415/8415 [00:00<00:00, 8515.50it/s]\n",
      " 10%|▉         | 808/8415 [00:00<00:00, 8077.37it/s]"
     ]
    },
    {
     "name": "stdout",
     "output_type": "stream",
     "text": [
      "104 7031 0.014791637035983502\n",
      "hitRate3s 0.014791637035983502\n"
     ]
    },
    {
     "name": "stderr",
     "output_type": "stream",
     "text": [
      "100%|██████████| 8415/8415 [00:00<00:00, 8442.21it/s]\n"
     ]
    },
    {
     "name": "stdout",
     "output_type": "stream",
     "text": [
      "180 7031 0.02560091025458683\n",
      "hitRate6s 0.02560091025458683\n"
     ]
    },
    {
     "name": "stderr",
     "output_type": "stream",
     "text": [
      "  1%|          | 101/8415 [00:00<00:08, 1009.10it/s]"
     ]
    },
    {
     "name": "stdout",
     "output_type": "stream",
     "text": [
      "ALS model is fitted in 15.98782992362976 seconds.\n"
     ]
    },
    {
     "name": "stderr",
     "output_type": "stream",
     "text": [
      "100%|██████████| 8415/8415 [00:02<00:00, 3330.20it/s]\n",
      "  4%|▍         | 317/8415 [00:00<00:02, 3168.33it/s]"
     ]
    },
    {
     "name": "stdout",
     "output_type": "stream",
     "text": [
      "46 8415 0.00546642899584076\n",
      "AP3s 0.00546642899584076\n"
     ]
    },
    {
     "name": "stderr",
     "output_type": "stream",
     "text": [
      "100%|██████████| 8415/8415 [00:02<00:00, 3493.97it/s]\n"
     ]
    },
    {
     "name": "stdout",
     "output_type": "stream",
     "text": [
      "140 8415 0.016636957813428402\n",
      "AP6s 0.016636957813428402\n",
      "View matrix loaded in 0.10509467124938965 seconds.\n",
      "Number of users which should be deleted: 7879\n",
      "Number products which should be deleted: 75\n",
      "Number of users which should be deleted: 4\n",
      "Number products which should be deleted: 0\n",
      "Number of users which should be deleted: 0\n",
      "Number products which should be deleted: 0\n",
      "matrix has been made dense in 0.3442525863647461 seconds.\n",
      "------alphas, itrs, factors: 0.1 15 5 ------\n",
      "ALS model is fitted in 0.02778792381286621 seconds.\n",
      "MSE 0.007777790674847153\n",
      "------alphas, itrs, factors: 0.1 15 10 ------\n",
      "ALS model is fitted in 0.04601287841796875 seconds.\n",
      "MSE 0.005448706644615988\n",
      "------alphas, itrs, factors: 0.1 15 20 ------\n",
      "ALS model is fitted in 0.08534598350524902 seconds.\n",
      "MSE 0.0031268890144342046\n",
      "------alphas, itrs, factors: 0.1 15 40 ------\n",
      "ALS model is fitted in 0.3571178913116455 seconds.\n",
      "MSE 0.001096074055719031\n",
      "------alphas, itrs, factors: 0.1 15 60 ------\n",
      "ALS model is fitted in 0.7386984825134277 seconds.\n",
      "MSE 0.000561910656017558\n",
      "------alphas, itrs, factors: 0.1 15 100 ------\n",
      "ALS model is fitted in 1.7535319328308105 seconds.\n",
      "MSE 8.989621069879784e-05\n"
     ]
    }
   ],
   "source": [
    "visited3s1, visited6s1, hitRate3s1, hitRate6s1, AP3s1, AP6s1, trainingTime1, qTime1 = \\\n",
    "calc_visited_hitRate(alphas1, itrs1, factors1, _l = 2, data_set_size = TEST_SET_SIZE, log = True)\n",
    "MSE1 = calc_mse__(alphas1, itrs1, factors1, _l = 2, data_set_size = TEST_SET_SIZE1, log = True)\n",
    "MSEs.append(MSE1)\n",
    "visited3s.append(visited3s1)\n",
    "visited6s.append(visited6s1)\n",
    "hitRate3s.append(hitRate3s1)\n",
    "hitRate6s.append(hitRate6s1)\n",
    "AP3s.append(AP3s1)\n",
    "AP6s.append(AP6s1)\n",
    "trainingTime.append(trainingTime1)\n",
    "qTime.append(qTime1)"
   ]
  },
  {
   "cell_type": "code",
   "execution_count": 18,
   "id": "athletic-charles",
   "metadata": {
    "scrolled": true
   },
   "outputs": [
    {
     "name": "stdout",
     "output_type": "stream",
     "text": [
      "View matrix loaded in 0.15435791015625 seconds.\n",
      "Number of users which should be deleted: 7879\n",
      "Number products which should be deleted: 75\n",
      "Number of users which should be deleted: 4\n",
      "Number products which should be deleted: 0\n",
      "Number of users which should be deleted: 0\n",
      "Number products which should be deleted: 0\n",
      "matrix has been made dense in 0.3578779697418213 seconds.\n",
      "test_shape (8415, 435) train_shape (which we cant process bc of RAM) (84, 435)\n",
      "total cells 35156 number of deleted cells 8415\n"
     ]
    },
    {
     "name": "stderr",
     "output_type": "stream",
     "text": [
      "188it [00:00, 1874.77it/s]"
     ]
    },
    {
     "name": "stdout",
     "output_type": "stream",
     "text": [
      "test_shape (8415, 435) train_shape (which we cant process bc of RAM) (84, 435)\n",
      "total cells 35156 number of deleted cells 7031\n"
     ]
    },
    {
     "name": "stderr",
     "output_type": "stream",
     "text": [
      "35156it [00:20, 1701.63it/s]\n"
     ]
    },
    {
     "name": "stdout",
     "output_type": "stream",
     "text": [
      "------alphas, itrs, factors------ 10 15 5\n"
     ]
    },
    {
     "name": "stderr",
     "output_type": "stream",
     "text": [
      "\r",
      "  0%|          | 0/8415 [00:00<?, ?it/s]"
     ]
    },
    {
     "name": "stdout",
     "output_type": "stream",
     "text": [
      "ALS model is fitted in 0.26758694648742676 seconds.\n",
      "annoy time: 0.05460000038146973\n",
      "training and querry time: 0.26758694648742676 0.05460000038146973\n"
     ]
    },
    {
     "name": "stderr",
     "output_type": "stream",
     "text": [
      "100%|██████████| 8415/8415 [00:00<00:00, 20286.84it/s]\n",
      " 21%|██▏       | 1805/8415 [00:00<00:00, 18043.44it/s]"
     ]
    },
    {
     "name": "stdout",
     "output_type": "stream",
     "text": [
      "visited3s 0.3409066666666667\n"
     ]
    },
    {
     "name": "stderr",
     "output_type": "stream",
     "text": [
      "100%|██████████| 8415/8415 [00:00<00:00, 19305.57it/s]\n",
      "  9%|▉         | 799/8415 [00:00<00:00, 7986.88it/s]"
     ]
    },
    {
     "name": "stdout",
     "output_type": "stream",
     "text": [
      "visited6s 0.5249777777777778\n"
     ]
    },
    {
     "name": "stderr",
     "output_type": "stream",
     "text": [
      "100%|██████████| 8415/8415 [00:00<00:00, 8497.82it/s]\n",
      " 10%|▉         | 820/8415 [00:00<00:00, 8199.62it/s]"
     ]
    },
    {
     "name": "stdout",
     "output_type": "stream",
     "text": [
      "971 7031 0.13810268809557674\n",
      "hitRate3s 0.13810268809557674\n"
     ]
    },
    {
     "name": "stderr",
     "output_type": "stream",
     "text": [
      "100%|██████████| 8415/8415 [00:01<00:00, 8242.82it/s]\n"
     ]
    },
    {
     "name": "stdout",
     "output_type": "stream",
     "text": [
      "1569 7031 0.22315460105248186\n",
      "hitRate6s 0.22315460105248186\n"
     ]
    },
    {
     "name": "stderr",
     "output_type": "stream",
     "text": [
      "  2%|▏         | 152/8415 [00:00<00:05, 1516.93it/s]"
     ]
    },
    {
     "name": "stdout",
     "output_type": "stream",
     "text": [
      "ALS model is fitted in 0.25611233711242676 seconds.\n"
     ]
    },
    {
     "name": "stderr",
     "output_type": "stream",
     "text": [
      "100%|██████████| 8415/8415 [00:02<00:00, 3285.41it/s]\n",
      "  4%|▍         | 344/8415 [00:00<00:02, 3428.32it/s]"
     ]
    },
    {
     "name": "stdout",
     "output_type": "stream",
     "text": [
      "829 8415 0.09851455733808676\n",
      "AP3s 0.09851455733808676\n"
     ]
    },
    {
     "name": "stderr",
     "output_type": "stream",
     "text": [
      "100%|██████████| 8415/8415 [00:02<00:00, 3522.78it/s]\n"
     ]
    },
    {
     "name": "stdout",
     "output_type": "stream",
     "text": [
      "1404 8415 0.16684491978609625\n",
      "AP6s 0.16684491978609625\n",
      "------alphas, itrs, factors------ 10 15 10\n"
     ]
    },
    {
     "name": "stderr",
     "output_type": "stream",
     "text": [
      " 16%|█▌        | 1312/8415 [00:00<00:00, 13119.26it/s]"
     ]
    },
    {
     "name": "stdout",
     "output_type": "stream",
     "text": [
      "ALS model is fitted in 0.4179956912994385 seconds.\n",
      "annoy time: 0.05089592933654785\n",
      "training and querry time: 0.4179956912994385 0.05089592933654785\n"
     ]
    },
    {
     "name": "stderr",
     "output_type": "stream",
     "text": [
      "100%|██████████| 8415/8415 [00:00<00:00, 19909.88it/s]\n",
      " 23%|██▎       | 1941/8415 [00:00<00:00, 19401.92it/s]"
     ]
    },
    {
     "name": "stdout",
     "output_type": "stream",
     "text": [
      "visited3s 0.48992\n"
     ]
    },
    {
     "name": "stderr",
     "output_type": "stream",
     "text": [
      "100%|██████████| 8415/8415 [00:00<00:00, 19861.07it/s]\n",
      "  9%|▉         | 758/8415 [00:00<00:01, 7579.47it/s]"
     ]
    },
    {
     "name": "stdout",
     "output_type": "stream",
     "text": [
      "visited6s 0.6533688888888889\n"
     ]
    },
    {
     "name": "stderr",
     "output_type": "stream",
     "text": [
      "100%|██████████| 8415/8415 [00:01<00:00, 7928.88it/s]\n",
      "  9%|▉         | 782/8415 [00:00<00:00, 7816.24it/s]"
     ]
    },
    {
     "name": "stdout",
     "output_type": "stream",
     "text": [
      "808 7031 0.11491964158725644\n",
      "hitRate3s 0.11491964158725644\n"
     ]
    },
    {
     "name": "stderr",
     "output_type": "stream",
     "text": [
      "100%|██████████| 8415/8415 [00:01<00:00, 6972.97it/s]\n"
     ]
    },
    {
     "name": "stdout",
     "output_type": "stream",
     "text": [
      "1373 7031 0.19527805433082066\n",
      "hitRate6s 0.19527805433082066\n"
     ]
    },
    {
     "name": "stderr",
     "output_type": "stream",
     "text": [
      "  1%|          | 62/8415 [00:00<00:13, 618.39it/s]"
     ]
    },
    {
     "name": "stdout",
     "output_type": "stream",
     "text": [
      "ALS model is fitted in 0.457460880279541 seconds.\n"
     ]
    },
    {
     "name": "stderr",
     "output_type": "stream",
     "text": [
      "100%|██████████| 8415/8415 [00:02<00:00, 3279.45it/s]\n",
      "  4%|▎         | 313/8415 [00:00<00:02, 3126.80it/s]"
     ]
    },
    {
     "name": "stdout",
     "output_type": "stream",
     "text": [
      "668 8415 0.07938205585264409\n",
      "AP3s 0.07938205585264409\n"
     ]
    },
    {
     "name": "stderr",
     "output_type": "stream",
     "text": [
      "100%|██████████| 8415/8415 [00:02<00:00, 3519.00it/s]\n"
     ]
    },
    {
     "name": "stdout",
     "output_type": "stream",
     "text": [
      "1263 8415 0.1500891265597148\n",
      "AP6s 0.1500891265597148\n",
      "------alphas, itrs, factors------ 10 15 20\n"
     ]
    },
    {
     "name": "stderr",
     "output_type": "stream",
     "text": [
      " 16%|█▌        | 1338/8415 [00:00<00:00, 13375.23it/s]"
     ]
    },
    {
     "name": "stdout",
     "output_type": "stream",
     "text": [
      "ALS model is fitted in 0.6051254272460938 seconds.\n",
      "annoy time: 0.06154036521911621\n",
      "training and querry time: 0.6051254272460938 0.06154036521911621\n"
     ]
    },
    {
     "name": "stderr",
     "output_type": "stream",
     "text": [
      "100%|██████████| 8415/8415 [00:00<00:00, 20706.20it/s]\n",
      " 24%|██▍       | 2028/8415 [00:00<00:00, 20278.09it/s]"
     ]
    },
    {
     "name": "stdout",
     "output_type": "stream",
     "text": [
      "visited3s 0.6213333333333333\n"
     ]
    },
    {
     "name": "stderr",
     "output_type": "stream",
     "text": [
      "100%|██████████| 8415/8415 [00:00<00:00, 20850.43it/s]\n",
      " 10%|▉         | 801/8415 [00:00<00:00, 8004.11it/s]"
     ]
    },
    {
     "name": "stdout",
     "output_type": "stream",
     "text": [
      "visited6s 0.7903644444444444\n"
     ]
    },
    {
     "name": "stderr",
     "output_type": "stream",
     "text": [
      "100%|██████████| 8415/8415 [00:01<00:00, 8413.18it/s]\n",
      "  9%|▉         | 747/8415 [00:00<00:01, 7468.12it/s]"
     ]
    },
    {
     "name": "stdout",
     "output_type": "stream",
     "text": [
      "731 7031 0.10396814108946095\n",
      "hitRate3s 0.10396814108946095\n"
     ]
    },
    {
     "name": "stderr",
     "output_type": "stream",
     "text": [
      "100%|██████████| 8415/8415 [00:01<00:00, 8066.58it/s]\n"
     ]
    },
    {
     "name": "stdout",
     "output_type": "stream",
     "text": [
      "1189 7031 0.16910823495946523\n",
      "hitRate6s 0.16910823495946523\n"
     ]
    },
    {
     "name": "stderr",
     "output_type": "stream",
     "text": [
      "  1%|          | 93/8415 [00:00<00:08, 927.69it/s]"
     ]
    },
    {
     "name": "stdout",
     "output_type": "stream",
     "text": [
      "ALS model is fitted in 0.6362824440002441 seconds.\n"
     ]
    },
    {
     "name": "stderr",
     "output_type": "stream",
     "text": [
      "100%|██████████| 8415/8415 [00:02<00:00, 3228.04it/s]\n",
      "  4%|▎         | 313/8415 [00:00<00:02, 3126.96it/s]"
     ]
    },
    {
     "name": "stdout",
     "output_type": "stream",
     "text": [
      "546 8415 0.06488413547237076\n",
      "AP3s 0.06488413547237076\n"
     ]
    },
    {
     "name": "stderr",
     "output_type": "stream",
     "text": [
      "100%|██████████| 8415/8415 [00:02<00:00, 3429.22it/s]\n"
     ]
    },
    {
     "name": "stdout",
     "output_type": "stream",
     "text": [
      "1144 8415 0.13594771241830064\n",
      "AP6s 0.13594771241830064\n",
      "------alphas, itrs, factors------ 10 15 40\n"
     ]
    },
    {
     "name": "stderr",
     "output_type": "stream",
     "text": [
      " 17%|█▋        | 1401/8415 [00:00<00:00, 14009.25it/s]"
     ]
    },
    {
     "name": "stdout",
     "output_type": "stream",
     "text": [
      "ALS model is fitted in 3.9856436252593994 seconds.\n",
      "annoy time: 0.05905795097351074\n",
      "training and querry time: 3.9856436252593994 0.05905795097351074\n"
     ]
    },
    {
     "name": "stderr",
     "output_type": "stream",
     "text": [
      "100%|██████████| 8415/8415 [00:00<00:00, 20308.67it/s]\n",
      " 23%|██▎       | 1929/8415 [00:00<00:00, 19282.34it/s]"
     ]
    },
    {
     "name": "stdout",
     "output_type": "stream",
     "text": [
      "visited3s 0.6872533333333334\n"
     ]
    },
    {
     "name": "stderr",
     "output_type": "stream",
     "text": [
      "100%|██████████| 8415/8415 [00:00<00:00, 19639.39it/s]\n",
      " 10%|▉         | 808/8415 [00:00<00:00, 8074.37it/s]"
     ]
    },
    {
     "name": "stdout",
     "output_type": "stream",
     "text": [
      "visited6s 0.8910933333333333\n"
     ]
    },
    {
     "name": "stderr",
     "output_type": "stream",
     "text": [
      "100%|██████████| 8415/8415 [00:00<00:00, 8641.51it/s]\n",
      "  9%|▉         | 781/8415 [00:00<00:00, 7803.55it/s]"
     ]
    },
    {
     "name": "stdout",
     "output_type": "stream",
     "text": [
      "484 7031 0.06883800312900014\n",
      "hitRate3s 0.06883800312900014\n"
     ]
    },
    {
     "name": "stderr",
     "output_type": "stream",
     "text": [
      "100%|██████████| 8415/8415 [00:00<00:00, 8609.07it/s]\n"
     ]
    },
    {
     "name": "stdout",
     "output_type": "stream",
     "text": [
      "693 7031 0.0985635044801593\n",
      "hitRate6s 0.0985635044801593\n"
     ]
    },
    {
     "name": "stderr",
     "output_type": "stream",
     "text": [
      "  2%|▏         | 155/8415 [00:00<00:05, 1545.44it/s]"
     ]
    },
    {
     "name": "stdout",
     "output_type": "stream",
     "text": [
      "ALS model is fitted in 4.085539102554321 seconds.\n"
     ]
    },
    {
     "name": "stderr",
     "output_type": "stream",
     "text": [
      "100%|██████████| 8415/8415 [00:02<00:00, 3365.27it/s]\n",
      "  4%|▍         | 331/8415 [00:00<00:02, 3309.61it/s]"
     ]
    },
    {
     "name": "stdout",
     "output_type": "stream",
     "text": [
      "371 8415 0.044087938205585264\n",
      "AP3s 0.044087938205585264\n"
     ]
    },
    {
     "name": "stderr",
     "output_type": "stream",
     "text": [
      "100%|██████████| 8415/8415 [00:02<00:00, 3516.27it/s]\n"
     ]
    },
    {
     "name": "stdout",
     "output_type": "stream",
     "text": [
      "723 8415 0.08591800356506239\n",
      "AP6s 0.08591800356506239\n",
      "------alphas, itrs, factors------ 10 15 60\n"
     ]
    },
    {
     "name": "stderr",
     "output_type": "stream",
     "text": [
      " 10%|▉         | 825/8415 [00:00<00:00, 8246.67it/s]"
     ]
    },
    {
     "name": "stdout",
     "output_type": "stream",
     "text": [
      "ALS model is fitted in 6.319297552108765 seconds.\n",
      "annoy time: 0.06398606300354004\n",
      "training and querry time: 6.319297552108765 0.06398606300354004\n"
     ]
    },
    {
     "name": "stderr",
     "output_type": "stream",
     "text": [
      "100%|██████████| 8415/8415 [00:00<00:00, 19184.74it/s]\n",
      " 23%|██▎       | 1942/8415 [00:00<00:00, 19414.37it/s]"
     ]
    },
    {
     "name": "stdout",
     "output_type": "stream",
     "text": [
      "visited3s 0.7034311111111111\n"
     ]
    },
    {
     "name": "stderr",
     "output_type": "stream",
     "text": [
      "100%|██████████| 8415/8415 [00:00<00:00, 19885.51it/s]\n",
      " 10%|█         | 847/8415 [00:00<00:00, 8468.49it/s]"
     ]
    },
    {
     "name": "stdout",
     "output_type": "stream",
     "text": [
      "visited6s 0.9136\n"
     ]
    },
    {
     "name": "stderr",
     "output_type": "stream",
     "text": [
      "100%|██████████| 8415/8415 [00:01<00:00, 8351.21it/s]\n",
      " 10%|█         | 850/8415 [00:00<00:00, 8498.27it/s]"
     ]
    },
    {
     "name": "stdout",
     "output_type": "stream",
     "text": [
      "379 7031 0.05390413881382449\n",
      "hitRate3s 0.05390413881382449\n"
     ]
    },
    {
     "name": "stderr",
     "output_type": "stream",
     "text": [
      "100%|██████████| 8415/8415 [00:00<00:00, 8686.50it/s]\n"
     ]
    },
    {
     "name": "stdout",
     "output_type": "stream",
     "text": [
      "530 7031 0.075380457971839\n",
      "hitRate6s 0.075380457971839\n"
     ]
    },
    {
     "name": "stderr",
     "output_type": "stream",
     "text": [
      "  2%|▏         | 175/8415 [00:00<00:04, 1747.90it/s]"
     ]
    },
    {
     "name": "stdout",
     "output_type": "stream",
     "text": [
      "ALS model is fitted in 6.3084797859191895 seconds.\n"
     ]
    },
    {
     "name": "stderr",
     "output_type": "stream",
     "text": [
      "100%|██████████| 8415/8415 [00:02<00:00, 3375.01it/s]\n",
      "  8%|▊         | 684/8415 [00:00<00:02, 3420.56it/s]"
     ]
    },
    {
     "name": "stdout",
     "output_type": "stream",
     "text": [
      "272 8415 0.03232323232323232\n",
      "AP3s 0.03232323232323232\n"
     ]
    },
    {
     "name": "stderr",
     "output_type": "stream",
     "text": [
      "100%|██████████| 8415/8415 [00:02<00:00, 3465.75it/s]\n"
     ]
    },
    {
     "name": "stdout",
     "output_type": "stream",
     "text": [
      "527 8415 0.06262626262626263\n",
      "AP6s 0.06262626262626263\n",
      "------alphas, itrs, factors------ 10 15 100\n"
     ]
    },
    {
     "name": "stderr",
     "output_type": "stream",
     "text": [
      "\r",
      "  0%|          | 0/8415 [00:00<?, ?it/s]"
     ]
    },
    {
     "name": "stdout",
     "output_type": "stream",
     "text": [
      "ALS model is fitted in 15.401582956314087 seconds.\n",
      "annoy time: 0.07296109199523926\n",
      "training and querry time: 15.401582956314087 0.07296109199523926\n"
     ]
    },
    {
     "name": "stderr",
     "output_type": "stream",
     "text": [
      "100%|██████████| 8415/8415 [00:00<00:00, 20132.48it/s]\n",
      " 23%|██▎       | 1935/8415 [00:00<00:00, 19347.90it/s]"
     ]
    },
    {
     "name": "stdout",
     "output_type": "stream",
     "text": [
      "visited3s 0.7124977777777778\n"
     ]
    },
    {
     "name": "stderr",
     "output_type": "stream",
     "text": [
      "100%|██████████| 8415/8415 [00:00<00:00, 18964.68it/s]\n",
      "  9%|▉         | 761/8415 [00:00<00:01, 7607.96it/s]"
     ]
    },
    {
     "name": "stdout",
     "output_type": "stream",
     "text": [
      "visited6s 0.9244088888888888\n"
     ]
    },
    {
     "name": "stderr",
     "output_type": "stream",
     "text": [
      "100%|██████████| 8415/8415 [00:00<00:00, 8426.15it/s]\n",
      " 10%|█         | 847/8415 [00:00<00:00, 8466.96it/s]"
     ]
    },
    {
     "name": "stdout",
     "output_type": "stream",
     "text": [
      "204 7031 0.029014364955198407\n",
      "hitRate3s 0.029014364955198407\n"
     ]
    },
    {
     "name": "stderr",
     "output_type": "stream",
     "text": [
      "100%|██████████| 8415/8415 [00:00<00:00, 8513.63it/s]\n"
     ]
    },
    {
     "name": "stdout",
     "output_type": "stream",
     "text": [
      "310 7031 0.044090456549566205\n",
      "hitRate6s 0.044090456549566205\n"
     ]
    },
    {
     "name": "stderr",
     "output_type": "stream",
     "text": [
      "  1%|          | 88/8415 [00:00<00:09, 879.79it/s]"
     ]
    },
    {
     "name": "stdout",
     "output_type": "stream",
     "text": [
      "ALS model is fitted in 15.1312255859375 seconds.\n"
     ]
    },
    {
     "name": "stderr",
     "output_type": "stream",
     "text": [
      "100%|██████████| 8415/8415 [00:02<00:00, 3366.67it/s]\n",
      "  4%|▍         | 355/8415 [00:00<00:02, 3541.37it/s]"
     ]
    },
    {
     "name": "stdout",
     "output_type": "stream",
     "text": [
      "121 8415 0.01437908496732026\n",
      "AP3s 0.01437908496732026\n"
     ]
    },
    {
     "name": "stderr",
     "output_type": "stream",
     "text": [
      "100%|██████████| 8415/8415 [00:02<00:00, 3493.25it/s]\n"
     ]
    },
    {
     "name": "stdout",
     "output_type": "stream",
     "text": [
      "294 8415 0.03493761140819964\n",
      "AP6s 0.03493761140819964\n",
      "View matrix loaded in 0.11051821708679199 seconds.\n",
      "Number of users which should be deleted: 7879\n",
      "Number products which should be deleted: 75\n",
      "Number of users which should be deleted: 4\n",
      "Number products which should be deleted: 0\n",
      "Number of users which should be deleted: 0\n",
      "Number products which should be deleted: 0\n",
      "matrix has been made dense in 0.3554704189300537 seconds.\n",
      "------alphas, itrs, factors: 10 15 5 ------\n",
      "ALS model is fitted in 0.024465322494506836 seconds.\n",
      "MSE 0.016750874306804046\n",
      "------alphas, itrs, factors: 10 15 10 ------\n",
      "ALS model is fitted in 0.04992866516113281 seconds.\n",
      "MSE 0.012445527169990839\n",
      "------alphas, itrs, factors: 10 15 20 ------\n",
      "ALS model is fitted in 0.08289146423339844 seconds.\n",
      "MSE 0.00659681062509547\n",
      "------alphas, itrs, factors: 10 15 40 ------\n",
      "ALS model is fitted in 0.46262264251708984 seconds.\n",
      "MSE 0.00215602661957078\n",
      "------alphas, itrs, factors: 10 15 60 ------\n",
      "ALS model is fitted in 0.8112809658050537 seconds.\n",
      "MSE 0.0007834477284938677\n",
      "------alphas, itrs, factors: 10 15 100 ------\n",
      "ALS model is fitted in 1.7756903171539307 seconds.\n",
      "MSE 7.730236993995635e-05\n"
     ]
    }
   ],
   "source": [
    "visited3s2, visited6s2, hitRate3s2, hitRate6s2, AP3s2, AP6s2, trainingTime2, qTime2 = \\\n",
    "calc_visited_hitRate(alphas2, itrs2, factors2, _l = 2, data_set_size = TEST_SET_SIZE, log = True)\n",
    "MSE2 = calc_mse__(alphas2, itrs2, factors2, _l = 2, data_set_size = TEST_SET_SIZE1, log = True)\n",
    "MSEs.append(MSE2)\n",
    "visited3s.append(visited3s2)\n",
    "visited6s.append(visited6s2)\n",
    "hitRate3s.append(hitRate3s2)\n",
    "hitRate6s.append(hitRate6s2)\n",
    "AP3s.append(AP3s2)\n",
    "AP6s.append(AP6s2)\n",
    "trainingTime.append(trainingTime2)\n",
    "qTime.append(qTime2)"
   ]
  },
  {
   "cell_type": "code",
   "execution_count": 19,
   "id": "defined-monkey",
   "metadata": {
    "scrolled": true
   },
   "outputs": [
    {
     "name": "stdout",
     "output_type": "stream",
     "text": [
      "View matrix loaded in 0.15833592414855957 seconds.\n",
      "Number of users which should be deleted: 7879\n",
      "Number products which should be deleted: 75\n",
      "Number of users which should be deleted: 4\n",
      "Number products which should be deleted: 0\n",
      "Number of users which should be deleted: 0\n",
      "Number products which should be deleted: 0\n",
      "matrix has been made dense in 0.38319897651672363 seconds.\n",
      "test_shape (8415, 435) train_shape (which we cant process bc of RAM) (84, 435)\n",
      "total cells 35156 number of deleted cells 8415\n"
     ]
    },
    {
     "name": "stderr",
     "output_type": "stream",
     "text": [
      "183it [00:00, 1827.04it/s]"
     ]
    },
    {
     "name": "stdout",
     "output_type": "stream",
     "text": [
      "test_shape (8415, 435) train_shape (which we cant process bc of RAM) (84, 435)\n",
      "total cells 35156 number of deleted cells 7031\n"
     ]
    },
    {
     "name": "stderr",
     "output_type": "stream",
     "text": [
      "35156it [00:20, 1725.77it/s]\n"
     ]
    },
    {
     "name": "stdout",
     "output_type": "stream",
     "text": [
      "------alphas, itrs, factors------ 100 15 5\n"
     ]
    },
    {
     "name": "stderr",
     "output_type": "stream",
     "text": [
      "\r",
      "  0%|          | 0/8415 [00:00<?, ?it/s]"
     ]
    },
    {
     "name": "stdout",
     "output_type": "stream",
     "text": [
      "ALS model is fitted in 0.2591080665588379 seconds.\n",
      "annoy time: 0.054854393005371094\n",
      "training and querry time: 0.2591080665588379 0.054854393005371094\n"
     ]
    },
    {
     "name": "stderr",
     "output_type": "stream",
     "text": [
      "100%|██████████| 8415/8415 [00:00<00:00, 18399.04it/s]\n",
      " 24%|██▍       | 2024/8415 [00:00<00:00, 20231.29it/s]"
     ]
    },
    {
     "name": "stdout",
     "output_type": "stream",
     "text": [
      "visited3s 0.16675555555555555\n"
     ]
    },
    {
     "name": "stderr",
     "output_type": "stream",
     "text": [
      "100%|██████████| 8415/8415 [00:00<00:00, 20077.14it/s]\n",
      " 10%|▉         | 807/8415 [00:00<00:00, 8062.13it/s]"
     ]
    },
    {
     "name": "stdout",
     "output_type": "stream",
     "text": [
      "visited6s 0.32835555555555557\n"
     ]
    },
    {
     "name": "stderr",
     "output_type": "stream",
     "text": [
      "100%|██████████| 8415/8415 [00:01<00:00, 8122.26it/s]\n",
      "  8%|▊         | 711/8415 [00:00<00:01, 7107.87it/s]"
     ]
    },
    {
     "name": "stdout",
     "output_type": "stream",
     "text": [
      "811 7031 0.11534632342483288\n",
      "hitRate3s 0.11534632342483288\n"
     ]
    },
    {
     "name": "stderr",
     "output_type": "stream",
     "text": [
      "100%|██████████| 8415/8415 [00:01<00:00, 7972.77it/s]\n"
     ]
    },
    {
     "name": "stdout",
     "output_type": "stream",
     "text": [
      "1355 7031 0.19271796330536198\n",
      "hitRate6s 0.19271796330536198\n"
     ]
    },
    {
     "name": "stderr",
     "output_type": "stream",
     "text": [
      "  2%|▏         | 149/8415 [00:00<00:05, 1486.77it/s]"
     ]
    },
    {
     "name": "stdout",
     "output_type": "stream",
     "text": [
      "ALS model is fitted in 0.2630002498626709 seconds.\n"
     ]
    },
    {
     "name": "stderr",
     "output_type": "stream",
     "text": [
      "100%|██████████| 8415/8415 [00:02<00:00, 3417.18it/s]\n",
      "  4%|▍         | 339/8415 [00:00<00:02, 3384.21it/s]"
     ]
    },
    {
     "name": "stdout",
     "output_type": "stream",
     "text": [
      "819 8415 0.09732620320855614\n",
      "AP3s 0.09732620320855614\n"
     ]
    },
    {
     "name": "stderr",
     "output_type": "stream",
     "text": [
      "100%|██████████| 8415/8415 [00:02<00:00, 3391.53it/s]\n"
     ]
    },
    {
     "name": "stdout",
     "output_type": "stream",
     "text": [
      "1392 8415 0.16541889483065952\n",
      "AP6s 0.16541889483065952\n",
      "------alphas, itrs, factors------ 100 15 10\n"
     ]
    },
    {
     "name": "stderr",
     "output_type": "stream",
     "text": [
      " 15%|█▍        | 1237/8415 [00:00<00:00, 12369.42it/s]"
     ]
    },
    {
     "name": "stdout",
     "output_type": "stream",
     "text": [
      "ALS model is fitted in 0.4022698402404785 seconds.\n",
      "annoy time: 0.05366253852844238\n",
      "training and querry time: 0.4022698402404785 0.05366253852844238\n"
     ]
    },
    {
     "name": "stderr",
     "output_type": "stream",
     "text": [
      "100%|██████████| 8415/8415 [00:00<00:00, 20035.30it/s]\n",
      " 23%|██▎       | 1903/8415 [00:00<00:00, 19024.39it/s]"
     ]
    },
    {
     "name": "stdout",
     "output_type": "stream",
     "text": [
      "visited3s 0.2971022222222222\n"
     ]
    },
    {
     "name": "stderr",
     "output_type": "stream",
     "text": [
      "100%|██████████| 8415/8415 [00:00<00:00, 19951.03it/s]\n",
      "  9%|▉         | 777/8415 [00:00<00:00, 7762.20it/s]"
     ]
    },
    {
     "name": "stdout",
     "output_type": "stream",
     "text": [
      "visited6s 0.5173688888888889\n"
     ]
    },
    {
     "name": "stderr",
     "output_type": "stream",
     "text": [
      "100%|██████████| 8415/8415 [00:01<00:00, 8090.27it/s]\n",
      " 10%|▉         | 814/8415 [00:00<00:00, 8138.69it/s]"
     ]
    },
    {
     "name": "stdout",
     "output_type": "stream",
     "text": [
      "742 7031 0.10553264116057459\n",
      "hitRate3s 0.10553264116057459\n"
     ]
    },
    {
     "name": "stderr",
     "output_type": "stream",
     "text": [
      "100%|██████████| 8415/8415 [00:01<00:00, 8267.73it/s]\n"
     ]
    },
    {
     "name": "stdout",
     "output_type": "stream",
     "text": [
      "1272 7031 0.1809130991324136\n",
      "hitRate6s 0.1809130991324136\n"
     ]
    },
    {
     "name": "stderr",
     "output_type": "stream",
     "text": [
      "  2%|▏         | 154/8415 [00:00<00:05, 1535.49it/s]"
     ]
    },
    {
     "name": "stdout",
     "output_type": "stream",
     "text": [
      "ALS model is fitted in 0.4242374897003174 seconds.\n"
     ]
    },
    {
     "name": "stderr",
     "output_type": "stream",
     "text": [
      "100%|██████████| 8415/8415 [00:02<00:00, 3365.57it/s]\n",
      "  4%|▍         | 326/8415 [00:00<00:02, 3254.82it/s]"
     ]
    },
    {
     "name": "stdout",
     "output_type": "stream",
     "text": [
      "712 8415 0.08461081402257872\n",
      "AP3s 0.08461081402257872\n"
     ]
    },
    {
     "name": "stderr",
     "output_type": "stream",
     "text": [
      "100%|██████████| 8415/8415 [00:02<00:00, 3546.80it/s]\n"
     ]
    },
    {
     "name": "stdout",
     "output_type": "stream",
     "text": [
      "1188 8415 0.1411764705882353\n",
      "AP6s 0.1411764705882353\n",
      "------alphas, itrs, factors------ 100 15 20\n"
     ]
    },
    {
     "name": "stderr",
     "output_type": "stream",
     "text": [
      " 14%|█▍        | 1161/8415 [00:00<00:00, 11604.84it/s]"
     ]
    },
    {
     "name": "stdout",
     "output_type": "stream",
     "text": [
      "ALS model is fitted in 0.6431939601898193 seconds.\n",
      "annoy time: 0.04240584373474121\n",
      "training and querry time: 0.6431939601898193 0.04240584373474121\n"
     ]
    },
    {
     "name": "stderr",
     "output_type": "stream",
     "text": [
      "100%|██████████| 8415/8415 [00:00<00:00, 19046.53it/s]\n",
      " 24%|██▍       | 2043/8415 [00:00<00:00, 20426.95it/s]"
     ]
    },
    {
     "name": "stdout",
     "output_type": "stream",
     "text": [
      "visited3s 0.5530666666666667\n"
     ]
    },
    {
     "name": "stderr",
     "output_type": "stream",
     "text": [
      "100%|██████████| 8415/8415 [00:00<00:00, 20320.30it/s]\n",
      " 10%|▉         | 826/8415 [00:00<00:00, 8256.62it/s]"
     ]
    },
    {
     "name": "stdout",
     "output_type": "stream",
     "text": [
      "visited6s 0.7895466666666666\n"
     ]
    },
    {
     "name": "stderr",
     "output_type": "stream",
     "text": [
      "100%|██████████| 8415/8415 [00:01<00:00, 8265.71it/s]\n",
      " 10%|▉         | 815/8415 [00:00<00:00, 8145.04it/s]"
     ]
    },
    {
     "name": "stdout",
     "output_type": "stream",
     "text": [
      "804 7031 0.11435073247048784\n",
      "hitRate3s 0.11435073247048784\n"
     ]
    },
    {
     "name": "stderr",
     "output_type": "stream",
     "text": [
      "100%|██████████| 8415/8415 [00:00<00:00, 8437.64it/s]\n"
     ]
    },
    {
     "name": "stdout",
     "output_type": "stream",
     "text": [
      "1301 7031 0.18503769022898592\n",
      "hitRate6s 0.18503769022898592\n"
     ]
    },
    {
     "name": "stderr",
     "output_type": "stream",
     "text": [
      "  1%|▏         | 121/8415 [00:00<00:06, 1207.69it/s]"
     ]
    },
    {
     "name": "stdout",
     "output_type": "stream",
     "text": [
      "ALS model is fitted in 0.6199798583984375 seconds.\n"
     ]
    },
    {
     "name": "stderr",
     "output_type": "stream",
     "text": [
      "100%|██████████| 8415/8415 [00:02<00:00, 3374.99it/s]\n",
      "  4%|▍         | 318/8415 [00:00<00:02, 3177.53it/s]"
     ]
    },
    {
     "name": "stdout",
     "output_type": "stream",
     "text": [
      "570 8415 0.0677361853832442\n",
      "AP3s 0.0677361853832442\n"
     ]
    },
    {
     "name": "stderr",
     "output_type": "stream",
     "text": [
      "100%|██████████| 8415/8415 [00:02<00:00, 3545.03it/s]\n"
     ]
    },
    {
     "name": "stdout",
     "output_type": "stream",
     "text": [
      "1111 8415 0.13202614379084968\n",
      "AP6s 0.13202614379084968\n",
      "------alphas, itrs, factors------ 100 15 40\n"
     ]
    },
    {
     "name": "stderr",
     "output_type": "stream",
     "text": [
      "\r",
      "  0%|          | 0/8415 [00:00<?, ?it/s]"
     ]
    },
    {
     "name": "stdout",
     "output_type": "stream",
     "text": [
      "ALS model is fitted in 4.1056067943573 seconds.\n",
      "annoy time: 0.06970500946044922\n",
      "training and querry time: 4.1056067943573 0.06970500946044922\n"
     ]
    },
    {
     "name": "stderr",
     "output_type": "stream",
     "text": [
      "100%|██████████| 8415/8415 [00:00<00:00, 20439.55it/s]\n",
      " 23%|██▎       | 1909/8415 [00:00<00:00, 19081.74it/s]"
     ]
    },
    {
     "name": "stdout",
     "output_type": "stream",
     "text": [
      "visited3s 0.70784\n"
     ]
    },
    {
     "name": "stderr",
     "output_type": "stream",
     "text": [
      "100%|██████████| 8415/8415 [00:00<00:00, 19122.33it/s]\n",
      "  9%|▉         | 778/8415 [00:00<00:00, 7772.54it/s]"
     ]
    },
    {
     "name": "stdout",
     "output_type": "stream",
     "text": [
      "visited6s 0.92256\n"
     ]
    },
    {
     "name": "stderr",
     "output_type": "stream",
     "text": [
      "100%|██████████| 8415/8415 [00:00<00:00, 8508.13it/s]\n",
      "  9%|▉         | 781/8415 [00:00<00:00, 7803.48it/s]"
     ]
    },
    {
     "name": "stdout",
     "output_type": "stream",
     "text": [
      "764 7031 0.10866164130280188\n",
      "hitRate3s 0.10866164130280188\n"
     ]
    },
    {
     "name": "stderr",
     "output_type": "stream",
     "text": [
      "100%|██████████| 8415/8415 [00:00<00:00, 8579.78it/s]\n"
     ]
    },
    {
     "name": "stdout",
     "output_type": "stream",
     "text": [
      "1105 7031 0.1571611435073247\n",
      "hitRate6s 0.1571611435073247\n"
     ]
    },
    {
     "name": "stderr",
     "output_type": "stream",
     "text": [
      "  1%|▏         | 122/8415 [00:00<00:06, 1217.90it/s]"
     ]
    },
    {
     "name": "stdout",
     "output_type": "stream",
     "text": [
      "ALS model is fitted in 4.213979244232178 seconds.\n"
     ]
    },
    {
     "name": "stderr",
     "output_type": "stream",
     "text": [
      "100%|██████████| 8415/8415 [00:02<00:00, 3358.74it/s]\n",
      "  4%|▎         | 304/8415 [00:00<00:02, 3035.70it/s]"
     ]
    },
    {
     "name": "stdout",
     "output_type": "stream",
     "text": [
      "295 8415 0.035056446821152706\n",
      "AP3s 0.035056446821152706\n"
     ]
    },
    {
     "name": "stderr",
     "output_type": "stream",
     "text": [
      "100%|██████████| 8415/8415 [00:02<00:00, 3559.28it/s]\n"
     ]
    },
    {
     "name": "stdout",
     "output_type": "stream",
     "text": [
      "802 8415 0.09530600118835413\n",
      "AP6s 0.09530600118835413\n",
      "------alphas, itrs, factors------ 100 15 60\n"
     ]
    },
    {
     "name": "stderr",
     "output_type": "stream",
     "text": [
      "  9%|▊         | 728/8415 [00:00<00:01, 7277.82it/s]"
     ]
    },
    {
     "name": "stdout",
     "output_type": "stream",
     "text": [
      "ALS model is fitted in 6.354053258895874 seconds.\n",
      "annoy time: 0.06840729713439941\n",
      "training and querry time: 6.354053258895874 0.06840729713439941\n"
     ]
    },
    {
     "name": "stderr",
     "output_type": "stream",
     "text": [
      "100%|██████████| 8415/8415 [00:00<00:00, 19178.01it/s]\n",
      " 24%|██▍       | 2003/8415 [00:00<00:00, 20025.53it/s]"
     ]
    },
    {
     "name": "stdout",
     "output_type": "stream",
     "text": [
      "visited3s 0.71456\n"
     ]
    },
    {
     "name": "stderr",
     "output_type": "stream",
     "text": [
      "100%|██████████| 8415/8415 [00:00<00:00, 19875.42it/s]\n",
      "  9%|▉         | 797/8415 [00:00<00:00, 7967.44it/s]"
     ]
    },
    {
     "name": "stdout",
     "output_type": "stream",
     "text": [
      "visited6s 0.92896\n"
     ]
    },
    {
     "name": "stderr",
     "output_type": "stream",
     "text": [
      "100%|██████████| 8415/8415 [00:01<00:00, 8362.34it/s]\n",
      " 10%|█         | 881/8415 [00:00<00:00, 8807.34it/s]"
     ]
    },
    {
     "name": "stdout",
     "output_type": "stream",
     "text": [
      "501 7031 0.07125586687526668\n",
      "hitRate3s 0.07125586687526668\n"
     ]
    },
    {
     "name": "stderr",
     "output_type": "stream",
     "text": [
      "100%|██████████| 8415/8415 [00:01<00:00, 8368.62it/s]\n"
     ]
    },
    {
     "name": "stdout",
     "output_type": "stream",
     "text": [
      "712 7031 0.10126582278481013\n",
      "hitRate6s 0.10126582278481013\n"
     ]
    },
    {
     "name": "stderr",
     "output_type": "stream",
     "text": [
      "  1%|▏         | 107/8415 [00:00<00:07, 1067.71it/s]"
     ]
    },
    {
     "name": "stdout",
     "output_type": "stream",
     "text": [
      "ALS model is fitted in 6.945730686187744 seconds.\n"
     ]
    },
    {
     "name": "stderr",
     "output_type": "stream",
     "text": [
      "100%|██████████| 8415/8415 [00:02<00:00, 3208.19it/s]\n",
      "  4%|▎         | 308/8415 [00:00<00:02, 3072.88it/s]"
     ]
    },
    {
     "name": "stdout",
     "output_type": "stream",
     "text": [
      "244 8415 0.02899584076054664\n",
      "AP3s 0.02899584076054664\n"
     ]
    },
    {
     "name": "stderr",
     "output_type": "stream",
     "text": [
      "100%|██████████| 8415/8415 [00:02<00:00, 3540.01it/s]\n"
     ]
    },
    {
     "name": "stdout",
     "output_type": "stream",
     "text": [
      "555 8415 0.0659536541889483\n",
      "AP6s 0.0659536541889483\n",
      "------alphas, itrs, factors------ 100 15 100\n"
     ]
    },
    {
     "name": "stderr",
     "output_type": "stream",
     "text": [
      "\r",
      "  0%|          | 0/8415 [00:00<?, ?it/s]"
     ]
    },
    {
     "name": "stdout",
     "output_type": "stream",
     "text": [
      "ALS model is fitted in 14.990770101547241 seconds.\n",
      "annoy time: 0.07425713539123535\n",
      "training and querry time: 14.990770101547241 0.07425713539123535\n"
     ]
    },
    {
     "name": "stderr",
     "output_type": "stream",
     "text": [
      "100%|██████████| 8415/8415 [00:00<00:00, 19954.19it/s]\n",
      " 22%|██▏       | 1878/8415 [00:00<00:00, 18770.98it/s]"
     ]
    },
    {
     "name": "stdout",
     "output_type": "stream",
     "text": [
      "visited3s 0.7158755555555556\n"
     ]
    },
    {
     "name": "stderr",
     "output_type": "stream",
     "text": [
      "100%|██████████| 8415/8415 [00:00<00:00, 19751.95it/s]\n",
      " 10%|▉         | 802/8415 [00:00<00:00, 8011.77it/s]"
     ]
    },
    {
     "name": "stdout",
     "output_type": "stream",
     "text": [
      "visited6s 0.9294222222222223\n"
     ]
    },
    {
     "name": "stderr",
     "output_type": "stream",
     "text": [
      "100%|██████████| 8415/8415 [00:00<00:00, 8592.91it/s]\n",
      " 10%|█         | 848/8415 [00:00<00:00, 8475.89it/s]"
     ]
    },
    {
     "name": "stdout",
     "output_type": "stream",
     "text": [
      "284 7031 0.04039254729057033\n",
      "hitRate3s 0.04039254729057033\n"
     ]
    },
    {
     "name": "stderr",
     "output_type": "stream",
     "text": [
      "100%|██████████| 8415/8415 [00:00<00:00, 8475.51it/s]\n"
     ]
    },
    {
     "name": "stdout",
     "output_type": "stream",
     "text": [
      "390 7031 0.05546863888493813\n",
      "hitRate6s 0.05546863888493813\n"
     ]
    },
    {
     "name": "stderr",
     "output_type": "stream",
     "text": [
      "  1%|          | 97/8415 [00:00<00:08, 969.97it/s]"
     ]
    },
    {
     "name": "stdout",
     "output_type": "stream",
     "text": [
      "ALS model is fitted in 19.73657202720642 seconds.\n"
     ]
    },
    {
     "name": "stderr",
     "output_type": "stream",
     "text": [
      "100%|██████████| 8415/8415 [00:03<00:00, 2789.47it/s]\n",
      "  4%|▍         | 320/8415 [00:00<00:02, 3191.58it/s]"
     ]
    },
    {
     "name": "stdout",
     "output_type": "stream",
     "text": [
      "121 8415 0.01437908496732026\n",
      "AP3s 0.01437908496732026\n"
     ]
    },
    {
     "name": "stderr",
     "output_type": "stream",
     "text": [
      "100%|██████████| 8415/8415 [00:02<00:00, 3489.18it/s]\n"
     ]
    },
    {
     "name": "stdout",
     "output_type": "stream",
     "text": [
      "293 8415 0.03481877599524658\n",
      "AP6s 0.03481877599524658\n",
      "View matrix loaded in 0.1047816276550293 seconds.\n",
      "Number of users which should be deleted: 7879\n",
      "Number products which should be deleted: 75\n",
      "Number of users which should be deleted: 4\n",
      "Number products which should be deleted: 0\n",
      "Number of users which should be deleted: 0\n",
      "Number products which should be deleted: 0\n",
      "matrix has been made dense in 0.3361833095550537 seconds.\n",
      "------alphas, itrs, factors: 100 15 5 ------\n",
      "ALS model is fitted in 0.024804115295410156 seconds.\n",
      "MSE 0.049314131874696784\n",
      "------alphas, itrs, factors: 100 15 10 ------\n",
      "ALS model is fitted in 0.05062460899353027 seconds.\n",
      "MSE 0.02825987497548507\n",
      "------alphas, itrs, factors: 100 15 20 ------\n",
      "ALS model is fitted in 0.07485556602478027 seconds.\n",
      "MSE 0.011261766800917727\n",
      "------alphas, itrs, factors: 100 15 40 ------\n",
      "ALS model is fitted in 0.37659645080566406 seconds.\n",
      "MSE 0.002980314535263971\n",
      "------alphas, itrs, factors: 100 15 60 ------\n",
      "ALS model is fitted in 1.0140042304992676 seconds.\n",
      "MSE 0.0009506293905453375\n",
      "------alphas, itrs, factors: 100 15 100 ------\n",
      "ALS model is fitted in 1.8495330810546875 seconds.\n",
      "MSE 7.752584709209933e-05\n"
     ]
    }
   ],
   "source": [
    "visited3s3, visited6s3, hitRate3s3, hitRate6s3, AP3s3, AP6s3, trainingTime3, qTime3 = \\\n",
    "calc_visited_hitRate(alphas3, itrs3, factors3, _l = 2, data_set_size = TEST_SET_SIZE, log = True)\n",
    "MSE3 = calc_mse__(alphas3, itrs3, factors3, _l = 2, data_set_size = TEST_SET_SIZE1, log = True)\n",
    "MSEs.append(MSE3)\n",
    "visited3s.append(visited3s3)\n",
    "visited6s.append(visited6s3)\n",
    "hitRate3s.append(hitRate3s3)\n",
    "hitRate6s.append(hitRate6s3)\n",
    "AP3s.append(AP3s3)\n",
    "AP6s.append(AP6s3)\n",
    "trainingTime.append(trainingTime3)\n",
    "qTime.append(qTime3)"
   ]
  },
  {
   "cell_type": "code",
   "execution_count": 20,
   "id": "raising-heater",
   "metadata": {
    "scrolled": true
   },
   "outputs": [
    {
     "name": "stdout",
     "output_type": "stream",
     "text": [
      "View matrix loaded in 0.1600186824798584 seconds.\n",
      "Number of users which should be deleted: 7879\n",
      "Number products which should be deleted: 75\n",
      "Number of users which should be deleted: 4\n",
      "Number products which should be deleted: 0\n",
      "Number of users which should be deleted: 0\n",
      "Number products which should be deleted: 0\n",
      "matrix has been made dense in 0.37642526626586914 seconds.\n",
      "test_shape (8415, 435) train_shape (which we cant process bc of RAM) (84, 435)\n",
      "total cells 35156 number of deleted cells 8415\n"
     ]
    },
    {
     "name": "stderr",
     "output_type": "stream",
     "text": [
      "184it [00:00, 1825.69it/s]"
     ]
    },
    {
     "name": "stdout",
     "output_type": "stream",
     "text": [
      "test_shape (8415, 435) train_shape (which we cant process bc of RAM) (84, 435)\n",
      "total cells 35156 number of deleted cells 7031\n"
     ]
    },
    {
     "name": "stderr",
     "output_type": "stream",
     "text": [
      "35156it [00:20, 1687.63it/s]\n"
     ]
    },
    {
     "name": "stdout",
     "output_type": "stream",
     "text": [
      "------alphas, itrs, factors------ 1000 15 5\n"
     ]
    },
    {
     "name": "stderr",
     "output_type": "stream",
     "text": [
      "\r",
      "  0%|          | 0/8415 [00:00<?, ?it/s]"
     ]
    },
    {
     "name": "stdout",
     "output_type": "stream",
     "text": [
      "ALS model is fitted in 0.2571702003479004 seconds.\n",
      "annoy time: 0.05971693992614746\n",
      "training and querry time: 0.2571702003479004 0.05971693992614746\n"
     ]
    },
    {
     "name": "stderr",
     "output_type": "stream",
     "text": [
      "100%|██████████| 8415/8415 [00:00<00:00, 20863.21it/s]\n",
      " 24%|██▍       | 2014/8415 [00:00<00:00, 20137.19it/s]"
     ]
    },
    {
     "name": "stdout",
     "output_type": "stream",
     "text": [
      "visited3s 0.11537777777777777\n"
     ]
    },
    {
     "name": "stderr",
     "output_type": "stream",
     "text": [
      "100%|██████████| 8415/8415 [00:00<00:00, 20023.17it/s]\n",
      "  9%|▉         | 797/8415 [00:00<00:00, 7962.28it/s]"
     ]
    },
    {
     "name": "stdout",
     "output_type": "stream",
     "text": [
      "visited6s 0.21578666666666665\n"
     ]
    },
    {
     "name": "stderr",
     "output_type": "stream",
     "text": [
      "100%|██████████| 8415/8415 [00:00<00:00, 8550.64it/s]\n",
      " 10%|▉         | 835/8415 [00:00<00:00, 8349.23it/s]"
     ]
    },
    {
     "name": "stdout",
     "output_type": "stream",
     "text": [
      "689 7031 0.0979945953633907\n",
      "hitRate3s 0.0979945953633907\n"
     ]
    },
    {
     "name": "stderr",
     "output_type": "stream",
     "text": [
      "100%|██████████| 8415/8415 [00:01<00:00, 8247.98it/s]\n"
     ]
    },
    {
     "name": "stdout",
     "output_type": "stream",
     "text": [
      "1016 7031 0.14450291565922344\n",
      "hitRate6s 0.14450291565922344\n"
     ]
    },
    {
     "name": "stderr",
     "output_type": "stream",
     "text": [
      "  2%|▏         | 134/8415 [00:00<00:06, 1337.73it/s]"
     ]
    },
    {
     "name": "stdout",
     "output_type": "stream",
     "text": [
      "ALS model is fitted in 0.2636451721191406 seconds.\n"
     ]
    },
    {
     "name": "stderr",
     "output_type": "stream",
     "text": [
      "100%|██████████| 8415/8415 [00:02<00:00, 2944.32it/s]\n",
      "  4%|▍         | 334/8415 [00:00<00:02, 3336.37it/s]"
     ]
    },
    {
     "name": "stdout",
     "output_type": "stream",
     "text": [
      "734 8415 0.08722519310754605\n",
      "AP3s 0.08722519310754605\n"
     ]
    },
    {
     "name": "stderr",
     "output_type": "stream",
     "text": [
      "100%|██████████| 8415/8415 [00:02<00:00, 3383.89it/s]\n"
     ]
    },
    {
     "name": "stdout",
     "output_type": "stream",
     "text": [
      "1124 8415 0.13357100415923945\n",
      "AP6s 0.13357100415923945\n",
      "------alphas, itrs, factors------ 1000 15 10\n"
     ]
    },
    {
     "name": "stderr",
     "output_type": "stream",
     "text": [
      " 15%|█▍        | 1243/8415 [00:00<00:00, 12427.73it/s]"
     ]
    },
    {
     "name": "stdout",
     "output_type": "stream",
     "text": [
      "ALS model is fitted in 0.3997039794921875 seconds.\n",
      "annoy time: 0.05407595634460449\n",
      "training and querry time: 0.3997039794921875 0.05407595634460449\n"
     ]
    },
    {
     "name": "stderr",
     "output_type": "stream",
     "text": [
      "100%|██████████| 8415/8415 [00:00<00:00, 20064.64it/s]\n",
      " 22%|██▏       | 1892/8415 [00:00<00:00, 18913.16it/s]"
     ]
    },
    {
     "name": "stdout",
     "output_type": "stream",
     "text": [
      "visited3s 0.2276622222222222\n"
     ]
    },
    {
     "name": "stderr",
     "output_type": "stream",
     "text": [
      "100%|██████████| 8415/8415 [00:00<00:00, 19350.79it/s]\n",
      "  8%|▊         | 696/8415 [00:00<00:01, 6958.07it/s]"
     ]
    },
    {
     "name": "stdout",
     "output_type": "stream",
     "text": [
      "visited6s 0.37681777777777775\n"
     ]
    },
    {
     "name": "stderr",
     "output_type": "stream",
     "text": [
      "100%|██████████| 8415/8415 [00:01<00:00, 8264.97it/s]\n",
      "  9%|▉         | 777/8415 [00:00<00:00, 7768.82it/s]"
     ]
    },
    {
     "name": "stdout",
     "output_type": "stream",
     "text": [
      "573 7031 0.0814962309771014\n",
      "hitRate3s 0.0814962309771014\n"
     ]
    },
    {
     "name": "stderr",
     "output_type": "stream",
     "text": [
      "100%|██████████| 8415/8415 [00:01<00:00, 8414.40it/s]\n"
     ]
    },
    {
     "name": "stdout",
     "output_type": "stream",
     "text": [
      "959 7031 0.13639596074527094\n",
      "hitRate6s 0.13639596074527094\n"
     ]
    },
    {
     "name": "stderr",
     "output_type": "stream",
     "text": [
      "  2%|▏         | 167/8415 [00:00<00:04, 1668.95it/s]"
     ]
    },
    {
     "name": "stdout",
     "output_type": "stream",
     "text": [
      "ALS model is fitted in 0.40586376190185547 seconds.\n"
     ]
    },
    {
     "name": "stderr",
     "output_type": "stream",
     "text": [
      "100%|██████████| 8415/8415 [00:02<00:00, 3353.65it/s]\n",
      "  4%|▍         | 338/8415 [00:00<00:02, 3376.07it/s]"
     ]
    },
    {
     "name": "stdout",
     "output_type": "stream",
     "text": [
      "545 8415 0.0647653000594177\n",
      "AP3s 0.0647653000594177\n"
     ]
    },
    {
     "name": "stderr",
     "output_type": "stream",
     "text": [
      "100%|██████████| 8415/8415 [00:02<00:00, 3504.71it/s]\n"
     ]
    },
    {
     "name": "stdout",
     "output_type": "stream",
     "text": [
      "945 8415 0.11229946524064172\n",
      "AP6s 0.11229946524064172\n",
      "------alphas, itrs, factors------ 1000 15 20\n"
     ]
    },
    {
     "name": "stderr",
     "output_type": "stream",
     "text": [
      " 10%|█         | 875/8415 [00:00<00:00, 8748.92it/s]"
     ]
    },
    {
     "name": "stdout",
     "output_type": "stream",
     "text": [
      "ALS model is fitted in 0.6476507186889648 seconds.\n",
      "annoy time: 0.037920236587524414\n",
      "training and querry time: 0.6476507186889648 0.037920236587524414\n"
     ]
    },
    {
     "name": "stderr",
     "output_type": "stream",
     "text": [
      "100%|██████████| 8415/8415 [00:00<00:00, 18701.02it/s]\n",
      " 24%|██▍       | 2034/8415 [00:00<00:00, 20331.29it/s]"
     ]
    },
    {
     "name": "stdout",
     "output_type": "stream",
     "text": [
      "visited3s 0.47932444444444444\n"
     ]
    },
    {
     "name": "stderr",
     "output_type": "stream",
     "text": [
      "100%|██████████| 8415/8415 [00:00<00:00, 20457.00it/s]\n",
      " 10%|▉         | 821/8415 [00:00<00:00, 8206.08it/s]"
     ]
    },
    {
     "name": "stdout",
     "output_type": "stream",
     "text": [
      "visited6s 0.7141688888888889\n"
     ]
    },
    {
     "name": "stderr",
     "output_type": "stream",
     "text": [
      "100%|██████████| 8415/8415 [00:00<00:00, 8619.85it/s]\n",
      "  9%|▉         | 777/8415 [00:00<00:00, 7756.91it/s]"
     ]
    },
    {
     "name": "stdout",
     "output_type": "stream",
     "text": [
      "692 7031 0.09842127720096715\n",
      "hitRate3s 0.09842127720096715\n"
     ]
    },
    {
     "name": "stderr",
     "output_type": "stream",
     "text": [
      "100%|██████████| 8415/8415 [00:01<00:00, 8038.64it/s]\n"
     ]
    },
    {
     "name": "stdout",
     "output_type": "stream",
     "text": [
      "1119 7031 0.1591523254160148\n",
      "hitRate6s 0.1591523254160148\n"
     ]
    },
    {
     "name": "stderr",
     "output_type": "stream",
     "text": [
      "  1%|          | 93/8415 [00:00<00:08, 928.05it/s]"
     ]
    },
    {
     "name": "stdout",
     "output_type": "stream",
     "text": [
      "ALS model is fitted in 0.6265292167663574 seconds.\n"
     ]
    },
    {
     "name": "stderr",
     "output_type": "stream",
     "text": [
      "100%|██████████| 8415/8415 [00:02<00:00, 3397.14it/s]\n",
      "  8%|▊         | 691/8415 [00:00<00:02, 3470.46it/s]"
     ]
    },
    {
     "name": "stdout",
     "output_type": "stream",
     "text": [
      "418 8415 0.04967320261437908\n",
      "AP3s 0.04967320261437908\n"
     ]
    },
    {
     "name": "stderr",
     "output_type": "stream",
     "text": [
      "100%|██████████| 8415/8415 [00:02<00:00, 3514.29it/s]\n"
     ]
    },
    {
     "name": "stdout",
     "output_type": "stream",
     "text": [
      "842 8415 0.10005941770647653\n",
      "AP6s 0.10005941770647653\n",
      "------alphas, itrs, factors------ 1000 15 40\n"
     ]
    },
    {
     "name": "stderr",
     "output_type": "stream",
     "text": [
      " 13%|█▎        | 1066/8415 [00:00<00:00, 10658.92it/s]"
     ]
    },
    {
     "name": "stdout",
     "output_type": "stream",
     "text": [
      "ALS model is fitted in 4.065340995788574 seconds.\n",
      "annoy time: 0.06464147567749023\n",
      "training and querry time: 4.065340995788574 0.06464147567749023\n"
     ]
    },
    {
     "name": "stderr",
     "output_type": "stream",
     "text": [
      "100%|██████████| 8415/8415 [00:00<00:00, 19850.15it/s]\n",
      " 24%|██▎       | 1997/8415 [00:00<00:00, 19962.78it/s]"
     ]
    },
    {
     "name": "stdout",
     "output_type": "stream",
     "text": [
      "visited3s 0.6883911111111111\n"
     ]
    },
    {
     "name": "stderr",
     "output_type": "stream",
     "text": [
      "100%|██████████| 8415/8415 [00:00<00:00, 20380.20it/s]\n",
      " 10%|▉         | 801/8415 [00:00<00:00, 8006.99it/s]"
     ]
    },
    {
     "name": "stdout",
     "output_type": "stream",
     "text": [
      "visited6s 0.9022577777777778\n"
     ]
    },
    {
     "name": "stderr",
     "output_type": "stream",
     "text": [
      "100%|██████████| 8415/8415 [00:01<00:00, 8331.92it/s]\n",
      "  9%|▉         | 796/8415 [00:00<00:00, 7948.88it/s]"
     ]
    },
    {
     "name": "stdout",
     "output_type": "stream",
     "text": [
      "712 7031 0.10126582278481013\n",
      "hitRate3s 0.10126582278481013\n"
     ]
    },
    {
     "name": "stderr",
     "output_type": "stream",
     "text": [
      "100%|██████████| 8415/8415 [00:01<00:00, 8200.04it/s]\n"
     ]
    },
    {
     "name": "stdout",
     "output_type": "stream",
     "text": [
      "1129 7031 0.1605745982079363\n",
      "hitRate6s 0.1605745982079363\n"
     ]
    },
    {
     "name": "stderr",
     "output_type": "stream",
     "text": [
      "  1%|▏         | 109/8415 [00:00<00:07, 1087.94it/s]"
     ]
    },
    {
     "name": "stdout",
     "output_type": "stream",
     "text": [
      "ALS model is fitted in 3.9942047595977783 seconds.\n"
     ]
    },
    {
     "name": "stderr",
     "output_type": "stream",
     "text": [
      "100%|██████████| 8415/8415 [00:02<00:00, 3321.49it/s]\n",
      "  8%|▊         | 689/8415 [00:00<00:02, 3443.52it/s]"
     ]
    },
    {
     "name": "stdout",
     "output_type": "stream",
     "text": [
      "308 8415 0.036601307189542485\n",
      "AP3s 0.036601307189542485\n"
     ]
    },
    {
     "name": "stderr",
     "output_type": "stream",
     "text": [
      "100%|██████████| 8415/8415 [00:02<00:00, 3516.05it/s]\n"
     ]
    },
    {
     "name": "stdout",
     "output_type": "stream",
     "text": [
      "788 8415 0.0936423054070113\n",
      "AP6s 0.0936423054070113\n",
      "------alphas, itrs, factors------ 1000 15 60\n"
     ]
    },
    {
     "name": "stderr",
     "output_type": "stream",
     "text": [
      "  9%|▉         | 749/8415 [00:00<00:01, 7488.29it/s]"
     ]
    },
    {
     "name": "stdout",
     "output_type": "stream",
     "text": [
      "ALS model is fitted in 6.432789087295532 seconds.\n",
      "annoy time: 0.07021307945251465\n",
      "training and querry time: 6.432789087295532 0.07021307945251465\n"
     ]
    },
    {
     "name": "stderr",
     "output_type": "stream",
     "text": [
      "100%|██████████| 8415/8415 [00:00<00:00, 18979.05it/s]\n",
      " 21%|██        | 1786/8415 [00:00<00:00, 17851.42it/s]"
     ]
    },
    {
     "name": "stdout",
     "output_type": "stream",
     "text": [
      "visited3s 0.71584\n"
     ]
    },
    {
     "name": "stderr",
     "output_type": "stream",
     "text": [
      "100%|██████████| 8415/8415 [00:00<00:00, 19861.62it/s]\n",
      " 10%|█         | 855/8415 [00:00<00:00, 8540.52it/s]"
     ]
    },
    {
     "name": "stdout",
     "output_type": "stream",
     "text": [
      "visited6s 0.9276444444444445\n"
     ]
    },
    {
     "name": "stderr",
     "output_type": "stream",
     "text": [
      "100%|██████████| 8415/8415 [00:01<00:00, 8295.54it/s]\n",
      " 10%|▉         | 809/8415 [00:00<00:00, 8087.85it/s]"
     ]
    },
    {
     "name": "stdout",
     "output_type": "stream",
     "text": [
      "525 7031 0.07466932157587826\n",
      "hitRate3s 0.07466932157587826\n"
     ]
    },
    {
     "name": "stderr",
     "output_type": "stream",
     "text": [
      "100%|██████████| 8415/8415 [00:00<00:00, 8553.92it/s]\n"
     ]
    },
    {
     "name": "stdout",
     "output_type": "stream",
     "text": [
      "824 7031 0.11719527805433082\n",
      "hitRate6s 0.11719527805433082\n"
     ]
    },
    {
     "name": "stderr",
     "output_type": "stream",
     "text": [
      "  1%|          | 99/8415 [00:00<00:08, 988.25it/s]"
     ]
    },
    {
     "name": "stdout",
     "output_type": "stream",
     "text": [
      "ALS model is fitted in 6.263938903808594 seconds.\n"
     ]
    },
    {
     "name": "stderr",
     "output_type": "stream",
     "text": [
      "100%|██████████| 8415/8415 [00:02<00:00, 3316.42it/s]\n",
      "  4%|▎         | 313/8415 [00:00<00:02, 3126.10it/s]"
     ]
    },
    {
     "name": "stdout",
     "output_type": "stream",
     "text": [
      "221 8415 0.026262626262626262\n",
      "AP3s 0.026262626262626262\n"
     ]
    },
    {
     "name": "stderr",
     "output_type": "stream",
     "text": [
      "100%|██████████| 8415/8415 [00:02<00:00, 3528.22it/s]\n"
     ]
    },
    {
     "name": "stdout",
     "output_type": "stream",
     "text": [
      "639 8415 0.07593582887700535\n",
      "AP6s 0.07593582887700535\n",
      "------alphas, itrs, factors------ 1000 15 100\n"
     ]
    },
    {
     "name": "stderr",
     "output_type": "stream",
     "text": [
      "\r",
      "  0%|          | 0/8415 [00:00<?, ?it/s]"
     ]
    },
    {
     "name": "stdout",
     "output_type": "stream",
     "text": [
      "ALS model is fitted in 15.074083805084229 seconds.\n",
      "annoy time: 0.06736397743225098\n",
      "training and querry time: 15.074083805084229 0.06736397743225098\n"
     ]
    },
    {
     "name": "stderr",
     "output_type": "stream",
     "text": [
      "100%|██████████| 8415/8415 [00:00<00:00, 19416.62it/s]\n",
      " 24%|██▍       | 2043/8415 [00:00<00:00, 20423.88it/s]"
     ]
    },
    {
     "name": "stdout",
     "output_type": "stream",
     "text": [
      "visited3s 0.7176177777777778\n"
     ]
    },
    {
     "name": "stderr",
     "output_type": "stream",
     "text": [
      "100%|██████████| 8415/8415 [00:00<00:00, 20345.04it/s]\n",
      "  9%|▉         | 795/8415 [00:00<00:00, 7943.04it/s]"
     ]
    },
    {
     "name": "stdout",
     "output_type": "stream",
     "text": [
      "visited6s 0.9294933333333333\n"
     ]
    },
    {
     "name": "stderr",
     "output_type": "stream",
     "text": [
      "100%|██████████| 8415/8415 [00:01<00:00, 8394.53it/s]\n",
      "  9%|▉         | 781/8415 [00:00<00:00, 7808.87it/s]"
     ]
    },
    {
     "name": "stdout",
     "output_type": "stream",
     "text": [
      "294 7031 0.04181482008249182\n",
      "hitRate3s 0.04181482008249182\n"
     ]
    },
    {
     "name": "stderr",
     "output_type": "stream",
     "text": [
      "100%|██████████| 8415/8415 [00:00<00:00, 8495.78it/s]\n"
     ]
    },
    {
     "name": "stdout",
     "output_type": "stream",
     "text": [
      "409 7031 0.058170957189588965\n",
      "hitRate6s 0.058170957189588965\n"
     ]
    },
    {
     "name": "stderr",
     "output_type": "stream",
     "text": [
      "  1%|▏         | 112/8415 [00:00<00:07, 1119.88it/s]"
     ]
    },
    {
     "name": "stdout",
     "output_type": "stream",
     "text": [
      "ALS model is fitted in 16.95579981803894 seconds.\n"
     ]
    },
    {
     "name": "stderr",
     "output_type": "stream",
     "text": [
      "100%|██████████| 8415/8415 [00:02<00:00, 2963.66it/s]\n",
      "  3%|▎         | 250/8415 [00:00<00:03, 2493.91it/s]"
     ]
    },
    {
     "name": "stdout",
     "output_type": "stream",
     "text": [
      "156 8415 0.018538324420677363\n",
      "AP3s 0.018538324420677363\n"
     ]
    },
    {
     "name": "stderr",
     "output_type": "stream",
     "text": [
      "100%|██████████| 8415/8415 [00:02<00:00, 3006.01it/s]\n"
     ]
    },
    {
     "name": "stdout",
     "output_type": "stream",
     "text": [
      "357 8415 0.04242424242424243\n",
      "AP6s 0.04242424242424243\n",
      "View matrix loaded in 0.10407853126525879 seconds.\n",
      "Number of users which should be deleted: 7879\n",
      "Number products which should be deleted: 75\n",
      "Number of users which should be deleted: 4\n",
      "Number products which should be deleted: 0\n",
      "Number of users which should be deleted: 0\n",
      "Number products which should be deleted: 0\n",
      "matrix has been made dense in 0.3611462116241455 seconds.\n",
      "------alphas, itrs, factors: 1000 15 5 ------\n",
      "ALS model is fitted in 0.02156805992126465 seconds.\n",
      "MSE 0.08305643029448868\n",
      "------alphas, itrs, factors: 1000 15 10 ------\n",
      "ALS model is fitted in 0.054686784744262695 seconds.\n",
      "MSE 0.04258505584851545\n",
      "------alphas, itrs, factors: 1000 15 20 ------\n",
      "ALS model is fitted in 0.11848068237304688 seconds.\n",
      "MSE 0.015234106041165572\n",
      "------alphas, itrs, factors: 1000 15 40 ------\n",
      "ALS model is fitted in 0.6401388645172119 seconds.\n",
      "MSE 0.0032667810403638566\n",
      "------alphas, itrs, factors: 1000 15 60 ------\n",
      "ALS model is fitted in 1.0026679039001465 seconds.\n",
      "MSE 0.0009764837190530876\n",
      "------alphas, itrs, factors: 1000 15 100 ------\n",
      "ALS model is fitted in 1.897247552871704 seconds.\n",
      "MSE 7.758036973332855e-05\n"
     ]
    }
   ],
   "source": [
    "visited3s4, visited6s4, hitRate3s4, hitRate6s4, AP3s4, AP6s4, trainingTime4, qTime4 = \\\n",
    "calc_visited_hitRate(alphas4, itrs4, factors4, _l = 2, data_set_size = TEST_SET_SIZE, log = True)\n",
    "MSE4 = calc_mse__(alphas4, itrs4, factors4, _l = 2, data_set_size = TEST_SET_SIZE1, log = True)\n",
    "MSEs.append(MSE4)\n",
    "visited3s.append(visited3s4)\n",
    "visited6s.append(visited6s4)\n",
    "hitRate3s.append(hitRate3s4)\n",
    "hitRate6s.append(hitRate6s4)\n",
    "AP3s.append(AP3s4)\n",
    "AP6s.append(AP6s4)\n",
    "trainingTime.append(trainingTime4)\n",
    "qTime.append(qTime4)"
   ]
  },
  {
   "cell_type": "code",
   "execution_count": 21,
   "id": "agreed-front",
   "metadata": {},
   "outputs": [],
   "source": [
    "MSEs = np.array(MSEs).reshape(24)\n",
    "visited3s = np.array(visited3s).reshape(24)\n",
    "visited6s = np.array(visited6s).reshape(24)\n",
    "hitRate3s = np.array(hitRate3s).reshape(24)\n",
    "hitRate6s = np.array(hitRate6s).reshape(24)\n",
    "AP3s = np.array(AP3s).reshape(24)\n",
    "AP6s = np.array(AP6s).reshape(24)\n",
    "trainingTime = np.array(trainingTime).reshape(24)\n",
    "qTime = np.array(qTime).reshape(24)"
   ]
  },
  {
   "cell_type": "code",
   "execution_count": 22,
   "id": "honest-leonard",
   "metadata": {},
   "outputs": [
    {
     "data": {
      "text/plain": [
       "24"
      ]
     },
     "execution_count": 22,
     "metadata": {},
     "output_type": "execute_result"
    }
   ],
   "source": [
    "len(trainingTime)"
   ]
  },
  {
   "cell_type": "code",
   "execution_count": 23,
   "id": "virgin-penalty",
   "metadata": {},
   "outputs": [],
   "source": [
    "import prettytable\n",
    "x = prettytable.PrettyTable([\"Hyperparameters\", \"MSE\", \"Visited@6\", \"Visited@3\", \"HitRate@6\", \"HitRate@3\", \"AP@6\", \"AP@3\"])\n",
    "for i in range(24):\n",
    "    x.add_row([str('alpha:' + str(alphas[i]) + ', factors:' + str(factors[i])), round(MSEs[i], 7), round(visited6s[i], 4), round(visited3s[i], 4), round(hitRate6s[i], 4), round(hitRate3s[i], 4), round(AP6s[i], 4), round(AP3s[i], 4)])\n",
    "y = prettytable.PrettyTable([\"Hyperparameters\", \"MSE\", \"Query time\", 'Training Time'])\n",
    "for i in range(24):\n",
    "    y.add_row([str('alpha:' + str(alphas[i]) + ', factors:' + str(factors[i])), round(MSEs[i], 7), round(qTime[i], 4), round(trainingTime[i], 4)])"
   ]
  },
  {
   "cell_type": "code",
   "execution_count": 24,
   "id": "distinct-attempt",
   "metadata": {},
   "outputs": [
    {
     "name": "stdout",
     "output_type": "stream",
     "text": [
      "iterations: 15\n",
      "+-------------------------+-----------+-----------+-----------+-----------+-----------+--------+--------+\n",
      "|     Hyperparameters     |    MSE    | Visited@6 | Visited@3 | HitRate@6 | HitRate@3 |  AP@6  |  AP@3  |\n",
      "+-------------------------+-----------+-----------+-----------+-----------+-----------+--------+--------+\n",
      "|   alpha:0.1, factors:5  | 0.0077778 |   0.3578  |   0.2656  |   0.2931  |   0.1604  | 0.2632 | 0.1291 |\n",
      "|  alpha:0.1, factors:10  | 0.0054487 |   0.5137  |   0.4379  |   0.189   |   0.1215  | 0.2106 | 0.109  |\n",
      "|  alpha:0.1, factors:20  | 0.0031269 |   0.6354  |   0.5356  |   0.106   |   0.0587  | 0.1155 | 0.0635 |\n",
      "|  alpha:0.1, factors:40  | 0.0010961 |   0.7716  |   0.6251  |   0.0458  |   0.0293  | 0.0425 | 0.0227 |\n",
      "|  alpha:0.1, factors:60  | 0.0005619 |   0.8141  |   0.6474  |   0.0339  |   0.0206  | 0.0288 | 0.0125 |\n",
      "|  alpha:0.1, factors:100 |  8.99e-05 |   0.8645  |   0.6779  |   0.0256  |   0.0148  | 0.0166 | 0.0055 |\n",
      "|   alpha:10, factors:5   | 0.0167509 |   0.525   |   0.3409  |   0.2232  |   0.1381  | 0.1668 | 0.0985 |\n",
      "|   alpha:10, factors:10  | 0.0124455 |   0.6534  |   0.4899  |   0.1953  |   0.1149  | 0.1501 | 0.0794 |\n",
      "|   alpha:10, factors:20  | 0.0065968 |   0.7904  |   0.6213  |   0.1691  |   0.104   | 0.1359 | 0.0649 |\n",
      "|   alpha:10, factors:40  |  0.002156 |   0.8911  |   0.6873  |   0.0986  |   0.0688  | 0.0859 | 0.0441 |\n",
      "|   alpha:10, factors:60  | 0.0007834 |   0.9136  |   0.7034  |   0.0754  |   0.0539  | 0.0626 | 0.0323 |\n",
      "|  alpha:10, factors:100  |  7.73e-05 |   0.9244  |   0.7125  |   0.0441  |   0.029   | 0.0349 | 0.0144 |\n",
      "|   alpha:100, factors:5  | 0.0493141 |   0.3284  |   0.1668  |   0.1927  |   0.1153  | 0.1654 | 0.0973 |\n",
      "|  alpha:100, factors:10  | 0.0282599 |   0.5174  |   0.2971  |   0.1809  |   0.1055  | 0.1412 | 0.0846 |\n",
      "|  alpha:100, factors:20  | 0.0112618 |   0.7895  |   0.5531  |   0.185   |   0.1144  | 0.132  | 0.0677 |\n",
      "|  alpha:100, factors:40  | 0.0029803 |   0.9226  |   0.7078  |   0.1572  |   0.1087  | 0.0953 | 0.0351 |\n",
      "|  alpha:100, factors:60  | 0.0009506 |   0.929   |   0.7146  |   0.1013  |   0.0713  | 0.066  | 0.029  |\n",
      "|  alpha:100, factors:100 |  7.75e-05 |   0.9294  |   0.7159  |   0.0555  |   0.0404  | 0.0348 | 0.0144 |\n",
      "|  alpha:1000, factors:5  | 0.0830564 |   0.2158  |   0.1154  |   0.1445  |   0.098   | 0.1336 | 0.0872 |\n",
      "|  alpha:1000, factors:10 | 0.0425851 |   0.3768  |   0.2277  |   0.1364  |   0.0815  | 0.1123 | 0.0648 |\n",
      "|  alpha:1000, factors:20 | 0.0152341 |   0.7142  |   0.4793  |   0.1592  |   0.0984  | 0.1001 | 0.0497 |\n",
      "|  alpha:1000, factors:40 | 0.0032668 |   0.9023  |   0.6884  |   0.1606  |   0.1013  | 0.0936 | 0.0366 |\n",
      "|  alpha:1000, factors:60 | 0.0009765 |   0.9276  |   0.7158  |   0.1172  |   0.0747  | 0.0759 | 0.0263 |\n",
      "| alpha:1000, factors:100 |  7.76e-05 |   0.9295  |   0.7176  |   0.0582  |   0.0418  | 0.0424 | 0.0185 |\n",
      "+-------------------------+-----------+-----------+-----------+-----------+-----------+--------+--------+\n",
      "+-------------------------+-----------+------------+---------------+\n",
      "|     Hyperparameters     |    MSE    | Query time | Training Time |\n",
      "+-------------------------+-----------+------------+---------------+\n",
      "|   alpha:0.1, factors:5  | 0.0077778 |   0.0514   |     0.2247    |\n",
      "|  alpha:0.1, factors:10  | 0.0054487 |   0.0445   |     0.3628    |\n",
      "|  alpha:0.1, factors:20  | 0.0031269 |   0.048    |     0.5688    |\n",
      "|  alpha:0.1, factors:40  | 0.0010961 |   0.0487   |     3.8977    |\n",
      "|  alpha:0.1, factors:60  | 0.0005619 |   0.0804   |     7.493     |\n",
      "|  alpha:0.1, factors:100 |  8.99e-05 |   0.0702   |    14.8511    |\n",
      "|   alpha:10, factors:5   | 0.0167509 |   0.0546   |     0.2676    |\n",
      "|   alpha:10, factors:10  | 0.0124455 |   0.0509   |     0.418     |\n",
      "|   alpha:10, factors:20  | 0.0065968 |   0.0615   |     0.6051    |\n",
      "|   alpha:10, factors:40  |  0.002156 |   0.0591   |     3.9856    |\n",
      "|   alpha:10, factors:60  | 0.0007834 |   0.064    |     6.3193    |\n",
      "|  alpha:10, factors:100  |  7.73e-05 |   0.073    |    15.4016    |\n",
      "|   alpha:100, factors:5  | 0.0493141 |   0.0549   |     0.2591    |\n",
      "|  alpha:100, factors:10  | 0.0282599 |   0.0537   |     0.4023    |\n",
      "|  alpha:100, factors:20  | 0.0112618 |   0.0424   |     0.6432    |\n",
      "|  alpha:100, factors:40  | 0.0029803 |   0.0697   |     4.1056    |\n",
      "|  alpha:100, factors:60  | 0.0009506 |   0.0684   |     6.3541    |\n",
      "|  alpha:100, factors:100 |  7.75e-05 |   0.0743   |    14.9908    |\n",
      "|  alpha:1000, factors:5  | 0.0830564 |   0.0597   |     0.2572    |\n",
      "|  alpha:1000, factors:10 | 0.0425851 |   0.0541   |     0.3997    |\n",
      "|  alpha:1000, factors:20 | 0.0152341 |   0.0379   |     0.6477    |\n",
      "|  alpha:1000, factors:40 | 0.0032668 |   0.0646   |     4.0653    |\n",
      "|  alpha:1000, factors:60 | 0.0009765 |   0.0702   |     6.4328    |\n",
      "| alpha:1000, factors:100 |  7.76e-05 |   0.0674   |    15.0741    |\n",
      "+-------------------------+-----------+------------+---------------+\n"
     ]
    }
   ],
   "source": [
    "print(\"iterations: 15\")\n",
    "print(x)\n",
    "print(y)\n",
    "data = x.get_string()\n",
    "with open(RESULTS + 'ALSacc_hyperparameters_' + WEB_SITE_NAME + '.txt', 'w') as f:\n",
    "    f.write(data)\n",
    "data = y.get_string()\n",
    "with open(RESULTS + 'ALStime_hyperparameters_' + WEB_SITE_NAME + '.txt', 'w') as f:\n",
    "    f.write(data)"
   ]
  },
  {
   "cell_type": "code",
   "execution_count": 25,
   "id": "preliminary-snake",
   "metadata": {},
   "outputs": [
    {
     "data": {
      "image/png": "[encoded data removed]",
      "text/plain": [
       "<Figure size 432x288 with 1 Axes>"
      ]
     },
     "metadata": {
      "needs_background": "light"
     },
     "output_type": "display_data"
    }
   ],
   "source": [
    "plt.plot(factors[:6], visited6s[:6], label='alpha = 10')\n",
    "plt.plot(factors[6:12], visited6s[6:12], label='alpha = 10')\n",
    "plt.plot(factors[12:18], visited6s[12:18], label='alpha = 100')\n",
    "plt.plot(factors[18:24], visited6s[18:24], label='alpha = 1000')\n",
    "plt.title(\"Visited@6 w.r.t hyperparameters \" + WEB_SITE_NAME)\n",
    "plt.xlabel('#features')\n",
    "plt.xticks([5,10,15,20,25,30,35,40,50,60,70,80,90,100])\n",
    "plt.legend()\n",
    "plt.savefig(RESULTS + 'visited@6_hyperparameters_' + WEB_SITE_NAME + '.png', dpi=400)"
   ]
  },
  {
   "cell_type": "code",
   "execution_count": 26,
   "id": "resident-billion",
   "metadata": {},
   "outputs": [
    {
     "data": {
      "image/png": "[encoded data removed]",
      "text/plain": [
       "<Figure size 432x288 with 1 Axes>"
      ]
     },
     "metadata": {
      "needs_background": "light"
     },
     "output_type": "display_data"
    }
   ],
   "source": [
    "plt.plot(factors[:6], hitRate6s[:6], label='alpha = 0.1')\n",
    "plt.plot(factors[6:12], hitRate6s[6:12], label='alpha = 10')\n",
    "plt.plot(factors[12:18], hitRate6s[12:18], label='alpha = 100')\n",
    "plt.plot(factors[18:24], hitRate6s[18:24], label='alpha = 1000')\n",
    "plt.title(\"Hitrate@6 w.r.t hyperparameters \" + WEB_SITE_NAME)\n",
    "plt.xlabel('#features')\n",
    "plt.xticks([5,10,15,20,25,30,35,40,50,60,70,80,90,100])\n",
    "plt.legend()\n",
    "plt.savefig(RESULTS + 'hitrate@6_hyperparameters_' + WEB_SITE_NAME + '.png', dpi=400)"
   ]
  },
  {
   "cell_type": "code",
   "execution_count": 27,
   "id": "crazy-collectible",
   "metadata": {},
   "outputs": [
    {
     "data": {
      "image/png": "[encoded data removed]",
      "text/plain": [
       "<Figure size 432x288 with 1 Axes>"
      ]
     },
     "metadata": {
      "needs_background": "light"
     },
     "output_type": "display_data"
    }
   ],
   "source": [
    "plt.plot(factors[:6], MSEs[:6], label='alpha = 0.1')\n",
    "plt.plot(factors[6:12], MSEs[6:12], label='alpha = 10')\n",
    "plt.plot(factors[12:18], MSEs[12:18], label='alpha = 100')\n",
    "plt.plot(factors[18:24], MSEs[18:24], label='alpha = 1000')\n",
    "plt.title(\"MSE w.r.t hyperparameters \" + WEB_SITE_NAME)\n",
    "plt.xlabel('#features')\n",
    "plt.xticks([5,10,15,20,25,30,35,40,50,60,70,80,90,100])\n",
    "plt.legend()\n",
    "plt.savefig(RESULTS + 'MSE_hyperparameters_' + WEB_SITE_NAME + '.png', dpi=400)"
   ]
  },
  {
   "cell_type": "code",
   "execution_count": 28,
   "id": "enhanced-heavy",
   "metadata": {},
   "outputs": [
    {
     "data": {
      "image/png": "[encoded data removed]",
      "text/plain": [
       "<Figure size 432x288 with 1 Axes>"
      ]
     },
     "metadata": {
      "needs_background": "light"
     },
     "output_type": "display_data"
    }
   ],
   "source": [
    "plt.plot(factors[:6], qTime[:6], label='alpha = 0.1')\n",
    "plt.plot(factors[6:12], qTime[6:12], label='alpha = 10')\n",
    "plt.plot(factors[12:18], qTime[12:18], label='alpha = 100')\n",
    "plt.plot(factors[18:24], qTime[18:24], label='alpha = 1000')\n",
    "plt.title(\"Query time w.r.t hyperparameters \" + WEB_SITE_NAME)\n",
    "plt.xlabel('#features')\n",
    "plt.xticks([5,10,15,20,25,30,35,40,50,60,70,80,90,100])\n",
    "plt.legend()\n",
    "plt.savefig(RESULTS + 'querytime_hyperparameters_' + WEB_SITE_NAME + '.png', dpi=400)"
   ]
  },
  {
   "cell_type": "code",
   "execution_count": 29,
   "id": "weighted-tracy",
   "metadata": {},
   "outputs": [
    {
     "data": {
      "image/png": "[encoded data removed]",
      "text/plain": [
       "<Figure size 432x288 with 1 Axes>"
      ]
     },
     "metadata": {
      "needs_background": "light"
     },
     "output_type": "display_data"
    }
   ],
   "source": [
    "plt.plot(factors[:6], trainingTime[:6], label='alpha = 0.1')\n",
    "plt.plot(factors[6:12], trainingTime[6:12], label='alpha = 10')\n",
    "plt.plot(factors[12:18], trainingTime[12:18], label='alpha = 100')\n",
    "plt.plot(factors[18:24], trainingTime[18:24], label='alpha = 1000')\n",
    "plt.title(\"Training time w.r.t hyperparameters \" + WEB_SITE_NAME)\n",
    "plt.xlabel('#features')\n",
    "plt.xticks([5,10,15,20,25,30,35,40,50,60,70,80,90,100])\n",
    "plt.legend()\n",
    "plt.savefig(RESULTS + 'trainingtime_hyperparameters_' + WEB_SITE_NAME + '.png', dpi=400)"
   ]
  },
  {
   "cell_type": "code",
   "execution_count": null,
   "id": "approximate-extra",
   "metadata": {},
   "outputs": [],
   "source": []
  }
 ],
 "metadata": {
  "kernelspec": {
   "display_name": "Python 3",
   "language": "python",
   "name": "python3"
  },
  "language_info": {
   "codemirror_mode": {
    "name": "ipython",
    "version": 3
   },
   "file_extension": ".py",
   "mimetype": "text/x-python",
   "name": "python",
   "nbconvert_exporter": "python",
   "pygments_lexer": "ipython3",
   "version": "3.8.5"
  }
 },
 "nbformat": 4,
 "nbformat_minor": 5
}
