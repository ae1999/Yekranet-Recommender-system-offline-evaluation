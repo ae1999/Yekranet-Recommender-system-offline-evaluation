{
 "cells": [
  {
   "cell_type": "code",
   "execution_count": 1,
   "metadata": {},
   "outputs": [],
   "source": [
    "WEB_SITE_matrix = './chetor.com/view_matrix/lil_matrix.npz'\n",
    "WEB_SITE_CONTENT_CSV = './pages_chetor.csv'\n",
    "WEB_SITE_itemindexer = './chetor.com/view_matrix/item_indexer.indexer'\n",
    "WEB_SITE_userindexer = './chetor.com/view_matrix/user_indexer.indexer'\n",
    "SAVING1 = './chetor.com/alisResult/ALS/ali_item_indexer_factorized.indexer'\n",
    "SAVING2 = './chetor.com/alisResult/ALS/ali_user_indexer_factorized.indexer'\n",
    "SAVING3 = './chetor.com/alisResult/ALS/ali_items_vectors.npy'\n",
    "SAVING4 = './chetor.com/alisResult/ALS/ali_users_vectors.npy'\n",
    "WEB_SITE_NAME = 'Chetor.com'\n",
    "RESULTS_PATH = '/home/yektanet/Pictures/annoy_opt/'"
   ]
  },
  {
   "cell_type": "code",
   "execution_count": 2,
   "metadata": {},
   "outputs": [],
   "source": [
    "import pandas as pd\n",
    "import numpy as np\n",
    "import matplotlib.pyplot as plt\n",
    "from matplotlib import colors\n",
    "from matplotlib.ticker import PercentFormatter\n",
    "from tqdm import tqdm\n",
    "\n",
    "import timeit\n",
    "import time\n",
    "import math\n",
    "\n",
    "# ./indexer\n",
    "from indexer import AppendIndexer\n",
    "import ALS\n",
    "\n",
    "# Annoy\n",
    "from annoy import AnnoyIndex\n",
    "\n",
    "#SKLearn \n",
    "from sklearn.neighbors import NearestNeighbors\n",
    "from sklearn.metrics import average_precision_score\n",
    "from sklearn.metrics import pairwise_distances\n",
    "\n",
    "# scipy\n",
    "from scipy.spatial import distance\n",
    "from scipy.sparse import lil_matrix"
   ]
  },
  {
   "cell_type": "code",
   "execution_count": 3,
   "metadata": {},
   "outputs": [],
   "source": [
    "def calc_acc(annoy_indices, knn_indices, k):\n",
    "    aa = []\n",
    "    for i in range(len(annoy_indices)):\n",
    "        b = []\n",
    "        for j in annoy_indices[i][1:]:\n",
    "            if j in knn_indices[i][:k]:\n",
    "                b.append(1)\n",
    "            else:\n",
    "                b.append(0)\n",
    "        aa.append(b)\n",
    "    res2 = []\n",
    "    for a in aa:\n",
    "        acc2 = 0\n",
    "        for i in range(len(a)):\n",
    "            acc2 += a[i]\n",
    "        if not len(a):\n",
    "            res2.append(0)\n",
    "        else:\n",
    "            res2.append(acc2/len(a))\n",
    "    return np.array(res2).mean()\n",
    "def calc_nDCG(annoy_indices, knn_indices, k, discount = 3):\n",
    "    aa = []\n",
    "    for i in range(len(annoy_indices)):\n",
    "        b = []\n",
    "        for j in annoy_indices[i][1:]:\n",
    "            if j in knn_indices[i][:k]:\n",
    "                b.append(1)\n",
    "            else:\n",
    "                b.append(0)\n",
    "        aa.append(b)\n",
    "    res = []\n",
    "    for a in aa:\n",
    "        acc = 0\n",
    "        for i in range(len(a)):\n",
    "            acc += a[i]/math.log(i+7, 7)\n",
    "        if not len(a):\n",
    "            res.append(0)\n",
    "        else:\n",
    "            res.append(acc/len(a))\n",
    "    return np.array(res).mean()\n"
   ]
  },
  {
   "cell_type": "markdown",
   "metadata": {},
   "source": [
    "## loading data"
   ]
  },
  {
   "cell_type": "code",
   "execution_count": 4,
   "metadata": {},
   "outputs": [
    {
     "data": {
      "text/html": [
       "<div>\n",
       "<style scoped>\n",
       "    .dataframe tbody tr th:only-of-type {\n",
       "        vertical-align: middle;\n",
       "    }\n",
       "\n",
       "    .dataframe tbody tr th {\n",
       "        vertical-align: top;\n",
       "    }\n",
       "\n",
       "    .dataframe thead th {\n",
       "        text-align: right;\n",
       "    }\n",
       "</style>\n",
       "<table border=\"1\" class=\"dataframe\">\n",
       "  <thead>\n",
       "    <tr style=\"text-align: right;\">\n",
       "      <th></th>\n",
       "      <th>id</th>\n",
       "      <th>created</th>\n",
       "      <th>content_vector</th>\n",
       "      <th>title</th>\n",
       "      <th>cleaned_url</th>\n",
       "      <th>website_id</th>\n",
       "      <th>included</th>\n",
       "      <th>is_amp</th>\n",
       "      <th>has_image_meta</th>\n",
       "      <th>has_title_meta</th>\n",
       "      <th>page_id</th>\n",
       "      <th>subdomain_id</th>\n",
       "      <th>title_vector</th>\n",
       "      <th>image_id</th>\n",
       "      <th>cats</th>\n",
       "    </tr>\n",
       "  </thead>\n",
       "  <tbody>\n",
       "    <tr>\n",
       "      <th>0</th>\n",
       "      <td>2177439</td>\n",
       "      <td>2020-08-09 04:51:12.676435+04:30</td>\n",
       "      <td>{0.52510529756546,-0.51316374540329,-0.3844181...</td>\n",
       "      <td>وردپرس › خطا</td>\n",
       "      <td>chetor.com/</td>\n",
       "      <td>1</td>\n",
       "      <td>f</td>\n",
       "      <td>f</td>\n",
       "      <td>f</td>\n",
       "      <td>f</td>\n",
       "      <td>148948</td>\n",
       "      <td>336</td>\n",
       "      <td>{-0.90155690908432,-1.60752034187317,0.1689879...</td>\n",
       "      <td>1015133.0</td>\n",
       "      <td>{}</td>\n",
       "    </tr>\n",
       "    <tr>\n",
       "      <th>1</th>\n",
       "      <td>973115</td>\n",
       "      <td>2020-08-09 03:50:47.939727+04:30</td>\n",
       "      <td>{-0.111537165939808,0.314831465482712,-0.60968...</td>\n",
       "      <td>تبلیغات در وب سایت چطور | چطور</td>\n",
       "      <td>chetor.com/%D8%AA%D8%A8%D9%84%DB%8C%D8%BA%D8%A...</td>\n",
       "      <td>1</td>\n",
       "      <td>t</td>\n",
       "      <td>f</td>\n",
       "      <td>f</td>\n",
       "      <td>t</td>\n",
       "      <td>27016495</td>\n",
       "      <td>336</td>\n",
       "      <td>{-1.89593696594238,0.659652948379517,-0.852037...</td>\n",
       "      <td>NaN</td>\n",
       "      <td>{}</td>\n",
       "    </tr>\n",
       "    <tr>\n",
       "      <th>2</th>\n",
       "      <td>975692</td>\n",
       "      <td>2020-08-09 03:50:49.22613+04:30</td>\n",
       "      <td>{0.628654301166534,-0.548453748226166,-0.25651...</td>\n",
       "      <td>همکاری با ما | چطور</td>\n",
       "      <td>chetor.com/%D9%87%D9%85%DA%A9%D8%A7%D8%B1%DB%8...</td>\n",
       "      <td>1</td>\n",
       "      <td>t</td>\n",
       "      <td>f</td>\n",
       "      <td>f</td>\n",
       "      <td>t</td>\n",
       "      <td>27004594</td>\n",
       "      <td>336</td>\n",
       "      <td>{-2.04737234115601,2.28955912590027,-2.1406197...</td>\n",
       "      <td>333341.0</td>\n",
       "      <td>{}</td>\n",
       "    </tr>\n",
       "    <tr>\n",
       "      <th>3</th>\n",
       "      <td>2144818</td>\n",
       "      <td>2020-08-09 04:49:41.361098+04:30</td>\n",
       "      <td>{0.350972026586533,-0.0532753616571426,-0.2103...</td>\n",
       "      <td>چرا باید توسعه فردی را جدی بگیرید؟- چطور</td>\n",
       "      <td>chetor.com/100-%DA%86%D8%B1%D8%A7-%D8%A8%D8%A7...</td>\n",
       "      <td>1</td>\n",
       "      <td>t</td>\n",
       "      <td>f</td>\n",
       "      <td>f</td>\n",
       "      <td>f</td>\n",
       "      <td>5274753</td>\n",
       "      <td>336</td>\n",
       "      <td>{2.27225732803345,0.7027268409729,0.4857064485...</td>\n",
       "      <td>599277.0</td>\n",
       "      <td>{}</td>\n",
       "    </tr>\n",
       "    <tr>\n",
       "      <th>4</th>\n",
       "      <td>2157999</td>\n",
       "      <td>2020-08-09 04:50:09.423651+04:30</td>\n",
       "      <td>{1.79109728336334,-1.05194425582886,-1.3205879...</td>\n",
       "      <td>دلایل سرد بودن دستان چیست؟ | چطور</td>\n",
       "      <td>chetor.com/100026-%D8%B3%D8%B1%D8%AF-%D8%A8%D9...</td>\n",
       "      <td>1</td>\n",
       "      <td>t</td>\n",
       "      <td>f</td>\n",
       "      <td>f</td>\n",
       "      <td>f</td>\n",
       "      <td>2416997</td>\n",
       "      <td>336</td>\n",
       "      <td>{2.48906230926514,-1.19906878471375,-1.4995402...</td>\n",
       "      <td>1485027.0</td>\n",
       "      <td>{}</td>\n",
       "    </tr>\n",
       "    <tr>\n",
       "      <th>5</th>\n",
       "      <td>4465070</td>\n",
       "      <td>2020-10-06 11:10:31.622853+03:30</td>\n",
       "      <td>{0.683604598045349,-0.237597540020943,0.257590...</td>\n",
       "      <td>افسوس های من | چطور</td>\n",
       "      <td>chetor.com/100041-%D8%A7%D9%81%D8%B3%D9%88%D8%...</td>\n",
       "      <td>1</td>\n",
       "      <td>t</td>\n",
       "      <td>f</td>\n",
       "      <td>t</td>\n",
       "      <td>t</td>\n",
       "      <td>38243000</td>\n",
       "      <td>336</td>\n",
       "      <td>NaN</td>\n",
       "      <td>1012527.0</td>\n",
       "      <td>{}</td>\n",
       "    </tr>\n",
       "    <tr>\n",
       "      <th>6</th>\n",
       "      <td>2142257</td>\n",
       "      <td>2020-08-09 04:49:40.250501+04:30</td>\n",
       "      <td>{0.63472980260849,0.145868331193924,0.12041924...</td>\n",
       "      <td>خانه پدربزرگ | چطور</td>\n",
       "      <td>chetor.com/100044-%D8%AE%D8%A7%D9%86%D9%87-%D9...</td>\n",
       "      <td>1</td>\n",
       "      <td>t</td>\n",
       "      <td>f</td>\n",
       "      <td>f</td>\n",
       "      <td>f</td>\n",
       "      <td>6160851</td>\n",
       "      <td>336</td>\n",
       "      <td>{1.89609825611115,1.75975489616394,2.689968109...</td>\n",
       "      <td>1012527.0</td>\n",
       "      <td>{}</td>\n",
       "    </tr>\n",
       "    <tr>\n",
       "      <th>7</th>\n",
       "      <td>2123739</td>\n",
       "      <td>2020-08-09 04:48:50.486508+04:30</td>\n",
       "      <td>{0.63071072101593,-0.431413412094116,-0.302038...</td>\n",
       "      <td>درددل های زیادی در دل اطرافیانم مانده | چطور</td>\n",
       "      <td>chetor.com/100049-%D8%AF%D8%B1%D8%AF%D8%AF%D9%...</td>\n",
       "      <td>1</td>\n",
       "      <td>t</td>\n",
       "      <td>f</td>\n",
       "      <td>f</td>\n",
       "      <td>f</td>\n",
       "      <td>11269955</td>\n",
       "      <td>336</td>\n",
       "      <td>{1.16336917877197,0.0402661710977554,0.3318648...</td>\n",
       "      <td>NaN</td>\n",
       "      <td>{}</td>\n",
       "    </tr>\n",
       "    <tr>\n",
       "      <th>8</th>\n",
       "      <td>2161889</td>\n",
       "      <td>2020-08-09 04:50:45.622368+04:30</td>\n",
       "      <td>{2.3618381023407,-0.220653653144836,-1.4399104...</td>\n",
       "      <td>درمان سردرد و تسکین فوری آن با ۱۴ روش موثر و ی...</td>\n",
       "      <td>chetor.com/100085-%D8%AF%D8%B1%D9%85%D8%A7%D9%...</td>\n",
       "      <td>1</td>\n",
       "      <td>t</td>\n",
       "      <td>f</td>\n",
       "      <td>f</td>\n",
       "      <td>f</td>\n",
       "      <td>2262178</td>\n",
       "      <td>336</td>\n",
       "      <td>{2.5592200756073,0.69496887922287,-2.160656929...</td>\n",
       "      <td>1013280.0</td>\n",
       "      <td>{}</td>\n",
       "    </tr>\n",
       "    <tr>\n",
       "      <th>9</th>\n",
       "      <td>2161493</td>\n",
       "      <td>2020-08-09 04:50:45.464757+04:30</td>\n",
       "      <td>{1.23862218856812,-0.99531877040863,-0.5665395...</td>\n",
       "      <td>آیا موز چاق کننده است؟ | چطور</td>\n",
       "      <td>chetor.com/100187-%D8%A2%DB%8C%D8%A7-%D9%85%D9...</td>\n",
       "      <td>1</td>\n",
       "      <td>t</td>\n",
       "      <td>f</td>\n",
       "      <td>f</td>\n",
       "      <td>f</td>\n",
       "      <td>2273389</td>\n",
       "      <td>336</td>\n",
       "      <td>{1.81400036811829,-1.17559599876404,-1.4106029...</td>\n",
       "      <td>1013170.0</td>\n",
       "      <td>{}</td>\n",
       "    </tr>\n",
       "    <tr>\n",
       "      <th>10</th>\n",
       "      <td>2161740</td>\n",
       "      <td>2020-08-09 04:50:45.562531+04:30</td>\n",
       "      <td>{1.11568641662598,-1.10983645915985,-1.5895578...</td>\n",
       "      <td>خواص تخمه آفتابگردان و عوارض مصرف بیش‌ازحد آن ...</td>\n",
       "      <td>chetor.com/100203-%D8%AE%D9%88%D8%A7%D8%B5-%D8...</td>\n",
       "      <td>1</td>\n",
       "      <td>t</td>\n",
       "      <td>f</td>\n",
       "      <td>f</td>\n",
       "      <td>f</td>\n",
       "      <td>2266860</td>\n",
       "      <td>336</td>\n",
       "      <td>{1.75426554679871,-1.150594830513,-2.632427930...</td>\n",
       "      <td>1009754.0</td>\n",
       "      <td>{}</td>\n",
       "    </tr>\n",
       "    <tr>\n",
       "      <th>11</th>\n",
       "      <td>209723</td>\n",
       "      <td>2020-08-09 03:13:35.364054+04:30</td>\n",
       "      <td>{1.15419852733612,-1.0816855430603,-1.59973978...</td>\n",
       "      <td>خواص تخمه آفتابگردان و عوارض مصرف بیش‌ازحد آن ...</td>\n",
       "      <td>chetor.com/100203-%D8%AE%D9%88%D8%A7%D8%B5-%D8...</td>\n",
       "      <td>1</td>\n",
       "      <td>t</td>\n",
       "      <td>f</td>\n",
       "      <td>t</td>\n",
       "      <td>t</td>\n",
       "      <td>34034388</td>\n",
       "      <td>336</td>\n",
       "      <td>{1.75426554679871,-1.150594830513,-2.632427930...</td>\n",
       "      <td>1009754.0</td>\n",
       "      <td>{}</td>\n",
       "    </tr>\n",
       "    <tr>\n",
       "      <th>12</th>\n",
       "      <td>2154973</td>\n",
       "      <td>2020-08-09 04:50:07.881351+04:30</td>\n",
       "      <td>{1.1254985332489,-0.500275850296021,-0.3856477...</td>\n",
       "      <td>کودک آزاری؛ از نشانه‌ها و دلایل تا درمان | چطور</td>\n",
       "      <td>chetor.com/100230-%DA%A9%D9%88%D8%AF%DA%A9-%D8...</td>\n",
       "      <td>1</td>\n",
       "      <td>t</td>\n",
       "      <td>f</td>\n",
       "      <td>f</td>\n",
       "      <td>f</td>\n",
       "      <td>2607932</td>\n",
       "      <td>336</td>\n",
       "      <td>{1.39960169792175,-1.11349546909332,0.11656024...</td>\n",
       "      <td>278392.0</td>\n",
       "      <td>{}</td>\n",
       "    </tr>\n",
       "    <tr>\n",
       "      <th>13</th>\n",
       "      <td>2147914</td>\n",
       "      <td>2020-08-09 04:49:42.67105+04:30</td>\n",
       "      <td>{0.859118700027466,-0.385798960924149,-0.24502...</td>\n",
       "      <td>۷ نکته برای اینکه جلسه‌های کاری‌تان را بهتر ره...</td>\n",
       "      <td>chetor.com/10025-%DB%B7-%D9%86%DA%A9%D8%AA%D9%...</td>\n",
       "      <td>1</td>\n",
       "      <td>t</td>\n",
       "      <td>f</td>\n",
       "      <td>f</td>\n",
       "      <td>f</td>\n",
       "      <td>4353777</td>\n",
       "      <td>336</td>\n",
       "      <td>{1.06593751907349,-0.447182834148407,-0.808934...</td>\n",
       "      <td>479274.0</td>\n",
       "      <td>{}</td>\n",
       "    </tr>\n",
       "    <tr>\n",
       "      <th>14</th>\n",
       "      <td>2161686</td>\n",
       "      <td>2020-08-09 04:50:45.540813+04:30</td>\n",
       "      <td>{1.72504651546478,-1.30946755409241,-1.6172629...</td>\n",
       "      <td>خواص تخم کدو؛ ۱۱ خاصیتی که این دانه‌های کوچک ب...</td>\n",
       "      <td>chetor.com/100280-%D8%AE%D9%88%D8%A7%D8%B5-%D8...</td>\n",
       "      <td>1</td>\n",
       "      <td>t</td>\n",
       "      <td>f</td>\n",
       "      <td>f</td>\n",
       "      <td>f</td>\n",
       "      <td>2268523</td>\n",
       "      <td>336</td>\n",
       "      <td>{2.35908484458923,-1.02347469329834,-1.9489647...</td>\n",
       "      <td>1010022.0</td>\n",
       "      <td>{}</td>\n",
       "    </tr>\n",
       "    <tr>\n",
       "      <th>15</th>\n",
       "      <td>209839</td>\n",
       "      <td>2020-08-09 03:13:35.411203+04:30</td>\n",
       "      <td>{1.59037482738495,-0.952325582504272,-1.422002...</td>\n",
       "      <td>خواص تخم کدو؛ ۱۱ خاصیتی که این دانه‌های کوچک ب...</td>\n",
       "      <td>chetor.com/100280-%D8%AE%D9%88%D8%A7%D8%B5-%D8...</td>\n",
       "      <td>1</td>\n",
       "      <td>t</td>\n",
       "      <td>f</td>\n",
       "      <td>t</td>\n",
       "      <td>t</td>\n",
       "      <td>34033497</td>\n",
       "      <td>336</td>\n",
       "      <td>{2.35908484458923,-1.02347469329834,-1.9489647...</td>\n",
       "      <td>1010022.0</td>\n",
       "      <td>{}</td>\n",
       "    </tr>\n",
       "    <tr>\n",
       "      <th>16</th>\n",
       "      <td>2161394</td>\n",
       "      <td>2020-08-09 04:50:45.424673+04:30</td>\n",
       "      <td>{1.42417645454407,-0.158022791147232,-2.323652...</td>\n",
       "      <td>ماسک موز برای صورت؛ طرز تهیه ۷ نوع ماسک برای م...</td>\n",
       "      <td>chetor.com/100347-%D9%85%D8%A7%D8%B3%DA%A9-%D9...</td>\n",
       "      <td>1</td>\n",
       "      <td>t</td>\n",
       "      <td>f</td>\n",
       "      <td>f</td>\n",
       "      <td>f</td>\n",
       "      <td>2276924</td>\n",
       "      <td>336</td>\n",
       "      <td>{1.59519040584564,-1.06026041507721,-3.0687334...</td>\n",
       "      <td>466144.0</td>\n",
       "      <td>{}</td>\n",
       "    </tr>\n",
       "    <tr>\n",
       "      <th>17</th>\n",
       "      <td>2161748</td>\n",
       "      <td>2020-08-09 04:50:45.565724+04:30</td>\n",
       "      <td>{1.06198310852051,-0.936697721481323,-0.366708...</td>\n",
       "      <td>تقویت حافظه با ۱۱‍ روش عالی که هر دانش‌آموز و ...</td>\n",
       "      <td>chetor.com/10039-%DB%B1%DB%B1-%D8%B1%D9%88%D8%...</td>\n",
       "      <td>1</td>\n",
       "      <td>t</td>\n",
       "      <td>f</td>\n",
       "      <td>f</td>\n",
       "      <td>f</td>\n",
       "      <td>2266665</td>\n",
       "      <td>336</td>\n",
       "      <td>{1.10045444965363,-1.69650733470917,0.03859800...</td>\n",
       "      <td>1010024.0</td>\n",
       "      <td>{}</td>\n",
       "    </tr>\n",
       "    <tr>\n",
       "      <th>18</th>\n",
       "      <td>209853</td>\n",
       "      <td>2020-08-09 03:13:35.41678+04:30</td>\n",
       "      <td>{1.29318749904633,-1.06664729118347,-0.6308819...</td>\n",
       "      <td>تقویت حافظه با ۱۱‍ روش عالی که هر دانش‌آموز و ...</td>\n",
       "      <td>chetor.com/10039-%DB%B1%DB%B1-%D8%B1%D9%88%D8%...</td>\n",
       "      <td>1</td>\n",
       "      <td>t</td>\n",
       "      <td>f</td>\n",
       "      <td>t</td>\n",
       "      <td>t</td>\n",
       "      <td>34033385</td>\n",
       "      <td>336</td>\n",
       "      <td>{1.10045444965363,-1.69650733470917,0.03859800...</td>\n",
       "      <td>1010024.0</td>\n",
       "      <td>{}</td>\n",
       "    </tr>\n",
       "    <tr>\n",
       "      <th>19</th>\n",
       "      <td>2161864</td>\n",
       "      <td>2020-08-09 04:50:45.612435+04:30</td>\n",
       "      <td>{2.20049333572388,0.287450194358826,-1.3928108...</td>\n",
       "      <td>درمان خانگی سردرد شدید و میگرن با ۱۱ راهکار سر...</td>\n",
       "      <td>chetor.com/100422-%D8%AF%D8%B1%D9%85%D8%A7%D9%...</td>\n",
       "      <td>1</td>\n",
       "      <td>t</td>\n",
       "      <td>f</td>\n",
       "      <td>f</td>\n",
       "      <td>f</td>\n",
       "      <td>2262601</td>\n",
       "      <td>336</td>\n",
       "      <td>{2.40740609169006,0.0224263295531273,-1.291270...</td>\n",
       "      <td>734406.0</td>\n",
       "      <td>{}</td>\n",
       "    </tr>\n",
       "  </tbody>\n",
       "</table>\n",
       "</div>"
      ],
      "text/plain": [
       "         id                           created  \\\n",
       "0   2177439  2020-08-09 04:51:12.676435+04:30   \n",
       "1    973115  2020-08-09 03:50:47.939727+04:30   \n",
       "2    975692   2020-08-09 03:50:49.22613+04:30   \n",
       "3   2144818  2020-08-09 04:49:41.361098+04:30   \n",
       "4   2157999  2020-08-09 04:50:09.423651+04:30   \n",
       "5   4465070  2020-10-06 11:10:31.622853+03:30   \n",
       "6   2142257  2020-08-09 04:49:40.250501+04:30   \n",
       "7   2123739  2020-08-09 04:48:50.486508+04:30   \n",
       "8   2161889  2020-08-09 04:50:45.622368+04:30   \n",
       "9   2161493  2020-08-09 04:50:45.464757+04:30   \n",
       "10  2161740  2020-08-09 04:50:45.562531+04:30   \n",
       "11   209723  2020-08-09 03:13:35.364054+04:30   \n",
       "12  2154973  2020-08-09 04:50:07.881351+04:30   \n",
       "13  2147914   2020-08-09 04:49:42.67105+04:30   \n",
       "14  2161686  2020-08-09 04:50:45.540813+04:30   \n",
       "15   209839  2020-08-09 03:13:35.411203+04:30   \n",
       "16  2161394  2020-08-09 04:50:45.424673+04:30   \n",
       "17  2161748  2020-08-09 04:50:45.565724+04:30   \n",
       "18   209853   2020-08-09 03:13:35.41678+04:30   \n",
       "19  2161864  2020-08-09 04:50:45.612435+04:30   \n",
       "\n",
       "                                       content_vector  \\\n",
       "0   {0.52510529756546,-0.51316374540329,-0.3844181...   \n",
       "1   {-0.111537165939808,0.314831465482712,-0.60968...   \n",
       "2   {0.628654301166534,-0.548453748226166,-0.25651...   \n",
       "3   {0.350972026586533,-0.0532753616571426,-0.2103...   \n",
       "4   {1.79109728336334,-1.05194425582886,-1.3205879...   \n",
       "5   {0.683604598045349,-0.237597540020943,0.257590...   \n",
       "6   {0.63472980260849,0.145868331193924,0.12041924...   \n",
       "7   {0.63071072101593,-0.431413412094116,-0.302038...   \n",
       "8   {2.3618381023407,-0.220653653144836,-1.4399104...   \n",
       "9   {1.23862218856812,-0.99531877040863,-0.5665395...   \n",
       "10  {1.11568641662598,-1.10983645915985,-1.5895578...   \n",
       "11  {1.15419852733612,-1.0816855430603,-1.59973978...   \n",
       "12  {1.1254985332489,-0.500275850296021,-0.3856477...   \n",
       "13  {0.859118700027466,-0.385798960924149,-0.24502...   \n",
       "14  {1.72504651546478,-1.30946755409241,-1.6172629...   \n",
       "15  {1.59037482738495,-0.952325582504272,-1.422002...   \n",
       "16  {1.42417645454407,-0.158022791147232,-2.323652...   \n",
       "17  {1.06198310852051,-0.936697721481323,-0.366708...   \n",
       "18  {1.29318749904633,-1.06664729118347,-0.6308819...   \n",
       "19  {2.20049333572388,0.287450194358826,-1.3928108...   \n",
       "\n",
       "                                                title  \\\n",
       "0                                        وردپرس › خطا   \n",
       "1                      تبلیغات در وب سایت چطور | چطور   \n",
       "2                                 همکاری با ما | چطور   \n",
       "3            چرا باید توسعه فردی را جدی بگیرید؟- چطور   \n",
       "4                   دلایل سرد بودن دستان چیست؟ | چطور   \n",
       "5                                 افسوس های من | چطور   \n",
       "6                                 خانه پدربزرگ | چطور   \n",
       "7        درددل های زیادی در دل اطرافیانم مانده | چطور   \n",
       "8   درمان سردرد و تسکین فوری آن با ۱۴ روش موثر و ی...   \n",
       "9                       آیا موز چاق کننده است؟ | چطور   \n",
       "10  خواص تخمه آفتابگردان و عوارض مصرف بیش‌ازحد آن ...   \n",
       "11  خواص تخمه آفتابگردان و عوارض مصرف بیش‌ازحد آن ...   \n",
       "12    کودک آزاری؛ از نشانه‌ها و دلایل تا درمان | چطور   \n",
       "13  ۷ نکته برای اینکه جلسه‌های کاری‌تان را بهتر ره...   \n",
       "14  خواص تخم کدو؛ ۱۱ خاصیتی که این دانه‌های کوچک ب...   \n",
       "15  خواص تخم کدو؛ ۱۱ خاصیتی که این دانه‌های کوچک ب...   \n",
       "16  ماسک موز برای صورت؛ طرز تهیه ۷ نوع ماسک برای م...   \n",
       "17  تقویت حافظه با ۱۱‍ روش عالی که هر دانش‌آموز و ...   \n",
       "18  تقویت حافظه با ۱۱‍ روش عالی که هر دانش‌آموز و ...   \n",
       "19  درمان خانگی سردرد شدید و میگرن با ۱۱ راهکار سر...   \n",
       "\n",
       "                                          cleaned_url  website_id included  \\\n",
       "0                                         chetor.com/           1        f   \n",
       "1   chetor.com/%D8%AA%D8%A8%D9%84%DB%8C%D8%BA%D8%A...           1        t   \n",
       "2   chetor.com/%D9%87%D9%85%DA%A9%D8%A7%D8%B1%DB%8...           1        t   \n",
       "3   chetor.com/100-%DA%86%D8%B1%D8%A7-%D8%A8%D8%A7...           1        t   \n",
       "4   chetor.com/100026-%D8%B3%D8%B1%D8%AF-%D8%A8%D9...           1        t   \n",
       "5   chetor.com/100041-%D8%A7%D9%81%D8%B3%D9%88%D8%...           1        t   \n",
       "6   chetor.com/100044-%D8%AE%D8%A7%D9%86%D9%87-%D9...           1        t   \n",
       "7   chetor.com/100049-%D8%AF%D8%B1%D8%AF%D8%AF%D9%...           1        t   \n",
       "8   chetor.com/100085-%D8%AF%D8%B1%D9%85%D8%A7%D9%...           1        t   \n",
       "9   chetor.com/100187-%D8%A2%DB%8C%D8%A7-%D9%85%D9...           1        t   \n",
       "10  chetor.com/100203-%D8%AE%D9%88%D8%A7%D8%B5-%D8...           1        t   \n",
       "11  chetor.com/100203-%D8%AE%D9%88%D8%A7%D8%B5-%D8...           1        t   \n",
       "12  chetor.com/100230-%DA%A9%D9%88%D8%AF%DA%A9-%D8...           1        t   \n",
       "13  chetor.com/10025-%DB%B7-%D9%86%DA%A9%D8%AA%D9%...           1        t   \n",
       "14  chetor.com/100280-%D8%AE%D9%88%D8%A7%D8%B5-%D8...           1        t   \n",
       "15  chetor.com/100280-%D8%AE%D9%88%D8%A7%D8%B5-%D8...           1        t   \n",
       "16  chetor.com/100347-%D9%85%D8%A7%D8%B3%DA%A9-%D9...           1        t   \n",
       "17  chetor.com/10039-%DB%B1%DB%B1-%D8%B1%D9%88%D8%...           1        t   \n",
       "18  chetor.com/10039-%DB%B1%DB%B1-%D8%B1%D9%88%D8%...           1        t   \n",
       "19  chetor.com/100422-%D8%AF%D8%B1%D9%85%D8%A7%D9%...           1        t   \n",
       "\n",
       "   is_amp has_image_meta has_title_meta   page_id  subdomain_id  \\\n",
       "0       f              f              f    148948           336   \n",
       "1       f              f              t  27016495           336   \n",
       "2       f              f              t  27004594           336   \n",
       "3       f              f              f   5274753           336   \n",
       "4       f              f              f   2416997           336   \n",
       "5       f              t              t  38243000           336   \n",
       "6       f              f              f   6160851           336   \n",
       "7       f              f              f  11269955           336   \n",
       "8       f              f              f   2262178           336   \n",
       "9       f              f              f   2273389           336   \n",
       "10      f              f              f   2266860           336   \n",
       "11      f              t              t  34034388           336   \n",
       "12      f              f              f   2607932           336   \n",
       "13      f              f              f   4353777           336   \n",
       "14      f              f              f   2268523           336   \n",
       "15      f              t              t  34033497           336   \n",
       "16      f              f              f   2276924           336   \n",
       "17      f              f              f   2266665           336   \n",
       "18      f              t              t  34033385           336   \n",
       "19      f              f              f   2262601           336   \n",
       "\n",
       "                                         title_vector   image_id cats  \n",
       "0   {-0.90155690908432,-1.60752034187317,0.1689879...  1015133.0   {}  \n",
       "1   {-1.89593696594238,0.659652948379517,-0.852037...        NaN   {}  \n",
       "2   {-2.04737234115601,2.28955912590027,-2.1406197...   333341.0   {}  \n",
       "3   {2.27225732803345,0.7027268409729,0.4857064485...   599277.0   {}  \n",
       "4   {2.48906230926514,-1.19906878471375,-1.4995402...  1485027.0   {}  \n",
       "5                                                 NaN  1012527.0   {}  \n",
       "6   {1.89609825611115,1.75975489616394,2.689968109...  1012527.0   {}  \n",
       "7   {1.16336917877197,0.0402661710977554,0.3318648...        NaN   {}  \n",
       "8   {2.5592200756073,0.69496887922287,-2.160656929...  1013280.0   {}  \n",
       "9   {1.81400036811829,-1.17559599876404,-1.4106029...  1013170.0   {}  \n",
       "10  {1.75426554679871,-1.150594830513,-2.632427930...  1009754.0   {}  \n",
       "11  {1.75426554679871,-1.150594830513,-2.632427930...  1009754.0   {}  \n",
       "12  {1.39960169792175,-1.11349546909332,0.11656024...   278392.0   {}  \n",
       "13  {1.06593751907349,-0.447182834148407,-0.808934...   479274.0   {}  \n",
       "14  {2.35908484458923,-1.02347469329834,-1.9489647...  1010022.0   {}  \n",
       "15  {2.35908484458923,-1.02347469329834,-1.9489647...  1010022.0   {}  \n",
       "16  {1.59519040584564,-1.06026041507721,-3.0687334...   466144.0   {}  \n",
       "17  {1.10045444965363,-1.69650733470917,0.03859800...  1010024.0   {}  \n",
       "18  {1.10045444965363,-1.69650733470917,0.03859800...  1010024.0   {}  \n",
       "19  {2.40740609169006,0.0224263295531273,-1.291270...   734406.0   {}  "
      ]
     },
     "execution_count": 4,
     "metadata": {},
     "output_type": "execute_result"
    }
   ],
   "source": [
    "WEBSITE_content = pd.read_csv(WEB_SITE_CONTENT_CSV)\n",
    "WEBSITE_content.head(20)"
   ]
  },
  {
   "cell_type": "code",
   "execution_count": 5,
   "metadata": {},
   "outputs": [
    {
     "name": "stdout",
     "output_type": "stream",
     "text": [
      "(9640, 15)\n"
     ]
    }
   ],
   "source": [
    "print(WEBSITE_content.shape)"
   ]
  },
  {
   "cell_type": "code",
   "execution_count": 6,
   "metadata": {},
   "outputs": [
    {
     "data": {
      "text/plain": [
       "(8723, 15)"
      ]
     },
     "execution_count": 6,
     "metadata": {},
     "output_type": "execute_result"
    }
   ],
   "source": [
    "WEBSITE_content = WEBSITE_content[WEBSITE_content.included == 't']\n",
    "WEBSITE_content.shape"
   ]
  },
  {
   "cell_type": "code",
   "execution_count": 7,
   "metadata": {},
   "outputs": [],
   "source": [
    "class ViewMatrix:\n",
    "    def __init__(self, path):\n",
    "        self.path = path\n",
    "        self.original = True\n",
    "        self.item_indexer = AppendIndexer.load(WEB_SITE_itemindexer)\n",
    "        self.user_indexer = AppendIndexer.load(WEB_SITE_userindexer)\n",
    "        \n",
    "    def load_matrix(path):\n",
    "        \n",
    "        matrix = ViewMatrix(path)\n",
    "\n",
    "        try:\n",
    "            matrix.view_matrix = ViewMatrix \\\n",
    "                .load_sparse_lil(path)\n",
    "        except:\n",
    "            print('Error: loading', path)\n",
    "\n",
    "        return matrix\n",
    "\n",
    "    def load_sparse_lil(filename):\n",
    "        loader = np.load(filename, allow_pickle=True)\n",
    "        result = lil_matrix(tuple(loader[\"shape\"]), dtype=str(loader[\"dtype\"]))\n",
    "        result.data = loader[\"data\"]\n",
    "        result.rows = loader[\"rows\"]\n",
    "        return result\n",
    "    \n",
    "    def make_dense(self, user_min_view, item_min_view):\n",
    "        self.original = False\n",
    "        while True:\n",
    "            removed_rows_cnt = self.trim_users_with_few_views(user_min_view)\n",
    "            removed_columns_cnt = self.trim_columns_with_few_views(item_min_view)\n",
    "            if not removed_columns_cnt and not removed_rows_cnt:\n",
    "                break\n",
    "\n",
    "    def trim_users_with_few_views(self, user_min_view):\n",
    "        removing_row_indices = list(np.where(self.view_matrix.getnnz(1) < user_min_view)[0])\n",
    "        print('Number of users which should be deleted:', len(removing_row_indices))\n",
    "        self.trim_user_indices(to_remove_indices=removing_row_indices)\n",
    "        return len(removing_row_indices)\n",
    "\n",
    "    def trim_columns_with_few_views(self, column_min_view):\n",
    "        removing_column_indices = list(np.where(self.view_matrix.getnnz(0) < column_min_view)[0])\n",
    "        print('Number products which should be deleted:', len(removing_column_indices))\n",
    "        self.trim_column_indices(to_remove_indices=removing_column_indices)\n",
    "        return len(removing_column_indices)\n",
    "    \n",
    "    def trim_user_indices(self, to_remove_indices):\n",
    "        self.user_indexer.remove_indexes(to_remove_indices)\n",
    "        self.view_matrix = ViewMatrix.delete_row_lil(self.view_matrix, to_remove_indices)\n",
    "    \n",
    "    def trim_column_indices(self, to_remove_indices):\n",
    "        self.item_indexer.remove_indexes(to_remove_indices)\n",
    "        self.view_matrix = ViewMatrix.delete_column_lil(self.view_matrix, to_remove_indices)\n",
    "    \n",
    "    def delete_column_lil(mat: lil_matrix, *i) -> lil_matrix:\n",
    "        mat = mat.transpose()\n",
    "        mat = ViewMatrix.delete_row_lil(mat, *i)\n",
    "        return mat.transpose()\n",
    "    \n",
    "    def delete_row_lil(mat: lil_matrix, *i) -> lil_matrix:\n",
    "        if not isinstance(mat, lil_matrix):\n",
    "            raise ValueError(\"works only for LIL format -- use .tolil() first\")\n",
    "        mat = mat.copy()\n",
    "        mat.rows = np.delete(mat.rows, i)\n",
    "        mat.data = np.delete(mat.data, i)\n",
    "        mat._shape = (mat.rows.shape[0], mat._shape[1])\n",
    "        return mat\n",
    "    def to_csr(self):\n",
    "        train_data = self.view_matrix.astype(np.float64)\n",
    "        train_data = train_data.tocoo()\n",
    "        train_data.data = np.log10(train_data.data) + 1\n",
    "        train_data = train_data.tocsr()\n",
    "        return train_data"
   ]
  },
  {
   "cell_type": "markdown",
   "metadata": {},
   "source": [
    "## colaborative filtering train"
   ]
  },
  {
   "cell_type": "code",
   "execution_count": 8,
   "metadata": {},
   "outputs": [],
   "source": [
    "def CFTrain(path: str, _alpha = 15, factors = 20):\n",
    "    now = time.time()\n",
    "    matrix = ViewMatrix.load_matrix(path)\n",
    "    print('View matrix loaded in', time.time() - now, 'seconds.')\n",
    "\n",
    "    now = time.time()\n",
    "    sparce_matrix = matrix.to_csr()\n",
    "    matrix.make_dense(user_min_view = 2, \n",
    "                      item_min_view = 2)\n",
    "    print('matrix has been made dense in', time.time() - now, 'seconds.')\n",
    "\n",
    "    als_model = ALS.Als(num_factors = factors,\n",
    "                        iterations = 15,\n",
    "                        num_threads = 15,\n",
    "                        alpha = _alpha)\n",
    "\n",
    "    implicit_matrix = matrix.to_csr()\n",
    "\n",
    "    print()\n",
    "    now = time.time()\n",
    "    als_model.fit(implicit_matrix)\n",
    "    alsTime = time.time() - now\n",
    "    print('ALS model is fitted in', time.time() - now, 'seconds.')\n",
    "    \n",
    "    print('Saving Data ...')\n",
    "    matrix.item_indexer.dump(SAVING1)\n",
    "    matrix.user_indexer.dump(SAVING2)\n",
    "    np.save(SAVING3, als_model.item_vectors)\n",
    "    np.save(SAVING4, als_model.user_vectors)\n",
    "    \n",
    "    return sparce_matrix, implicit_matrix, als_model.item_vectors, als_model.user_vectors, alsTime"
   ]
  },
  {
   "cell_type": "code",
   "execution_count": 9,
   "metadata": {},
   "outputs": [
    {
     "name": "stdout",
     "output_type": "stream",
     "text": [
      "View matrix loaded in 6.315735578536987 seconds.\n",
      "Number of users which should be deleted: 1863687\n",
      "Number products which should be deleted: 1308\n",
      "Number of users which should be deleted: 265\n",
      "Number products which should be deleted: 4\n",
      "Number of users which should be deleted: 1\n",
      "Number products which should be deleted: 1\n",
      "Number of users which should be deleted: 0\n",
      "Number products which should be deleted: 0\n",
      "matrix has been made dense in 15.595857620239258 seconds.\n",
      "\n",
      "ALS model is fitted in 9.893292665481567 seconds.\n",
      "Saving Data ...\n"
     ]
    }
   ],
   "source": [
    "sparce_matrix, implicit_matrix, item_vectors, user_vectors, alsTime = \\\n",
    "CFTrain(WEB_SITE_matrix, factors = 20)"
   ]
  },
  {
   "cell_type": "code",
   "execution_count": 10,
   "metadata": {
    "scrolled": true
   },
   "outputs": [
    {
     "name": "stdout",
     "output_type": "stream",
     "text": [
      "sparce matrix\t (2097150, 8190)\n",
      "implicit matrix\t (233197, 6877)\n",
      "item vectors\t (6877, 20)\n",
      "users vectors\t (233197, 20)\n"
     ]
    }
   ],
   "source": [
    "print('sparce matrix\\t', sparce_matrix.shape)\n",
    "print('implicit matrix\\t', implicit_matrix.shape)\n",
    "print('item vectors\\t', item_vectors.shape)\n",
    "print('users vectors\\t', user_vectors.shape)"
   ]
  },
  {
   "cell_type": "markdown",
   "metadata": {},
   "source": [
    "## KNN Models"
   ]
  },
  {
   "cell_type": "code",
   "execution_count": 11,
   "metadata": {},
   "outputs": [],
   "source": [
    "def sk_KNN(item_vectors, number_of_neighbours = 30):\n",
    "    start = time.time()\n",
    "\n",
    "    knn_distances_brute = []\n",
    "    knn_indices_brute = []\n",
    "\n",
    "    nbrs = NearestNeighbors(n_neighbors=number_of_neighbours, algorithm='ball_tree'). \\\n",
    "        fit(item_vectors)\n",
    "\n",
    "    knn_distances_brute, knn_indices_brute = nbrs.kneighbors(item_vectors)\n",
    "\n",
    "    end = time.time()\n",
    "    print('ball_tree time:', end-start)\n",
    "    \n",
    "    return knn_distances_brute, knn_indices_brute"
   ]
  },
  {
   "cell_type": "code",
   "execution_count": 12,
   "metadata": {},
   "outputs": [],
   "source": [
    "def sk_KNN_c(item_vectors, mapper, number_of_neighbours = 10):\n",
    "    start = time.time()\n",
    "\n",
    "    knn_distances_brute = []\n",
    "    knn_indices_brute = []\n",
    "\n",
    "    nbrs = NearestNeighbors(n_neighbors=number_of_neighbours, algorithm='ball_tree'). \\\n",
    "        fit(item_vectors)\n",
    "\n",
    "    knn_distances_brute, knn_indices_brute = nbrs.kneighbors(item_vectors)\n",
    "\n",
    "    end = time.time()\n",
    "    print('ball_tree time:', end-start)\n",
    "    a = [[mapper[j] for j in i]for i in knn_indices_brute]\n",
    "    \n",
    "    return knn_distances_brute, a"
   ]
  },
  {
   "cell_type": "code",
   "execution_count": 13,
   "metadata": {},
   "outputs": [],
   "source": [
    "def get_annoy_results(pages_vector, number_of_trees = 50, number_of_neighbours = 10):\n",
    "    \n",
    "    start = time.time()\n",
    "    annoy_model = annoy_model = AnnoyIndex(pages_vector.shape[1], 'angular')\n",
    "    \n",
    "    for index, vector in enumerate(pages_vector):\n",
    "        annoy_model.add_item(index, vector)\n",
    "    \n",
    "    annoy_model.build(number_of_trees)\n",
    "    \n",
    "    annoy_indices = []\n",
    "    annoy_distances = []\n",
    "\n",
    "    for i in pages_vector:\n",
    "        indices, distances = annoy_model. \\\n",
    "            get_nns_by_vector(i, number_of_neighbours, include_distances=True)\n",
    "        annoy_indices.append(indices)\n",
    "        annoy_distances.append(distances)\n",
    "    \n",
    "    duration = time.time() - start\n",
    "#     print('annoy time:', duration)\n",
    "    return annoy_indices, annoy_distances, duration"
   ]
  },
  {
   "cell_type": "code",
   "execution_count": 14,
   "metadata": {},
   "outputs": [],
   "source": [
    "def get_annoy_results_c(pages_vector, number_of_trees = 170, number_of_neighbours = 50):\n",
    "    \n",
    "    start = time.time()\n",
    "    annoy_model = annoy_model = AnnoyIndex(300, 'angular')\n",
    "    \n",
    "    for index, vector in pages_vector.items():\n",
    "        annoy_model.add_item(index, vector)\n",
    "    \n",
    "    annoy_model.build(number_of_trees)\n",
    "    \n",
    "    annoy_indices = []\n",
    "    annoy_distances = []\n",
    "\n",
    "    for j, i in pages_vector.items():\n",
    "        indices, distances = annoy_model. \\\n",
    "            get_nns_by_vector(i, number_of_neighbours, include_distances=True)\n",
    "        annoy_indices.append(indices)\n",
    "        annoy_distances.append(distances)\n",
    "    \n",
    "    duration = time.time() - start\n",
    "#     print('annoy time:', duration)\n",
    "    return annoy_indices, annoy_distances, duration"
   ]
  },
  {
   "cell_type": "markdown",
   "metadata": {},
   "source": [
    "## Runing KNN collaborative filtering"
   ]
  },
  {
   "cell_type": "code",
   "execution_count": 15,
   "metadata": {},
   "outputs": [],
   "source": [
    "item_indexer1 = \\\n",
    "AppendIndexer.load(SAVING1)"
   ]
  },
  {
   "cell_type": "markdown",
   "metadata": {},
   "source": [
    "## train content based"
   ]
  },
  {
   "cell_type": "code",
   "execution_count": 16,
   "metadata": {},
   "outputs": [],
   "source": [
    "items = []\n",
    "nulls = []\n",
    "for i in item_indexer1.get_items():\n",
    "    temp = {}\n",
    "    try:\n",
    "        item_index = item_indexer1.get(i)\n",
    "        c_vec = np.array(WEBSITE_content[WEBSITE_content['id'] == int(i)].content_vector)[0]\n",
    "        temp['content_vec'] = np.array([float(x) for x in str(c_vec)[1:-1].split(',')])\n",
    "        temp['id'] = i\n",
    "        temp['index'] = item_index\n",
    "        items.append(temp)\n",
    "    except:\n",
    "        nulls.append(item_index)"
   ]
  },
  {
   "cell_type": "code",
   "execution_count": 17,
   "metadata": {},
   "outputs": [],
   "source": [
    "item_content_map = {}\n",
    "for i in items:\n",
    "    item_content_map[i['index']] = i['content_vec']\n",
    "content_vec = []\n",
    "items_itex = []\n",
    "for i, j in item_content_map.items():\n",
    "    content_vec.append(j)\n",
    "    items_itex.append(i)\n",
    "# items_itex.index(1600)"
   ]
  },
  {
   "cell_type": "markdown",
   "metadata": {},
   "source": [
    "## Annoy accuracy"
   ]
  },
  {
   "cell_type": "markdown",
   "metadata": {},
   "source": [
    "collab"
   ]
  },
  {
   "cell_type": "code",
   "execution_count": 18,
   "metadata": {},
   "outputs": [
    {
     "name": "stdout",
     "output_type": "stream",
     "text": [
      "ball_tree time: 1.0780255794525146\n"
     ]
    }
   ],
   "source": [
    "Tknn_distances_brute, Tknn_indices_brute = sk_KNN(item_vectors, number_of_neighbours = 30)"
   ]
  },
  {
   "cell_type": "code",
   "execution_count": 19,
   "metadata": {
    "scrolled": true
   },
   "outputs": [
    {
     "name": "stderr",
     "output_type": "stream",
     "text": [
      "100%|██████████| 30/30 [20:13<00:00, 40.46s/it]\n"
     ]
    }
   ],
   "source": [
    "allt2 = []\n",
    "allndcgs2 = []\n",
    "for i in tqdm(range(30)):\n",
    "    tt = []\n",
    "    accs = []\n",
    "    ndcgs = []\n",
    "    trees = [3, 5, 6, 7, 8, 9, 10, 12,13,14, 15, 20, 30, 35, 40, 45, 50, 60, 75, 100, 125, 150, 175, 200, 250,  300]\n",
    "    for i in trees:\n",
    "        Tannoy_indices_CF, Tannoy_distances, Tduration = get_annoy_results(item_vectors, number_of_trees = i, number_of_neighbours = 10)\n",
    "        tt.append(6877/Tduration)\n",
    "        accs.append(calc_acc(Tannoy_indices_CF, Tknn_indices_brute, 11))\n",
    "        ndcgs.append(calc_nDCG(Tannoy_indices_CF, Tknn_indices_brute, 11))\n",
    "    allt2.append(tt)\n",
    "    allndcgs2.append(ndcgs)\n",
    "allt2 = np.array(allt2)\n",
    "allndcgs2 = np.array(allndcgs2)"
   ]
  },
  {
   "cell_type": "code",
   "execution_count": 20,
   "metadata": {},
   "outputs": [],
   "source": [
    "allt3 = np.mean(allt2, axis = 0)\n",
    "allndcgs3 = np.mean(allndcgs2, axis = 0)"
   ]
  },
  {
   "cell_type": "code",
   "execution_count": 40,
   "metadata": {},
   "outputs": [
    {
     "data": {
      "image/png": "[encoded data removed]",
      "text/plain": [
       "<Figure size 432x288 with 1 Axes>"
      ]
     },
     "metadata": {
      "needs_background": "light"
     },
     "output_type": "display_data"
    }
   ],
   "source": [
    "plt.plot(allndcgs3, allt3)\n",
    "trees = [3, 5, 6, 7, 8, 9, 10, 12,13,14, 15, 20, 30, 35, 40, 45, 50, 60, 75, 100, 125, 150, 175, 200, 250,  300]\n",
    "plt.ylabel(\"Recommendations per second\")\n",
    "plt.xlabel(\"Normalized Discounted Cumulative Gain (NDCG)\")\n",
    "plt.title('CF - ' + WEB_SITE_NAME)\n",
    "for i in [0,3,8,16, 25]:\n",
    "    plt.annotate(\n",
    "            str(trees[i]) + \" trees\",\n",
    "            xy=(allndcgs3[i], allt3[i]), xytext=(30, 30),\n",
    "            textcoords='offset points', ha='left', va='top',\n",
    "            bbox=dict(boxstyle='round,pad=0.5', fc='yellow', alpha=0.5),\n",
    "            arrowprops=dict(arrowstyle = '->', connectionstyle='arc3,rad=0'))\n",
    "plt.savefig(RESULTS_PATH + 'time_nDCG_CF_' + WEB_SITE_NAME + '.png', dpi=400)"
   ]
  },
  {
   "cell_type": "markdown",
   "metadata": {},
   "source": [
    "content"
   ]
  },
  {
   "cell_type": "code",
   "execution_count": 22,
   "metadata": {},
   "outputs": [
    {
     "name": "stdout",
     "output_type": "stream",
     "text": [
      "ball_tree time: 20.853485345840454\n"
     ]
    }
   ],
   "source": [
    "Aknn_distances_brute_CB, Aknn_indices_brute_CB = sk_KNN_c(content_vec, items_itex, number_of_neighbours = 15)"
   ]
  },
  {
   "cell_type": "code",
   "execution_count": 23,
   "metadata": {},
   "outputs": [
    {
     "data": {
      "text/plain": [
       "384.99691662906696"
      ]
     },
     "execution_count": 23,
     "metadata": {},
     "output_type": "execute_result"
    }
   ],
   "source": [
    "8723/22.65732431411743"
   ]
  },
  {
   "cell_type": "code",
   "execution_count": 24,
   "metadata": {
    "scrolled": true
   },
   "outputs": [
    {
     "name": "stderr",
     "output_type": "stream",
     "text": [
      "100%|██████████| 30/30 [16:46<00:00, 33.56s/it]\n"
     ]
    }
   ],
   "source": [
    "allt = []\n",
    "allndcgs = []\n",
    "for i in tqdm(range(30)):\n",
    "    tt = []\n",
    "    accs = []\n",
    "    ndcgs = []\n",
    "    trees = [3, 5, 6, 7, 8, 9, 10, 12,13,14, 15, 20, 30, 35, 40, 45, 50, 60, 75, 100, 125, 150, 175, 200, 250,  300]\n",
    "    for i in trees:\n",
    "        Tannoy_indices_CB, Tannoy_distances_CB, Tduration_CB = get_annoy_results_c(item_content_map, number_of_trees = i, number_of_neighbours = 10)\n",
    "        tt.append(8723/Tduration_CB)\n",
    "        accs.append(calc_acc(Tannoy_indices_CB, Aknn_indices_brute_CB, 10))\n",
    "        ndcgs.append(calc_nDCG(Tannoy_indices_CB, Aknn_indices_brute_CB, 13))\n",
    "    allt.append(tt)\n",
    "    allndcgs.append(ndcgs)\n",
    "allt = np.array(allt)\n",
    "allndcgs = np.array(allndcgs)\n"
   ]
  },
  {
   "cell_type": "code",
   "execution_count": 25,
   "metadata": {},
   "outputs": [],
   "source": [
    "allt1 = np.mean(allt, axis = 0)\n",
    "allndcgs1 = np.mean(allndcgs, axis = 0)"
   ]
  },
  {
   "cell_type": "code",
   "execution_count": 41,
   "metadata": {},
   "outputs": [
    {
     "data": {
      "image/png": "[encoded data removed]",
      "text/plain": [
       "<Figure size 432x288 with 1 Axes>"
      ]
     },
     "metadata": {
      "needs_background": "light"
     },
     "output_type": "display_data"
    }
   ],
   "source": [
    "trees = [3, 5, 6, 7, 8, 9, 10, 12,13,14, 15, 20, 30, 35, 40, 45, 50, 60, 75, 100, 125, 150, 175, 200, 250,  300]\n",
    "plt.plot(allndcgs1, allt1)\n",
    "plt.ylabel(\"Recommendations per second\")\n",
    "plt.xlabel(\"Normalized Discounted Cumulative Gain (NDCG)\")\n",
    "plt.title('CB - ' + WEB_SITE_NAME)\n",
    "for i in [0,5,10,15,20, 24]:\n",
    "    plt.annotate(\n",
    "            str(trees[i]) + \" trees\",\n",
    "            xy=(allndcgs1[i], allt1[i]), xytext=(30, 30),\n",
    "            textcoords='offset points', ha='left', va='top',\n",
    "            bbox=dict(boxstyle='round, pad=0.5', fc='yellow', alpha=0.5),\n",
    "            arrowprops=dict(arrowstyle = '->', connectionstyle='arc3,rad=0'))\n",
    "plt.savefig(RESULTS_PATH + 'time_nDCG_CB_' + WEB_SITE_NAME + '.png', dpi=400)"
   ]
  },
  {
   "cell_type": "markdown",
   "metadata": {},
   "source": [
    "## time - #features"
   ]
  },
  {
   "cell_type": "code",
   "execution_count": null,
   "metadata": {},
   "outputs": [],
   "source": [
    "alst = []\n",
    "annoyt = []\n",
    "annoyt150 = []\n",
    "knnt = []\n",
    "accs = []\n",
    "ndcgs = []\n",
    "features = [5, 10, 15, 20, 25, 30, 35, 40, 50, 60, 80, 100, 120, 140, 160, 180, 200, 220, 240, 260, 280, 300]"
   ]
  },
  {
   "cell_type": "code",
   "execution_count": null,
   "metadata": {},
   "outputs": [],
   "source": [
    "for i in features:\n",
    "    print('features: ' + str(i))\n",
    "    sparce_matrix5, implicit_matrix5, item_vectors5, user_vectors5, ALS_Time = \\\n",
    "    CFTrain(WEB_SITE_matrix, factors = i)\n",
    "    alst.append(ALS_Time)\n",
    "\n",
    "    now = time.time()\n",
    "    annoy_indices_CFi, annoy_distancesi, durationi = get_annoy_results(item_vectors5, number_of_neighbours = 10)\n",
    "    annoyt.append(time.time() - now)\n",
    "\n",
    "    now = time.time()\n",
    "    annoy_indices_CFi, annoy_distancesi, durationi = get_annoy_results(item_vectors5, number_of_trees = 150, number_of_neighbours = 10)\n",
    "    annoyt150.append(time.time() - now)\n",
    "\n",
    "    now = time.time()\n",
    "    knn_distances_brutei, knn_indices_brutei = sk_KNN(item_vectors5, number_of_neighbours = 10)\n",
    "    knnt.append(time.time() - now)\n",
    "\n",
    "    accs.append(calc_acc(annoy_indices_CFi, knn_indices_brutei, 10))\n",
    "    ndcgs.append(calc_nDCG(annoy_indices_CFi, knn_indices_brutei, 10))"
   ]
  },
  {
   "cell_type": "code",
   "execution_count": null,
   "metadata": {},
   "outputs": [],
   "source": [
    "print(alst)\n",
    "print(annoyt)\n",
    "print(annoyt150)\n",
    "print(knnt)\n",
    "print(accs)\n",
    "print(ndcgs)"
   ]
  },
  {
   "cell_type": "code",
   "execution_count": 33,
   "metadata": {},
   "outputs": [],
   "source": [
    "# alst = [6.15050196647644, 7.589384078979492, 9.98952865600586, 10.711763143539429, 14.620095014572144, 18.732149124145508, 84.2838044166565, 89.42482948303223, 114.60924625396729, 153.58080077171326, 328.83570289611816, 484.86647629737854, 618.9409790039062, 929.9091029167175, 1287.0432839393616, 1685.2656395435333, 2808.3832564353943, 3449.2337753772736, 4116.154020309448, 5639.494827508926, 6508.6048147678375]\n",
    "# annoyt = [1.08254838, 0.96629797, 0.9242843 , 0.87962387, 0.85262046, 0.79565946, 0.77240711, 0.73983479, 0.71700769, 0.7067995 , 0.70250529, 0.70883131, 0.70684481, 0.73545814, 0.74710369, 0.78903913, 0.80155802, 0.86104798, 0.89263225, 0.96022302, 0.95924781, 0.98024781]\n",
    "# annoyt150 = [3.197788953781128, 2.687863349914551, 2.7068495750427246, 2.370072841644287, 2.156468391418457, 2.2803003787994385, 2.090477705001831, 1.9102835655212402, 1.9289910793304443, 1.9350402355194092, 1.8130168914794922, 1.8827829360961914, 1.77535080909729, 1.9186785221099854, 1.7952370643615723, 1.8383240699768066, 1.7986578941345215, 1.9579110145568848, 2.0136091709136963, 2.144573926925659, 2.163679838180542, 2.163679838180542]\n",
    "# knnt = [0.3063969612121582, 0.5551221370697021, 0.7591581344604492, 0.9750919342041016, 1.2589349746704102, 1.4075870513916016, 1.763763189315796, 1.9242370128631592, 2.3055875301361084, 2.7826828956604004, 4.749085426330566, 6.809983968734741, 8.50152063369751, 10.003107070922852, 11.503920078277588, 12.858023881912231, 14.28891658782959, 15.586156606674194, 16.799457788467407, 18.877679109573364, 19.313379764556885, 19.313379764556885]\n",
    "# accs = [0.12793046063367425, 0.19506244648021587, 0.22571211607128433, 0.24652222383791383, 0.26537734477242986, 0.27297109527733343, 0.2814373192445026, 0.28823938086698014, 0.30185966102790296, 0.3160777470796375, 0.32956877191281725, 0.3423004216955068, 0.3587966328987123, 0.37096279062252596, 0.3799621928166352, 0.39052881585962873, 0.3979933110367893, 0.4029373273229606, 0.4112904528783546, 0.4174623947780847, 0.42290727545926027]\n",
    "# ndcgs = [0.10767360998286381, 0.16470088519858192, 0.19102143484369105, 0.20831224714747743, 0.2241932091048414, 0.23058533948113838, 0.2378233423079659, 0.2433912837195122, 0.25485586396084026, 0.26644019343716063, 0.27805367676769965, 0.2886241523175816, 0.3026225286968232, 0.31262019959143855, 0.3204764464923836, 0.3292857822171983, 0.3357298780495747, 0.34013670324948375, 0.34733789792423037, 0.352562057177892, 0.35756566236263726]"
   ]
  },
  {
   "cell_type": "code",
   "execution_count": 42,
   "metadata": {},
   "outputs": [
    {
     "data": {
      "image/png": "[encoded data removed]",
      "text/plain": [
       "<Figure size 432x288 with 1 Axes>"
      ]
     },
     "metadata": {
      "needs_background": "light"
     },
     "output_type": "display_data"
    }
   ],
   "source": [
    "features = [5, 10, 15, 20, 25, 30, 35, 40, 50, 60, 80, 100, 120, 140, 160, 180, 200, 220, 240, 260, 280, 300]\n",
    "plt.plot(features, knnt, label = 'SK-learn KNN')\n",
    "plt.plot(features, annoyt150, label = 'Annoy (150 trees)')\n",
    "plt.plot(features, annoyt, label = 'Annoy (30 trees)')\n",
    "plt.title('Annoy vs skLearn - ' + WEB_SITE_NAME)\n",
    "plt.xlabel('# features')\n",
    "plt.ylabel('Time (seconds)')\n",
    "plt.legend(loc=\"upper left\")\n",
    "plt.savefig(RESULTS_PATH + 'annoyVSsk2_' + WEB_SITE_NAME + '.png', dpi=400)"
   ]
  },
  {
   "cell_type": "code",
   "execution_count": 43,
   "metadata": {},
   "outputs": [
    {
     "data": {
      "image/png": "[encoded data removed]",
      "text/plain": [
       "<Figure size 432x288 with 1 Axes>"
      ]
     },
     "metadata": {
      "needs_background": "light"
     },
     "output_type": "display_data"
    }
   ],
   "source": [
    "features = [5, 10, 15, 20, 25, 30, 35, 40, 50, 60, 80, 100, 120, 140, 160, 180, 200, 220, 240, 260, 280, 300]\n",
    "plt.plot(features, 6378/np.array(knnt), label = 'SK-learn KNN')\n",
    "plt.plot(features, 6378/np.array(annoyt150), label = 'Annoy (150 trees)')\n",
    "plt.plot(features, 6378/np.array(annoyt), label = 'Annoy (40 trees)')\n",
    "plt.title('Annoy vs skLearn - ' + WEB_SITE_NAME)\n",
    "plt.xlabel('# features')\n",
    "plt.ylabel('Recommendations per second')\n",
    "plt.legend(loc=\"upper right\")\n",
    "plt.savefig(RESULTS_PATH + 'annoyVSsk_' + WEB_SITE_NAME + '.png', dpi=400)"
   ]
  }
 ],
 "metadata": {
  "kernelspec": {
   "display_name": "Python 3",
   "language": "python",
   "name": "python3"
  },
  "language_info": {
   "codemirror_mode": {
    "name": "ipython",
    "version": 3
   },
   "file_extension": ".py",
   "mimetype": "text/x-python",
   "name": "python",
   "nbconvert_exporter": "python",
   "pygments_lexer": "ipython3",
   "version": "3.8.5"
  }
 },
 "nbformat": 4,
 "nbformat_minor": 2
}
