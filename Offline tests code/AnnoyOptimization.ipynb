{
 "cells": [
  {
   "cell_type": "code",
   "execution_count": 7,
   "metadata": {},
   "outputs": [],
   "source": [
    "WEB_SITE_NAME = 'Entekhab.ir'\n",
    "TEST_SET_SIZE = 0.62 # max = 1\n",
    "TEST_SET_SIZE1 = 0.59 # max = 1"
   ]
  },
  {
   "cell_type": "code",
   "execution_count": 8,
   "metadata": {},
   "outputs": [],
   "source": [
    "WEB_SITE_matrix = '../../models/' + WEB_SITE_NAME + '/view_matrix/lil_matrix.npz'\n",
    "WEB_SITE_CONTENT_CSV = '../../models/content/' + WEB_SITE_NAME + '.csv'\n",
    "WEB_SITE_itemindexer = '../../models/' + WEB_SITE_NAME + '/view_matrix/item_indexer.indexer'\n",
    "WEB_SITE_userindexer = '../../models/' + WEB_SITE_NAME + '/view_matrix/user_indexer.indexer'\n",
    "SAVING1 = './alisResult/' + WEB_SITE_NAME + '/ALS/ali_item_indexer_factorized.indexer'\n",
    "SAVING2 = './alisResult/' + WEB_SITE_NAME + '/ALS/ali_user_indexer_factorized.indexer'\n",
    "SAVING3 = './alisResult/' + WEB_SITE_NAME + '/ALS/ali_items_vectors.npy'\n",
    "SAVING4 = './alisResult/' + WEB_SITE_NAME + '/ALS/ali_users_vectors.npy'\n",
    "RESULTS_PATH = RESULTS = '../results/annoy_opt/' + WEB_SITE_NAME + '/'"
   ]
  },
  {
   "cell_type": "code",
   "execution_count": 9,
   "metadata": {},
   "outputs": [],
   "source": [
    "import pandas as pd\n",
    "import numpy as np\n",
    "import matplotlib.pyplot as plt\n",
    "from matplotlib import colors\n",
    "from matplotlib.ticker import PercentFormatter\n",
    "from tqdm import tqdm\n",
    "\n",
    "import timeit\n",
    "import time\n",
    "import math\n",
    "\n",
    "# ./indexer\n",
    "from indexer import AppendIndexer\n",
    "import ALS\n",
    "\n",
    "# Annoy\n",
    "from annoy import AnnoyIndex\n",
    "\n",
    "#SKLearn \n",
    "from sklearn.neighbors import NearestNeighbors\n",
    "from sklearn.metrics import average_precision_score\n",
    "from sklearn.metrics import pairwise_distances\n",
    "\n",
    "# scipy\n",
    "from scipy.spatial import distance\n",
    "from scipy.sparse import lil_matrix"
   ]
  },
  {
   "cell_type": "code",
   "execution_count": 10,
   "metadata": {},
   "outputs": [],
   "source": [
    "def calc_acc(annoy_indices, knn_indices, k):\n",
    "    aa = []\n",
    "    for i in range(len(annoy_indices)):\n",
    "        b = []\n",
    "        for j in annoy_indices[i][1:]:\n",
    "            if j in knn_indices[i][:k]:\n",
    "                b.append(1)\n",
    "            else:\n",
    "                b.append(0)\n",
    "        aa.append(b)\n",
    "    res2 = []\n",
    "    for a in aa:\n",
    "        acc2 = 0\n",
    "        for i in range(len(a)):\n",
    "            acc2 += a[i]\n",
    "        if not len(a):\n",
    "            res2.append(0)\n",
    "        else:\n",
    "            res2.append(acc2/len(a))\n",
    "    return np.array(res2).mean()\n",
    "def calc_nDCG(annoy_indices, knn_indices, k, discount = 3):\n",
    "    aa = []\n",
    "    for i in range(len(annoy_indices)):\n",
    "        b = []\n",
    "        for j in annoy_indices[i][1:]:\n",
    "            if j in knn_indices[i][:k]:\n",
    "                b.append(1)\n",
    "            else:\n",
    "                b.append(0)\n",
    "        aa.append(b)\n",
    "    res = []\n",
    "    for a in aa:\n",
    "        acc = 0\n",
    "        for i in range(len(a)):\n",
    "            acc += a[i]/math.log(i+7, 7)\n",
    "        if not len(a):\n",
    "            res.append(0)\n",
    "        else:\n",
    "            res.append(acc/len(a))\n",
    "    return np.array(res).mean()\n"
   ]
  },
  {
   "cell_type": "markdown",
   "metadata": {},
   "source": [
    "## loading data"
   ]
  },
  {
   "cell_type": "code",
   "execution_count": 11,
   "metadata": {
    "scrolled": true
   },
   "outputs": [
    {
     "data": {
      "text/html": [
       "<div>\n",
       "<style scoped>\n",
       "    .dataframe tbody tr th:only-of-type {\n",
       "        vertical-align: middle;\n",
       "    }\n",
       "\n",
       "    .dataframe tbody tr th {\n",
       "        vertical-align: top;\n",
       "    }\n",
       "\n",
       "    .dataframe thead th {\n",
       "        text-align: right;\n",
       "    }\n",
       "</style>\n",
       "<table border=\"1\" class=\"dataframe\">\n",
       "  <thead>\n",
       "    <tr style=\"text-align: right;\">\n",
       "      <th></th>\n",
       "      <th>Unnamed: 0</th>\n",
       "      <th>id</th>\n",
       "      <th>created</th>\n",
       "      <th>content_vector</th>\n",
       "      <th>title</th>\n",
       "      <th>cleaned_url</th>\n",
       "      <th>website_id</th>\n",
       "      <th>included</th>\n",
       "      <th>is_amp</th>\n",
       "      <th>has_image_meta</th>\n",
       "      <th>has_title_meta</th>\n",
       "      <th>subdomain_id</th>\n",
       "      <th>title_vector</th>\n",
       "      <th>image_id</th>\n",
       "      <th>cats</th>\n",
       "      <th>features_extracted</th>\n",
       "      <th>page_identifier</th>\n",
       "    </tr>\n",
       "  </thead>\n",
       "  <tbody>\n",
       "    <tr>\n",
       "      <th>0</th>\n",
       "      <td>5</td>\n",
       "      <td>8475221</td>\n",
       "      <td>2020-12-01 18:40:09.766526+03:30</td>\n",
       "      <td>{1.03425741195679,-0.995323657989502,-0.525914...</td>\n",
       "      <td>موگرینی: اتحادیه اروپا می‌تواند کاری کند که بر...</td>\n",
       "      <td>entekhab.ir/fa/news/587656/%D9%85%D9%88%DA%AF%...</td>\n",
       "      <td>2</td>\n",
       "      <td>t</td>\n",
       "      <td>f</td>\n",
       "      <td>t</td>\n",
       "      <td>t</td>\n",
       "      <td>73</td>\n",
       "      <td>{1.35345149040222,-1.09627091884613,-1.1427240...</td>\n",
       "      <td>3150565.0</td>\n",
       "      <td>{15}</td>\n",
       "      <td>f</td>\n",
       "      <td>47285378</td>\n",
       "    </tr>\n",
       "    <tr>\n",
       "      <th>1</th>\n",
       "      <td>6</td>\n",
       "      <td>8475260</td>\n",
       "      <td>2020-12-01 18:45:07.809365+03:30</td>\n",
       "      <td>{0.977447152137756,-0.836534082889557,0.622178...</td>\n",
       "      <td>دو نماینده مجلس در خصوص تصویب کلیات طرح اقدام ...</td>\n",
       "      <td>entekhab.ir/fa/news/587654/%D8%AF%D9%88-%D9%86...</td>\n",
       "      <td>2</td>\n",
       "      <td>t</td>\n",
       "      <td>f</td>\n",
       "      <td>t</td>\n",
       "      <td>t</td>\n",
       "      <td>73</td>\n",
       "      <td>{1.14356899261475,-0.720115184783936,0.1236076...</td>\n",
       "      <td>3150586.0</td>\n",
       "      <td>{15}</td>\n",
       "      <td>f</td>\n",
       "      <td>47287000</td>\n",
       "    </tr>\n",
       "    <tr>\n",
       "      <th>2</th>\n",
       "      <td>7</td>\n",
       "      <td>8475261</td>\n",
       "      <td>2020-12-01 18:45:07.810706+03:30</td>\n",
       "      <td>{0.93014258146286,0.118128687143326,-1.5581080...</td>\n",
       "      <td>استقلال ۰ - ۰ پیکان / تقابل شاگردان تارتار و ف...</td>\n",
       "      <td>entekhab.ir/fa/news/587653/%D8%A7%D8%B3%D8%AA%...</td>\n",
       "      <td>2</td>\n",
       "      <td>t</td>\n",
       "      <td>f</td>\n",
       "      <td>t</td>\n",
       "      <td>t</td>\n",
       "      <td>73</td>\n",
       "      <td>{0.793892502784729,-0.314135849475861,-1.48226...</td>\n",
       "      <td>3150587.0</td>\n",
       "      <td>{13}</td>\n",
       "      <td>f</td>\n",
       "      <td>47287424</td>\n",
       "    </tr>\n",
       "    <tr>\n",
       "      <th>3</th>\n",
       "      <td>8</td>\n",
       "      <td>8475262</td>\n",
       "      <td>2020-12-01 18:45:07.811924+03:30</td>\n",
       "      <td>{0.671531438827515,-1.08833396434784,0.2834596...</td>\n",
       "      <td>مدیر کل آژانس اتمی: هنوز نشانه‌هایی از کاهش هم...</td>\n",
       "      <td>entekhab.ir/fa/news/587655/%D9%85%D8%AF%DB%8C%...</td>\n",
       "      <td>2</td>\n",
       "      <td>t</td>\n",
       "      <td>f</td>\n",
       "      <td>t</td>\n",
       "      <td>t</td>\n",
       "      <td>73</td>\n",
       "      <td>{1.52640402317047,-2.63302803039551,-0.1914654...</td>\n",
       "      <td>3150588.0</td>\n",
       "      <td>{15}</td>\n",
       "      <td>f</td>\n",
       "      <td>47288179</td>\n",
       "    </tr>\n",
       "    <tr>\n",
       "      <th>4</th>\n",
       "      <td>10</td>\n",
       "      <td>8475305</td>\n",
       "      <td>2020-12-01 18:50:08.762443+03:30</td>\n",
       "      <td>{0.0111994734033942,-0.789520621299744,-0.5108...</td>\n",
       "      <td>وزیر ارشاد: دوست نادان خطرناک‌تر از دشمن داناس...</td>\n",
       "      <td>entekhab.ir/fa/news/587657/%D9%88%D8%B2%DB%8C%...</td>\n",
       "      <td>2</td>\n",
       "      <td>t</td>\n",
       "      <td>f</td>\n",
       "      <td>t</td>\n",
       "      <td>t</td>\n",
       "      <td>73</td>\n",
       "      <td>{0.304176688194275,-0.579971969127655,-0.76142...</td>\n",
       "      <td>3150611.0</td>\n",
       "      <td>{}</td>\n",
       "      <td>f</td>\n",
       "      <td>47288731</td>\n",
       "    </tr>\n",
       "  </tbody>\n",
       "</table>\n",
       "</div>"
      ],
      "text/plain": [
       "   Unnamed: 0       id                           created  \\\n",
       "0           5  8475221  2020-12-01 18:40:09.766526+03:30   \n",
       "1           6  8475260  2020-12-01 18:45:07.809365+03:30   \n",
       "2           7  8475261  2020-12-01 18:45:07.810706+03:30   \n",
       "3           8  8475262  2020-12-01 18:45:07.811924+03:30   \n",
       "4          10  8475305  2020-12-01 18:50:08.762443+03:30   \n",
       "\n",
       "                                      content_vector  \\\n",
       "0  {1.03425741195679,-0.995323657989502,-0.525914...   \n",
       "1  {0.977447152137756,-0.836534082889557,0.622178...   \n",
       "2  {0.93014258146286,0.118128687143326,-1.5581080...   \n",
       "3  {0.671531438827515,-1.08833396434784,0.2834596...   \n",
       "4  {0.0111994734033942,-0.789520621299744,-0.5108...   \n",
       "\n",
       "                                               title  \\\n",
       "0  موگرینی: اتحادیه اروپا می‌تواند کاری کند که بر...   \n",
       "1  دو نماینده مجلس در خصوص تصویب کلیات طرح اقدام ...   \n",
       "2  استقلال ۰ - ۰ پیکان / تقابل شاگردان تارتار و ف...   \n",
       "3  مدیر کل آژانس اتمی: هنوز نشانه‌هایی از کاهش هم...   \n",
       "4  وزیر ارشاد: دوست نادان خطرناک‌تر از دشمن داناس...   \n",
       "\n",
       "                                         cleaned_url  website_id included  \\\n",
       "0  entekhab.ir/fa/news/587656/%D9%85%D9%88%DA%AF%...           2        t   \n",
       "1  entekhab.ir/fa/news/587654/%D8%AF%D9%88-%D9%86...           2        t   \n",
       "2  entekhab.ir/fa/news/587653/%D8%A7%D8%B3%D8%AA%...           2        t   \n",
       "3  entekhab.ir/fa/news/587655/%D9%85%D8%AF%DB%8C%...           2        t   \n",
       "4  entekhab.ir/fa/news/587657/%D9%88%D8%B2%DB%8C%...           2        t   \n",
       "\n",
       "  is_amp has_image_meta has_title_meta  subdomain_id  \\\n",
       "0      f              t              t            73   \n",
       "1      f              t              t            73   \n",
       "2      f              t              t            73   \n",
       "3      f              t              t            73   \n",
       "4      f              t              t            73   \n",
       "\n",
       "                                        title_vector   image_id  cats  \\\n",
       "0  {1.35345149040222,-1.09627091884613,-1.1427240...  3150565.0  {15}   \n",
       "1  {1.14356899261475,-0.720115184783936,0.1236076...  3150586.0  {15}   \n",
       "2  {0.793892502784729,-0.314135849475861,-1.48226...  3150587.0  {13}   \n",
       "3  {1.52640402317047,-2.63302803039551,-0.1914654...  3150588.0  {15}   \n",
       "4  {0.304176688194275,-0.579971969127655,-0.76142...  3150611.0    {}   \n",
       "\n",
       "  features_extracted  page_identifier  \n",
       "0                  f         47285378  \n",
       "1                  f         47287000  \n",
       "2                  f         47287424  \n",
       "3                  f         47288179  \n",
       "4                  f         47288731  "
      ]
     },
     "execution_count": 11,
     "metadata": {},
     "output_type": "execute_result"
    }
   ],
   "source": [
    "WEBSITE_content = pd.read_csv(WEB_SITE_CONTENT_CSV)\n",
    "WEBSITE_content.head(5)"
   ]
  },
  {
   "cell_type": "code",
   "execution_count": 12,
   "metadata": {},
   "outputs": [
    {
     "name": "stdout",
     "output_type": "stream",
     "text": [
      "(95321, 17)\n"
     ]
    }
   ],
   "source": [
    "print(WEBSITE_content.shape)"
   ]
  },
  {
   "cell_type": "code",
   "execution_count": 13,
   "metadata": {},
   "outputs": [
    {
     "data": {
      "text/plain": [
       "(95318, 17)"
      ]
     },
     "execution_count": 13,
     "metadata": {},
     "output_type": "execute_result"
    }
   ],
   "source": [
    "WEBSITE_content = WEBSITE_content[WEBSITE_content.included == 't']\n",
    "WEBSITE_content.shape"
   ]
  },
  {
   "cell_type": "code",
   "execution_count": 14,
   "metadata": {},
   "outputs": [],
   "source": [
    "class ViewMatrix:\n",
    "    def __init__(self, path):\n",
    "        self.path = path\n",
    "        self.original = True\n",
    "        self.item_indexer = AppendIndexer.load(WEB_SITE_itemindexer)\n",
    "        self.user_indexer = AppendIndexer.load(WEB_SITE_userindexer)\n",
    "        \n",
    "    def load_matrix(path):\n",
    "        \n",
    "        matrix = ViewMatrix(path)\n",
    "\n",
    "        try:\n",
    "            matrix.view_matrix = ViewMatrix \\\n",
    "                .load_sparse_lil(path)\n",
    "        except:\n",
    "            print('Error: loading', path)\n",
    "\n",
    "        return matrix\n",
    "\n",
    "    def load_sparse_lil(filename):\n",
    "        loader = np.load(filename, allow_pickle=True)\n",
    "        result = lil_matrix(tuple(loader[\"shape\"]), dtype=str(loader[\"dtype\"]))\n",
    "        result.data = loader[\"data\"]\n",
    "        result.rows = loader[\"rows\"]\n",
    "        return result\n",
    "    \n",
    "    def make_dense(self, user_min_view, item_min_view):\n",
    "        self.original = False\n",
    "        while True:\n",
    "            removed_rows_cnt = self.trim_users_with_few_views(user_min_view)\n",
    "            removed_columns_cnt = self.trim_columns_with_few_views(item_min_view)\n",
    "            if not removed_columns_cnt and not removed_rows_cnt:\n",
    "                break\n",
    "\n",
    "    def trim_users_with_few_views(self, user_min_view):\n",
    "        removing_row_indices = list(np.where(self.view_matrix.getnnz(1) < user_min_view)[0])\n",
    "        print('Number of users which should be deleted:', len(removing_row_indices))\n",
    "        self.trim_user_indices(to_remove_indices=removing_row_indices)\n",
    "        return len(removing_row_indices)\n",
    "\n",
    "    def trim_columns_with_few_views(self, column_min_view):\n",
    "        removing_column_indices = list(np.where(self.view_matrix.getnnz(0) < column_min_view)[0])\n",
    "        print('Number products which should be deleted:', len(removing_column_indices))\n",
    "        self.trim_column_indices(to_remove_indices=removing_column_indices)\n",
    "        return len(removing_column_indices)\n",
    "    \n",
    "    def trim_user_indices(self, to_remove_indices):\n",
    "        self.user_indexer.remove_indexes(to_remove_indices)\n",
    "        self.view_matrix = ViewMatrix.delete_row_lil(self.view_matrix, to_remove_indices)\n",
    "    \n",
    "    def trim_column_indices(self, to_remove_indices):\n",
    "        self.item_indexer.remove_indexes(to_remove_indices)\n",
    "        self.view_matrix = ViewMatrix.delete_column_lil(self.view_matrix, to_remove_indices)\n",
    "    \n",
    "    def delete_column_lil(mat: lil_matrix, *i) -> lil_matrix:\n",
    "        mat = mat.transpose()\n",
    "        mat = ViewMatrix.delete_row_lil(mat, *i)\n",
    "        return mat.transpose()\n",
    "    \n",
    "    def delete_row_lil(mat: lil_matrix, *i) -> lil_matrix:\n",
    "        if not isinstance(mat, lil_matrix):\n",
    "            raise ValueError(\"works only for LIL format -- use .tolil() first\")\n",
    "        mat = mat.copy()\n",
    "        mat.rows = np.delete(mat.rows, i)\n",
    "        mat.data = np.delete(mat.data, i)\n",
    "        mat._shape = (mat.rows.shape[0], mat._shape[1])\n",
    "        return mat\n",
    "    def to_csr(self):\n",
    "        train_data = self.view_matrix.astype(np.float64)\n",
    "        train_data = train_data.tocoo()\n",
    "        train_data.data = np.log10(train_data.data) + 1\n",
    "        train_data = train_data.tocsr()\n",
    "        return train_data"
   ]
  },
  {
   "cell_type": "markdown",
   "metadata": {},
   "source": [
    "## colaborative filtering train"
   ]
  },
  {
   "cell_type": "code",
   "execution_count": 15,
   "metadata": {},
   "outputs": [],
   "source": [
    "def CFTrain(path: str, _alpha = 95, factors = 20):\n",
    "    now = time.time()\n",
    "    matrix = ViewMatrix.load_matrix(path)\n",
    "    print('View matrix loaded in', time.time() - now, 'seconds.')\n",
    "\n",
    "    now = time.time()\n",
    "    sparce_matrix = matrix.to_csr()\n",
    "    matrix.make_dense(user_min_view = 2, \n",
    "                      item_min_view = 2)\n",
    "    print('matrix has been made dense in', time.time() - now, 'seconds.')\n",
    "\n",
    "    als_model = ALS.Als(num_factors = factors,\n",
    "                        iterations = 15,\n",
    "                        num_threads = 15,\n",
    "                        alpha = _alpha)\n",
    "\n",
    "    implicit_matrix = matrix.to_csr()\n",
    "\n",
    "    print()\n",
    "    now = time.time()\n",
    "    als_model.fit(implicit_matrix)\n",
    "    alsTime = time.time() - now\n",
    "    print('ALS model is fitted in', time.time() - now, 'seconds.')\n",
    "    \n",
    "    print('Saving Data ...')\n",
    "    matrix.item_indexer.dump(SAVING1)\n",
    "    matrix.user_indexer.dump(SAVING2)\n",
    "    np.save(SAVING3, als_model.item_vectors)\n",
    "    np.save(SAVING4, als_model.user_vectors)\n",
    "    \n",
    "    return sparce_matrix, implicit_matrix, als_model.item_vectors, als_model.user_vectors, alsTime"
   ]
  },
  {
   "cell_type": "code",
   "execution_count": 16,
   "metadata": {},
   "outputs": [
    {
     "name": "stdout",
     "output_type": "stream",
     "text": [
      "View matrix loaded in 15.681806802749634 seconds.\n",
      "Number of users which should be deleted: 3374017\n",
      "Number products which should be deleted: 51760\n",
      "Number of users which should be deleted: 3399\n",
      "Number products which should be deleted: 153\n",
      "Number of users which should be deleted: 73\n",
      "Number products which should be deleted: 3\n",
      "Number of users which should be deleted: 3\n",
      "Number products which should be deleted: 2\n",
      "Number of users which should be deleted: 1\n",
      "Number products which should be deleted: 0\n",
      "Number of users which should be deleted: 0\n",
      "Number products which should be deleted: 0\n",
      "matrix has been made dense in 81.91607093811035 seconds.\n",
      "\n",
      "ALS model is fitted in 64.08870673179626 seconds.\n",
      "Saving Data ...\n"
     ]
    }
   ],
   "source": [
    "sparce_matrix, implicit_matrix, item_vectors, user_vectors, alsTime = \\\n",
    "CFTrain(WEB_SITE_matrix, factors = 20)"
   ]
  },
  {
   "cell_type": "code",
   "execution_count": 17,
   "metadata": {
    "scrolled": true
   },
   "outputs": [
    {
     "name": "stdout",
     "output_type": "stream",
     "text": [
      "sparce matrix\t (4194302, 65534)\n",
      "implicit matrix\t (816809, 13616)\n",
      "item vectors\t (13616, 20)\n",
      "users vectors\t (816809, 20)\n"
     ]
    }
   ],
   "source": [
    "print('sparce matrix\\t', sparce_matrix.shape)\n",
    "print('implicit matrix\\t', implicit_matrix.shape)\n",
    "print('item vectors\\t', item_vectors.shape)\n",
    "print('users vectors\\t', user_vectors.shape)"
   ]
  },
  {
   "cell_type": "markdown",
   "metadata": {},
   "source": [
    "## KNN Models"
   ]
  },
  {
   "cell_type": "code",
   "execution_count": 18,
   "metadata": {},
   "outputs": [],
   "source": [
    "def sk_KNN(item_vectors, number_of_neighbours = 30):\n",
    "    start = time.time()\n",
    "\n",
    "    knn_distances_brute = []\n",
    "    knn_indices_brute = []\n",
    "\n",
    "    nbrs = NearestNeighbors(n_neighbors=number_of_neighbours, algorithm='ball_tree'). \\\n",
    "        fit(item_vectors)\n",
    "\n",
    "    knn_distances_brute, knn_indices_brute = nbrs.kneighbors(item_vectors)\n",
    "\n",
    "    end = time.time()\n",
    "    print('ball_tree time:', end-start)\n",
    "    \n",
    "    return knn_distances_brute, knn_indices_brute"
   ]
  },
  {
   "cell_type": "code",
   "execution_count": 19,
   "metadata": {},
   "outputs": [],
   "source": [
    "def sk_KNN_c(item_vectors, mapper, number_of_neighbours = 10):\n",
    "    start = time.time()\n",
    "\n",
    "    knn_distances_brute = []\n",
    "    knn_indices_brute = []\n",
    "\n",
    "    nbrs = NearestNeighbors(n_neighbors=number_of_neighbours, algorithm='ball_tree'). \\\n",
    "        fit(item_vectors)\n",
    "\n",
    "    knn_distances_brute, knn_indices_brute = nbrs.kneighbors(item_vectors)\n",
    "\n",
    "    end = time.time()\n",
    "    print('ball_tree time:', end-start)\n",
    "    a = [[mapper[j] for j in i]for i in knn_indices_brute]\n",
    "    \n",
    "    return knn_distances_brute, a"
   ]
  },
  {
   "cell_type": "code",
   "execution_count": 20,
   "metadata": {},
   "outputs": [],
   "source": [
    "def get_annoy_results(pages_vector, number_of_trees = 50, number_of_neighbours = 10):\n",
    "    \n",
    "    start = time.time()\n",
    "    annoy_model = annoy_model = AnnoyIndex(pages_vector.shape[1], 'angular')\n",
    "    \n",
    "    for index, vector in enumerate(pages_vector):\n",
    "        annoy_model.add_item(index, vector)\n",
    "    \n",
    "    annoy_model.build(number_of_trees)\n",
    "    \n",
    "    annoy_indices = []\n",
    "    annoy_distances = []\n",
    "\n",
    "    for i in pages_vector:\n",
    "        indices, distances = annoy_model. \\\n",
    "            get_nns_by_vector(i, number_of_neighbours, include_distances=True)\n",
    "        annoy_indices.append(indices)\n",
    "        annoy_distances.append(distances)\n",
    "    \n",
    "    duration = time.time() - start\n",
    "#     print('annoy time:', duration)\n",
    "    return annoy_indices, annoy_distances, duration"
   ]
  },
  {
   "cell_type": "code",
   "execution_count": 21,
   "metadata": {},
   "outputs": [],
   "source": [
    "def get_annoy_results_c(pages_vector, number_of_trees = 170, number_of_neighbours = 50):\n",
    "    \n",
    "    start = time.time()\n",
    "    annoy_model = annoy_model = AnnoyIndex(300, 'angular')\n",
    "    \n",
    "    for index, vector in pages_vector.items():\n",
    "        annoy_model.add_item(index, vector)\n",
    "    \n",
    "    annoy_model.build(number_of_trees)\n",
    "    \n",
    "    annoy_indices = []\n",
    "    annoy_distances = []\n",
    "\n",
    "    for j, i in pages_vector.items():\n",
    "        indices, distances = annoy_model. \\\n",
    "            get_nns_by_vector(i, number_of_neighbours, include_distances=True)\n",
    "        annoy_indices.append(indices)\n",
    "        annoy_distances.append(distances)\n",
    "    \n",
    "    duration = time.time() - start\n",
    "#     print('annoy time:', duration)\n",
    "    return annoy_indices, annoy_distances, duration"
   ]
  },
  {
   "cell_type": "markdown",
   "metadata": {},
   "source": [
    "## Runing KNN collaborative filtering"
   ]
  },
  {
   "cell_type": "code",
   "execution_count": 16,
   "metadata": {},
   "outputs": [],
   "source": [
    "item_indexer1 = \\\n",
    "AppendIndexer.load(SAVING1)"
   ]
  },
  {
   "cell_type": "markdown",
   "metadata": {},
   "source": [
    "## train content based"
   ]
  },
  {
   "cell_type": "code",
   "execution_count": 17,
   "metadata": {},
   "outputs": [],
   "source": [
    "items = []\n",
    "nulls = []\n",
    "for i in item_indexer1.get_items():\n",
    "    temp = {}\n",
    "    try:\n",
    "        item_index = item_indexer1.get(i)\n",
    "        c_vec = np.array(WEBSITE_content[WEBSITE_content['id'] == int(i)].content_vector)[0]\n",
    "        temp['content_vec'] = np.array([float(x) for x in str(c_vec)[1:-1].split(',')])\n",
    "        temp['id'] = i\n",
    "        temp['index'] = item_index\n",
    "        items.append(temp)\n",
    "    except:\n",
    "        nulls.append(item_index)"
   ]
  },
  {
   "cell_type": "code",
   "execution_count": 18,
   "metadata": {},
   "outputs": [],
   "source": [
    "item_content_map = {}\n",
    "for i in items:\n",
    "    item_content_map[i['index']] = i['content_vec']\n",
    "content_vec = []\n",
    "items_itex = []\n",
    "for i, j in item_content_map.items():\n",
    "    content_vec.append(j)\n",
    "    items_itex.append(i)\n",
    "# items_itex.index(1600)"
   ]
  },
  {
   "cell_type": "markdown",
   "metadata": {},
   "source": [
    "## Annoy accuracy"
   ]
  },
  {
   "cell_type": "markdown",
   "metadata": {},
   "source": [
    "collab"
   ]
  },
  {
   "cell_type": "code",
   "execution_count": 19,
   "metadata": {},
   "outputs": [
    {
     "name": "stdout",
     "output_type": "stream",
     "text": [
      "ball_tree time: 0.009921550750732422\n"
     ]
    }
   ],
   "source": [
    "Tknn_distances_brute, Tknn_indices_brute = sk_KNN(item_vectors, number_of_neighbours = 30)"
   ]
  },
  {
   "cell_type": "code",
   "execution_count": 20,
   "metadata": {
    "scrolled": true
   },
   "outputs": [
    {
     "name": "stderr",
     "output_type": "stream",
     "text": [
      "100%|██████████| 30/30 [00:51<00:00,  1.73s/it]\n"
     ]
    }
   ],
   "source": [
    "allt2 = []\n",
    "allndcgs2 = []\n",
    "for i in tqdm(range(30)):\n",
    "    tt = []\n",
    "    accs = []\n",
    "    ndcgs = []\n",
    "    trees = [3, 5, 6, 7, 8, 9, 10, 12,13,14, 15, 20, 30, 35, 40, 45, 50, 60, 75, 100, 125, 150, 175, 200, 250,  300]\n",
    "    for i in trees:\n",
    "        Tannoy_indices_CF, Tannoy_distances, Tduration = get_annoy_results(item_vectors, number_of_trees = i, number_of_neighbours = 10)\n",
    "        tt.append(6877/Tduration)\n",
    "        accs.append(calc_acc(Tannoy_indices_CF, Tknn_indices_brute, 11))\n",
    "        ndcgs.append(calc_nDCG(Tannoy_indices_CF, Tknn_indices_brute, 11))\n",
    "    allt2.append(tt)\n",
    "    allndcgs2.append(ndcgs)\n",
    "allt2 = np.array(allt2)\n",
    "allndcgs2 = np.array(allndcgs2)"
   ]
  },
  {
   "cell_type": "code",
   "execution_count": 21,
   "metadata": {},
   "outputs": [],
   "source": [
    "allt3 = np.mean(allt2, axis = 0)\n",
    "allndcgs3 = np.mean(allndcgs2, axis = 0)"
   ]
  },
  {
   "cell_type": "code",
   "execution_count": 22,
   "metadata": {},
   "outputs": [
    {
     "data": {
      "image/png": "[encoded data removed]",
      "text/plain": [
       "<Figure size 432x288 with 1 Axes>"
      ]
     },
     "metadata": {
      "needs_background": "light"
     },
     "output_type": "display_data"
    }
   ],
   "source": [
    "plt.plot(allndcgs3, allt3)\n",
    "trees = [3, 5, 6, 7, 8, 9, 10, 12,13,14, 15, 20, 30, 35, 40, 45, 50, 60, 75, 100, 125, 150, 175, 200, 250,  300]\n",
    "plt.ylabel(\"Recommendations per second\")\n",
    "plt.xlabel(\"Normalized Discounted Cumulative Gain (NDCG)\")\n",
    "plt.title('CF - ' + WEB_SITE_NAME)\n",
    "for i in [0,3,8,16, 25]:\n",
    "    plt.annotate(\n",
    "            str(trees[i]) + \" trees\",\n",
    "            xy=(allndcgs3[i], allt3[i]), xytext=(30, 30),\n",
    "            textcoords='offset points', ha='left', va='top',\n",
    "            bbox=dict(boxstyle='round,pad=0.5', fc='yellow', alpha=0.5),\n",
    "            arrowprops=dict(arrowstyle = '->', connectionstyle='arc3,rad=0'))\n",
    "plt.savefig(RESULTS_PATH + 'time_nDCG_CF_' + WEB_SITE_NAME + '.png', dpi=400)"
   ]
  },
  {
   "cell_type": "markdown",
   "metadata": {},
   "source": [
    "content"
   ]
  },
  {
   "cell_type": "code",
   "execution_count": 23,
   "metadata": {},
   "outputs": [
    {
     "name": "stdout",
     "output_type": "stream",
     "text": [
      "ball_tree time: 0.06838488578796387\n"
     ]
    }
   ],
   "source": [
    "Aknn_distances_brute_CB, Aknn_indices_brute_CB = sk_KNN_c(content_vec, items_itex, number_of_neighbours = 15)"
   ]
  },
  {
   "cell_type": "code",
   "execution_count": 24,
   "metadata": {},
   "outputs": [
    {
     "data": {
      "text/plain": [
       "384.99691662906696"
      ]
     },
     "execution_count": 24,
     "metadata": {},
     "output_type": "execute_result"
    }
   ],
   "source": [
    "8723/22.65732431411743"
   ]
  },
  {
   "cell_type": "code",
   "execution_count": 25,
   "metadata": {
    "scrolled": true
   },
   "outputs": [
    {
     "name": "stderr",
     "output_type": "stream",
     "text": [
      "100%|██████████| 30/30 [00:34<00:00,  1.14s/it]\n"
     ]
    }
   ],
   "source": [
    "allt = []\n",
    "allndcgs = []\n",
    "for i in tqdm(range(30)):\n",
    "    tt = []\n",
    "    accs = []\n",
    "    ndcgs = []\n",
    "    trees = [3, 5, 6, 7, 8, 9, 10, 12,13,14, 15, 20, 30, 35, 40, 45, 50, 60, 75, 100, 125, 150, 175, 200, 250,  300]\n",
    "    for i in trees:\n",
    "        Tannoy_indices_CB, Tannoy_distances_CB, Tduration_CB = get_annoy_results_c(item_content_map, number_of_trees = i, number_of_neighbours = 10)\n",
    "        tt.append(8723/Tduration_CB)\n",
    "        accs.append(calc_acc(Tannoy_indices_CB, Aknn_indices_brute_CB, 10))\n",
    "        ndcgs.append(calc_nDCG(Tannoy_indices_CB, Aknn_indices_brute_CB, 13))\n",
    "    allt.append(tt)\n",
    "    allndcgs.append(ndcgs)\n",
    "allt = np.array(allt)\n",
    "allndcgs = np.array(allndcgs)\n"
   ]
  },
  {
   "cell_type": "code",
   "execution_count": 26,
   "metadata": {},
   "outputs": [],
   "source": [
    "allt1 = np.mean(allt, axis = 0)\n",
    "allndcgs1 = np.mean(allndcgs, axis = 0)"
   ]
  },
  {
   "cell_type": "code",
   "execution_count": 27,
   "metadata": {},
   "outputs": [
    {
     "data": {
      "image/png": "[encoded data removed]",
      "text/plain": [
       "<Figure size 432x288 with 1 Axes>"
      ]
     },
     "metadata": {
      "needs_background": "light"
     },
     "output_type": "display_data"
    }
   ],
   "source": [
    "trees = [3, 5, 6, 7, 8, 9, 10, 12,13,14, 15, 20, 30, 35, 40, 45, 50, 60, 75, 100, 125, 150, 175, 200, 250,  300]\n",
    "plt.plot(allndcgs1, allt1)\n",
    "plt.ylabel(\"Recommendations per second\")\n",
    "plt.xlabel(\"Normalized Discounted Cumulative Gain (NDCG)\")\n",
    "plt.title('CB - ' + WEB_SITE_NAME)\n",
    "for i in [0,5,10,15,20, 24]:\n",
    "    plt.annotate(\n",
    "            str(trees[i]) + \" trees\",\n",
    "            xy=(allndcgs1[i], allt1[i]), xytext=(30, 30),\n",
    "            textcoords='offset points', ha='left', va='top',\n",
    "            bbox=dict(boxstyle='round, pad=0.5', fc='yellow', alpha=0.5),\n",
    "            arrowprops=dict(arrowstyle = '->', connectionstyle='arc3,rad=0'))\n",
    "plt.savefig(RESULTS_PATH + 'time_nDCG_CB_' + WEB_SITE_NAME + '.png', dpi=400)"
   ]
  },
  {
   "cell_type": "markdown",
   "metadata": {},
   "source": [
    "## time - #features"
   ]
  },
  {
   "cell_type": "code",
   "execution_count": 28,
   "metadata": {},
   "outputs": [],
   "source": [
    "alst = []\n",
    "annoyt = []\n",
    "annoyt150 = []\n",
    "knnt = []\n",
    "accs = []\n",
    "ndcgs = []\n",
    "features = [5, 10, 15, 20, 25, 30, 35, 40, 50, 60, 80, 100, 120, 140, 160, 180, 200, 220, 240, 260, 280, 300]"
   ]
  },
  {
   "cell_type": "code",
   "execution_count": 29,
   "metadata": {},
   "outputs": [
    {
     "name": "stdout",
     "output_type": "stream",
     "text": [
      "features: 5\n",
      "View matrix loaded in 0.10568857192993164 seconds.\n",
      "Number of users which should be deleted: 7879\n",
      "Number products which should be deleted: 75\n",
      "Number of users which should be deleted: 4\n",
      "Number products which should be deleted: 0\n",
      "Number of users which should be deleted: 0\n",
      "Number products which should be deleted: 0\n",
      "matrix has been made dense in 0.329465389251709 seconds.\n",
      "\n",
      "ALS model is fitted in 0.27191972732543945 seconds.\n",
      "Saving Data ...\n",
      "ball_tree time: 0.004138946533203125\n",
      "features: 10\n",
      "View matrix loaded in 0.09145355224609375 seconds.\n",
      "Number of users which should be deleted: 7879\n",
      "Number products which should be deleted: 75\n",
      "Number of users which should be deleted: 4\n",
      "Number products which should be deleted: 0\n",
      "Number of users which should be deleted: 0\n",
      "Number products which should be deleted: 0\n",
      "matrix has been made dense in 0.3321497440338135 seconds.\n",
      "\n",
      "ALS model is fitted in 0.4238603115081787 seconds.\n",
      "Saving Data ...\n",
      "ball_tree time: 0.004831790924072266\n",
      "features: 15\n",
      "View matrix loaded in 0.09981155395507812 seconds.\n",
      "Number of users which should be deleted: 7879\n",
      "Number products which should be deleted: 75\n",
      "Number of users which should be deleted: 4\n",
      "Number products which should be deleted: 0\n",
      "Number of users which should be deleted: 0\n",
      "Number products which should be deleted: 0\n",
      "matrix has been made dense in 0.3312797546386719 seconds.\n",
      "\n",
      "ALS model is fitted in 0.6715660095214844 seconds.\n",
      "Saving Data ...\n",
      "ball_tree time: 0.0057353973388671875\n",
      "features: 20\n",
      "View matrix loaded in 0.09354400634765625 seconds.\n",
      "Number of users which should be deleted: 7879\n",
      "Number products which should be deleted: 75\n",
      "Number of users which should be deleted: 4\n",
      "Number products which should be deleted: 0\n",
      "Number of users which should be deleted: 0\n",
      "Number products which should be deleted: 0\n",
      "matrix has been made dense in 0.32233238220214844 seconds.\n",
      "\n",
      "ALS model is fitted in 0.694556713104248 seconds.\n",
      "Saving Data ...\n",
      "ball_tree time: 0.006642580032348633\n",
      "features: 25\n",
      "View matrix loaded in 0.11787724494934082 seconds.\n",
      "Number of users which should be deleted: 7879\n",
      "Number products which should be deleted: 75\n",
      "Number of users which should be deleted: 4\n",
      "Number products which should be deleted: 0\n",
      "Number of users which should be deleted: 0\n",
      "Number products which should be deleted: 0\n",
      "matrix has been made dense in 0.3556032180786133 seconds.\n",
      "\n",
      "ALS model is fitted in 1.2807986736297607 seconds.\n",
      "Saving Data ...\n",
      "ball_tree time: 0.007112026214599609\n",
      "features: 30\n",
      "View matrix loaded in 0.0998847484588623 seconds.\n",
      "Number of users which should be deleted: 7879\n",
      "Number products which should be deleted: 75\n",
      "Number of users which should be deleted: 4\n",
      "Number products which should be deleted: 0\n",
      "Number of users which should be deleted: 0\n",
      "Number products which should be deleted: 0\n",
      "matrix has been made dense in 0.32108163833618164 seconds.\n",
      "\n",
      "ALS model is fitted in 1.9176275730133057 seconds.\n",
      "Saving Data ...\n",
      "ball_tree time: 0.011443614959716797\n",
      "features: 35\n",
      "View matrix loaded in 0.11510133743286133 seconds.\n",
      "Number of users which should be deleted: 7879\n",
      "Number products which should be deleted: 75\n",
      "Number of users which should be deleted: 4\n",
      "Number products which should be deleted: 0\n",
      "Number of users which should be deleted: 0\n",
      "Number products which should be deleted: 0\n",
      "matrix has been made dense in 0.3198709487915039 seconds.\n",
      "\n",
      "ALS model is fitted in 5.026613712310791 seconds.\n",
      "Saving Data ...\n",
      "ball_tree time: 0.009237051010131836\n",
      "features: 40\n",
      "View matrix loaded in 0.09816837310791016 seconds.\n",
      "Number of users which should be deleted: 7879\n",
      "Number products which should be deleted: 75\n",
      "Number of users which should be deleted: 4\n",
      "Number products which should be deleted: 0\n",
      "Number of users which should be deleted: 0\n",
      "Number products which should be deleted: 0\n",
      "matrix has been made dense in 0.2862236499786377 seconds.\n",
      "\n",
      "ALS model is fitted in 5.053137302398682 seconds.\n",
      "Saving Data ...\n",
      "ball_tree time: 0.010808944702148438\n",
      "features: 50\n",
      "View matrix loaded in 0.09852981567382812 seconds.\n",
      "Number of users which should be deleted: 7879\n",
      "Number products which should be deleted: 75\n",
      "Number of users which should be deleted: 4\n",
      "Number products which should be deleted: 0\n",
      "Number of users which should be deleted: 0\n",
      "Number products which should be deleted: 0\n",
      "matrix has been made dense in 0.27567052841186523 seconds.\n",
      "\n",
      "ALS model is fitted in 6.3620898723602295 seconds.\n",
      "Saving Data ...\n",
      "ball_tree time: 0.01278233528137207\n",
      "features: 60\n",
      "View matrix loaded in 0.10709166526794434 seconds.\n",
      "Number of users which should be deleted: 7879\n",
      "Number products which should be deleted: 75\n",
      "Number of users which should be deleted: 4\n",
      "Number products which should be deleted: 0\n",
      "Number of users which should be deleted: 0\n",
      "Number products which should be deleted: 0\n",
      "matrix has been made dense in 0.2725846767425537 seconds.\n",
      "\n",
      "ALS model is fitted in 10.048721075057983 seconds.\n",
      "Saving Data ...\n",
      "ball_tree time: 0.015970468521118164\n",
      "features: 80\n",
      "View matrix loaded in 0.09983539581298828 seconds.\n",
      "Number of users which should be deleted: 7879\n",
      "Number products which should be deleted: 75\n",
      "Number of users which should be deleted: 4\n",
      "Number products which should be deleted: 0\n",
      "Number of users which should be deleted: 0\n",
      "Number products which should be deleted: 0\n",
      "matrix has been made dense in 0.3099853992462158 seconds.\n",
      "\n",
      "ALS model is fitted in 21.915302276611328 seconds.\n",
      "Saving Data ...\n",
      "ball_tree time: 0.020018577575683594\n",
      "features: 100\n",
      "View matrix loaded in 0.13580727577209473 seconds.\n",
      "Number of users which should be deleted: 7879\n",
      "Number products which should be deleted: 75\n",
      "Number of users which should be deleted: 4\n",
      "Number products which should be deleted: 0\n",
      "Number of users which should be deleted: 0\n",
      "Number products which should be deleted: 0\n",
      "matrix has been made dense in 0.30619359016418457 seconds.\n",
      "\n",
      "ALS model is fitted in 30.364010334014893 seconds.\n",
      "Saving Data ...\n",
      "ball_tree time: 0.02684950828552246\n",
      "features: 120\n",
      "View matrix loaded in 0.14375066757202148 seconds.\n",
      "Number of users which should be deleted: 7879\n",
      "Number products which should be deleted: 75\n",
      "Number of users which should be deleted: 4\n",
      "Number products which should be deleted: 0\n",
      "Number of users which should be deleted: 0\n",
      "Number products which should be deleted: 0\n",
      "matrix has been made dense in 0.3392369747161865 seconds.\n",
      "\n",
      "ALS model is fitted in 35.263742446899414 seconds.\n",
      "Saving Data ...\n",
      "ball_tree time: 0.031235694885253906\n",
      "features: 140\n",
      "View matrix loaded in 0.08726334571838379 seconds.\n",
      "Number of users which should be deleted: 7879\n",
      "Number products which should be deleted: 75\n",
      "Number of users which should be deleted: 4\n",
      "Number products which should be deleted: 0\n",
      "Number of users which should be deleted: 0\n",
      "Number products which should be deleted: 0\n",
      "matrix has been made dense in 0.3276345729827881 seconds.\n",
      "\n",
      "ALS model is fitted in 84.36761951446533 seconds.\n",
      "Saving Data ...\n",
      "ball_tree time: 0.03938865661621094\n",
      "features: 160\n",
      "View matrix loaded in 0.11512303352355957 seconds.\n",
      "Number of users which should be deleted: 7879\n",
      "Number products which should be deleted: 75\n",
      "Number of users which should be deleted: 4\n",
      "Number products which should be deleted: 0\n",
      "Number of users which should be deleted: 0\n",
      "Number products which should be deleted: 0\n",
      "matrix has been made dense in 0.37683725357055664 seconds.\n",
      "\n",
      "ALS model is fitted in 142.27766346931458 seconds.\n",
      "Saving Data ...\n",
      "ball_tree time: 0.052614450454711914\n",
      "features: 180\n",
      "View matrix loaded in 0.11094522476196289 seconds.\n",
      "Number of users which should be deleted: 7879\n",
      "Number products which should be deleted: 75\n",
      "Number of users which should be deleted: 4\n",
      "Number products which should be deleted: 0\n",
      "Number of users which should be deleted: 0\n",
      "Number products which should be deleted: 0\n",
      "matrix has been made dense in 0.3733048439025879 seconds.\n",
      "\n",
      "ALS model is fitted in 138.29395842552185 seconds.\n",
      "Saving Data ...\n",
      "ball_tree time: 0.04721188545227051\n",
      "features: 200\n",
      "View matrix loaded in 0.08688139915466309 seconds.\n",
      "Number of users which should be deleted: 7879\n",
      "Number products which should be deleted: 75\n",
      "Number of users which should be deleted: 4\n",
      "Number products which should be deleted: 0\n",
      "Number of users which should be deleted: 0\n",
      "Number products which should be deleted: 0\n",
      "matrix has been made dense in 0.32481980323791504 seconds.\n",
      "\n"
     ]
    },
    {
     "name": "stdout",
     "output_type": "stream",
     "text": [
      "ALS model is fitted in 167.40348434448242 seconds.\n",
      "Saving Data ...\n",
      "ball_tree time: 0.05754971504211426\n",
      "features: 220\n",
      "View matrix loaded in 0.08545541763305664 seconds.\n",
      "Number of users which should be deleted: 7879\n",
      "Number products which should be deleted: 75\n",
      "Number of users which should be deleted: 4\n",
      "Number products which should be deleted: 0\n",
      "Number of users which should be deleted: 0\n",
      "Number products which should be deleted: 0\n",
      "matrix has been made dense in 0.3218536376953125 seconds.\n",
      "\n",
      "ALS model is fitted in 191.95553636550903 seconds.\n",
      "Saving Data ...\n",
      "ball_tree time: 0.05993843078613281\n",
      "features: 240\n",
      "View matrix loaded in 0.09178900718688965 seconds.\n",
      "Number of users which should be deleted: 7879\n",
      "Number products which should be deleted: 75\n",
      "Number of users which should be deleted: 4\n",
      "Number products which should be deleted: 0\n",
      "Number of users which should be deleted: 0\n",
      "Number products which should be deleted: 0\n",
      "matrix has been made dense in 0.3293578624725342 seconds.\n",
      "\n",
      "ALS model is fitted in 276.3365807533264 seconds.\n",
      "Saving Data ...\n",
      "ball_tree time: 0.06537652015686035\n",
      "features: 260\n",
      "View matrix loaded in 0.09020543098449707 seconds.\n",
      "Number of users which should be deleted: 7879\n",
      "Number products which should be deleted: 75\n",
      "Number of users which should be deleted: 4\n",
      "Number products which should be deleted: 0\n",
      "Number of users which should be deleted: 0\n",
      "Number products which should be deleted: 0\n",
      "matrix has been made dense in 0.32967567443847656 seconds.\n",
      "\n",
      "ALS model is fitted in 383.41233372688293 seconds.\n",
      "Saving Data ...\n",
      "ball_tree time: 0.06934475898742676\n",
      "features: 280\n",
      "View matrix loaded in 0.0888516902923584 seconds.\n",
      "Number of users which should be deleted: 7879\n",
      "Number products which should be deleted: 75\n",
      "Number of users which should be deleted: 4\n",
      "Number products which should be deleted: 0\n",
      "Number of users which should be deleted: 0\n",
      "Number products which should be deleted: 0\n",
      "matrix has been made dense in 0.3149402141571045 seconds.\n",
      "\n",
      "ALS model is fitted in 345.88293528556824 seconds.\n",
      "Saving Data ...\n",
      "ball_tree time: 0.07453107833862305\n",
      "features: 300\n",
      "View matrix loaded in 0.08859539031982422 seconds.\n",
      "Number of users which should be deleted: 7879\n",
      "Number products which should be deleted: 75\n",
      "Number of users which should be deleted: 4\n",
      "Number products which should be deleted: 0\n",
      "Number of users which should be deleted: 0\n",
      "Number products which should be deleted: 0\n",
      "matrix has been made dense in 0.3137657642364502 seconds.\n",
      "\n",
      "ALS model is fitted in 381.87827348709106 seconds.\n",
      "Saving Data ...\n",
      "ball_tree time: 0.09950876235961914\n"
     ]
    }
   ],
   "source": [
    "for i in features:\n",
    "    print('features: ' + str(i))\n",
    "    sparce_matrix5, implicit_matrix5, item_vectors5, user_vectors5, ALS_Time = \\\n",
    "    CFTrain(WEB_SITE_matrix, factors = i)\n",
    "    alst.append(ALS_Time)\n",
    "\n",
    "    now = time.time()\n",
    "    annoy_indices_CFi, annoy_distancesi, durationi = get_annoy_results(item_vectors5, number_of_neighbours = 10)\n",
    "    annoyt.append(time.time() - now)\n",
    "\n",
    "    now = time.time()\n",
    "    annoy_indices_CFi, annoy_distancesi, durationi = get_annoy_results(item_vectors5, number_of_trees = 150, number_of_neighbours = 10)\n",
    "    annoyt150.append(time.time() - now)\n",
    "\n",
    "    now = time.time()\n",
    "    knn_distances_brutei, knn_indices_brutei = sk_KNN(item_vectors5, number_of_neighbours = 10)\n",
    "    knnt.append(time.time() - now)\n",
    "\n",
    "    accs.append(calc_acc(annoy_indices_CFi, knn_indices_brutei, 10))\n",
    "    ndcgs.append(calc_nDCG(annoy_indices_CFi, knn_indices_brutei, 10))"
   ]
  },
  {
   "cell_type": "code",
   "execution_count": 30,
   "metadata": {},
   "outputs": [
    {
     "name": "stdout",
     "output_type": "stream",
     "text": [
      "[0.27191829681396484, 0.4238588809967041, 0.6715633869171143, 0.6945550441741943, 1.280797004699707, 1.9176244735717773, 5.026611566543579, 5.053133964538574, 6.362088203430176, 10.04871678352356, 21.915299892425537, 30.364007472991943, 35.263739824295044, 84.3676176071167, 142.27766060829163, 138.29395580291748, 167.4034812450409, 191.9555332660675, 276.3365776538849, 383.4123303890228, 345.88293266296387, 381.8782706260681]\n",
      "[0.056824684143066406, 0.04748702049255371, 0.07100677490234375, 0.042473554611206055, 0.03757977485656738, 0.04641366004943848, 0.06350564956665039, 0.06297612190246582, 0.06933999061584473, 0.06225705146789551, 0.07694196701049805, 0.06625676155090332, 0.06429457664489746, 0.07596635818481445, 0.07876992225646973, 0.0638878345489502, 0.03786826133728027, 0.05874800682067871, 0.06705713272094727, 0.07488584518432617, 0.07760763168334961, 0.08291935920715332]\n",
      "[0.15188884735107422, 0.12977957725524902, 0.11488199234008789, 0.1101980209350586, 0.09974026679992676, 0.08630824089050293, 0.08844327926635742, 0.08190608024597168, 0.07743597030639648, 0.07958841323852539, 0.0696568489074707, 0.07249331474304199, 0.06183648109436035, 0.09908652305603027, 0.0677189826965332, 0.06979107856750488, 0.07454156875610352, 0.06978988647460938, 0.06638669967651367, 0.06937575340270996, 0.07075929641723633, 0.0845029354095459]\n",
      "[0.004222869873046875, 0.004900932312011719, 0.005860090255737305, 0.0067484378814697266, 0.007182121276855469, 0.011667966842651367, 0.009307384490966797, 0.010889291763305664, 0.012878179550170898, 0.016048431396484375, 0.020090341567993164, 0.026927471160888672, 0.03131222724914551, 0.03980112075805664, 0.052725791931152344, 0.04728960990905762, 0.05762624740600586, 0.06001710891723633, 0.06545281410217285, 0.06942009925842285, 0.0746150016784668, 0.09958839416503906]\n",
      "[0.4855683269476373, 0.5374201787994891, 0.5450830140485313, 0.5279693486590038, 0.5003831417624521, 0.4998722860791827, 0.5054916985951469, 0.5185185185185185, 0.5139208173690932, 0.4980842911877395, 0.47407407407407404, 0.4452107279693487, 0.4038314176245211, 0.37905491698595145, 0.3471264367816092, 0.31238825031928485, 0.2886334610472541, 0.260536398467433, 0.22528735632183908, 0.21430395913154535, 0.2140485312899106, 0.17496807151979565]\n",
      "[0.4083366000008792, 0.45431481891949027, 0.46153957473991636, 0.44683995015783334, 0.4242881806679674, 0.4240105531937288, 0.4288970110228637, 0.44010768742279, 0.4366143746905278, 0.4247239797322054, 0.4055965356462886, 0.38373412372717963, 0.351178593519981, 0.3316511500552578, 0.3051708747945288, 0.2770335946356341, 0.25639127574412873, 0.23207013501338877, 0.20246037093097474, 0.19249344245364983, 0.19162314246181406, 0.15751846019527813]\n"
     ]
    }
   ],
   "source": [
    "print(alst)\n",
    "print(annoyt)\n",
    "print(annoyt150)\n",
    "print(knnt)\n",
    "print(accs)\n",
    "print(ndcgs)"
   ]
  },
  {
   "cell_type": "code",
   "execution_count": 31,
   "metadata": {},
   "outputs": [],
   "source": [
    "# for chetor\n",
    "# alst = [6.15050196647644, 7.589384078979492, 9.98952865600586, 10.711763143539429, 14.620095014572144, 18.732149124145508, 84.2838044166565, 89.42482948303223, 114.60924625396729, 153.58080077171326, 328.83570289611816, 484.86647629737854, 618.9409790039062, 929.9091029167175, 1287.0432839393616, 1685.2656395435333, 2808.3832564353943, 3449.2337753772736, 4116.154020309448, 5639.494827508926, 6508.6048147678375]\n",
    "# annoyt = [1.08254838, 0.96629797, 0.9242843 , 0.87962387, 0.85262046, 0.79565946, 0.77240711, 0.73983479, 0.71700769, 0.7067995 , 0.70250529, 0.70883131, 0.70684481, 0.73545814, 0.74710369, 0.78903913, 0.80155802, 0.86104798, 0.89263225, 0.96022302, 0.95924781, 0.98024781]\n",
    "# annoyt150 = [3.197788953781128, 2.687863349914551, 2.7068495750427246, 2.370072841644287, 2.156468391418457, 2.2803003787994385, 2.090477705001831, 1.9102835655212402, 1.9289910793304443, 1.9350402355194092, 1.8130168914794922, 1.8827829360961914, 1.77535080909729, 1.9186785221099854, 1.7952370643615723, 1.8383240699768066, 1.7986578941345215, 1.9579110145568848, 2.0136091709136963, 2.144573926925659, 2.163679838180542, 2.163679838180542]\n",
    "# knnt = [0.3063969612121582, 0.5551221370697021, 0.7591581344604492, 0.9750919342041016, 1.2589349746704102, 1.4075870513916016, 1.763763189315796, 1.9242370128631592, 2.3055875301361084, 2.7826828956604004, 4.749085426330566, 6.809983968734741, 8.50152063369751, 10.003107070922852, 11.503920078277588, 12.858023881912231, 14.28891658782959, 15.586156606674194, 16.799457788467407, 18.877679109573364, 19.313379764556885, 19.313379764556885]\n",
    "# accs = [0.12793046063367425, 0.19506244648021587, 0.22571211607128433, 0.24652222383791383, 0.26537734477242986, 0.27297109527733343, 0.2814373192445026, 0.28823938086698014, 0.30185966102790296, 0.3160777470796375, 0.32956877191281725, 0.3423004216955068, 0.3587966328987123, 0.37096279062252596, 0.3799621928166352, 0.39052881585962873, 0.3979933110367893, 0.4029373273229606, 0.4112904528783546, 0.4174623947780847, 0.42290727545926027]\n",
    "# ndcgs = [0.10767360998286381, 0.16470088519858192, 0.19102143484369105, 0.20831224714747743, 0.2241932091048414, 0.23058533948113838, 0.2378233423079659, 0.2433912837195122, 0.25485586396084026, 0.26644019343716063, 0.27805367676769965, 0.2886241523175816, 0.3026225286968232, 0.31262019959143855, 0.3204764464923836, 0.3292857822171983, 0.3357298780495747, 0.34013670324948375, 0.34733789792423037, 0.352562057177892, 0.35756566236263726]"
   ]
  },
  {
   "cell_type": "code",
   "execution_count": 32,
   "metadata": {},
   "outputs": [
    {
     "data": {
      "image/png": "[encoded data removed]",
      "text/plain": [
       "<Figure size 432x288 with 1 Axes>"
      ]
     },
     "metadata": {
      "needs_background": "light"
     },
     "output_type": "display_data"
    }
   ],
   "source": [
    "features = [5, 10, 15, 20, 25, 30, 35, 40, 50, 60, 80, 100, 120, 140, 160, 180, 200, 220, 240, 260, 280, 300]\n",
    "plt.plot(features, knnt, label = 'SK-learn KNN')\n",
    "plt.plot(features, annoyt150, label = 'Annoy (150 trees)')\n",
    "plt.plot(features, annoyt, label = 'Annoy (30 trees)')\n",
    "plt.title('Annoy vs skLearn - ' + WEB_SITE_NAME)\n",
    "plt.xlabel('# features')\n",
    "plt.ylabel('Time (seconds)')\n",
    "plt.legend(loc=\"upper left\")\n",
    "plt.savefig(RESULTS_PATH + 'annoyVSsk2_' + WEB_SITE_NAME + '.png', dpi=400)"
   ]
  },
  {
   "cell_type": "code",
   "execution_count": 33,
   "metadata": {},
   "outputs": [
    {
     "data": {
      "image/png": "[encoded data removed]",
      "text/plain": [
       "<Figure size 432x288 with 1 Axes>"
      ]
     },
     "metadata": {
      "needs_background": "light"
     },
     "output_type": "display_data"
    }
   ],
   "source": [
    "features = [5, 10, 15, 20, 25, 30, 35, 40, 50, 60, 80, 100, 120, 140, 160, 180, 200, 220, 240, 260, 280, 300]\n",
    "plt.plot(features, 6378/np.array(knnt), label = 'SK-learn KNN')\n",
    "plt.plot(features, 6378/np.array(annoyt150), label = 'Annoy (150 trees)')\n",
    "plt.plot(features, 6378/np.array(annoyt), label = 'Annoy (40 trees)')\n",
    "plt.title('Annoy vs skLearn - ' + WEB_SITE_NAME)\n",
    "plt.xlabel('# features')\n",
    "plt.ylabel('Recommendations per second')\n",
    "plt.legend(loc=\"upper right\")\n",
    "plt.savefig(RESULTS_PATH + 'annoyVSsk_' + WEB_SITE_NAME + '.png', dpi=400)"
   ]
  }
 ],
 "metadata": {
  "kernelspec": {
   "display_name": "Python 3",
   "language": "python",
   "name": "python3"
  },
  "language_info": {
   "codemirror_mode": {
    "name": "ipython",
    "version": 3
   },
   "file_extension": ".py",
   "mimetype": "text/x-python",
   "name": "python",
   "nbconvert_exporter": "python",
   "pygments_lexer": "ipython3",
   "version": "3.8.5"
  }
 },
 "nbformat": 4,
 "nbformat_minor": 2
}
