{
 "cells": [
  {
   "cell_type": "code",
   "execution_count": 1,
   "id": "muslim-light",
   "metadata": {},
   "outputs": [],
   "source": [
    "WEB_SITE_matrix = '../../models/downloadplus.org/view_matrix/lil_matrix.npz'\n",
    "WEB_SITE_itemindexer = '../../models/downloadplus.org/view_matrix/item_indexer.indexer'\n",
    "WEB_SITE_userindexer = '../../models/downloadplus.org/view_matrix/user_indexer.indexer'\n",
    "SAVING1 = './alisResult/paroshat/ALS/ali_item_indexer_factorized.indexer'\n",
    "SAVING2 = './alisResult/paroshat/ALS/ali_user_indexer_factorized.indexer'\n",
    "SAVING3 = './alisResult/paroshat/ALS/ali_items_vectors.npy'\n",
    "SAVING4 = './alisResult/paroshat/ALS/ali_users_vectors.npy'\n",
    "WEB_SITE_NAME = 'Downloadplus.org'\n",
    "RESULTS = '/home/yektanet/Pictures/ALSOptDownloadPlus/'\n",
    "TEST_SET_SIZE = 0.62 # max = 1\n",
    "TEST_SET_SIZE1 = 0.59 # max = 1"
   ]
  },
  {
   "cell_type": "code",
   "execution_count": 2,
   "id": "informational-petroleum",
   "metadata": {},
   "outputs": [],
   "source": [
    "import pandas as pd\n",
    "import numpy as np\n",
    "import matplotlib.pyplot as plt\n",
    "from matplotlib import colors\n",
    "from matplotlib.ticker import PercentFormatter\n",
    "from tqdm import tqdm\n",
    "\n",
    "import timeit\n",
    "import time\n",
    "import math\n",
    "from sklearn.model_selection import train_test_split\n",
    "# ./indexer\n",
    "from indexer import AppendIndexer\n",
    "import ALS\n",
    "\n",
    "# Annoy\n",
    "from annoy import AnnoyIndex\n",
    "\n",
    "#SKLearn \n",
    "from sklearn.neighbors import NearestNeighbors\n",
    "from sklearn.metrics import average_precision_score\n",
    "from sklearn.metrics import pairwise_distances\n",
    "\n",
    "# scipy\n",
    "from scipy.spatial import distance\n",
    "from scipy.sparse import lil_matrix\n",
    "import scipy\n",
    "import scipy.sparse\n",
    "import itertools\n",
    "import random"
   ]
  },
  {
   "cell_type": "code",
   "execution_count": 3,
   "id": "secondary-duration",
   "metadata": {},
   "outputs": [],
   "source": [
    "class ViewMatrix:\n",
    "    def __init__(self, path):\n",
    "        self.path = path\n",
    "        self.original = True\n",
    "        self.item_indexer = AppendIndexer.load(WEB_SITE_itemindexer)\n",
    "        self.user_indexer = AppendIndexer.load(WEB_SITE_userindexer)\n",
    "        \n",
    "    def load_matrix(path):\n",
    "        \n",
    "        matrix = ViewMatrix(path)\n",
    "\n",
    "        try:\n",
    "            matrix.view_matrix = ViewMatrix \\\n",
    "                .load_sparse_lil(path)\n",
    "        except:\n",
    "            print('Error: loading', path)\n",
    "\n",
    "        return matrix\n",
    "\n",
    "    def load_sparse_lil(filename):\n",
    "        loader = np.load(filename, allow_pickle=True)\n",
    "        result = lil_matrix(tuple(loader[\"shape\"]), dtype=str(loader[\"dtype\"]))\n",
    "        result.data = loader[\"data\"]\n",
    "        result.rows = loader[\"rows\"]\n",
    "        return result\n",
    "    \n",
    "    def make_dense(self, user_min_view, item_min_view):\n",
    "        self.original = False\n",
    "        while True:\n",
    "            removed_rows_cnt = self.trim_users_with_few_views(user_min_view)\n",
    "            removed_columns_cnt = self.trim_columns_with_few_views(item_min_view)\n",
    "            if not removed_columns_cnt and not removed_rows_cnt:\n",
    "                break\n",
    "\n",
    "    def trim_users_with_few_views(self, user_min_view):\n",
    "        removing_row_indices = list(np.where(self.view_matrix.getnnz(1) < user_min_view)[0])\n",
    "        print('Number of users which should be deleted:', len(removing_row_indices))\n",
    "        self.trim_user_indices(to_remove_indices=removing_row_indices)\n",
    "        return len(removing_row_indices)\n",
    "\n",
    "    def trim_columns_with_few_views(self, column_min_view):\n",
    "        removing_column_indices = list(np.where(self.view_matrix.getnnz(0) < column_min_view)[0])\n",
    "        print('Number products which should be deleted:', len(removing_column_indices))\n",
    "        self.trim_column_indices(to_remove_indices=removing_column_indices)\n",
    "        return len(removing_column_indices)\n",
    "    \n",
    "    def trim_user_indices(self, to_remove_indices):\n",
    "        self.user_indexer.remove_indexes(to_remove_indices)\n",
    "        self.view_matrix = ViewMatrix.delete_row_lil(self.view_matrix, to_remove_indices)\n",
    "    \n",
    "    def trim_column_indices(self, to_remove_indices):\n",
    "        self.item_indexer.remove_indexes(to_remove_indices)\n",
    "        self.view_matrix = ViewMatrix.delete_column_lil(self.view_matrix, to_remove_indices)\n",
    "    \n",
    "    def delete_column_lil(mat: lil_matrix, *i) -> lil_matrix:\n",
    "        mat = mat.transpose()\n",
    "        mat = ViewMatrix.delete_row_lil(mat, *i)\n",
    "        return mat.transpose()\n",
    "    \n",
    "    def delete_row_lil(mat: lil_matrix, *i) -> lil_matrix:\n",
    "        if not isinstance(mat, lil_matrix):\n",
    "            raise ValueError(\"works only for LIL format -- use .tolil() first\")\n",
    "        mat = mat.copy()\n",
    "        mat.rows = np.delete(mat.rows, i)\n",
    "        mat.data = np.delete(mat.data, i)\n",
    "        mat._shape = (mat.rows.shape[0], mat._shape[1])\n",
    "        return mat\n",
    "    def to_csr(self):\n",
    "        train_data = self.view_matrix.astype(np.float64)\n",
    "        train_data = train_data.tocoo()\n",
    "        train_data.data = np.log10(train_data.data) + 1\n",
    "        train_data = train_data.tocsr()\n",
    "        return train_data"
   ]
  },
  {
   "cell_type": "code",
   "execution_count": 4,
   "id": "incorporated-closer",
   "metadata": {},
   "outputs": [],
   "source": [
    "def ALSReady(path: str, l = 2):\n",
    "    now = time.time()\n",
    "    matrix = ViewMatrix.load_matrix(path)\n",
    "    print('View matrix loaded in', time.time() - now, 'seconds.')\n",
    "\n",
    "    now = time.time()\n",
    "    sparce_matrix = matrix.to_csr()\n",
    "    matrix.make_dense(user_min_view = l, \n",
    "                      item_min_view = l)\n",
    "    implicit_matrix = matrix.to_csr()\n",
    "    print('matrix has been made dense in', time.time() - now, 'seconds.')\n",
    "    return matrix, sparce_matrix, implicit_matrix\n",
    "\n",
    "def CFTrain(matrix, implicit_matrix, _alpha = 15, _facs = 20, _itr = 15, save = False):\n",
    "    \n",
    "    now = time.time()\n",
    "    als_model = ALS.Als(num_factors = _facs,\n",
    "                        iterations = _itr,\n",
    "                        num_threads = 10,\n",
    "                        alpha = _alpha)\n",
    "\n",
    "    \n",
    "    als_model.fit(implicit_matrix)\n",
    "    alsTime = time.time() - now\n",
    "    print('ALS model is fitted in', alsTime, 'seconds.')\n",
    "    if save:\n",
    "        print('Saving Data ...')\n",
    "        matrix.item_indexer.dump(SAVING1)\n",
    "        matrix.user_indexer.dump(SAVING2)\n",
    "        np.save(SAVING3, als_model.item_vectors)\n",
    "        np.save(SAVING4, als_model.user_vectors)\n",
    "\n",
    "    return als_model.item_vectors, als_model.user_vectors, alsTime"
   ]
  },
  {
   "cell_type": "code",
   "execution_count": 5,
   "id": "beginning-elizabeth",
   "metadata": {},
   "outputs": [],
   "source": [
    "def get_annoy_results(pages_vector, number_of_trees = 50, number_of_neighbours = 11):\n",
    "    \n",
    "    start = time.time()\n",
    "    annoy_model = annoy_model = AnnoyIndex(pages_vector.shape[1], 'angular')\n",
    "    \n",
    "    for index, vector in enumerate(pages_vector):\n",
    "        annoy_model.add_item(index, vector)\n",
    "    \n",
    "    annoy_model.build(number_of_trees)\n",
    "    \n",
    "    annoy_indices = []\n",
    "    annoy_distances = []\n",
    "\n",
    "    for i in pages_vector:\n",
    "        indices, distances = annoy_model. \\\n",
    "            get_nns_by_vector(i, number_of_neighbours, include_distances=True)\n",
    "        annoy_indices.append(indices)\n",
    "        annoy_distances.append(distances)\n",
    "    \n",
    "    duration = time.time() - start\n",
    "    print('annoy time:', duration)\n",
    "    return annoy_indices, annoy_distances, duration"
   ]
  },
  {
   "cell_type": "markdown",
   "id": "inclusive-aberdeen",
   "metadata": {},
   "source": [
    "implicit matrix ro migire va ye bakhshisho baramun test o train mikone ke ye bakhshi az cell ha sefr shodan:"
   ]
  },
  {
   "cell_type": "code",
   "execution_count": 6,
   "id": "excess-hamburg",
   "metadata": {},
   "outputs": [],
   "source": [
    "def generate_test_set_precision_recall(implicit_matrix, _test_size = 0.05, test_cells = 0.2):\n",
    "    train, test = train_test_split(implicit_matrix, shuffle=False, test_size = _test_size)\n",
    "    print('test_shape', test.shape, 'train_shape (which we cant process bc of RAM)', train.shape)\n",
    "    rows,cols = test.nonzero()\n",
    "    delete_index = [(rows[i], cols[i]) for i in random.sample(range(1, len(rows)), int(len(rows)*test_cells))]\n",
    "    print(\"total cells\", len(rows), \"number of deleted cells\", len(delete_index))\n",
    "    \n",
    "    x_train = scipy.sparse.csr_matrix(test.shape)\n",
    "    for i, j in tqdm(zip(rows, cols)):\n",
    "        if (i, j) in delete_index:\n",
    "            continue\n",
    "        x_train[i, j] = test[i, j]\n",
    "    return x_train, test, delete_index\n",
    "\n",
    "def prepare_data_for_AP(implicit_matrix, _test_size = 0.05):\n",
    "    train, test = train_test_split(implicit_matrix, shuffle=False, test_size = _test_size)\n",
    "    print('test_shape', test.shape, 'train_shape (which we cant process bc of RAM)', train.shape)\n",
    "    rows, cols = test.nonzero()\n",
    "    unique, counts = np.unique(rows, return_counts=True)\n",
    "    commulative_count = [0]\n",
    "    for i in counts:\n",
    "        commulative_count.append(commulative_count[-1] + i)\n",
    "    delete_row = []\n",
    "    for i in range(1, len(commulative_count)):\n",
    "        delete_row.append(np.random.randint(commulative_count[i-1], commulative_count[i]))\n",
    "    delete_index = [(rows[i], cols[i]) for i in delete_row]\n",
    "    # print(delete_row[:10], delete_index[:10], rows[:10], cols[:10], random.randrange(commulative_count[0], 10, 2) )\n",
    "    print(\"total cells\", len(rows), \"number of deleted cells\", len(delete_index))\n",
    "    \n",
    "    x_train = scipy.sparse.csr_matrix(test.shape)\n",
    "    for i, j in zip(rows, cols):\n",
    "        if (i, j) in delete_index:\n",
    "            continue\n",
    "        x_train[i, j] = test[i, j]\n",
    "    return x_train, test, delete_index\n",
    "\n",
    "def prepare_data_for_MAE(implicit_matrix, set_size = 0.05):\n",
    "    train, test = train_test_split(implicit_matrix, shuffle=False, test_size = set_size)\n",
    "    return test"
   ]
  },
  {
   "cell_type": "code",
   "execution_count": 7,
   "id": "enormous-shelter",
   "metadata": {},
   "outputs": [],
   "source": [
    "def hit_rate_at_k(deleted, x_train, test_approx, k = 10):\n",
    "    found = []\n",
    "    for i in tqdm(range(len(test_approx))):\n",
    "        ta = list(n_argmax(test_approx[i], 30))\n",
    "        nonz = np.nonzero(x_train[i])[0]\n",
    "        same_old = []\n",
    "        for l in range(len(ta)):\n",
    "            if ta[l] in nonz:\n",
    "                same_old.append(l)\n",
    "\n",
    "        for l in same_old[::-1]:\n",
    "            ta.pop(l)\n",
    "        ta = ta[:k]        \n",
    "        for j in ta:\n",
    "            found.append((i, j))\n",
    "    same = 0\n",
    "    a = np.array([hash(i) for i in found])\n",
    "    b = np.array([hash(i) for i in deleted])\n",
    "    same = np.sum(np.isin(b,a))\n",
    "    print(same, len(deleted), same/len(deleted))\n",
    "    return same/len(deleted)\n",
    "\n",
    "def visited_at_k(x_train, test_approx, k = 10):\n",
    "    same_old = []\n",
    "    for i in tqdm(range(len(test_approx))):\n",
    "        ta = list(n_argmax(test_approx[i], k))\n",
    "        nonz = np.nonzero(x_train[i])[0]\n",
    "        for l in range(len(ta)):\n",
    "            if ta[l] in nonz:\n",
    "                same_old.append(l)\n",
    "    rows,cols = x_train.nonzero()\n",
    "    return len(same_old)/len(rows)\n",
    "\n",
    "def n_argmax(a, n):\n",
    "    ranked = np.argsort(a)\n",
    "    largest_indices = ranked[::-1][:n]\n",
    "    return largest_indices"
   ]
  },
  {
   "cell_type": "code",
   "execution_count": 8,
   "id": "subsequent-practitioner",
   "metadata": {},
   "outputs": [],
   "source": [
    "#random search\n",
    "itrs1 = [15, 15, 15, 15, 15, 15]\n",
    "alphas1 = [0.1, 0.1, 0.1, 0.1, 0.1, 0.1]\n",
    "factors1 = [5, 10, 20, 40, 60, 100]\n",
    "\n",
    "itrs2 = [15, 15, 15, 15, 15, 15]\n",
    "alphas2 = [10, 10, 10, 10, 10, 10]\n",
    "factors2 = [5, 10, 20, 40, 60, 100]\n",
    "\n",
    "itrs3 = [15, 15, 15, 15, 15, 15]\n",
    "alphas3 = [100, 100, 100, 100, 100, 100]\n",
    "factors3 = [5, 10, 20, 40, 60, 100]\n",
    "\n",
    "itrs4 = [15, 15, 15, 15, 15, 15]\n",
    "alphas4 = [1000, 1000, 1000, 1000, 1000, 1000]\n",
    "factors4 = [5, 10, 20, 40, 60, 100]\n",
    "\n",
    "itrs = [15, 15, 15, 15, 15, 15, 15, 15, 15, 15, 15, 15, 15, 15, 15, 15, 15, 15, 15, 15, 15, 15, 15, 15]\n",
    "alphas = [0.1, 0.1, 0.1, 0.1, 0.1, 0.1, 10, 10, 10, 10, 10, 10, 100, 100, 100, 100, 100, 100, 1000, 1000, 1000, 1000, 1000, 1000]\n",
    "factors = [5, 10, 20, 40, 60, 100, 5, 10, 20, 40, 60, 100, 5, 10, 20, 40, 60, 100, 5, 10, 20, 40, 60, 100]"
   ]
  },
  {
   "cell_type": "markdown",
   "id": "aggregate-benchmark",
   "metadata": {},
   "source": [
    "### metrics"
   ]
  },
  {
   "cell_type": "markdown",
   "id": "lesbian-edwards",
   "metadata": {},
   "source": [
    "accuracy metrics:\n",
    "- recall@k, hit_rate@k\n",
    "- visited_rate@k\n",
    "- MAE on train set per iteration"
   ]
  },
  {
   "cell_type": "markdown",
   "id": "public-occasions",
   "metadata": {},
   "source": [
    "time metrics:\n",
    "- training time\n",
    "- query time"
   ]
  },
  {
   "cell_type": "code",
   "execution_count": 9,
   "id": "mighty-chemistry",
   "metadata": {},
   "outputs": [],
   "source": [
    "def calc_visited_hitRate(alphas, itrs, factors, _l = 2, data_set_size = 0.072, log = False):\n",
    "    visited3s = []\n",
    "    hitRate3s = []\n",
    "    visited6s = []\n",
    "    hitRate6s = []\n",
    "    AP3s = []\n",
    "    AP6s = []\n",
    "    trainingTime = []\n",
    "    qTime = []\n",
    "    matrix, sparce_matrix, implicit_matrix = ALSReady(WEB_SITE_matrix, l=_l)\n",
    "    x_train_AP, test_AP, delete_index_AP = prepare_data_for_AP(implicit_matrix, _test_size = data_set_size)\n",
    "    x_train, test, deleted = generate_test_set_precision_recall(implicit_matrix, _test_size = data_set_size)\n",
    "    for a,i,f in zip(alphas, itrs, factors):\n",
    "        if log: print('------alphas, itrs, factors------', a,i,f)\n",
    "        item_vectors, user_vectors, alsTime = \\\n",
    "        CFTrain(None, x_train, _alpha = a, _facs = f, _itr = i)\n",
    "        a1, a2, duration = get_annoy_results(item_vectors)\n",
    "        qTime.append(duration)\n",
    "        trainingTime.append(alsTime)\n",
    "        if log: print('training and querry time:', trainingTime[-1], qTime[-1])\n",
    "        test_approx = np.matmul(user_vectors, item_vectors.T)\n",
    "        visited3s.append(visited_at_k(x_train.toarray(), test_approx, k = 3))\n",
    "        if log: print('visited3s', visited3s[-1])\n",
    "        visited6s.append(visited_at_k(x_train.toarray(), test_approx, k = 6))\n",
    "        if log: print('visited6s', visited6s[-1])\n",
    "        hitRate3s.append(hit_rate_at_k(deleted, x_train.toarray(), test_approx, k = 3))\n",
    "        if log: print('hitRate3s', hitRate3s[-1])\n",
    "        hitRate6s.append(hit_rate_at_k(deleted, x_train.toarray(), test_approx, k = 6))\n",
    "        if log: print('hitRate6s', hitRate6s[-1])\n",
    "        item_vectors_AP, user_vectors_AP, alsTime_AP = \\\n",
    "        CFTrain(None, x_train_AP, _alpha = a, _facs = f, _itr = i)\n",
    "        test_approx_AP = np.matmul(user_vectors_AP, item_vectors_AP.T)\n",
    "        AP3s.append(hit_rate_at_k(delete_index_AP, x_train_AP, test_approx_AP, k = 3))\n",
    "        if log: print('AP3s', AP3s[-1])\n",
    "        AP6s.append(hit_rate_at_k(delete_index_AP, x_train_AP, test_approx_AP, k = 6))\n",
    "        if log: print('AP6s', AP6s[-1])\n",
    "    return visited3s, visited6s, hitRate3s, hitRate6s, AP3s, AP6s, trainingTime, qTime"
   ]
  },
  {
   "cell_type": "code",
   "execution_count": 10,
   "id": "beneficial-anaheim",
   "metadata": {},
   "outputs": [],
   "source": [
    "def calc_mse__(alphas, itrs, factors, _l = 3, data_set_size = 0.072, log = False):\n",
    "    mse = []\n",
    "    matrix, sparce_matrix, implicit_matrix = ALSReady(WEB_SITE_matrix, l=_l)\n",
    "    train, test = train_test_split(implicit_matrix, shuffle=False, train_size = 0.06)\n",
    "    for a,i,f in zip(alphas, itrs, factors):\n",
    "        if log: print('------alphas, itrs, factors:', a,i,f, '------')\n",
    "        item_vectors, user_vectors, alsTime = \\\n",
    "        CFTrain(None, train, _alpha = a, _facs = f, _itr = i)\n",
    "        test_approx = np.matmul(user_vectors, item_vectors.T)\n",
    "        mse.append(MSE(test_approx, train))\n",
    "        print('MSE', mse[-1])\n",
    "    return mse"
   ]
  },
  {
   "cell_type": "code",
   "execution_count": 11,
   "id": "coral-latino",
   "metadata": {},
   "outputs": [],
   "source": [
    "def MAE(approx, train):\n",
    "    absolute_error = np.absolute(train - approximated_matrix)\n",
    "    return np.mean(absolute_error)\n",
    "def MSE(approx, train):\n",
    "    absolute_error = np.absolute(train - approx)\n",
    "    absolute_error = np.square(absolute_error)\n",
    "    return np.mean(absolute_error)\n",
    "def MAE_calc(train, itr = 10, facs = 20):\n",
    "    item_vectors, user_vectors, alsTime = \\\n",
    "    CFTrain(None, train, _alpha = 10, _facs = 20, _itr = itr)\n",
    "    approximated_matrix = np.matmul(user_vectors, item_vectors.T)\n",
    "    absolute_error = np.absolute(train - approximated_matrix)\n",
    "    return np.mean(absolute_error)\n",
    "def MSE_calc(train, itr = 10, facs = 20):\n",
    "    item_vectors, user_vectors, alsTime = \\\n",
    "    CFTrain(None, train, _alpha = 100, _facs = 25, _itr = itr)\n",
    "    approximated_matrix = np.matmul(user_vectors, item_vectors.T)\n",
    "    return MSE(approximated_matrix, train)"
   ]
  },
  {
   "cell_type": "code",
   "execution_count": 12,
   "id": "registered-force",
   "metadata": {},
   "outputs": [
    {
     "name": "stdout",
     "output_type": "stream",
     "text": [
      "View matrix loaded in 0.6351213455200195 seconds.\n",
      "Number of users which should be deleted: 97264\n",
      "Number products which should be deleted: 252\n",
      "Number of users which should be deleted: 56\n",
      "Number products which should be deleted: 3\n",
      "Number of users which should be deleted: 2\n",
      "Number products which should be deleted: 1\n",
      "Number of users which should be deleted: 1\n",
      "Number products which should be deleted: 0\n",
      "Number of users which should be deleted: 0\n",
      "Number products which should be deleted: 0\n",
      "matrix has been made dense in 2.5180413722991943 seconds.\n",
      "ALS model is fitted in 0.0034666061401367188 seconds.\n",
      "25.31880827250719\n",
      "ALS model is fitted in 0.03934431076049805 seconds.\n",
      "0.014544485599105388\n",
      "ALS model is fitted in 0.05471658706665039 seconds.\n",
      "0.012547124854700066\n",
      "ALS model is fitted in 0.09521937370300293 seconds.\n",
      "0.012034580036112201\n",
      "ALS model is fitted in 0.12405085563659668 seconds.\n",
      "0.011738740815751627\n",
      "ALS model is fitted in 0.1594550609588623 seconds.\n",
      "0.011626054406859598\n",
      "ALS model is fitted in 0.2542150020599365 seconds.\n",
      "0.011539409315857549\n",
      "ALS model is fitted in 0.21858644485473633 seconds.\n",
      "0.011438545591931906\n",
      "ALS model is fitted in 0.2508378028869629 seconds.\n",
      "0.011418898234322655\n",
      "ALS model is fitted in 0.36605262756347656 seconds.\n",
      "0.011372510072107532\n",
      "ALS model is fitted in 0.3716621398925781 seconds.\n",
      "0.011336828198359291\n",
      "ALS model is fitted in 0.3515660762786865 seconds.\n",
      "0.011316776350865644\n",
      "ALS model is fitted in 0.3812541961669922 seconds.\n",
      "0.011300095584426084\n",
      "ALS model is fitted in 0.44330286979675293 seconds.\n",
      "0.011293355723587811\n",
      "ALS model is fitted in 0.3836798667907715 seconds.\n",
      "0.011275607524483007\n",
      "ALS model is fitted in 0.45130157470703125 seconds.\n",
      "0.01127112587286211\n",
      "ALS model is fitted in 0.4835827350616455 seconds.\n",
      "0.011250608558529754\n",
      "ALS model is fitted in 0.5497448444366455 seconds.\n",
      "0.011246640481265661\n",
      "ALS model is fitted in 0.6127462387084961 seconds.\n",
      "0.011234726991435157\n",
      "ALS model is fitted in 0.5421180725097656 seconds.\n",
      "0.011242208697625855\n"
     ]
    }
   ],
   "source": [
    "matrix, sparce_matrix, implicit_matrix = ALSReady(WEB_SITE_matrix, l=2)\n",
    "MSEs = []\n",
    "train, test = train_test_split(implicit_matrix, shuffle=False, train_size = 0.08)\n",
    "for i in [i for i in range(20)]:\n",
    "    MSEs.append(MSE_calc(train, itr = i))\n",
    "    print(MSEs[-1])"
   ]
  },
  {
   "cell_type": "code",
   "execution_count": 13,
   "id": "danish-duration",
   "metadata": {},
   "outputs": [
    {
     "data": {
      "image/png": "[encoded data removed]",
      "text/plain": [
       "<Figure size 432x288 with 1 Axes>"
      ]
     },
     "metadata": {
      "needs_background": "light"
     },
     "output_type": "display_data"
    }
   ],
   "source": [
    "X = [i for i in range(20)]\n",
    "plt.plot(X, MSEs)\n",
    "plt.title(\"MSE per iterations \" + WEB_SITE_NAME)\n",
    "plt.xticks(np.arange(0, len(X)+1, 2))\n",
    "plt.savefig(RESULTS + 'MSE_per_itrs1_' + WEB_SITE_NAME + '.png', dpi=400)"
   ]
  },
  {
   "cell_type": "code",
   "execution_count": 14,
   "id": "finnish-trade",
   "metadata": {},
   "outputs": [
    {
     "data": {
      "image/png": "[encoded data removed]",
      "text/plain": [
       "<Figure size 432x288 with 1 Axes>"
      ]
     },
     "metadata": {
      "needs_background": "light"
     },
     "output_type": "display_data"
    }
   ],
   "source": [
    "X = [i for i in range(1, 20)]\n",
    "plt.plot(X, MSEs[1:])\n",
    "plt.title(\"MSE per iterations \" + WEB_SITE_NAME)\n",
    "plt.xticks(np.arange(1, len(X)+1, 2))\n",
    "plt.savefig(RESULTS + 'MSE_per_itrs2_' + WEB_SITE_NAME + '.png', dpi=400)"
   ]
  },
  {
   "cell_type": "markdown",
   "id": "quarterly-factor",
   "metadata": {},
   "source": [
    "## Run on all"
   ]
  },
  {
   "cell_type": "code",
   "execution_count": 15,
   "id": "authentic-frederick",
   "metadata": {},
   "outputs": [],
   "source": [
    "MSEs = []\n",
    "visited3s = []\n",
    "visited6s = []\n",
    "hitRate3s = []\n",
    "hitRate6s = []\n",
    "AP3s = []\n",
    "AP6s = []\n",
    "trainingTime = []\n",
    "qTime = []"
   ]
  },
  {
   "cell_type": "code",
   "execution_count": 16,
   "id": "light-victoria",
   "metadata": {
    "scrolled": true
   },
   "outputs": [
    {
     "name": "stdout",
     "output_type": "stream",
     "text": [
      "View matrix loaded in 0.7837047576904297 seconds.\n",
      "Number of users which should be deleted: 97264\n",
      "Number products which should be deleted: 252\n",
      "Number of users which should be deleted: 56\n",
      "Number products which should be deleted: 3\n",
      "Number of users which should be deleted: 2\n",
      "Number products which should be deleted: 1\n",
      "Number of users which should be deleted: 1\n",
      "Number products which should be deleted: 0\n",
      "Number of users which should be deleted: 0\n",
      "Number products which should be deleted: 0\n",
      "matrix has been made dense in 2.469412088394165 seconds.\n",
      "test_shape (20924, 766) train_shape (which we cant process bc of RAM) (12823, 766)\n",
      "total cells 47966 number of deleted cells 20924\n"
     ]
    },
    {
     "name": "stderr",
     "output_type": "stream",
     "text": [
      "/home/yektanet/.local/lib/python3.8/site-packages/scipy/sparse/_index.py:82: SparseEfficiencyWarning: Changing the sparsity structure of a csr_matrix is expensive. lil_matrix is more efficient.\n",
      "  self._set_intXint(row, col, x.flat[0])\n",
      "128it [00:00, 1274.10it/s]"
     ]
    },
    {
     "name": "stdout",
     "output_type": "stream",
     "text": [
      "test_shape (20924, 766) train_shape (which we cant process bc of RAM) (12823, 766)\n",
      "total cells 47966 number of deleted cells 9593\n"
     ]
    },
    {
     "name": "stderr",
     "output_type": "stream",
     "text": [
      "47966it [00:52, 917.17it/s] \n"
     ]
    },
    {
     "name": "stdout",
     "output_type": "stream",
     "text": [
      "------alphas, itrs, factors------ 0.1 15 5\n",
      "ALS model is fitted in 0.58174729347229 seconds.\n",
      "annoy time: 0.14146065711975098\n",
      "training and querry time: 0.58174729347229 0.14146065711975098\n"
     ]
    },
    {
     "name": "stderr",
     "output_type": "stream",
     "text": [
      "100%|██████████| 20924/20924 [00:01<00:00, 15858.94it/s]\n",
      "  7%|▋         | 1466/20924 [00:00<00:01, 14659.00it/s]"
     ]
    },
    {
     "name": "stdout",
     "output_type": "stream",
     "text": [
      "visited3s 0.2838975321189378\n"
     ]
    },
    {
     "name": "stderr",
     "output_type": "stream",
     "text": [
      "100%|██████████| 20924/20924 [00:01<00:00, 13727.31it/s]\n",
      "  3%|▎         | 700/20924 [00:00<00:02, 6991.59it/s]"
     ]
    },
    {
     "name": "stdout",
     "output_type": "stream",
     "text": [
      "visited6s 0.322935397284549\n"
     ]
    },
    {
     "name": "stderr",
     "output_type": "stream",
     "text": [
      "100%|██████████| 20924/20924 [00:03<00:00, 6460.06it/s]\n",
      "  3%|▎         | 706/20924 [00:00<00:02, 7058.31it/s]"
     ]
    },
    {
     "name": "stdout",
     "output_type": "stream",
     "text": [
      "2429 9593 0.2532054623162723\n",
      "hitRate3s 0.2532054623162723\n"
     ]
    },
    {
     "name": "stderr",
     "output_type": "stream",
     "text": [
      "100%|██████████| 20924/20924 [00:03<00:00, 6950.76it/s]\n"
     ]
    },
    {
     "name": "stdout",
     "output_type": "stream",
     "text": [
      "2627 9593 0.2738455123527572\n",
      "hitRate6s 0.2738455123527572\n"
     ]
    },
    {
     "name": "stderr",
     "output_type": "stream",
     "text": [
      "  1%|          | 127/20924 [00:00<00:16, 1268.75it/s]"
     ]
    },
    {
     "name": "stdout",
     "output_type": "stream",
     "text": [
      "ALS model is fitted in 0.5722179412841797 seconds.\n"
     ]
    },
    {
     "name": "stderr",
     "output_type": "stream",
     "text": [
      "100%|██████████| 20924/20924 [00:06<00:00, 2999.89it/s]\n",
      "  1%|▏         | 276/20924 [00:00<00:07, 2759.38it/s]"
     ]
    },
    {
     "name": "stdout",
     "output_type": "stream",
     "text": [
      "3813 20924 0.18223093098833876\n",
      "AP3s 0.18223093098833876\n"
     ]
    },
    {
     "name": "stderr",
     "output_type": "stream",
     "text": [
      "100%|██████████| 20924/20924 [00:06<00:00, 3122.03it/s]\n"
     ]
    },
    {
     "name": "stdout",
     "output_type": "stream",
     "text": [
      "4343 20924 0.2075606958516536\n",
      "AP6s 0.2075606958516536\n",
      "------alphas, itrs, factors------ 0.1 15 10\n",
      "ALS model is fitted in 0.9025235176086426 seconds.\n",
      "annoy time: 0.1586751937866211\n",
      "training and querry time: 0.9025235176086426 0.1586751937866211\n"
     ]
    },
    {
     "name": "stderr",
     "output_type": "stream",
     "text": [
      "100%|██████████| 20924/20924 [00:01<00:00, 17078.75it/s]\n",
      "  7%|▋         | 1455/20924 [00:00<00:01, 14543.63it/s]"
     ]
    },
    {
     "name": "stdout",
     "output_type": "stream",
     "text": [
      "visited3s 0.398769968467412\n"
     ]
    },
    {
     "name": "stderr",
     "output_type": "stream",
     "text": [
      "100%|██████████| 20924/20924 [00:01<00:00, 14969.04it/s]\n",
      "  3%|▎         | 674/20924 [00:00<00:03, 6732.75it/s]"
     ]
    },
    {
     "name": "stdout",
     "output_type": "stream",
     "text": [
      "visited6s 0.45373048758241474\n"
     ]
    },
    {
     "name": "stderr",
     "output_type": "stream",
     "text": [
      "100%|██████████| 20924/20924 [00:03<00:00, 6557.25it/s]\n",
      "  3%|▎         | 705/20924 [00:00<00:02, 7047.35it/s]"
     ]
    },
    {
     "name": "stdout",
     "output_type": "stream",
     "text": [
      "2727 9593 0.2842697800479516\n",
      "hitRate3s 0.2842697800479516\n"
     ]
    },
    {
     "name": "stderr",
     "output_type": "stream",
     "text": [
      "100%|██████████| 20924/20924 [00:03<00:00, 6795.21it/s]\n"
     ]
    },
    {
     "name": "stdout",
     "output_type": "stream",
     "text": [
      "3101 9593 0.32325654122797876\n",
      "hitRate6s 0.32325654122797876\n"
     ]
    },
    {
     "name": "stderr",
     "output_type": "stream",
     "text": [
      "  1%|          | 140/20924 [00:00<00:14, 1399.79it/s]"
     ]
    },
    {
     "name": "stdout",
     "output_type": "stream",
     "text": [
      "ALS model is fitted in 0.8099038600921631 seconds.\n"
     ]
    },
    {
     "name": "stderr",
     "output_type": "stream",
     "text": [
      "100%|██████████| 20924/20924 [00:06<00:00, 3050.02it/s]\n",
      "  1%|          | 254/20924 [00:00<00:08, 2537.58it/s]"
     ]
    },
    {
     "name": "stdout",
     "output_type": "stream",
     "text": [
      "4707 20924 0.22495698719174154\n",
      "AP3s 0.22495698719174154\n"
     ]
    },
    {
     "name": "stderr",
     "output_type": "stream",
     "text": [
      "100%|██████████| 20924/20924 [00:07<00:00, 2710.18it/s]\n"
     ]
    },
    {
     "name": "stdout",
     "output_type": "stream",
     "text": [
      "5624 20924 0.26878225960619384\n",
      "AP6s 0.26878225960619384\n",
      "------alphas, itrs, factors------ 0.1 15 20\n",
      "ALS model is fitted in 1.331751823425293 seconds.\n",
      "annoy time: 0.1281135082244873\n",
      "training and querry time: 1.331751823425293 0.1281135082244873\n"
     ]
    },
    {
     "name": "stderr",
     "output_type": "stream",
     "text": [
      "100%|██████████| 20924/20924 [00:01<00:00, 13661.57it/s]\n",
      "  7%|▋         | 1434/20924 [00:00<00:01, 14334.14it/s]"
     ]
    },
    {
     "name": "stdout",
     "output_type": "stream",
     "text": [
      "visited3s 0.5650587652776692\n"
     ]
    },
    {
     "name": "stderr",
     "output_type": "stream",
     "text": [
      "100%|██████████| 20924/20924 [00:01<00:00, 14798.34it/s]\n",
      "  3%|▎         | 708/20924 [00:00<00:02, 7076.48it/s]"
     ]
    },
    {
     "name": "stdout",
     "output_type": "stream",
     "text": [
      "visited6s 0.6241367628280301\n"
     ]
    },
    {
     "name": "stderr",
     "output_type": "stream",
     "text": [
      "100%|██████████| 20924/20924 [00:02<00:00, 7086.06it/s]\n",
      "  3%|▎         | 712/20924 [00:00<00:02, 7113.88it/s]"
     ]
    },
    {
     "name": "stdout",
     "output_type": "stream",
     "text": [
      "3778 9593 0.3938288335244449\n",
      "hitRate3s 0.3938288335244449\n"
     ]
    },
    {
     "name": "stderr",
     "output_type": "stream",
     "text": [
      "100%|██████████| 20924/20924 [00:02<00:00, 7132.03it/s]\n"
     ]
    },
    {
     "name": "stdout",
     "output_type": "stream",
     "text": [
      "4079 9593 0.4252058792869801\n",
      "hitRate6s 0.4252058792869801\n"
     ]
    },
    {
     "name": "stderr",
     "output_type": "stream",
     "text": [
      "  1%|          | 130/20924 [00:00<00:16, 1298.00it/s]"
     ]
    },
    {
     "name": "stdout",
     "output_type": "stream",
     "text": [
      "ALS model is fitted in 1.1029689311981201 seconds.\n"
     ]
    },
    {
     "name": "stderr",
     "output_type": "stream",
     "text": [
      "100%|██████████| 20924/20924 [00:07<00:00, 2747.66it/s]\n",
      "  1%|▏         | 293/20924 [00:00<00:07, 2927.37it/s]"
     ]
    },
    {
     "name": "stdout",
     "output_type": "stream",
     "text": [
      "5663 20924 0.2706461479640604\n",
      "AP3s 0.2706461479640604\n"
     ]
    },
    {
     "name": "stderr",
     "output_type": "stream",
     "text": [
      "100%|██████████| 20924/20924 [00:07<00:00, 2828.91it/s]\n"
     ]
    },
    {
     "name": "stdout",
     "output_type": "stream",
     "text": [
      "6652 20924 0.3179124450391895\n",
      "AP6s 0.3179124450391895\n",
      "------alphas, itrs, factors------ 0.1 15 40\n",
      "ALS model is fitted in 7.499608278274536 seconds.\n",
      "annoy time: 0.14603638648986816\n",
      "training and querry time: 7.499608278274536 0.14603638648986816\n"
     ]
    },
    {
     "name": "stderr",
     "output_type": "stream",
     "text": [
      "100%|██████████| 20924/20924 [00:01<00:00, 17028.83it/s]\n",
      "  7%|▋         | 1527/20924 [00:00<00:01, 15268.01it/s]"
     ]
    },
    {
     "name": "stdout",
     "output_type": "stream",
     "text": [
      "visited3s 0.67054960519115\n"
     ]
    },
    {
     "name": "stderr",
     "output_type": "stream",
     "text": [
      "100%|██████████| 20924/20924 [00:01<00:00, 14950.94it/s]\n",
      "  3%|▎         | 713/20924 [00:00<00:02, 7124.72it/s]"
     ]
    },
    {
     "name": "stdout",
     "output_type": "stream",
     "text": [
      "visited6s 0.7192557266828239\n"
     ]
    },
    {
     "name": "stderr",
     "output_type": "stream",
     "text": [
      "100%|██████████| 20924/20924 [00:03<00:00, 6851.30it/s]\n",
      "  3%|▎         | 610/20924 [00:00<00:03, 6090.99it/s]"
     ]
    },
    {
     "name": "stdout",
     "output_type": "stream",
     "text": [
      "2657 9593 0.2769727926613155\n",
      "hitRate3s 0.2769727926613155\n"
     ]
    },
    {
     "name": "stderr",
     "output_type": "stream",
     "text": [
      "100%|██████████| 20924/20924 [00:03<00:00, 5934.98it/s]\n"
     ]
    },
    {
     "name": "stdout",
     "output_type": "stream",
     "text": [
      "2987 9593 0.3113728760554571\n",
      "hitRate6s 0.3113728760554571\n"
     ]
    },
    {
     "name": "stderr",
     "output_type": "stream",
     "text": [
      "\r",
      "  0%|          | 0/20924 [00:00<?, ?it/s]"
     ]
    },
    {
     "name": "stdout",
     "output_type": "stream",
     "text": [
      "ALS model is fitted in 10.274397134780884 seconds.\n"
     ]
    },
    {
     "name": "stderr",
     "output_type": "stream",
     "text": [
      "100%|██████████| 20924/20924 [00:06<00:00, 3156.74it/s]\n",
      "  1%|▏         | 299/20924 [00:00<00:06, 2982.27it/s]"
     ]
    },
    {
     "name": "stdout",
     "output_type": "stream",
     "text": [
      "3827 20924 0.18290001911680367\n",
      "AP3s 0.18290001911680367\n"
     ]
    },
    {
     "name": "stderr",
     "output_type": "stream",
     "text": [
      "100%|██████████| 20924/20924 [00:06<00:00, 3173.56it/s]\n"
     ]
    },
    {
     "name": "stdout",
     "output_type": "stream",
     "text": [
      "4708 20924 0.2250047792009176\n",
      "AP6s 0.2250047792009176\n",
      "------alphas, itrs, factors------ 0.1 15 60\n",
      "ALS model is fitted in 12.409297227859497 seconds.\n",
      "annoy time: 0.13294124603271484\n",
      "training and querry time: 12.409297227859497 0.13294124603271484\n"
     ]
    },
    {
     "name": "stderr",
     "output_type": "stream",
     "text": [
      "100%|██████████| 20924/20924 [00:01<00:00, 16740.76it/s]\n",
      "  7%|▋         | 1447/20924 [00:00<00:01, 14466.15it/s]"
     ]
    },
    {
     "name": "stdout",
     "output_type": "stream",
     "text": [
      "visited3s 0.741146118364475\n"
     ]
    },
    {
     "name": "stderr",
     "output_type": "stream",
     "text": [
      "100%|██████████| 20924/20924 [00:01<00:00, 14613.99it/s]\n",
      "  3%|▎         | 715/20924 [00:00<00:02, 7142.65it/s]"
     ]
    },
    {
     "name": "stdout",
     "output_type": "stream",
     "text": [
      "visited6s 0.7841451020248612\n"
     ]
    },
    {
     "name": "stderr",
     "output_type": "stream",
     "text": [
      "100%|██████████| 20924/20924 [00:02<00:00, 7020.03it/s]\n",
      "  3%|▎         | 671/20924 [00:00<00:03, 6702.83it/s]"
     ]
    },
    {
     "name": "stdout",
     "output_type": "stream",
     "text": [
      "2431 9593 0.25341394767017617\n",
      "hitRate3s 0.25341394767017617\n"
     ]
    },
    {
     "name": "stderr",
     "output_type": "stream",
     "text": [
      "100%|██████████| 20924/20924 [00:02<00:00, 7079.69it/s]\n"
     ]
    },
    {
     "name": "stdout",
     "output_type": "stream",
     "text": [
      "2649 9593 0.2761388512457\n",
      "hitRate6s 0.2761388512457\n"
     ]
    },
    {
     "name": "stderr",
     "output_type": "stream",
     "text": [
      "\r",
      "  0%|          | 0/20924 [00:00<?, ?it/s]"
     ]
    },
    {
     "name": "stdout",
     "output_type": "stream",
     "text": [
      "ALS model is fitted in 11.725744247436523 seconds.\n"
     ]
    },
    {
     "name": "stderr",
     "output_type": "stream",
     "text": [
      "100%|██████████| 20924/20924 [00:06<00:00, 3159.66it/s]\n",
      "  2%|▏         | 314/20924 [00:00<00:06, 3136.91it/s]"
     ]
    },
    {
     "name": "stdout",
     "output_type": "stream",
     "text": [
      "3317 20924 0.15852609443701013\n",
      "AP3s 0.15852609443701013\n"
     ]
    },
    {
     "name": "stderr",
     "output_type": "stream",
     "text": [
      "100%|██████████| 20924/20924 [00:06<00:00, 3166.55it/s]\n"
     ]
    },
    {
     "name": "stdout",
     "output_type": "stream",
     "text": [
      "4203 20924 0.2008698145670044\n",
      "AP6s 0.2008698145670044\n",
      "------alphas, itrs, factors------ 0.1 15 100\n",
      "ALS model is fitted in 35.01816177368164 seconds.\n",
      "annoy time: 0.13315081596374512\n",
      "training and querry time: 35.01816177368164 0.13315081596374512\n"
     ]
    },
    {
     "name": "stderr",
     "output_type": "stream",
     "text": [
      "100%|██████████| 20924/20924 [00:01<00:00, 16373.48it/s]\n",
      "  7%|▋         | 1502/20924 [00:00<00:01, 15018.19it/s]"
     ]
    },
    {
     "name": "stdout",
     "output_type": "stream",
     "text": [
      "visited3s 0.8124462512704245\n"
     ]
    },
    {
     "name": "stderr",
     "output_type": "stream",
     "text": [
      "100%|██████████| 20924/20924 [00:01<00:00, 14530.70it/s]\n",
      "  3%|▎         | 690/20924 [00:00<00:02, 6894.06it/s]"
     ]
    },
    {
     "name": "stdout",
     "output_type": "stream",
     "text": [
      "visited6s 0.8514319964558413\n"
     ]
    },
    {
     "name": "stderr",
     "output_type": "stream",
     "text": [
      "100%|██████████| 20924/20924 [00:03<00:00, 6714.92it/s]\n",
      "  3%|▎         | 529/20924 [00:00<00:03, 5282.98it/s]"
     ]
    },
    {
     "name": "stdout",
     "output_type": "stream",
     "text": [
      "1422 9593 0.14823308662566453\n",
      "hitRate3s 0.14823308662566453\n"
     ]
    },
    {
     "name": "stderr",
     "output_type": "stream",
     "text": [
      "100%|██████████| 20924/20924 [00:03<00:00, 6891.38it/s]\n"
     ]
    },
    {
     "name": "stdout",
     "output_type": "stream",
     "text": [
      "1717 9593 0.17898467632648807\n",
      "hitRate6s 0.17898467632648807\n"
     ]
    },
    {
     "name": "stderr",
     "output_type": "stream",
     "text": [
      "\r",
      "  0%|          | 0/20924 [00:00<?, ?it/s]"
     ]
    },
    {
     "name": "stdout",
     "output_type": "stream",
     "text": [
      "ALS model is fitted in 44.0475435256958 seconds.\n"
     ]
    },
    {
     "name": "stderr",
     "output_type": "stream",
     "text": [
      "100%|██████████| 20924/20924 [00:09<00:00, 2211.89it/s]\n",
      "  1%|          | 210/20924 [00:00<00:09, 2094.01it/s]"
     ]
    },
    {
     "name": "stdout",
     "output_type": "stream",
     "text": [
      "1860 20924 0.08889313706748232\n",
      "AP3s 0.08889313706748232\n"
     ]
    },
    {
     "name": "stderr",
     "output_type": "stream",
     "text": [
      "100%|██████████| 20924/20924 [00:11<00:00, 1864.12it/s]\n"
     ]
    },
    {
     "name": "stdout",
     "output_type": "stream",
     "text": [
      "2554 20924 0.12206079143567196\n",
      "AP6s 0.12206079143567196\n",
      "View matrix loaded in 0.6528036594390869 seconds.\n",
      "Number of users which should be deleted: 97264\n",
      "Number products which should be deleted: 252\n",
      "Number of users which should be deleted: 56\n",
      "Number products which should be deleted: 3\n",
      "Number of users which should be deleted: 2\n",
      "Number products which should be deleted: 1\n",
      "Number of users which should be deleted: 1\n",
      "Number products which should be deleted: 0\n",
      "Number of users which should be deleted: 0\n",
      "Number products which should be deleted: 0\n",
      "matrix has been made dense in 2.7186803817749023 seconds.\n",
      "------alphas, itrs, factors: 0.1 15 5 ------\n",
      "ALS model is fitted in 0.07499265670776367 seconds.\n",
      "MSE 0.0033384019945252104\n",
      "------alphas, itrs, factors: 0.1 15 10 ------\n",
      "ALS model is fitted in 0.12084150314331055 seconds.\n",
      "MSE 0.0026621555414167524\n",
      "------alphas, itrs, factors: 0.1 15 20 ------\n",
      "ALS model is fitted in 0.24867916107177734 seconds.\n",
      "MSE 0.002151834009335732\n",
      "------alphas, itrs, factors: 0.1 15 40 ------\n",
      "ALS model is fitted in 1.2517170906066895 seconds.\n",
      "MSE 0.0016054542854564682\n",
      "------alphas, itrs, factors: 0.1 15 60 ------\n",
      "ALS model is fitted in 1.9377858638763428 seconds.\n",
      "MSE 0.0013165055991511603\n",
      "------alphas, itrs, factors: 0.1 15 100 ------\n",
      "ALS model is fitted in 4.886595964431763 seconds.\n",
      "MSE 0.0009252586350608764\n"
     ]
    }
   ],
   "source": [
    "visited3s1, visited6s1, hitRate3s1, hitRate6s1, AP3s1, AP6s1, trainingTime1, qTime1 = \\\n",
    "calc_visited_hitRate(alphas1, itrs1, factors1, _l = 2, data_set_size = TEST_SET_SIZE, log = True)\n",
    "MSE1 = calc_mse__(alphas1, itrs1, factors1, _l = 2, data_set_size = TEST_SET_SIZE1, log = True)\n",
    "MSEs.append(MSE1)\n",
    "visited3s.append(visited3s1)\n",
    "visited6s.append(visited6s1)\n",
    "hitRate3s.append(hitRate3s1)\n",
    "hitRate6s.append(hitRate6s1)\n",
    "AP3s.append(AP3s1)\n",
    "AP6s.append(AP6s1)\n",
    "trainingTime.append(trainingTime1)\n",
    "qTime.append(qTime1)"
   ]
  },
  {
   "cell_type": "code",
   "execution_count": 17,
   "id": "athletic-charles",
   "metadata": {
    "scrolled": true
   },
   "outputs": [
    {
     "name": "stdout",
     "output_type": "stream",
     "text": [
      "View matrix loaded in 0.655975341796875 seconds.\n",
      "Number of users which should be deleted: 97264\n",
      "Number products which should be deleted: 252\n",
      "Number of users which should be deleted: 56\n",
      "Number products which should be deleted: 3\n",
      "Number of users which should be deleted: 2\n",
      "Number products which should be deleted: 1\n",
      "Number of users which should be deleted: 1\n",
      "Number products which should be deleted: 0\n",
      "Number of users which should be deleted: 0\n",
      "Number products which should be deleted: 0\n",
      "matrix has been made dense in 2.596034288406372 seconds.\n",
      "test_shape (20924, 766) train_shape (which we cant process bc of RAM) (12823, 766)\n",
      "total cells 47966 number of deleted cells 20924\n"
     ]
    },
    {
     "name": "stderr",
     "output_type": "stream",
     "text": [
      "131it [00:00, 1309.22it/s]"
     ]
    },
    {
     "name": "stdout",
     "output_type": "stream",
     "text": [
      "test_shape (20924, 766) train_shape (which we cant process bc of RAM) (12823, 766)\n",
      "total cells 47966 number of deleted cells 9593\n"
     ]
    },
    {
     "name": "stderr",
     "output_type": "stream",
     "text": [
      "47966it [00:48, 982.74it/s] \n"
     ]
    },
    {
     "name": "stdout",
     "output_type": "stream",
     "text": [
      "------alphas, itrs, factors------ 10 15 5\n",
      "ALS model is fitted in 0.6706023216247559 seconds.\n",
      "annoy time: 0.1455216407775879\n",
      "training and querry time: 0.6706023216247559 0.1455216407775879\n"
     ]
    },
    {
     "name": "stderr",
     "output_type": "stream",
     "text": [
      "100%|██████████| 20924/20924 [00:01<00:00, 11221.64it/s]\n",
      "  6%|▋         | 1335/20924 [00:00<00:01, 13347.18it/s]"
     ]
    },
    {
     "name": "stdout",
     "output_type": "stream",
     "text": [
      "visited3s 0.47624631902639875\n"
     ]
    },
    {
     "name": "stderr",
     "output_type": "stream",
     "text": [
      "100%|██████████| 20924/20924 [00:01<00:00, 11701.92it/s]\n",
      "  2%|▏         | 358/20924 [00:00<00:05, 3576.51it/s]"
     ]
    },
    {
     "name": "stdout",
     "output_type": "stream",
     "text": [
      "visited6s 0.624241002788419\n"
     ]
    },
    {
     "name": "stderr",
     "output_type": "stream",
     "text": [
      "100%|██████████| 20924/20924 [00:04<00:00, 4579.67it/s]\n",
      "  3%|▎         | 557/20924 [00:00<00:03, 5565.16it/s]"
     ]
    },
    {
     "name": "stdout",
     "output_type": "stream",
     "text": [
      "4224 9593 0.440321067445012\n",
      "hitRate3s 0.440321067445012\n"
     ]
    },
    {
     "name": "stderr",
     "output_type": "stream",
     "text": [
      "100%|██████████| 20924/20924 [00:04<00:00, 4680.73it/s]\n"
     ]
    },
    {
     "name": "stdout",
     "output_type": "stream",
     "text": [
      "4920 9593 0.5128739706035651\n",
      "hitRate6s 0.5128739706035651\n"
     ]
    },
    {
     "name": "stderr",
     "output_type": "stream",
     "text": [
      "\r",
      "  0%|          | 0/20924 [00:00<?, ?it/s]"
     ]
    },
    {
     "name": "stdout",
     "output_type": "stream",
     "text": [
      "ALS model is fitted in 0.6418602466583252 seconds.\n"
     ]
    },
    {
     "name": "stderr",
     "output_type": "stream",
     "text": [
      "100%|██████████| 20924/20924 [00:09<00:00, 2118.06it/s]\n",
      "  1%|          | 229/20924 [00:00<00:09, 2285.11it/s]"
     ]
    },
    {
     "name": "stdout",
     "output_type": "stream",
     "text": [
      "9657 20924 0.46152743261326706\n",
      "AP3s 0.46152743261326706\n"
     ]
    },
    {
     "name": "stderr",
     "output_type": "stream",
     "text": [
      "100%|██████████| 20924/20924 [00:09<00:00, 2222.54it/s]\n"
     ]
    },
    {
     "name": "stdout",
     "output_type": "stream",
     "text": [
      "11831 20924 0.5654272605620341\n",
      "AP6s 0.5654272605620341\n",
      "------alphas, itrs, factors------ 10 15 10\n",
      "ALS model is fitted in 0.8618438243865967 seconds.\n",
      "annoy time: 0.10541129112243652\n",
      "training and querry time: 0.8618438243865967 0.10541129112243652\n"
     ]
    },
    {
     "name": "stderr",
     "output_type": "stream",
     "text": [
      "100%|██████████| 20924/20924 [00:01<00:00, 13419.88it/s]\n",
      "  6%|▌         | 1231/20924 [00:00<00:01, 12303.03it/s]"
     ]
    },
    {
     "name": "stdout",
     "output_type": "stream",
     "text": [
      "visited3s 0.6380006775597425\n"
     ]
    },
    {
     "name": "stderr",
     "output_type": "stream",
     "text": [
      "100%|██████████| 20924/20924 [00:01<00:00, 11001.15it/s]\n",
      "  3%|▎         | 579/20924 [00:00<00:03, 5787.70it/s]"
     ]
    },
    {
     "name": "stdout",
     "output_type": "stream",
     "text": [
      "visited6s 0.739869178849712\n"
     ]
    },
    {
     "name": "stderr",
     "output_type": "stream",
     "text": [
      "100%|██████████| 20924/20924 [00:03<00:00, 6646.57it/s]\n",
      "  3%|▎         | 663/20924 [00:00<00:03, 6625.05it/s]"
     ]
    },
    {
     "name": "stdout",
     "output_type": "stream",
     "text": [
      "5291 9593 0.5515480037527364\n",
      "hitRate3s 0.5515480037527364\n"
     ]
    },
    {
     "name": "stderr",
     "output_type": "stream",
     "text": [
      "100%|██████████| 20924/20924 [00:03<00:00, 6401.13it/s]\n"
     ]
    },
    {
     "name": "stdout",
     "output_type": "stream",
     "text": [
      "5862 9593 0.6110705722922964\n",
      "hitRate6s 0.6110705722922964\n"
     ]
    },
    {
     "name": "stderr",
     "output_type": "stream",
     "text": [
      "  1%|          | 152/20924 [00:00<00:13, 1516.49it/s]"
     ]
    },
    {
     "name": "stdout",
     "output_type": "stream",
     "text": [
      "ALS model is fitted in 0.8696534633636475 seconds.\n"
     ]
    },
    {
     "name": "stderr",
     "output_type": "stream",
     "text": [
      "100%|██████████| 20924/20924 [00:08<00:00, 2515.05it/s]\n",
      "  1%|▏         | 293/20924 [00:00<00:07, 2926.83it/s]"
     ]
    },
    {
     "name": "stdout",
     "output_type": "stream",
     "text": [
      "12224 20924 0.5842095201682279\n",
      "AP3s 0.5842095201682279\n"
     ]
    },
    {
     "name": "stderr",
     "output_type": "stream",
     "text": [
      "100%|██████████| 20924/20924 [00:06<00:00, 3056.91it/s]\n"
     ]
    },
    {
     "name": "stdout",
     "output_type": "stream",
     "text": [
      "14044 20924 0.6711909768686676\n",
      "AP6s 0.6711909768686676\n",
      "------alphas, itrs, factors------ 10 15 20\n",
      "ALS model is fitted in 1.5216543674468994 seconds.\n",
      "annoy time: 0.09565997123718262\n",
      "training and querry time: 1.5216543674468994 0.09565997123718262\n"
     ]
    },
    {
     "name": "stderr",
     "output_type": "stream",
     "text": [
      "100%|██████████| 20924/20924 [00:01<00:00, 16408.90it/s]\n",
      "  7%|▋         | 1509/20924 [00:00<00:01, 15081.67it/s]"
     ]
    },
    {
     "name": "stdout",
     "output_type": "stream",
     "text": [
      "visited3s 0.775936205144242\n"
     ]
    },
    {
     "name": "stderr",
     "output_type": "stream",
     "text": [
      "100%|██████████| 20924/20924 [00:01<00:00, 14758.04it/s]\n",
      "  3%|▎         | 701/20924 [00:00<00:02, 7003.61it/s]"
     ]
    },
    {
     "name": "stdout",
     "output_type": "stream",
     "text": [
      "visited6s 0.8617256925442368\n"
     ]
    },
    {
     "name": "stderr",
     "output_type": "stream",
     "text": [
      "100%|██████████| 20924/20924 [00:02<00:00, 7121.84it/s]\n",
      "  3%|▎         | 723/20924 [00:00<00:02, 7225.20it/s]"
     ]
    },
    {
     "name": "stdout",
     "output_type": "stream",
     "text": [
      "6214 9593 0.6477639945793808\n",
      "hitRate3s 0.6477639945793808\n"
     ]
    },
    {
     "name": "stderr",
     "output_type": "stream",
     "text": [
      "100%|██████████| 20924/20924 [00:02<00:00, 7029.75it/s]\n"
     ]
    },
    {
     "name": "stdout",
     "output_type": "stream",
     "text": [
      "6692 9593 0.6975919941624101\n",
      "hitRate6s 0.6975919941624101\n"
     ]
    },
    {
     "name": "stderr",
     "output_type": "stream",
     "text": [
      "  1%|          | 124/20924 [00:00<00:16, 1236.28it/s]"
     ]
    },
    {
     "name": "stdout",
     "output_type": "stream",
     "text": [
      "ALS model is fitted in 1.1460399627685547 seconds.\n"
     ]
    },
    {
     "name": "stderr",
     "output_type": "stream",
     "text": [
      "100%|██████████| 20924/20924 [00:06<00:00, 3176.41it/s]\n",
      "  1%|▏         | 294/20924 [00:00<00:07, 2936.69it/s]"
     ]
    },
    {
     "name": "stdout",
     "output_type": "stream",
     "text": [
      "13865 20924 0.6626362072261518\n",
      "AP3s 0.6626362072261518\n"
     ]
    },
    {
     "name": "stderr",
     "output_type": "stream",
     "text": [
      "100%|██████████| 20924/20924 [00:07<00:00, 2954.17it/s]\n"
     ]
    },
    {
     "name": "stdout",
     "output_type": "stream",
     "text": [
      "15730 20924 0.7517683043395145\n",
      "AP6s 0.7517683043395145\n",
      "------alphas, itrs, factors------ 10 15 40\n",
      "ALS model is fitted in 9.732662677764893 seconds.\n",
      "annoy time: 0.14154410362243652\n",
      "training and querry time: 9.732662677764893 0.14154410362243652\n"
     ]
    },
    {
     "name": "stderr",
     "output_type": "stream",
     "text": [
      "100%|██████████| 20924/20924 [00:01<00:00, 16225.45it/s]\n",
      "  6%|▋         | 1330/20924 [00:00<00:01, 13292.69it/s]"
     ]
    },
    {
     "name": "stdout",
     "output_type": "stream",
     "text": [
      "visited3s 0.8626899121778334\n"
     ]
    },
    {
     "name": "stderr",
     "output_type": "stream",
     "text": [
      "100%|██████████| 20924/20924 [00:01<00:00, 13602.67it/s]\n",
      "  3%|▎         | 694/20924 [00:00<00:02, 6933.69it/s]"
     ]
    },
    {
     "name": "stdout",
     "output_type": "stream",
     "text": [
      "visited6s 0.9370130039350585\n"
     ]
    },
    {
     "name": "stderr",
     "output_type": "stream",
     "text": [
      "100%|██████████| 20924/20924 [00:02<00:00, 7482.65it/s]\n",
      "  4%|▎         | 742/20924 [00:00<00:02, 7419.05it/s]"
     ]
    },
    {
     "name": "stdout",
     "output_type": "stream",
     "text": [
      "6510 9593 0.6786198269571563\n",
      "hitRate3s 0.6786198269571563\n"
     ]
    },
    {
     "name": "stderr",
     "output_type": "stream",
     "text": [
      "100%|██████████| 20924/20924 [00:02<00:00, 7386.59it/s]\n"
     ]
    },
    {
     "name": "stdout",
     "output_type": "stream",
     "text": [
      "6961 9593 0.725633274262483\n",
      "hitRate6s 0.725633274262483\n"
     ]
    },
    {
     "name": "stderr",
     "output_type": "stream",
     "text": [
      "  1%|          | 168/20924 [00:00<00:12, 1676.65it/s]"
     ]
    },
    {
     "name": "stdout",
     "output_type": "stream",
     "text": [
      "ALS model is fitted in 7.0718834400177 seconds.\n"
     ]
    },
    {
     "name": "stderr",
     "output_type": "stream",
     "text": [
      "100%|██████████| 20924/20924 [00:06<00:00, 3152.10it/s]\n",
      "  1%|▏         | 307/20924 [00:00<00:06, 3061.38it/s]"
     ]
    },
    {
     "name": "stdout",
     "output_type": "stream",
     "text": [
      "10869 20924 0.5194513477346587\n",
      "AP3s 0.5194513477346587\n"
     ]
    },
    {
     "name": "stderr",
     "output_type": "stream",
     "text": [
      "100%|██████████| 20924/20924 [00:06<00:00, 3113.04it/s]\n"
     ]
    },
    {
     "name": "stdout",
     "output_type": "stream",
     "text": [
      "13877 20924 0.6632097113362646\n",
      "AP6s 0.6632097113362646\n",
      "------alphas, itrs, factors------ 10 15 60\n",
      "ALS model is fitted in 11.779067039489746 seconds.\n",
      "annoy time: 0.11407876014709473\n",
      "training and querry time: 11.779067039489746 0.11407876014709473\n"
     ]
    },
    {
     "name": "stderr",
     "output_type": "stream",
     "text": [
      "100%|██████████| 20924/20924 [00:01<00:00, 17036.94it/s]\n",
      "  7%|▋         | 1477/20924 [00:00<00:01, 14765.02it/s]"
     ]
    },
    {
     "name": "stdout",
     "output_type": "stream",
     "text": [
      "visited3s 0.9063143356005525\n"
     ]
    },
    {
     "name": "stderr",
     "output_type": "stream",
     "text": [
      "100%|██████████| 20924/20924 [00:01<00:00, 14990.38it/s]\n",
      "  3%|▎         | 723/20924 [00:00<00:02, 7224.82it/s]"
     ]
    },
    {
     "name": "stdout",
     "output_type": "stream",
     "text": [
      "visited6s 0.9666692726656764\n"
     ]
    },
    {
     "name": "stderr",
     "output_type": "stream",
     "text": [
      "100%|██████████| 20924/20924 [00:02<00:00, 7265.52it/s]\n",
      "  3%|▎         | 677/20924 [00:00<00:02, 6765.15it/s]"
     ]
    },
    {
     "name": "stdout",
     "output_type": "stream",
     "text": [
      "6477 9593 0.6751798186177421\n",
      "hitRate3s 0.6751798186177421\n"
     ]
    },
    {
     "name": "stderr",
     "output_type": "stream",
     "text": [
      "100%|██████████| 20924/20924 [00:02<00:00, 7098.78it/s]\n"
     ]
    },
    {
     "name": "stdout",
     "output_type": "stream",
     "text": [
      "6938 9593 0.7232356926925884\n",
      "hitRate6s 0.7232356926925884\n"
     ]
    },
    {
     "name": "stderr",
     "output_type": "stream",
     "text": [
      "\r",
      "  0%|          | 0/20924 [00:00<?, ?it/s]"
     ]
    },
    {
     "name": "stdout",
     "output_type": "stream",
     "text": [
      "ALS model is fitted in 12.062042713165283 seconds.\n"
     ]
    },
    {
     "name": "stderr",
     "output_type": "stream",
     "text": [
      "100%|██████████| 20924/20924 [00:06<00:00, 3195.88it/s]\n",
      "  2%|▏         | 317/20924 [00:00<00:06, 3163.70it/s]"
     ]
    },
    {
     "name": "stdout",
     "output_type": "stream",
     "text": [
      "8632 20924 0.41254062320779966\n",
      "AP3s 0.41254062320779966\n"
     ]
    },
    {
     "name": "stderr",
     "output_type": "stream",
     "text": [
      "100%|██████████| 20924/20924 [00:06<00:00, 3017.07it/s]\n"
     ]
    },
    {
     "name": "stdout",
     "output_type": "stream",
     "text": [
      "11525 20924 0.5508029057541579\n",
      "AP6s 0.5508029057541579\n",
      "------alphas, itrs, factors------ 10 15 100\n",
      "ALS model is fitted in 33.08919429779053 seconds.\n",
      "annoy time: 0.11412692070007324\n",
      "training and querry time: 33.08919429779053 0.11412692070007324\n"
     ]
    },
    {
     "name": "stderr",
     "output_type": "stream",
     "text": [
      "100%|██████████| 20924/20924 [00:01<00:00, 16944.25it/s]\n",
      "  7%|▋         | 1500/20924 [00:00<00:01, 14991.61it/s]"
     ]
    },
    {
     "name": "stdout",
     "output_type": "stream",
     "text": [
      "visited3s 0.9421207619941104\n"
     ]
    },
    {
     "name": "stderr",
     "output_type": "stream",
     "text": [
      "100%|██████████| 20924/20924 [00:01<00:00, 14894.76it/s]\n",
      "  3%|▎         | 693/20924 [00:00<00:02, 6922.32it/s]"
     ]
    },
    {
     "name": "stdout",
     "output_type": "stream",
     "text": [
      "visited6s 0.9855888254762463\n"
     ]
    },
    {
     "name": "stderr",
     "output_type": "stream",
     "text": [
      "100%|██████████| 20924/20924 [00:02<00:00, 7205.73it/s]\n",
      "  3%|▎         | 665/20924 [00:00<00:03, 6644.27it/s]"
     ]
    },
    {
     "name": "stdout",
     "output_type": "stream",
     "text": [
      "5956 9593 0.6208693839257792\n",
      "hitRate3s 0.6208693839257792\n"
     ]
    },
    {
     "name": "stderr",
     "output_type": "stream",
     "text": [
      "100%|██████████| 20924/20924 [00:02<00:00, 7095.20it/s]\n"
     ]
    },
    {
     "name": "stdout",
     "output_type": "stream",
     "text": [
      "6667 9593 0.6949859272386115\n",
      "hitRate6s 0.6949859272386115\n"
     ]
    },
    {
     "name": "stderr",
     "output_type": "stream",
     "text": [
      "\r",
      "  0%|          | 0/20924 [00:00<?, ?it/s]"
     ]
    },
    {
     "name": "stdout",
     "output_type": "stream",
     "text": [
      "ALS model is fitted in 33.71953272819519 seconds.\n"
     ]
    },
    {
     "name": "stderr",
     "output_type": "stream",
     "text": [
      "100%|██████████| 20924/20924 [00:06<00:00, 3210.72it/s]\n",
      "  3%|▎         | 649/20924 [00:00<00:06, 3260.18it/s]"
     ]
    },
    {
     "name": "stdout",
     "output_type": "stream",
     "text": [
      "6651 20924 0.3178646530300134\n",
      "AP3s 0.3178646530300134\n"
     ]
    },
    {
     "name": "stderr",
     "output_type": "stream",
     "text": [
      "100%|██████████| 20924/20924 [00:06<00:00, 3249.64it/s]\n"
     ]
    },
    {
     "name": "stdout",
     "output_type": "stream",
     "text": [
      "8753 20924 0.41832345631810364\n",
      "AP6s 0.41832345631810364\n",
      "View matrix loaded in 0.5569455623626709 seconds.\n",
      "Number of users which should be deleted: 97264\n",
      "Number products which should be deleted: 252\n",
      "Number of users which should be deleted: 56\n",
      "Number products which should be deleted: 3\n",
      "Number of users which should be deleted: 2\n",
      "Number products which should be deleted: 1\n",
      "Number of users which should be deleted: 1\n",
      "Number products which should be deleted: 0\n",
      "Number of users which should be deleted: 0\n",
      "Number products which should be deleted: 0\n",
      "matrix has been made dense in 2.5504631996154785 seconds.\n",
      "------alphas, itrs, factors: 10 15 5 ------\n",
      "ALS model is fitted in 0.0682377815246582 seconds.\n",
      "MSE 0.0065252776526363975\n",
      "------alphas, itrs, factors: 10 15 10 ------\n",
      "ALS model is fitted in 0.1147308349609375 seconds.\n",
      "MSE 0.0057370117238494545\n",
      "------alphas, itrs, factors: 10 15 20 ------\n",
      "ALS model is fitted in 0.1564488410949707 seconds.\n",
      "MSE 0.004564760108809514\n",
      "------alphas, itrs, factors: 10 15 40 ------\n",
      "ALS model is fitted in 0.7957148551940918 seconds.\n",
      "MSE 0.0032174502423302385\n",
      "------alphas, itrs, factors: 10 15 60 ------\n",
      "ALS model is fitted in 1.8225674629211426 seconds.\n",
      "MSE 0.002402948447198553\n",
      "------alphas, itrs, factors: 10 15 100 ------\n",
      "ALS model is fitted in 4.5209410190582275 seconds.\n",
      "MSE 0.0014486997210639552\n"
     ]
    }
   ],
   "source": [
    "visited3s2, visited6s2, hitRate3s2, hitRate6s2, AP3s2, AP6s2, trainingTime2, qTime2 = \\\n",
    "calc_visited_hitRate(alphas2, itrs2, factors2, _l = 2, data_set_size = TEST_SET_SIZE, log = True)\n",
    "MSE2 = calc_mse__(alphas2, itrs2, factors2, _l = 2, data_set_size = TEST_SET_SIZE1, log = True)\n",
    "MSEs.append(MSE2)\n",
    "visited3s.append(visited3s2)\n",
    "visited6s.append(visited6s2)\n",
    "hitRate3s.append(hitRate3s2)\n",
    "hitRate6s.append(hitRate6s2)\n",
    "AP3s.append(AP3s2)\n",
    "AP6s.append(AP6s2)\n",
    "trainingTime.append(trainingTime2)\n",
    "qTime.append(qTime2)"
   ]
  },
  {
   "cell_type": "code",
   "execution_count": 18,
   "id": "defined-monkey",
   "metadata": {
    "scrolled": true
   },
   "outputs": [
    {
     "name": "stdout",
     "output_type": "stream",
     "text": [
      "View matrix loaded in 0.5632004737854004 seconds.\n",
      "Number of users which should be deleted: 97264\n",
      "Number products which should be deleted: 252\n",
      "Number of users which should be deleted: 56\n",
      "Number products which should be deleted: 3\n",
      "Number of users which should be deleted: 2\n",
      "Number products which should be deleted: 1\n",
      "Number of users which should be deleted: 1\n",
      "Number products which should be deleted: 0\n",
      "Number of users which should be deleted: 0\n",
      "Number products which should be deleted: 0\n",
      "matrix has been made dense in 2.6304516792297363 seconds.\n",
      "test_shape (20924, 766) train_shape (which we cant process bc of RAM) (12823, 766)\n",
      "total cells 47966 number of deleted cells 20924\n"
     ]
    },
    {
     "name": "stderr",
     "output_type": "stream",
     "text": [
      "128it [00:00, 1275.07it/s]"
     ]
    },
    {
     "name": "stdout",
     "output_type": "stream",
     "text": [
      "test_shape (20924, 766) train_shape (which we cant process bc of RAM) (12823, 766)\n",
      "total cells 47966 number of deleted cells 9593\n"
     ]
    },
    {
     "name": "stderr",
     "output_type": "stream",
     "text": [
      "47966it [00:44, 1080.89it/s]\n"
     ]
    },
    {
     "name": "stdout",
     "output_type": "stream",
     "text": [
      "------alphas, itrs, factors------ 100 15 5\n",
      "ALS model is fitted in 0.568993330001831 seconds.\n",
      "annoy time: 0.10844016075134277\n",
      "training and querry time: 0.568993330001831 0.10844016075134277\n"
     ]
    },
    {
     "name": "stderr",
     "output_type": "stream",
     "text": [
      "100%|██████████| 20924/20924 [00:01<00:00, 17222.65it/s]\n",
      "  7%|▋         | 1496/20924 [00:00<00:01, 14953.56it/s]"
     ]
    },
    {
     "name": "stdout",
     "output_type": "stream",
     "text": [
      "visited3s 0.5763427409897585\n"
     ]
    },
    {
     "name": "stderr",
     "output_type": "stream",
     "text": [
      "100%|██████████| 20924/20924 [00:01<00:00, 14967.29it/s]\n",
      "  3%|▎         | 730/20924 [00:00<00:02, 7296.51it/s]"
     ]
    },
    {
     "name": "stdout",
     "output_type": "stream",
     "text": [
      "visited6s 0.6992677142782686\n"
     ]
    },
    {
     "name": "stderr",
     "output_type": "stream",
     "text": [
      "100%|██████████| 20924/20924 [00:02<00:00, 7104.59it/s]\n",
      "  3%|▎         | 631/20924 [00:00<00:03, 6304.53it/s]"
     ]
    },
    {
     "name": "stdout",
     "output_type": "stream",
     "text": [
      "4907 9593 0.5115188158031898\n",
      "hitRate3s 0.5115188158031898\n"
     ]
    },
    {
     "name": "stderr",
     "output_type": "stream",
     "text": [
      "100%|██████████| 20924/20924 [00:02<00:00, 7109.98it/s]\n"
     ]
    },
    {
     "name": "stdout",
     "output_type": "stream",
     "text": [
      "5565 9593 0.580110497237569\n",
      "hitRate6s 0.580110497237569\n"
     ]
    },
    {
     "name": "stderr",
     "output_type": "stream",
     "text": [
      "  1%|          | 151/20924 [00:00<00:13, 1506.78it/s]"
     ]
    },
    {
     "name": "stdout",
     "output_type": "stream",
     "text": [
      "ALS model is fitted in 0.5671510696411133 seconds.\n"
     ]
    },
    {
     "name": "stderr",
     "output_type": "stream",
     "text": [
      "100%|██████████| 20924/20924 [00:06<00:00, 3165.98it/s]\n",
      "  3%|▎         | 590/20924 [00:00<00:06, 2986.09it/s]"
     ]
    },
    {
     "name": "stdout",
     "output_type": "stream",
     "text": [
      "6135 20924 0.2932039762951634\n",
      "AP3s 0.2932039762951634\n"
     ]
    },
    {
     "name": "stderr",
     "output_type": "stream",
     "text": [
      "100%|██████████| 20924/20924 [00:06<00:00, 3220.38it/s]\n"
     ]
    },
    {
     "name": "stdout",
     "output_type": "stream",
     "text": [
      "11231 20924 0.5367520550563946\n",
      "AP6s 0.5367520550563946\n",
      "------alphas, itrs, factors------ 100 15 10\n",
      "ALS model is fitted in 0.8463723659515381 seconds.\n",
      "annoy time: 0.1104276180267334\n",
      "training and querry time: 0.8463723659515381 0.1104276180267334\n"
     ]
    },
    {
     "name": "stderr",
     "output_type": "stream",
     "text": [
      "100%|██████████| 20924/20924 [00:01<00:00, 16677.01it/s]\n",
      "  7%|▋         | 1510/20924 [00:00<00:01, 15097.75it/s]"
     ]
    },
    {
     "name": "stdout",
     "output_type": "stream",
     "text": [
      "visited3s 0.7409636984337946\n"
     ]
    },
    {
     "name": "stderr",
     "output_type": "stream",
     "text": [
      "100%|██████████| 20924/20924 [00:01<00:00, 14939.12it/s]\n",
      "  4%|▎         | 737/20924 [00:00<00:02, 7360.58it/s]"
     ]
    },
    {
     "name": "stdout",
     "output_type": "stream",
     "text": [
      "visited6s 0.8610741927918067\n"
     ]
    },
    {
     "name": "stderr",
     "output_type": "stream",
     "text": [
      "100%|██████████| 20924/20924 [00:02<00:00, 7212.79it/s]\n",
      "  4%|▎         | 739/20924 [00:00<00:02, 7384.16it/s]"
     ]
    },
    {
     "name": "stdout",
     "output_type": "stream",
     "text": [
      "6118 9593 0.6377566975919942\n",
      "hitRate3s 0.6377566975919942\n"
     ]
    },
    {
     "name": "stderr",
     "output_type": "stream",
     "text": [
      "100%|██████████| 20924/20924 [00:02<00:00, 7115.26it/s]\n"
     ]
    },
    {
     "name": "stdout",
     "output_type": "stream",
     "text": [
      "6611 9593 0.6891483373293026\n",
      "hitRate6s 0.6891483373293026\n"
     ]
    },
    {
     "name": "stderr",
     "output_type": "stream",
     "text": [
      "  1%|          | 126/20924 [00:00<00:16, 1256.87it/s]"
     ]
    },
    {
     "name": "stdout",
     "output_type": "stream",
     "text": [
      "ALS model is fitted in 0.8153038024902344 seconds.\n"
     ]
    },
    {
     "name": "stderr",
     "output_type": "stream",
     "text": [
      "100%|██████████| 20924/20924 [00:06<00:00, 3172.73it/s]\n",
      "  3%|▎         | 616/20924 [00:00<00:06, 3082.27it/s]"
     ]
    },
    {
     "name": "stdout",
     "output_type": "stream",
     "text": [
      "11335 20924 0.5417224240107054\n",
      "AP3s 0.5417224240107054\n"
     ]
    },
    {
     "name": "stderr",
     "output_type": "stream",
     "text": [
      "100%|██████████| 20924/20924 [00:06<00:00, 3232.94it/s]\n"
     ]
    },
    {
     "name": "stdout",
     "output_type": "stream",
     "text": [
      "14208 20924 0.6790288663735423\n",
      "AP6s 0.6790288663735423\n",
      "------alphas, itrs, factors------ 100 15 20\n",
      "ALS model is fitted in 1.2084286212921143 seconds.\n",
      "annoy time: 0.07975649833679199\n",
      "training and querry time: 1.2084286212921143 0.07975649833679199\n"
     ]
    },
    {
     "name": "stderr",
     "output_type": "stream",
     "text": [
      "100%|██████████| 20924/20924 [00:01<00:00, 16869.82it/s]\n",
      "  6%|▋         | 1310/20924 [00:00<00:01, 13092.27it/s]"
     ]
    },
    {
     "name": "stdout",
     "output_type": "stream",
     "text": [
      "visited3s 0.8433012795455138\n"
     ]
    },
    {
     "name": "stderr",
     "output_type": "stream",
     "text": [
      "100%|██████████| 20924/20924 [00:01<00:00, 14832.56it/s]\n",
      "  4%|▎         | 749/20924 [00:00<00:02, 7486.21it/s]"
     ]
    },
    {
     "name": "stdout",
     "output_type": "stream",
     "text": [
      "visited6s 0.9461340004690798\n"
     ]
    },
    {
     "name": "stderr",
     "output_type": "stream",
     "text": [
      "100%|██████████| 20924/20924 [00:02<00:00, 7258.66it/s]\n",
      "  3%|▎         | 702/20924 [00:00<00:02, 7014.57it/s]"
     ]
    },
    {
     "name": "stdout",
     "output_type": "stream",
     "text": [
      "6615 9593 0.6895653080371104\n",
      "hitRate3s 0.6895653080371104\n"
     ]
    },
    {
     "name": "stderr",
     "output_type": "stream",
     "text": [
      "100%|██████████| 20924/20924 [00:03<00:00, 6684.39it/s]\n"
     ]
    },
    {
     "name": "stdout",
     "output_type": "stream",
     "text": [
      "7071 9593 0.737099968727197\n",
      "hitRate6s 0.737099968727197\n"
     ]
    },
    {
     "name": "stderr",
     "output_type": "stream",
     "text": [
      "  1%|          | 132/20924 [00:00<00:15, 1316.32it/s]"
     ]
    },
    {
     "name": "stdout",
     "output_type": "stream",
     "text": [
      "ALS model is fitted in 1.113363265991211 seconds.\n"
     ]
    },
    {
     "name": "stderr",
     "output_type": "stream",
     "text": [
      "100%|██████████| 20924/20924 [00:06<00:00, 3218.92it/s]\n",
      "  1%|▏         | 307/20924 [00:00<00:06, 3061.49it/s]"
     ]
    },
    {
     "name": "stdout",
     "output_type": "stream",
     "text": [
      "13627 20924 0.6512617090422481\n",
      "AP3s 0.6512617090422481\n"
     ]
    },
    {
     "name": "stderr",
     "output_type": "stream",
     "text": [
      "100%|██████████| 20924/20924 [00:06<00:00, 3254.79it/s]\n"
     ]
    },
    {
     "name": "stdout",
     "output_type": "stream",
     "text": [
      "15861 20924 0.758029057541579\n",
      "AP6s 0.758029057541579\n",
      "------alphas, itrs, factors------ 100 15 40\n",
      "ALS model is fitted in 7.215578556060791 seconds.\n",
      "annoy time: 0.10552859306335449\n",
      "training and querry time: 7.215578556060791 0.10552859306335449\n"
     ]
    },
    {
     "name": "stderr",
     "output_type": "stream",
     "text": [
      "100%|██████████| 20924/20924 [00:01<00:00, 16936.18it/s]\n",
      "  7%|▋         | 1454/20924 [00:00<00:01, 14535.65it/s]"
     ]
    },
    {
     "name": "stdout",
     "output_type": "stream",
     "text": [
      "visited3s 0.9163734917780731\n"
     ]
    },
    {
     "name": "stderr",
     "output_type": "stream",
     "text": [
      "100%|██████████| 20924/20924 [00:01<00:00, 14929.72it/s]\n",
      "  4%|▎         | 743/20924 [00:00<00:02, 7422.27it/s]"
     ]
    },
    {
     "name": "stdout",
     "output_type": "stream",
     "text": [
      "visited6s 0.9866833450603288\n"
     ]
    },
    {
     "name": "stderr",
     "output_type": "stream",
     "text": [
      "100%|██████████| 20924/20924 [00:02<00:00, 7203.45it/s]\n",
      "  3%|▎         | 702/20924 [00:00<00:02, 7017.43it/s]"
     ]
    },
    {
     "name": "stdout",
     "output_type": "stream",
     "text": [
      "6768 9593 0.7055144376107578\n",
      "hitRate3s 0.7055144376107578\n"
     ]
    },
    {
     "name": "stderr",
     "output_type": "stream",
     "text": [
      "100%|██████████| 20924/20924 [00:02<00:00, 7139.34it/s]\n"
     ]
    },
    {
     "name": "stdout",
     "output_type": "stream",
     "text": [
      "7243 9593 0.7550297091629313\n",
      "hitRate6s 0.7550297091629313\n"
     ]
    },
    {
     "name": "stderr",
     "output_type": "stream",
     "text": [
      "\r",
      "  0%|          | 0/20924 [00:00<?, ?it/s]"
     ]
    },
    {
     "name": "stdout",
     "output_type": "stream",
     "text": [
      "ALS model is fitted in 8.174510717391968 seconds.\n"
     ]
    },
    {
     "name": "stderr",
     "output_type": "stream",
     "text": [
      "100%|██████████| 20924/20924 [00:06<00:00, 3230.14it/s]\n",
      "  3%|▎         | 649/20924 [00:00<00:06, 3256.21it/s]"
     ]
    },
    {
     "name": "stdout",
     "output_type": "stream",
     "text": [
      "13699 20924 0.6547027337029249\n",
      "AP3s 0.6547027337029249\n"
     ]
    },
    {
     "name": "stderr",
     "output_type": "stream",
     "text": [
      "100%|██████████| 20924/20924 [00:06<00:00, 3243.57it/s]\n"
     ]
    },
    {
     "name": "stdout",
     "output_type": "stream",
     "text": [
      "16415 20924 0.7845058306251195\n",
      "AP6s 0.7845058306251195\n",
      "------alphas, itrs, factors------ 100 15 60\n",
      "ALS model is fitted in 11.782660007476807 seconds.\n",
      "annoy time: 0.11791777610778809\n",
      "training and querry time: 11.782660007476807 0.11791777610778809\n"
     ]
    },
    {
     "name": "stderr",
     "output_type": "stream",
     "text": [
      "100%|██████████| 20924/20924 [00:01<00:00, 16947.32it/s]\n",
      "  7%|▋         | 1545/20924 [00:00<00:01, 15447.11it/s]"
     ]
    },
    {
     "name": "stdout",
     "output_type": "stream",
     "text": [
      "visited3s 0.9479842597659813\n"
     ]
    },
    {
     "name": "stderr",
     "output_type": "stream",
     "text": [
      "100%|██████████| 20924/20924 [00:01<00:00, 15001.97it/s]\n",
      "  4%|▎         | 734/20924 [00:00<00:02, 7336.60it/s]"
     ]
    },
    {
     "name": "stdout",
     "output_type": "stream",
     "text": [
      "visited6s 0.994371042139004\n"
     ]
    },
    {
     "name": "stderr",
     "output_type": "stream",
     "text": [
      "100%|██████████| 20924/20924 [00:02<00:00, 7082.94it/s]\n",
      "  3%|▎         | 701/20924 [00:00<00:02, 7008.70it/s]"
     ]
    },
    {
     "name": "stdout",
     "output_type": "stream",
     "text": [
      "6693 9593 0.697696236839362\n",
      "hitRate3s 0.697696236839362\n"
     ]
    },
    {
     "name": "stderr",
     "output_type": "stream",
     "text": [
      "100%|██████████| 20924/20924 [00:02<00:00, 7067.71it/s]\n"
     ]
    },
    {
     "name": "stdout",
     "output_type": "stream",
     "text": [
      "7173 9593 0.7477327217762952\n",
      "hitRate6s 0.7477327217762952\n"
     ]
    },
    {
     "name": "stderr",
     "output_type": "stream",
     "text": [
      "\r",
      "  0%|          | 0/20924 [00:00<?, ?it/s]"
     ]
    },
    {
     "name": "stdout",
     "output_type": "stream",
     "text": [
      "ALS model is fitted in 11.530705451965332 seconds.\n"
     ]
    },
    {
     "name": "stderr",
     "output_type": "stream",
     "text": [
      "100%|██████████| 20924/20924 [00:06<00:00, 3214.48it/s]\n",
      "  1%|▏         | 313/20924 [00:00<00:06, 3124.42it/s]"
     ]
    },
    {
     "name": "stdout",
     "output_type": "stream",
     "text": [
      "12265 20924 0.5861689925444465\n",
      "AP3s 0.5861689925444465\n"
     ]
    },
    {
     "name": "stderr",
     "output_type": "stream",
     "text": [
      "100%|██████████| 20924/20924 [00:06<00:00, 3278.03it/s]\n"
     ]
    },
    {
     "name": "stdout",
     "output_type": "stream",
     "text": [
      "16400 20924 0.7837889504874785\n",
      "AP6s 0.7837889504874785\n",
      "------alphas, itrs, factors------ 100 15 100\n",
      "ALS model is fitted in 32.89942002296448 seconds.\n",
      "annoy time: 0.11231637001037598\n",
      "training and querry time: 32.89942002296448 0.11231637001037598\n"
     ]
    },
    {
     "name": "stderr",
     "output_type": "stream",
     "text": [
      "100%|██████████| 20924/20924 [00:01<00:00, 17105.62it/s]\n",
      "  7%|▋         | 1509/20924 [00:00<00:01, 15084.66it/s]"
     ]
    },
    {
     "name": "stdout",
     "output_type": "stream",
     "text": [
      "visited3s 0.9644281135173168\n"
     ]
    },
    {
     "name": "stderr",
     "output_type": "stream",
     "text": [
      "100%|██████████| 20924/20924 [00:01<00:00, 15021.48it/s]\n",
      "  3%|▎         | 684/20924 [00:00<00:02, 6831.63it/s]"
     ]
    },
    {
     "name": "stdout",
     "output_type": "stream",
     "text": [
      "visited6s 0.9963776613764886\n"
     ]
    },
    {
     "name": "stderr",
     "output_type": "stream",
     "text": [
      "100%|██████████| 20924/20924 [00:02<00:00, 7203.93it/s]\n",
      "  3%|▎         | 686/20924 [00:00<00:02, 6859.07it/s]"
     ]
    },
    {
     "name": "stdout",
     "output_type": "stream",
     "text": [
      "6367 9593 0.6637131241530283\n",
      "hitRate3s 0.6637131241530283\n"
     ]
    },
    {
     "name": "stderr",
     "output_type": "stream",
     "text": [
      "100%|██████████| 20924/20924 [00:02<00:00, 7195.63it/s]\n"
     ]
    },
    {
     "name": "stdout",
     "output_type": "stream",
     "text": [
      "6864 9593 0.7155217345981445\n",
      "hitRate6s 0.7155217345981445\n"
     ]
    },
    {
     "name": "stderr",
     "output_type": "stream",
     "text": [
      "\r",
      "  0%|          | 0/20924 [00:00<?, ?it/s]"
     ]
    },
    {
     "name": "stdout",
     "output_type": "stream",
     "text": [
      "ALS model is fitted in 34.933690309524536 seconds.\n"
     ]
    },
    {
     "name": "stderr",
     "output_type": "stream",
     "text": [
      "100%|██████████| 20924/20924 [00:05<00:00, 3501.52it/s]\n",
      "  2%|▏         | 356/20924 [00:00<00:05, 3559.70it/s]"
     ]
    },
    {
     "name": "stdout",
     "output_type": "stream",
     "text": [
      "7929 20924 0.37894284075702545\n",
      "AP3s 0.37894284075702545\n"
     ]
    },
    {
     "name": "stderr",
     "output_type": "stream",
     "text": [
      "100%|██████████| 20924/20924 [00:05<00:00, 3552.96it/s]\n"
     ]
    },
    {
     "name": "stdout",
     "output_type": "stream",
     "text": [
      "11150 20924 0.5328809023131332\n",
      "AP6s 0.5328809023131332\n",
      "View matrix loaded in 0.5216329097747803 seconds.\n",
      "Number of users which should be deleted: 97264\n",
      "Number products which should be deleted: 252\n",
      "Number of users which should be deleted: 56\n",
      "Number products which should be deleted: 3\n",
      "Number of users which should be deleted: 2\n",
      "Number products which should be deleted: 1\n",
      "Number of users which should be deleted: 1\n",
      "Number products which should be deleted: 0\n",
      "Number of users which should be deleted: 0\n",
      "Number products which should be deleted: 0\n",
      "matrix has been made dense in 2.332266092300415 seconds.\n",
      "------alphas, itrs, factors: 100 15 5 ------\n",
      "ALS model is fitted in 0.06283760070800781 seconds.\n",
      "MSE 0.03562478538767191\n",
      "------alphas, itrs, factors: 100 15 10 ------\n",
      "ALS model is fitted in 0.10010719299316406 seconds.\n",
      "MSE 0.02388361826814927\n",
      "------alphas, itrs, factors: 100 15 20 ------\n",
      "ALS model is fitted in 0.15846514701843262 seconds.\n",
      "MSE 0.013714635119574731\n",
      "------alphas, itrs, factors: 100 15 40 ------\n",
      "ALS model is fitted in 1.0894904136657715 seconds.\n",
      "MSE 0.006776714089609138\n",
      "------alphas, itrs, factors: 100 15 60 ------\n",
      "ALS model is fitted in 1.8383703231811523 seconds.\n",
      "MSE 0.00416514252745968\n",
      "------alphas, itrs, factors: 100 15 100 ------\n",
      "ALS model is fitted in 4.435837984085083 seconds.\n",
      "MSE 0.002037526909756016\n"
     ]
    }
   ],
   "source": [
    "visited3s3, visited6s3, hitRate3s3, hitRate6s3, AP3s3, AP6s3, trainingTime3, qTime3 = \\\n",
    "calc_visited_hitRate(alphas3, itrs3, factors3, _l = 2, data_set_size = TEST_SET_SIZE, log = True)\n",
    "MSE3 = calc_mse__(alphas3, itrs3, factors3, _l = 2, data_set_size = TEST_SET_SIZE1, log = True)\n",
    "MSEs.append(MSE3)\n",
    "visited3s.append(visited3s3)\n",
    "visited6s.append(visited6s3)\n",
    "hitRate3s.append(hitRate3s3)\n",
    "hitRate6s.append(hitRate6s3)\n",
    "AP3s.append(AP3s3)\n",
    "AP6s.append(AP6s3)\n",
    "trainingTime.append(trainingTime3)\n",
    "qTime.append(qTime3)"
   ]
  },
  {
   "cell_type": "code",
   "execution_count": 19,
   "id": "raising-heater",
   "metadata": {
    "scrolled": true
   },
   "outputs": [
    {
     "name": "stdout",
     "output_type": "stream",
     "text": [
      "View matrix loaded in 0.6338238716125488 seconds.\n",
      "Number of users which should be deleted: 97264\n",
      "Number products which should be deleted: 252\n",
      "Number of users which should be deleted: 56\n",
      "Number products which should be deleted: 3\n",
      "Number of users which should be deleted: 2\n",
      "Number products which should be deleted: 1\n",
      "Number of users which should be deleted: 1\n",
      "Number products which should be deleted: 0\n",
      "Number of users which should be deleted: 0\n",
      "Number products which should be deleted: 0\n",
      "matrix has been made dense in 2.230806589126587 seconds.\n",
      "test_shape (20924, 766) train_shape (which we cant process bc of RAM) (12823, 766)\n",
      "total cells 47966 number of deleted cells 20924\n"
     ]
    },
    {
     "name": "stderr",
     "output_type": "stream",
     "text": [
      "162it [00:00, 1619.42it/s]"
     ]
    },
    {
     "name": "stdout",
     "output_type": "stream",
     "text": [
      "test_shape (20924, 766) train_shape (which we cant process bc of RAM) (12823, 766)\n",
      "total cells 47966 number of deleted cells 9593\n"
     ]
    },
    {
     "name": "stderr",
     "output_type": "stream",
     "text": [
      "47966it [00:37, 1275.10it/s]\n"
     ]
    },
    {
     "name": "stdout",
     "output_type": "stream",
     "text": [
      "------alphas, itrs, factors------ 1000 15 5\n",
      "ALS model is fitted in 0.5516479015350342 seconds.\n",
      "annoy time: 0.10460495948791504\n",
      "training and querry time: 0.5516479015350342 0.10460495948791504\n"
     ]
    },
    {
     "name": "stderr",
     "output_type": "stream",
     "text": [
      "100%|██████████| 20924/20924 [00:01<00:00, 18255.06it/s]\n",
      "  8%|▊         | 1649/20924 [00:00<00:01, 16485.38it/s]"
     ]
    },
    {
     "name": "stdout",
     "output_type": "stream",
     "text": [
      "visited3s 0.5192453026867849\n"
     ]
    },
    {
     "name": "stderr",
     "output_type": "stream",
     "text": [
      "100%|██████████| 20924/20924 [00:01<00:00, 16181.75it/s]\n",
      "  4%|▍         | 798/20924 [00:00<00:02, 7970.98it/s]"
     ]
    },
    {
     "name": "stdout",
     "output_type": "stream",
     "text": [
      "visited6s 0.6898339978630809\n"
     ]
    },
    {
     "name": "stderr",
     "output_type": "stream",
     "text": [
      "100%|██████████| 20924/20924 [00:02<00:00, 7757.01it/s]\n",
      "  4%|▍         | 786/20924 [00:00<00:02, 7853.02it/s]"
     ]
    },
    {
     "name": "stdout",
     "output_type": "stream",
     "text": [
      "3601 9593 0.3753778797039508\n",
      "hitRate3s 0.3753778797039508\n"
     ]
    },
    {
     "name": "stderr",
     "output_type": "stream",
     "text": [
      "100%|██████████| 20924/20924 [00:02<00:00, 7724.60it/s]\n"
     ]
    },
    {
     "name": "stdout",
     "output_type": "stream",
     "text": [
      "4656 9593 0.48535390388825184\n",
      "hitRate6s 0.48535390388825184\n"
     ]
    },
    {
     "name": "stderr",
     "output_type": "stream",
     "text": [
      "  1%|          | 148/20924 [00:00<00:14, 1479.65it/s]"
     ]
    },
    {
     "name": "stdout",
     "output_type": "stream",
     "text": [
      "ALS model is fitted in 0.5558016300201416 seconds.\n"
     ]
    },
    {
     "name": "stderr",
     "output_type": "stream",
     "text": [
      "100%|██████████| 20924/20924 [00:05<00:00, 3488.88it/s]\n",
      "  2%|▏         | 355/20924 [00:00<00:05, 3541.44it/s]"
     ]
    },
    {
     "name": "stdout",
     "output_type": "stream",
     "text": [
      "2289 20924 0.10939590900401452\n",
      "AP3s 0.10939590900401452\n"
     ]
    },
    {
     "name": "stderr",
     "output_type": "stream",
     "text": [
      "100%|██████████| 20924/20924 [00:05<00:00, 3557.19it/s]\n"
     ]
    },
    {
     "name": "stdout",
     "output_type": "stream",
     "text": [
      "4044 20924 0.19327088510800994\n",
      "AP6s 0.19327088510800994\n",
      "------alphas, itrs, factors------ 1000 15 10\n",
      "ALS model is fitted in 0.7925419807434082 seconds.\n",
      "annoy time: 0.09645867347717285\n",
      "training and querry time: 0.7925419807434082 0.09645867347717285\n"
     ]
    },
    {
     "name": "stderr",
     "output_type": "stream",
     "text": [
      "100%|██████████| 20924/20924 [00:01<00:00, 18203.63it/s]\n",
      "  8%|▊         | 1610/20924 [00:00<00:01, 16097.44it/s]"
     ]
    },
    {
     "name": "stdout",
     "output_type": "stream",
     "text": [
      "visited3s 0.7520652542152034\n"
     ]
    },
    {
     "name": "stderr",
     "output_type": "stream",
     "text": [
      "100%|██████████| 20924/20924 [00:01<00:00, 16312.45it/s]\n",
      "  4%|▍         | 792/20924 [00:00<00:02, 7915.76it/s]"
     ]
    },
    {
     "name": "stdout",
     "output_type": "stream",
     "text": [
      "visited6s 0.8659213509498866\n"
     ]
    },
    {
     "name": "stderr",
     "output_type": "stream",
     "text": [
      "100%|██████████| 20924/20924 [00:02<00:00, 7803.96it/s]\n",
      "  4%|▍         | 800/20924 [00:00<00:02, 7996.71it/s]"
     ]
    },
    {
     "name": "stdout",
     "output_type": "stream",
     "text": [
      "5241 9593 0.5463358699051392\n",
      "hitRate3s 0.5463358699051392\n"
     ]
    },
    {
     "name": "stderr",
     "output_type": "stream",
     "text": [
      "100%|██████████| 20924/20924 [00:02<00:00, 7738.23it/s]\n"
     ]
    },
    {
     "name": "stdout",
     "output_type": "stream",
     "text": [
      "6033 9593 0.628896070051079\n",
      "hitRate6s 0.628896070051079\n"
     ]
    },
    {
     "name": "stderr",
     "output_type": "stream",
     "text": [
      "  1%|          | 156/20924 [00:00<00:13, 1557.86it/s]"
     ]
    },
    {
     "name": "stdout",
     "output_type": "stream",
     "text": [
      "ALS model is fitted in 0.7806558609008789 seconds.\n"
     ]
    },
    {
     "name": "stderr",
     "output_type": "stream",
     "text": [
      "100%|██████████| 20924/20924 [00:05<00:00, 3494.64it/s]\n",
      "  2%|▏         | 356/20924 [00:00<00:05, 3554.82it/s]"
     ]
    },
    {
     "name": "stdout",
     "output_type": "stream",
     "text": [
      "2150 20924 0.10275281972854139\n",
      "AP3s 0.10275281972854139\n"
     ]
    },
    {
     "name": "stderr",
     "output_type": "stream",
     "text": [
      "100%|██████████| 20924/20924 [00:05<00:00, 3557.89it/s]\n"
     ]
    },
    {
     "name": "stdout",
     "output_type": "stream",
     "text": [
      "3752 20924 0.17931561842859875\n",
      "AP6s 0.17931561842859875\n",
      "------alphas, itrs, factors------ 1000 15 20\n",
      "ALS model is fitted in 1.1825571060180664 seconds.\n",
      "annoy time: 0.09656357765197754\n",
      "training and querry time: 1.1825571060180664 0.09656357765197754\n"
     ]
    },
    {
     "name": "stderr",
     "output_type": "stream",
     "text": [
      "100%|██████████| 20924/20924 [00:01<00:00, 18263.48it/s]\n",
      "  8%|▊         | 1648/20924 [00:00<00:01, 16472.00it/s]"
     ]
    },
    {
     "name": "stdout",
     "output_type": "stream",
     "text": [
      "visited3s 0.8981575587001277\n"
     ]
    },
    {
     "name": "stderr",
     "output_type": "stream",
     "text": [
      "100%|██████████| 20924/20924 [00:01<00:00, 16285.91it/s]\n",
      "  4%|▎         | 778/20924 [00:00<00:02, 7775.28it/s]"
     ]
    },
    {
     "name": "stdout",
     "output_type": "stream",
     "text": [
      "visited6s 0.9672425924478149\n"
     ]
    },
    {
     "name": "stderr",
     "output_type": "stream",
     "text": [
      "100%|██████████| 20924/20924 [00:02<00:00, 7897.66it/s]\n",
      "  4%|▍         | 792/20924 [00:00<00:02, 7916.08it/s]"
     ]
    },
    {
     "name": "stdout",
     "output_type": "stream",
     "text": [
      "6114 9593 0.6373397268841864\n",
      "hitRate3s 0.6373397268841864\n"
     ]
    },
    {
     "name": "stderr",
     "output_type": "stream",
     "text": [
      "100%|██████████| 20924/20924 [00:02<00:00, 7675.24it/s]\n"
     ]
    },
    {
     "name": "stdout",
     "output_type": "stream",
     "text": [
      "6657 9593 0.693943500469092\n",
      "hitRate6s 0.693943500469092\n"
     ]
    },
    {
     "name": "stderr",
     "output_type": "stream",
     "text": [
      "  1%|          | 166/20924 [00:00<00:12, 1656.42it/s]"
     ]
    },
    {
     "name": "stdout",
     "output_type": "stream",
     "text": [
      "ALS model is fitted in 1.088348627090454 seconds.\n"
     ]
    },
    {
     "name": "stderr",
     "output_type": "stream",
     "text": [
      "100%|██████████| 20924/20924 [00:06<00:00, 3298.92it/s]\n",
      "  1%|          | 164/20924 [00:00<00:12, 1632.54it/s]"
     ]
    },
    {
     "name": "stdout",
     "output_type": "stream",
     "text": [
      "4693 20924 0.22428789906327662\n",
      "AP3s 0.22428789906327662\n"
     ]
    },
    {
     "name": "stderr",
     "output_type": "stream",
     "text": [
      "100%|██████████| 20924/20924 [00:08<00:00, 2582.63it/s]\n"
     ]
    },
    {
     "name": "stdout",
     "output_type": "stream",
     "text": [
      "8835 20924 0.422242401070541\n",
      "AP6s 0.422242401070541\n",
      "------alphas, itrs, factors------ 1000 15 40\n",
      "ALS model is fitted in 8.82245922088623 seconds.\n",
      "annoy time: 0.11563849449157715\n",
      "training and querry time: 8.82245922088623 0.11563849449157715\n"
     ]
    },
    {
     "name": "stderr",
     "output_type": "stream",
     "text": [
      "100%|██████████| 20924/20924 [00:01<00:00, 15078.49it/s]\n",
      "  7%|▋         | 1378/20924 [00:00<00:01, 13768.82it/s]"
     ]
    },
    {
     "name": "stdout",
     "output_type": "stream",
     "text": [
      "visited3s 0.9523623381023115\n"
     ]
    },
    {
     "name": "stderr",
     "output_type": "stream",
     "text": [
      "100%|██████████| 20924/20924 [00:01<00:00, 12848.88it/s]\n",
      "  3%|▎         | 631/20924 [00:00<00:03, 6301.53it/s]"
     ]
    },
    {
     "name": "stdout",
     "output_type": "stream",
     "text": [
      "visited6s 0.9936934823964767\n"
     ]
    },
    {
     "name": "stderr",
     "output_type": "stream",
     "text": [
      "100%|██████████| 20924/20924 [00:03<00:00, 6840.51it/s]\n",
      "  3%|▎         | 690/20924 [00:00<00:02, 6896.27it/s]"
     ]
    },
    {
     "name": "stdout",
     "output_type": "stream",
     "text": [
      "6641 9593 0.6922756176378609\n",
      "hitRate3s 0.6922756176378609\n"
     ]
    },
    {
     "name": "stderr",
     "output_type": "stream",
     "text": [
      "100%|██████████| 20924/20924 [00:03<00:00, 6766.05it/s]\n"
     ]
    },
    {
     "name": "stdout",
     "output_type": "stream",
     "text": [
      "7081 9593 0.7381423954967163\n",
      "hitRate6s 0.7381423954967163\n"
     ]
    },
    {
     "name": "stderr",
     "output_type": "stream",
     "text": [
      "  0%|          | 81/20924 [00:00<00:25, 808.81it/s]"
     ]
    },
    {
     "name": "stdout",
     "output_type": "stream",
     "text": [
      "ALS model is fitted in 6.900501489639282 seconds.\n"
     ]
    },
    {
     "name": "stderr",
     "output_type": "stream",
     "text": [
      "100%|██████████| 20924/20924 [00:06<00:00, 3064.60it/s]\n",
      "  3%|▎         | 630/20924 [00:00<00:06, 3141.23it/s]"
     ]
    },
    {
     "name": "stdout",
     "output_type": "stream",
     "text": [
      "8285 20924 0.3959567960237048\n",
      "AP3s 0.3959567960237048\n"
     ]
    },
    {
     "name": "stderr",
     "output_type": "stream",
     "text": [
      "100%|██████████| 20924/20924 [00:06<00:00, 3249.04it/s]\n"
     ]
    },
    {
     "name": "stdout",
     "output_type": "stream",
     "text": [
      "12931 20924 0.6179984706557063\n",
      "AP6s 0.6179984706557063\n",
      "------alphas, itrs, factors------ 1000 15 60\n",
      "ALS model is fitted in 13.155731678009033 seconds.\n",
      "annoy time: 0.10636615753173828\n",
      "training and querry time: 13.155731678009033 0.10636615753173828\n"
     ]
    },
    {
     "name": "stderr",
     "output_type": "stream",
     "text": [
      "100%|██████████| 20924/20924 [00:01<00:00, 16605.98it/s]\n",
      "  6%|▌         | 1286/20924 [00:00<00:01, 12854.50it/s]"
     ]
    },
    {
     "name": "stdout",
     "output_type": "stream",
     "text": [
      "visited3s 0.9615875745967216\n"
     ]
    },
    {
     "name": "stderr",
     "output_type": "stream",
     "text": [
      "100%|██████████| 20924/20924 [00:01<00:00, 14259.18it/s]\n",
      "  3%|▎         | 723/20924 [00:00<00:02, 7224.84it/s]"
     ]
    },
    {
     "name": "stdout",
     "output_type": "stream",
     "text": [
      "visited6s 0.9958304015844474\n"
     ]
    },
    {
     "name": "stderr",
     "output_type": "stream",
     "text": [
      "100%|██████████| 20924/20924 [00:02<00:00, 7110.97it/s]\n",
      "  4%|▎         | 738/20924 [00:00<00:02, 7379.18it/s]"
     ]
    },
    {
     "name": "stdout",
     "output_type": "stream",
     "text": [
      "6677 9593 0.6960283540081309\n",
      "hitRate3s 0.6960283540081309\n"
     ]
    },
    {
     "name": "stderr",
     "output_type": "stream",
     "text": [
      "100%|██████████| 20924/20924 [00:02<00:00, 7126.73it/s]\n"
     ]
    },
    {
     "name": "stdout",
     "output_type": "stream",
     "text": [
      "7094 9593 0.7394975502970916\n",
      "hitRate6s 0.7394975502970916\n"
     ]
    },
    {
     "name": "stderr",
     "output_type": "stream",
     "text": [
      "\r",
      "  0%|          | 0/20924 [00:00<?, ?it/s]"
     ]
    },
    {
     "name": "stdout",
     "output_type": "stream",
     "text": [
      "ALS model is fitted in 12.713382244110107 seconds.\n"
     ]
    },
    {
     "name": "stderr",
     "output_type": "stream",
     "text": [
      "100%|██████████| 20924/20924 [00:07<00:00, 2722.72it/s]\n",
      "  1%|▏         | 309/20924 [00:00<00:06, 3082.57it/s]"
     ]
    },
    {
     "name": "stdout",
     "output_type": "stream",
     "text": [
      "12091 20924 0.5778531829478111\n",
      "AP3s 0.5778531829478111\n"
     ]
    },
    {
     "name": "stderr",
     "output_type": "stream",
     "text": [
      "100%|██████████| 20924/20924 [00:08<00:00, 2371.27it/s]\n"
     ]
    },
    {
     "name": "stdout",
     "output_type": "stream",
     "text": [
      "14782 20924 0.7064614796406041\n",
      "AP6s 0.7064614796406041\n",
      "------alphas, itrs, factors------ 1000 15 100\n",
      "ALS model is fitted in 56.37625789642334 seconds.\n",
      "annoy time: 0.11852478981018066\n",
      "training and querry time: 56.37625789642334 0.11852478981018066\n"
     ]
    },
    {
     "name": "stderr",
     "output_type": "stream",
     "text": [
      "100%|██████████| 20924/20924 [00:01<00:00, 13373.76it/s]\n",
      "  6%|▋         | 1327/20924 [00:00<00:01, 13262.33it/s]"
     ]
    },
    {
     "name": "stdout",
     "output_type": "stream",
     "text": [
      "visited3s 0.9677116722695646\n"
     ]
    },
    {
     "name": "stderr",
     "output_type": "stream",
     "text": [
      "100%|██████████| 20924/20924 [00:01<00:00, 11776.63it/s]\n",
      "  3%|▎         | 571/20924 [00:00<00:03, 5705.31it/s]"
     ]
    },
    {
     "name": "stdout",
     "output_type": "stream",
     "text": [
      "visited6s 0.9968728011883355\n"
     ]
    },
    {
     "name": "stderr",
     "output_type": "stream",
     "text": [
      "100%|██████████| 20924/20924 [00:03<00:00, 5767.74it/s]\n",
      "  4%|▎         | 745/20924 [00:00<00:02, 7444.08it/s]"
     ]
    },
    {
     "name": "stdout",
     "output_type": "stream",
     "text": [
      "6452 9593 0.6725737516939435\n",
      "hitRate3s 0.6725737516939435\n"
     ]
    },
    {
     "name": "stderr",
     "output_type": "stream",
     "text": [
      "100%|██████████| 20924/20924 [00:03<00:00, 6703.12it/s]\n"
     ]
    },
    {
     "name": "stdout",
     "output_type": "stream",
     "text": [
      "6891 9593 0.7183362868758469\n",
      "hitRate6s 0.7183362868758469\n"
     ]
    },
    {
     "name": "stderr",
     "output_type": "stream",
     "text": [
      "\r",
      "  0%|          | 0/20924 [00:00<?, ?it/s]"
     ]
    },
    {
     "name": "stdout",
     "output_type": "stream",
     "text": [
      "ALS model is fitted in 36.18142056465149 seconds.\n"
     ]
    },
    {
     "name": "stderr",
     "output_type": "stream",
     "text": [
      "100%|██████████| 20924/20924 [00:07<00:00, 2951.16it/s]\n",
      "  3%|▎         | 584/20924 [00:00<00:06, 2922.71it/s]"
     ]
    },
    {
     "name": "stdout",
     "output_type": "stream",
     "text": [
      "8364 20924 0.399732364748614\n",
      "AP3s 0.399732364748614\n"
     ]
    },
    {
     "name": "stderr",
     "output_type": "stream",
     "text": [
      "100%|██████████| 20924/20924 [00:07<00:00, 2869.25it/s]\n"
     ]
    },
    {
     "name": "stdout",
     "output_type": "stream",
     "text": [
      "11135 20924 0.5321640221754923\n",
      "AP6s 0.5321640221754923\n",
      "View matrix loaded in 0.6587073802947998 seconds.\n",
      "Number of users which should be deleted: 97264\n",
      "Number products which should be deleted: 252\n",
      "Number of users which should be deleted: 56\n",
      "Number products which should be deleted: 3\n",
      "Number of users which should be deleted: 2\n",
      "Number products which should be deleted: 1\n",
      "Number of users which should be deleted: 1\n",
      "Number products which should be deleted: 0\n",
      "Number of users which should be deleted: 0\n",
      "Number products which should be deleted: 0\n",
      "matrix has been made dense in 2.554797410964966 seconds.\n",
      "------alphas, itrs, factors: 1000 15 5 ------\n",
      "ALS model is fitted in 0.06412982940673828 seconds.\n",
      "MSE 0.07257215389474142\n",
      "------alphas, itrs, factors: 1000 15 10 ------\n",
      "ALS model is fitted in 0.09806418418884277 seconds.\n",
      "MSE 0.036944065020221344\n",
      "------alphas, itrs, factors: 1000 15 20 ------\n",
      "ALS model is fitted in 0.1584491729736328 seconds.\n",
      "MSE 0.01783775619714766\n",
      "------alphas, itrs, factors: 1000 15 40 ------\n",
      "ALS model is fitted in 1.2524359226226807 seconds.\n",
      "MSE 0.007806482518611975\n",
      "------alphas, itrs, factors: 1000 15 60 ------\n",
      "ALS model is fitted in 2.503772497177124 seconds.\n",
      "MSE 0.004588123713478601\n",
      "------alphas, itrs, factors: 1000 15 100 ------\n",
      "ALS model is fitted in 6.15969181060791 seconds.\n",
      "MSE 0.0021695310603975036\n"
     ]
    }
   ],
   "source": [
    "visited3s4, visited6s4, hitRate3s4, hitRate6s4, AP3s4, AP6s4, trainingTime4, qTime4 = \\\n",
    "calc_visited_hitRate(alphas4, itrs4, factors4, _l = 2, data_set_size = TEST_SET_SIZE, log = True)\n",
    "MSE4 = calc_mse__(alphas4, itrs4, factors4, _l = 2, data_set_size = TEST_SET_SIZE1, log = True)\n",
    "MSEs.append(MSE4)\n",
    "visited3s.append(visited3s4)\n",
    "visited6s.append(visited6s4)\n",
    "hitRate3s.append(hitRate3s4)\n",
    "hitRate6s.append(hitRate6s4)\n",
    "AP3s.append(AP3s4)\n",
    "AP6s.append(AP6s4)\n",
    "trainingTime.append(trainingTime4)\n",
    "qTime.append(qTime4)"
   ]
  },
  {
   "cell_type": "code",
   "execution_count": 20,
   "id": "agreed-front",
   "metadata": {},
   "outputs": [],
   "source": [
    "MSEs = np.array(MSEs).reshape(24)\n",
    "visited3s = np.array(visited3s).reshape(24)\n",
    "visited6s = np.array(visited6s).reshape(24)\n",
    "hitRate3s = np.array(hitRate3s).reshape(24)\n",
    "hitRate6s = np.array(hitRate6s).reshape(24)\n",
    "AP3s = np.array(AP3s).reshape(24)\n",
    "AP6s = np.array(AP6s).reshape(24)\n",
    "trainingTime = np.array(trainingTime).reshape(24)\n",
    "qTime = np.array(qTime).reshape(24)"
   ]
  },
  {
   "cell_type": "code",
   "execution_count": 21,
   "id": "honest-leonard",
   "metadata": {},
   "outputs": [
    {
     "data": {
      "text/plain": [
       "24"
      ]
     },
     "execution_count": 21,
     "metadata": {},
     "output_type": "execute_result"
    }
   ],
   "source": [
    "len(trainingTime)"
   ]
  },
  {
   "cell_type": "code",
   "execution_count": 22,
   "id": "virgin-penalty",
   "metadata": {},
   "outputs": [],
   "source": [
    "import prettytable\n",
    "x = prettytable.PrettyTable([\"Hyperparameters\", \"MSE\", \"Visited@6\", \"Visited@3\", \"HitRate@6\", \"HitRate@3\", \"AP@6\", \"AP@3\"])\n",
    "for i in range(24):\n",
    "    x.add_row([str('alpha:' + str(alphas[i]) + ', factors:' + str(factors[i])), round(MSEs[i], 7), round(visited6s[i], 4), round(visited3s[i], 4), round(hitRate6s[i], 4), round(hitRate3s[i], 4), round(AP6s[i], 4), round(AP3s[i], 4)])\n",
    "y = prettytable.PrettyTable([\"Hyperparameters\", \"MSE\", \"Query time\", 'Training Time'])\n",
    "for i in range(24):\n",
    "    y.add_row([str('alpha:' + str(alphas[i]) + ', factors:' + str(factors[i])), round(MSEs[i], 7), round(qTime[i], 4), round(trainingTime[i], 4)])"
   ]
  },
  {
   "cell_type": "code",
   "execution_count": 23,
   "id": "distinct-attempt",
   "metadata": {},
   "outputs": [
    {
     "name": "stdout",
     "output_type": "stream",
     "text": [
      "iterations: 15\n",
      "+-------------------------+-----------+-----------+-----------+-----------+-----------+--------+--------+\n",
      "|     Hyperparameters     |    MSE    | Visited@6 | Visited@3 | HitRate@6 | HitRate@3 |  AP@6  |  AP@3  |\n",
      "+-------------------------+-----------+-----------+-----------+-----------+-----------+--------+--------+\n",
      "|   alpha:0.1, factors:5  | 0.0033384 |   0.3229  |   0.2839  |   0.2738  |   0.2532  | 0.2076 | 0.1822 |\n",
      "|  alpha:0.1, factors:10  | 0.0026622 |   0.4537  |   0.3988  |   0.3233  |   0.2843  | 0.2688 | 0.225  |\n",
      "|  alpha:0.1, factors:20  | 0.0021518 |   0.6241  |   0.5651  |   0.4252  |   0.3938  | 0.3179 | 0.2706 |\n",
      "|  alpha:0.1, factors:40  | 0.0016055 |   0.7193  |   0.6705  |   0.3114  |   0.277   | 0.225  | 0.1829 |\n",
      "|  alpha:0.1, factors:60  | 0.0013165 |   0.7841  |   0.7411  |   0.2761  |   0.2534  | 0.2009 | 0.1585 |\n",
      "|  alpha:0.1, factors:100 | 0.0009253 |   0.8514  |   0.8124  |   0.179   |   0.1482  | 0.1221 | 0.0889 |\n",
      "|   alpha:10, factors:5   | 0.0065253 |   0.6242  |   0.4762  |   0.5129  |   0.4403  | 0.5654 | 0.4615 |\n",
      "|   alpha:10, factors:10  |  0.005737 |   0.7399  |   0.638   |   0.6111  |   0.5515  | 0.6712 | 0.5842 |\n",
      "|   alpha:10, factors:20  | 0.0045648 |   0.8617  |   0.7759  |   0.6976  |   0.6478  | 0.7518 | 0.6626 |\n",
      "|   alpha:10, factors:40  | 0.0032175 |   0.937   |   0.8627  |   0.7256  |   0.6786  | 0.6632 | 0.5195 |\n",
      "|   alpha:10, factors:60  | 0.0024029 |   0.9667  |   0.9063  |   0.7232  |   0.6752  | 0.5508 | 0.4125 |\n",
      "|  alpha:10, factors:100  | 0.0014487 |   0.9856  |   0.9421  |   0.695   |   0.6209  | 0.4183 | 0.3179 |\n",
      "|   alpha:100, factors:5  | 0.0356248 |   0.6993  |   0.5763  |   0.5801  |   0.5115  | 0.5368 | 0.2932 |\n",
      "|  alpha:100, factors:10  | 0.0238836 |   0.8611  |   0.741   |   0.6891  |   0.6378  | 0.679  | 0.5417 |\n",
      "|  alpha:100, factors:20  | 0.0137146 |   0.9461  |   0.8433  |   0.7371  |   0.6896  | 0.758  | 0.6513 |\n",
      "|  alpha:100, factors:40  | 0.0067767 |   0.9867  |   0.9164  |   0.755   |   0.7055  | 0.7845 | 0.6547 |\n",
      "|  alpha:100, factors:60  | 0.0041651 |   0.9944  |   0.948   |   0.7477  |   0.6977  | 0.7838 | 0.5862 |\n",
      "|  alpha:100, factors:100 | 0.0020375 |   0.9964  |   0.9644  |   0.7155  |   0.6637  | 0.5329 | 0.3789 |\n",
      "|  alpha:1000, factors:5  | 0.0725722 |   0.6898  |   0.5192  |   0.4854  |   0.3754  | 0.1933 | 0.1094 |\n",
      "|  alpha:1000, factors:10 | 0.0369441 |   0.8659  |   0.7521  |   0.6289  |   0.5463  | 0.1793 | 0.1028 |\n",
      "|  alpha:1000, factors:20 | 0.0178378 |   0.9672  |   0.8982  |   0.6939  |   0.6373  | 0.4222 | 0.2243 |\n",
      "|  alpha:1000, factors:40 | 0.0078065 |   0.9937  |   0.9524  |   0.7381  |   0.6923  | 0.618  | 0.396  |\n",
      "|  alpha:1000, factors:60 | 0.0045881 |   0.9958  |   0.9616  |   0.7395  |   0.696   | 0.7065 | 0.5779 |\n",
      "| alpha:1000, factors:100 | 0.0021695 |   0.9969  |   0.9677  |   0.7183  |   0.6726  | 0.5322 | 0.3997 |\n",
      "+-------------------------+-----------+-----------+-----------+-----------+-----------+--------+--------+\n",
      "+-------------------------+-----------+------------+---------------+\n",
      "|     Hyperparameters     |    MSE    | Query time | Training Time |\n",
      "+-------------------------+-----------+------------+---------------+\n",
      "|   alpha:0.1, factors:5  | 0.0033384 |   0.1415   |     0.5817    |\n",
      "|  alpha:0.1, factors:10  | 0.0026622 |   0.1587   |     0.9025    |\n",
      "|  alpha:0.1, factors:20  | 0.0021518 |   0.1281   |     1.3318    |\n",
      "|  alpha:0.1, factors:40  | 0.0016055 |   0.146    |     7.4996    |\n",
      "|  alpha:0.1, factors:60  | 0.0013165 |   0.1329   |    12.4093    |\n",
      "|  alpha:0.1, factors:100 | 0.0009253 |   0.1332   |    35.0182    |\n",
      "|   alpha:10, factors:5   | 0.0065253 |   0.1455   |     0.6706    |\n",
      "|   alpha:10, factors:10  |  0.005737 |   0.1054   |     0.8618    |\n",
      "|   alpha:10, factors:20  | 0.0045648 |   0.0957   |     1.5217    |\n",
      "|   alpha:10, factors:40  | 0.0032175 |   0.1415   |     9.7327    |\n",
      "|   alpha:10, factors:60  | 0.0024029 |   0.1141   |    11.7791    |\n",
      "|  alpha:10, factors:100  | 0.0014487 |   0.1141   |    33.0892    |\n",
      "|   alpha:100, factors:5  | 0.0356248 |   0.1084   |     0.569     |\n",
      "|  alpha:100, factors:10  | 0.0238836 |   0.1104   |     0.8464    |\n",
      "|  alpha:100, factors:20  | 0.0137146 |   0.0798   |     1.2084    |\n",
      "|  alpha:100, factors:40  | 0.0067767 |   0.1055   |     7.2156    |\n",
      "|  alpha:100, factors:60  | 0.0041651 |   0.1179   |    11.7827    |\n",
      "|  alpha:100, factors:100 | 0.0020375 |   0.1123   |    32.8994    |\n",
      "|  alpha:1000, factors:5  | 0.0725722 |   0.1046   |     0.5516    |\n",
      "|  alpha:1000, factors:10 | 0.0369441 |   0.0965   |     0.7925    |\n",
      "|  alpha:1000, factors:20 | 0.0178378 |   0.0966   |     1.1826    |\n",
      "|  alpha:1000, factors:40 | 0.0078065 |   0.1156   |     8.8225    |\n",
      "|  alpha:1000, factors:60 | 0.0045881 |   0.1064   |    13.1557    |\n",
      "| alpha:1000, factors:100 | 0.0021695 |   0.1185   |    56.3763    |\n",
      "+-------------------------+-----------+------------+---------------+\n"
     ]
    }
   ],
   "source": [
    "print(\"iterations: 15\")\n",
    "print(x)\n",
    "print(y)\n",
    "data = x.get_string()\n",
    "with open(RESULTS + 'ALSacc_hyperparameters_' + WEB_SITE_NAME + '.txt', 'w') as f:\n",
    "    f.write(data)\n",
    "data = y.get_string()\n",
    "with open(RESULTS + 'ALStime_hyperparameters_' + WEB_SITE_NAME + '.txt', 'w') as f:\n",
    "    f.write(data)"
   ]
  },
  {
   "cell_type": "code",
   "execution_count": 24,
   "id": "preliminary-snake",
   "metadata": {},
   "outputs": [
    {
     "data": {
      "image/png": "[encoded data removed]",
      "text/plain": [
       "<Figure size 432x288 with 1 Axes>"
      ]
     },
     "metadata": {
      "needs_background": "light"
     },
     "output_type": "display_data"
    }
   ],
   "source": [
    "plt.plot(factors[:6], visited6s[:6], label='alpha = 10')\n",
    "plt.plot(factors[6:12], visited6s[6:12], label='alpha = 10')\n",
    "plt.plot(factors[12:18], visited6s[12:18], label='alpha = 100')\n",
    "plt.plot(factors[18:24], visited6s[18:24], label='alpha = 1000')\n",
    "plt.title(\"Visited@6 w.r.t hyperparameters \" + WEB_SITE_NAME)\n",
    "plt.xlabel('#features')\n",
    "plt.xticks([5,10,15,20,25,30,35,40,50,60,70,80,90,100])\n",
    "plt.legend()\n",
    "plt.savefig(RESULTS + 'visited@6_hyperparameters_' + WEB_SITE_NAME + '.png', dpi=400)"
   ]
  },
  {
   "cell_type": "code",
   "execution_count": 25,
   "id": "resident-billion",
   "metadata": {},
   "outputs": [
    {
     "data": {
      "image/png": "[encoded data removed]",
      "text/plain": [
       "<Figure size 432x288 with 1 Axes>"
      ]
     },
     "metadata": {
      "needs_background": "light"
     },
     "output_type": "display_data"
    }
   ],
   "source": [
    "plt.plot(factors[:6], hitRate6s[:6], label='alpha = 0.1')\n",
    "plt.plot(factors[6:12], hitRate6s[6:12], label='alpha = 10')\n",
    "plt.plot(factors[12:18], hitRate6s[12:18], label='alpha = 100')\n",
    "plt.plot(factors[18:24], hitRate6s[18:24], label='alpha = 1000')\n",
    "plt.title(\"Hitrate@6 w.r.t hyperparameters \" + WEB_SITE_NAME)\n",
    "plt.xlabel('#features')\n",
    "plt.xticks([5,10,15,20,25,30,35,40,50,60,70,80,90,100])\n",
    "plt.legend()\n",
    "plt.savefig(RESULTS + 'hitrate@6_hyperparameters_' + WEB_SITE_NAME + '.png', dpi=400)"
   ]
  },
  {
   "cell_type": "code",
   "execution_count": 26,
   "id": "crazy-collectible",
   "metadata": {},
   "outputs": [
    {
     "data": {
      "image/png": "[encoded data removed]",
      "text/plain": [
       "<Figure size 432x288 with 1 Axes>"
      ]
     },
     "metadata": {
      "needs_background": "light"
     },
     "output_type": "display_data"
    }
   ],
   "source": [
    "plt.plot(factors[:6], MSEs[:6], label='alpha = 0.1')\n",
    "plt.plot(factors[6:12], MSEs[6:12], label='alpha = 10')\n",
    "plt.plot(factors[12:18], MSEs[12:18], label='alpha = 100')\n",
    "plt.plot(factors[18:24], MSEs[18:24], label='alpha = 1000')\n",
    "plt.title(\"MSE w.r.t hyperparameters \" + WEB_SITE_NAME)\n",
    "plt.xlabel('#features')\n",
    "plt.xticks([5,10,15,20,25,30,35,40,50,60,70,80,90,100])\n",
    "plt.legend()\n",
    "plt.savefig(RESULTS + 'MSE_hyperparameters_' + WEB_SITE_NAME + '.png', dpi=400)"
   ]
  },
  {
   "cell_type": "code",
   "execution_count": 27,
   "id": "enhanced-heavy",
   "metadata": {},
   "outputs": [
    {
     "data": {
      "image/png": "[encoded data removed]",
      "text/plain": [
       "<Figure size 432x288 with 1 Axes>"
      ]
     },
     "metadata": {
      "needs_background": "light"
     },
     "output_type": "display_data"
    }
   ],
   "source": [
    "plt.plot(factors[:6], qTime[:6], label='alpha = 0.1')\n",
    "plt.plot(factors[6:12], qTime[6:12], label='alpha = 10')\n",
    "plt.plot(factors[12:18], qTime[12:18], label='alpha = 100')\n",
    "plt.plot(factors[18:24], qTime[18:24], label='alpha = 1000')\n",
    "plt.title(\"Query time w.r.t hyperparameters \" + WEB_SITE_NAME)\n",
    "plt.xlabel('#features')\n",
    "plt.xticks([5,10,15,20,25,30,35,40,50,60,70,80,90,100])\n",
    "plt.legend()\n",
    "plt.savefig(RESULTS + 'querytime_hyperparameters_' + WEB_SITE_NAME + '.png', dpi=400)"
   ]
  },
  {
   "cell_type": "code",
   "execution_count": 28,
   "id": "weighted-tracy",
   "metadata": {},
   "outputs": [
    {
     "data": {
      "image/png": "[encoded data removed]",
      "text/plain": [
       "<Figure size 432x288 with 1 Axes>"
      ]
     },
     "metadata": {
      "needs_background": "light"
     },
     "output_type": "display_data"
    }
   ],
   "source": [
    "plt.plot(factors[:6], trainingTime[:6], label='alpha = 0.1')\n",
    "plt.plot(factors[6:12], trainingTime[6:12], label='alpha = 10')\n",
    "plt.plot(factors[12:18], trainingTime[12:18], label='alpha = 100')\n",
    "plt.plot(factors[18:24], trainingTime[18:24], label='alpha = 1000')\n",
    "plt.title(\"Training time w.r.t hyperparameters \" + WEB_SITE_NAME)\n",
    "plt.xlabel('#features')\n",
    "plt.xticks([5,10,15,20,25,30,35,40,50,60,70,80,90,100])\n",
    "plt.legend()\n",
    "plt.savefig(RESULTS + 'trainingtime_hyperparameters_' + WEB_SITE_NAME + '.png', dpi=400)"
   ]
  },
  {
   "cell_type": "code",
   "execution_count": null,
   "id": "approximate-extra",
   "metadata": {},
   "outputs": [],
   "source": []
  }
 ],
 "metadata": {
  "kernelspec": {
   "display_name": "Python 3",
   "language": "python",
   "name": "python3"
  },
  "language_info": {
   "codemirror_mode": {
    "name": "ipython",
    "version": 3
   },
   "file_extension": ".py",
   "mimetype": "text/x-python",
   "name": "python",
   "nbconvert_exporter": "python",
   "pygments_lexer": "ipython3",
   "version": "3.8.5"
  }
 },
 "nbformat": 4,
 "nbformat_minor": 5
}
